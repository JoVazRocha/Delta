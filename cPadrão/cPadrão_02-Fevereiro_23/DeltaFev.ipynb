{
 "cells": [
  {
   "cell_type": "code",
   "execution_count": 1,
   "metadata": {},
   "outputs": [],
   "source": [
    "import pandas as pd"
   ]
  },
  {
   "cell_type": "markdown",
   "metadata": {},
   "source": [
    "# Ler e Mudar nomes"
   ]
  },
  {
   "cell_type": "code",
   "execution_count": 2,
   "metadata": {},
   "outputs": [],
   "source": [
    "dfAllStocks=pd.read_excel(\"Stocks_fev.xlsx\", sheet_name=\"Sheet1\")\n",
    "\n",
    "dfNinjas=pd.read_excel(\"Resultado Sonae_fevereiro 23.xlsx\")\n",
    "\n",
    "dfAllSellouts=pd.read_excel(\"SellOut_fev.xlsx\")\n",
    "\n",
    "\n",
    "dfNinjas = dfNinjas.rename(columns={' Data de Resposta': 'DATA', \"Código da loja\":\"STORE\"})\n",
    "dfAllSellouts = dfAllSellouts.rename(columns={'Data': 'DATA', \"LojaEntreposto\":\"STORE\"})"
   ]
  },
  {
   "cell_type": "markdown",
   "metadata": {},
   "source": [
    "# VER"
   ]
  },
  {
   "cell_type": "code",
   "execution_count": 3,
   "metadata": {
    "scrolled": true
   },
   "outputs": [
    {
     "data": {
      "text/plain": [
       "82865"
      ]
     },
     "execution_count": 3,
     "metadata": {},
     "output_type": "execute_result"
    }
   ],
   "source": [
    "len(dfAllStocks[\"DATA\"])"
   ]
  },
  {
   "cell_type": "code",
   "execution_count": 18,
   "metadata": {},
   "outputs": [],
   "source": [
    "#dfNinjas.info()\n",
    "nomesProd=dfNinjas.columns[4:4+n]"
   ]
  },
  {
   "cell_type": "code",
   "execution_count": 5,
   "metadata": {
    "collapsed": true
   },
   "outputs": [
    {
     "name": "stdout",
     "output_type": "stream",
     "text": [
      "<class 'pandas.core.frame.DataFrame'>\n",
      "RangeIndex: 39530 entries, 0 to 39529\n",
      "Data columns (total 9 columns):\n",
      "DATA           39530 non-null object\n",
      "STORE          39530 non-null object\n",
      "Loja           39530 non-null object\n",
      "Unnamed: 3     391 non-null object\n",
      "DscArtigo      39530 non-null object\n",
      "Ean            39530 non-null int64\n",
      "Quant          39530 non-null int64\n",
      "Valor          39530 non-null float64\n",
      "ValorOnline    39530 non-null float64\n",
      "dtypes: float64(2), int64(2), object(5)\n",
      "memory usage: 2.7+ MB\n"
     ]
    }
   ],
   "source": [
    "dfAllSellouts.info()"
   ]
  },
  {
   "cell_type": "markdown",
   "metadata": {},
   "source": [
    "# Mudar para datetime os que forem precisos e remover L's e 0's"
   ]
  },
  {
   "cell_type": "code",
   "execution_count": 6,
   "metadata": {},
   "outputs": [],
   "source": [
    "dfAllStocks['DATA'] = pd.to_datetime(dfAllStocks['DATA'])\n",
    "dfAllSellouts['DATA'] = pd.to_datetime(dfAllSellouts['DATA'])\n",
    "\n",
    "dfAllSellouts['STORE'] = dfAllSellouts['STORE'].str.replace('L', '')\n",
    "dfAllSellouts['STORE'] = dfAllSellouts['STORE'].astype('int')"
   ]
  },
  {
   "cell_type": "markdown",
   "metadata": {},
   "source": [
    "# Código para SOH"
   ]
  },
  {
   "cell_type": "code",
   "execution_count": 7,
   "metadata": {},
   "outputs": [
    {
     "name": "stdout",
     "output_type": "stream",
     "text": [
      "Número colunas que não são produto: 5\n",
      "A partir de qual coluna aparece produto: 5\n"
     ]
    }
   ],
   "source": [
    "#n= input(\"Número de colunas: \")\n",
    "x= input(\"Número colunas que não são produto: \")\n",
    "y= input(\"A partir de qual coluna aparece produto: \")\n",
    "\n",
    "n=len(dfNinjas.columns)-int(x)                              #Para automatizar, 6 colunas sem produtos\n",
    "dfResult=dfNinjas                                           #Dados Delta\n",
    "\n",
    "for i in range (1,int(n)+1):                                #Quantos dados\n",
    "    #coluna=input(\"Nome da coluna %s \" % str(i))            #Nome do café\n",
    "    coluna=dfNinjas.columns[int(y)+i-2]                     #Para automatizar os produtos aparecem a partir da 5ª coluna\n",
    "    \n",
    "    dfStocks=dfAllStocks[dfAllStocks[\"DESC_ARTIGO\"]==coluna][[\"DATA\", \"STORE\", \"SOH\", \"PRES_STOCK\", \"INTRANSIT\", \"EXPECTED\"]]   #Dados Ninjas, seleccionar colunas do café específico\n",
    "    \n",
    "    dfResult=pd.merge(dfResult, dfStocks, how=\"left\", on = [\"DATA\",\"STORE\"])            #Juntar dados de acordo com o dia e a loja\n",
    "    dfResult=dfResult.rename(columns={\"SOH\": \"STOCK %s\" % coluna, \"PRES_STOCK\":\"Preslinear %s\" % coluna, \"INTRANSIT\":\"INTRANSIT %s\" % coluna, \"EXPECTED\":\"EXPECTED %s\" % coluna})                       #Nomear coluna nova\n",
    "    \n",
    "    "
   ]
  },
  {
   "cell_type": "code",
   "execution_count": 8,
   "metadata": {
    "collapsed": true
   },
   "outputs": [
    {
     "name": "stdout",
     "output_type": "stream",
     "text": [
      "<class 'pandas.core.frame.DataFrame'>\n",
      "Int64Index: 141 entries, 0 to 140\n",
      "Data columns (total 30 columns):\n",
      "Hora da visita                                         141 non-null object\n",
      "DATA                                                   141 non-null datetime64[ns]\n",
      "Loja                                                   141 non-null object\n",
      "STORE                                                  141 non-null int64\n",
      "PACK CAFÉ DELTA Q GRAND MYTHIQ 72+8 CAP                141 non-null int64\n",
      "PACK CAFÉ DELTA Q GRAND EPIQ 72+8 CAP                  141 non-null int64\n",
      "PACK CAFÉ DELTA Q GRAND QALIDUS 72+8 CAP               141 non-null int64\n",
      "CAFÉ DELTA PORTUGAL MU 220G                            141 non-null int64\n",
      "CAFÉ SOLÚVEL DELTA FRASCO 200G                         141 non-null int64\n",
      "Quantidade de produtos Delta presentes                 141 non-null int64\n",
      "STOCK PACK CAFÉ DELTA Q GRAND MYTHIQ 72+8 CAP          141 non-null int64\n",
      "Preslinear PACK CAFÉ DELTA Q GRAND MYTHIQ 72+8 CAP     141 non-null int64\n",
      "INTRANSIT PACK CAFÉ DELTA Q GRAND MYTHIQ 72+8 CAP      141 non-null int64\n",
      "EXPECTED PACK CAFÉ DELTA Q GRAND MYTHIQ 72+8 CAP       141 non-null int64\n",
      "STOCK PACK CAFÉ DELTA Q GRAND EPIQ 72+8 CAP            140 non-null float64\n",
      "Preslinear PACK CAFÉ DELTA Q GRAND EPIQ 72+8 CAP       140 non-null float64\n",
      "INTRANSIT PACK CAFÉ DELTA Q GRAND EPIQ 72+8 CAP        140 non-null float64\n",
      "EXPECTED PACK CAFÉ DELTA Q GRAND EPIQ 72+8 CAP         140 non-null float64\n",
      "STOCK PACK CAFÉ DELTA Q GRAND QALIDUS 72+8 CAP         141 non-null int64\n",
      "Preslinear PACK CAFÉ DELTA Q GRAND QALIDUS 72+8 CAP    141 non-null int64\n",
      "INTRANSIT PACK CAFÉ DELTA Q GRAND QALIDUS 72+8 CAP     141 non-null int64\n",
      "EXPECTED PACK CAFÉ DELTA Q GRAND QALIDUS 72+8 CAP      141 non-null int64\n",
      "STOCK CAFÉ DELTA PORTUGAL MU 220G                      141 non-null int64\n",
      "Preslinear CAFÉ DELTA PORTUGAL MU 220G                 141 non-null int64\n",
      "INTRANSIT CAFÉ DELTA PORTUGAL MU 220G                  141 non-null int64\n",
      "EXPECTED CAFÉ DELTA PORTUGAL MU 220G                   141 non-null int64\n",
      "STOCK CAFÉ SOLÚVEL DELTA FRASCO 200G                   132 non-null float64\n",
      "Preslinear CAFÉ SOLÚVEL DELTA FRASCO 200G              132 non-null float64\n",
      "INTRANSIT CAFÉ SOLÚVEL DELTA FRASCO 200G               132 non-null float64\n",
      "EXPECTED CAFÉ SOLÚVEL DELTA FRASCO 200G                132 non-null float64\n",
      "dtypes: datetime64[ns](1), float64(8), int64(19), object(2)\n",
      "memory usage: 34.1+ KB\n"
     ]
    }
   ],
   "source": [
    "dfResult.info()"
   ]
  },
  {
   "cell_type": "markdown",
   "metadata": {},
   "source": [
    "# Quantidade de Sellout"
   ]
  },
  {
   "cell_type": "code",
   "execution_count": 9,
   "metadata": {},
   "outputs": [],
   "source": [
    "#n= input(\"Número de colunas: \")\n",
    "\n",
    "n=len(dfNinjas.columns)-int(x)                              #Para automatizar, x colunas sem produtos\n",
    "dfResult2=dfResult                                          #Dados Delta\n",
    "\n",
    "for i in range (1,int(n)+1):                                #Quantos dados\n",
    "    #coluna=input(\"Nome da coluna %s \" % str(i))            #Nome do café\n",
    "    coluna=dfNinjas.columns[int(y)+i-2]                     #Para automatizar os produtos aparecem a partir da 5ª coluna\n",
    "    \n",
    "    dfSellouts=dfAllSellouts[dfAllSellouts[\"DscArtigo\"]==coluna][[\"DATA\", \"STORE\", \"Quant\", \"Valor\"]]   #Dados Ninjas, seleccionar colunas do café específico\n",
    "    \n",
    "    dfResult2=pd.merge(dfResult2, dfSellouts, how=\"left\", on = [\"DATA\",\"STORE\"])            #Juntar dados de acordo com o dia e a loja\n",
    "    dfResult2=dfResult2.rename(columns={\"Quant\": \"Quantidade de %s\" % coluna, \"Valor\": \"Valor de %s\" % coluna})                       #Nomear coluna nova\n",
    "    "
   ]
  },
  {
   "cell_type": "code",
   "execution_count": 10,
   "metadata": {
    "collapsed": true
   },
   "outputs": [
    {
     "data": {
      "text/html": [
       "<div>\n",
       "<style scoped>\n",
       "    .dataframe tbody tr th:only-of-type {\n",
       "        vertical-align: middle;\n",
       "    }\n",
       "\n",
       "    .dataframe tbody tr th {\n",
       "        vertical-align: top;\n",
       "    }\n",
       "\n",
       "    .dataframe thead th {\n",
       "        text-align: right;\n",
       "    }\n",
       "</style>\n",
       "<table border=\"1\" class=\"dataframe\">\n",
       "  <thead>\n",
       "    <tr style=\"text-align: right;\">\n",
       "      <th></th>\n",
       "      <th>Hora da visita</th>\n",
       "      <th>DATA</th>\n",
       "      <th>Loja</th>\n",
       "      <th>STORE</th>\n",
       "      <th>PACK CAFÉ DELTA Q GRAND MYTHIQ 72+8 CAP</th>\n",
       "      <th>PACK CAFÉ DELTA Q GRAND EPIQ 72+8 CAP</th>\n",
       "      <th>PACK CAFÉ DELTA Q GRAND QALIDUS 72+8 CAP</th>\n",
       "      <th>CAFÉ DELTA PORTUGAL MU 220G</th>\n",
       "      <th>CAFÉ SOLÚVEL DELTA FRASCO 200G</th>\n",
       "      <th>Quantidade de produtos Delta presentes</th>\n",
       "      <th>...</th>\n",
       "      <th>Quantidade de PACK CAFÉ DELTA Q GRAND MYTHIQ 72+8 CAP</th>\n",
       "      <th>Valor de PACK CAFÉ DELTA Q GRAND MYTHIQ 72+8 CAP</th>\n",
       "      <th>Quantidade de PACK CAFÉ DELTA Q GRAND EPIQ 72+8 CAP</th>\n",
       "      <th>Valor de PACK CAFÉ DELTA Q GRAND EPIQ 72+8 CAP</th>\n",
       "      <th>Quantidade de PACK CAFÉ DELTA Q GRAND QALIDUS 72+8 CAP</th>\n",
       "      <th>Valor de PACK CAFÉ DELTA Q GRAND QALIDUS 72+8 CAP</th>\n",
       "      <th>Quantidade de CAFÉ DELTA PORTUGAL MU 220G</th>\n",
       "      <th>Valor de CAFÉ DELTA PORTUGAL MU 220G</th>\n",
       "      <th>Quantidade de CAFÉ SOLÚVEL DELTA FRASCO 200G</th>\n",
       "      <th>Valor de CAFÉ SOLÚVEL DELTA FRASCO 200G</th>\n",
       "    </tr>\n",
       "  </thead>\n",
       "  <tbody>\n",
       "    <tr>\n",
       "      <th>0</th>\n",
       "      <td>09:59:00</td>\n",
       "      <td>2023-02-25</td>\n",
       "      <td>Continente Amadora</td>\n",
       "      <td>2</td>\n",
       "      <td>1</td>\n",
       "      <td>1</td>\n",
       "      <td>1</td>\n",
       "      <td>1</td>\n",
       "      <td>1</td>\n",
       "      <td>5</td>\n",
       "      <td>...</td>\n",
       "      <td>11.0</td>\n",
       "      <td>227.59</td>\n",
       "      <td>8.0</td>\n",
       "      <td>165.52</td>\n",
       "      <td>15.0</td>\n",
       "      <td>310.35</td>\n",
       "      <td>23.0</td>\n",
       "      <td>54.97</td>\n",
       "      <td>23.0</td>\n",
       "      <td>89.47</td>\n",
       "    </tr>\n",
       "    <tr>\n",
       "      <th>1</th>\n",
       "      <td>13:17:00</td>\n",
       "      <td>2023-02-24</td>\n",
       "      <td>Continente Antas</td>\n",
       "      <td>14</td>\n",
       "      <td>1</td>\n",
       "      <td>1</td>\n",
       "      <td>1</td>\n",
       "      <td>1</td>\n",
       "      <td>1</td>\n",
       "      <td>5</td>\n",
       "      <td>...</td>\n",
       "      <td>1.0</td>\n",
       "      <td>20.69</td>\n",
       "      <td>2.0</td>\n",
       "      <td>41.38</td>\n",
       "      <td>2.0</td>\n",
       "      <td>41.38</td>\n",
       "      <td>8.0</td>\n",
       "      <td>19.12</td>\n",
       "      <td>14.0</td>\n",
       "      <td>54.46</td>\n",
       "    </tr>\n",
       "    <tr>\n",
       "      <th>2</th>\n",
       "      <td>19:29:00</td>\n",
       "      <td>2023-02-26</td>\n",
       "      <td>Continente Aveiro</td>\n",
       "      <td>458</td>\n",
       "      <td>1</td>\n",
       "      <td>0</td>\n",
       "      <td>1</td>\n",
       "      <td>1</td>\n",
       "      <td>0</td>\n",
       "      <td>3</td>\n",
       "      <td>...</td>\n",
       "      <td>4.0</td>\n",
       "      <td>82.76</td>\n",
       "      <td>5.0</td>\n",
       "      <td>103.45</td>\n",
       "      <td>3.0</td>\n",
       "      <td>62.07</td>\n",
       "      <td>10.0</td>\n",
       "      <td>23.90</td>\n",
       "      <td>3.0</td>\n",
       "      <td>11.67</td>\n",
       "    </tr>\n",
       "    <tr>\n",
       "      <th>3</th>\n",
       "      <td>19:58:00</td>\n",
       "      <td>2023-02-25</td>\n",
       "      <td>Continente Barreiro</td>\n",
       "      <td>927</td>\n",
       "      <td>0</td>\n",
       "      <td>0</td>\n",
       "      <td>0</td>\n",
       "      <td>1</td>\n",
       "      <td>1</td>\n",
       "      <td>2</td>\n",
       "      <td>...</td>\n",
       "      <td>1.0</td>\n",
       "      <td>20.69</td>\n",
       "      <td>1.0</td>\n",
       "      <td>20.69</td>\n",
       "      <td>3.0</td>\n",
       "      <td>62.07</td>\n",
       "      <td>4.0</td>\n",
       "      <td>9.56</td>\n",
       "      <td>3.0</td>\n",
       "      <td>11.67</td>\n",
       "    </tr>\n",
       "    <tr>\n",
       "      <th>4</th>\n",
       "      <td>18:59:00</td>\n",
       "      <td>2023-02-25</td>\n",
       "      <td>Continente Beja</td>\n",
       "      <td>207</td>\n",
       "      <td>1</td>\n",
       "      <td>1</td>\n",
       "      <td>1</td>\n",
       "      <td>1</td>\n",
       "      <td>1</td>\n",
       "      <td>5</td>\n",
       "      <td>...</td>\n",
       "      <td>13.0</td>\n",
       "      <td>268.97</td>\n",
       "      <td>NaN</td>\n",
       "      <td>NaN</td>\n",
       "      <td>10.0</td>\n",
       "      <td>206.90</td>\n",
       "      <td>18.0</td>\n",
       "      <td>43.02</td>\n",
       "      <td>NaN</td>\n",
       "      <td>NaN</td>\n",
       "    </tr>\n",
       "  </tbody>\n",
       "</table>\n",
       "<p>5 rows × 40 columns</p>\n",
       "</div>"
      ],
      "text/plain": [
       "  Hora da visita       DATA                 Loja  STORE  \\\n",
       "0       09:59:00 2023-02-25   Continente Amadora      2   \n",
       "1       13:17:00 2023-02-24     Continente Antas     14   \n",
       "2       19:29:00 2023-02-26    Continente Aveiro    458   \n",
       "3       19:58:00 2023-02-25  Continente Barreiro    927   \n",
       "4       18:59:00 2023-02-25      Continente Beja    207   \n",
       "\n",
       "   PACK CAFÉ DELTA Q GRAND MYTHIQ 72+8 CAP  \\\n",
       "0                                        1   \n",
       "1                                        1   \n",
       "2                                        1   \n",
       "3                                        0   \n",
       "4                                        1   \n",
       "\n",
       "   PACK CAFÉ DELTA Q GRAND EPIQ 72+8 CAP  \\\n",
       "0                                      1   \n",
       "1                                      1   \n",
       "2                                      0   \n",
       "3                                      0   \n",
       "4                                      1   \n",
       "\n",
       "   PACK CAFÉ DELTA Q GRAND QALIDUS 72+8 CAP  CAFÉ DELTA PORTUGAL MU 220G  \\\n",
       "0                                         1                            1   \n",
       "1                                         1                            1   \n",
       "2                                         1                            1   \n",
       "3                                         0                            1   \n",
       "4                                         1                            1   \n",
       "\n",
       "   CAFÉ SOLÚVEL DELTA FRASCO 200G  Quantidade de produtos Delta presentes  \\\n",
       "0                               1                                       5   \n",
       "1                               1                                       5   \n",
       "2                               0                                       3   \n",
       "3                               1                                       2   \n",
       "4                               1                                       5   \n",
       "\n",
       "                    ...                     \\\n",
       "0                   ...                      \n",
       "1                   ...                      \n",
       "2                   ...                      \n",
       "3                   ...                      \n",
       "4                   ...                      \n",
       "\n",
       "   Quantidade de PACK CAFÉ DELTA Q GRAND MYTHIQ 72+8 CAP  \\\n",
       "0                                               11.0       \n",
       "1                                                1.0       \n",
       "2                                                4.0       \n",
       "3                                                1.0       \n",
       "4                                               13.0       \n",
       "\n",
       "   Valor de PACK CAFÉ DELTA Q GRAND MYTHIQ 72+8 CAP  \\\n",
       "0                                            227.59   \n",
       "1                                             20.69   \n",
       "2                                             82.76   \n",
       "3                                             20.69   \n",
       "4                                            268.97   \n",
       "\n",
       "   Quantidade de PACK CAFÉ DELTA Q GRAND EPIQ 72+8 CAP  \\\n",
       "0                                                8.0     \n",
       "1                                                2.0     \n",
       "2                                                5.0     \n",
       "3                                                1.0     \n",
       "4                                                NaN     \n",
       "\n",
       "   Valor de PACK CAFÉ DELTA Q GRAND EPIQ 72+8 CAP  \\\n",
       "0                                          165.52   \n",
       "1                                           41.38   \n",
       "2                                          103.45   \n",
       "3                                           20.69   \n",
       "4                                             NaN   \n",
       "\n",
       "   Quantidade de PACK CAFÉ DELTA Q GRAND QALIDUS 72+8 CAP  \\\n",
       "0                                               15.0        \n",
       "1                                                2.0        \n",
       "2                                                3.0        \n",
       "3                                                3.0        \n",
       "4                                               10.0        \n",
       "\n",
       "   Valor de PACK CAFÉ DELTA Q GRAND QALIDUS 72+8 CAP  \\\n",
       "0                                             310.35   \n",
       "1                                              41.38   \n",
       "2                                              62.07   \n",
       "3                                              62.07   \n",
       "4                                             206.90   \n",
       "\n",
       "   Quantidade de CAFÉ DELTA PORTUGAL MU 220G  \\\n",
       "0                                       23.0   \n",
       "1                                        8.0   \n",
       "2                                       10.0   \n",
       "3                                        4.0   \n",
       "4                                       18.0   \n",
       "\n",
       "   Valor de CAFÉ DELTA PORTUGAL MU 220G  \\\n",
       "0                                 54.97   \n",
       "1                                 19.12   \n",
       "2                                 23.90   \n",
       "3                                  9.56   \n",
       "4                                 43.02   \n",
       "\n",
       "   Quantidade de CAFÉ SOLÚVEL DELTA FRASCO 200G  \\\n",
       "0                                          23.0   \n",
       "1                                          14.0   \n",
       "2                                           3.0   \n",
       "3                                           3.0   \n",
       "4                                           NaN   \n",
       "\n",
       "   Valor de CAFÉ SOLÚVEL DELTA FRASCO 200G  \n",
       "0                                    89.47  \n",
       "1                                    54.46  \n",
       "2                                    11.67  \n",
       "3                                    11.67  \n",
       "4                                      NaN  \n",
       "\n",
       "[5 rows x 40 columns]"
      ]
     },
     "execution_count": 10,
     "metadata": {},
     "output_type": "execute_result"
    }
   ],
   "source": [
    "dfResult2.head()"
   ]
  },
  {
   "cell_type": "code",
   "execution_count": 11,
   "metadata": {},
   "outputs": [],
   "source": [
    "#dfResult2.to_excel('ficheirosJupyter.xlsx', index=False)"
   ]
  },
  {
   "cell_type": "code",
   "execution_count": 23,
   "metadata": {},
   "outputs": [],
   "source": [
    "nomesProd=dfNinjas.columns[4:4+n]\n",
    "df = pd.melt(dfResult2, id_vars=['DATA', 'STORE'], value_vars=nomesProd, var_name='produtos', value_name='amount')"
   ]
  },
  {
   "cell_type": "code",
   "execution_count": 24,
   "metadata": {},
   "outputs": [
    {
     "data": {
      "text/html": [
       "<div>\n",
       "<style scoped>\n",
       "    .dataframe tbody tr th:only-of-type {\n",
       "        vertical-align: middle;\n",
       "    }\n",
       "\n",
       "    .dataframe tbody tr th {\n",
       "        vertical-align: top;\n",
       "    }\n",
       "\n",
       "    .dataframe thead th {\n",
       "        text-align: right;\n",
       "    }\n",
       "</style>\n",
       "<table border=\"1\" class=\"dataframe\">\n",
       "  <thead>\n",
       "    <tr style=\"text-align: right;\">\n",
       "      <th></th>\n",
       "      <th>DATA</th>\n",
       "      <th>STORE</th>\n",
       "      <th>produtos</th>\n",
       "      <th>amount</th>\n",
       "    </tr>\n",
       "  </thead>\n",
       "  <tbody>\n",
       "    <tr>\n",
       "      <th>0</th>\n",
       "      <td>2023-02-25</td>\n",
       "      <td>2</td>\n",
       "      <td>PACK CAFÉ DELTA Q GRAND MYTHIQ 72+8 CAP</td>\n",
       "      <td>1</td>\n",
       "    </tr>\n",
       "    <tr>\n",
       "      <th>1</th>\n",
       "      <td>2023-02-24</td>\n",
       "      <td>14</td>\n",
       "      <td>PACK CAFÉ DELTA Q GRAND MYTHIQ 72+8 CAP</td>\n",
       "      <td>1</td>\n",
       "    </tr>\n",
       "    <tr>\n",
       "      <th>2</th>\n",
       "      <td>2023-02-26</td>\n",
       "      <td>458</td>\n",
       "      <td>PACK CAFÉ DELTA Q GRAND MYTHIQ 72+8 CAP</td>\n",
       "      <td>1</td>\n",
       "    </tr>\n",
       "    <tr>\n",
       "      <th>3</th>\n",
       "      <td>2023-02-25</td>\n",
       "      <td>927</td>\n",
       "      <td>PACK CAFÉ DELTA Q GRAND MYTHIQ 72+8 CAP</td>\n",
       "      <td>0</td>\n",
       "    </tr>\n",
       "    <tr>\n",
       "      <th>4</th>\n",
       "      <td>2023-02-25</td>\n",
       "      <td>207</td>\n",
       "      <td>PACK CAFÉ DELTA Q GRAND MYTHIQ 72+8 CAP</td>\n",
       "      <td>1</td>\n",
       "    </tr>\n",
       "  </tbody>\n",
       "</table>\n",
       "</div>"
      ],
      "text/plain": [
       "        DATA  STORE                                 produtos  amount\n",
       "0 2023-02-25      2  PACK CAFÉ DELTA Q GRAND MYTHIQ 72+8 CAP       1\n",
       "1 2023-02-24     14  PACK CAFÉ DELTA Q GRAND MYTHIQ 72+8 CAP       1\n",
       "2 2023-02-26    458  PACK CAFÉ DELTA Q GRAND MYTHIQ 72+8 CAP       1\n",
       "3 2023-02-25    927  PACK CAFÉ DELTA Q GRAND MYTHIQ 72+8 CAP       0\n",
       "4 2023-02-25    207  PACK CAFÉ DELTA Q GRAND MYTHIQ 72+8 CAP       1"
      ]
     },
     "execution_count": 24,
     "metadata": {},
     "output_type": "execute_result"
    }
   ],
   "source": [
    "df.head()"
   ]
  },
  {
   "cell_type": "code",
   "execution_count": 20,
   "metadata": {},
   "outputs": [
    {
     "name": "stderr",
     "output_type": "stream",
     "text": [
      "D:\\Anaconda\\lib\\site-packages\\pandas\\core\\indexing.py:1472: FutureWarning: \n",
      "Passing list-likes to .loc or [] with any missing label will raise\n",
      "KeyError in the future, you can use .reindex() as an alternative.\n",
      "\n",
      "See the documentation here:\n",
      "https://pandas.pydata.org/pandas-docs/stable/indexing.html#deprecate-loc-reindex-listlike\n",
      "  return self._getitem_tuple(key)\n"
     ]
    }
   ],
   "source": [
    "fileLong = pd.melt(dfResult2, id_vars=['Produto'], var_name='Presença', value_name='value',\n",
    "                   value_vars=[\"PACK CAFÉ DELTA Q GRAND MYTHIQ 72+8 CAP\", \"CAFÉ SOLÚVEL DELTA FRASCO 200G\"],\n",
    "                   col_level=None)"
   ]
  }
 ],
 "metadata": {
  "kernelspec": {
   "display_name": "Python 3 (ipykernel)",
   "language": "python",
   "name": "python3"
  },
  "language_info": {
   "codemirror_mode": {
    "name": "ipython",
    "version": 3
   },
   "file_extension": ".py",
   "mimetype": "text/x-python",
   "name": "python",
   "nbconvert_exporter": "python",
   "pygments_lexer": "ipython3",
   "version": "3.10.9"
  }
 },
 "nbformat": 4,
 "nbformat_minor": 2
}
