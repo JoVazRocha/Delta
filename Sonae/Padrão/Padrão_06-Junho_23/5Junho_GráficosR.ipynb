{
 "cells": [
  {
   "cell_type": "code",
   "execution_count": 2,
   "metadata": {},
   "outputs": [],
   "source": [
    "import pandas as pd\n",
    "import numpy as np\n",
    "\n",
    "def escrever_excel(dfa, nome, ind):\n",
    "    dfa.to_excel('D:\\\\B&N Dados\\\\Delta\\\\Padrão\\\\Padrão_06_2023\\\\%s.xlsx' %nome, index=ind)\n",
    "    \n",
    "def escrever_txt(dfa, nome):\n",
    "    dfa.to_csv('D:\\\\B&N Dados\\\\Delta\\\\Padrão\\\\Padrão_06_2023\\\\%s.txt' %nome, sep='\\t', index=False, header=False)"
   ]
  },
  {
   "cell_type": "markdown",
   "metadata": {},
   "source": [
    "***"
   ]
  },
  {
   "cell_type": "markdown",
   "metadata": {},
   "source": [
    "# Ler ficheiros"
   ]
  },
  {
   "cell_type": "code",
   "execution_count": 3,
   "metadata": {},
   "outputs": [],
   "source": [
    "df_Ficheiro=pd.read_excel(\"D:\\\\B&N Dados\\\\Delta\\\\Padrão\\\\Padrão_06_2023\\\\OUT_2_DataFusion.xlsx\")\n",
    "df_Ficheiro2=pd.read_excel(\"D:\\\\B&N Dados\\\\Delta\\\\Padrão\\\\Padrão_06_2023\\\\testes\\\\OUT_2_DataFusion.xlsx\")"
   ]
  },
  {
   "cell_type": "code",
   "execution_count": 4,
   "metadata": {},
   "outputs": [],
   "source": [
    "produtos = pd.read_csv('D:\\\\B&N Dados\\\\Delta\\\\Padrão\\\\Padrão_06_2023\\\\produtos.txt', delimiter='\\t', header=None)\n",
    "produtos = produtos[0].tolist()"
   ]
  },
  {
   "cell_type": "code",
   "execution_count": 5,
   "metadata": {},
   "outputs": [
    {
     "data": {
      "text/plain": [
       "['CAFÉ DELTA Q AQTIVUS 10CAP',\n",
       " 'CAFÉ DELTA Q MYTHIQ 10CAP',\n",
       " 'CAFÉ GINGA 10CAP',\n",
       " 'PACK CAFÉ DELTA Q GRAND QALIDUS 72+8 CAP',\n",
       " 'PACK CAFÉ DELTA Q GRAND MYTHIQ 72+8 CAP',\n",
       " 'PACK CAFÉ DELTA Q GRAND EPIQ 72+8 CAP',\n",
       " 'CAFÉ BELLISSIMO AROMA INTENSO 30CAP',\n",
       " 'CAFÉ MOÍDO MÁQUINA CHÁVENA DELTA 250G',\n",
       " 'CAFÉ DELTA RITUAL MU 220G',\n",
       " 'CAFÉ DELTA MOAGEM UNIVERSAL BRASIL 220G',\n",
       " 'CAFÉ DELTA MOAGEM UNIVERSAL ANGOLA 220G',\n",
       " 'CAFÉ TORRADO RITUAL DELTA GRÃO  500G',\n",
       " 'CAFÉ SOLÚVEL DELTA FRASCO 200G',\n",
       " 'CAFÉ DELTA SOLÚVEL INTENSO 200GR']"
      ]
     },
     "execution_count": 5,
     "metadata": {},
     "output_type": "execute_result"
    }
   ],
   "source": [
    "produtos"
   ]
  },
  {
   "cell_type": "markdown",
   "metadata": {},
   "source": [
    "***"
   ]
  },
  {
   "cell_type": "markdown",
   "metadata": {},
   "source": [
    "# Tabelas"
   ]
  },
  {
   "cell_type": "markdown",
   "metadata": {},
   "source": [
    "# - <span style=\"color:green\">Classic:</span>  Proporção de presença por produto"
   ]
  },
  {
   "cell_type": "code",
   "execution_count": 6,
   "metadata": {},
   "outputs": [],
   "source": [
    "# Média tirando os missing values\n",
    "df_Med = df_Ficheiro[produtos].mean(numeric_only=True)#.groupby('Altura_do_Dia').mean()\n",
    "\n",
    "# Passar para dataframe\n",
    "df_Classic = df_Med.to_frame()\n",
    "\n",
    "# Mudanças para ficar legível\n",
    "df_Classic = df_Classic.reset_index()\n",
    "df_Classic = df_Classic.rename(columns={'index': 'Produto', 0: 'Frequência'})"
   ]
  },
  {
   "cell_type": "raw",
   "metadata": {},
   "source": [
    "import plotly.express as px\n",
    "fig = px.bar(df_Classic, x='Produto', y='Frequência', title='Classic')\n",
    "fig.show()"
   ]
  },
  {
   "cell_type": "markdown",
   "metadata": {},
   "source": [
    "- ###  <span style=\"color:BLUE\">Com e sem Reposição</span>"
   ]
  },
  {
   "cell_type": "code",
   "execution_count": 35,
   "metadata": {},
   "outputs": [],
   "source": [
    "# Definir se os produtos têm reposição\n",
    "\n",
    "# Sim\n",
    "df_ComRep = df_Ficheiro[df_Ficheiro[\"Reposição\"] == 1]\n",
    "\n",
    "# Não\n",
    "df_SemRep = df_Ficheiro[df_Ficheiro[\"Reposição\"] == 0]"
   ]
  },
  {
   "cell_type": "markdown",
   "metadata": {},
   "source": [
    ">> <font color=blue>Com</font>"
   ]
  },
  {
   "cell_type": "code",
   "execution_count": 36,
   "metadata": {},
   "outputs": [],
   "source": [
    "# Proporção\n",
    "serie_MedRep = df_ComRep[produtos].mean(numeric_only=True)\n",
    "\n",
    "# Para df\n",
    "df_Classic_ComRepo = serie_MedRep.to_frame()\n",
    "\n",
    "# Mudanças para ficar legível\n",
    "df_Classic_ComRepo = df_Classic_ComRepo.reset_index()\n",
    "df_Classic_ComRepo = df_Classic_ComRepo.rename(columns={'index': 'Produto', 0: 'Frequência'})"
   ]
  },
  {
   "cell_type": "raw",
   "metadata": {},
   "source": [
    "fig = px.bar(df_Classic_ComRepo, x='Produto', y='Frequência', title='Classic')\n",
    "fig.show()"
   ]
  },
  {
   "cell_type": "markdown",
   "metadata": {},
   "source": [
    "> Sem"
   ]
  },
  {
   "cell_type": "code",
   "execution_count": 37,
   "metadata": {},
   "outputs": [],
   "source": [
    "# Proporção\n",
    "serie_MedSemRep = df_SemRep[produtos].mean(numeric_only=True)\n",
    "\n",
    "# Proporção\n",
    "df_Classic_SemRepo = serie_MedSemRep.to_frame()\n",
    "\n",
    "# Mudanças para ficar legível\n",
    "df_Classic_SemRepo = df_Classic_SemRepo.reset_index()\n",
    "df_Classic_SemRepo = df_Classic_SemRepo.rename(columns={'index': 'Produto', 0: 'Frequência'})"
   ]
  },
  {
   "cell_type": "raw",
   "metadata": {},
   "source": [
    "fig = px.bar(df_Classic_SemRepo, x='Produto', y='Frequência', title='Classic')\n",
    "fig.show()"
   ]
  },
  {
   "cell_type": "markdown",
   "metadata": {},
   "source": [
    "***"
   ]
  },
  {
   "cell_type": "markdown",
   "metadata": {},
   "source": [
    "# - <font color=green> Final</font>: Proporção de presença por loja"
   ]
  },
  {
   "cell_type": "code",
   "execution_count": 38,
   "metadata": {},
   "outputs": [],
   "source": [
    "#com reposição\n",
    "df_Ficheiro[\"Num_ProdutosRep\"] = np.nan\n",
    "df_Ficheiro.loc[df_Ficheiro['Reposição'] == 1, 'Num_ProdutosRep'] = df_Ficheiro[\"Num_Produtos\"]\n",
    "\n",
    "\n",
    "#sem reposição\n",
    "df_Ficheiro[\"Num_ProdutosNRep\"] = np.nan\n",
    "df_Ficheiro.loc[df_Ficheiro['Reposição'] == 0, 'Num_ProdutosNRep'] = df_Ficheiro[\"Num_Produtos\"]\n",
    "\n",
    "# Coluna para ter o número de produtos contratados pela marca\n",
    "df_Ficheiro[\"Produtos_Contratados\"] = df_Ficheiro[produtos].notna().sum(axis=1)"
   ]
  },
  {
   "cell_type": "code",
   "execution_count": 43,
   "metadata": {},
   "outputs": [],
   "source": [
    "'''Fazer colunas de proporção de produtos presentes em loja, depois especificando para quando têm e não têm reposição'''\n",
    "\n",
    "df_NumProd=df_Ficheiro[[\"Loja\",\"Num_Produtos\",\"Num_ProdutosRep\",\"Num_ProdutosNRep\"]].copy()\n",
    "df_NumProd[\"Prop_Produtos\"] = (df_NumProd[\"Num_Produtos\"] / df_Ficheiro[\"Produtos_Contratados\"])*100\n",
    "df_NumProd[\"Prop_ProdutosRep\"] = (df_NumProd[\"Num_ProdutosRep\"] / df_Ficheiro[\"Produtos_Contratados\"])*100\n",
    "df_NumProd[\"Prop_ProdutosNRep\"] = (df_NumProd[\"Num_ProdutosNRep\"] / df_Ficheiro[\"Produtos_Contratados\"])*100"
   ]
  },
  {
   "cell_type": "code",
   "execution_count": 45,
   "metadata": {},
   "outputs": [],
   "source": [
    "# Acrescentar à base original\n",
    "df_Ficheiro[\"Prop_Produtos\"] = df_NumProd[\"Num_Produtos\"]"
   ]
  },
  {
   "cell_type": "raw",
   "metadata": {},
   "source": [
    "escrever_excel(df_Ficheiro, \"OUT_2_DataFusion\", False)"
   ]
  },
  {
   "cell_type": "markdown",
   "metadata": {},
   "source": [
    "***"
   ]
  },
  {
   "cell_type": "markdown",
   "metadata": {},
   "source": [
    "# - <font color=green> Roturas</font>: Proporção de roturas por produto"
   ]
  },
  {
   "cell_type": "code",
   "execution_count": 48,
   "metadata": {},
   "outputs": [],
   "source": [
    "df_RotMed = df_Ficheiro[[\"ROTURA %s\" % produto for produto in produtos]].mean(numeric_only=True)\n",
    "\n",
    "# Passar para dataframe\n",
    "df_Rot = df_RotMed.to_frame()\n",
    "df_Rot = df_Rot.reset_index()\n",
    "df_Rot = df_Rot.rename(columns={'index': 'Produto', 0: 'Frequência'})\n",
    "df_Rot[\"Frequência\"] = df_Rot[\"Frequência\"]*100"
   ]
  },
  {
   "cell_type": "markdown",
   "metadata": {},
   "source": [
    "***"
   ]
  },
  {
   "cell_type": "markdown",
   "metadata": {},
   "source": [
    "# <center><u>Escrever</u></center>"
   ]
  },
  {
   "cell_type": "markdown",
   "metadata": {},
   "source": [
    "### <center><font color=green>Classic</font></center>"
   ]
  },
  {
   "cell_type": "raw",
   "metadata": {},
   "source": [
    "# Normal\n",
    "escrever_excel(df_Classic, \"OUT_5_med\", False)\n",
    "\n",
    "# Com Reposição\n",
    "escrever_excel(df_Classic_ComRepo, \"OUT_5_med_reposto\", False)\n",
    "\n",
    "# Sem Reposição\n",
    "escrever_excel(df_Classic_SemRepo, \"OUT_5_med_naoreposto\", False)"
   ]
  },
  {
   "cell_type": "markdown",
   "metadata": {},
   "source": [
    " "
   ]
  },
  {
   "cell_type": "markdown",
   "metadata": {},
   "source": [
    "### <center><font color=green>Roturas</font></center>"
   ]
  },
  {
   "cell_type": "raw",
   "metadata": {},
   "source": [
    "escrever_excel(df_Rot, \"OUT_5_Rotura\", False)"
   ]
  },
  {
   "cell_type": "markdown",
   "metadata": {},
   "source": [
    " "
   ]
  },
  {
   "cell_type": "markdown",
   "metadata": {},
   "source": [
    "### <center><font color=green>Número de produtos</font></center>"
   ]
  },
  {
   "cell_type": "raw",
   "metadata": {},
   "source": [
    "escrever_excel(df_NumProd, \"OUT_5_NumProdutos\", False)"
   ]
  },
  {
   "cell_type": "markdown",
   "metadata": {},
   "source": [
    "***"
   ]
  },
  {
   "cell_type": "markdown",
   "metadata": {},
   "source": [
    "***"
   ]
  },
  {
   "cell_type": "markdown",
   "metadata": {},
   "source": [
    "***"
   ]
  },
  {
   "cell_type": "markdown",
   "metadata": {},
   "source": [
    "- <font color=red>Perceber coisas<kbd>&darr;</kbd></font>"
   ]
  },
  {
   "cell_type": "code",
   "execution_count": 55,
   "metadata": {
    "collapsed": true
   },
   "outputs": [
    {
     "data": {
      "text/plain": [
       "['0: Loja',\n",
       " '1: STORE',\n",
       " '2: DATA',\n",
       " '3: CAFÉ DELTA Q AQTIVUS 10CAP',\n",
       " '4: CAFÉ DELTA Q MYTHIQ 10CAP',\n",
       " '5: CAFÉ GINGA 10CAP',\n",
       " '6: PACK CAFÉ DELTA Q GRAND QALIDUS 72+8 CAP',\n",
       " '7: PACK CAFÉ DELTA Q GRAND MYTHIQ 72+8 CAP',\n",
       " '8: PACK CAFÉ DELTA Q GRAND EPIQ 72+8 CAP',\n",
       " '9: CAFÉ BELLISSIMO AROMA INTENSO 30CAP',\n",
       " '10: CAFÉ MOÍDO MÁQUINA CHÁVENA DELTA 250G',\n",
       " '11: CAFÉ DELTA RITUAL MU 220G',\n",
       " '12: CAFÉ DELTA MOAGEM UNIVERSAL BRASIL 220G',\n",
       " '13: CAFÉ DELTA MOAGEM UNIVERSAL ANGOLA 220G',\n",
       " '14: CAFÉ TORRADO RITUAL DELTA GRÃO  500G',\n",
       " '15: CAFÉ SOLÚVEL DELTA FRASCO 200G',\n",
       " '16: CAFÉ DELTA SOLÚVEL INTENSO 200GR',\n",
       " '17: Reposição',\n",
       " '18: id',\n",
       " '19: Num_Produtos',\n",
       " '20: Vendedor',\n",
       " '21: STOCK CAFÉ DELTA Q AQTIVUS 10CAP',\n",
       " '22: PRESLINEAR CAFÉ DELTA Q AQTIVUS 10CAP',\n",
       " '23: INTRANSIT CAFÉ DELTA Q AQTIVUS 10CAP',\n",
       " '24: EXPECTED CAFÉ DELTA Q AQTIVUS 10CAP',\n",
       " '25: SELLOUT CAFÉ DELTA Q AQTIVUS 10CAP',\n",
       " '26: STOCK CAFÉ DELTA Q MYTHIQ 10CAP',\n",
       " '27: PRESLINEAR CAFÉ DELTA Q MYTHIQ 10CAP',\n",
       " '28: INTRANSIT CAFÉ DELTA Q MYTHIQ 10CAP',\n",
       " '29: EXPECTED CAFÉ DELTA Q MYTHIQ 10CAP',\n",
       " '30: SELLOUT CAFÉ DELTA Q MYTHIQ 10CAP',\n",
       " '31: STOCK CAFÉ GINGA 10CAP',\n",
       " '32: PRESLINEAR CAFÉ GINGA 10CAP',\n",
       " '33: INTRANSIT CAFÉ GINGA 10CAP',\n",
       " '34: EXPECTED CAFÉ GINGA 10CAP',\n",
       " '35: SELLOUT CAFÉ GINGA 10CAP',\n",
       " '36: STOCK PACK CAFÉ DELTA Q GRAND QALIDUS 72+8 CAP',\n",
       " '37: PRESLINEAR PACK CAFÉ DELTA Q GRAND QALIDUS 72+8 CAP',\n",
       " '38: INTRANSIT PACK CAFÉ DELTA Q GRAND QALIDUS 72+8 CAP',\n",
       " '39: EXPECTED PACK CAFÉ DELTA Q GRAND QALIDUS 72+8 CAP',\n",
       " '40: SELLOUT PACK CAFÉ DELTA Q GRAND QALIDUS 72+8 CAP',\n",
       " '41: STOCK PACK CAFÉ DELTA Q GRAND MYTHIQ 72+8 CAP',\n",
       " '42: PRESLINEAR PACK CAFÉ DELTA Q GRAND MYTHIQ 72+8 CAP',\n",
       " '43: INTRANSIT PACK CAFÉ DELTA Q GRAND MYTHIQ 72+8 CAP',\n",
       " '44: EXPECTED PACK CAFÉ DELTA Q GRAND MYTHIQ 72+8 CAP',\n",
       " '45: SELLOUT PACK CAFÉ DELTA Q GRAND MYTHIQ 72+8 CAP',\n",
       " '46: STOCK PACK CAFÉ DELTA Q GRAND EPIQ 72+8 CAP',\n",
       " '47: PRESLINEAR PACK CAFÉ DELTA Q GRAND EPIQ 72+8 CAP',\n",
       " '48: INTRANSIT PACK CAFÉ DELTA Q GRAND EPIQ 72+8 CAP',\n",
       " '49: EXPECTED PACK CAFÉ DELTA Q GRAND EPIQ 72+8 CAP',\n",
       " '50: SELLOUT PACK CAFÉ DELTA Q GRAND EPIQ 72+8 CAP',\n",
       " '51: STOCK CAFÉ BELLISSIMO AROMA INTENSO 30CAP',\n",
       " '52: PRESLINEAR CAFÉ BELLISSIMO AROMA INTENSO 30CAP',\n",
       " '53: INTRANSIT CAFÉ BELLISSIMO AROMA INTENSO 30CAP',\n",
       " '54: EXPECTED CAFÉ BELLISSIMO AROMA INTENSO 30CAP',\n",
       " '55: SELLOUT CAFÉ BELLISSIMO AROMA INTENSO 30CAP',\n",
       " '56: STOCK CAFÉ MOÍDO MÁQUINA CHÁVENA DELTA 250G',\n",
       " '57: PRESLINEAR CAFÉ MOÍDO MÁQUINA CHÁVENA DELTA 250G',\n",
       " '58: INTRANSIT CAFÉ MOÍDO MÁQUINA CHÁVENA DELTA 250G',\n",
       " '59: EXPECTED CAFÉ MOÍDO MÁQUINA CHÁVENA DELTA 250G',\n",
       " '60: SELLOUT CAFÉ MOÍDO MÁQUINA CHÁVENA DELTA 250G',\n",
       " '61: STOCK CAFÉ DELTA RITUAL MU 220G',\n",
       " '62: PRESLINEAR CAFÉ DELTA RITUAL MU 220G',\n",
       " '63: INTRANSIT CAFÉ DELTA RITUAL MU 220G',\n",
       " '64: EXPECTED CAFÉ DELTA RITUAL MU 220G',\n",
       " '65: SELLOUT CAFÉ DELTA RITUAL MU 220G',\n",
       " '66: STOCK CAFÉ DELTA MOAGEM UNIVERSAL BRASIL 220G',\n",
       " '67: PRESLINEAR CAFÉ DELTA MOAGEM UNIVERSAL BRASIL 220G',\n",
       " '68: INTRANSIT CAFÉ DELTA MOAGEM UNIVERSAL BRASIL 220G',\n",
       " '69: EXPECTED CAFÉ DELTA MOAGEM UNIVERSAL BRASIL 220G',\n",
       " '70: SELLOUT CAFÉ DELTA MOAGEM UNIVERSAL BRASIL 220G',\n",
       " '71: STOCK CAFÉ DELTA MOAGEM UNIVERSAL ANGOLA 220G',\n",
       " '72: PRESLINEAR CAFÉ DELTA MOAGEM UNIVERSAL ANGOLA 220G',\n",
       " '73: INTRANSIT CAFÉ DELTA MOAGEM UNIVERSAL ANGOLA 220G',\n",
       " '74: EXPECTED CAFÉ DELTA MOAGEM UNIVERSAL ANGOLA 220G',\n",
       " '75: SELLOUT CAFÉ DELTA MOAGEM UNIVERSAL ANGOLA 220G',\n",
       " '76: STOCK CAFÉ TORRADO RITUAL DELTA GRÃO  500G',\n",
       " '77: PRESLINEAR CAFÉ TORRADO RITUAL DELTA GRÃO  500G',\n",
       " '78: INTRANSIT CAFÉ TORRADO RITUAL DELTA GRÃO  500G',\n",
       " '79: EXPECTED CAFÉ TORRADO RITUAL DELTA GRÃO  500G',\n",
       " '80: SELLOUT CAFÉ TORRADO RITUAL DELTA GRÃO  500G',\n",
       " '81: STOCK CAFÉ SOLÚVEL DELTA FRASCO 200G',\n",
       " '82: PRESLINEAR CAFÉ SOLÚVEL DELTA FRASCO 200G',\n",
       " '83: INTRANSIT CAFÉ SOLÚVEL DELTA FRASCO 200G',\n",
       " '84: EXPECTED CAFÉ SOLÚVEL DELTA FRASCO 200G',\n",
       " '85: SELLOUT CAFÉ SOLÚVEL DELTA FRASCO 200G',\n",
       " '86: STOCK CAFÉ DELTA SOLÚVEL INTENSO 200GR',\n",
       " '87: PRESLINEAR CAFÉ DELTA SOLÚVEL INTENSO 200GR',\n",
       " '88: INTRANSIT CAFÉ DELTA SOLÚVEL INTENSO 200GR',\n",
       " '89: EXPECTED CAFÉ DELTA SOLÚVEL INTENSO 200GR',\n",
       " '90: SELLOUT CAFÉ DELTA SOLÚVEL INTENSO 200GR',\n",
       " '91: STK CAFÉ DELTA Q AQTIVUS 10CAP',\n",
       " '92: STK CAFÉ DELTA Q MYTHIQ 10CAP',\n",
       " '93: STK CAFÉ GINGA 10CAP',\n",
       " '94: STK PACK CAFÉ DELTA Q GRAND QALIDUS 72+8 CAP',\n",
       " '95: STK PACK CAFÉ DELTA Q GRAND MYTHIQ 72+8 CAP',\n",
       " '96: STK PACK CAFÉ DELTA Q GRAND EPIQ 72+8 CAP',\n",
       " '97: STK CAFÉ BELLISSIMO AROMA INTENSO 30CAP',\n",
       " '98: STK CAFÉ MOÍDO MÁQUINA CHÁVENA DELTA 250G',\n",
       " '99: STK CAFÉ DELTA RITUAL MU 220G',\n",
       " '100: STK CAFÉ DELTA MOAGEM UNIVERSAL BRASIL 220G',\n",
       " '101: STK CAFÉ DELTA MOAGEM UNIVERSAL ANGOLA 220G',\n",
       " '102: STK CAFÉ TORRADO RITUAL DELTA GRÃO  500G',\n",
       " '103: STK CAFÉ SOLÚVEL DELTA FRASCO 200G',\n",
       " '104: STK CAFÉ DELTA SOLÚVEL INTENSO 200GR',\n",
       " '105: BALANCE CAFÉ DELTA Q AQTIVUS 10CAP',\n",
       " '106: BALANCE CAFÉ DELTA Q MYTHIQ 10CAP',\n",
       " '107: BALANCE CAFÉ GINGA 10CAP',\n",
       " '108: BALANCE PACK CAFÉ DELTA Q GRAND QALIDUS 72+8 CAP',\n",
       " '109: BALANCE PACK CAFÉ DELTA Q GRAND MYTHIQ 72+8 CAP',\n",
       " '110: BALANCE PACK CAFÉ DELTA Q GRAND EPIQ 72+8 CAP',\n",
       " '111: BALANCE CAFÉ BELLISSIMO AROMA INTENSO 30CAP',\n",
       " '112: BALANCE CAFÉ MOÍDO MÁQUINA CHÁVENA DELTA 250G',\n",
       " '113: BALANCE CAFÉ DELTA RITUAL MU 220G',\n",
       " '114: BALANCE CAFÉ DELTA MOAGEM UNIVERSAL BRASIL 220G',\n",
       " '115: BALANCE CAFÉ DELTA MOAGEM UNIVERSAL ANGOLA 220G',\n",
       " '116: BALANCE CAFÉ TORRADO RITUAL DELTA GRÃO  500G',\n",
       " '117: BALANCE CAFÉ SOLÚVEL DELTA FRASCO 200G',\n",
       " '118: BALANCE CAFÉ DELTA SOLÚVEL INTENSO 200GR',\n",
       " '119: ROTURA CAFÉ DELTA Q AQTIVUS 10CAP',\n",
       " '120: ROTURA CAFÉ DELTA Q MYTHIQ 10CAP',\n",
       " '121: ROTURA CAFÉ GINGA 10CAP',\n",
       " '122: ROTURA PACK CAFÉ DELTA Q GRAND QALIDUS 72+8 CAP',\n",
       " '123: ROTURA PACK CAFÉ DELTA Q GRAND MYTHIQ 72+8 CAP',\n",
       " '124: ROTURA PACK CAFÉ DELTA Q GRAND EPIQ 72+8 CAP',\n",
       " '125: ROTURA CAFÉ BELLISSIMO AROMA INTENSO 30CAP',\n",
       " '126: ROTURA CAFÉ MOÍDO MÁQUINA CHÁVENA DELTA 250G',\n",
       " '127: ROTURA CAFÉ DELTA RITUAL MU 220G',\n",
       " '128: ROTURA CAFÉ DELTA MOAGEM UNIVERSAL BRASIL 220G',\n",
       " '129: ROTURA CAFÉ DELTA MOAGEM UNIVERSAL ANGOLA 220G',\n",
       " '130: ROTURA CAFÉ TORRADO RITUAL DELTA GRÃO  500G',\n",
       " '131: ROTURA CAFÉ SOLÚVEL DELTA FRASCO 200G',\n",
       " '132: ROTURA CAFÉ DELTA SOLÚVEL INTENSO 200GR',\n",
       " '133: PRÉ-ROTURA CAFÉ DELTA Q AQTIVUS 10CAP',\n",
       " '134: PRÉ-ROTURA CAFÉ DELTA Q MYTHIQ 10CAP',\n",
       " '135: PRÉ-ROTURA CAFÉ GINGA 10CAP',\n",
       " '136: PRÉ-ROTURA PACK CAFÉ DELTA Q GRAND QALIDUS 72+8 CAP',\n",
       " '137: PRÉ-ROTURA PACK CAFÉ DELTA Q GRAND MYTHIQ 72+8 CAP',\n",
       " '138: PRÉ-ROTURA PACK CAFÉ DELTA Q GRAND EPIQ 72+8 CAP',\n",
       " '139: PRÉ-ROTURA CAFÉ BELLISSIMO AROMA INTENSO 30CAP',\n",
       " '140: PRÉ-ROTURA CAFÉ MOÍDO MÁQUINA CHÁVENA DELTA 250G',\n",
       " '141: PRÉ-ROTURA CAFÉ DELTA RITUAL MU 220G',\n",
       " '142: PRÉ-ROTURA CAFÉ DELTA MOAGEM UNIVERSAL BRASIL 220G',\n",
       " '143: PRÉ-ROTURA CAFÉ DELTA MOAGEM UNIVERSAL ANGOLA 220G',\n",
       " '144: PRÉ-ROTURA CAFÉ TORRADO RITUAL DELTA GRÃO  500G',\n",
       " '145: PRÉ-ROTURA CAFÉ SOLÚVEL DELTA FRASCO 200G',\n",
       " '146: PRÉ-ROTURA CAFÉ DELTA SOLÚVEL INTENSO 200GR',\n",
       " '147: SINAL CAFÉ DELTA Q AQTIVUS 10CAP',\n",
       " '148: SINAL CAFÉ DELTA Q MYTHIQ 10CAP',\n",
       " '149: SINAL CAFÉ GINGA 10CAP',\n",
       " '150: SINAL PACK CAFÉ DELTA Q GRAND QALIDUS 72+8 CAP',\n",
       " '151: SINAL PACK CAFÉ DELTA Q GRAND MYTHIQ 72+8 CAP',\n",
       " '152: SINAL PACK CAFÉ DELTA Q GRAND EPIQ 72+8 CAP',\n",
       " '153: SINAL CAFÉ BELLISSIMO AROMA INTENSO 30CAP',\n",
       " '154: SINAL CAFÉ MOÍDO MÁQUINA CHÁVENA DELTA 250G',\n",
       " '155: SINAL CAFÉ DELTA RITUAL MU 220G',\n",
       " '156: SINAL CAFÉ DELTA MOAGEM UNIVERSAL BRASIL 220G',\n",
       " '157: SINAL CAFÉ DELTA MOAGEM UNIVERSAL ANGOLA 220G',\n",
       " '158: SINAL CAFÉ TORRADO RITUAL DELTA GRÃO  500G',\n",
       " '159: SINAL CAFÉ SOLÚVEL DELTA FRASCO 200G',\n",
       " '160: SINAL CAFÉ DELTA SOLÚVEL INTENSO 200GR',\n",
       " '161: CICLO CAFÉ DELTA Q AQTIVUS 10CAP',\n",
       " '162: CICLO CAFÉ DELTA Q MYTHIQ 10CAP',\n",
       " '163: CICLO CAFÉ GINGA 10CAP',\n",
       " '164: CICLO PACK CAFÉ DELTA Q GRAND QALIDUS 72+8 CAP',\n",
       " '165: CICLO PACK CAFÉ DELTA Q GRAND MYTHIQ 72+8 CAP',\n",
       " '166: CICLO PACK CAFÉ DELTA Q GRAND EPIQ 72+8 CAP',\n",
       " '167: CICLO CAFÉ BELLISSIMO AROMA INTENSO 30CAP',\n",
       " '168: CICLO CAFÉ MOÍDO MÁQUINA CHÁVENA DELTA 250G',\n",
       " '169: CICLO CAFÉ DELTA RITUAL MU 220G',\n",
       " '170: CICLO CAFÉ DELTA MOAGEM UNIVERSAL BRASIL 220G',\n",
       " '171: CICLO CAFÉ DELTA MOAGEM UNIVERSAL ANGOLA 220G',\n",
       " '172: CICLO CAFÉ TORRADO RITUAL DELTA GRÃO  500G',\n",
       " '173: CICLO CAFÉ SOLÚVEL DELTA FRASCO 200G',\n",
       " '174: CICLO CAFÉ DELTA SOLÚVEL INTENSO 200GR',\n",
       " '175: ADEQUAÇÃO CAFÉ DELTA Q AQTIVUS 10CAP',\n",
       " '176: ADEQUAÇÃO CAFÉ DELTA Q MYTHIQ 10CAP',\n",
       " '177: ADEQUAÇÃO CAFÉ GINGA 10CAP',\n",
       " '178: ADEQUAÇÃO PACK CAFÉ DELTA Q GRAND QALIDUS 72+8 CAP',\n",
       " '179: ADEQUAÇÃO PACK CAFÉ DELTA Q GRAND MYTHIQ 72+8 CAP',\n",
       " '180: ADEQUAÇÃO PACK CAFÉ DELTA Q GRAND EPIQ 72+8 CAP',\n",
       " '181: ADEQUAÇÃO CAFÉ BELLISSIMO AROMA INTENSO 30CAP',\n",
       " '182: ADEQUAÇÃO CAFÉ MOÍDO MÁQUINA CHÁVENA DELTA 250G',\n",
       " '183: ADEQUAÇÃO CAFÉ DELTA RITUAL MU 220G',\n",
       " '184: ADEQUAÇÃO CAFÉ DELTA MOAGEM UNIVERSAL BRASIL 220G',\n",
       " '185: ADEQUAÇÃO CAFÉ DELTA MOAGEM UNIVERSAL ANGOLA 220G',\n",
       " '186: ADEQUAÇÃO CAFÉ TORRADO RITUAL DELTA GRÃO  500G',\n",
       " '187: ADEQUAÇÃO CAFÉ SOLÚVEL DELTA FRASCO 200G',\n",
       " '188: ADEQUAÇÃO CAFÉ DELTA SOLÚVEL INTENSO 200GR',\n",
       " '189: Dias_para_Rotura CAFÉ DELTA Q AQTIVUS 10CAP',\n",
       " '190: Dias_para_Rotura CAFÉ DELTA Q MYTHIQ 10CAP',\n",
       " '191: Dias_para_Rotura CAFÉ GINGA 10CAP',\n",
       " '192: Dias_para_Rotura PACK CAFÉ DELTA Q GRAND QALIDUS 72+8 CAP',\n",
       " '193: Dias_para_Rotura PACK CAFÉ DELTA Q GRAND MYTHIQ 72+8 CAP',\n",
       " '194: Dias_para_Rotura PACK CAFÉ DELTA Q GRAND EPIQ 72+8 CAP',\n",
       " '195: Dias_para_Rotura CAFÉ BELLISSIMO AROMA INTENSO 30CAP',\n",
       " '196: Dias_para_Rotura CAFÉ MOÍDO MÁQUINA CHÁVENA DELTA 250G',\n",
       " '197: Dias_para_Rotura CAFÉ DELTA RITUAL MU 220G',\n",
       " '198: Dias_para_Rotura CAFÉ DELTA MOAGEM UNIVERSAL BRASIL 220G',\n",
       " '199: Dias_para_Rotura CAFÉ DELTA MOAGEM UNIVERSAL ANGOLA 220G',\n",
       " '200: Dias_para_Rotura CAFÉ TORRADO RITUAL DELTA GRÃO  500G',\n",
       " '201: Dias_para_Rotura CAFÉ SOLÚVEL DELTA FRASCO 200G',\n",
       " '202: Dias_para_Rotura CAFÉ DELTA SOLÚVEL INTENSO 200GR',\n",
       " '203: Dias_para_Rotura_Linear CAFÉ DELTA Q AQTIVUS 10CAP',\n",
       " '204: Dias_para_Rotura_Linear CAFÉ DELTA Q MYTHIQ 10CAP',\n",
       " '205: Dias_para_Rotura_Linear CAFÉ GINGA 10CAP',\n",
       " '206: Dias_para_Rotura_Linear PACK CAFÉ DELTA Q GRAND QALIDUS 72+8 CAP',\n",
       " '207: Dias_para_Rotura_Linear PACK CAFÉ DELTA Q GRAND MYTHIQ 72+8 CAP',\n",
       " '208: Dias_para_Rotura_Linear PACK CAFÉ DELTA Q GRAND EPIQ 72+8 CAP',\n",
       " '209: Dias_para_Rotura_Linear CAFÉ BELLISSIMO AROMA INTENSO 30CAP',\n",
       " '210: Dias_para_Rotura_Linear CAFÉ MOÍDO MÁQUINA CHÁVENA DELTA 250G',\n",
       " '211: Dias_para_Rotura_Linear CAFÉ DELTA RITUAL MU 220G',\n",
       " '212: Dias_para_Rotura_Linear CAFÉ DELTA MOAGEM UNIVERSAL BRASIL 220G',\n",
       " '213: Dias_para_Rotura_Linear CAFÉ DELTA MOAGEM UNIVERSAL ANGOLA 220G',\n",
       " '214: Dias_para_Rotura_Linear CAFÉ TORRADO RITUAL DELTA GRÃO  500G',\n",
       " '215: Dias_para_Rotura_Linear CAFÉ SOLÚVEL DELTA FRASCO 200G',\n",
       " '216: Dias_para_Rotura_Linear CAFÉ DELTA SOLÚVEL INTENSO 200GR',\n",
       " '217: Num_ProdutosRep',\n",
       " '218: Num_ProdutosNRep',\n",
       " '219: Produtos_Contratados',\n",
       " '220: Prop_Produtos']"
      ]
     },
     "execution_count": 55,
     "metadata": {},
     "output_type": "execute_result"
    }
   ],
   "source": [
    "df_columns = df_Ficheiro.columns.tolist()\n",
    "[f\"{index}: {column}\" for index, column in enumerate(df_columns)]\n"
   ]
  },
  {
   "cell_type": "code",
   "execution_count": null,
   "metadata": {},
   "outputs": [],
   "source": [
    "# Qalidus 72+8\n",
    "df_Ficheiro[[\"Loja\",\"STORE\",\"PACK CAFÉ DELTA Q GRAND QALIDUS 72+8 CAP\", \"STOCK PACK CAFÉ DELTA Q GRAND QALIDUS 72+8 CAP\"]][(df_Ficheiro[\"STOCK PACK CAFÉ DELTA Q GRAND QALIDUS 72+8 CAP\"].isna())]"
   ]
  },
  {
   "cell_type": "code",
   "execution_count": null,
   "metadata": {},
   "outputs": [],
   "source": [
    "df_Ficheiro[[\"CAFÉ DELTA SOLÚVEL INTENSO 200GR\", \"STOCK CAFÉ DELTA SOLÚVEL INTENSO 200GR\"]][(df_Ficheiro[\"CAFÉ DELTA SOLÚVEL INTENSO 200GR\"] == 0)]\n",
    "df_Ficheiro[[\"Loja\",\"STORE\",\"CAFÉ DELTA SOLÚVEL INTENSO 200GR\", \"STOCK CAFÉ DELTA SOLÚVEL INTENSO 200GR\"]][(df_Ficheiro[\"STOCK CAFÉ DELTA SOLÚVEL INTENSO 200GR\"].isna()) & (df_Ficheiro[\"CAFÉ DELTA SOLÚVEL INTENSO 200GR\"]==1)]\n"
   ]
  },
  {
   "cell_type": "raw",
   "metadata": {},
   "source": [
    "escrever_excel(qalidus, \"qalidus\", False)"
   ]
  },
  {
   "cell_type": "raw",
   "metadata": {},
   "source": [
    "df_Ficheiro[\"CAFÉ BELLISSIMO AROMA INTENSO 30CAP\"].isna().sum()"
   ]
  },
  {
   "cell_type": "raw",
   "metadata": {},
   "source": [
    "df_Ficheiro.Loja.count()"
   ]
  },
  {
   "cell_type": "markdown",
   "metadata": {},
   "source": [
    "- <font color=red>Perceber coisas<kbd>&uarr;</kbd></font>"
   ]
  }
 ],
 "metadata": {
  "kernelspec": {
   "display_name": "Python 3 (ipykernel)",
   "language": "python",
   "name": "python3"
  },
  "language_info": {
   "codemirror_mode": {
    "name": "ipython",
    "version": 3
   },
   "file_extension": ".py",
   "mimetype": "text/x-python",
   "name": "python",
   "nbconvert_exporter": "python",
   "pygments_lexer": "ipython3",
   "version": "3.10.9"
  }
 },
 "nbformat": 4,
 "nbformat_minor": 2
}
