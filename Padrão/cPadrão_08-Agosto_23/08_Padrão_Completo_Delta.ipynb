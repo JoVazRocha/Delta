{
 "cells": [
  {
   "cell_type": "markdown",
   "metadata": {},
   "source": [
    "# <center>Missão Padrão Delta</center>\n",
    "\n",
    "## <center><u>``Resumo do código``</u></center>\n",
    "\n",
    ">### Entra: \n",
    "> - 1_Ninjas\n",
    "> - 2_Delta  \n",
    ">### Sai: \n",
    "> - Long_DataFusion\n",
    "> - Wide_DataFusion\n",
    "> - Wide_DataFusion_2022\n",
    "> - G_Classic\n",
    "> - G_Classic_Reposto\n",
    "> - G_Classic_SemReposto\n",
    "> - G_Rotura\n",
    "> - G_NumProdutos\n",
    "---\n",
    "O objectivo é receber dados dos Ninjas e da Delta e devolver ficheiros prontos para fazer os Dashboards. \n",
    "\n",
    "\n",
    "---\n"
   ]
  },
  {
   "cell_type": "code",
   "execution_count": 225,
   "metadata": {},
   "outputs": [],
   "source": [
    "import pandas as pd\n",
    "import numpy as np\n",
    "import datetime\n",
    "import json\n",
    "from ipywidgets import interact\n",
    "\n",
    "def escrever_excel(dfa, nome):\n",
    "    dfa.to_excel(f'D:\\\\B&N Dados\\\\Delta\\\\Padrão\\\\Padrão_08_2023\\\\{nome}.xlsx', index=False)\n",
    "    \n",
    "def escrever_csv(dfa, nome):\n",
    "    dfa.to_csv(f'D:\\\\B&N Dados\\\\Delta\\\\Padrão\\\\Padrão_08_2023\\\\{nome}.csv', index=False)\n",
    "    \n",
    "def escrever_txt(dfa, nome):\n",
    "    dfa.to_csv(f'D:\\\\B&N Dados\\\\Delta\\\\Padrão\\\\Padrão_08_2023\\\\{nome}.txt', sep='\\t', index=False, header=False)\n",
    "    \n",
    "def ler_json(ficheiro):\n",
    "    with open(f'D:\\\\B&N Dados\\\\Delta\\\\{ficheiro}.json', 'r') as file:\n",
    "        mapa = json.load(file)\n",
    "    return mapa"
   ]
  },
  {
   "cell_type": "markdown",
   "metadata": {},
   "source": [
    "<a id=\"section0\"></a>\n",
    "\n",
    "# Índice\n",
    "\n",
    "1. [Data Cleaning](#section1)<br>\n",
    "2. [DataFusion Long](#section2)<br>\n",
    "3. [DataFusion Wide](#section3)<br>\n",
    "4. [Gráficos](#section4)<br>\n",
    "5. [Escrever](#section5)<br>\n",
    "6. [Visualizar](#section6)"
   ]
  },
  {
   "cell_type": "markdown",
   "metadata": {},
   "source": [
    "# O que é preciso substituir:\n",
    "\n",
    "1. Data Cleaning\n",
    "   1. [Directória e nº bases Ninjas](#section1.1)\n",
    "   2. [Directória e nº bases Delta](#section1.2)\n"
   ]
  },
  {
   "cell_type": "markdown",
   "metadata": {},
   "source": [
    "---"
   ]
  },
  {
   "cell_type": "markdown",
   "metadata": {},
   "source": [
    "<a id=\"section1\"></a>\n",
    "# <center>1. Data Cleaning</center>\n",
    "[Voltar ao índice](#section0)<br>\n"
   ]
  },
  {
   "cell_type": "code",
   "execution_count": 226,
   "metadata": {},
   "outputs": [],
   "source": [
    "''' Ler os dicionários previamente criados para poder usar os códigos de produto e de loja em vez dos nomes '''\n",
    "\n",
    "mapa_produtos = ler_json(\"dicionário_produtos\")\n",
    "mapa_produtos = {int(key): value for key, value in mapa_produtos.items()}\n",
    "\n",
    "mapa_lojas = ler_json(\"dicionário_lojas\")\n",
    "mapa_lojas = {int(key): value for key, value in mapa_lojas.items()}\n",
    "\n",
    "mapa_produtos2 = ler_json(\"dicionário_produtos_23\")\n",
    "mapa_produtos2 = {int(key): value for key, value in mapa_produtos2.items()}   "
   ]
  },
  {
   "cell_type": "code",
   "execution_count": 289,
   "metadata": {},
   "outputs": [
    {
     "data": {
      "text/plain": [
       "['CAFÉ DELTA Q MYTHIQ 80CAP',\n",
       " 'CAFÉ DELTA Q EPIQ 80CAP',\n",
       " 'CAFÉ DELTA Q QALIDUS 80CAP',\n",
       " 'CAFÉ DELTA Q QHARACTER 80CAP',\n",
       " 'CAFÉ GINGA 10CAP',\n",
       " 'CAFÉ BELLISSIMO AROMA INTENSO 30CAP',\n",
       " 'CEVADA SOLÚVEL DELTA FRASCO 200G',\n",
       " 'CAFÉ SOLÚVEL DELTA FRASCO 200G',\n",
       " 'CAFÉ BELLISSIMO INTENSO 10 CAP',\n",
       " 'CAFÉ BELLISSIMO ORIGINALE 10 CAP',\n",
       " 'CAFFELATTE GO CHILL DELTA 230 ML',\n",
       " 'CAPPUCCINO GO CHILL DELTA 230 ML',\n",
       " 'Go Chill Double Expresso',\n",
       " 'CARAMEL MACCHIATO GO CHILL DELTA 230ML',\n",
       " 'LATTE MACCHIATO GO CHILL S/LAC 230ML']"
      ]
     },
     "execution_count": 289,
     "metadata": {},
     "output_type": "execute_result"
    }
   ],
   "source": [
    "produtos"
   ]
  },
  {
   "cell_type": "markdown",
   "metadata": {},
   "source": [
    "- # `Ninjas`"
   ]
  },
  {
   "cell_type": "markdown",
   "metadata": {},
   "source": [
    "> <font color=blue>Ler</font>\n",
    "<a id=\"section1.1\"></a>"
   ]
  },
  {
   "cell_type": "code",
   "execution_count": 227,
   "metadata": {},
   "outputs": [
    {
     "name": "stdout",
     "output_type": "stream",
     "text": [
      "CPU times: total: 266 ms\n",
      "Wall time: 272 ms\n"
     ]
    }
   ],
   "source": [
    "%%time\n",
    "# Ler o ficheiro long com Stocks e Fornecimento\n",
    "\n",
    "directória = \"D:\\\\B&N Dados\\\\Delta\\\\Padrão\\\\Padrão_08_2023\\\\\"\n",
    "num_bases = 8\n",
    "\n",
    "prefixo = \"1_Ninjas\"\n",
    "extensão = \".xlsx\" #xlsb\n",
    "\n",
    "\n",
    "dataframes = []\n",
    "\n",
    "for i in range(1, num_bases + 1):\n",
    "    file_path = f\"{directória}{prefixo}1{extensão}\"\n",
    "    df = pd.read_excel(file_path, sheet_name=f'{i}')\n",
    "    dataframes.append(df)\n",
    "    \n",
    "dfNinjas = pd.concat(dataframes, ignore_index=True)\n",
    "dfNinjas = dfNinjas.rename(columns={' Data de Resposta': 'DATA', \"Código da loja\":\"STORE\", \"Nome da Loja\":\"Loja\"})\n",
    "\n",
    "#dfNinjas = dfNinjas.rename(columns=lambda x: mapa_produtos2.get(x, x))\n",
    "\n",
    "\"\"\"Datetime\"\"\"\n",
    "\n",
    "# se xlsx\n",
    "dfNinjas['DATA'] = pd.to_datetime(dfNinjas['DATA'], format='%d-%m-%Y') \n",
    "\n",
    "# se xlsb\n",
    "#dfNinjas['DATA'] = pd.to_datetime(dfNinjas['DATA'], unit='d', origin=datetime.datetime(1899, 12, 30)) "
   ]
  },
  {
   "cell_type": "code",
   "execution_count": 228,
   "metadata": {},
   "outputs": [],
   "source": [
    "dfNinjas = dfNinjas.rename(columns={\"Delta Q Mythiq 80\":\"CAFÉ DELTA Q MYTHIQ 80CAP\",\"Delta Q EpiQ 80\":\"CAFÉ DELTA Q EPIQ 80CAP\",\"Delta Q Qalidus 80\":\"CAFÉ DELTA Q QALIDUS 80CAP\",\"Delta Q Qharacter 80\":\"CAFÉ DELTA Q QHARACTER 80CAP\",\"Delta Q Ginga Cx. 10UN\":\"CAFÉ GINGA 10CAP\",\"Bellissimo Aroma Intenso Pack 30 uni\":\"CAFÉ BELLISSIMO AROMA INTENSO 30CAP\",\"Delta Cevada 200g\":\"CEVADA SOLÚVEL DELTA FRASCO 200G\",\"Delta Cafés Solúvel 200g\":\"CAFÉ SOLÚVEL DELTA FRASCO 200G\",\"Café Moído Bellissimo Intenso\":\"CAFÉ BELLISSIMO INTENSO 10 CAP\",\"Café Moído Bellissimo Originale\":\"CAFÉ BELLISSIMO ORIGINALE 10 CAP\"})"
   ]
  },
  {
   "cell_type": "markdown",
   "metadata": {},
   "source": [
    "- Lista de produtos e lista de lojas"
   ]
  },
  {
   "cell_type": "markdown",
   "metadata": {},
   "source": [
    "# <font color=red>É preciso definir melhor o formato do ficheiro dos ninjas para se saber os produtos, preciso de perceber melhor como é gerado na aplicação</font>"
   ]
  },
  {
   "cell_type": "code",
   "execution_count": 229,
   "metadata": {},
   "outputs": [],
   "source": [
    "# Produtos\n",
    "ficheiro_Produtos = dfNinjas.columns.tolist()\n",
    "df_produtos = pd.DataFrame(ficheiro_Produtos[3:], columns=[\"DESC_ARTIGO\"]) # Se não houver hora\n",
    "#df_produtos = pd.DataFrame(ficheiro_Produtos[4:], columns=[\"DESC_ARTIGO\"]) # Se houver hora\n",
    "\n",
    "# Lojas\n",
    "df_lojas = pd.DataFrame(dfNinjas[\"STORE\"].unique().tolist(), columns=[\"STORE\"])\n",
    "\n",
    "\n",
    "'''Colocar em listas para serem chamáveis'''\n",
    "\n",
    "lojas = df_lojas[\"STORE\"].tolist()\n",
    "produtos = df_produtos[\"DESC_ARTIGO\"].tolist()\n",
    "numprod = len(produtos)"
   ]
  },
  {
   "cell_type": "markdown",
   "metadata": {},
   "source": [
    "[Escrever](#section5)"
   ]
  },
  {
   "cell_type": "markdown",
   "metadata": {},
   "source": [
    "---"
   ]
  },
  {
   "cell_type": "markdown",
   "metadata": {},
   "source": [
    "<a id=\"section2.1\"></a>\n",
    "- #  `Delta`"
   ]
  },
  {
   "cell_type": "markdown",
   "metadata": {},
   "source": [
    "> <font color=blue>Ler</font>\n",
    "<a id=\"section1.2\"></a>"
   ]
  },
  {
   "cell_type": "code",
   "execution_count": 230,
   "metadata": {},
   "outputs": [
    {
     "name": "stdout",
     "output_type": "stream",
     "text": [
      "CPU times: total: 22.5 s\n",
      "Wall time: 22.5 s\n"
     ]
    }
   ],
   "source": [
    "%%time\n",
    "# Ler o ficheiro long com Stocks e Fornecimento\n",
    "\n",
    "directória = \"D:\\\\B&N Dados\\\\Delta\\\\Padrão\\\\Padrão_08_2023\\\\\"\n",
    "extensão = \".xlsb\"\n",
    "#extensão = \".xlsx\"\n",
    "num_bases = 4\n",
    "\n",
    "prefixo = \"2_Delta\"\n",
    "\n",
    "dataframes = []\n",
    "\n",
    "for i in range(1, num_bases + 1):\n",
    "    file_path = f\"{directória}{prefixo}{i}{extensão}\"\n",
    "    df = pd.read_excel(file_path)\n",
    "    dataframes.append(df[['DATA', 'EAN', 'DESC_ARTIGO', 'STORE', \"STORE_NAME\", \n",
    "                         \"SOH\", \"INTRANSIT\", \"EXPECTED\", \"PRES_STOCK\", \"VND (D-1)\"]])\n",
    "    \n",
    "dfDelta=pd.concat(dataframes, ignore_index=True)\n",
    "\n",
    "\"\"\"Datetime\"\"\"\n",
    "\n",
    "# se xlsx\n",
    "#dfDelta['DATA'] = pd.to_datetime(dfDelta['DATA'], format='%d-%m-%Y') \n",
    "\n",
    "# se xlsb\n",
    "dfDelta['DATA'] = pd.to_datetime(dfDelta['DATA'], unit='d', origin=datetime.datetime(1899, 12, 30)) "
   ]
  },
  {
   "cell_type": "markdown",
   "metadata": {},
   "source": [
    "> - **Definir os produtos e lojas em causa**"
   ]
  },
  {
   "cell_type": "code",
   "execution_count": 231,
   "metadata": {},
   "outputs": [],
   "source": [
    "# Estabelecer o Dataframe mais limitado\n",
    "dfDelta_Limpo = dfDelta[dfDelta['STORE'].isin(lojas) & dfDelta['DESC_ARTIGO'].isin(produtos)].copy()\n",
    "\n",
    "# Mudar nomes\n",
    "dfDelta_Limpo = dfDelta_Limpo.rename(columns={\"VND (D-1)\": \"SELLOUT_1_Dias_Antes\", \"SOH\": \"STOCK_1_Dias_Antes\"})"
   ]
  },
  {
   "cell_type": "markdown",
   "metadata": {},
   "source": [
    "> - **Criar colunas de Stock e Sellout para o próprio dia**"
   ]
  },
  {
   "cell_type": "code",
   "execution_count": 232,
   "metadata": {},
   "outputs": [],
   "source": [
    "# Organizar para atingir os valores relevantes\n",
    "dfDelta_Limpo = dfDelta_Limpo.sort_values(by=[\"STORE\", \"DESC_ARTIGO\", \"DATA\"])\n",
    "\n",
    "#Agrupar por loja e produto para não haver valores errados \n",
    "dfDelta_Limpo[\"SELLOUT\"] = dfDelta_Limpo.groupby([\"STORE\", \"DESC_ARTIGO\"])[\"SELLOUT_1_Dias_Antes\"].shift(-1)\n",
    "dfDelta_Limpo[\"STOCK\"] = dfDelta_Limpo.groupby([\"STORE\", \"DESC_ARTIGO\"])[\"STOCK_1_Dias_Antes\"].shift(-1)"
   ]
  },
  {
   "cell_type": "markdown",
   "metadata": {},
   "source": [
    "> - **Retirar os dias que não têm interesse (último dia)**"
   ]
  },
  {
   "cell_type": "code",
   "execution_count": 233,
   "metadata": {},
   "outputs": [],
   "source": [
    "# O dia final foi utilizado para conseguir dados do dia para stocks e sellouts mas não é dia de missão\n",
    "segunda = dfDelta_Limpo['DATA'].unique()\n",
    "\n",
    "dfDelta_Limpo = dfDelta_Limpo.loc[dfDelta_Limpo['DATA'] < segunda[-1]]\n",
    "dfDelta_Limpo_Org = dfDelta_Limpo.iloc[:, np.r_[:5,11,6:9,10]]"
   ]
  },
  {
   "cell_type": "markdown",
   "metadata": {},
   "source": [
    "\n",
    "### <center><font color=green>   Ainda fazer"
   ]
  },
  {
   "cell_type": "markdown",
   "metadata": {},
   "source": [
    "> - **Id**"
   ]
  },
  {
   "cell_type": "code",
   "execution_count": 234,
   "metadata": {},
   "outputs": [],
   "source": [
    "# Extract the day and month components from the 'datetime' column\n",
    "dfNinjas['day'] = pd.to_datetime(dfNinjas['DATA']).dt.day\n",
    "dfNinjas['month'] = pd.to_datetime(dfNinjas['DATA']).dt.month\n",
    "\n",
    "# Create a new column combining day and month\n",
    "dfNinjas['day_month'] = dfNinjas['day'].astype(str) + '-' + dfNinjas['month'].astype(str)\n",
    "\n",
    "# Assign unique IDs to each unique day-month combination\n",
    "dfNinjas['id'], _ = pd.factorize(dfNinjas['day_month'])\n",
    "\n",
    "dfNinjas = dfNinjas.drop(columns=['day', 'month', 'day_month'])"
   ]
  },
  {
   "cell_type": "markdown",
   "metadata": {},
   "source": [
    "> - **Número de produtos presentes**"
   ]
  },
  {
   "cell_type": "code",
   "execution_count": 235,
   "metadata": {},
   "outputs": [],
   "source": [
    "# Criar coluna com o número dos produtos em causa presentes no instante\n",
    "\n",
    "dfNinjas[\"Num_Produtos_Audit\"] = dfNinjas[produtos].sum(axis=1)\n",
    "\n",
    "dfNinjas.loc[(dfNinjas[\"Num_Produtos\"] == 0) & (dfNinjas[produtos[1]].isna()), \"Num_Produtos\"] = np.nan"
   ]
  },
  {
   "cell_type": "markdown",
   "metadata": {},
   "source": [
    "> - **Vendedor**"
   ]
  },
  {
   "cell_type": "code",
   "execution_count": 236,
   "metadata": {},
   "outputs": [],
   "source": [
    "# Ler ficheiro\n",
    "dfVendedor=pd.read_excel(\"D:\\\\B&N Dados\\\\Delta\\\\Vendedor2.xlsx\", sheet_name = \"Lojas Sonae para o desafio\")\n",
    "dfVendedor = dfVendedor.rename(columns={\"Cód. Loja\":\"STORE\"})\n",
    "\n",
    "# Criar coluna de reposição\n",
    "dfNinjas = pd.merge(dfNinjas, dfVendedor[[\"STORE\",\"Vendedor\"]], how=\"left\", on = \"STORE\")"
   ]
  },
  {
   "cell_type": "markdown",
   "metadata": {},
   "source": [
    "> - **Reposição**"
   ]
  },
  {
   "cell_type": "code",
   "execution_count": 237,
   "metadata": {},
   "outputs": [],
   "source": [
    "# Ler o ficheiro com os nomes das lojas que fazem reposição\n",
    "dfRepos=pd.read_excel(\"D:\\\\B&N Dados\\\\Delta\\\\Reposição_Sonae_Código.xlsx\")\n",
    "\n",
    "# Criar coluna que determina quais lojas têm reposição\n",
    "dfNinjas['Repos'] = [1 if val in dfRepos['STORE'].values else 0 for val in dfNinjas['STORE']]"
   ]
  },
  {
   "cell_type": "markdown",
   "metadata": {},
   "source": [
    "## <center><font color=orange>Output DataCleaning"
   ]
  },
  {
   "cell_type": "code",
   "execution_count": 238,
   "metadata": {},
   "outputs": [
    {
     "data": {
      "text/plain": [
       "['0: Loja',\n",
       " '1: STORE',\n",
       " '2: DATA',\n",
       " '3: CAFÉ DELTA Q MYTHIQ 80CAP',\n",
       " '4: CAFÉ DELTA Q EPIQ 80CAP',\n",
       " '5: CAFÉ DELTA Q QALIDUS 80CAP',\n",
       " '6: CAFÉ DELTA Q QHARACTER 80CAP',\n",
       " '7: CAFÉ GINGA 10CAP',\n",
       " '8: CAFÉ BELLISSIMO AROMA INTENSO 30CAP',\n",
       " '9: CEVADA SOLÚVEL DELTA FRASCO 200G',\n",
       " '10: CAFÉ SOLÚVEL DELTA FRASCO 200G',\n",
       " '11: CAFÉ BELLISSIMO INTENSO 10 CAP',\n",
       " '12: CAFÉ BELLISSIMO ORIGINALE 10 CAP',\n",
       " '13: CAFFELATTE GO CHILL DELTA 230 ML',\n",
       " '14: CAPPUCCINO GO CHILL DELTA 230 ML',\n",
       " '15: Go Chill Double Expresso',\n",
       " '16: CARAMEL MACCHIATO GO CHILL DELTA 230ML',\n",
       " '17: LATTE MACCHIATO GO CHILL S/LAC 230ML',\n",
       " '18: id',\n",
       " '19: Num_Produtos',\n",
       " '20: Vendedor',\n",
       " '21: Repos']"
      ]
     },
     "execution_count": 238,
     "metadata": {},
     "output_type": "execute_result"
    }
   ],
   "source": [
    "[f\"{index}: {column}\" for index, column in enumerate(dfNinjas)]"
   ]
  },
  {
   "cell_type": "code",
   "execution_count": 239,
   "metadata": {},
   "outputs": [],
   "source": [
    "dfNinjas = dfNinjas.iloc[:, np.r_[5+numprod,0:5+numprod,6+numprod]].copy() # Se não houver hora\n",
    "#dfNinjas1 = dfNinjas.iloc[:, np.r_[6+numprod,0:6+numprod,7+numprod]].copy() # Se houver hora\n",
    "dfDelta = dfDelta_Limpo_Org.copy()"
   ]
  },
  {
   "cell_type": "markdown",
   "metadata": {},
   "source": [
    "---"
   ]
  },
  {
   "cell_type": "markdown",
   "metadata": {},
   "source": [
    "<a id=\"section2\"></a>\n",
    "# <center> 2. DataFusion Long (1)</center>\n",
    "[Voltar ao índice](#section0)"
   ]
  },
  {
   "cell_type": "markdown",
   "metadata": {},
   "source": [
    "> - __dfNinjas__ já definido\n",
    "> - __dfDelta__ já definido\n",
    "> - __produtos__ já definidos"
   ]
  },
  {
   "cell_type": "markdown",
   "metadata": {},
   "source": [
    "- #  `dfFinal1`"
   ]
  },
  {
   "cell_type": "code",
   "execution_count": 240,
   "metadata": {},
   "outputs": [],
   "source": [
    "resto = dfNinjas.columns.difference(produtos)\n",
    "# Passar ficheiro ninjas para long\n",
    "dfNinjasLong = dfNinjas.melt(id_vars=resto, value_vars=produtos, var_name='DESC_ARTIGO', value_name='NinjaInfo')\n",
    "\n",
    "\n",
    "#Mergir\n",
    "dfMeio = pd.merge(dfNinjasLong, dfDelta, how=\"left\", on = [\"DATA\",\"STORE\", \"DESC_ARTIGO\"]) \n",
    "#dfMeio = dfMeio.drop(columns=[\"Loja\"])\n",
    "\n",
    "dfFinal1=dfMeio.copy()"
   ]
  },
  {
   "cell_type": "markdown",
   "metadata": {},
   "source": [
    "> STK"
   ]
  },
  {
   "cell_type": "code",
   "execution_count": 243,
   "metadata": {},
   "outputs": [],
   "source": [
    "# Definir coluna de STK (soma de stocks com stock em trânsito)\n",
    "\n",
    "dfFinal1[\"STK\"] = dfFinal1[\"STOCK\"] + dfFinal1[\"INTRANSIT\"] + dfFinal1[\"EXPECTED\"]"
   ]
  },
  {
   "cell_type": "markdown",
   "metadata": {},
   "source": [
    "> Balanço"
   ]
  },
  {
   "cell_type": "code",
   "execution_count": 244,
   "metadata": {},
   "outputs": [],
   "source": [
    "# Definir coluna de Balanço (razão entre sellout e stock total)\n",
    "\n",
    "dfFinal1[\"Balance\"] = dfFinal1[\"SELLOUT\"] / dfFinal1[\"STK\"]"
   ]
  },
  {
   "cell_type": "markdown",
   "metadata": {},
   "source": [
    "> Rotura"
   ]
  },
  {
   "cell_type": "code",
   "execution_count": 245,
   "metadata": {},
   "outputs": [],
   "source": [
    "# Definir coluna de rotura (se stock menor ou igual a 0 e existe Linear)\n",
    "\n",
    "dfFinal1[\"ROTURA\"] = np.where((dfFinal1[\"STOCK\"] <= 0) & (dfFinal1[\"PRES_STOCK\"] > 0), 1, 0)"
   ]
  },
  {
   "cell_type": "markdown",
   "metadata": {},
   "source": [
    ">Sinal"
   ]
  },
  {
   "cell_type": "code",
   "execution_count": 246,
   "metadata": {},
   "outputs": [],
   "source": [
    "# Categorias possíveis\n",
    "mapping = {1: \"Presente com Stock\",\n",
    "           2: \"Ausente com Stock\",\n",
    "           3: \"Presente sem Stock\",\n",
    "           4: \"Ausente sem Stock\"}\n",
    "#            5: \"Presente sem Registo\",\n",
    "#            6: \"Ausente sem Registo\"}\n",
    "\n",
    "# Definir coluna de sinal\n",
    "dfFinal1[\"Sinal\"] = np.where((dfFinal1[\"STOCK\"] > 0) & (dfFinal1[\"NinjaInfo\"] == 1), 1,\n",
    "                     np.where((dfFinal1[\"STOCK\"] > 0) & (dfFinal1[\"NinjaInfo\"] == 0), 2,\n",
    "                     np.where((dfFinal1[\"STOCK\"] <= 0) & (dfFinal1[\"NinjaInfo\"] == 1), 3,\n",
    "                     np.where((dfFinal1[\"STOCK\"] <= 0) & (dfFinal1[\"NinjaInfo\"] == 0), 4,\n",
    "                     np.where((dfFinal1[\"STOCK\"].isna()), np.nan, np.nan)))))\n",
    "\n",
    "# Substituir números pelas expressões escolhidas\n",
    "dfFinal1[\"Sinal\"] = dfFinal1[\"Sinal\"].map(mapping)\n",
    "#dfFinal1[\"NinjaInfo\"] = np.where(dfFinal1[\"STOCK\"].isna(), np.nan, dfFinal1[\"NinjaInfo\"])"
   ]
  },
  {
   "cell_type": "markdown",
   "metadata": {},
   "source": [
    "> Ciclos"
   ]
  },
  {
   "cell_type": "code",
   "execution_count": 247,
   "metadata": {},
   "outputs": [],
   "source": [
    "dfFinal1[\"Ciclos\"]=dfFinal1[\"STOCK\"]/dfFinal1[\"PRES_STOCK\"]"
   ]
  },
  {
   "cell_type": "markdown",
   "metadata": {},
   "source": [
    "> Adequação"
   ]
  },
  {
   "cell_type": "code",
   "execution_count": 248,
   "metadata": {},
   "outputs": [],
   "source": [
    "dfFinal1[\"Adequacao\"] = np.where(\n",
    "                        dfFinal1[\"Ciclos\"] > 1.1,\n",
    "                        \"Stock Suficiente\",\n",
    "                       np.where(\n",
    "                        (dfFinal1[\"Ciclos\"] <= 1.1) & (dfFinal1[\"INTRANSIT\"] + dfFinal1[\"EXPECTED\"] + dfFinal1[\"STOCK\"] >= dfFinal1[\"PRES_STOCK\"]),\n",
    "                        \"Stock Insuf c Forn Adequado\",\n",
    "                       np.where(\n",
    "                        (dfFinal1[\"Ciclos\"] <= 1.1) & (dfFinal1[\"INTRANSIT\"] + dfFinal1[\"EXPECTED\"] + dfFinal1[\"STOCK\"] < dfFinal1[\"PRES_STOCK\"]),\n",
    "                        \"Stock Insuf c Forn Desadequado\",\n",
    "                        \"\")))"
   ]
  },
  {
   "cell_type": "markdown",
   "metadata": {},
   "source": [
    "> Dias para a rotura de stock"
   ]
  },
  {
   "cell_type": "code",
   "execution_count": 249,
   "metadata": {},
   "outputs": [],
   "source": [
    "dfFinal1[\"Dias_para_Rotura\"] = dfFinal1[\"STOCK\"] / dfFinal1[\"SELLOUT\"]"
   ]
  },
  {
   "cell_type": "markdown",
   "metadata": {},
   "source": [
    "> Dias para a rotura de prateleira"
   ]
  },
  {
   "cell_type": "code",
   "execution_count": 250,
   "metadata": {},
   "outputs": [],
   "source": [
    "dfFinal1[\"Dias_para_Rotura_Linear\"] = dfFinal1[\"PRES_STOCK\"] / dfFinal1[\"SELLOUT\"]"
   ]
  },
  {
   "cell_type": "markdown",
   "metadata": {},
   "source": [
    "> Roturas de prateleira (meh)"
   ]
  },
  {
   "cell_type": "raw",
   "metadata": {},
   "source": [
    "'''Isto serve para mudar os 0s para 1s do NinjaInfo para se poder fazer gráficos e análises'''\n",
    "\n",
    "#1 Quando detectada rotura\n",
    "dfFinal1[\"ROTURA_LINEAR\"] = dfFinal1[dfFinal1['NinjaInfo'] == 0].groupby(['STORE', 'DATA', 'DESC_ARTIGO'])['NinjaInfo'].transform('count')\n",
    "#0 Quando não há rotura\n",
    "dfFinal1[\"ROTURA_LINEAR\"] = np.where(dfFinal1['NinjaInfo'] == 1, 0, dfFinal1['ROTURA_LINEAR'])"
   ]
  },
  {
   "cell_type": "markdown",
   "metadata": {},
   "source": [
    "- ###  `Organizar`"
   ]
  },
  {
   "cell_type": "raw",
   "metadata": {},
   "source": [
    "df_columns = dfFinal1Corrigido.columns.tolist()\n",
    "indexed_columns = [f\"{index}: {column}\" for index, column in enumerate(df_columns)]\n",
    "indexed_columns"
   ]
  },
  {
   "cell_type": "raw",
   "metadata": {},
   "source": [
    "df_columns = dfFinal1.columns.tolist()\n",
    "indexed_columns = [f\"{index}: {column}\" for index, column in enumerate(df_columns)]\n",
    "lista_dfFinal1 = [5,0:2,7:16,2:5,6,16:19,24,19:24]\n",
    "indexed_columns"
   ]
  },
  {
   "cell_type": "markdown",
   "metadata": {},
   "source": [
    "## <center><font color=orange>Output DataFusion Long"
   ]
  },
  {
   "cell_type": "code",
   "execution_count": 251,
   "metadata": {},
   "outputs": [],
   "source": [
    "df1 = dfFinal1.iloc[:, np.r_[5,0:2,4,7:16,2:4,6,16:19,19:24]].copy()"
   ]
  },
  {
   "cell_type": "code",
   "execution_count": 252,
   "metadata": {},
   "outputs": [
    {
     "data": {
      "text/plain": [
       "['0: Vendedor',\n",
       " '1: DATA',\n",
       " '2: Loja',\n",
       " '3: STORE',\n",
       " '4: DESC_ARTIGO',\n",
       " '5: NinjaInfo',\n",
       " '6: EAN',\n",
       " '7: STORE_NAME',\n",
       " '8: STOCK',\n",
       " '9: INTRANSIT',\n",
       " '10: EXPECTED',\n",
       " '11: PRES_STOCK',\n",
       " '12: SELLOUT',\n",
       " '13: Num_Produtos',\n",
       " '14: Repos',\n",
       " '15: id',\n",
       " '16: STK',\n",
       " '17: Balance',\n",
       " '18: ROTURA',\n",
       " '19: Sinal',\n",
       " '20: Ciclos',\n",
       " '21: Adequacao',\n",
       " '22: Dias_para_Rotura',\n",
       " '23: Dias_para_Rotura_Linear']"
      ]
     },
     "execution_count": 252,
     "metadata": {},
     "output_type": "execute_result"
    }
   ],
   "source": [
    "[f\"{index}: {column}\" for index, column in enumerate(df1.columns.tolist())]"
   ]
  },
  {
   "cell_type": "markdown",
   "metadata": {},
   "source": [
    "[Escrever](#section5) <br>\n",
    "[Visualizar](#section6)"
   ]
  },
  {
   "cell_type": "markdown",
   "metadata": {},
   "source": [
    "<a id=\"section3\"></a>\n",
    "# <center>3. DataFusion Wide (2)</center>\n",
    "[Voltar ao índice](#section0)<br>"
   ]
  },
  {
   "cell_type": "markdown",
   "metadata": {},
   "source": [
    "> - __dfNinjas__ já definido\n",
    "> - __dfDelta__ já definido\n",
    "> - __produtos__ já definidos"
   ]
  },
  {
   "cell_type": "markdown",
   "metadata": {},
   "source": [
    "- #  `dfFinal2`"
   ]
  },
  {
   "cell_type": "code",
   "execution_count": 253,
   "metadata": {},
   "outputs": [],
   "source": [
    "# Dataframe mergido no fim\n",
    "dfMeio2 = dfNinjas.copy()\n",
    "\n",
    "\n",
    "for coluna in produtos:       \n",
    "    \n",
    "    #Cada dfStocks é um dataframe com o produto específico\n",
    "    dfStocks=dfDelta[dfDelta[\"DESC_ARTIGO\"]==coluna][[\"DATA\", \"STORE\", \"STOCK\", \"PRES_STOCK\", \"INTRANSIT\", \"EXPECTED\", \"SELLOUT\"]]   #Dados Ninjas, seleccionar colunas do café específico\n",
    " \n",
    "    #Juntar dados de acordo com o dia e a loja\n",
    "    dfMeio2=pd.merge(dfMeio2, dfStocks, how=\"left\", on = [\"DATA\",\"STORE\"])  \n",
    "    \n",
    "    #Mudar nomes para ser adaptado a cada produto\n",
    "    dfMeio2=dfMeio2.rename(columns={\"STOCK\": \"STOCK %s\" % coluna, \"PRES_STOCK\":\"PRESLINEAR %s\" % coluna, \"INTRANSIT\":\"INTRANSIT %s\" % coluna, \"EXPECTED\":\"EXPECTED %s\" % coluna, \"SELLOUT\":\"SELLOUT %s\" % coluna})                       #Nomear coluna nova\n",
    "    \n",
    "dfFinal2=dfMeio2.copy()"
   ]
  },
  {
   "cell_type": "markdown",
   "metadata": {},
   "source": [
    "---"
   ]
  },
  {
   "cell_type": "markdown",
   "metadata": {},
   "source": [
    "> STK"
   ]
  },
  {
   "cell_type": "code",
   "execution_count": 254,
   "metadata": {},
   "outputs": [],
   "source": [
    "for i in produtos:\n",
    "\n",
    "    transito = \"INTRANSIT %s\" % i\n",
    "    esperado = \"EXPECTED %s\" % i\n",
    "    stock  = \"STOCK %s\" % i\n",
    "    \n",
    "    stk = \"STK %s\" %i\n",
    "      \n",
    "    dfFinal2[stk] = dfFinal2[stock] + dfFinal2[esperado] + dfFinal2[transito]"
   ]
  },
  {
   "cell_type": "markdown",
   "metadata": {},
   "source": [
    "> Balanço"
   ]
  },
  {
   "cell_type": "code",
   "execution_count": 255,
   "metadata": {},
   "outputs": [],
   "source": [
    "for i in produtos:\n",
    "    stk = \"STK %s\" %i\n",
    "    #msa = \"MSA %s\" %i\n",
    "    sellout = \"SELLOUT %s\" %i\n",
    "    \n",
    "    balance = \"BALANCE %s\" %i\n",
    "    \n",
    "    dfFinal2[balance] = dfFinal2[sellout] / dfFinal2[stk]\n",
    "    \n",
    "    "
   ]
  },
  {
   "cell_type": "markdown",
   "metadata": {},
   "source": [
    "> Rotura"
   ]
  },
  {
   "cell_type": "code",
   "execution_count": 256,
   "metadata": {},
   "outputs": [],
   "source": [
    "for i in produtos:\n",
    "    rotura  = \"ROTURA %s\" % i\n",
    "    stock  = \"STOCK %s\" % i\n",
    "    preslinear = \"PRESLINEAR %s\" % i\n",
    "    \n",
    "    dfFinal2[rotura] = np.where((dfFinal2[stock] > 0) & ~(dfFinal2[i].isna()), 0, \n",
    "                      np.where((dfFinal2[stock] <= 0) & (dfFinal2[preslinear] > 0) & ~(dfFinal2[i].isna()), 1, \n",
    "                      np.nan))\n"
   ]
  },
  {
   "cell_type": "markdown",
   "metadata": {},
   "source": [
    "> Pré-Rotura"
   ]
  },
  {
   "cell_type": "code",
   "execution_count": 257,
   "metadata": {},
   "outputs": [],
   "source": [
    "for i in produtos:\n",
    "    stock  = \"STOCK %s\" % i\n",
    "    preslinear = \"PRESLINEAR %s\" % i\n",
    "    pre_rotura= \"PRE-ROTURA %s\" % i\n",
    "    \n",
    "    dfFinal2[pre_rotura] = (dfFinal2[stock] < dfFinal2[preslinear]).astype(int)"
   ]
  },
  {
   "cell_type": "markdown",
   "metadata": {},
   "source": [
    ">Sinal"
   ]
  },
  {
   "cell_type": "code",
   "execution_count": 258,
   "metadata": {},
   "outputs": [],
   "source": [
    "#dfFinal2[\"Sinal\"]= pd.Series(dtype='int')\n",
    "\n",
    "# Define the mappings of numbers to strings\n",
    "mapping = {1: \"Presente com Stock\",\n",
    "           2: \"Ausente com Stock\",\n",
    "           3: \"Presente sem Stock\",\n",
    "           4: \"Ausente sem Stock\"}\n",
    "#            5: \"Presente sem Registo\",\n",
    "#            6: \"Ausente sem Registo\"}\n",
    "\n",
    "for i in produtos:\n",
    "    sinal = \"SINAL %s\" % i\n",
    "    stock  = \"STOCK %s\" % i\n",
    "    ninjainfo = i\n",
    "    dfFinal2[sinal] = np.where((dfFinal2[stock] > 0) & (dfFinal2[i] == 1), 1,\n",
    "                     np.where((dfFinal2[stock] > 0) & (dfFinal2[i] == 0), 2,\n",
    "                     np.where((dfFinal2[stock] <= 0) & (dfFinal2[i] == 1), 3,\n",
    "                     np.where((dfFinal2[stock] <= 0) & (dfFinal2[i] == 0), 4,\n",
    "                     np.nan))))\n",
    "#                      np.where((dfFinal2[stock].isna()) & (dfFinal2[i] == 1), 5,\n",
    "#                      np.where((dfFinal2[stock].isna()) & (dfFinal2[i] == 0), 6,\n",
    "#                      np.nan))))))\n",
    "\n",
    "\n",
    "    # Map the numbers to the corresponding strings\n",
    "    dfFinal2[sinal] = dfFinal2[sinal].map(mapping)\n",
    "    dfFinal2[ninjainfo] = np.where(dfFinal2[stock].isna(), np.nan, dfFinal2[i])\n",
    "\n",
    "# 1: Há Stock e Sinal Positivo Ninja \"Verdadeiramente Correcto\"\n",
    "# 2: Há Stock e Sinal Negativo Ninja \"Falso Positivo\"\n",
    "# 3: Não há Stock e Sinal Positivo Ninja \"Falso Negativo\"\n",
    "# 4: Não há Stock e Sinal Negativo Ninja \"Rejeição Correcta\""
   ]
  },
  {
   "cell_type": "markdown",
   "metadata": {},
   "source": [
    "> Ciclos"
   ]
  },
  {
   "cell_type": "code",
   "execution_count": 259,
   "metadata": {},
   "outputs": [
    {
     "name": "stderr",
     "output_type": "stream",
     "text": [
      "C:\\Users\\joao_\\AppData\\Local\\Temp\\ipykernel_2260\\3917726191.py:5: PerformanceWarning:\n",
      "\n",
      "DataFrame is highly fragmented.  This is usually the result of calling `frame.insert` many times, which has poor performance.  Consider joining all columns at once using pd.concat(axis=1) instead. To get a de-fragmented frame, use `newframe = frame.copy()`\n",
      "\n",
      "C:\\Users\\joao_\\AppData\\Local\\Temp\\ipykernel_2260\\3917726191.py:5: PerformanceWarning:\n",
      "\n",
      "DataFrame is highly fragmented.  This is usually the result of calling `frame.insert` many times, which has poor performance.  Consider joining all columns at once using pd.concat(axis=1) instead. To get a de-fragmented frame, use `newframe = frame.copy()`\n",
      "\n",
      "C:\\Users\\joao_\\AppData\\Local\\Temp\\ipykernel_2260\\3917726191.py:5: PerformanceWarning:\n",
      "\n",
      "DataFrame is highly fragmented.  This is usually the result of calling `frame.insert` many times, which has poor performance.  Consider joining all columns at once using pd.concat(axis=1) instead. To get a de-fragmented frame, use `newframe = frame.copy()`\n",
      "\n",
      "C:\\Users\\joao_\\AppData\\Local\\Temp\\ipykernel_2260\\3917726191.py:5: PerformanceWarning:\n",
      "\n",
      "DataFrame is highly fragmented.  This is usually the result of calling `frame.insert` many times, which has poor performance.  Consider joining all columns at once using pd.concat(axis=1) instead. To get a de-fragmented frame, use `newframe = frame.copy()`\n",
      "\n",
      "C:\\Users\\joao_\\AppData\\Local\\Temp\\ipykernel_2260\\3917726191.py:5: PerformanceWarning:\n",
      "\n",
      "DataFrame is highly fragmented.  This is usually the result of calling `frame.insert` many times, which has poor performance.  Consider joining all columns at once using pd.concat(axis=1) instead. To get a de-fragmented frame, use `newframe = frame.copy()`\n",
      "\n",
      "C:\\Users\\joao_\\AppData\\Local\\Temp\\ipykernel_2260\\3917726191.py:5: PerformanceWarning:\n",
      "\n",
      "DataFrame is highly fragmented.  This is usually the result of calling `frame.insert` many times, which has poor performance.  Consider joining all columns at once using pd.concat(axis=1) instead. To get a de-fragmented frame, use `newframe = frame.copy()`\n",
      "\n",
      "C:\\Users\\joao_\\AppData\\Local\\Temp\\ipykernel_2260\\3917726191.py:5: PerformanceWarning:\n",
      "\n",
      "DataFrame is highly fragmented.  This is usually the result of calling `frame.insert` many times, which has poor performance.  Consider joining all columns at once using pd.concat(axis=1) instead. To get a de-fragmented frame, use `newframe = frame.copy()`\n",
      "\n",
      "C:\\Users\\joao_\\AppData\\Local\\Temp\\ipykernel_2260\\3917726191.py:5: PerformanceWarning:\n",
      "\n",
      "DataFrame is highly fragmented.  This is usually the result of calling `frame.insert` many times, which has poor performance.  Consider joining all columns at once using pd.concat(axis=1) instead. To get a de-fragmented frame, use `newframe = frame.copy()`\n",
      "\n",
      "C:\\Users\\joao_\\AppData\\Local\\Temp\\ipykernel_2260\\3917726191.py:5: PerformanceWarning:\n",
      "\n",
      "DataFrame is highly fragmented.  This is usually the result of calling `frame.insert` many times, which has poor performance.  Consider joining all columns at once using pd.concat(axis=1) instead. To get a de-fragmented frame, use `newframe = frame.copy()`\n",
      "\n"
     ]
    }
   ],
   "source": [
    "for i in produtos:\n",
    "    ciclos = \"CICLO %s\" % i\n",
    "    stock  = \"STOCK %s\" % i\n",
    "    linear = \"PRESLINEAR %s\" % i\n",
    "    dfFinal2[ciclos]=dfFinal2[stock]/dfFinal2[linear]"
   ]
  },
  {
   "cell_type": "markdown",
   "metadata": {},
   "source": [
    "> Adequação"
   ]
  },
  {
   "cell_type": "code",
   "execution_count": 260,
   "metadata": {},
   "outputs": [],
   "source": [
    "dfFinal2 = dfFinal2.copy()\n",
    "# Define the mappings of numbers to strings\n",
    "mapping = {1: \"Stock Suficiente\",\n",
    "           2: \"Stock Insuf c Forn Adequado\",\n",
    "           3: \"Stock Insuf c Forn Desadequado\"}\n",
    "\n",
    "for i in produtos:\n",
    "    adequa = \"ADEQUACAO %s\" % i\n",
    "    ciclos = \"CICLO %s\" % i\n",
    "    transito = \"INTRANSIT %s\" % i\n",
    "    esperado = \"EXPECTED %s\" % i\n",
    "    stock  = \"STOCK %s\" % i\n",
    "    linear = \"PRESLINEAR %s\" % i\n",
    "    \n",
    "    dfFinal2[adequa] = np.where(dfFinal2[ciclos] > 1.1, 1,\n",
    "                      np.where((dfFinal2[ciclos] <= 1.1) & (dfFinal2[transito] + dfFinal2[esperado] + dfFinal2[stock] >= dfFinal2[linear]), 2,\n",
    "                      np.where((dfFinal2[ciclos] <= 1.1) & (dfFinal2[transito] + dfFinal2[esperado] + dfFinal2[stock] < dfFinal2[linear]), 3, \n",
    "                      np.nan)))\n",
    "    \n",
    "    # Map the numbers to the corresponding strings\n",
    "    dfFinal2[adequa] = dfFinal2[adequa].map(mapping)"
   ]
  },
  {
   "cell_type": "markdown",
   "metadata": {},
   "source": [
    "- Dias para a rotura"
   ]
  },
  {
   "cell_type": "code",
   "execution_count": 261,
   "metadata": {},
   "outputs": [],
   "source": [
    "for i in produtos:\n",
    "    stock  = \"STOCK %s\" % i\n",
    "    #msa = \"MSA %s\" %i\n",
    "    sellout = \"SELLOUT %s\" % i\n",
    "    dias_rotura = \"Dias_para_Rotura %s\" % i\n",
    "    \n",
    "    dfFinal2[dias_rotura] = dfFinal2[stock]/dfFinal2[sellout]"
   ]
  },
  {
   "cell_type": "markdown",
   "metadata": {},
   "source": [
    "- Dias para a rotura de prateleira"
   ]
  },
  {
   "cell_type": "code",
   "execution_count": 262,
   "metadata": {},
   "outputs": [],
   "source": [
    "for i in produtos:\n",
    "    linear = \"PRESLINEAR %s\" % i\n",
    "    #msa = \"MSA %s\" %i\n",
    "    sellout = \"SELLOUT %s\" % i\n",
    "    dias_rotura_prat = \"Dias_para_Rotura_Linear %s\" % i\n",
    "    \n",
    "    dfFinal2[dias_rotura_prat] = dfFinal2[linear] / dfFinal2[sellout]"
   ]
  },
  {
   "cell_type": "markdown",
   "metadata": {},
   "source": [
    "---"
   ]
  },
  {
   "cell_type": "markdown",
   "metadata": {},
   "source": [
    "# `2022`"
   ]
  },
  {
   "cell_type": "code",
   "execution_count": 263,
   "metadata": {},
   "outputs": [],
   "source": [
    "# Ler o ficheiro long com Stocks e Fornecimento\n",
    "dfDelta_2022=pd.read_excel(\"D:\\\\B&N Dados\\\\Delta\\\\Padrão\\\\Padrão_08_2023\\\\2_Delta_2022Id.xlsx\", sheet_name=\"Sheet1\")"
   ]
  },
  {
   "cell_type": "markdown",
   "metadata": {},
   "source": [
    "#### dfFinal2_2022"
   ]
  },
  {
   "cell_type": "code",
   "execution_count": 264,
   "metadata": {},
   "outputs": [],
   "source": [
    "# Dataframe mergido no fim\n",
    "dfNinjas_2022=dfNinjas.copy()\n",
    "\n",
    "\n",
    "for coluna in produtos:       \n",
    "    \n",
    "    #Cada dfStocks é um dataframe com o produto específico\n",
    "    dfStocks=dfDelta_2022[dfDelta_2022[\"DESC_ARTIGO\"]==coluna][[\"id\", \"STORE\", \"STOCK\", \"PRES_STOCK\", \"INTRANSIT\", \"EXPECTED\", \"SELLOUT\"]]   #Dados Ninjas, seleccionar colunas do café específico\n",
    "    \n",
    "    #Juntar dados de acordo com o dia e a loja\n",
    "    dfNinjas_2022=pd.merge(dfNinjas_2022, dfStocks, how=\"left\", on = [\"id\",\"STORE\"])  \n",
    "    \n",
    "    #Mudar nomes para ser adaptado a cada produto\n",
    "    dfNinjas_2022=dfNinjas_2022.rename(columns={\"STOCK\": \"STOCK22 %s\" % coluna, \"PRES_STOCK\":\"PRESLINEAR22 %s\" % coluna, \"INTRANSIT\":\"INTRANSIT22 %s\" % coluna, \"EXPECTED\":\"EXPECTED22 %s\" % coluna, \"SELLOUT\":\"SELLOUT22 %s\" % coluna})                       #Nomear coluna nova\n",
    "\n",
    "dfFinal2_2022 = dfNinjas_2022"
   ]
  },
  {
   "cell_type": "markdown",
   "metadata": {},
   "source": [
    "## <center><font color=orange>Output DataFusion Wide"
   ]
  },
  {
   "cell_type": "code",
   "execution_count": 265,
   "metadata": {},
   "outputs": [],
   "source": [
    "df2 = dfFinal2.copy()\n",
    "df2_2022 = dfFinal2_2022.copy()"
   ]
  },
  {
   "cell_type": "markdown",
   "metadata": {},
   "source": [
    "[Escrever](#section5) <br>\n",
    "[Visualizar](#section6)"
   ]
  },
  {
   "cell_type": "markdown",
   "metadata": {},
   "source": [
    "---"
   ]
  },
  {
   "cell_type": "markdown",
   "metadata": {},
   "source": [
    "<a id=\"section4\"></a>\n",
    "# <center>4. Gráficos (3)</center>\n",
    "[Voltar ao índice](#section0)<br>"
   ]
  },
  {
   "cell_type": "markdown",
   "metadata": {},
   "source": [
    "> - __produtos__ já definidos"
   ]
  },
  {
   "cell_type": "markdown",
   "metadata": {},
   "source": [
    "---"
   ]
  },
  {
   "cell_type": "markdown",
   "metadata": {},
   "source": [
    "- #  `dfFinal3`"
   ]
  },
  {
   "cell_type": "code",
   "execution_count": 266,
   "metadata": {},
   "outputs": [],
   "source": [
    "dfFinal3 = df2.copy()"
   ]
  },
  {
   "cell_type": "markdown",
   "metadata": {},
   "source": [
    "# Tabelas"
   ]
  },
  {
   "cell_type": "markdown",
   "metadata": {},
   "source": [
    "# - <span style=\"color:green\">Classic:</span>  Proporção de presença por produto"
   ]
  },
  {
   "cell_type": "code",
   "execution_count": 267,
   "metadata": {},
   "outputs": [],
   "source": [
    "# Média tirando os missing values\n",
    "df_Med = dfFinal3[produtos].mean(numeric_only=True)#.groupby('Altura_do_Dia').mean()\n",
    "\n",
    "# Passar para dataframe\n",
    "df_Classic = df_Med.to_frame()\n",
    "\n",
    "# Mudanças para ficar legível\n",
    "df_Classic = df_Classic.reset_index()\n",
    "df_Classic = df_Classic.rename(columns={'index': 'Produto', 0: 'Frequencia'})"
   ]
  },
  {
   "cell_type": "code",
   "execution_count": 268,
   "metadata": {},
   "outputs": [
    {
     "data": {
      "application/vnd.plotly.v1+json": {
       "config": {
        "plotlyServerURL": "https://plot.ly"
       },
       "data": [
        {
         "alignmentgroup": "True",
         "hovertemplate": "Produto=%{x}<br>Frequencia=%{y}<extra></extra>",
         "legendgroup": "",
         "marker": {
          "color": "#636efa",
          "pattern": {
           "shape": ""
          }
         },
         "name": "",
         "offsetgroup": "",
         "orientation": "v",
         "showlegend": false,
         "textposition": "auto",
         "type": "bar",
         "x": [
          "CAFÉ DELTA Q MYTHIQ 80CAP",
          "CAFÉ DELTA Q EPIQ 80CAP",
          "CAFÉ DELTA Q QALIDUS 80CAP",
          "CAFÉ DELTA Q QHARACTER 80CAP",
          "CAFÉ GINGA 10CAP",
          "CAFÉ BELLISSIMO AROMA INTENSO 30CAP",
          "CEVADA SOLÚVEL DELTA FRASCO 200G",
          "CAFÉ SOLÚVEL DELTA FRASCO 200G",
          "CAFÉ BELLISSIMO INTENSO 10 CAP",
          "CAFÉ BELLISSIMO ORIGINALE 10 CAP",
          "CAFFELATTE GO CHILL DELTA 230 ML",
          "CAPPUCCINO GO CHILL DELTA 230 ML",
          "Go Chill Double Expresso",
          "CARAMEL MACCHIATO GO CHILL DELTA 230ML",
          "LATTE MACCHIATO GO CHILL S/LAC 230ML"
         ],
         "xaxis": "x",
         "y": [
          0.912,
          0.936,
          0.8214285714285714,
          0.944,
          0.8541666666666666,
          0.875,
          0.952,
          0.952,
          0.8571428571428571,
          0.863013698630137,
          0.9230769230769231,
          0.9230769230769231,
          null,
          0.9230769230769231,
          1
         ],
         "yaxis": "y"
        }
       ],
       "layout": {
        "barmode": "relative",
        "legend": {
         "tracegroupgap": 0
        },
        "template": {
         "data": {
          "bar": [
           {
            "error_x": {
             "color": "#2a3f5f"
            },
            "error_y": {
             "color": "#2a3f5f"
            },
            "marker": {
             "line": {
              "color": "#E5ECF6",
              "width": 0.5
             },
             "pattern": {
              "fillmode": "overlay",
              "size": 10,
              "solidity": 0.2
             }
            },
            "type": "bar"
           }
          ],
          "barpolar": [
           {
            "marker": {
             "line": {
              "color": "#E5ECF6",
              "width": 0.5
             },
             "pattern": {
              "fillmode": "overlay",
              "size": 10,
              "solidity": 0.2
             }
            },
            "type": "barpolar"
           }
          ],
          "carpet": [
           {
            "aaxis": {
             "endlinecolor": "#2a3f5f",
             "gridcolor": "white",
             "linecolor": "white",
             "minorgridcolor": "white",
             "startlinecolor": "#2a3f5f"
            },
            "baxis": {
             "endlinecolor": "#2a3f5f",
             "gridcolor": "white",
             "linecolor": "white",
             "minorgridcolor": "white",
             "startlinecolor": "#2a3f5f"
            },
            "type": "carpet"
           }
          ],
          "choropleth": [
           {
            "colorbar": {
             "outlinewidth": 0,
             "ticks": ""
            },
            "type": "choropleth"
           }
          ],
          "contour": [
           {
            "colorbar": {
             "outlinewidth": 0,
             "ticks": ""
            },
            "colorscale": [
             [
              0,
              "#0d0887"
             ],
             [
              0.1111111111111111,
              "#46039f"
             ],
             [
              0.2222222222222222,
              "#7201a8"
             ],
             [
              0.3333333333333333,
              "#9c179e"
             ],
             [
              0.4444444444444444,
              "#bd3786"
             ],
             [
              0.5555555555555556,
              "#d8576b"
             ],
             [
              0.6666666666666666,
              "#ed7953"
             ],
             [
              0.7777777777777778,
              "#fb9f3a"
             ],
             [
              0.8888888888888888,
              "#fdca26"
             ],
             [
              1,
              "#f0f921"
             ]
            ],
            "type": "contour"
           }
          ],
          "contourcarpet": [
           {
            "colorbar": {
             "outlinewidth": 0,
             "ticks": ""
            },
            "type": "contourcarpet"
           }
          ],
          "heatmap": [
           {
            "colorbar": {
             "outlinewidth": 0,
             "ticks": ""
            },
            "colorscale": [
             [
              0,
              "#0d0887"
             ],
             [
              0.1111111111111111,
              "#46039f"
             ],
             [
              0.2222222222222222,
              "#7201a8"
             ],
             [
              0.3333333333333333,
              "#9c179e"
             ],
             [
              0.4444444444444444,
              "#bd3786"
             ],
             [
              0.5555555555555556,
              "#d8576b"
             ],
             [
              0.6666666666666666,
              "#ed7953"
             ],
             [
              0.7777777777777778,
              "#fb9f3a"
             ],
             [
              0.8888888888888888,
              "#fdca26"
             ],
             [
              1,
              "#f0f921"
             ]
            ],
            "type": "heatmap"
           }
          ],
          "heatmapgl": [
           {
            "colorbar": {
             "outlinewidth": 0,
             "ticks": ""
            },
            "colorscale": [
             [
              0,
              "#0d0887"
             ],
             [
              0.1111111111111111,
              "#46039f"
             ],
             [
              0.2222222222222222,
              "#7201a8"
             ],
             [
              0.3333333333333333,
              "#9c179e"
             ],
             [
              0.4444444444444444,
              "#bd3786"
             ],
             [
              0.5555555555555556,
              "#d8576b"
             ],
             [
              0.6666666666666666,
              "#ed7953"
             ],
             [
              0.7777777777777778,
              "#fb9f3a"
             ],
             [
              0.8888888888888888,
              "#fdca26"
             ],
             [
              1,
              "#f0f921"
             ]
            ],
            "type": "heatmapgl"
           }
          ],
          "histogram": [
           {
            "marker": {
             "pattern": {
              "fillmode": "overlay",
              "size": 10,
              "solidity": 0.2
             }
            },
            "type": "histogram"
           }
          ],
          "histogram2d": [
           {
            "colorbar": {
             "outlinewidth": 0,
             "ticks": ""
            },
            "colorscale": [
             [
              0,
              "#0d0887"
             ],
             [
              0.1111111111111111,
              "#46039f"
             ],
             [
              0.2222222222222222,
              "#7201a8"
             ],
             [
              0.3333333333333333,
              "#9c179e"
             ],
             [
              0.4444444444444444,
              "#bd3786"
             ],
             [
              0.5555555555555556,
              "#d8576b"
             ],
             [
              0.6666666666666666,
              "#ed7953"
             ],
             [
              0.7777777777777778,
              "#fb9f3a"
             ],
             [
              0.8888888888888888,
              "#fdca26"
             ],
             [
              1,
              "#f0f921"
             ]
            ],
            "type": "histogram2d"
           }
          ],
          "histogram2dcontour": [
           {
            "colorbar": {
             "outlinewidth": 0,
             "ticks": ""
            },
            "colorscale": [
             [
              0,
              "#0d0887"
             ],
             [
              0.1111111111111111,
              "#46039f"
             ],
             [
              0.2222222222222222,
              "#7201a8"
             ],
             [
              0.3333333333333333,
              "#9c179e"
             ],
             [
              0.4444444444444444,
              "#bd3786"
             ],
             [
              0.5555555555555556,
              "#d8576b"
             ],
             [
              0.6666666666666666,
              "#ed7953"
             ],
             [
              0.7777777777777778,
              "#fb9f3a"
             ],
             [
              0.8888888888888888,
              "#fdca26"
             ],
             [
              1,
              "#f0f921"
             ]
            ],
            "type": "histogram2dcontour"
           }
          ],
          "mesh3d": [
           {
            "colorbar": {
             "outlinewidth": 0,
             "ticks": ""
            },
            "type": "mesh3d"
           }
          ],
          "parcoords": [
           {
            "line": {
             "colorbar": {
              "outlinewidth": 0,
              "ticks": ""
             }
            },
            "type": "parcoords"
           }
          ],
          "pie": [
           {
            "automargin": true,
            "type": "pie"
           }
          ],
          "scatter": [
           {
            "fillpattern": {
             "fillmode": "overlay",
             "size": 10,
             "solidity": 0.2
            },
            "type": "scatter"
           }
          ],
          "scatter3d": [
           {
            "line": {
             "colorbar": {
              "outlinewidth": 0,
              "ticks": ""
             }
            },
            "marker": {
             "colorbar": {
              "outlinewidth": 0,
              "ticks": ""
             }
            },
            "type": "scatter3d"
           }
          ],
          "scattercarpet": [
           {
            "marker": {
             "colorbar": {
              "outlinewidth": 0,
              "ticks": ""
             }
            },
            "type": "scattercarpet"
           }
          ],
          "scattergeo": [
           {
            "marker": {
             "colorbar": {
              "outlinewidth": 0,
              "ticks": ""
             }
            },
            "type": "scattergeo"
           }
          ],
          "scattergl": [
           {
            "marker": {
             "colorbar": {
              "outlinewidth": 0,
              "ticks": ""
             }
            },
            "type": "scattergl"
           }
          ],
          "scattermapbox": [
           {
            "marker": {
             "colorbar": {
              "outlinewidth": 0,
              "ticks": ""
             }
            },
            "type": "scattermapbox"
           }
          ],
          "scatterpolar": [
           {
            "marker": {
             "colorbar": {
              "outlinewidth": 0,
              "ticks": ""
             }
            },
            "type": "scatterpolar"
           }
          ],
          "scatterpolargl": [
           {
            "marker": {
             "colorbar": {
              "outlinewidth": 0,
              "ticks": ""
             }
            },
            "type": "scatterpolargl"
           }
          ],
          "scatterternary": [
           {
            "marker": {
             "colorbar": {
              "outlinewidth": 0,
              "ticks": ""
             }
            },
            "type": "scatterternary"
           }
          ],
          "surface": [
           {
            "colorbar": {
             "outlinewidth": 0,
             "ticks": ""
            },
            "colorscale": [
             [
              0,
              "#0d0887"
             ],
             [
              0.1111111111111111,
              "#46039f"
             ],
             [
              0.2222222222222222,
              "#7201a8"
             ],
             [
              0.3333333333333333,
              "#9c179e"
             ],
             [
              0.4444444444444444,
              "#bd3786"
             ],
             [
              0.5555555555555556,
              "#d8576b"
             ],
             [
              0.6666666666666666,
              "#ed7953"
             ],
             [
              0.7777777777777778,
              "#fb9f3a"
             ],
             [
              0.8888888888888888,
              "#fdca26"
             ],
             [
              1,
              "#f0f921"
             ]
            ],
            "type": "surface"
           }
          ],
          "table": [
           {
            "cells": {
             "fill": {
              "color": "#EBF0F8"
             },
             "line": {
              "color": "white"
             }
            },
            "header": {
             "fill": {
              "color": "#C8D4E3"
             },
             "line": {
              "color": "white"
             }
            },
            "type": "table"
           }
          ]
         },
         "layout": {
          "annotationdefaults": {
           "arrowcolor": "#2a3f5f",
           "arrowhead": 0,
           "arrowwidth": 1
          },
          "autotypenumbers": "strict",
          "coloraxis": {
           "colorbar": {
            "outlinewidth": 0,
            "ticks": ""
           }
          },
          "colorscale": {
           "diverging": [
            [
             0,
             "#8e0152"
            ],
            [
             0.1,
             "#c51b7d"
            ],
            [
             0.2,
             "#de77ae"
            ],
            [
             0.3,
             "#f1b6da"
            ],
            [
             0.4,
             "#fde0ef"
            ],
            [
             0.5,
             "#f7f7f7"
            ],
            [
             0.6,
             "#e6f5d0"
            ],
            [
             0.7,
             "#b8e186"
            ],
            [
             0.8,
             "#7fbc41"
            ],
            [
             0.9,
             "#4d9221"
            ],
            [
             1,
             "#276419"
            ]
           ],
           "sequential": [
            [
             0,
             "#0d0887"
            ],
            [
             0.1111111111111111,
             "#46039f"
            ],
            [
             0.2222222222222222,
             "#7201a8"
            ],
            [
             0.3333333333333333,
             "#9c179e"
            ],
            [
             0.4444444444444444,
             "#bd3786"
            ],
            [
             0.5555555555555556,
             "#d8576b"
            ],
            [
             0.6666666666666666,
             "#ed7953"
            ],
            [
             0.7777777777777778,
             "#fb9f3a"
            ],
            [
             0.8888888888888888,
             "#fdca26"
            ],
            [
             1,
             "#f0f921"
            ]
           ],
           "sequentialminus": [
            [
             0,
             "#0d0887"
            ],
            [
             0.1111111111111111,
             "#46039f"
            ],
            [
             0.2222222222222222,
             "#7201a8"
            ],
            [
             0.3333333333333333,
             "#9c179e"
            ],
            [
             0.4444444444444444,
             "#bd3786"
            ],
            [
             0.5555555555555556,
             "#d8576b"
            ],
            [
             0.6666666666666666,
             "#ed7953"
            ],
            [
             0.7777777777777778,
             "#fb9f3a"
            ],
            [
             0.8888888888888888,
             "#fdca26"
            ],
            [
             1,
             "#f0f921"
            ]
           ]
          },
          "colorway": [
           "#636efa",
           "#EF553B",
           "#00cc96",
           "#ab63fa",
           "#FFA15A",
           "#19d3f3",
           "#FF6692",
           "#B6E880",
           "#FF97FF",
           "#FECB52"
          ],
          "font": {
           "color": "#2a3f5f"
          },
          "geo": {
           "bgcolor": "white",
           "lakecolor": "white",
           "landcolor": "#E5ECF6",
           "showlakes": true,
           "showland": true,
           "subunitcolor": "white"
          },
          "hoverlabel": {
           "align": "left"
          },
          "hovermode": "closest",
          "mapbox": {
           "style": "light"
          },
          "paper_bgcolor": "white",
          "plot_bgcolor": "#E5ECF6",
          "polar": {
           "angularaxis": {
            "gridcolor": "white",
            "linecolor": "white",
            "ticks": ""
           },
           "bgcolor": "#E5ECF6",
           "radialaxis": {
            "gridcolor": "white",
            "linecolor": "white",
            "ticks": ""
           }
          },
          "scene": {
           "xaxis": {
            "backgroundcolor": "#E5ECF6",
            "gridcolor": "white",
            "gridwidth": 2,
            "linecolor": "white",
            "showbackground": true,
            "ticks": "",
            "zerolinecolor": "white"
           },
           "yaxis": {
            "backgroundcolor": "#E5ECF6",
            "gridcolor": "white",
            "gridwidth": 2,
            "linecolor": "white",
            "showbackground": true,
            "ticks": "",
            "zerolinecolor": "white"
           },
           "zaxis": {
            "backgroundcolor": "#E5ECF6",
            "gridcolor": "white",
            "gridwidth": 2,
            "linecolor": "white",
            "showbackground": true,
            "ticks": "",
            "zerolinecolor": "white"
           }
          },
          "shapedefaults": {
           "line": {
            "color": "#2a3f5f"
           }
          },
          "ternary": {
           "aaxis": {
            "gridcolor": "white",
            "linecolor": "white",
            "ticks": ""
           },
           "baxis": {
            "gridcolor": "white",
            "linecolor": "white",
            "ticks": ""
           },
           "bgcolor": "#E5ECF6",
           "caxis": {
            "gridcolor": "white",
            "linecolor": "white",
            "ticks": ""
           }
          },
          "title": {
           "x": 0.05
          },
          "xaxis": {
           "automargin": true,
           "gridcolor": "white",
           "linecolor": "white",
           "ticks": "",
           "title": {
            "standoff": 15
           },
           "zerolinecolor": "white",
           "zerolinewidth": 2
          },
          "yaxis": {
           "automargin": true,
           "gridcolor": "white",
           "linecolor": "white",
           "ticks": "",
           "title": {
            "standoff": 15
           },
           "zerolinecolor": "white",
           "zerolinewidth": 2
          }
         }
        },
        "title": {
         "text": "Classic"
        },
        "xaxis": {
         "anchor": "y",
         "domain": [
          0,
          1
         ],
         "title": {
          "text": "Produto"
         }
        },
        "yaxis": {
         "anchor": "x",
         "domain": [
          0,
          1
         ],
         "title": {
          "text": "Frequencia"
         }
        }
       }
      },
      "text/html": [
       "<div>                            <div id=\"0495b3bf-eea7-4331-b771-7c70d3631731\" class=\"plotly-graph-div\" style=\"height:525px; width:100%;\"></div>            <script type=\"text/javascript\">                require([\"plotly\"], function(Plotly) {                    window.PLOTLYENV=window.PLOTLYENV || {};                                    if (document.getElementById(\"0495b3bf-eea7-4331-b771-7c70d3631731\")) {                    Plotly.newPlot(                        \"0495b3bf-eea7-4331-b771-7c70d3631731\",                        [{\"alignmentgroup\":\"True\",\"hovertemplate\":\"Produto=%{x}<br>Frequencia=%{y}<extra></extra>\",\"legendgroup\":\"\",\"marker\":{\"color\":\"#636efa\",\"pattern\":{\"shape\":\"\"}},\"name\":\"\",\"offsetgroup\":\"\",\"orientation\":\"v\",\"showlegend\":false,\"textposition\":\"auto\",\"x\":[\"CAF\\u00c9 DELTA Q MYTHIQ 80CAP\",\"CAF\\u00c9 DELTA Q EPIQ 80CAP\",\"CAF\\u00c9 DELTA Q QALIDUS 80CAP\",\"CAF\\u00c9 DELTA Q QHARACTER 80CAP\",\"CAF\\u00c9 GINGA 10CAP\",\"CAF\\u00c9 BELLISSIMO AROMA INTENSO 30CAP\",\"CEVADA SOL\\u00daVEL DELTA FRASCO 200G\",\"CAF\\u00c9 SOL\\u00daVEL DELTA FRASCO 200G\",\"CAF\\u00c9 BELLISSIMO INTENSO 10 CAP\",\"CAF\\u00c9 BELLISSIMO ORIGINALE 10 CAP\",\"CAFFELATTE GO CHILL DELTA 230 ML\",\"CAPPUCCINO GO CHILL DELTA 230 ML\",\"Go Chill Double Expresso\",\"CARAMEL MACCHIATO GO CHILL DELTA 230ML\",\"LATTE MACCHIATO GO CHILL S/LAC 230ML\"],\"xaxis\":\"x\",\"y\":[0.912,0.936,0.8214285714285714,0.944,0.8541666666666666,0.875,0.952,0.952,0.8571428571428571,0.863013698630137,0.9230769230769231,0.9230769230769231,null,0.9230769230769231,1.0],\"yaxis\":\"y\",\"type\":\"bar\"}],                        {\"template\":{\"data\":{\"histogram2dcontour\":[{\"type\":\"histogram2dcontour\",\"colorbar\":{\"outlinewidth\":0,\"ticks\":\"\"},\"colorscale\":[[0.0,\"#0d0887\"],[0.1111111111111111,\"#46039f\"],[0.2222222222222222,\"#7201a8\"],[0.3333333333333333,\"#9c179e\"],[0.4444444444444444,\"#bd3786\"],[0.5555555555555556,\"#d8576b\"],[0.6666666666666666,\"#ed7953\"],[0.7777777777777778,\"#fb9f3a\"],[0.8888888888888888,\"#fdca26\"],[1.0,\"#f0f921\"]]}],\"choropleth\":[{\"type\":\"choropleth\",\"colorbar\":{\"outlinewidth\":0,\"ticks\":\"\"}}],\"histogram2d\":[{\"type\":\"histogram2d\",\"colorbar\":{\"outlinewidth\":0,\"ticks\":\"\"},\"colorscale\":[[0.0,\"#0d0887\"],[0.1111111111111111,\"#46039f\"],[0.2222222222222222,\"#7201a8\"],[0.3333333333333333,\"#9c179e\"],[0.4444444444444444,\"#bd3786\"],[0.5555555555555556,\"#d8576b\"],[0.6666666666666666,\"#ed7953\"],[0.7777777777777778,\"#fb9f3a\"],[0.8888888888888888,\"#fdca26\"],[1.0,\"#f0f921\"]]}],\"heatmap\":[{\"type\":\"heatmap\",\"colorbar\":{\"outlinewidth\":0,\"ticks\":\"\"},\"colorscale\":[[0.0,\"#0d0887\"],[0.1111111111111111,\"#46039f\"],[0.2222222222222222,\"#7201a8\"],[0.3333333333333333,\"#9c179e\"],[0.4444444444444444,\"#bd3786\"],[0.5555555555555556,\"#d8576b\"],[0.6666666666666666,\"#ed7953\"],[0.7777777777777778,\"#fb9f3a\"],[0.8888888888888888,\"#fdca26\"],[1.0,\"#f0f921\"]]}],\"heatmapgl\":[{\"type\":\"heatmapgl\",\"colorbar\":{\"outlinewidth\":0,\"ticks\":\"\"},\"colorscale\":[[0.0,\"#0d0887\"],[0.1111111111111111,\"#46039f\"],[0.2222222222222222,\"#7201a8\"],[0.3333333333333333,\"#9c179e\"],[0.4444444444444444,\"#bd3786\"],[0.5555555555555556,\"#d8576b\"],[0.6666666666666666,\"#ed7953\"],[0.7777777777777778,\"#fb9f3a\"],[0.8888888888888888,\"#fdca26\"],[1.0,\"#f0f921\"]]}],\"contourcarpet\":[{\"type\":\"contourcarpet\",\"colorbar\":{\"outlinewidth\":0,\"ticks\":\"\"}}],\"contour\":[{\"type\":\"contour\",\"colorbar\":{\"outlinewidth\":0,\"ticks\":\"\"},\"colorscale\":[[0.0,\"#0d0887\"],[0.1111111111111111,\"#46039f\"],[0.2222222222222222,\"#7201a8\"],[0.3333333333333333,\"#9c179e\"],[0.4444444444444444,\"#bd3786\"],[0.5555555555555556,\"#d8576b\"],[0.6666666666666666,\"#ed7953\"],[0.7777777777777778,\"#fb9f3a\"],[0.8888888888888888,\"#fdca26\"],[1.0,\"#f0f921\"]]}],\"surface\":[{\"type\":\"surface\",\"colorbar\":{\"outlinewidth\":0,\"ticks\":\"\"},\"colorscale\":[[0.0,\"#0d0887\"],[0.1111111111111111,\"#46039f\"],[0.2222222222222222,\"#7201a8\"],[0.3333333333333333,\"#9c179e\"],[0.4444444444444444,\"#bd3786\"],[0.5555555555555556,\"#d8576b\"],[0.6666666666666666,\"#ed7953\"],[0.7777777777777778,\"#fb9f3a\"],[0.8888888888888888,\"#fdca26\"],[1.0,\"#f0f921\"]]}],\"mesh3d\":[{\"type\":\"mesh3d\",\"colorbar\":{\"outlinewidth\":0,\"ticks\":\"\"}}],\"scatter\":[{\"fillpattern\":{\"fillmode\":\"overlay\",\"size\":10,\"solidity\":0.2},\"type\":\"scatter\"}],\"parcoords\":[{\"type\":\"parcoords\",\"line\":{\"colorbar\":{\"outlinewidth\":0,\"ticks\":\"\"}}}],\"scatterpolargl\":[{\"type\":\"scatterpolargl\",\"marker\":{\"colorbar\":{\"outlinewidth\":0,\"ticks\":\"\"}}}],\"bar\":[{\"error_x\":{\"color\":\"#2a3f5f\"},\"error_y\":{\"color\":\"#2a3f5f\"},\"marker\":{\"line\":{\"color\":\"#E5ECF6\",\"width\":0.5},\"pattern\":{\"fillmode\":\"overlay\",\"size\":10,\"solidity\":0.2}},\"type\":\"bar\"}],\"scattergeo\":[{\"type\":\"scattergeo\",\"marker\":{\"colorbar\":{\"outlinewidth\":0,\"ticks\":\"\"}}}],\"scatterpolar\":[{\"type\":\"scatterpolar\",\"marker\":{\"colorbar\":{\"outlinewidth\":0,\"ticks\":\"\"}}}],\"histogram\":[{\"marker\":{\"pattern\":{\"fillmode\":\"overlay\",\"size\":10,\"solidity\":0.2}},\"type\":\"histogram\"}],\"scattergl\":[{\"type\":\"scattergl\",\"marker\":{\"colorbar\":{\"outlinewidth\":0,\"ticks\":\"\"}}}],\"scatter3d\":[{\"type\":\"scatter3d\",\"line\":{\"colorbar\":{\"outlinewidth\":0,\"ticks\":\"\"}},\"marker\":{\"colorbar\":{\"outlinewidth\":0,\"ticks\":\"\"}}}],\"scattermapbox\":[{\"type\":\"scattermapbox\",\"marker\":{\"colorbar\":{\"outlinewidth\":0,\"ticks\":\"\"}}}],\"scatterternary\":[{\"type\":\"scatterternary\",\"marker\":{\"colorbar\":{\"outlinewidth\":0,\"ticks\":\"\"}}}],\"scattercarpet\":[{\"type\":\"scattercarpet\",\"marker\":{\"colorbar\":{\"outlinewidth\":0,\"ticks\":\"\"}}}],\"carpet\":[{\"aaxis\":{\"endlinecolor\":\"#2a3f5f\",\"gridcolor\":\"white\",\"linecolor\":\"white\",\"minorgridcolor\":\"white\",\"startlinecolor\":\"#2a3f5f\"},\"baxis\":{\"endlinecolor\":\"#2a3f5f\",\"gridcolor\":\"white\",\"linecolor\":\"white\",\"minorgridcolor\":\"white\",\"startlinecolor\":\"#2a3f5f\"},\"type\":\"carpet\"}],\"table\":[{\"cells\":{\"fill\":{\"color\":\"#EBF0F8\"},\"line\":{\"color\":\"white\"}},\"header\":{\"fill\":{\"color\":\"#C8D4E3\"},\"line\":{\"color\":\"white\"}},\"type\":\"table\"}],\"barpolar\":[{\"marker\":{\"line\":{\"color\":\"#E5ECF6\",\"width\":0.5},\"pattern\":{\"fillmode\":\"overlay\",\"size\":10,\"solidity\":0.2}},\"type\":\"barpolar\"}],\"pie\":[{\"automargin\":true,\"type\":\"pie\"}]},\"layout\":{\"autotypenumbers\":\"strict\",\"colorway\":[\"#636efa\",\"#EF553B\",\"#00cc96\",\"#ab63fa\",\"#FFA15A\",\"#19d3f3\",\"#FF6692\",\"#B6E880\",\"#FF97FF\",\"#FECB52\"],\"font\":{\"color\":\"#2a3f5f\"},\"hovermode\":\"closest\",\"hoverlabel\":{\"align\":\"left\"},\"paper_bgcolor\":\"white\",\"plot_bgcolor\":\"#E5ECF6\",\"polar\":{\"bgcolor\":\"#E5ECF6\",\"angularaxis\":{\"gridcolor\":\"white\",\"linecolor\":\"white\",\"ticks\":\"\"},\"radialaxis\":{\"gridcolor\":\"white\",\"linecolor\":\"white\",\"ticks\":\"\"}},\"ternary\":{\"bgcolor\":\"#E5ECF6\",\"aaxis\":{\"gridcolor\":\"white\",\"linecolor\":\"white\",\"ticks\":\"\"},\"baxis\":{\"gridcolor\":\"white\",\"linecolor\":\"white\",\"ticks\":\"\"},\"caxis\":{\"gridcolor\":\"white\",\"linecolor\":\"white\",\"ticks\":\"\"}},\"coloraxis\":{\"colorbar\":{\"outlinewidth\":0,\"ticks\":\"\"}},\"colorscale\":{\"sequential\":[[0.0,\"#0d0887\"],[0.1111111111111111,\"#46039f\"],[0.2222222222222222,\"#7201a8\"],[0.3333333333333333,\"#9c179e\"],[0.4444444444444444,\"#bd3786\"],[0.5555555555555556,\"#d8576b\"],[0.6666666666666666,\"#ed7953\"],[0.7777777777777778,\"#fb9f3a\"],[0.8888888888888888,\"#fdca26\"],[1.0,\"#f0f921\"]],\"sequentialminus\":[[0.0,\"#0d0887\"],[0.1111111111111111,\"#46039f\"],[0.2222222222222222,\"#7201a8\"],[0.3333333333333333,\"#9c179e\"],[0.4444444444444444,\"#bd3786\"],[0.5555555555555556,\"#d8576b\"],[0.6666666666666666,\"#ed7953\"],[0.7777777777777778,\"#fb9f3a\"],[0.8888888888888888,\"#fdca26\"],[1.0,\"#f0f921\"]],\"diverging\":[[0,\"#8e0152\"],[0.1,\"#c51b7d\"],[0.2,\"#de77ae\"],[0.3,\"#f1b6da\"],[0.4,\"#fde0ef\"],[0.5,\"#f7f7f7\"],[0.6,\"#e6f5d0\"],[0.7,\"#b8e186\"],[0.8,\"#7fbc41\"],[0.9,\"#4d9221\"],[1,\"#276419\"]]},\"xaxis\":{\"gridcolor\":\"white\",\"linecolor\":\"white\",\"ticks\":\"\",\"title\":{\"standoff\":15},\"zerolinecolor\":\"white\",\"automargin\":true,\"zerolinewidth\":2},\"yaxis\":{\"gridcolor\":\"white\",\"linecolor\":\"white\",\"ticks\":\"\",\"title\":{\"standoff\":15},\"zerolinecolor\":\"white\",\"automargin\":true,\"zerolinewidth\":2},\"scene\":{\"xaxis\":{\"backgroundcolor\":\"#E5ECF6\",\"gridcolor\":\"white\",\"linecolor\":\"white\",\"showbackground\":true,\"ticks\":\"\",\"zerolinecolor\":\"white\",\"gridwidth\":2},\"yaxis\":{\"backgroundcolor\":\"#E5ECF6\",\"gridcolor\":\"white\",\"linecolor\":\"white\",\"showbackground\":true,\"ticks\":\"\",\"zerolinecolor\":\"white\",\"gridwidth\":2},\"zaxis\":{\"backgroundcolor\":\"#E5ECF6\",\"gridcolor\":\"white\",\"linecolor\":\"white\",\"showbackground\":true,\"ticks\":\"\",\"zerolinecolor\":\"white\",\"gridwidth\":2}},\"shapedefaults\":{\"line\":{\"color\":\"#2a3f5f\"}},\"annotationdefaults\":{\"arrowcolor\":\"#2a3f5f\",\"arrowhead\":0,\"arrowwidth\":1},\"geo\":{\"bgcolor\":\"white\",\"landcolor\":\"#E5ECF6\",\"subunitcolor\":\"white\",\"showland\":true,\"showlakes\":true,\"lakecolor\":\"white\"},\"title\":{\"x\":0.05},\"mapbox\":{\"style\":\"light\"}}},\"xaxis\":{\"anchor\":\"y\",\"domain\":[0.0,1.0],\"title\":{\"text\":\"Produto\"}},\"yaxis\":{\"anchor\":\"x\",\"domain\":[0.0,1.0],\"title\":{\"text\":\"Frequencia\"}},\"legend\":{\"tracegroupgap\":0},\"title\":{\"text\":\"Classic\"},\"barmode\":\"relative\"},                        {\"responsive\": true}                    ).then(function(){\n",
       "                            \n",
       "var gd = document.getElementById('0495b3bf-eea7-4331-b771-7c70d3631731');\n",
       "var x = new MutationObserver(function (mutations, observer) {{\n",
       "        var display = window.getComputedStyle(gd).display;\n",
       "        if (!display || display === 'none') {{\n",
       "            console.log([gd, 'removed!']);\n",
       "            Plotly.purge(gd);\n",
       "            observer.disconnect();\n",
       "        }}\n",
       "}});\n",
       "\n",
       "// Listen for the removal of the full notebook cells\n",
       "var notebookContainer = gd.closest('#notebook-container');\n",
       "if (notebookContainer) {{\n",
       "    x.observe(notebookContainer, {childList: true});\n",
       "}}\n",
       "\n",
       "// Listen for the clearing of the current output cell\n",
       "var outputEl = gd.closest('.output');\n",
       "if (outputEl) {{\n",
       "    x.observe(outputEl, {childList: true});\n",
       "}}\n",
       "\n",
       "                        })                };                });            </script>        </div>"
      ]
     },
     "metadata": {},
     "output_type": "display_data"
    }
   ],
   "source": [
    "import plotly.express as px\n",
    "fig = px.bar(df_Classic, x='Produto', y='Frequencia', title='Classic')\n",
    "fig.show()"
   ]
  },
  {
   "cell_type": "markdown",
   "metadata": {},
   "source": [
    "- ###  <span style=\"color:BLUE\">Com e sem Reposição</span>"
   ]
  },
  {
   "cell_type": "code",
   "execution_count": 269,
   "metadata": {},
   "outputs": [],
   "source": [
    "# Definir se os produtos têm reposição\n",
    "\n",
    "# Sim\n",
    "df_ComRep = dfFinal3[dfFinal3[\"Repos\"] == 1]\n",
    "\n",
    "# Não\n",
    "df_SemRep = dfFinal3[dfFinal3[\"Repos\"] == 0]"
   ]
  },
  {
   "cell_type": "markdown",
   "metadata": {},
   "source": [
    ">> <font color=blue>Com</font>"
   ]
  },
  {
   "cell_type": "code",
   "execution_count": 270,
   "metadata": {},
   "outputs": [],
   "source": [
    "# Proporção\n",
    "serie_MedRep = df_ComRep[produtos].mean(numeric_only=True)\n",
    "\n",
    "# Para df\n",
    "df_Classic_ComRepo = serie_MedRep.to_frame()\n",
    "\n",
    "# Mudanças para ficar legível\n",
    "df_Classic_ComRepo = df_Classic_ComRepo.reset_index()\n",
    "df_Classic_ComRepo = df_Classic_ComRepo.rename(columns={'index': 'Produto', 0: 'Frequencia'})"
   ]
  },
  {
   "cell_type": "raw",
   "metadata": {},
   "source": [
    "fig = px.bar(df_Classic_ComRepo, x='Produto', y='Frequencia', title='Classic')\n",
    "fig.show()"
   ]
  },
  {
   "cell_type": "markdown",
   "metadata": {},
   "source": [
    ">> <font color=blue>Sem"
   ]
  },
  {
   "cell_type": "code",
   "execution_count": 271,
   "metadata": {},
   "outputs": [],
   "source": [
    "# Proporção\n",
    "serie_MedSemRep = df_SemRep[produtos].mean(numeric_only=True)\n",
    "\n",
    "# Proporção\n",
    "df_Classic_SemRepo = serie_MedSemRep.to_frame()\n",
    "\n",
    "# Mudanças para ficar legível\n",
    "df_Classic_SemRepo = df_Classic_SemRepo.reset_index()\n",
    "df_Classic_SemRepo = df_Classic_SemRepo.rename(columns={'index': 'Produto', 0: 'Frequencia'})"
   ]
  },
  {
   "cell_type": "raw",
   "metadata": {},
   "source": [
    "fig = px.bar(df_Classic_SemRepo, x='Produto', y='Frequencia', title='Classic')\n",
    "fig.show()"
   ]
  },
  {
   "cell_type": "markdown",
   "metadata": {},
   "source": [
    "---"
   ]
  },
  {
   "cell_type": "markdown",
   "metadata": {},
   "source": [
    "# - <font color=green> Final</font>: Proporção de presença por loja"
   ]
  },
  {
   "cell_type": "code",
   "execution_count": 306,
   "metadata": {},
   "outputs": [],
   "source": [
    "# com reposição\n",
    "dfFinal3[\"Num_ProdutosRep\"] = np.nan\n",
    "dfFinal3.loc[dfFinal3['Repos'] == 1, 'Num_ProdutosRep'] = dfFinal3[\"Num_Produtos\"]\n",
    "\n",
    "\n",
    "# sem reposição\n",
    "dfFinal3[\"Num_ProdutosNRep\"] = np.nan\n",
    "dfFinal3.loc[dfFinal3['Repos'] == 0, 'Num_ProdutosNRep'] = dfFinal3[\"Num_Produtos\"]\n",
    "\n",
    "# Coluna para ter o número de produtos contratados pela marca\n",
    "dfFinal3[\"Num_Produtos\"] = dfFinal3[produtos].sum(axis=1)\n",
    "dfFinal3[\"Produtos_Contratados\"] = dfFinal3[produtos].notna().sum(axis=1)"
   ]
  },
  {
   "cell_type": "code",
   "execution_count": 307,
   "metadata": {},
   "outputs": [],
   "source": [
    "'''Fazer colunas de proporção de produtos presentes em loja, depois especificando para quando têm e não têm reposição'''\n",
    "\n",
    "df_NumProd=dfFinal3[[\"Loja\",\"Num_Produtos\",\"Num_ProdutosRep\",\"Num_ProdutosNRep\"]].copy()\n",
    "df_NumProd[\"Prop_Produtos\"] = (df_NumProd[\"Num_Produtos\"] / dfFinal3[\"Produtos_Contratados\"])*100\n",
    "df_NumProd[\"Prop_ProdutosRep\"] = (df_NumProd[\"Num_ProdutosRep\"] / dfFinal3[\"Produtos_Contratados\"])*100\n",
    "df_NumProd[\"Prop_ProdutosNRep\"] = (df_NumProd[\"Num_ProdutosNRep\"] / dfFinal3[\"Produtos_Contratados\"])*100"
   ]
  },
  {
   "cell_type": "code",
   "execution_count": 308,
   "metadata": {},
   "outputs": [],
   "source": [
    "# Acrescentar à base original\n",
    "dfFinal3[\"Prop_Produtos\"] = df_NumProd[\"Prop_Produtos\"]"
   ]
  },
  {
   "cell_type": "code",
   "execution_count": 309,
   "metadata": {},
   "outputs": [
    {
     "data": {
      "text/html": [
       "<div>\n",
       "<style scoped>\n",
       "    .dataframe tbody tr th:only-of-type {\n",
       "        vertical-align: middle;\n",
       "    }\n",
       "\n",
       "    .dataframe tbody tr th {\n",
       "        vertical-align: top;\n",
       "    }\n",
       "\n",
       "    .dataframe thead th {\n",
       "        text-align: right;\n",
       "    }\n",
       "</style>\n",
       "<table border=\"1\" class=\"dataframe\">\n",
       "  <thead>\n",
       "    <tr style=\"text-align: right;\">\n",
       "      <th></th>\n",
       "      <th>Loja</th>\n",
       "      <th>Num_Produtos</th>\n",
       "      <th>Num_ProdutosRep</th>\n",
       "      <th>Num_ProdutosNRep</th>\n",
       "      <th>Prop_Produtos</th>\n",
       "      <th>Prop_ProdutosRep</th>\n",
       "      <th>Prop_ProdutosNRep</th>\n",
       "    </tr>\n",
       "  </thead>\n",
       "  <tbody>\n",
       "    <tr>\n",
       "      <th>0</th>\n",
       "      <td>Continente Amadora</td>\n",
       "      <td>10.0</td>\n",
       "      <td>10.0</td>\n",
       "      <td>NaN</td>\n",
       "      <td>100.0</td>\n",
       "      <td>100.0</td>\n",
       "      <td>NaN</td>\n",
       "    </tr>\n",
       "    <tr>\n",
       "      <th>1</th>\n",
       "      <td>Continente Antas</td>\n",
       "      <td>10.0</td>\n",
       "      <td>10.0</td>\n",
       "      <td>NaN</td>\n",
       "      <td>100.0</td>\n",
       "      <td>100.0</td>\n",
       "      <td>NaN</td>\n",
       "    </tr>\n",
       "    <tr>\n",
       "      <th>2</th>\n",
       "      <td>Continente Aveiro</td>\n",
       "      <td>9.0</td>\n",
       "      <td>9.0</td>\n",
       "      <td>NaN</td>\n",
       "      <td>90.0</td>\n",
       "      <td>90.0</td>\n",
       "      <td>NaN</td>\n",
       "    </tr>\n",
       "    <tr>\n",
       "      <th>3</th>\n",
       "      <td>Continente Braga</td>\n",
       "      <td>10.0</td>\n",
       "      <td>10.0</td>\n",
       "      <td>NaN</td>\n",
       "      <td>100.0</td>\n",
       "      <td>100.0</td>\n",
       "      <td>NaN</td>\n",
       "    </tr>\n",
       "    <tr>\n",
       "      <th>4</th>\n",
       "      <td>Continente Braga 0va Arcada</td>\n",
       "      <td>10.0</td>\n",
       "      <td>NaN</td>\n",
       "      <td>10.0</td>\n",
       "      <td>100.0</td>\n",
       "      <td>NaN</td>\n",
       "      <td>100.0</td>\n",
       "    </tr>\n",
       "    <tr>\n",
       "      <th>...</th>\n",
       "      <td>...</td>\n",
       "      <td>...</td>\n",
       "      <td>...</td>\n",
       "      <td>...</td>\n",
       "      <td>...</td>\n",
       "      <td>...</td>\n",
       "      <td>...</td>\n",
       "    </tr>\n",
       "    <tr>\n",
       "      <th>133</th>\n",
       "      <td>Continente Matosinhos</td>\n",
       "      <td>4.0</td>\n",
       "      <td>4.0</td>\n",
       "      <td>NaN</td>\n",
       "      <td>100.0</td>\n",
       "      <td>100.0</td>\n",
       "      <td>NaN</td>\n",
       "    </tr>\n",
       "    <tr>\n",
       "      <th>134</th>\n",
       "      <td>Continente Modelo Albufeira</td>\n",
       "      <td>3.0</td>\n",
       "      <td>NaN</td>\n",
       "      <td>3.0</td>\n",
       "      <td>100.0</td>\n",
       "      <td>NaN</td>\n",
       "      <td>100.0</td>\n",
       "    </tr>\n",
       "    <tr>\n",
       "      <th>135</th>\n",
       "      <td>Continente Modelo Portalegre</td>\n",
       "      <td>3.0</td>\n",
       "      <td>NaN</td>\n",
       "      <td>3.0</td>\n",
       "      <td>100.0</td>\n",
       "      <td>NaN</td>\n",
       "      <td>100.0</td>\n",
       "    </tr>\n",
       "    <tr>\n",
       "      <th>136</th>\n",
       "      <td>Continente Santarém</td>\n",
       "      <td>4.0</td>\n",
       "      <td>NaN</td>\n",
       "      <td>4.0</td>\n",
       "      <td>100.0</td>\n",
       "      <td>NaN</td>\n",
       "      <td>100.0</td>\n",
       "    </tr>\n",
       "    <tr>\n",
       "      <th>137</th>\n",
       "      <td>Continente Telheiras</td>\n",
       "      <td>4.0</td>\n",
       "      <td>4.0</td>\n",
       "      <td>NaN</td>\n",
       "      <td>100.0</td>\n",
       "      <td>100.0</td>\n",
       "      <td>NaN</td>\n",
       "    </tr>\n",
       "  </tbody>\n",
       "</table>\n",
       "<p>138 rows × 7 columns</p>\n",
       "</div>"
      ],
      "text/plain": [
       "                             Loja  Num_Produtos  Num_ProdutosRep  \\\n",
       "0              Continente Amadora          10.0             10.0   \n",
       "1                Continente Antas          10.0             10.0   \n",
       "2               Continente Aveiro           9.0              9.0   \n",
       "3                Continente Braga          10.0             10.0   \n",
       "4     Continente Braga 0va Arcada          10.0              NaN   \n",
       "..                            ...           ...              ...   \n",
       "133         Continente Matosinhos           4.0              4.0   \n",
       "134   Continente Modelo Albufeira           3.0              NaN   \n",
       "135  Continente Modelo Portalegre           3.0              NaN   \n",
       "136           Continente Santarém           4.0              NaN   \n",
       "137          Continente Telheiras           4.0              4.0   \n",
       "\n",
       "     Num_ProdutosNRep  Prop_Produtos  Prop_ProdutosRep  Prop_ProdutosNRep  \n",
       "0                 NaN          100.0             100.0                NaN  \n",
       "1                 NaN          100.0             100.0                NaN  \n",
       "2                 NaN           90.0              90.0                NaN  \n",
       "3                 NaN          100.0             100.0                NaN  \n",
       "4                10.0          100.0               NaN              100.0  \n",
       "..                ...            ...               ...                ...  \n",
       "133               NaN          100.0             100.0                NaN  \n",
       "134               3.0          100.0               NaN              100.0  \n",
       "135               3.0          100.0               NaN              100.0  \n",
       "136               4.0          100.0               NaN              100.0  \n",
       "137               NaN          100.0             100.0                NaN  \n",
       "\n",
       "[138 rows x 7 columns]"
      ]
     },
     "execution_count": 309,
     "metadata": {},
     "output_type": "execute_result"
    }
   ],
   "source": [
    "df_NumProd"
   ]
  },
  {
   "cell_type": "markdown",
   "metadata": {},
   "source": [
    "---"
   ]
  },
  {
   "cell_type": "markdown",
   "metadata": {},
   "source": [
    "# - <font color=green> Roturas</font>: Proporção de roturas por produto"
   ]
  },
  {
   "cell_type": "code",
   "execution_count": 275,
   "metadata": {},
   "outputs": [],
   "source": [
    "df_RotMed = dfFinal3[[\"ROTURA %s\" % produto for produto in produtos]].mean(numeric_only=True)\n",
    "\n",
    "# Passar para dataframe\n",
    "df_Rot = df_RotMed.to_frame()\n",
    "df_Rot = df_Rot.reset_index()\n",
    "df_Rot = df_Rot.rename(columns={'index': 'Produto', 0: 'Frequencia'})\n",
    "df_Rot[\"Frequencia\"] = df_Rot[\"Frequencia\"]*100"
   ]
  },
  {
   "cell_type": "markdown",
   "metadata": {},
   "source": [
    "## <center><font color=orange>Output DataFusion Wide"
   ]
  },
  {
   "cell_type": "code",
   "execution_count": 276,
   "metadata": {},
   "outputs": [],
   "source": [
    "df2_2 = dfFinal3\n",
    "\n",
    "#df_Classic\n",
    "#df_Classic_ComRepo\n",
    "#df_Classic_SemRepo\n",
    "#df_Rot\n",
    "#df_NumProd"
   ]
  },
  {
   "cell_type": "markdown",
   "metadata": {},
   "source": [
    "[Visualizar](#section6)\n",
    "\n",
    "---"
   ]
  },
  {
   "cell_type": "code",
   "execution_count": 277,
   "metadata": {},
   "outputs": [
    {
     "data": {
      "text/plain": [
       "['CAFÉ DELTA Q MYTHIQ 80CAP',\n",
       " 'CAFÉ DELTA Q EPIQ 80CAP',\n",
       " 'CAFÉ DELTA Q QALIDUS 80CAP',\n",
       " 'CAFÉ DELTA Q QHARACTER 80CAP',\n",
       " 'CAFÉ GINGA 10CAP',\n",
       " 'CAFÉ BELLISSIMO AROMA INTENSO 30CAP',\n",
       " 'CEVADA SOLÚVEL DELTA FRASCO 200G',\n",
       " 'CAFÉ SOLÚVEL DELTA FRASCO 200G',\n",
       " 'CAFÉ BELLISSIMO INTENSO 10 CAP',\n",
       " 'CAFÉ BELLISSIMO ORIGINALE 10 CAP',\n",
       " 'CAFFELATTE GO CHILL DELTA 230 ML',\n",
       " 'CAPPUCCINO GO CHILL DELTA 230 ML',\n",
       " 'Go Chill Double Expresso',\n",
       " 'CARAMEL MACCHIATO GO CHILL DELTA 230ML',\n",
       " 'LATTE MACCHIATO GO CHILL S/LAC 230ML']"
      ]
     },
     "execution_count": 277,
     "metadata": {},
     "output_type": "execute_result"
    }
   ],
   "source": [
    "produtos"
   ]
  },
  {
   "cell_type": "code",
   "execution_count": 278,
   "metadata": {},
   "outputs": [
    {
     "data": {
      "text/plain": [
       "74.0"
      ]
     },
     "execution_count": 278,
     "metadata": {},
     "output_type": "execute_result"
    }
   ],
   "source": [
    "df1[df1.DESC_ARTIGO == \"CAFÉ BELLISSIMO ORIGINALE 10 CAP\"].NinjaInfo.sum()"
   ]
  },
  {
   "cell_type": "markdown",
   "metadata": {},
   "source": [
    "<a id=\"section5\"></a>\n",
    "# <center><u>Escrever</u></center>\n",
    "[Voltar ao índice](#section0)"
   ]
  },
  {
   "cell_type": "code",
   "execution_count": 314,
   "metadata": {},
   "outputs": [
    {
     "data": {
      "text/plain": [
       "['0: Vendedor',\n",
       " '1: Loja',\n",
       " '2: STORE',\n",
       " '3: DATA',\n",
       " '4: CAFÉ DELTA Q MYTHIQ 80CAP',\n",
       " '5: CAFÉ DELTA Q EPIQ 80CAP',\n",
       " '6: CAFÉ DELTA Q QALIDUS 80CAP',\n",
       " '7: CAFÉ DELTA Q QHARACTER 80CAP',\n",
       " '8: CAFÉ GINGA 10CAP',\n",
       " '9: CAFÉ BELLISSIMO AROMA INTENSO 30CAP',\n",
       " '10: CEVADA SOLÚVEL DELTA FRASCO 200G',\n",
       " '11: CAFÉ SOLÚVEL DELTA FRASCO 200G',\n",
       " '12: CAFÉ BELLISSIMO INTENSO 10 CAP',\n",
       " '13: CAFÉ BELLISSIMO ORIGINALE 10 CAP',\n",
       " '14: CAFFELATTE GO CHILL DELTA 230 ML',\n",
       " '15: CAPPUCCINO GO CHILL DELTA 230 ML',\n",
       " '16: Go Chill Double Expresso',\n",
       " '17: CARAMEL MACCHIATO GO CHILL DELTA 230ML',\n",
       " '18: LATTE MACCHIATO GO CHILL S/LAC 230ML',\n",
       " '19: id',\n",
       " '20: Num_Produtos',\n",
       " '21: Repos',\n",
       " '22: STOCK CAFÉ DELTA Q MYTHIQ 80CAP',\n",
       " '23: PRESLINEAR CAFÉ DELTA Q MYTHIQ 80CAP',\n",
       " '24: INTRANSIT CAFÉ DELTA Q MYTHIQ 80CAP',\n",
       " '25: EXPECTED CAFÉ DELTA Q MYTHIQ 80CAP',\n",
       " '26: SELLOUT CAFÉ DELTA Q MYTHIQ 80CAP',\n",
       " '27: STOCK CAFÉ DELTA Q EPIQ 80CAP',\n",
       " '28: PRESLINEAR CAFÉ DELTA Q EPIQ 80CAP',\n",
       " '29: INTRANSIT CAFÉ DELTA Q EPIQ 80CAP',\n",
       " '30: EXPECTED CAFÉ DELTA Q EPIQ 80CAP',\n",
       " '31: SELLOUT CAFÉ DELTA Q EPIQ 80CAP',\n",
       " '32: STOCK CAFÉ DELTA Q QALIDUS 80CAP',\n",
       " '33: PRESLINEAR CAFÉ DELTA Q QALIDUS 80CAP',\n",
       " '34: INTRANSIT CAFÉ DELTA Q QALIDUS 80CAP',\n",
       " '35: EXPECTED CAFÉ DELTA Q QALIDUS 80CAP',\n",
       " '36: SELLOUT CAFÉ DELTA Q QALIDUS 80CAP',\n",
       " '37: STOCK CAFÉ DELTA Q QHARACTER 80CAP',\n",
       " '38: PRESLINEAR CAFÉ DELTA Q QHARACTER 80CAP',\n",
       " '39: INTRANSIT CAFÉ DELTA Q QHARACTER 80CAP',\n",
       " '40: EXPECTED CAFÉ DELTA Q QHARACTER 80CAP',\n",
       " '41: SELLOUT CAFÉ DELTA Q QHARACTER 80CAP',\n",
       " '42: STOCK CAFÉ GINGA 10CAP',\n",
       " '43: PRESLINEAR CAFÉ GINGA 10CAP',\n",
       " '44: INTRANSIT CAFÉ GINGA 10CAP',\n",
       " '45: EXPECTED CAFÉ GINGA 10CAP',\n",
       " '46: SELLOUT CAFÉ GINGA 10CAP',\n",
       " '47: STOCK CAFÉ BELLISSIMO AROMA INTENSO 30CAP',\n",
       " '48: PRESLINEAR CAFÉ BELLISSIMO AROMA INTENSO 30CAP',\n",
       " '49: INTRANSIT CAFÉ BELLISSIMO AROMA INTENSO 30CAP',\n",
       " '50: EXPECTED CAFÉ BELLISSIMO AROMA INTENSO 30CAP',\n",
       " '51: SELLOUT CAFÉ BELLISSIMO AROMA INTENSO 30CAP',\n",
       " '52: STOCK CEVADA SOLÚVEL DELTA FRASCO 200G',\n",
       " '53: PRESLINEAR CEVADA SOLÚVEL DELTA FRASCO 200G',\n",
       " '54: INTRANSIT CEVADA SOLÚVEL DELTA FRASCO 200G',\n",
       " '55: EXPECTED CEVADA SOLÚVEL DELTA FRASCO 200G',\n",
       " '56: SELLOUT CEVADA SOLÚVEL DELTA FRASCO 200G',\n",
       " '57: STOCK CAFÉ SOLÚVEL DELTA FRASCO 200G',\n",
       " '58: PRESLINEAR CAFÉ SOLÚVEL DELTA FRASCO 200G',\n",
       " '59: INTRANSIT CAFÉ SOLÚVEL DELTA FRASCO 200G',\n",
       " '60: EXPECTED CAFÉ SOLÚVEL DELTA FRASCO 200G',\n",
       " '61: SELLOUT CAFÉ SOLÚVEL DELTA FRASCO 200G',\n",
       " '62: STOCK CAFÉ BELLISSIMO INTENSO 10 CAP',\n",
       " '63: PRESLINEAR CAFÉ BELLISSIMO INTENSO 10 CAP',\n",
       " '64: INTRANSIT CAFÉ BELLISSIMO INTENSO 10 CAP',\n",
       " '65: EXPECTED CAFÉ BELLISSIMO INTENSO 10 CAP',\n",
       " '66: SELLOUT CAFÉ BELLISSIMO INTENSO 10 CAP',\n",
       " '67: STOCK CAFÉ BELLISSIMO ORIGINALE 10 CAP',\n",
       " '68: PRESLINEAR CAFÉ BELLISSIMO ORIGINALE 10 CAP',\n",
       " '69: INTRANSIT CAFÉ BELLISSIMO ORIGINALE 10 CAP',\n",
       " '70: EXPECTED CAFÉ BELLISSIMO ORIGINALE 10 CAP',\n",
       " '71: SELLOUT CAFÉ BELLISSIMO ORIGINALE 10 CAP',\n",
       " '72: STOCK CAFFELATTE GO CHILL DELTA 230 ML',\n",
       " '73: PRESLINEAR CAFFELATTE GO CHILL DELTA 230 ML',\n",
       " '74: INTRANSIT CAFFELATTE GO CHILL DELTA 230 ML',\n",
       " '75: EXPECTED CAFFELATTE GO CHILL DELTA 230 ML',\n",
       " '76: SELLOUT CAFFELATTE GO CHILL DELTA 230 ML',\n",
       " '77: STOCK CAPPUCCINO GO CHILL DELTA 230 ML',\n",
       " '78: PRESLINEAR CAPPUCCINO GO CHILL DELTA 230 ML',\n",
       " '79: INTRANSIT CAPPUCCINO GO CHILL DELTA 230 ML',\n",
       " '80: EXPECTED CAPPUCCINO GO CHILL DELTA 230 ML',\n",
       " '81: SELLOUT CAPPUCCINO GO CHILL DELTA 230 ML',\n",
       " '82: STOCK Go Chill Double Expresso',\n",
       " '83: PRESLINEAR Go Chill Double Expresso',\n",
       " '84: INTRANSIT Go Chill Double Expresso',\n",
       " '85: EXPECTED Go Chill Double Expresso',\n",
       " '86: SELLOUT Go Chill Double Expresso',\n",
       " '87: STOCK CARAMEL MACCHIATO GO CHILL DELTA 230ML',\n",
       " '88: PRESLINEAR CARAMEL MACCHIATO GO CHILL DELTA 230ML',\n",
       " '89: INTRANSIT CARAMEL MACCHIATO GO CHILL DELTA 230ML',\n",
       " '90: EXPECTED CARAMEL MACCHIATO GO CHILL DELTA 230ML',\n",
       " '91: SELLOUT CARAMEL MACCHIATO GO CHILL DELTA 230ML',\n",
       " '92: STOCK LATTE MACCHIATO GO CHILL S/LAC 230ML',\n",
       " '93: PRESLINEAR LATTE MACCHIATO GO CHILL S/LAC 230ML',\n",
       " '94: INTRANSIT LATTE MACCHIATO GO CHILL S/LAC 230ML',\n",
       " '95: EXPECTED LATTE MACCHIATO GO CHILL S/LAC 230ML',\n",
       " '96: SELLOUT LATTE MACCHIATO GO CHILL S/LAC 230ML',\n",
       " '97: STK CAFÉ DELTA Q MYTHIQ 80CAP',\n",
       " '98: STK CAFÉ DELTA Q EPIQ 80CAP',\n",
       " '99: STK CAFÉ DELTA Q QALIDUS 80CAP',\n",
       " '100: STK CAFÉ DELTA Q QHARACTER 80CAP',\n",
       " '101: STK CAFÉ GINGA 10CAP',\n",
       " '102: STK CAFÉ BELLISSIMO AROMA INTENSO 30CAP',\n",
       " '103: STK CEVADA SOLÚVEL DELTA FRASCO 200G',\n",
       " '104: STK CAFÉ SOLÚVEL DELTA FRASCO 200G',\n",
       " '105: STK CAFÉ BELLISSIMO INTENSO 10 CAP',\n",
       " '106: STK CAFÉ BELLISSIMO ORIGINALE 10 CAP',\n",
       " '107: STK CAFFELATTE GO CHILL DELTA 230 ML',\n",
       " '108: STK CAPPUCCINO GO CHILL DELTA 230 ML',\n",
       " '109: STK Go Chill Double Expresso',\n",
       " '110: STK CARAMEL MACCHIATO GO CHILL DELTA 230ML',\n",
       " '111: STK LATTE MACCHIATO GO CHILL S/LAC 230ML',\n",
       " '112: BALANCE CAFÉ DELTA Q MYTHIQ 80CAP',\n",
       " '113: BALANCE CAFÉ DELTA Q EPIQ 80CAP',\n",
       " '114: BALANCE CAFÉ DELTA Q QALIDUS 80CAP',\n",
       " '115: BALANCE CAFÉ DELTA Q QHARACTER 80CAP',\n",
       " '116: BALANCE CAFÉ GINGA 10CAP',\n",
       " '117: BALANCE CAFÉ BELLISSIMO AROMA INTENSO 30CAP',\n",
       " '118: BALANCE CEVADA SOLÚVEL DELTA FRASCO 200G',\n",
       " '119: BALANCE CAFÉ SOLÚVEL DELTA FRASCO 200G',\n",
       " '120: BALANCE CAFÉ BELLISSIMO INTENSO 10 CAP',\n",
       " '121: BALANCE CAFÉ BELLISSIMO ORIGINALE 10 CAP',\n",
       " '122: BALANCE CAFFELATTE GO CHILL DELTA 230 ML',\n",
       " '123: BALANCE CAPPUCCINO GO CHILL DELTA 230 ML',\n",
       " '124: BALANCE Go Chill Double Expresso',\n",
       " '125: BALANCE CARAMEL MACCHIATO GO CHILL DELTA 230ML',\n",
       " '126: BALANCE LATTE MACCHIATO GO CHILL S/LAC 230ML',\n",
       " '127: ROTURA CAFÉ DELTA Q MYTHIQ 80CAP',\n",
       " '128: ROTURA CAFÉ DELTA Q EPIQ 80CAP',\n",
       " '129: ROTURA CAFÉ DELTA Q QALIDUS 80CAP',\n",
       " '130: ROTURA CAFÉ DELTA Q QHARACTER 80CAP',\n",
       " '131: ROTURA CAFÉ GINGA 10CAP',\n",
       " '132: ROTURA CAFÉ BELLISSIMO AROMA INTENSO 30CAP',\n",
       " '133: ROTURA CEVADA SOLÚVEL DELTA FRASCO 200G',\n",
       " '134: ROTURA CAFÉ SOLÚVEL DELTA FRASCO 200G',\n",
       " '135: ROTURA CAFÉ BELLISSIMO INTENSO 10 CAP',\n",
       " '136: ROTURA CAFÉ BELLISSIMO ORIGINALE 10 CAP',\n",
       " '137: ROTURA CAFFELATTE GO CHILL DELTA 230 ML',\n",
       " '138: ROTURA CAPPUCCINO GO CHILL DELTA 230 ML',\n",
       " '139: ROTURA Go Chill Double Expresso',\n",
       " '140: ROTURA CARAMEL MACCHIATO GO CHILL DELTA 230ML',\n",
       " '141: ROTURA LATTE MACCHIATO GO CHILL S/LAC 230ML',\n",
       " '142: PRE-ROTURA CAFÉ DELTA Q MYTHIQ 80CAP',\n",
       " '143: PRE-ROTURA CAFÉ DELTA Q EPIQ 80CAP',\n",
       " '144: PRE-ROTURA CAFÉ DELTA Q QALIDUS 80CAP',\n",
       " '145: PRE-ROTURA CAFÉ DELTA Q QHARACTER 80CAP',\n",
       " '146: PRE-ROTURA CAFÉ GINGA 10CAP',\n",
       " '147: PRE-ROTURA CAFÉ BELLISSIMO AROMA INTENSO 30CAP',\n",
       " '148: PRE-ROTURA CEVADA SOLÚVEL DELTA FRASCO 200G',\n",
       " '149: PRE-ROTURA CAFÉ SOLÚVEL DELTA FRASCO 200G',\n",
       " '150: PRE-ROTURA CAFÉ BELLISSIMO INTENSO 10 CAP',\n",
       " '151: PRE-ROTURA CAFÉ BELLISSIMO ORIGINALE 10 CAP',\n",
       " '152: PRE-ROTURA CAFFELATTE GO CHILL DELTA 230 ML',\n",
       " '153: PRE-ROTURA CAPPUCCINO GO CHILL DELTA 230 ML',\n",
       " '154: PRE-ROTURA Go Chill Double Expresso',\n",
       " '155: PRE-ROTURA CARAMEL MACCHIATO GO CHILL DELTA 230ML',\n",
       " '156: PRE-ROTURA LATTE MACCHIATO GO CHILL S/LAC 230ML',\n",
       " '157: SINAL CAFÉ DELTA Q MYTHIQ 80CAP',\n",
       " '158: SINAL CAFÉ DELTA Q EPIQ 80CAP',\n",
       " '159: SINAL CAFÉ DELTA Q QALIDUS 80CAP',\n",
       " '160: SINAL CAFÉ DELTA Q QHARACTER 80CAP',\n",
       " '161: SINAL CAFÉ GINGA 10CAP',\n",
       " '162: SINAL CAFÉ BELLISSIMO AROMA INTENSO 30CAP',\n",
       " '163: SINAL CEVADA SOLÚVEL DELTA FRASCO 200G',\n",
       " '164: SINAL CAFÉ SOLÚVEL DELTA FRASCO 200G',\n",
       " '165: SINAL CAFÉ BELLISSIMO INTENSO 10 CAP',\n",
       " '166: SINAL CAFÉ BELLISSIMO ORIGINALE 10 CAP',\n",
       " '167: SINAL CAFFELATTE GO CHILL DELTA 230 ML',\n",
       " '168: SINAL CAPPUCCINO GO CHILL DELTA 230 ML',\n",
       " '169: SINAL Go Chill Double Expresso',\n",
       " '170: SINAL CARAMEL MACCHIATO GO CHILL DELTA 230ML',\n",
       " '171: SINAL LATTE MACCHIATO GO CHILL S/LAC 230ML',\n",
       " '172: CICLO CAFÉ DELTA Q MYTHIQ 80CAP',\n",
       " '173: CICLO CAFÉ DELTA Q EPIQ 80CAP',\n",
       " '174: CICLO CAFÉ DELTA Q QALIDUS 80CAP',\n",
       " '175: CICLO CAFÉ DELTA Q QHARACTER 80CAP',\n",
       " '176: CICLO CAFÉ GINGA 10CAP',\n",
       " '177: CICLO CAFÉ BELLISSIMO AROMA INTENSO 30CAP',\n",
       " '178: CICLO CEVADA SOLÚVEL DELTA FRASCO 200G',\n",
       " '179: CICLO CAFÉ SOLÚVEL DELTA FRASCO 200G',\n",
       " '180: CICLO CAFÉ BELLISSIMO INTENSO 10 CAP',\n",
       " '181: CICLO CAFÉ BELLISSIMO ORIGINALE 10 CAP',\n",
       " '182: CICLO CAFFELATTE GO CHILL DELTA 230 ML',\n",
       " '183: CICLO CAPPUCCINO GO CHILL DELTA 230 ML',\n",
       " '184: CICLO Go Chill Double Expresso',\n",
       " '185: CICLO CARAMEL MACCHIATO GO CHILL DELTA 230ML',\n",
       " '186: CICLO LATTE MACCHIATO GO CHILL S/LAC 230ML',\n",
       " '187: ADEQUACAO CAFÉ DELTA Q MYTHIQ 80CAP',\n",
       " '188: ADEQUACAO CAFÉ DELTA Q EPIQ 80CAP',\n",
       " '189: ADEQUACAO CAFÉ DELTA Q QALIDUS 80CAP',\n",
       " '190: ADEQUACAO CAFÉ DELTA Q QHARACTER 80CAP',\n",
       " '191: ADEQUACAO CAFÉ GINGA 10CAP',\n",
       " '192: ADEQUACAO CAFÉ BELLISSIMO AROMA INTENSO 30CAP',\n",
       " '193: ADEQUACAO CEVADA SOLÚVEL DELTA FRASCO 200G',\n",
       " '194: ADEQUACAO CAFÉ SOLÚVEL DELTA FRASCO 200G',\n",
       " '195: ADEQUACAO CAFÉ BELLISSIMO INTENSO 10 CAP',\n",
       " '196: ADEQUACAO CAFÉ BELLISSIMO ORIGINALE 10 CAP',\n",
       " '197: ADEQUACAO CAFFELATTE GO CHILL DELTA 230 ML',\n",
       " '198: ADEQUACAO CAPPUCCINO GO CHILL DELTA 230 ML',\n",
       " '199: ADEQUACAO Go Chill Double Expresso',\n",
       " '200: ADEQUACAO CARAMEL MACCHIATO GO CHILL DELTA 230ML',\n",
       " '201: ADEQUACAO LATTE MACCHIATO GO CHILL S/LAC 230ML',\n",
       " '202: Dias_para_Rotura CAFÉ DELTA Q MYTHIQ 80CAP',\n",
       " '203: Dias_para_Rotura CAFÉ DELTA Q EPIQ 80CAP',\n",
       " '204: Dias_para_Rotura CAFÉ DELTA Q QALIDUS 80CAP',\n",
       " '205: Dias_para_Rotura CAFÉ DELTA Q QHARACTER 80CAP',\n",
       " '206: Dias_para_Rotura CAFÉ GINGA 10CAP',\n",
       " '207: Dias_para_Rotura CAFÉ BELLISSIMO AROMA INTENSO 30CAP',\n",
       " '208: Dias_para_Rotura CEVADA SOLÚVEL DELTA FRASCO 200G',\n",
       " '209: Dias_para_Rotura CAFÉ SOLÚVEL DELTA FRASCO 200G',\n",
       " '210: Dias_para_Rotura CAFÉ BELLISSIMO INTENSO 10 CAP',\n",
       " '211: Dias_para_Rotura CAFÉ BELLISSIMO ORIGINALE 10 CAP',\n",
       " '212: Dias_para_Rotura CAFFELATTE GO CHILL DELTA 230 ML',\n",
       " '213: Dias_para_Rotura CAPPUCCINO GO CHILL DELTA 230 ML',\n",
       " '214: Dias_para_Rotura Go Chill Double Expresso',\n",
       " '215: Dias_para_Rotura CARAMEL MACCHIATO GO CHILL DELTA 230ML',\n",
       " '216: Dias_para_Rotura LATTE MACCHIATO GO CHILL S/LAC 230ML',\n",
       " '217: Dias_para_Rotura_Linear CAFÉ DELTA Q MYTHIQ 80CAP',\n",
       " '218: Dias_para_Rotura_Linear CAFÉ DELTA Q EPIQ 80CAP',\n",
       " '219: Dias_para_Rotura_Linear CAFÉ DELTA Q QALIDUS 80CAP',\n",
       " '220: Dias_para_Rotura_Linear CAFÉ DELTA Q QHARACTER 80CAP',\n",
       " '221: Dias_para_Rotura_Linear CAFÉ GINGA 10CAP',\n",
       " '222: Dias_para_Rotura_Linear CAFÉ BELLISSIMO AROMA INTENSO 30CAP',\n",
       " '223: Dias_para_Rotura_Linear CEVADA SOLÚVEL DELTA FRASCO 200G',\n",
       " '224: Dias_para_Rotura_Linear CAFÉ SOLÚVEL DELTA FRASCO 200G',\n",
       " '225: Dias_para_Rotura_Linear CAFÉ BELLISSIMO INTENSO 10 CAP',\n",
       " '226: Dias_para_Rotura_Linear CAFÉ BELLISSIMO ORIGINALE 10 CAP',\n",
       " '227: Dias_para_Rotura_Linear CAFFELATTE GO CHILL DELTA 230 ML',\n",
       " '228: Dias_para_Rotura_Linear CAPPUCCINO GO CHILL DELTA 230 ML',\n",
       " '229: Dias_para_Rotura_Linear Go Chill Double Expresso',\n",
       " '230: Dias_para_Rotura_Linear CARAMEL MACCHIATO GO CHILL DELTA 230ML',\n",
       " '231: Dias_para_Rotura_Linear LATTE MACCHIATO GO CHILL S/LAC 230ML',\n",
       " '232: Num_ProdutosRep',\n",
       " '233: Num_ProdutosNRep',\n",
       " '234: Produtos_Contratados',\n",
       " '235: Prop_Produtos']"
      ]
     },
     "execution_count": 314,
     "metadata": {},
     "output_type": "execute_result"
    }
   ],
   "source": [
    "[f\"{index}: {column}\" for index, column in enumerate(df2_2)]"
   ]
  },
  {
   "cell_type": "markdown",
   "metadata": {},
   "source": [
    "### <center><font color=green>DataCleaning</font></center>"
   ]
  },
  {
   "cell_type": "code",
   "execution_count": 281,
   "metadata": {},
   "outputs": [],
   "source": [
    "escrever_txt(df_produtos, \"produtos\")\n",
    "escrever_txt(df_lojas, \"lojas\")"
   ]
  },
  {
   "cell_type": "markdown",
   "metadata": {},
   "source": [
    "### <center><font color=green>DataFusion Long</font></center>"
   ]
  },
  {
   "cell_type": "code",
   "execution_count": 282,
   "metadata": {},
   "outputs": [],
   "source": [
    "escrever_excel(df1, \"Long_DataFusion\")"
   ]
  },
  {
   "cell_type": "markdown",
   "metadata": {},
   "source": [
    "### <center><font color=green>DataFusion Wide</font></center>"
   ]
  },
  {
   "cell_type": "code",
   "execution_count": 283,
   "metadata": {},
   "outputs": [],
   "source": [
    "#escrever_excel(df2_1, \"Wide_DataFusion_Inc\")\n",
    "\n",
    "escrever_excel(df2_2, \"Wide_DataFusion\")\n",
    "escrever_excel(df2_2022, \"Wide_DataFusion2022\")"
   ]
  },
  {
   "cell_type": "markdown",
   "metadata": {},
   "source": [
    "### <center><font color=green>Gráficos</font></center>\n"
   ]
  },
  {
   "cell_type": "markdown",
   "metadata": {},
   "source": [
    "- Classic"
   ]
  },
  {
   "cell_type": "code",
   "execution_count": 310,
   "metadata": {},
   "outputs": [],
   "source": [
    "# Normal\n",
    "escrever_excel(df_Classic, \"G_Classic\")\n",
    "\n",
    "# Com Reposição\n",
    "escrever_excel(df_Classic_ComRepo, \"G_Classic_Reposto\")\n",
    "\n",
    "# Sem Reposição\n",
    "escrever_excel(df_Classic_SemRepo, \"G_Classic_SemReposto\")"
   ]
  },
  {
   "cell_type": "markdown",
   "metadata": {},
   "source": [
    "- Roturas"
   ]
  },
  {
   "cell_type": "code",
   "execution_count": 311,
   "metadata": {},
   "outputs": [],
   "source": [
    "escrever_excel(df_Rot, \"G_Rotura\")"
   ]
  },
  {
   "cell_type": "markdown",
   "metadata": {},
   "source": [
    "- Número de produtos"
   ]
  },
  {
   "cell_type": "code",
   "execution_count": 312,
   "metadata": {},
   "outputs": [],
   "source": [
    "escrever_excel(df_NumProd, \"G_NumProdutos\")"
   ]
  },
  {
   "cell_type": "code",
   "execution_count": 316,
   "metadata": {},
   "outputs": [
    {
     "data": {
      "text/plain": [
       "(138, 22)"
      ]
     },
     "execution_count": 316,
     "metadata": {},
     "output_type": "execute_result"
    }
   ],
   "source": [
    "dfNinjas.shape"
   ]
  },
  {
   "cell_type": "code",
   "execution_count": 318,
   "metadata": {},
   "outputs": [
    {
     "data": {
      "text/plain": [
       "71"
      ]
     },
     "execution_count": 318,
     "metadata": {},
     "output_type": "execute_result"
    }
   ],
   "source": [
    "len(df_NumProd[df_NumProd.Prop_Produtos==100])"
   ]
  },
  {
   "cell_type": "code",
   "execution_count": 319,
   "metadata": {},
   "outputs": [
    {
     "data": {
      "text/plain": [
       "0.5144927536231884"
      ]
     },
     "execution_count": 319,
     "metadata": {},
     "output_type": "execute_result"
    }
   ],
   "source": [
    "71/138"
   ]
  },
  {
   "cell_type": "markdown",
   "metadata": {},
   "source": [
    " "
   ]
  },
  {
   "cell_type": "markdown",
   "metadata": {},
   "source": [
    "<a id=\"section6\"></a>\n",
    "# <center><u>Visualizar</u></center>\n",
    "[Voltar ao índice](#section0)"
   ]
  },
  {
   "cell_type": "markdown",
   "metadata": {},
   "source": [
    "- # `Long_DataFusion`"
   ]
  },
  {
   "cell_type": "markdown",
   "metadata": {},
   "source": [
    "> Filtrar produto"
   ]
  },
  {
   "cell_type": "code",
   "execution_count": 287,
   "metadata": {},
   "outputs": [
    {
     "data": {
      "application/vnd.jupyter.widget-view+json": {
       "model_id": "4920df80c93a40249819cd71d8c88135",
       "version_major": 2,
       "version_minor": 0
      },
      "text/plain": [
       "interactive(children=(Dropdown(description='produto', options=('CAFÉ DELTA Q MYTHIQ 80CAP', 'CAFÉ DELTA Q EPIQ…"
      ]
     },
     "metadata": {},
     "output_type": "display_data"
    }
   ],
   "source": [
    "@interact\n",
    "def filtrar_produto(produto = list(df1.DESC_ARTIGO.unique())):\n",
    "    \n",
    "    return df1[df1.DESC_ARTIGO == produto].head() # Alterável"
   ]
  },
  {
   "cell_type": "markdown",
   "metadata": {},
   "source": [
    "> Filtrar loja"
   ]
  },
  {
   "cell_type": "code",
   "execution_count": 288,
   "metadata": {},
   "outputs": [
    {
     "data": {
      "application/vnd.jupyter.widget-view+json": {
       "model_id": "a2c4493ff07d4ef6b3857aa542d3ffbe",
       "version_major": 2,
       "version_minor": 0
      },
      "text/plain": [
       "interactive(children=(Dropdown(description='loja', options=('Continente Amadora', 'Continente Antas', 'Contine…"
      ]
     },
     "metadata": {},
     "output_type": "display_data"
    }
   ],
   "source": [
    "@interact\n",
    "def filtrar_loja(loja = list(df1.Loja.unique())):\n",
    "    \n",
    "    return df1[df1.Loja == loja].head() # Alterável"
   ]
  },
  {
   "cell_type": "markdown",
   "metadata": {},
   "source": [
    "- # `Wide_DataFusion`"
   ]
  },
  {
   "cell_type": "raw",
   "metadata": {},
   "source": [
    "@interact\n",
    "def filtrar_loja(loja = list(df2.Loja.unique())):\n",
    "    \n",
    "    return df2[df2.Loja == loja].head() # Alterável"
   ]
  },
  {
   "cell_type": "markdown",
   "metadata": {},
   "source": [
    " "
   ]
  },
  {
   "cell_type": "markdown",
   "metadata": {},
   "source": [
    " "
   ]
  },
  {
   "cell_type": "markdown",
   "metadata": {},
   "source": [
    " "
   ]
  },
  {
   "cell_type": "markdown",
   "metadata": {},
   "source": [
    " "
   ]
  },
  {
   "cell_type": "markdown",
   "metadata": {},
   "source": [
    " "
   ]
  },
  {
   "cell_type": "markdown",
   "metadata": {},
   "source": [
    " "
   ]
  },
  {
   "cell_type": "markdown",
   "metadata": {},
   "source": [
    " "
   ]
  },
  {
   "cell_type": "markdown",
   "metadata": {},
   "source": [
    " "
   ]
  },
  {
   "cell_type": "markdown",
   "metadata": {},
   "source": [
    " "
   ]
  },
  {
   "cell_type": "markdown",
   "metadata": {},
   "source": [
    " "
   ]
  },
  {
   "cell_type": "markdown",
   "metadata": {},
   "source": [
    " "
   ]
  },
  {
   "cell_type": "markdown",
   "metadata": {},
   "source": [
    " "
   ]
  },
  {
   "cell_type": "markdown",
   "metadata": {},
   "source": [
    " "
   ]
  },
  {
   "cell_type": "raw",
   "metadata": {},
   "source": [
    "import plotly.graph_objects as go\n",
    "\n",
    "import pandas as pd\n",
    "\n",
    "df = pd.read_csv(\"https://raw.githubusercontent.com/plotly/datasets/master/violin_data.csv\")\n",
    "\n",
    "\n",
    "pointpos_male = [-0.9,-1.1,-0.6,-0.3]\n",
    "pointpos_female = [0.45,0.55,1,0.4]\n",
    "show_legend = [True,False,False,False]\n",
    "\n",
    "fig = go.Figure()\n",
    "\n",
    "for i in range(0,len(pd.unique(df['SELLOUT']))):\n",
    "    fig.add_trace(go.Violin(x=df['SELLOUT'][(df['sex'] == 'Male') &\n",
    "                                        (df['SELLOUT'] == pd.unique(df['SELLOUT'])[i])],\n",
    "                            y=df['total_bill'][(df['sex'] == 'Male')&\n",
    "                                               (df['SELLOUT'] == pd.unique(df['SELLOUT'])[i])],\n",
    "                            legendgroup='M', scalegroup='M', name='M',\n",
    "                            side='negative',\n",
    "                            pointpos=pointpos_male[i], # where to position points\n",
    "                            line_color='lightseagreen',\n",
    "                            showlegend=show_legend[i])\n",
    "             )\n",
    "    fig.add_trace(go.Violin(x=df['SELLOUT'][(df['sex'] == 'Female') &\n",
    "                                        (df['SELLOUT'] == pd.unique(df['SELLOUT'])[i])],\n",
    "                            y=df['total_bill'][(df['sex'] == 'Female')&\n",
    "                                               (df['SELLOUT'] == pd.unique(df['SELLOUT'])[i])],\n",
    "                            legendgroup='F', scalegroup='F', name='F',\n",
    "                            side='positive',\n",
    "                            pointpos=pointpos_female[i],\n",
    "                            line_color='mediumpurple',\n",
    "                            showlegend=show_legend[i])\n",
    "             )\n",
    "\n",
    "# update characteristics shared by all traces\n",
    "fig.update_traces(meanline_visible=True,\n",
    "                  points='all', # show all points\n",
    "                  jitter=0.05,  # add some jitter on points for better visibility\n",
    "                  scalemode='count') #scale violin plot area with total count\n",
    "fig.update_layout(\n",
    "    title_text=\"Total bill distribution<br><i>scaled by number of bills per gender\",\n",
    "    violingap=0, violingroupgap=0, violinmode='overlay')\n",
    "fig.show()"
   ]
  },
  {
   "cell_type": "markdown",
   "metadata": {},
   "source": [
    "[Voltar ao índice](#section0)"
   ]
  }
 ],
 "metadata": {
  "kernelspec": {
   "display_name": "Python 3 (ipykernel)",
   "language": "python",
   "name": "python3"
  },
  "language_info": {
   "codemirror_mode": {
    "name": "ipython",
    "version": 3
   },
   "file_extension": ".py",
   "mimetype": "text/x-python",
   "name": "python",
   "nbconvert_exporter": "python",
   "pygments_lexer": "ipython3",
   "version": "3.10.9"
  }
 },
 "nbformat": 4,
 "nbformat_minor": 4
}
