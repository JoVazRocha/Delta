{
 "cells": [
  {
   "cell_type": "code",
   "execution_count": 109,
   "metadata": {},
   "outputs": [],
   "source": [
    "import pandas as pd\n",
    "import numpy as np\n",
    "\n",
    "def escrever_excel(dfa, nome):\n",
    "    dfa.to_excel('%s.xlsx' %nome, index=False)"
   ]
  },
  {
   "cell_type": "markdown",
   "metadata": {},
   "source": [
    "# Ler e Mudar nomes\n",
    "- Ficheiros base"
   ]
  },
  {
   "cell_type": "code",
   "execution_count": 49,
   "metadata": {},
   "outputs": [
    {
     "name": "stdout",
     "output_type": "stream",
     "text": [
      "Wall time: 9.42 s\n"
     ]
    }
   ],
   "source": [
    "%%time\n",
    "dfDelta=pd.read_excel(\"D:\\\\Brands and Ninjas\\\\Delta\\\\Mar-abril23\\\\1Delta-Sonae BQ.xlsx\", sheet_name=\"Sheet1\")\n",
    "#dfDelta2=pd.read_excel(\"D:\\\\Brands and Ninjas\\\\Delta\\\\Mar-abril23\\\\Stocks Sonae_Liquida.xlsx\", sheet_name=\"Sheet1\")\n",
    "#dfDelta=pd.concat([dfDelta1, dfDelta2], ignore_index=True)\n",
    "\n",
    "dfNinjas1=pd.read_excel(\"D:\\\\Brands and Ninjas\\\\Delta\\\\Mar-abril23\\\\2Ninja-CafesCervejaSonae.xlsx\")\n",
    "dfNinjas2=pd.read_excel(\"D:\\\\Brands and Ninjas\\\\Delta\\\\Mar-abril23\\\\2Ninja-CafesSonae.xlsx\")\n",
    "dfNinjas3=pd.read_excel(\"D:\\\\Brands and Ninjas\\\\Delta\\\\Mar-abril23\\\\2Ninja-CervejaSonae.xlsx\")\n",
    "dfNinjas=pd.concat([dfNinjas1, dfNinjas2, dfNinjas3], ignore_index=True, axis=0, sort=False)\n",
    "\n",
    "dfSonae1=pd.read_excel(\"D:\\\\Brands and Ninjas\\\\Delta\\\\Mar-abril23\\\\3Sellout-CafeSonae3d.xlsx\", sheet_name=\"Lista Lojas Sonae\")\n",
    "dfSonae2=pd.read_excel(\"D:\\\\Brands and Ninjas\\\\Delta\\\\Mar-abril23\\\\3Sellout-CervSonae3d.xlsx\", sheet_name=\"Lista Lojas Sonae\")\n",
    "dfSonae3=pd.merge(dfSonae1, dfSonae2, how=\"outer\", on = \"STORE\")#,\"Descrição Loja\"])\n",
    "\n",
    "dfNinjas = dfNinjas.rename(columns={' Data de Resposta': 'DATA', \"Código da loja\":\"STORE\"})\n",
    "\n",
    "dfSonae3['Vendedor_x'] = dfSonae3['Vendedor_x'].fillna(dfSonae3['Vendedor_y'])\n",
    "dfSonae3['STORE_NAME']=dfSonae3['STORE_NAME'].fillna(dfSonae3['Descrição Loja'])\n",
    "dfSonae3=dfSonae3.rename(columns={\"Vendedor_x\": \"Vendedor\"})\n",
    "dfSonae3=dfSonae3.drop(columns=['Descrição Loja', 'Vendedor_y'])\n",
    "dfSonae3['STORE_NAME'] = dfSonae3['STORE_NAME'].str.upper()                                  "
   ]
  },
  {
   "cell_type": "markdown",
   "metadata": {},
   "source": [
    "- Ficheiro reposição"
   ]
  },
  {
   "cell_type": "code",
   "execution_count": 55,
   "metadata": {},
   "outputs": [],
   "source": [
    "dfSonae4=pd.read_excel(\"D:\\\\Brands and Ninjas\\\\Delta\\\\Mar-abril23\\\\3Reposição.xlsx\")\n",
    "\n",
    "# Meter no ficheiro 3\n",
    "dfSonae3['Reposição'] = [\"Sim\" if val in dfSonae4['Descrição Loja'].values else \"Não\" for val in dfSonae3['STORE_NAME']]"
   ]
  },
  {
   "cell_type": "markdown",
   "metadata": {},
   "source": [
    "- Estabelecer variáveis"
   ]
  },
  {
   "cell_type": "code",
   "execution_count": 38,
   "metadata": {},
   "outputs": [],
   "source": [
    "produtos=dfNinjas.columns[5:10]"
   ]
  },
  {
   "cell_type": "markdown",
   "metadata": {},
   "source": [
    "# Como o sellout foi dado para o fds, dividir por 3 para fazer por dia"
   ]
  },
  {
   "cell_type": "code",
   "execution_count": 121,
   "metadata": {},
   "outputs": [],
   "source": [
    "dfSonae=dfSonae3.copy()\n",
    "dividir=dfSonae3.columns[3:-1]\n",
    "dfSonae[dividir]=dfSonae3[dividir]/3\n",
    "dfSonae = dfSonae.rename(columns={'DELTA Q AQTIVUS CÁP. CX 10 UN': 'CAFÉ DELTA Q AQTIVUS 10CAP', \n",
    "                                  \"DELTA Q DEQAFEINATUS CÁP. CX 10 UN\":\"CAFÉ DELTA Q DEQAFEINATUS 10CAP\",\n",
    "                                 \"DELTA Q-QALIDUS CÁP. CX 10 UN\":\"CAFÉ DELTA Q QALIDUS 10CAP\",\n",
    "                                 \"Cerveja Franziskaner Weiss 50cl (S/N)\":\"CERV.C/ALC.T/P FRANZISKANER WEISSBI.50CL\",\n",
    "                                 \"Cerveja Corona 35,5 CL(S/N)\":\"CERV.C/ALC.T/P CORONA 35,5CL\"})\n",
    "dfSonae=dfSonae.iloc[:, [0,1,2,5,3,4,7,6,8]]"
   ]
  },
  {
   "cell_type": "markdown",
   "metadata": {},
   "source": [
    "## O que tem cada ficheiro:\n",
    "\n",
    "### **dfDelta**:\n",
    "1. Formato long (produtos numa única coluna \"DESC_ARTIGO\")\n",
    "2. Stocks, em Trânsito, Esperado, Linear, sellout dia anterior\t\n",
    "\n",
    "\n",
    "### **dfNinjas**:\n",
    "1. Formato wide (cada produto numa coluna)\n",
    "2. Presença de produto em linear para cada produto\n",
    "\n",
    "### **dfSonae**:\n",
    "1. Formato wide\n",
    "2. Sellouts, Vendedores, Reposição\n"
   ]
  },
  {
   "cell_type": "code",
   "execution_count": 326,
   "metadata": {},
   "outputs": [],
   "source": [
    "diasrot(dfNiStoSell, dfNiStoSell.columns[5])\n",
    "diasrot(dfNiStoSell, dfNiStoSell.columns[6])\n",
    "diasrot(dfNiStoSell, dfNiStoSell.columns[7])\n",
    "diasrot(dfNiStoSell, dfNiStoSell.columns[8])\n",
    "diasrot(dfNiStoSell, dfNiStoSell.columns[9])\n"
   ]
  },
  {
   "cell_type": "code",
   "execution_count": 328,
   "metadata": {},
   "outputs": [],
   "source": [
    "dfSell22=pd.read_excel(\"D:\\\\Brands and Ninjas\\\\Delta\\\\Mar-abril23\\\\sellmed.xlsx\")"
   ]
  },
  {
   "cell_type": "code",
   "execution_count": 296,
   "metadata": {
    "collapsed": true
   },
   "outputs": [
    {
     "data": {
      "text/html": [
       "<div>\n",
       "<style scoped>\n",
       "    .dataframe tbody tr th:only-of-type {\n",
       "        vertical-align: middle;\n",
       "    }\n",
       "\n",
       "    .dataframe tbody tr th {\n",
       "        vertical-align: top;\n",
       "    }\n",
       "\n",
       "    .dataframe thead th {\n",
       "        text-align: right;\n",
       "    }\n",
       "</style>\n",
       "<table border=\"1\" class=\"dataframe\">\n",
       "  <thead>\n",
       "    <tr style=\"text-align: right;\">\n",
       "      <th></th>\n",
       "      <th>STORE</th>\n",
       "      <th>SELLOUT CAFÉ DELTA Q AQTIVUS 10CAP 22</th>\n",
       "      <th>SELLOUT CAFÉ DELTA Q DEQAFEINATUS 10CAP 22</th>\n",
       "      <th>SELLOUT CAFÉ DELTA Q QALIDUS 10CAP 22</th>\n",
       "      <th>SELLOUT CERV.C/ALC.T/P CORONA 35,5CL 22</th>\n",
       "      <th>SELLOUT CERV.C/ALC.T/P FRANZISKANER WEISSBI.50CL 22</th>\n",
       "    </tr>\n",
       "  </thead>\n",
       "  <tbody>\n",
       "    <tr>\n",
       "      <th>157</th>\n",
       "      <td>5767</td>\n",
       "      <td>5</td>\n",
       "      <td>2.000000</td>\n",
       "      <td>0.0</td>\n",
       "      <td>0.0</td>\n",
       "      <td>4.0</td>\n",
       "    </tr>\n",
       "    <tr>\n",
       "      <th>158</th>\n",
       "      <td>6089</td>\n",
       "      <td>9</td>\n",
       "      <td>2.000000</td>\n",
       "      <td>4.0</td>\n",
       "      <td>0.0</td>\n",
       "      <td>0.0</td>\n",
       "    </tr>\n",
       "    <tr>\n",
       "      <th>159</th>\n",
       "      <td>7695</td>\n",
       "      <td>4</td>\n",
       "      <td>0.000000</td>\n",
       "      <td>3.0</td>\n",
       "      <td>0.0</td>\n",
       "      <td>0.0</td>\n",
       "    </tr>\n",
       "    <tr>\n",
       "      <th>160</th>\n",
       "      <td>9024</td>\n",
       "      <td>0</td>\n",
       "      <td>1.000000</td>\n",
       "      <td>1.0</td>\n",
       "      <td>0.0</td>\n",
       "      <td>0.0</td>\n",
       "    </tr>\n",
       "    <tr>\n",
       "      <th>161</th>\n",
       "      <td>9083</td>\n",
       "      <td>6</td>\n",
       "      <td>1.666667</td>\n",
       "      <td>2.0</td>\n",
       "      <td>0.0</td>\n",
       "      <td>3.0</td>\n",
       "    </tr>\n",
       "  </tbody>\n",
       "</table>\n",
       "</div>"
      ],
      "text/plain": [
       "     STORE  SELLOUT CAFÉ DELTA Q AQTIVUS 10CAP 22  \\\n",
       "157   5767                                      5   \n",
       "158   6089                                      9   \n",
       "159   7695                                      4   \n",
       "160   9024                                      0   \n",
       "161   9083                                      6   \n",
       "\n",
       "     SELLOUT CAFÉ DELTA Q DEQAFEINATUS 10CAP 22  \\\n",
       "157                                    2.000000   \n",
       "158                                    2.000000   \n",
       "159                                    0.000000   \n",
       "160                                    1.000000   \n",
       "161                                    1.666667   \n",
       "\n",
       "     SELLOUT CAFÉ DELTA Q QALIDUS 10CAP 22  \\\n",
       "157                                    0.0   \n",
       "158                                    4.0   \n",
       "159                                    3.0   \n",
       "160                                    1.0   \n",
       "161                                    2.0   \n",
       "\n",
       "     SELLOUT CERV.C/ALC.T/P CORONA 35,5CL 22  \\\n",
       "157                                      0.0   \n",
       "158                                      0.0   \n",
       "159                                      0.0   \n",
       "160                                      0.0   \n",
       "161                                      0.0   \n",
       "\n",
       "     SELLOUT CERV.C/ALC.T/P FRANZISKANER WEISSBI.50CL 22  \n",
       "157                                                4.0    \n",
       "158                                                0.0    \n",
       "159                                                0.0    \n",
       "160                                                0.0    \n",
       "161                                                3.0    "
      ]
     },
     "execution_count": 296,
     "metadata": {},
     "output_type": "execute_result"
    }
   ],
   "source": [
    "dfSell22.tail()"
   ]
  },
  {
   "cell_type": "code",
   "execution_count": 329,
   "metadata": {},
   "outputs": [],
   "source": [
    "dfNiStoSellcom22=pd.merge(dfNiStoSell, dfSell22, how=\"left\", on = [\"STORE\"])"
   ]
  },
  {
   "cell_type": "code",
   "execution_count": 333,
   "metadata": {},
   "outputs": [],
   "source": [
    "dfNiStoSellcom22.to_excel('DataFusionComMed4.xlsx', index=False)"
   ]
  },
  {
   "cell_type": "markdown",
   "metadata": {},
   "source": [
    "# VER"
   ]
  },
  {
   "cell_type": "code",
   "execution_count": 92,
   "metadata": {},
   "outputs": [
    {
     "data": {
      "text/html": [
       "<div>\n",
       "<style scoped>\n",
       "    .dataframe tbody tr th:only-of-type {\n",
       "        vertical-align: middle;\n",
       "    }\n",
       "\n",
       "    .dataframe tbody tr th {\n",
       "        vertical-align: top;\n",
       "    }\n",
       "\n",
       "    .dataframe thead th {\n",
       "        text-align: right;\n",
       "    }\n",
       "</style>\n",
       "<table border=\"1\" class=\"dataframe\">\n",
       "  <thead>\n",
       "    <tr style=\"text-align: right;\">\n",
       "      <th></th>\n",
       "      <th>Hora</th>\n",
       "      <th>DATA</th>\n",
       "      <th>Nome da Loja</th>\n",
       "      <th>STORE</th>\n",
       "      <th>Promoção</th>\n",
       "      <th>CAFÉ DELTA Q QALIDUS 10CAP</th>\n",
       "      <th>CAFÉ DELTA Q AQTIVUS 10CAP</th>\n",
       "      <th>CAFÉ DELTA Q DEQAFEINATUS 10CAP</th>\n",
       "      <th>CERV.C/ALC.T/P CORONA 35,5CL</th>\n",
       "      <th>CERV.C/ALC.T/P FRANZISKANER WEISSBI.50CL</th>\n",
       "    </tr>\n",
       "  </thead>\n",
       "  <tbody>\n",
       "    <tr>\n",
       "      <th>0</th>\n",
       "      <td>17:07:13</td>\n",
       "      <td>2023-04-01</td>\n",
       "      <td>Continente Arrábida (Gaia Jardim)</td>\n",
       "      <td>460</td>\n",
       "      <td>1.0</td>\n",
       "      <td>1.0</td>\n",
       "      <td>1.0</td>\n",
       "      <td>1.0</td>\n",
       "      <td>1.0</td>\n",
       "      <td>1.0</td>\n",
       "    </tr>\n",
       "    <tr>\n",
       "      <th>1</th>\n",
       "      <td>19:54:22</td>\n",
       "      <td>2023-04-02</td>\n",
       "      <td>Continente Aveiro</td>\n",
       "      <td>458</td>\n",
       "      <td>1.0</td>\n",
       "      <td>1.0</td>\n",
       "      <td>1.0</td>\n",
       "      <td>1.0</td>\n",
       "      <td>1.0</td>\n",
       "      <td>1.0</td>\n",
       "    </tr>\n",
       "    <tr>\n",
       "      <th>2</th>\n",
       "      <td>18:27:18</td>\n",
       "      <td>2023-03-31</td>\n",
       "      <td>Continente Barreiro</td>\n",
       "      <td>927</td>\n",
       "      <td>0.0</td>\n",
       "      <td>1.0</td>\n",
       "      <td>1.0</td>\n",
       "      <td>1.0</td>\n",
       "      <td>1.0</td>\n",
       "      <td>1.0</td>\n",
       "    </tr>\n",
       "    <tr>\n",
       "      <th>3</th>\n",
       "      <td>10:51:34</td>\n",
       "      <td>2023-03-31</td>\n",
       "      <td>Continente Beja</td>\n",
       "      <td>207</td>\n",
       "      <td>1.0</td>\n",
       "      <td>1.0</td>\n",
       "      <td>1.0</td>\n",
       "      <td>1.0</td>\n",
       "      <td>1.0</td>\n",
       "      <td>1.0</td>\n",
       "    </tr>\n",
       "    <tr>\n",
       "      <th>4</th>\n",
       "      <td>21:49:00</td>\n",
       "      <td>2023-04-02</td>\n",
       "      <td>Continente Braga</td>\n",
       "      <td>459</td>\n",
       "      <td>1.0</td>\n",
       "      <td>1.0</td>\n",
       "      <td>1.0</td>\n",
       "      <td>1.0</td>\n",
       "      <td>1.0</td>\n",
       "      <td>1.0</td>\n",
       "    </tr>\n",
       "  </tbody>\n",
       "</table>\n",
       "</div>"
      ],
      "text/plain": [
       "       Hora       DATA                       Nome da Loja  STORE  Promoção  \\\n",
       "0  17:07:13 2023-04-01  Continente Arrábida (Gaia Jardim)    460       1.0   \n",
       "1  19:54:22 2023-04-02                  Continente Aveiro    458       1.0   \n",
       "2  18:27:18 2023-03-31                Continente Barreiro    927       0.0   \n",
       "3  10:51:34 2023-03-31                    Continente Beja    207       1.0   \n",
       "4  21:49:00 2023-04-02                   Continente Braga    459       1.0   \n",
       "\n",
       "   CAFÉ DELTA Q QALIDUS 10CAP  CAFÉ DELTA Q AQTIVUS 10CAP  \\\n",
       "0                         1.0                         1.0   \n",
       "1                         1.0                         1.0   \n",
       "2                         1.0                         1.0   \n",
       "3                         1.0                         1.0   \n",
       "4                         1.0                         1.0   \n",
       "\n",
       "   CAFÉ DELTA Q DEQAFEINATUS 10CAP  CERV.C/ALC.T/P CORONA 35,5CL  \\\n",
       "0                              1.0                           1.0   \n",
       "1                              1.0                           1.0   \n",
       "2                              1.0                           1.0   \n",
       "3                              1.0                           1.0   \n",
       "4                              1.0                           1.0   \n",
       "\n",
       "   CERV.C/ALC.T/P FRANZISKANER WEISSBI.50CL  \n",
       "0                                       1.0  \n",
       "1                                       1.0  \n",
       "2                                       1.0  \n",
       "3                                       1.0  \n",
       "4                                       1.0  "
      ]
     },
     "execution_count": 92,
     "metadata": {},
     "output_type": "execute_result"
    }
   ],
   "source": [
    "#dfDelta.info()\n",
    "dfNinjas.head()\n",
    "#dfSonae.head()"
   ]
  },
  {
   "cell_type": "markdown",
   "metadata": {},
   "source": [
    "# Mudar para datetime os que forem precisos"
   ]
  },
  {
   "cell_type": "code",
   "execution_count": 87,
   "metadata": {},
   "outputs": [],
   "source": [
    "dfDelta['DATA'] = pd.to_datetime(dfDelta['DATA'], format=('%d-%m-%Y'))\n",
    "#dfSonae['DATA'] = pd.to_datetime(dfSonae['DATA'])"
   ]
  },
  {
   "cell_type": "markdown",
   "metadata": {},
   "source": [
    "# Pedir dados fundamentais"
   ]
  },
  {
   "cell_type": "code",
   "execution_count": 90,
   "metadata": {},
   "outputs": [
    {
     "name": "stdout",
     "output_type": "stream",
     "text": [
      "Número de colunas que não são produto: 4\n",
      "A partir de qual coluna aparece produto: 5\n"
     ]
    }
   ],
   "source": [
    "x = int(input(\"Número de colunas que não são produto em dfNinjas: \"))\n",
    "y = int(input(\"A partir de qual coluna aparece produto: \"))\n",
    "n = len(dfNinjas.columns)-x\n",
    "\n",
    "nomesProd = dfNinjas.columns[y-1:y-1+n]\n",
    "nomesResto = dfNinjas.columns.difference(nomesProd)"
   ]
  },
  {
   "cell_type": "markdown",
   "metadata": {},
   "source": [
    "# Código Ninjas (Presença, pôr long)"
   ]
  },
  {
   "cell_type": "code",
   "execution_count": 93,
   "metadata": {},
   "outputs": [],
   "source": [
    "dfNinjasLong = dfNinjas.melt(id_vars=nomesResto, value_vars=nomesProd, var_name='DESC_ARTIGO', value_name='NinjaInfo')\n",
    "dfNinjasLong = dfNinjasLong.dropna(subset=['NinjaInfo'])"
   ]
  },
  {
   "cell_type": "code",
   "execution_count": 98,
   "metadata": {},
   "outputs": [
    {
     "data": {
      "text/html": [
       "<div>\n",
       "<style scoped>\n",
       "    .dataframe tbody tr th:only-of-type {\n",
       "        vertical-align: middle;\n",
       "    }\n",
       "\n",
       "    .dataframe tbody tr th {\n",
       "        vertical-align: top;\n",
       "    }\n",
       "\n",
       "    .dataframe thead th {\n",
       "        text-align: right;\n",
       "    }\n",
       "</style>\n",
       "<table border=\"1\" class=\"dataframe\">\n",
       "  <thead>\n",
       "    <tr style=\"text-align: right;\">\n",
       "      <th></th>\n",
       "      <th>DATA</th>\n",
       "      <th>Hora</th>\n",
       "      <th>Nome da Loja</th>\n",
       "      <th>STORE</th>\n",
       "      <th>DESC_ARTIGO</th>\n",
       "      <th>NinjaInfo</th>\n",
       "    </tr>\n",
       "  </thead>\n",
       "  <tbody>\n",
       "    <tr>\n",
       "      <th>0</th>\n",
       "      <td>2023-04-01</td>\n",
       "      <td>17:07:13</td>\n",
       "      <td>Continente Arrábida (Gaia Jardim)</td>\n",
       "      <td>460</td>\n",
       "      <td>Promoção</td>\n",
       "      <td>1.0</td>\n",
       "    </tr>\n",
       "    <tr>\n",
       "      <th>1</th>\n",
       "      <td>2023-04-02</td>\n",
       "      <td>19:54:22</td>\n",
       "      <td>Continente Aveiro</td>\n",
       "      <td>458</td>\n",
       "      <td>Promoção</td>\n",
       "      <td>1.0</td>\n",
       "    </tr>\n",
       "    <tr>\n",
       "      <th>2</th>\n",
       "      <td>2023-03-31</td>\n",
       "      <td>18:27:18</td>\n",
       "      <td>Continente Barreiro</td>\n",
       "      <td>927</td>\n",
       "      <td>Promoção</td>\n",
       "      <td>0.0</td>\n",
       "    </tr>\n",
       "    <tr>\n",
       "      <th>3</th>\n",
       "      <td>2023-03-31</td>\n",
       "      <td>10:51:34</td>\n",
       "      <td>Continente Beja</td>\n",
       "      <td>207</td>\n",
       "      <td>Promoção</td>\n",
       "      <td>1.0</td>\n",
       "    </tr>\n",
       "    <tr>\n",
       "      <th>4</th>\n",
       "      <td>2023-04-02</td>\n",
       "      <td>21:49:00</td>\n",
       "      <td>Continente Braga</td>\n",
       "      <td>459</td>\n",
       "      <td>Promoção</td>\n",
       "      <td>1.0</td>\n",
       "    </tr>\n",
       "  </tbody>\n",
       "</table>\n",
       "</div>"
      ],
      "text/plain": [
       "        DATA      Hora                       Nome da Loja  STORE DESC_ARTIGO  \\\n",
       "0 2023-04-01  17:07:13  Continente Arrábida (Gaia Jardim)    460    Promoção   \n",
       "1 2023-04-02  19:54:22                  Continente Aveiro    458    Promoção   \n",
       "2 2023-03-31  18:27:18                Continente Barreiro    927    Promoção   \n",
       "3 2023-03-31  10:51:34                    Continente Beja    207    Promoção   \n",
       "4 2023-04-02  21:49:00                   Continente Braga    459    Promoção   \n",
       "\n",
       "   NinjaInfo  \n",
       "0        1.0  \n",
       "1        1.0  \n",
       "2        0.0  \n",
       "3        1.0  \n",
       "4        1.0  "
      ]
     },
     "execution_count": 98,
     "metadata": {},
     "output_type": "execute_result"
    }
   ],
   "source": [
    "dfNinjasLong.head()"
   ]
  },
  {
   "cell_type": "markdown",
   "metadata": {},
   "source": [
    "# Código para Delta (Stocks, mergir, tira-se muitas colunas)"
   ]
  },
  {
   "cell_type": "code",
   "execution_count": 101,
   "metadata": {},
   "outputs": [],
   "source": [
    "dfMeio = pd.merge(dfNinjasLong, dfDelta, how=\"left\", on = [\"DATA\",\"STORE\",\"DESC_ARTIGO\"]) \n",
    "dfMeio = dfMeio.drop(columns=['FORN/AGENTE/ENT', 'ARTIGO', 'STATUS_ARTIGO',\"STORE_NAME\",\"Enc PBL + DIRECTO\"])"
   ]
  },
  {
   "cell_type": "code",
   "execution_count": 116,
   "metadata": {},
   "outputs": [],
   "source": [
    "#escrever_excel(dfResult, \"DadosNinjaStocksfim\")"
   ]
  },
  {
   "cell_type": "markdown",
   "metadata": {},
   "source": [
    "# Código para Sonae (Sellouts, pôr long e mergir)"
   ]
  },
  {
   "cell_type": "markdown",
   "metadata": {},
   "source": [
    "- Para Long"
   ]
  },
  {
   "cell_type": "code",
   "execution_count": 145,
   "metadata": {},
   "outputs": [],
   "source": [
    "dfSonaeLong = dfSonae.melt(id_vars=[\"STORE\", \"STORE_NAME\", \"Vendedor\", \"Reposição\"], value_vars=nomesProd[1:], var_name='DESC_ARTIGO', value_name='Sellout')\n",
    "dfSonaeLong = dfSonaeLong.dropna(subset=['Sellout'])\n"
   ]
  },
  {
   "cell_type": "markdown",
   "metadata": {},
   "source": [
    "- Mergir"
   ]
  },
  {
   "cell_type": "code",
   "execution_count": null,
   "metadata": {},
   "outputs": [],
   "source": [
    "dfCompleto= pd.merge(dfMeio, dfSonaeLong, how=\"left\", on = [\"STORE\",\"DESC_ARTIGO\"])"
   ]
  },
  {
   "cell_type": "markdown",
   "metadata": {},
   "source": [
    "# Já temos DataFrame com:\n",
    "- Informação Ninjas\n",
    "- Informação Stocks, Linear, Intransit e Expected\n",
    "- Informação Sellouts, Vendedor, Reposição\n",
    "\n",
    "## Fazer:\n",
    "\n",
    "- Rotura\n",
    "- Sinal -> Avaliação da informação ninja vs stock\n",
    "- Ciclos\n",
    "- Adequação de Stock"
   ]
  },
  {
   "cell_type": "code",
   "execution_count": null,
   "metadata": {},
   "outputs": [],
   "source": [
    "# Estabelecer qual o dataframe em questão\n",
    "\n",
    "dfFinal=dfCompleto.copy()"
   ]
  },
  {
   "cell_type": "markdown",
   "metadata": {},
   "source": [
    "> Rotura"
   ]
  },
  {
   "cell_type": "code",
   "execution_count": 156,
   "metadata": {},
   "outputs": [
    {
     "name": "stdout",
     "output_type": "stream",
     "text": [
      "Wall time: 1e+03 µs\n"
     ]
    }
   ],
   "source": [
    "%%time\n",
    "#dfFinal[\"Rotura\"] = np.where(dfFinal[\"SOH\"] > 0, 0, 1)\n",
    "dfFinal[\"Rotura\"] = (dfFinal[\"SOH\"] == 0).astype(int) #Mais rápido"
   ]
  },
  {
   "cell_type": "markdown",
   "metadata": {},
   "source": [
    "> Sinal"
   ]
  },
  {
   "cell_type": "code",
   "execution_count": 158,
   "metadata": {},
   "outputs": [],
   "source": [
    "\n",
    "dfFinal['Sinal'] = np.where(dfMeio['NinjaInfo'].astype(bool) & dfMeio['SOH'].astype(bool), 1,\n",
    "                         np.where(~dfMeio['NinjaInfo'].astype(bool) & dfMeio['SOH'].astype(bool), 2,\n",
    "                                  np.where(dfMeio['NinjaInfo'].astype(bool) & ~dfMeio['SOH'].astype(bool), 3, 4)))\n",
    "\n",
    "# 1: Há Stock e Sinal Positivo Ninja\n",
    "# 2: Há Stock e Sinal Negativo Ninja\n",
    "# 3: Não há Stock e Sinal Positivo Ninja\n",
    "# 4: Não há Stock e Sinal Negativo Ninja"
   ]
  },
  {
   "cell_type": "markdown",
   "metadata": {},
   "source": [
    "> Ciclos"
   ]
  },
  {
   "cell_type": "code",
   "execution_count": 160,
   "metadata": {},
   "outputs": [],
   "source": [
    "dfFinal[\"Ciclos\"] = dfFinal[\"SOH\"]/dfFinal[\"PRES_STOCK\"]"
   ]
  },
  {
   "cell_type": "markdown",
   "metadata": {},
   "source": [
    "> Adequação"
   ]
  },
  {
   "cell_type": "code",
   "execution_count": 166,
   "metadata": {},
   "outputs": [],
   "source": [
    "dfFinal[\"Adequação\"]= np.where(dfFinal[\"Ciclos\"] > 1.1, \"Stock Suficiente\", \n",
    "                               np.where((dfFinal[\"Ciclos\"] <= 1.1) & (dfFinal[\"INTRANSIT\"]+dfFinal[\"EXPECTED\"]+dfFinal[\"SOH\"]>=dfFinal[\"PRES_STOCK\"]), \"Stock Insuf c Forn Adequado\", \n",
    "                                np.where((dfFinal[\"Ciclos\"] <= 1.1) & (dfFinal[\"INTRANSIT\"]+dfFinal[\"EXPECTED\"]+dfFinal[\"SOH\"]<dfFinal[\"PRES_STOCK\"]), \"Stock Insuf c Forn Desadequado\", \"\")))"
   ]
  },
  {
   "cell_type": "markdown",
   "metadata": {},
   "source": [
    "> Dias para rotura"
   ]
  },
  {
   "cell_type": "code",
   "execution_count": 169,
   "metadata": {},
   "outputs": [],
   "source": [
    "dfFinal[\"Dias para Rotura\"]=dfFinal[\"SOH\"]/dfFinal[\"Sellout\"]"
   ]
  },
  {
   "cell_type": "markdown",
   "metadata": {},
   "source": [
    "# Reomear e organizar"
   ]
  },
  {
   "cell_type": "code",
   "execution_count": 177,
   "metadata": {},
   "outputs": [],
   "source": [
    "dfFinal=dfFinal.rename(columns={\"VND (D-1)\": \"Sellout_1_Dia_Antes\"})\n",
    "#dfFinalCorr=dfFinal.iloc[:, [0,1,2,4,3,5,13,7,6,8,9,10,11,14,12,15,16,17]]"
   ]
  },
  {
   "cell_type": "code",
   "execution_count": null,
   "metadata": {},
   "outputs": [],
   "source": [
    "dfFinal.head()"
   ]
  },
  {
   "cell_type": "markdown",
   "metadata": {},
   "source": [
    "# Acabamos com:\n",
    "- Informação Ninjas\n",
    "- Informação Stocks, Linear, Intransit e Expected\n",
    "- Informação Sellouts, Vendedor, Reposição\n",
    "- Rotura\n",
    "- Sinal \n",
    "- Ciclos\n",
    "- Adequação de Stock\n",
    "- Dias para a rotura\n",
    "\n",
    "#Desvio padrão"
   ]
  },
  {
   "cell_type": "markdown",
   "metadata": {},
   "source": [
    "# Escrever"
   ]
  },
  {
   "cell_type": "code",
   "execution_count": 178,
   "metadata": {},
   "outputs": [],
   "source": [
    "escrever_excel(dfFinal, \"JáEstáLong\")"
   ]
  },
  {
   "cell_type": "markdown",
   "metadata": {},
   "source": [
    ".\n",
    "\n",
    "..\n",
    "\n",
    "...\n",
    "\n",
    "....\n",
    "\n",
    ".....\n",
    "\n",
    "......\n",
    "\n",
    ".......\n",
    "\n",
    "........\n"
   ]
  },
  {
   "cell_type": "markdown",
   "metadata": {},
   "source": [
    "# Algo a tentar"
   ]
  },
  {
   "cell_type": "markdown",
   "metadata": {},
   "source": [
    "- Tentar pôr wide"
   ]
  },
  {
   "cell_type": "code",
   "execution_count": 184,
   "metadata": {
    "collapsed": true
   },
   "outputs": [
    {
     "ename": "ValueError",
     "evalue": "Grouper and axis must be same length",
     "output_type": "error",
     "traceback": [
      "\u001b[1;31m---------------------------------------------------------------------------\u001b[0m",
      "\u001b[1;31mValueError\u001b[0m                                Traceback (most recent call last)",
      "\u001b[1;32m<ipython-input-184-b9b5f6327aaa>\u001b[0m in \u001b[0;36m<module>\u001b[1;34m()\u001b[0m\n\u001b[1;32m----> 1\u001b[1;33m \u001b[0mdfWideMeio\u001b[0m\u001b[1;33m=\u001b[0m\u001b[0mdfMeio\u001b[0m\u001b[1;33m.\u001b[0m\u001b[0mpivot_table\u001b[0m\u001b[1;33m(\u001b[0m\u001b[0mindex\u001b[0m\u001b[1;33m=\u001b[0m\u001b[0mnomesProd\u001b[0m\u001b[1;33m,\u001b[0m \u001b[0mcolumns\u001b[0m\u001b[1;33m=\u001b[0m\u001b[0mnomesProd\u001b[0m\u001b[1;33m,\u001b[0m \u001b[0mvalues\u001b[0m\u001b[1;33m=\u001b[0m\u001b[0mnomesResto\u001b[0m\u001b[1;33m)\u001b[0m\u001b[1;33m\u001b[0m\u001b[0m\n\u001b[0m\u001b[0;32m      2\u001b[0m \u001b[1;31m#dfWideMeio = dfMeio.pivot(index=nomesResto, columns='DESC_ARTIGO', values='NinjaInfo')\u001b[0m\u001b[1;33m\u001b[0m\u001b[1;33m\u001b[0m\u001b[0m\n\u001b[0;32m      3\u001b[0m \u001b[1;31m#dfWideMeio = dfMeio.pivot(index='Nome da Loja', columns='DESC_ARTIGO', values='NinjaInfo')\u001b[0m\u001b[1;33m\u001b[0m\u001b[1;33m\u001b[0m\u001b[0m\n\u001b[0;32m      4\u001b[0m \u001b[1;31m#dfWideMeio = dfMeio.pivot_table(index=['DATA', 'Hora', 'Nome da Loja', 'STORE'], columns='DESC_ARTIGO', values='NinjaInfo', aggfunc='sum', fill_value=0)\u001b[0m\u001b[1;33m\u001b[0m\u001b[1;33m\u001b[0m\u001b[0m\n",
      "\u001b[1;32mD:\\Anaconda\\lib\\site-packages\\pandas\\core\\frame.py\u001b[0m in \u001b[0;36mpivot_table\u001b[1;34m(self, values, index, columns, aggfunc, fill_value, margins, dropna, margins_name)\u001b[0m\n\u001b[0;32m   5298\u001b[0m                            \u001b[0maggfunc\u001b[0m\u001b[1;33m=\u001b[0m\u001b[0maggfunc\u001b[0m\u001b[1;33m,\u001b[0m \u001b[0mfill_value\u001b[0m\u001b[1;33m=\u001b[0m\u001b[0mfill_value\u001b[0m\u001b[1;33m,\u001b[0m\u001b[1;33m\u001b[0m\u001b[0m\n\u001b[0;32m   5299\u001b[0m                            \u001b[0mmargins\u001b[0m\u001b[1;33m=\u001b[0m\u001b[0mmargins\u001b[0m\u001b[1;33m,\u001b[0m \u001b[0mdropna\u001b[0m\u001b[1;33m=\u001b[0m\u001b[0mdropna\u001b[0m\u001b[1;33m,\u001b[0m\u001b[1;33m\u001b[0m\u001b[0m\n\u001b[1;32m-> 5300\u001b[1;33m                            margins_name=margins_name)\n\u001b[0m\u001b[0;32m   5301\u001b[0m \u001b[1;33m\u001b[0m\u001b[0m\n\u001b[0;32m   5302\u001b[0m     \u001b[1;32mdef\u001b[0m \u001b[0mstack\u001b[0m\u001b[1;33m(\u001b[0m\u001b[0mself\u001b[0m\u001b[1;33m,\u001b[0m \u001b[0mlevel\u001b[0m\u001b[1;33m=\u001b[0m\u001b[1;33m-\u001b[0m\u001b[1;36m1\u001b[0m\u001b[1;33m,\u001b[0m \u001b[0mdropna\u001b[0m\u001b[1;33m=\u001b[0m\u001b[1;32mTrue\u001b[0m\u001b[1;33m)\u001b[0m\u001b[1;33m:\u001b[0m\u001b[1;33m\u001b[0m\u001b[0m\n",
      "\u001b[1;32mD:\\Anaconda\\lib\\site-packages\\pandas\\core\\reshape\\pivot.py\u001b[0m in \u001b[0;36mpivot_table\u001b[1;34m(data, values, index, columns, aggfunc, fill_value, margins, dropna, margins_name)\u001b[0m\n\u001b[0;32m     80\u001b[0m         \u001b[0mvalues\u001b[0m \u001b[1;33m=\u001b[0m \u001b[0mlist\u001b[0m\u001b[1;33m(\u001b[0m\u001b[0mvalues\u001b[0m\u001b[1;33m)\u001b[0m\u001b[1;33m\u001b[0m\u001b[0m\n\u001b[0;32m     81\u001b[0m \u001b[1;33m\u001b[0m\u001b[0m\n\u001b[1;32m---> 82\u001b[1;33m     \u001b[0mgrouped\u001b[0m \u001b[1;33m=\u001b[0m \u001b[0mdata\u001b[0m\u001b[1;33m.\u001b[0m\u001b[0mgroupby\u001b[0m\u001b[1;33m(\u001b[0m\u001b[0mkeys\u001b[0m\u001b[1;33m,\u001b[0m \u001b[0mobserved\u001b[0m\u001b[1;33m=\u001b[0m\u001b[0mdropna\u001b[0m\u001b[1;33m)\u001b[0m\u001b[1;33m\u001b[0m\u001b[0m\n\u001b[0m\u001b[0;32m     83\u001b[0m     \u001b[0magged\u001b[0m \u001b[1;33m=\u001b[0m \u001b[0mgrouped\u001b[0m\u001b[1;33m.\u001b[0m\u001b[0magg\u001b[0m\u001b[1;33m(\u001b[0m\u001b[0maggfunc\u001b[0m\u001b[1;33m)\u001b[0m\u001b[1;33m\u001b[0m\u001b[0m\n\u001b[0;32m     84\u001b[0m \u001b[1;33m\u001b[0m\u001b[0m\n",
      "\u001b[1;32mD:\\Anaconda\\lib\\site-packages\\pandas\\core\\generic.py\u001b[0m in \u001b[0;36mgroupby\u001b[1;34m(self, by, axis, level, as_index, sort, group_keys, squeeze, observed, **kwargs)\u001b[0m\n\u001b[0;32m   6657\u001b[0m         return groupby(self, by=by, axis=axis, level=level, as_index=as_index,\n\u001b[0;32m   6658\u001b[0m                        \u001b[0msort\u001b[0m\u001b[1;33m=\u001b[0m\u001b[0msort\u001b[0m\u001b[1;33m,\u001b[0m \u001b[0mgroup_keys\u001b[0m\u001b[1;33m=\u001b[0m\u001b[0mgroup_keys\u001b[0m\u001b[1;33m,\u001b[0m \u001b[0msqueeze\u001b[0m\u001b[1;33m=\u001b[0m\u001b[0msqueeze\u001b[0m\u001b[1;33m,\u001b[0m\u001b[1;33m\u001b[0m\u001b[0m\n\u001b[1;32m-> 6659\u001b[1;33m                        observed=observed, **kwargs)\n\u001b[0m\u001b[0;32m   6660\u001b[0m \u001b[1;33m\u001b[0m\u001b[0m\n\u001b[0;32m   6661\u001b[0m     def asfreq(self, freq, method=None, how=None, normalize=False,\n",
      "\u001b[1;32mD:\\Anaconda\\lib\\site-packages\\pandas\\core\\groupby\\groupby.py\u001b[0m in \u001b[0;36mgroupby\u001b[1;34m(obj, by, **kwds)\u001b[0m\n\u001b[0;32m   2150\u001b[0m         \u001b[1;32mraise\u001b[0m \u001b[0mTypeError\u001b[0m\u001b[1;33m(\u001b[0m\u001b[1;34m'invalid type: %s'\u001b[0m \u001b[1;33m%\u001b[0m \u001b[0mtype\u001b[0m\u001b[1;33m(\u001b[0m\u001b[0mobj\u001b[0m\u001b[1;33m)\u001b[0m\u001b[1;33m)\u001b[0m\u001b[1;33m\u001b[0m\u001b[0m\n\u001b[0;32m   2151\u001b[0m \u001b[1;33m\u001b[0m\u001b[0m\n\u001b[1;32m-> 2152\u001b[1;33m     \u001b[1;32mreturn\u001b[0m \u001b[0mklass\u001b[0m\u001b[1;33m(\u001b[0m\u001b[0mobj\u001b[0m\u001b[1;33m,\u001b[0m \u001b[0mby\u001b[0m\u001b[1;33m,\u001b[0m \u001b[1;33m**\u001b[0m\u001b[0mkwds\u001b[0m\u001b[1;33m)\u001b[0m\u001b[1;33m\u001b[0m\u001b[0m\n\u001b[0m\u001b[0;32m   2153\u001b[0m \u001b[1;33m\u001b[0m\u001b[0m\n\u001b[0;32m   2154\u001b[0m \u001b[1;33m\u001b[0m\u001b[0m\n",
      "\u001b[1;32mD:\\Anaconda\\lib\\site-packages\\pandas\\core\\groupby\\groupby.py\u001b[0m in \u001b[0;36m__init__\u001b[1;34m(self, obj, keys, axis, level, grouper, exclusions, selection, as_index, sort, group_keys, squeeze, observed, **kwargs)\u001b[0m\n\u001b[0;32m    597\u001b[0m                                                     \u001b[0msort\u001b[0m\u001b[1;33m=\u001b[0m\u001b[0msort\u001b[0m\u001b[1;33m,\u001b[0m\u001b[1;33m\u001b[0m\u001b[0m\n\u001b[0;32m    598\u001b[0m                                                     \u001b[0mobserved\u001b[0m\u001b[1;33m=\u001b[0m\u001b[0mobserved\u001b[0m\u001b[1;33m,\u001b[0m\u001b[1;33m\u001b[0m\u001b[0m\n\u001b[1;32m--> 599\u001b[1;33m                                                     mutated=self.mutated)\n\u001b[0m\u001b[0;32m    600\u001b[0m \u001b[1;33m\u001b[0m\u001b[0m\n\u001b[0;32m    601\u001b[0m         \u001b[0mself\u001b[0m\u001b[1;33m.\u001b[0m\u001b[0mobj\u001b[0m \u001b[1;33m=\u001b[0m \u001b[0mobj\u001b[0m\u001b[1;33m\u001b[0m\u001b[0m\n",
      "\u001b[1;32mD:\\Anaconda\\lib\\site-packages\\pandas\\core\\groupby\\groupby.py\u001b[0m in \u001b[0;36m_get_grouper\u001b[1;34m(obj, key, axis, level, sort, observed, mutated, validate)\u001b[0m\n\u001b[0;32m   3313\u001b[0m                         \u001b[0mobserved\u001b[0m\u001b[1;33m=\u001b[0m\u001b[0mobserved\u001b[0m\u001b[1;33m,\u001b[0m\u001b[1;33m\u001b[0m\u001b[0m\n\u001b[0;32m   3314\u001b[0m                         in_axis=in_axis) \\\n\u001b[1;32m-> 3315\u001b[1;33m             \u001b[1;32mif\u001b[0m \u001b[1;32mnot\u001b[0m \u001b[0misinstance\u001b[0m\u001b[1;33m(\u001b[0m\u001b[0mgpr\u001b[0m\u001b[1;33m,\u001b[0m \u001b[0mGrouping\u001b[0m\u001b[1;33m)\u001b[0m \u001b[1;32melse\u001b[0m \u001b[0mgpr\u001b[0m\u001b[1;33m\u001b[0m\u001b[0m\n\u001b[0m\u001b[0;32m   3316\u001b[0m \u001b[1;33m\u001b[0m\u001b[0m\n\u001b[0;32m   3317\u001b[0m         \u001b[0mgroupings\u001b[0m\u001b[1;33m.\u001b[0m\u001b[0mappend\u001b[0m\u001b[1;33m(\u001b[0m\u001b[0mping\u001b[0m\u001b[1;33m)\u001b[0m\u001b[1;33m\u001b[0m\u001b[0m\n",
      "\u001b[1;32mD:\\Anaconda\\lib\\site-packages\\pandas\\core\\groupby\\groupby.py\u001b[0m in \u001b[0;36m__init__\u001b[1;34m(self, index, grouper, obj, name, level, sort, observed, in_axis)\u001b[0m\n\u001b[0;32m   2942\u001b[0m         \u001b[0mself\u001b[0m\u001b[1;33m.\u001b[0m\u001b[0mname\u001b[0m \u001b[1;33m=\u001b[0m \u001b[0mname\u001b[0m\u001b[1;33m\u001b[0m\u001b[0m\n\u001b[0;32m   2943\u001b[0m         \u001b[0mself\u001b[0m\u001b[1;33m.\u001b[0m\u001b[0mlevel\u001b[0m \u001b[1;33m=\u001b[0m \u001b[0mlevel\u001b[0m\u001b[1;33m\u001b[0m\u001b[0m\n\u001b[1;32m-> 2944\u001b[1;33m         \u001b[0mself\u001b[0m\u001b[1;33m.\u001b[0m\u001b[0mgrouper\u001b[0m \u001b[1;33m=\u001b[0m \u001b[0m_convert_grouper\u001b[0m\u001b[1;33m(\u001b[0m\u001b[0mindex\u001b[0m\u001b[1;33m,\u001b[0m \u001b[0mgrouper\u001b[0m\u001b[1;33m)\u001b[0m\u001b[1;33m\u001b[0m\u001b[0m\n\u001b[0m\u001b[0;32m   2945\u001b[0m         \u001b[0mself\u001b[0m\u001b[1;33m.\u001b[0m\u001b[0mall_grouper\u001b[0m \u001b[1;33m=\u001b[0m \u001b[1;32mNone\u001b[0m\u001b[1;33m\u001b[0m\u001b[0m\n\u001b[0;32m   2946\u001b[0m         \u001b[0mself\u001b[0m\u001b[1;33m.\u001b[0m\u001b[0mindex\u001b[0m \u001b[1;33m=\u001b[0m \u001b[0mindex\u001b[0m\u001b[1;33m\u001b[0m\u001b[0m\n",
      "\u001b[1;32mD:\\Anaconda\\lib\\site-packages\\pandas\\core\\groupby\\groupby.py\u001b[0m in \u001b[0;36m_convert_grouper\u001b[1;34m(axis, grouper)\u001b[0m\n\u001b[0;32m   3340\u001b[0m     \u001b[1;32melif\u001b[0m \u001b[0misinstance\u001b[0m\u001b[1;33m(\u001b[0m\u001b[0mgrouper\u001b[0m\u001b[1;33m,\u001b[0m \u001b[1;33m(\u001b[0m\u001b[0mlist\u001b[0m\u001b[1;33m,\u001b[0m \u001b[0mSeries\u001b[0m\u001b[1;33m,\u001b[0m \u001b[0mIndex\u001b[0m\u001b[1;33m,\u001b[0m \u001b[0mnp\u001b[0m\u001b[1;33m.\u001b[0m\u001b[0mndarray\u001b[0m\u001b[1;33m)\u001b[0m\u001b[1;33m)\u001b[0m\u001b[1;33m:\u001b[0m\u001b[1;33m\u001b[0m\u001b[0m\n\u001b[0;32m   3341\u001b[0m         \u001b[1;32mif\u001b[0m \u001b[0mlen\u001b[0m\u001b[1;33m(\u001b[0m\u001b[0mgrouper\u001b[0m\u001b[1;33m)\u001b[0m \u001b[1;33m!=\u001b[0m \u001b[0mlen\u001b[0m\u001b[1;33m(\u001b[0m\u001b[0maxis\u001b[0m\u001b[1;33m)\u001b[0m\u001b[1;33m:\u001b[0m\u001b[1;33m\u001b[0m\u001b[0m\n\u001b[1;32m-> 3342\u001b[1;33m             \u001b[1;32mraise\u001b[0m \u001b[0mValueError\u001b[0m\u001b[1;33m(\u001b[0m\u001b[1;34m'Grouper and axis must be same length'\u001b[0m\u001b[1;33m)\u001b[0m\u001b[1;33m\u001b[0m\u001b[0m\n\u001b[0m\u001b[0;32m   3343\u001b[0m         \u001b[1;32mreturn\u001b[0m \u001b[0mgrouper\u001b[0m\u001b[1;33m\u001b[0m\u001b[0m\n\u001b[0;32m   3344\u001b[0m     \u001b[1;32melse\u001b[0m\u001b[1;33m:\u001b[0m\u001b[1;33m\u001b[0m\u001b[0m\n",
      "\u001b[1;31mValueError\u001b[0m: Grouper and axis must be same length"
     ]
    }
   ],
   "source": [
    "dfWideMeio=dfMeio.pivot_table(index=nomesProd, columns=nomesProd, values=nomesResto)\n",
    "#dfWideMeio = dfMeio.pivot(index=nomesResto, columns='DESC_ARTIGO', values='NinjaInfo')\n",
    "#dfWideMeio = dfMeio.pivot(index='Nome da Loja', columns='DESC_ARTIGO', values='NinjaInfo')\n",
    "#dfWideMeio = dfMeio.pivot_table(index=['DATA', 'Hora', 'Nome da Loja', 'STORE'], columns='DESC_ARTIGO', values='NinjaInfo', aggfunc='sum', fill_value=0)"
   ]
  }
 ],
 "metadata": {
  "kernelspec": {
   "display_name": "Python 3 (ipykernel)",
   "language": "python",
   "name": "python3"
  },
  "language_info": {
   "codemirror_mode": {
    "name": "ipython",
    "version": 3
   },
   "file_extension": ".py",
   "mimetype": "text/x-python",
   "name": "python",
   "nbconvert_exporter": "python",
   "pygments_lexer": "ipython3",
   "version": "3.10.9"
  }
 },
 "nbformat": 4,
 "nbformat_minor": 2
}
