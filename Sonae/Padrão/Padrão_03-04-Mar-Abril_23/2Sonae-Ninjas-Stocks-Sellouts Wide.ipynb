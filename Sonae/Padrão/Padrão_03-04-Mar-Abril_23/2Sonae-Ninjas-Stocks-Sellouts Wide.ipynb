{
 "cells": [
  {
   "cell_type": "code",
   "execution_count": 1,
   "metadata": {},
   "outputs": [],
   "source": [
    "import pandas as pd\n",
    "import numpy as np\n",
    "\n",
    "def escrever_excel(dfa, nome):\n",
    "    dfa.to_excel('%s.xlsx' %nome, index=False)\n",
    "    \n",
    "def escrever_txt(dfa, nome):\n",
    "    dfa.to_csv('%s.txt' %nome, sep='\\t', index=False, header=False)"
   ]
  },
  {
   "cell_type": "markdown",
   "metadata": {},
   "source": [
    "# 1. Ler e Mudar nomes\n",
    "- Ficheiros base"
   ]
  },
  {
   "cell_type": "code",
   "execution_count": 2,
   "metadata": {},
   "outputs": [
    {
     "name": "stdout",
     "output_type": "stream",
     "text": [
      "Wall time: 12.9 s\n"
     ]
    }
   ],
   "source": [
    "%%time\n",
    "dfDelta=pd.read_excel(\"D:\\\\Brands and Ninjas\\\\Delta\\\\Mar-abril23\\\\1Delta-Sonae BQ.xlsx\", sheet_name=\"Sheet1\")\n",
    "#dfDelta2=pd.read_excel(\"D:\\\\Brands and Ninjas\\\\Delta\\\\Mar-abril23\\\\Stocks Sonae_Liquida.xlsx\", sheet_name=\"Sheet1\")\n",
    "#dfDelta=pd.concat([dfDelta1, dfDelta2], ignore_index=True)\n",
    "\n",
    "dfNinjas1=pd.read_excel(\"D:\\\\Brands and Ninjas\\\\Delta\\\\Mar-abril23\\\\2Ninja-CafesCervejaSonae.xlsx\")\n",
    "dfNinjas2=pd.read_excel(\"D:\\\\Brands and Ninjas\\\\Delta\\\\Mar-abril23\\\\2Ninja-CafesSonae.xlsx\")\n",
    "dfNinjas3=pd.read_excel(\"D:\\\\Brands and Ninjas\\\\Delta\\\\Mar-abril23\\\\2Ninja-CervejaSonae.xlsx\")\n",
    "dfNinjasO=pd.concat([dfNinjas1, dfNinjas2, dfNinjas3], ignore_index=True, axis=0, sort=False)\n",
    "\n",
    "dfSonae1=pd.read_excel(\"D:\\\\Brands and Ninjas\\\\Delta\\\\Mar-abril23\\\\3Sellout-CafeSonae3d.xlsx\", sheet_name=\"Lista Lojas Sonae\")\n",
    "dfSonae2=pd.read_excel(\"D:\\\\Brands and Ninjas\\\\Delta\\\\Mar-abril23\\\\3Sellout-CervSonae3d.xlsx\", sheet_name=\"Lista Lojas Sonae\")\n",
    "dfSonae3=pd.merge(dfSonae1, dfSonae2, how=\"outer\", on = \"STORE\")#,\"Descrição Loja\"])\n",
    "\n",
    "dfNinjasO = dfNinjasO.rename(columns={' Data de Resposta': 'DATA', \"Código da loja\":\"STORE\"})\n",
    "\n",
    "dfSonae3['Vendedor_x'] = dfSonae3['Vendedor_x'].fillna(dfSonae3['Vendedor_y'])\n",
    "dfSonae3['STORE_NAME']=dfSonae3['STORE_NAME'].fillna(dfSonae3['Descrição Loja'])\n",
    "dfSonae3=dfSonae3.rename(columns={\"Vendedor_x\": \"Vendedor\"})\n",
    "dfSonae3=dfSonae3.drop(columns=['Descrição Loja', 'Vendedor_y'])\n",
    "dfSonae3['STORE_NAME'] = dfSonae3['STORE_NAME'].str.upper()                                  "
   ]
  },
  {
   "cell_type": "markdown",
   "metadata": {},
   "source": [
    "- Ficheiro reposição"
   ]
  },
  {
   "cell_type": "code",
   "execution_count": 3,
   "metadata": {},
   "outputs": [],
   "source": [
    "dfSonae4=pd.read_excel(\"D:\\\\Brands and Ninjas\\\\Delta\\\\Mar-abril23\\\\3Reposição.xlsx\")\n",
    "\n",
    "# Meter no ficheiro 3\n",
    "dfSonae3['Reposição'] = [\"Sim\" if val in dfSonae4['Descrição Loja'].values else \"Não\" for val in dfSonae3['STORE_NAME']]"
   ]
  },
  {
   "cell_type": "markdown",
   "metadata": {},
   "source": [
    "- Estabelecer variáveis"
   ]
  },
  {
   "cell_type": "code",
   "execution_count": 4,
   "metadata": {},
   "outputs": [],
   "source": [
    "dfNinjas=dfNinjasO.copy()\n",
    "produtos=dfNinjasO.columns[5:10]\n",
    "presença=dfNinjasO.columns[4:10]"
   ]
  },
  {
   "cell_type": "markdown",
   "metadata": {},
   "source": [
    "- Criar coluna de número de presenças e percentagem do expectável"
   ]
  },
  {
   "cell_type": "code",
   "execution_count": 5,
   "metadata": {},
   "outputs": [],
   "source": [
    "dfNinjas['Presença'] = dfNinjas[presença].sum(axis=1, skipna=True)\n",
    "dfNinjas['Presença_em_Percentagem'] = (dfNinjas['Presença'] / dfNinjas[presença].notna().sum(axis=1)) * 100"
   ]
  },
  {
   "cell_type": "code",
   "execution_count": 6,
   "metadata": {},
   "outputs": [
    {
     "data": {
      "text/html": [
       "<div>\n",
       "<style scoped>\n",
       "    .dataframe tbody tr th:only-of-type {\n",
       "        vertical-align: middle;\n",
       "    }\n",
       "\n",
       "    .dataframe tbody tr th {\n",
       "        vertical-align: top;\n",
       "    }\n",
       "\n",
       "    .dataframe thead th {\n",
       "        text-align: right;\n",
       "    }\n",
       "</style>\n",
       "<table border=\"1\" class=\"dataframe\">\n",
       "  <thead>\n",
       "    <tr style=\"text-align: right;\">\n",
       "      <th></th>\n",
       "      <th>Hora</th>\n",
       "      <th>DATA</th>\n",
       "      <th>Nome da Loja</th>\n",
       "      <th>STORE</th>\n",
       "      <th>Promoção</th>\n",
       "      <th>CAFÉ DELTA Q QALIDUS 10CAP</th>\n",
       "      <th>CAFÉ DELTA Q AQTIVUS 10CAP</th>\n",
       "      <th>CAFÉ DELTA Q DEQAFEINATUS 10CAP</th>\n",
       "      <th>CERV.C/ALC.T/P CORONA 35,5CL</th>\n",
       "      <th>CERV.C/ALC.T/P FRANZISKANER WEISSBI.50CL</th>\n",
       "      <th>Presença</th>\n",
       "      <th>Presença_em_Percentagem</th>\n",
       "    </tr>\n",
       "  </thead>\n",
       "  <tbody>\n",
       "    <tr>\n",
       "      <th>0</th>\n",
       "      <td>17:07:13</td>\n",
       "      <td>2023-04-01</td>\n",
       "      <td>Continente Arrábida (Gaia Jardim)</td>\n",
       "      <td>460</td>\n",
       "      <td>1.0</td>\n",
       "      <td>1.0</td>\n",
       "      <td>1.0</td>\n",
       "      <td>1.0</td>\n",
       "      <td>1.0</td>\n",
       "      <td>1.0</td>\n",
       "      <td>6.0</td>\n",
       "      <td>100.000000</td>\n",
       "    </tr>\n",
       "    <tr>\n",
       "      <th>1</th>\n",
       "      <td>19:54:22</td>\n",
       "      <td>2023-04-02</td>\n",
       "      <td>Continente Aveiro</td>\n",
       "      <td>458</td>\n",
       "      <td>1.0</td>\n",
       "      <td>1.0</td>\n",
       "      <td>1.0</td>\n",
       "      <td>1.0</td>\n",
       "      <td>1.0</td>\n",
       "      <td>1.0</td>\n",
       "      <td>6.0</td>\n",
       "      <td>100.000000</td>\n",
       "    </tr>\n",
       "    <tr>\n",
       "      <th>2</th>\n",
       "      <td>18:27:18</td>\n",
       "      <td>2023-03-31</td>\n",
       "      <td>Continente Barreiro</td>\n",
       "      <td>927</td>\n",
       "      <td>0.0</td>\n",
       "      <td>1.0</td>\n",
       "      <td>1.0</td>\n",
       "      <td>1.0</td>\n",
       "      <td>1.0</td>\n",
       "      <td>1.0</td>\n",
       "      <td>5.0</td>\n",
       "      <td>83.333333</td>\n",
       "    </tr>\n",
       "    <tr>\n",
       "      <th>3</th>\n",
       "      <td>10:51:34</td>\n",
       "      <td>2023-03-31</td>\n",
       "      <td>Continente Beja</td>\n",
       "      <td>207</td>\n",
       "      <td>1.0</td>\n",
       "      <td>1.0</td>\n",
       "      <td>1.0</td>\n",
       "      <td>1.0</td>\n",
       "      <td>1.0</td>\n",
       "      <td>1.0</td>\n",
       "      <td>6.0</td>\n",
       "      <td>100.000000</td>\n",
       "    </tr>\n",
       "    <tr>\n",
       "      <th>4</th>\n",
       "      <td>21:49:00</td>\n",
       "      <td>2023-04-02</td>\n",
       "      <td>Continente Braga</td>\n",
       "      <td>459</td>\n",
       "      <td>1.0</td>\n",
       "      <td>1.0</td>\n",
       "      <td>1.0</td>\n",
       "      <td>1.0</td>\n",
       "      <td>1.0</td>\n",
       "      <td>1.0</td>\n",
       "      <td>6.0</td>\n",
       "      <td>100.000000</td>\n",
       "    </tr>\n",
       "  </tbody>\n",
       "</table>\n",
       "</div>"
      ],
      "text/plain": [
       "       Hora       DATA                       Nome da Loja  STORE  Promoção  \\\n",
       "0  17:07:13 2023-04-01  Continente Arrábida (Gaia Jardim)    460       1.0   \n",
       "1  19:54:22 2023-04-02                  Continente Aveiro    458       1.0   \n",
       "2  18:27:18 2023-03-31                Continente Barreiro    927       0.0   \n",
       "3  10:51:34 2023-03-31                    Continente Beja    207       1.0   \n",
       "4  21:49:00 2023-04-02                   Continente Braga    459       1.0   \n",
       "\n",
       "   CAFÉ DELTA Q QALIDUS 10CAP  CAFÉ DELTA Q AQTIVUS 10CAP  \\\n",
       "0                         1.0                         1.0   \n",
       "1                         1.0                         1.0   \n",
       "2                         1.0                         1.0   \n",
       "3                         1.0                         1.0   \n",
       "4                         1.0                         1.0   \n",
       "\n",
       "   CAFÉ DELTA Q DEQAFEINATUS 10CAP  CERV.C/ALC.T/P CORONA 35,5CL  \\\n",
       "0                              1.0                           1.0   \n",
       "1                              1.0                           1.0   \n",
       "2                              1.0                           1.0   \n",
       "3                              1.0                           1.0   \n",
       "4                              1.0                           1.0   \n",
       "\n",
       "   CERV.C/ALC.T/P FRANZISKANER WEISSBI.50CL  Presença  Presença_em_Percentagem  \n",
       "0                                       1.0       6.0               100.000000  \n",
       "1                                       1.0       6.0               100.000000  \n",
       "2                                       1.0       5.0                83.333333  \n",
       "3                                       1.0       6.0               100.000000  \n",
       "4                                       1.0       6.0               100.000000  "
      ]
     },
     "execution_count": 6,
     "metadata": {},
     "output_type": "execute_result"
    }
   ],
   "source": [
    "dfNinjas.head()"
   ]
  },
  {
   "cell_type": "markdown",
   "metadata": {},
   "source": [
    "# Como o sellout foi dados para o fds, dividir por 3 para fazer por dia"
   ]
  },
  {
   "cell_type": "code",
   "execution_count": 7,
   "metadata": {},
   "outputs": [],
   "source": [
    "dfSonae=dfSonae3.copy()\n",
    "dividir=dfSonae3.columns[3:-1]\n",
    "dfSonae[dividir]=dfSonae3[dividir]/3\n",
    "dfSonae = dfSonae.rename(columns={'DELTA Q AQTIVUS CÁP. CX 10 UN': 'SELLOUT CAFÉ DELTA Q AQTIVUS 10CAP', \n",
    "                                  \"DELTA Q DEQAFEINATUS CÁP. CX 10 UN\":\"SELLOUT CAFÉ DELTA Q DEQAFEINATUS 10CAP\",\n",
    "                                 \"DELTA Q-QALIDUS CÁP. CX 10 UN\":\"SELLOUT CAFÉ DELTA Q QALIDUS 10CAP\",\n",
    "                                 \"Cerveja Franziskaner Weiss 50cl (S/N)\":\"SELLOUT CERV.C/ALC.T/P FRANZISKANER WEISSBI.50CL\",\n",
    "                                 \"Cerveja Corona 35,5 CL(S/N)\":\"SELLOUT CERV.C/ALC.T/P CORONA 35,5CL\"})\n",
    "dfSonae=dfSonae.iloc[:, [0,1,2,5,3,4,7,6,8]]"
   ]
  },
  {
   "cell_type": "markdown",
   "metadata": {},
   "source": [
    "## O que tem cada ficheiro:\n",
    "\n",
    "### **dfDelta**:\n",
    "1. Formato long (produtos numa única coluna \"DESC_ARTIGO\")\n",
    "2. Stocks, em Trânsito, Esperado, Linear, sellout dia anterior\t\n",
    "\n",
    "\n",
    "### **dfNinjas**:\n",
    "1. Formato wide (cada produto numa coluna)\n",
    "2. Presença de produto em linear para cada produto\n",
    "\n",
    "### **dfSonae**:\n",
    "1. Formato wide\n",
    "2. Sellouts, Vendedores, Reposição\n"
   ]
  },
  {
   "cell_type": "markdown",
   "metadata": {},
   "source": [
    "# VER"
   ]
  },
  {
   "cell_type": "code",
   "execution_count": 8,
   "metadata": {},
   "outputs": [],
   "source": [
    "#dfDelta.info()\n",
    "#dfNinjas.head()\n",
    "#dfSonae.info()"
   ]
  },
  {
   "cell_type": "markdown",
   "metadata": {},
   "source": [
    "# 2. Mudar para datetime os que forem precisos"
   ]
  },
  {
   "cell_type": "code",
   "execution_count": 9,
   "metadata": {},
   "outputs": [],
   "source": [
    "dfDelta['DATA'] = pd.to_datetime(dfDelta['DATA'], format=('%d-%m-%Y'))\n",
    "#dfSonae['DATA'] = pd.to_datetime(dfSonae['DATA'])"
   ]
  },
  {
   "cell_type": "markdown",
   "metadata": {},
   "source": [
    "# 3. Pedir dados fundamentais e mergir"
   ]
  },
  {
   "cell_type": "code",
   "execution_count": 10,
   "metadata": {},
   "outputs": [],
   "source": [
    "#x = int(input(\"Número de colunas que não são produto em dfNinjasO: \"))\n",
    "#y = int(input(\"A partir de qual coluna aparece produto: \"))\n",
    "x=5\n",
    "y=6\n",
    "n = len(dfNinjasO.columns)-x                                     #Para automatizar, 6 colunas sem produtos\n",
    "\n",
    "nomesProd = dfNinjasO.columns[y-1:y-1+n]\n",
    "nomesResto = dfNinjasO.columns.difference(nomesProd)"
   ]
  },
  {
   "cell_type": "markdown",
   "metadata": {},
   "source": [
    "> ## Código para Delta (Stocks, mergir, só mantemos colunas de interesse)"
   ]
  },
  {
   "cell_type": "code",
   "execution_count": 11,
   "metadata": {},
   "outputs": [],
   "source": [
    "dfMeio=dfNinjas.copy()                                      #Dados Delta\n",
    "\n",
    "for i in range (1,int(n)+1):                                #Quantos dados\n",
    "    #coluna=input(\"Nome da coluna %s \" % str(i))            #Nome do café\n",
    "    coluna=dfNinjas.columns[int(y)+i-2]                     #Para automatizar os produtos aparecem a partir da 5ª coluna\n",
    "    \n",
    "    dfStocks=dfDelta[dfDelta[\"DESC_ARTIGO\"]==coluna][[\"DATA\", \"STORE\", \"SOH\", \"PRES_STOCK\", \"INTRANSIT\", \"EXPECTED\"]]   #Dados Ninjas, seleccionar colunas do café específico\n",
    "    \n",
    "    dfMeio=pd.merge(dfMeio, dfStocks, how=\"left\", on = [\"DATA\",\"STORE\"])            #Juntar dados de acordo com o dia e a loja\n",
    "    dfMeio=dfMeio.rename(columns={\"SOH\": \"STOCK %s\" % coluna, \"PRES_STOCK\":\"PRES_STOCK %s\" % coluna, \"INTRANSIT\":\"INTRANSIT %s\" % coluna, \"EXPECTED\":\"EXPECTED %s\" % coluna})  #Nomear coluna nova    \n",
    "    \n",
    "    \n"
   ]
  },
  {
   "cell_type": "code",
   "execution_count": 12,
   "metadata": {},
   "outputs": [],
   "source": [
    "#escrever_excel(dfMeio, \"Ninja+Delta\")"
   ]
  },
  {
   "cell_type": "markdown",
   "metadata": {},
   "source": [
    "> ## Código para Sonae (Sellouts, mergir)"
   ]
  },
  {
   "cell_type": "code",
   "execution_count": 13,
   "metadata": {},
   "outputs": [],
   "source": [
    "dfCompleto= pd.merge(dfMeio, dfSonae, how=\"left\", on = [\"STORE\"])\n",
    "dfCompleto=dfCompleto.drop(columns=\"STORE_NAME\")"
   ]
  },
  {
   "cell_type": "markdown",
   "metadata": {},
   "source": [
    "> # Já temos DataFrame com:\n",
    "- Informação Ninjas\n",
    "- Informação Stocks, Linear, Intransit e Expected\n",
    "- Informação Sellouts, Vendedor, Reposição\n",
    "\n",
    "> ## Fazer:\n",
    "- Rotura\n",
    "- Sinal -> Avaliação da informação ninja vs stock\n",
    "- Ciclos\n",
    "- Adequação de Stock\n",
    "- Dias para a rotura"
   ]
  },
  {
   "cell_type": "code",
   "execution_count": 14,
   "metadata": {},
   "outputs": [],
   "source": [
    "# Estabelecer qual o dataframe em questão\n",
    "\n",
    "dfFinal=dfCompleto.copy()"
   ]
  },
  {
   "cell_type": "markdown",
   "metadata": {},
   "source": [
    "> - Rotura"
   ]
  },
  {
   "cell_type": "code",
   "execution_count": 15,
   "metadata": {},
   "outputs": [
    {
     "name": "stdout",
     "output_type": "stream",
     "text": [
      "Wall time: 0 ns\n"
     ]
    }
   ],
   "source": [
    "%%time\n",
    "\n",
    "for i in nomesProd:\n",
    "    dfFinal[\"Rotura %s\" %i] = (dfFinal[\"STOCK %s\" %i] == 0).astype(int) #Mais rápido"
   ]
  },
  {
   "cell_type": "markdown",
   "metadata": {},
   "source": [
    "> - Sinal"
   ]
  },
  {
   "cell_type": "code",
   "execution_count": 16,
   "metadata": {},
   "outputs": [],
   "source": [
    "for i in nomesProd:\n",
    "    sinal = \"Sinal %s\" % i\n",
    "    ninja = \"%s\" % i\n",
    "    stock = \"STOCK %s\" % i\n",
    "    \n",
    "    dfFinal[sinal] = np.where(dfFinal[ninja].astype(bool) & dfFinal[stock].astype(bool), \"PRODUTO PRESENTE - COM STOCK\",\n",
    "                         np.where(~dfFinal[ninja].astype(bool) & dfFinal[stock].astype(bool), \"PRODUTO AUSENTE - COM STOCK\",\n",
    "                                  np.where(dfFinal[ninja].astype(bool) & ~dfFinal[stock].astype(bool), \"PRODUTO PRESENTE - SEM STOCK\", \n",
    "                                           \"PRODUTO AUSENTE - SEM STOCK\")))"
   ]
  },
  {
   "cell_type": "markdown",
   "metadata": {},
   "source": [
    "> - Ciclos"
   ]
  },
  {
   "cell_type": "code",
   "execution_count": 17,
   "metadata": {},
   "outputs": [],
   "source": [
    "for i in nomesProd:\n",
    "    dfFinal[\"Ciclos %s\" %i] = dfFinal[\"STOCK %s\" %i]/dfFinal[\"PRES_STOCK %s\" %i]"
   ]
  },
  {
   "cell_type": "markdown",
   "metadata": {},
   "source": [
    "> - Adequação"
   ]
  },
  {
   "cell_type": "code",
   "execution_count": 18,
   "metadata": {},
   "outputs": [],
   "source": [
    "for i in nomesProd:\n",
    "    adequa = \"Adequação de %s\" % i\n",
    "    ciclos = \"Ciclos %s\" % i\n",
    "    transito = \"INTRANSIT %s\" % i\n",
    "    esperado = \"EXPECTED %s\" % i\n",
    "    stock  = \"STOCK %s\" % i\n",
    "    linear = \"PRES_STOCK %s\" % i\n",
    "    dfFinal[adequa] = np.where(dfFinal[ciclos] > 1.1, \"Stock Suficiente\", \n",
    "                               np.where((dfFinal[ciclos] <= 1.1) & (dfFinal[transito]+dfFinal[esperado]+dfFinal[stock]>=dfFinal[linear]), \"Stock Insuf c Forn Adequado\", \n",
    "                                np.where((dfFinal[ciclos] <= 1.1) & (dfFinal[transito]+dfFinal[esperado]+dfFinal[stock]<dfFinal[linear]), \"Stock Insuf c Forn Desadequado\", \"\")))"
   ]
  },
  {
   "cell_type": "markdown",
   "metadata": {},
   "source": [
    "> - Dias para rotura"
   ]
  },
  {
   "cell_type": "code",
   "execution_count": 19,
   "metadata": {},
   "outputs": [],
   "source": [
    "for i in nomesProd:\n",
    "    dfFinal[\"Dias para Rotura %s\" %i]=dfFinal[\"STOCK %s\" %i]/dfFinal[\"SELLOUT %s\" %i]"
   ]
  },
  {
   "cell_type": "markdown",
   "metadata": {},
   "source": [
    "# Reomear e organizar"
   ]
  },
  {
   "cell_type": "code",
   "execution_count": 20,
   "metadata": {},
   "outputs": [],
   "source": [
    "dfFinal=dfFinal.rename(columns={\"VND (D-1)\": \"Sellout_1_Dia_Antes\", \"Nome da Loja\": \"Loja\" })\n"
   ]
  },
  {
   "cell_type": "markdown",
   "metadata": {},
   "source": [
    "# Acabamos com:\n",
    "- Informação Ninjas\n",
    "- Informação Stocks, Linear, Intransit e Expected\n",
    "- Informação Sellouts, Vendedor, Reposição\n",
    "- Rotura\n",
    "- Sinal \n",
    "- Ciclos\n",
    "- Adequação de Stock\n",
    "- Dias para a rotura\n",
    "\n",
    "#Desvio padrão"
   ]
  },
  {
   "cell_type": "markdown",
   "metadata": {},
   "source": [
    "# Escrever"
   ]
  },
  {
   "cell_type": "markdown",
   "metadata": {},
   "source": [
    "- Base de dados"
   ]
  },
  {
   "cell_type": "code",
   "execution_count": 316,
   "metadata": {},
   "outputs": [],
   "source": [
    "#escrever_excel(dfFinal, \"zFinalWide2\")"
   ]
  },
  {
   "cell_type": "markdown",
   "metadata": {},
   "source": [
    "- Ficheiro de produtos"
   ]
  },
  {
   "cell_type": "code",
   "execution_count": 179,
   "metadata": {},
   "outputs": [],
   "source": [
    "dfProdutos = pd.DataFrame(produtos, columns=['produtos'])\n",
    "dfProdutos.loc[-1] = [len(produtos)]\n",
    "dfProdutos.index = dfProdutos.index + 1\n",
    "dfProdutos = dfProdutos.sort_index() "
   ]
  },
  {
   "cell_type": "code",
   "execution_count": 180,
   "metadata": {},
   "outputs": [
    {
     "data": {
      "text/html": [
       "<div>\n",
       "<style scoped>\n",
       "    .dataframe tbody tr th:only-of-type {\n",
       "        vertical-align: middle;\n",
       "    }\n",
       "\n",
       "    .dataframe tbody tr th {\n",
       "        vertical-align: top;\n",
       "    }\n",
       "\n",
       "    .dataframe thead th {\n",
       "        text-align: right;\n",
       "    }\n",
       "</style>\n",
       "<table border=\"1\" class=\"dataframe\">\n",
       "  <thead>\n",
       "    <tr style=\"text-align: right;\">\n",
       "      <th></th>\n",
       "      <th>produtos</th>\n",
       "    </tr>\n",
       "  </thead>\n",
       "  <tbody>\n",
       "    <tr>\n",
       "      <th>0</th>\n",
       "      <td>5</td>\n",
       "    </tr>\n",
       "    <tr>\n",
       "      <th>1</th>\n",
       "      <td>CAFÉ DELTA Q QALIDUS 10CAP</td>\n",
       "    </tr>\n",
       "    <tr>\n",
       "      <th>2</th>\n",
       "      <td>CAFÉ DELTA Q AQTIVUS 10CAP</td>\n",
       "    </tr>\n",
       "    <tr>\n",
       "      <th>3</th>\n",
       "      <td>CAFÉ DELTA Q DEQAFEINATUS 10CAP</td>\n",
       "    </tr>\n",
       "    <tr>\n",
       "      <th>4</th>\n",
       "      <td>CERV.C/ALC.T/P CORONA 35,5CL</td>\n",
       "    </tr>\n",
       "    <tr>\n",
       "      <th>5</th>\n",
       "      <td>CERV.C/ALC.T/P FRANZISKANER WEISSBI.50CL</td>\n",
       "    </tr>\n",
       "  </tbody>\n",
       "</table>\n",
       "</div>"
      ],
      "text/plain": [
       "                                   produtos\n",
       "0                                         5\n",
       "1                CAFÉ DELTA Q QALIDUS 10CAP\n",
       "2                CAFÉ DELTA Q AQTIVUS 10CAP\n",
       "3           CAFÉ DELTA Q DEQAFEINATUS 10CAP\n",
       "4              CERV.C/ALC.T/P CORONA 35,5CL\n",
       "5  CERV.C/ALC.T/P FRANZISKANER WEISSBI.50CL"
      ]
     },
     "execution_count": 180,
     "metadata": {},
     "output_type": "execute_result"
    }
   ],
   "source": [
    "dfProdutos"
   ]
  },
  {
   "cell_type": "code",
   "execution_count": 181,
   "metadata": {},
   "outputs": [],
   "source": [
    "#escrever_txt(dfProdutos, \"zProdutos\")"
   ]
  }
 ],
 "metadata": {
  "kernelspec": {
   "display_name": "Python 3",
   "language": "python",
   "name": "python3"
  },
  "language_info": {
   "codemirror_mode": {
    "name": "ipython",
    "version": 3
   },
   "file_extension": ".py",
   "mimetype": "text/x-python",
   "name": "python",
   "nbconvert_exporter": "python",
   "pygments_lexer": "ipython3",
   "version": "3.6.5"
  }
 },
 "nbformat": 4,
 "nbformat_minor": 2
}
