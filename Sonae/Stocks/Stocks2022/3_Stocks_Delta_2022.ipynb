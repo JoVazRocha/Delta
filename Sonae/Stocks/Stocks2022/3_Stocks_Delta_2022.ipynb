{
 "cells": [
  {
   "cell_type": "markdown",
   "metadata": {},
   "source": [
    "# Resumo do código\n",
    "\n",
    "### <u>Código que gera os ficheiros para estudo do comportamento da Delta</u>\n",
    "---\n",
    "O objectivo é receber dados da Delta e devolver um conjunto de métricas para prever roturas. Devolve um ficheiro que pode entrar no código 1 para juntar aos dados dos ninjas.\n",
    "\n",
    "---\n",
    "- Inputs\n",
    "\n",
    "> __Dados completos da Delta em pastas de ficheiros__ (de azul a verde)\n",
    "> - Stocks e trânsito, Sellout do dia anterior\n",
    "\n",
    "                    ou\n",
    "\n",
    "> __Ficheiro já completo__ (de vermelho a verde)\n",
    "> - Stocks e trânsito, Sellout do dia anterior\n",
    "\n",
    "- Outputs\n",
    "\n",
    "> __Ficheiro com produtos em causa__ em formato Long\n",
    "\n",
    "> __Métricas novas:__\n",
    "> - Roturas de Stock e Pré-rotura\n",
    "> - Sinal\n",
    "> - Ciclos e Adequação de Stock\n",
    "> - MSA (média de sellouts 10 dias antes)\n",
    "> - STK (Stock disponível + trânsito)\n",
    "> - (Novo) Balanço médio, mediano, liberal e conservador \n",
    "> - (Novo) Dias para a rotura de stock e de prateleira\n"
   ]
  },
  {
   "cell_type": "code",
   "execution_count": 1,
   "metadata": {
    "scrolled": true
   },
   "outputs": [
    {
     "name": "stdout",
     "output_type": "stream",
     "text": [
      "CPU times: total: 31.2 ms\n",
      "Wall time: 231 ms\n"
     ]
    }
   ],
   "source": [
    "%%time\n",
    "import pandas as pd\n",
    "import os\n",
    "import glob\n",
    "import numpy as np\n",
    "import datetime\n",
    "from IPython.display import Audio\n",
    "\n",
    "def escrever_csv(dfa, nome):\n",
    "    dfa.to_csv(f'C:\\\\Users\\\\Chip7\\\\Desktop\\\\B&N\\\\Dados\\\\2.Delta\\\\Sonae\\\\Stocks\\\\{nome}.csv', index=False)"
   ]
  },
  {
   "cell_type": "markdown",
   "metadata": {},
   "source": [
    "---"
   ]
  },
  {
   "cell_type": "markdown",
   "metadata": {},
   "source": [
    "# <font color=blue><u>Ler os ficheiros na pasta</u><font>"
   ]
  },
  {
   "cell_type": "markdown",
   "metadata": {},
   "source": [
    "- Demora 30 min"
   ]
  },
  {
   "cell_type": "code",
   "execution_count": 3,
   "metadata": {
    "collapsed": true
   },
   "outputs": [
    {
     "name": "stdout",
     "output_type": "stream",
     "text": [
      "1\n",
      "2\n",
      "3\n",
      "4\n",
      "5\n",
      "6\n",
      "7\n",
      "8\n",
      "9\n",
      "10\n",
      "11\n",
      "12\n",
      "13\n",
      "14\n",
      "15\n",
      "16\n",
      "17\n",
      "18\n",
      "19\n",
      "20\n",
      "21\n",
      "22\n",
      "23\n",
      "24\n",
      "25\n",
      "26\n",
      "27\n",
      "28\n",
      "29\n",
      "30\n",
      "31\n",
      "32\n",
      "33\n",
      "34\n",
      "35\n",
      "36\n",
      "37\n",
      "38\n",
      "39\n",
      "40\n",
      "41\n",
      "42\n",
      "43\n",
      "44\n",
      "45\n",
      "46\n",
      "47\n",
      "48\n",
      "49\n",
      "50\n",
      "51\n",
      "52\n",
      "53\n",
      "54\n",
      "55\n",
      "56\n",
      "57\n",
      "58\n",
      "59\n",
      "60\n",
      "61\n",
      "62\n",
      "63\n",
      "64\n",
      "65\n",
      "66\n",
      "67\n",
      "68\n",
      "69\n",
      "70\n",
      "71\n",
      "72\n",
      "73\n",
      "74\n",
      "75\n",
      "76\n",
      "77\n",
      "78\n",
      "79\n",
      "80\n",
      "81\n",
      "82\n",
      "83\n",
      "84\n",
      "85\n",
      "86\n",
      "87\n",
      "88\n",
      "89\n",
      "90\n",
      "91\n",
      "92\n",
      "93\n",
      "94\n",
      "95\n",
      "96\n",
      "97\n",
      "98\n",
      "99\n",
      "100\n",
      "101\n",
      "102\n",
      "103\n",
      "104\n",
      "105\n",
      "106\n",
      "107\n",
      "108\n",
      "109\n",
      "110\n",
      "111\n",
      "112\n",
      "113\n",
      "114\n",
      "115\n",
      "116\n",
      "117\n",
      "118\n",
      "119\n",
      "120\n",
      "121\n",
      "122\n",
      "123\n",
      "124\n",
      "125\n",
      "126\n",
      "127\n",
      "128\n",
      "129\n",
      "130\n",
      "131\n",
      "132\n",
      "133\n",
      "134\n",
      "135\n",
      "136\n",
      "137\n",
      "138\n",
      "139\n",
      "140\n",
      "141\n",
      "142\n",
      "143\n",
      "144\n",
      "145\n",
      "146\n",
      "147\n",
      "148\n",
      "149\n",
      "150\n",
      "151\n",
      "152\n",
      "153\n",
      "154\n",
      "155\n",
      "156\n",
      "157\n",
      "158\n",
      "159\n",
      "160\n",
      "161\n",
      "162\n",
      "163\n",
      "164\n",
      "165\n",
      "166\n",
      "167\n",
      "168\n",
      "169\n",
      "170\n",
      "171\n",
      "172\n",
      "173\n",
      "174\n",
      "175\n",
      "176\n",
      "177\n",
      "178\n",
      "179\n",
      "180\n",
      "181\n",
      "182\n",
      "183\n",
      "184\n",
      "185\n",
      "186\n",
      "187\n",
      "188\n",
      "189\n",
      "190\n",
      "191\n",
      "192\n",
      "193\n",
      "194\n",
      "195\n",
      "196\n",
      "197\n",
      "198\n",
      "199\n",
      "200\n",
      "201\n",
      "202\n",
      "203\n",
      "204\n",
      "205\n",
      "206\n",
      "207\n",
      "208\n",
      "209\n",
      "210\n",
      "211\n",
      "212\n",
      "213\n",
      "214\n",
      "215\n",
      "216\n",
      "217\n",
      "218\n",
      "219\n",
      "220\n",
      "221\n",
      "222\n",
      "223\n",
      "224\n",
      "225\n",
      "226\n",
      "227\n",
      "228\n",
      "229\n",
      "230\n",
      "231\n",
      "232\n",
      "233\n",
      "234\n",
      "235\n",
      "236\n",
      "237\n",
      "238\n",
      "239\n",
      "240\n",
      "241\n",
      "242\n",
      "243\n",
      "244\n",
      "245\n",
      "246\n",
      "247\n",
      "248\n",
      "249\n",
      "250\n",
      "251\n",
      "252\n",
      "253\n",
      "254\n",
      "255\n",
      "256\n",
      "257\n",
      "258\n",
      "259\n",
      "260\n",
      "261\n",
      "262\n",
      "263\n",
      "264\n",
      "CPU times: total: 7min 1s\n",
      "Wall time: 12min 7s\n"
     ]
    },
    {
     "data": {
      "text/html": [
       "\n",
       "                <audio  controls=\"controls\" autoplay=\"autoplay\">\n",
       "                    <source src=\"data:audio/wav;base64,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\" type=\"audio/wav\" />\n",
       "                    Your browser does not support the audio element.\n",
       "                </audio>\n",
       "              "
      ],
      "text/plain": [
       "<IPython.lib.display.Audio object>"
      ]
     },
     "execution_count": 3,
     "metadata": {},
     "output_type": "execute_result"
    }
   ],
   "source": [
    "%%time\n",
    "\n",
    "a=0\n",
    "# Definir a directória dos ficheiros\n",
    "\n",
    "directoria = 'C:\\\\Users\\\\Chip7\\\\Desktop\\\\B&N\\\\Dados\\\\2.Delta\\\\Sonae\\\\Stocks\\\\Stocks2022\\\\DadosJanOut\\\\' \n",
    "\n",
    "\n",
    "# Definir listas vazias para meter os diferentes dataframes\n",
    "ficheiros = [file for file in os.listdir(directoria)]\n",
    "dataframes = []\n",
    "\n",
    "\n",
    "\n",
    "# Iterar para todos os ficheiros excel\n",
    "\n",
    "#xlsx\n",
    "for file in ficheiros:\n",
    "    a+=1\n",
    "    print (a)\n",
    "    \n",
    "    # Read the data from the Excel file into a DataFrame\n",
    "    df = pd.read_excel(directoria + file)\n",
    "\n",
    "    # Add the DataFrame to the list\n",
    "    dataframes.append(df)\n",
    "\n",
    "        \n",
    "# Concatenate todos os dfs num único DataFrame\n",
    "original1 = pd.concat(dataframes, ignore_index=True)\n",
    "original1['DATA']=pd.to_datetime(original1['DATA'], format='%Y-%m-%d')\n",
    "#original1['DATA'] = pd.to_datetime(original1['DATA'], unit='D', origin=datetime.datetime(1899, 12, 30))\n",
    "\n",
    "\n",
    "freq = 440  # Hz\n",
    "duration = 1  # seconds\n",
    "samples = int(duration * 44100)  # 44100 samples per second\n",
    "t = np.linspace(0, duration, samples, False)\n",
    "note = np.sin(freq * t * 2 * np.pi)\n",
    "Audio(note, rate=44100, autoplay=True)"
   ]
  },
  {
   "cell_type": "code",
   "execution_count": 4,
   "metadata": {
    "collapsed": true
   },
   "outputs": [
    {
     "name": "stdout",
     "output_type": "stream",
     "text": [
      "1\n",
      "2\n",
      "3\n",
      "4\n",
      "5\n",
      "6\n",
      "7\n",
      "8\n",
      "9\n",
      "10\n",
      "11\n",
      "12\n",
      "13\n",
      "14\n",
      "15\n",
      "16\n",
      "17\n",
      "18\n",
      "19\n",
      "20\n",
      "21\n",
      "22\n",
      "23\n",
      "24\n",
      "25\n",
      "26\n",
      "27\n",
      "28\n",
      "29\n",
      "30\n",
      "31\n",
      "32\n",
      "33\n",
      "34\n",
      "35\n",
      "36\n",
      "37\n",
      "38\n",
      "39\n",
      "40\n",
      "41\n",
      "42\n",
      "43\n",
      "44\n",
      "45\n",
      "46\n",
      "47\n",
      "48\n",
      "49\n",
      "50\n",
      "51\n",
      "52\n",
      "53\n",
      "54\n",
      "55\n",
      "56\n",
      "57\n",
      "58\n",
      "59\n",
      "60\n",
      "61\n",
      "62\n",
      "63\n",
      "64\n",
      "65\n",
      "66\n",
      "67\n",
      "68\n",
      "69\n",
      "70\n",
      "71\n",
      "72\n",
      "73\n",
      "74\n",
      "75\n",
      "76\n",
      "77\n",
      "78\n",
      "79\n",
      "80\n",
      "81\n",
      "82\n",
      "83\n",
      "84\n",
      "85\n",
      "86\n",
      "87\n",
      "CPU times: total: 1min 31s\n",
      "Wall time: 2min 58s\n"
     ]
    },
    {
     "data": {
      "text/html": [
       "\n",
       "                <audio  controls=\"controls\" autoplay=\"autoplay\">\n",
       "                    <source src=\"data:audio/wav;base64,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\" type=\"audio/wav\" />\n",
       "                    Your browser does not support the audio element.\n",
       "                </audio>\n",
       "              "
      ],
      "text/plain": [
       "<IPython.lib.display.Audio object>"
      ]
     },
     "execution_count": 4,
     "metadata": {},
     "output_type": "execute_result"
    }
   ],
   "source": [
    "%%time\n",
    "\n",
    "#8 min\n",
    "\n",
    "\n",
    "\n",
    "directory2 = 'C:\\\\Users\\\\Chip7\\\\Desktop\\\\B&N\\\\Dados\\\\2.Delta\\\\Sonae\\\\Stocks\\\\Stocks2022\\\\DadosOutDez\\\\' #xlsb\n",
    "a=0\n",
    "#xlsb\n",
    "dataframes2 = []\n",
    "for filename in os.listdir(directory2):\n",
    "    if filename.endswith(\".xlsb\") and filename.startswith(\"Info_DELTA_\"):\n",
    "        a+=1\n",
    "        print (a)\n",
    "        # Read the data from the Excel file into a DataFrame\n",
    "        filepath = os.path.join(directory2, filename)\n",
    "        df = pd.read_excel(filepath, engine='pyxlsb')\n",
    "        \n",
    "        # Add the DataFrame to the list\n",
    "        dataframes2.append(df)   \n",
    "\n",
    "original2 = pd.concat(dataframes2, ignore_index=True)\n",
    "original2['DATA'] = pd.to_datetime(original2['DATA'], unit='D', origin=datetime.datetime(1899, 12, 30))\n",
    "\n",
    "freq = 440  # Hz\n",
    "duration = 1  # seconds\n",
    "samples = int(duration * 44100)  # 44100 samples per second\n",
    "t = np.linspace(0, duration, samples, False)\n",
    "note = np.sin(freq * t * 2 * np.pi)\n",
    "Audio(note, rate=44100, autoplay=True)"
   ]
  },
  {
   "cell_type": "code",
   "execution_count": 16,
   "metadata": {},
   "outputs": [],
   "source": [
    "filepath = \"C:\\\\Users\\\\Chip7\\\\Desktop\\\\B&N\\\\Dados\\\\2.Delta\\\\Sonae\\\\Stocks\\\\Stocks2023\\\\DadosJanMaio\\\\Info_DELTA_20230101.xlsb\"\n",
    "original3 = pd.read_excel(filepath, engine='pyxlsb')\n",
    "original3['DATA'] = pd.to_datetime(original3['DATA'], unit='D', origin=datetime.datetime(1899, 12, 30))\n"
   ]
  },
  {
   "cell_type": "code",
   "execution_count": 18,
   "metadata": {},
   "outputs": [],
   "source": [
    "#original1['DATA']=pd.to_datetime(original1['DATA'], format='%d-%m-%Y')\n",
    "original = pd.concat([original1, original2, original3], ignore_index=True)"
   ]
  },
  {
   "cell_type": "code",
   "execution_count": 19,
   "metadata": {
    "collapsed": true
   },
   "outputs": [
    {
     "name": "stdout",
     "output_type": "stream",
     "text": [
      "<class 'pandas.core.frame.DataFrame'>\n",
      "RangeIndex: 9390073 entries, 0 to 9390072\n",
      "Data columns (total 23 columns):\n",
      " #   Column                Dtype         \n",
      "---  ------                -----         \n",
      " 0   DATA                  datetime64[ns]\n",
      " 1   FORN/AGENTE/ENT       int64         \n",
      " 2   DESC_FORN/AGENTE/ENT  object        \n",
      " 3   FORN                  int64         \n",
      " 4   DESC_FORN             object        \n",
      " 5   CAT                   int64         \n",
      " 6   ARTIGO                int64         \n",
      " 7   DESC_ARTIGO           object        \n",
      " 8   STATUS_ARTIGO         object        \n",
      " 9   PACK                  float64       \n",
      " 10  DESC_PACK             object        \n",
      " 11  STATUS_PACK           object        \n",
      " 12  STORE                 int64         \n",
      " 13  STORE_NAME            object        \n",
      " 14  FLUXO                 object        \n",
      " 15  SPK                   int64         \n",
      " 16  SOH                   int64         \n",
      " 17  INTRANSIT             int64         \n",
      " 18  EXPECTED              int64         \n",
      " 19  Enc PBL + DIRECTO     int64         \n",
      " 20  PRES_STOCK            int64         \n",
      " 21  VND (D-1)             int64         \n",
      " 22  EAN                   int64         \n",
      "dtypes: datetime64[ns](1), float64(1), int64(13), object(8)\n",
      "memory usage: 1.6+ GB\n"
     ]
    }
   ],
   "source": [
    "original['DATA']=pd.to_datetime(original['DATA'], format='%Y-%m-%d')\n",
    "original.info()"
   ]
  },
  {
   "cell_type": "raw",
   "metadata": {},
   "source": [
    "escrever_csv(original, \"Stocks_2023_Bruto\")"
   ]
  },
  {
   "cell_type": "markdown",
   "metadata": {},
   "source": [
    "# Limitar e Corrigir o ano"
   ]
  },
  {
   "cell_type": "code",
   "execution_count": 20,
   "metadata": {},
   "outputs": [
    {
     "name": "stdout",
     "output_type": "stream",
     "text": [
      "CPU times: total: 609 ms\n",
      "Wall time: 1.01 s\n"
     ]
    }
   ],
   "source": [
    "%%time\n",
    "dfTotal = original.loc[:, ['DATA', 'EAN', 'DESC_ARTIGO', 'STORE', \"STORE_NAME\", \n",
    "                         \"SOH\", \"INTRANSIT\", \"EXPECTED\", \"PRES_STOCK\", \"VND (D-1)\", \"FLUXO\"]].copy()\n",
    "\n",
    "dfTotal = dfTotal.rename(columns = {\"VND (D-1)\": \"SELLOUT_1_Dias_Antes\", \n",
    "                                    \"SOH\":\"STOCK_1_Dias_Antes\",\n",
    "                                    \"INTRANSIT\": \"INTRANSIT_1_Dias_Antes\", \n",
    "                                    \"EXPECTED\": \"EXPECTED_1_Dias_Antes\", \n",
    "                                    \"PRES_STOCK\": \"PRES_STOCK_1_Dias_Antes\"})"
   ]
  },
  {
   "cell_type": "code",
   "execution_count": 32,
   "metadata": {},
   "outputs": [
    {
     "name": "stdout",
     "output_type": "stream",
     "text": [
      "CPU times: total: 250 ms\n",
      "Wall time: 325 ms\n"
     ]
    }
   ],
   "source": [
    "%%time\n",
    "\n",
    "dfTotal.loc[dfTotal['DATA'].dt.year == 2021, 'DATA'] = dfTotal.loc[dfTotal['DATA'].dt.year == 2021, 'DATA'] + pd.offsets.DateOffset(years=1)"
   ]
  },
  {
   "cell_type": "markdown",
   "metadata": {},
   "source": [
    "# Organizar dados\n",
    "> Testar a qualidade da leitura"
   ]
  },
  {
   "cell_type": "code",
   "execution_count": null,
   "metadata": {},
   "outputs": [],
   "source": [
    "dfTotal = dfTotal.sort_values(by = [\"DATA\", \"STORE\", \"DESC_ARTIGO\"])\n",
    "#dfTotal[dfTotal.DESC_ARTIGO!=\"100% SALICÓRNIA MOIDA 45G\"][[\"DATA\",\"DESC_ARTIGO\",\"STORE\"]].head(50)#.iloc[150:200]           #combined_df.loc(combined_df['DESC_ARTIGO'] == \"100% SALICÓRNIA MOIDA 45G\").head(20)"
   ]
  },
  {
   "cell_type": "markdown",
   "metadata": {},
   "source": [
    "> Colunas para sellouts e stocks do dia"
   ]
  },
  {
   "cell_type": "code",
   "execution_count": 34,
   "metadata": {},
   "outputs": [],
   "source": [
    "dfTotal[\"SELLOUT_1_Dias_Antes\"] = np.where(dfTotal[\"SELLOUT_1_Dias_Antes\"]<0, 0, dfTotal[\"SELLOUT_1_Dias_Antes\"])\n",
    "\n",
    "dfTotal['SELLOUT'] = dfTotal.groupby([\"STORE\",\"EAN\"])['SELLOUT_1_Dias_Antes'].shift(-1)\n",
    "dfTotal['STOCK'] = dfTotal.groupby([\"STORE\",\"EAN\"])['STOCK_1_Dias_Antes'].shift(-1)\n",
    "dfTotal['INTRANSIT'] = dfTotal.groupby([\"STORE\",\"EAN\"])['INTRANSIT_1_Dias_Antes'].shift(-1)\n",
    "dfTotal['EXPECTED'] = dfTotal.groupby([\"STORE\",\"EAN\"])['EXPECTED_1_Dias_Antes'].shift(-1)\n",
    "dfTotal['PRES_STOCK'] = dfTotal.groupby([\"STORE\",\"EAN\"])['PRES_STOCK_1_Dias_Antes'].shift(-1)"
   ]
  },
  {
   "cell_type": "markdown",
   "metadata": {},
   "source": [
    "> Ordenar as colunas"
   ]
  },
  {
   "cell_type": "code",
   "execution_count": 35,
   "metadata": {},
   "outputs": [
    {
     "data": {
      "text/plain": [
       "['0: DATA',\n",
       " '1: EAN',\n",
       " '2: DESC_ARTIGO',\n",
       " '3: STORE',\n",
       " '4: STORE_NAME',\n",
       " '5: STOCK_1_Dias_Antes',\n",
       " '6: INTRANSIT_1_Dias_Antes',\n",
       " '7: EXPECTED_1_Dias_Antes',\n",
       " '8: PRES_STOCK_1_Dias_Antes',\n",
       " '9: SELLOUT_1_Dias_Antes',\n",
       " '10: FLUXO',\n",
       " '11: SELLOUT',\n",
       " '12: STOCK',\n",
       " '13: INTRANSIT',\n",
       " '14: EXPECTED',\n",
       " '15: PRES_STOCK']"
      ]
     },
     "execution_count": 35,
     "metadata": {},
     "output_type": "execute_result"
    }
   ],
   "source": [
    "df_columns = dfTotal.columns.tolist()\n",
    "[f\"{index}: {column}\" for index, column in enumerate(df_columns)]"
   ]
  },
  {
   "cell_type": "code",
   "execution_count": 36,
   "metadata": {},
   "outputs": [],
   "source": [
    "dfTotalOrg = dfTotal.iloc[:, np.r_[:5, 12, 5, 11,9, 13, 6, 14,7, 15,8, 10]]"
   ]
  },
  {
   "cell_type": "code",
   "execution_count": 37,
   "metadata": {},
   "outputs": [
    {
     "data": {
      "text/plain": [
       "['0: DATA',\n",
       " '1: EAN',\n",
       " '2: DESC_ARTIGO',\n",
       " '3: STORE',\n",
       " '4: STORE_NAME',\n",
       " '5: STOCK',\n",
       " '6: STOCK_1_Dias_Antes',\n",
       " '7: SELLOUT',\n",
       " '8: SELLOUT_1_Dias_Antes',\n",
       " '9: INTRANSIT',\n",
       " '10: INTRANSIT_1_Dias_Antes',\n",
       " '11: EXPECTED',\n",
       " '12: EXPECTED_1_Dias_Antes',\n",
       " '13: PRES_STOCK',\n",
       " '14: PRES_STOCK_1_Dias_Antes',\n",
       " '15: FLUXO']"
      ]
     },
     "execution_count": 37,
     "metadata": {},
     "output_type": "execute_result"
    }
   ],
   "source": [
    "[f\"{index}: {column}\" for index, column in enumerate(dfTotalOrg.columns)]"
   ]
  },
  {
   "cell_type": "markdown",
   "metadata": {},
   "source": [
    "# Escrever"
   ]
  },
  {
   "cell_type": "raw",
   "metadata": {},
   "source": [
    "%%time\n",
    "\n",
    "escrever_csv(dfTotalOrg, \"Stocks_Delta_2022_Limpo\")"
   ]
  },
  {
   "cell_type": "markdown",
   "metadata": {},
   "source": [
    "# <font color=green>Ficheiros Lidos<font>"
   ]
  },
  {
   "cell_type": "markdown",
   "metadata": {},
   "source": [
    "---"
   ]
  },
  {
   "cell_type": "markdown",
   "metadata": {},
   "source": [
    "# Colunas de métricas interessantes"
   ]
  },
  {
   "cell_type": "markdown",
   "metadata": {},
   "source": [
    "> - ROTURA"
   ]
  },
  {
   "cell_type": "code",
   "execution_count": 27,
   "metadata": {},
   "outputs": [],
   "source": [
    "# Definir coluna de rotura (se stock menor ou igual a 0 e existe Linear)\n",
    "\n",
    "dfFinal[\"ROTURA\"] = np.where((dfFinal[\"STOCK\"] <= 0) & (dfFinal[\"PRES_STOCK\"] > 0), 1, 0)"
   ]
  },
  {
   "cell_type": "markdown",
   "metadata": {},
   "source": [
    "> - PRÉ_ROTURA"
   ]
  },
  {
   "cell_type": "code",
   "execution_count": 28,
   "metadata": {},
   "outputs": [],
   "source": [
    "# Definir coluna de rotura (se stock menor ou igual a 0)\n",
    "\n",
    "dfFinal[\"PRE_ROTURA\"] = (dfFinal[\"STOCK\"] < dfFinal[\"PRES_STOCK\"]).astype(int)"
   ]
  },
  {
   "cell_type": "markdown",
   "metadata": {},
   "source": [
    "# Métricas até 10 dias antes:\n",
    "\n",
    "- INSTRANSIT\n",
    "- EXPECTED\n",
    "- SELLOUT\n",
    "- CICLOS\n",
    "- Dias para Rotura\n",
    "- Adequação"
   ]
  },
  {
   "cell_type": "code",
   "execution_count": 29,
   "metadata": {},
   "outputs": [],
   "source": [
    "# Quantos dias antes:\n",
    "\n",
    "diaI=1         #dia inicial\n",
    "diaF=10        #dia final"
   ]
  },
  {
   "cell_type": "markdown",
   "metadata": {},
   "source": [
    "> Função"
   ]
  },
  {
   "cell_type": "code",
   "execution_count": 30,
   "metadata": {},
   "outputs": [],
   "source": [
    "# Função para colunas de dias anteriores\n",
    "def dias(df, dia, coluna):         #dia é quantos dias antes\n",
    "    \n",
    "    #\n",
    "    a=int(dia)\n",
    "\n",
    "    valores = df.groupby(['DESC_ARTIGO', 'STORE'])[coluna].transform(lambda x: x.shift(a))\n",
    "    valores[:a] = np.nan\n",
    "    \n",
    "    df.loc[:,'%s_%s_Dias_Antes' % (coluna, a)] = valores"
   ]
  },
  {
   "cell_type": "markdown",
   "metadata": {},
   "source": [
    "> - SELLOUTS"
   ]
  },
  {
   "cell_type": "code",
   "execution_count": 31,
   "metadata": {},
   "outputs": [
    {
     "name": "stdout",
     "output_type": "stream",
     "text": [
      "CPU times: total: 6.39 s\n",
      "Wall time: 6.84 s\n"
     ]
    }
   ],
   "source": [
    "%%time\n",
    "# Usar função para sellouts até 10 dias antes\n",
    "\n",
    "for i in range(diaI+1, diaF+1):\n",
    "    dias(dfFinal, i, \"SELLOUT\")"
   ]
  },
  {
   "cell_type": "markdown",
   "metadata": {},
   "source": [
    "> - STOCKS"
   ]
  },
  {
   "cell_type": "code",
   "execution_count": 32,
   "metadata": {},
   "outputs": [],
   "source": [
    "# Usar função para Stocks até 10 dias antes\n",
    "\n",
    "for i in range(diaI+1, diaF+1):\n",
    "    dias(dfFinal, i, \"STOCK\")"
   ]
  },
  {
   "cell_type": "markdown",
   "metadata": {},
   "source": [
    "> - INTRANSIT e EXPECTED"
   ]
  },
  {
   "cell_type": "code",
   "execution_count": 33,
   "metadata": {},
   "outputs": [],
   "source": [
    "# Usar função para Trânsito até 10 dias antes\n",
    "\n",
    "for i in range(diaI, diaF+1):\n",
    "    dias(dfFinal, i, \"INTRANSIT\")\n",
    "    \n",
    "for i in range(diaI, diaF+1):\n",
    "    dias(dfFinal, i, \"EXPECTED\")"
   ]
  },
  {
   "cell_type": "markdown",
   "metadata": {},
   "source": [
    "> - STK"
   ]
  },
  {
   "cell_type": "code",
   "execution_count": 34,
   "metadata": {},
   "outputs": [],
   "source": [
    "# STK do dia = soma dos stocks em loja com os stocks em trânsito no próprio dia\n",
    "\n",
    "dfFinal[\"STK\"] = dfFinal[\"STOCK\"] + dfFinal[\"INTRANSIT\"] + dfFinal[\"EXPECTED\"]\n",
    "\n",
    "for i in range(diaI, diaF+1):\n",
    "    dias(dfFinal, i, \"STK\")"
   ]
  },
  {
   "cell_type": "markdown",
   "metadata": {},
   "source": [
    "> - MSA"
   ]
  },
  {
   "cell_type": "code",
   "execution_count": 35,
   "metadata": {},
   "outputs": [],
   "source": [
    "# MSA do dia = média dos sellouts dos 10 dias anteriores ao dia em causa\n",
    "\n",
    "dfFinal[\"MSA10\"] = dfFinal.groupby(['DESC_ARTIGO', \"STORE\"])['SELLOUT'].shift(1).transform(lambda x: x.rolling(window=10).mean())\n",
    "dfFinal[\"MSA10Dp\"] = dfFinal.groupby(['DESC_ARTIGO', \"STORE\"])['SELLOUT'].shift(1).transform(lambda x: x.rolling(window=10).std())\n",
    "\n",
    "for i in range(diaI, diaF+1):\n",
    "    dias(dfFinal, i, \"MSA10\")\n",
    "\n",
    "    \n",
    "dfFinal[\"MSA20\"] = dfFinal.groupby(['DESC_ARTIGO', \"STORE\"])['SELLOUT'].shift(1).transform(lambda x: x.rolling(window=20).mean())\n",
    "dfFinal[\"MSA20Dp\"] = dfFinal.groupby(['DESC_ARTIGO', \"STORE\"])['SELLOUT'].shift(1).transform(lambda x: x.rolling(window=20).std())\n",
    "  \n",
    "for i in range(diaI, diaF+1):\n",
    "    dias(dfFinal, i, \"MSA20\")"
   ]
  },
  {
   "cell_type": "markdown",
   "metadata": {},
   "source": [
    "> - CICLOS"
   ]
  },
  {
   "cell_type": "code",
   "execution_count": 36,
   "metadata": {},
   "outputs": [],
   "source": [
    "# Coluna de Ciclos de reposição\n",
    "\n",
    "dfFinal[\"CICLOS\"] = dfFinal[\"STOCK\"]/dfFinal[\"PRES_STOCK\"]\n",
    "\n",
    "for i in range(diaI, diaF+1):\n",
    "    dias(dfFinal, i, \"CICLOS\")"
   ]
  },
  {
   "cell_type": "markdown",
   "metadata": {},
   "source": [
    "# Final2\n",
    "> - Dias para rotura de Stock"
   ]
  },
  {
   "cell_type": "code",
   "execution_count": 37,
   "metadata": {},
   "outputs": [],
   "source": [
    "dfFinal2 = dfFinal.copy()\n",
    "# Dias para a rotura mas com o Sellout médio (móvel) dos últimos 10 dias \n",
    "dfFinal2[\"Dias_para_Rotura_Stock\"] = dfFinal2[\"STOCK\"] / dfFinal2[\"MSA10\"]\n",
    "\n",
    "for i in range(diaI, diaF+1):\n",
    "    dias(dfFinal2, i, \"Dias_para_Rotura_Stock\")"
   ]
  },
  {
   "cell_type": "markdown",
   "metadata": {},
   "source": [
    "> - Dias para rotura de Linear"
   ]
  },
  {
   "cell_type": "code",
   "execution_count": 38,
   "metadata": {},
   "outputs": [],
   "source": [
    "# Definir a métrica: Preslinear / med(Sellouts 10 dias)\n",
    "dfFinal2['Dias_Duração_Linear'] = dfFinal2[\"PRES_STOCK\"] / dfFinal2[\"MSA10\"]\n",
    "\n",
    "for i in range(diaI, diaF+1):\n",
    "    dias(dfFinal2, i, \"Dias_Duração_Linear\")"
   ]
  },
  {
   "cell_type": "markdown",
   "metadata": {},
   "source": [
    "> - Adequação de Stock"
   ]
  },
  {
   "cell_type": "code",
   "execution_count": 39,
   "metadata": {},
   "outputs": [],
   "source": [
    "# Coluna de adequação de stock\n",
    "\n",
    "\n",
    "dfFinal2[\"Adequação\"]= np.where(dfFinal2[\"CICLOS\"] > 1.1, \"Stock Suficiente\", \n",
    "                      np.where((dfFinal2[\"CICLOS\"] <= 1.1) & (dfFinal2[\"INTRANSIT\"]+dfFinal2[\"EXPECTED\"]+dfFinal2[\"STOCK\"]>=dfFinal2[\"PRES_STOCK\"]), \"Stock Insuf c Forn Adequado\", \n",
    "                      np.where((dfFinal2[\"CICLOS\"] <= 1.1) & (dfFinal2[\"INTRANSIT\"]+dfFinal2[\"EXPECTED\"]+dfFinal2[\"STOCK\"]<dfFinal2[\"PRES_STOCK\"]), \"Stock Insuf c Forn Desadequado\", \n",
    "                      \"\")))\n",
    "\n",
    "for i in range(diaI, diaF+1):\n",
    "    dias(dfFinal2, i, \"Adequação\")"
   ]
  },
  {
   "cell_type": "markdown",
   "metadata": {},
   "source": [
    ">- Balance: sellout / soma stock disponível mais transito."
   ]
  },
  {
   "cell_type": "code",
   "execution_count": 40,
   "metadata": {},
   "outputs": [],
   "source": [
    "# Colunas de balanço\n",
    "\n",
    "\n",
    "# Balance do dia = razão entre o sellout médio e o stock para o dia actual\n",
    "dfFinal2[\"Balance\"] =  dfFinal2[\"MSA10\"] / dfFinal2[\"STK\"]\n",
    "\n",
    "for i in range(diaI, diaF+1):\n",
    "    \n",
    "    \n",
    "    valores = (i+1) * dfFinal2[\"Balance\"].shift(i)\n",
    "    valores[:i] = np.nan\n",
    "    \n",
    "    dfFinal2.loc[:,'%s_%s_Dias_Antes' % (\"Balance\", i)] = valores\n",
    "    \n",
    "    \n"
   ]
  },
  {
   "cell_type": "code",
   "execution_count": 42,
   "metadata": {},
   "outputs": [
    {
     "name": "stdout",
     "output_type": "stream",
     "text": [
      "1\n",
      "1\n",
      "2\n",
      "3\n",
      "5\n",
      "8\n",
      "13\n",
      "21\n",
      "34\n",
      "55\n",
      "89\n",
      "144\n",
      "233\n",
      "377\n",
      "610\n",
      "987\n",
      "1597\n",
      "2584\n",
      "4181\n",
      "6765\n",
      "10946\n"
     ]
    }
   ],
   "source": [
    "a=0\n",
    "b=1\n",
    "\n",
    "for i in range (21):\n",
    "    if i == 0:\n",
    "        a=1\n",
    "        print(a)\n",
    "    else:\n",
    "        print(b)\n",
    "        c = a + b\n",
    "        a = b\n",
    "        b = c\n"
   ]
  },
  {
   "cell_type": "markdown",
   "metadata": {},
   "source": [
    ">- Balance optimizado"
   ]
  },
  {
   "cell_type": "code",
   "execution_count": 41,
   "metadata": {},
   "outputs": [],
   "source": [
    "\n",
    "\n",
    "    \n",
    "dfFinal2[\"Balance_Optimized\"] = np.where((dfFinal2[\"MSA10Dp\"] / dfFinal2[\"MSA10\"]) * 100 > 100, dfFinal2[\"MSA20\"] / dfFinal2[\"STK\"],\n",
    "                                dfFinal2[\"MSA10\"] / dfFinal2[\"STK\"])   \n",
    "\n",
    "for i in range(diaI, diaF+1):\n",
    "    \n",
    "    \n",
    "    valores = (i+1) * dfFinal2[\"Balance_Optimized\"].shift(i)\n",
    "    valores[:i] = np.nan\n",
    "    \n",
    "    dfFinal2.loc[:,'%s_%s_Dias_Antes' % (\"Balance_Optimized\", i)] = valores"
   ]
  },
  {
   "cell_type": "markdown",
   "metadata": {},
   "source": [
    "> - Mediano é com o mínimo dos ultimos 10 dias"
   ]
  },
  {
   "cell_type": "code",
   "execution_count": 42,
   "metadata": {},
   "outputs": [],
   "source": [
    "# Coluna de adequação de stock\n",
    "\n",
    "\n",
    "# MSA_med do dia = mediana dos sellouts dos 10 dias anteriores (exclui o próprio dia)\n",
    "# dfFinal2[\"MdSA\"] = dfFinal2.groupby(['DESC_ARTIGO', \"STORE\"])['SELLOUT'].shift(1).transform(lambda x: x.rolling(window=10).median())\n",
    "\n",
    "\n",
    "# Balance do dia = razão entre o sellout médio e o stock para o dia actual\n",
    "dfFinal2[\"Balance_Mediano\"] =  dfFinal2.groupby(['DESC_ARTIGO', \"STORE\"])['SELLOUT'].shift(1).transform(lambda x: x.rolling(window=10).median()) / dfFinal2[\"STK\"]\n",
    "\n",
    "for i in range(diaI, diaF+1):\n",
    "    \n",
    "    \n",
    "    valores = (i+1) * dfFinal2[\"Balance_Mediano\"].shift(i)\n",
    "    valores[:i] = np.nan\n",
    "    \n",
    "    dfFinal2.loc[:,'%s_%s_Dias_Antes' % (\"Balance_Mediano\", i)] = valores\n",
    "\n"
   ]
  },
  {
   "cell_type": "markdown",
   "metadata": {},
   "source": [
    "> - Liberal é com o mínimo dos ultimos 10 dias"
   ]
  },
  {
   "cell_type": "code",
   "execution_count": 43,
   "metadata": {},
   "outputs": [],
   "source": [
    "# Liberal\n",
    "\n",
    "\n",
    "# MSA do dia = média dos stocks dos 10 dias anteriores (exclui o próprio dia)\n",
    "#dfFinal2[\"LSA\"] = dfFinal2.groupby(['DESC_ARTIGO', \"STORE\"])['SELLOUT'].shift(1).transform(lambda x: x.rolling(window=10).min())\n",
    "\n",
    "\n",
    "# Balance do dia = razão entre o sellout médio e o stock para o dia actual\n",
    "dfFinal2[\"Balance_Liberal\"] =  dfFinal2.groupby(['DESC_ARTIGO', \"STORE\"])['SELLOUT'].shift(1).transform(lambda x: x.rolling(window=10).min()) / dfFinal2[\"STK\"]\n",
    "\n",
    "for i in range(diaI, diaF+1):\n",
    "    \n",
    "    \n",
    "    valores = (i+1) * dfFinal2[\"Balance_Liberal\"].shift(i)\n",
    "    valores[:i] = np.nan\n",
    "    \n",
    "    dfFinal2.loc[:,'%s_%s_Dias_Antes' % (\"Balance_Liberal\", i)] = valores\n",
    "\n"
   ]
  },
  {
   "cell_type": "markdown",
   "metadata": {},
   "source": [
    "> - Conservador é com o máximo dos ultimos 10 dias"
   ]
  },
  {
   "cell_type": "code",
   "execution_count": 44,
   "metadata": {},
   "outputs": [],
   "source": [
    "# Conservador\n",
    "\n",
    "# MSA_max do dia = máximo dos stocks dos 10 dias anteriores (exclui o próprio dia)\n",
    "#dfFinal2[\"CSA\"] = dfFinal2.groupby(['DESC_ARTIGO', \"STORE\"])['SELLOUT'].shift(1).transform(lambda x: x.rolling(window=10).max())\n",
    " \n",
    "    \n",
    "# Balance do dia = razão entre o sellout médio e o stock para o dia actual\n",
    "dfFinal2[\"Balance_Conservador\"] =  dfFinal2.groupby(['DESC_ARTIGO', \"STORE\"])['SELLOUT'].shift(1).transform(lambda x: x.rolling(window=10).max()) / dfFinal2[\"STK\"]\n",
    "\n",
    "for i in range(diaI, diaF+1):\n",
    "    \n",
    "    # Multiplicar os balances pelo número de dias+1 antes do dia actual\n",
    "    valores = (i+1) * dfFinal2[\"Balance_Conservador\"].shift(i)\n",
    "    valores[:i] = np.nan\n",
    "    \n",
    "    dfFinal2.loc[:,'%s_%s_Dias_Antes' % (\"Balance_Conservador\", i)] = valores\n",
    "\n"
   ]
  },
  {
   "cell_type": "code",
   "execution_count": 28,
   "metadata": {
    "collapsed": true
   },
   "outputs": [
    {
     "data": {
      "text/html": [
       "<div>\n",
       "<style scoped>\n",
       "    .dataframe tbody tr th:only-of-type {\n",
       "        vertical-align: middle;\n",
       "    }\n",
       "\n",
       "    .dataframe tbody tr th {\n",
       "        vertical-align: top;\n",
       "    }\n",
       "\n",
       "    .dataframe thead th {\n",
       "        text-align: right;\n",
       "    }\n",
       "</style>\n",
       "<table border=\"1\" class=\"dataframe\">\n",
       "  <thead>\n",
       "    <tr style=\"text-align: right;\">\n",
       "      <th></th>\n",
       "      <th>DATA</th>\n",
       "      <th>STORE</th>\n",
       "      <th>DESC_ARTIGO</th>\n",
       "      <th>STOCK</th>\n",
       "      <th>INTRANSIT</th>\n",
       "      <th>EXPECTED</th>\n",
       "      <th>SELLOUT</th>\n",
       "      <th>Balance</th>\n",
       "      <th>Balance_4_Dias_Antes</th>\n",
       "      <th>Balance_Liberal</th>\n",
       "      <th>Balance_Liberal_4_Dias_Antes</th>\n",
       "      <th>Balance_Mediano_4_Dias_Antes</th>\n",
       "      <th>Balance_Conservador_4_Dias_Antes</th>\n",
       "    </tr>\n",
       "  </thead>\n",
       "  <tbody>\n",
       "    <tr>\n",
       "      <th>11988342</th>\n",
       "      <td>2023-04-21</td>\n",
       "      <td>9665</td>\n",
       "      <td>CEVADA SOLÚVEL DELTA FRASCO 200G</td>\n",
       "      <td>38.0</td>\n",
       "      <td>0</td>\n",
       "      <td>0</td>\n",
       "      <td>5.0</td>\n",
       "      <td>0.128947</td>\n",
       "      <td>0.568627</td>\n",
       "      <td>0.026316</td>\n",
       "      <td>0.098039</td>\n",
       "      <td>0.490196</td>\n",
       "      <td>1.078431</td>\n",
       "    </tr>\n",
       "    <tr>\n",
       "      <th>11988343</th>\n",
       "      <td>2023-04-22</td>\n",
       "      <td>9665</td>\n",
       "      <td>CEVADA SOLÚVEL DELTA FRASCO 200G</td>\n",
       "      <td>33.0</td>\n",
       "      <td>0</td>\n",
       "      <td>0</td>\n",
       "      <td>9.0</td>\n",
       "      <td>0.151515</td>\n",
       "      <td>0.540816</td>\n",
       "      <td>0.030303</td>\n",
       "      <td>0.102041</td>\n",
       "      <td>0.459184</td>\n",
       "      <td>1.122449</td>\n",
       "    </tr>\n",
       "    <tr>\n",
       "      <th>11988344</th>\n",
       "      <td>2023-04-23</td>\n",
       "      <td>9665</td>\n",
       "      <td>CEVADA SOLÚVEL DELTA FRASCO 200G</td>\n",
       "      <td>24.0</td>\n",
       "      <td>0</td>\n",
       "      <td>0</td>\n",
       "      <td>5.0</td>\n",
       "      <td>0.233333</td>\n",
       "      <td>0.600000</td>\n",
       "      <td>0.041667</td>\n",
       "      <td>0.111111</td>\n",
       "      <td>0.500000</td>\n",
       "      <td>1.222222</td>\n",
       "    </tr>\n",
       "    <tr>\n",
       "      <th>11988345</th>\n",
       "      <td>2023-04-24</td>\n",
       "      <td>9665</td>\n",
       "      <td>CEVADA SOLÚVEL DELTA FRASCO 200G</td>\n",
       "      <td>19.0</td>\n",
       "      <td>0</td>\n",
       "      <td>6</td>\n",
       "      <td>2.0</td>\n",
       "      <td>0.224000</td>\n",
       "      <td>0.756410</td>\n",
       "      <td>0.040000</td>\n",
       "      <td>0.256410</td>\n",
       "      <td>0.641026</td>\n",
       "      <td>1.410256</td>\n",
       "    </tr>\n",
       "    <tr>\n",
       "      <th>11988346</th>\n",
       "      <td>2023-04-25</td>\n",
       "      <td>9665</td>\n",
       "      <td>CEVADA SOLÚVEL DELTA FRASCO 200G</td>\n",
       "      <td>17.0</td>\n",
       "      <td>6</td>\n",
       "      <td>6</td>\n",
       "      <td>1.0</td>\n",
       "      <td>0.182759</td>\n",
       "      <td>0.644737</td>\n",
       "      <td>0.034483</td>\n",
       "      <td>0.131579</td>\n",
       "      <td>0.592105</td>\n",
       "      <td>1.315789</td>\n",
       "    </tr>\n",
       "    <tr>\n",
       "      <th>11988347</th>\n",
       "      <td>2023-04-26</td>\n",
       "      <td>9665</td>\n",
       "      <td>CEVADA SOLÚVEL DELTA FRASCO 200G</td>\n",
       "      <td>22.0</td>\n",
       "      <td>6</td>\n",
       "      <td>0</td>\n",
       "      <td>0.0</td>\n",
       "      <td>0.157143</td>\n",
       "      <td>0.757576</td>\n",
       "      <td>0.035714</td>\n",
       "      <td>0.151515</td>\n",
       "      <td>0.757576</td>\n",
       "      <td>1.515152</td>\n",
       "    </tr>\n",
       "    <tr>\n",
       "      <th>11988348</th>\n",
       "      <td>2023-04-27</td>\n",
       "      <td>9665</td>\n",
       "      <td>CEVADA SOLÚVEL DELTA FRASCO 200G</td>\n",
       "      <td>22.0</td>\n",
       "      <td>6</td>\n",
       "      <td>6</td>\n",
       "      <td>0.0</td>\n",
       "      <td>0.102941</td>\n",
       "      <td>1.166667</td>\n",
       "      <td>0.000000</td>\n",
       "      <td>0.208333</td>\n",
       "      <td>1.041667</td>\n",
       "      <td>2.083333</td>\n",
       "    </tr>\n",
       "    <tr>\n",
       "      <th>11988349</th>\n",
       "      <td>2023-04-28</td>\n",
       "      <td>9665</td>\n",
       "      <td>CEVADA SOLÚVEL DELTA FRASCO 200G</td>\n",
       "      <td>28.0</td>\n",
       "      <td>6</td>\n",
       "      <td>18</td>\n",
       "      <td>2.0</td>\n",
       "      <td>0.063462</td>\n",
       "      <td>1.120000</td>\n",
       "      <td>0.000000</td>\n",
       "      <td>0.200000</td>\n",
       "      <td>1.000000</td>\n",
       "      <td>2.000000</td>\n",
       "    </tr>\n",
       "    <tr>\n",
       "      <th>11988350</th>\n",
       "      <td>2023-04-29</td>\n",
       "      <td>9665</td>\n",
       "      <td>CEVADA SOLÚVEL DELTA FRASCO 200G</td>\n",
       "      <td>32.0</td>\n",
       "      <td>0</td>\n",
       "      <td>18</td>\n",
       "      <td>5.0</td>\n",
       "      <td>0.062000</td>\n",
       "      <td>0.913793</td>\n",
       "      <td>0.000000</td>\n",
       "      <td>0.172414</td>\n",
       "      <td>0.862069</td>\n",
       "      <td>1.724138</td>\n",
       "    </tr>\n",
       "    <tr>\n",
       "      <th>11988351</th>\n",
       "      <td>2023-04-30</td>\n",
       "      <td>9665</td>\n",
       "      <td>CEVADA SOLÚVEL DELTA FRASCO 200G</td>\n",
       "      <td>27.0</td>\n",
       "      <td>0</td>\n",
       "      <td>24</td>\n",
       "      <td>14.0</td>\n",
       "      <td>0.058824</td>\n",
       "      <td>0.785714</td>\n",
       "      <td>0.000000</td>\n",
       "      <td>0.178571</td>\n",
       "      <td>0.803571</td>\n",
       "      <td>1.607143</td>\n",
       "    </tr>\n",
       "    <tr>\n",
       "      <th>11988352</th>\n",
       "      <td>2023-05-01</td>\n",
       "      <td>9665</td>\n",
       "      <td>CEVADA SOLÚVEL DELTA FRASCO 200G</td>\n",
       "      <td>13.0</td>\n",
       "      <td>0</td>\n",
       "      <td>24</td>\n",
       "      <td>2.0</td>\n",
       "      <td>0.116216</td>\n",
       "      <td>0.514706</td>\n",
       "      <td>0.000000</td>\n",
       "      <td>0.000000</td>\n",
       "      <td>0.441176</td>\n",
       "      <td>1.323529</td>\n",
       "    </tr>\n",
       "    <tr>\n",
       "      <th>11988353</th>\n",
       "      <td>2023-05-02</td>\n",
       "      <td>9665</td>\n",
       "      <td>CEVADA SOLÚVEL DELTA FRASCO 200G</td>\n",
       "      <td>11.0</td>\n",
       "      <td>18</td>\n",
       "      <td>12</td>\n",
       "      <td>6.0</td>\n",
       "      <td>0.097561</td>\n",
       "      <td>0.317308</td>\n",
       "      <td>0.000000</td>\n",
       "      <td>0.000000</td>\n",
       "      <td>0.288462</td>\n",
       "      <td>0.865385</td>\n",
       "    </tr>\n",
       "    <tr>\n",
       "      <th>11988354</th>\n",
       "      <td>2023-05-03</td>\n",
       "      <td>9665</td>\n",
       "      <td>CEVADA SOLÚVEL DELTA FRASCO 200G</td>\n",
       "      <td>29.0</td>\n",
       "      <td>0</td>\n",
       "      <td>18</td>\n",
       "      <td>17.0</td>\n",
       "      <td>0.078723</td>\n",
       "      <td>0.310000</td>\n",
       "      <td>0.000000</td>\n",
       "      <td>0.000000</td>\n",
       "      <td>0.200000</td>\n",
       "      <td>0.900000</td>\n",
       "    </tr>\n",
       "    <tr>\n",
       "      <th>11988355</th>\n",
       "      <td>2023-05-04</td>\n",
       "      <td>9665</td>\n",
       "      <td>CEVADA SOLÚVEL DELTA FRASCO 200G</td>\n",
       "      <td>12.0</td>\n",
       "      <td>0</td>\n",
       "      <td>42</td>\n",
       "      <td>1.0</td>\n",
       "      <td>0.090741</td>\n",
       "      <td>0.294118</td>\n",
       "      <td>0.000000</td>\n",
       "      <td>0.000000</td>\n",
       "      <td>0.196078</td>\n",
       "      <td>0.882353</td>\n",
       "    </tr>\n",
       "    <tr>\n",
       "      <th>11988356</th>\n",
       "      <td>2023-05-05</td>\n",
       "      <td>9665</td>\n",
       "      <td>CEVADA SOLÚVEL DELTA FRASCO 200G</td>\n",
       "      <td>17.0</td>\n",
       "      <td>12</td>\n",
       "      <td>30</td>\n",
       "      <td>6.0</td>\n",
       "      <td>0.081356</td>\n",
       "      <td>0.581081</td>\n",
       "      <td>0.000000</td>\n",
       "      <td>0.000000</td>\n",
       "      <td>0.472973</td>\n",
       "      <td>1.891892</td>\n",
       "    </tr>\n",
       "    <tr>\n",
       "      <th>11988357</th>\n",
       "      <td>2023-05-06</td>\n",
       "      <td>9665</td>\n",
       "      <td>CEVADA SOLÚVEL DELTA FRASCO 200G</td>\n",
       "      <td>23.0</td>\n",
       "      <td>30</td>\n",
       "      <td>0</td>\n",
       "      <td>7.0</td>\n",
       "      <td>0.100000</td>\n",
       "      <td>0.487805</td>\n",
       "      <td>0.000000</td>\n",
       "      <td>0.000000</td>\n",
       "      <td>0.243902</td>\n",
       "      <td>1.707317</td>\n",
       "    </tr>\n",
       "    <tr>\n",
       "      <th>11988358</th>\n",
       "      <td>2023-05-07</td>\n",
       "      <td>9665</td>\n",
       "      <td>CEVADA SOLÚVEL DELTA FRASCO 200G</td>\n",
       "      <td>46.0</td>\n",
       "      <td>0</td>\n",
       "      <td>0</td>\n",
       "      <td>9.0</td>\n",
       "      <td>0.130435</td>\n",
       "      <td>0.393617</td>\n",
       "      <td>0.000000</td>\n",
       "      <td>0.000000</td>\n",
       "      <td>0.212766</td>\n",
       "      <td>1.489362</td>\n",
       "    </tr>\n",
       "    <tr>\n",
       "      <th>11988359</th>\n",
       "      <td>2023-05-08</td>\n",
       "      <td>9665</td>\n",
       "      <td>CEVADA SOLÚVEL DELTA FRASCO 200G</td>\n",
       "      <td>37.0</td>\n",
       "      <td>0</td>\n",
       "      <td>0</td>\n",
       "      <td>8.0</td>\n",
       "      <td>0.186486</td>\n",
       "      <td>0.453704</td>\n",
       "      <td>0.027027</td>\n",
       "      <td>0.000000</td>\n",
       "      <td>0.185185</td>\n",
       "      <td>1.574074</td>\n",
       "    </tr>\n",
       "    <tr>\n",
       "      <th>11988360</th>\n",
       "      <td>2023-05-09</td>\n",
       "      <td>9665</td>\n",
       "      <td>CEVADA SOLÚVEL DELTA FRASCO 200G</td>\n",
       "      <td>29.0</td>\n",
       "      <td>0</td>\n",
       "      <td>18</td>\n",
       "      <td>3.0</td>\n",
       "      <td>0.159574</td>\n",
       "      <td>0.406780</td>\n",
       "      <td>0.021277</td>\n",
       "      <td>0.000000</td>\n",
       "      <td>0.169492</td>\n",
       "      <td>1.440678</td>\n",
       "    </tr>\n",
       "    <tr>\n",
       "      <th>11988361</th>\n",
       "      <td>2023-05-10</td>\n",
       "      <td>9665</td>\n",
       "      <td>CEVADA SOLÚVEL DELTA FRASCO 200G</td>\n",
       "      <td>26.0</td>\n",
       "      <td>18</td>\n",
       "      <td>6</td>\n",
       "      <td>0.0</td>\n",
       "      <td>0.146000</td>\n",
       "      <td>0.500000</td>\n",
       "      <td>0.020000</td>\n",
       "      <td>0.000000</td>\n",
       "      <td>0.330189</td>\n",
       "      <td>1.603774</td>\n",
       "    </tr>\n",
       "  </tbody>\n",
       "</table>\n",
       "</div>"
      ],
      "text/plain": [
       "                DATA  STORE                       DESC_ARTIGO  STOCK  \\\n",
       "11988342  2023-04-21   9665  CEVADA SOLÚVEL DELTA FRASCO 200G   38.0   \n",
       "11988343  2023-04-22   9665  CEVADA SOLÚVEL DELTA FRASCO 200G   33.0   \n",
       "11988344  2023-04-23   9665  CEVADA SOLÚVEL DELTA FRASCO 200G   24.0   \n",
       "11988345  2023-04-24   9665  CEVADA SOLÚVEL DELTA FRASCO 200G   19.0   \n",
       "11988346  2023-04-25   9665  CEVADA SOLÚVEL DELTA FRASCO 200G   17.0   \n",
       "11988347  2023-04-26   9665  CEVADA SOLÚVEL DELTA FRASCO 200G   22.0   \n",
       "11988348  2023-04-27   9665  CEVADA SOLÚVEL DELTA FRASCO 200G   22.0   \n",
       "11988349  2023-04-28   9665  CEVADA SOLÚVEL DELTA FRASCO 200G   28.0   \n",
       "11988350  2023-04-29   9665  CEVADA SOLÚVEL DELTA FRASCO 200G   32.0   \n",
       "11988351  2023-04-30   9665  CEVADA SOLÚVEL DELTA FRASCO 200G   27.0   \n",
       "11988352  2023-05-01   9665  CEVADA SOLÚVEL DELTA FRASCO 200G   13.0   \n",
       "11988353  2023-05-02   9665  CEVADA SOLÚVEL DELTA FRASCO 200G   11.0   \n",
       "11988354  2023-05-03   9665  CEVADA SOLÚVEL DELTA FRASCO 200G   29.0   \n",
       "11988355  2023-05-04   9665  CEVADA SOLÚVEL DELTA FRASCO 200G   12.0   \n",
       "11988356  2023-05-05   9665  CEVADA SOLÚVEL DELTA FRASCO 200G   17.0   \n",
       "11988357  2023-05-06   9665  CEVADA SOLÚVEL DELTA FRASCO 200G   23.0   \n",
       "11988358  2023-05-07   9665  CEVADA SOLÚVEL DELTA FRASCO 200G   46.0   \n",
       "11988359  2023-05-08   9665  CEVADA SOLÚVEL DELTA FRASCO 200G   37.0   \n",
       "11988360  2023-05-09   9665  CEVADA SOLÚVEL DELTA FRASCO 200G   29.0   \n",
       "11988361  2023-05-10   9665  CEVADA SOLÚVEL DELTA FRASCO 200G   26.0   \n",
       "\n",
       "          INTRANSIT  EXPECTED  SELLOUT   Balance  Balance_4_Dias_Antes  \\\n",
       "11988342          0         0      5.0  0.128947              0.568627   \n",
       "11988343          0         0      9.0  0.151515              0.540816   \n",
       "11988344          0         0      5.0  0.233333              0.600000   \n",
       "11988345          0         6      2.0  0.224000              0.756410   \n",
       "11988346          6         6      1.0  0.182759              0.644737   \n",
       "11988347          6         0      0.0  0.157143              0.757576   \n",
       "11988348          6         6      0.0  0.102941              1.166667   \n",
       "11988349          6        18      2.0  0.063462              1.120000   \n",
       "11988350          0        18      5.0  0.062000              0.913793   \n",
       "11988351          0        24     14.0  0.058824              0.785714   \n",
       "11988352          0        24      2.0  0.116216              0.514706   \n",
       "11988353         18        12      6.0  0.097561              0.317308   \n",
       "11988354          0        18     17.0  0.078723              0.310000   \n",
       "11988355          0        42      1.0  0.090741              0.294118   \n",
       "11988356         12        30      6.0  0.081356              0.581081   \n",
       "11988357         30         0      7.0  0.100000              0.487805   \n",
       "11988358          0         0      9.0  0.130435              0.393617   \n",
       "11988359          0         0      8.0  0.186486              0.453704   \n",
       "11988360          0        18      3.0  0.159574              0.406780   \n",
       "11988361         18         6      0.0  0.146000              0.500000   \n",
       "\n",
       "          Balance_Liberal  Balance_Liberal_4_Dias_Antes  \\\n",
       "11988342         0.026316                      0.098039   \n",
       "11988343         0.030303                      0.102041   \n",
       "11988344         0.041667                      0.111111   \n",
       "11988345         0.040000                      0.256410   \n",
       "11988346         0.034483                      0.131579   \n",
       "11988347         0.035714                      0.151515   \n",
       "11988348         0.000000                      0.208333   \n",
       "11988349         0.000000                      0.200000   \n",
       "11988350         0.000000                      0.172414   \n",
       "11988351         0.000000                      0.178571   \n",
       "11988352         0.000000                      0.000000   \n",
       "11988353         0.000000                      0.000000   \n",
       "11988354         0.000000                      0.000000   \n",
       "11988355         0.000000                      0.000000   \n",
       "11988356         0.000000                      0.000000   \n",
       "11988357         0.000000                      0.000000   \n",
       "11988358         0.000000                      0.000000   \n",
       "11988359         0.027027                      0.000000   \n",
       "11988360         0.021277                      0.000000   \n",
       "11988361         0.020000                      0.000000   \n",
       "\n",
       "          Balance_Mediano_4_Dias_Antes  Balance_Conservador_4_Dias_Antes  \n",
       "11988342                      0.490196                          1.078431  \n",
       "11988343                      0.459184                          1.122449  \n",
       "11988344                      0.500000                          1.222222  \n",
       "11988345                      0.641026                          1.410256  \n",
       "11988346                      0.592105                          1.315789  \n",
       "11988347                      0.757576                          1.515152  \n",
       "11988348                      1.041667                          2.083333  \n",
       "11988349                      1.000000                          2.000000  \n",
       "11988350                      0.862069                          1.724138  \n",
       "11988351                      0.803571                          1.607143  \n",
       "11988352                      0.441176                          1.323529  \n",
       "11988353                      0.288462                          0.865385  \n",
       "11988354                      0.200000                          0.900000  \n",
       "11988355                      0.196078                          0.882353  \n",
       "11988356                      0.472973                          1.891892  \n",
       "11988357                      0.243902                          1.707317  \n",
       "11988358                      0.212766                          1.489362  \n",
       "11988359                      0.185185                          1.574074  \n",
       "11988360                      0.169492                          1.440678  \n",
       "11988361                      0.330189                          1.603774  "
      ]
     },
     "execution_count": 28,
     "metadata": {},
     "output_type": "execute_result"
    }
   ],
   "source": [
    "dfFinal2[[\"DATA\",\"STORE\",\"DESC_ARTIGO\",\"STOCK\",\"INTRANSIT\",\"EXPECTED\",\"SELLOUT\",\"Balance\",\"Balance_4_Dias_Antes\",\"Balance_Liberal\",\"Balance_Liberal_4_Dias_Antes\",\"Balance_Mediano_4_Dias_Antes\",\"Balance_Conservador_4_Dias_Antes\"]].tail(20)"
   ]
  },
  {
   "cell_type": "markdown",
   "metadata": {},
   "source": [
    "# Escrever"
   ]
  },
  {
   "cell_type": "markdown",
   "metadata": {},
   "source": [
    "- 0's e 1's"
   ]
  },
  {
   "cell_type": "code",
   "execution_count": 45,
   "metadata": {},
   "outputs": [],
   "source": [
    "# Novo dataframe que apenas inclui dias em que existe a 1ª rotura e o dia anterior a essa rotura\n",
    "\n",
    "# Tirar 1's depois do primeiro\n",
    "dfFinalLimitado = dfFinal2[~((dfFinal2[\"ROTURA\"] == 1) & (dfFinal2[\"ROTURA\"].shift(1) == 1))].copy()\n",
    "\n",
    "# Apenas incluir primeira rotura\n",
    "dfFinalLimitadoRoturas = dfFinal2[((dfFinal2[\"ROTURA\"] == 1) & (dfFinal2[\"ROTURA\"].shift(1) == 0))].copy() #| ((dfFinal[\"ROTURA\"] == 0) & (dfFinal[\"ROTURA\"].shift(-1) == 1))]"
   ]
  },
  {
   "cell_type": "markdown",
   "metadata": {},
   "source": [
    "- Dias certos"
   ]
  },
  {
   "cell_type": "markdown",
   "metadata": {},
   "source": [
    "dfFinal2 = dfFinal2.loc[(dfFinal2['DATA'] >= '2023-01-01') ].copy()\n",
    "df_DiasCertos = dfFinalLimitado.loc[(dfFinalLimitado['DATA'] >= '2023-01-01') ].copy()\n",
    "df_RoturasDiasCertos = dfFinalLimitadoRoturas.loc[(dfFinalLimitadoRoturas['DATA'] >= '2023-01-01') ].copy()"
   ]
  },
  {
   "cell_type": "markdown",
   "metadata": {},
   "source": [
    "- Passar para csv"
   ]
  },
  {
   "cell_type": "raw",
   "metadata": {},
   "source": [
    "%%time\n",
    "\n",
    "escrever_csv(dfFinal2, \"Stocks_Delta_2022_10prod_Métricas\")\n",
    "escrever_csv(dfFinalLimitado, \"Stocks_Delta_2022_10prod_Métricas_Limpo\")\n",
    "escrever_csv(dfFinalLimitadoRoturas, \"Stocks_Delta_2022_10prod_Métricas_SóRoturas\")"
   ]
  }
 ],
 "metadata": {
  "kernelspec": {
   "display_name": "Python 3 (ipykernel)",
   "language": "python",
   "name": "python3"
  },
  "language_info": {
   "codemirror_mode": {
    "name": "ipython",
    "version": 3
   },
   "file_extension": ".py",
   "mimetype": "text/x-python",
   "name": "python",
   "nbconvert_exporter": "python",
   "pygments_lexer": "ipython3",
   "version": "3.11.5"
  }
 },
 "nbformat": 4,
 "nbformat_minor": 2
}
