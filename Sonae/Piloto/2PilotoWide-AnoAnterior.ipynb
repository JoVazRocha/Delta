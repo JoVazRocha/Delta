{
 "cells": [
  {
   "cell_type": "markdown",
   "metadata": {},
   "source": [
    "# Resumo do código\n",
    "\n",
    "### <u>Código que gera o ficheiro OUT2_DataFusion_2022</u>\n",
    "---\n",
    "Faz o mesmo que o 2PilototWide só que recebe dados de 2022\n",
    "\n",
    "---\n",
    "> Input\n",
    "> - Única diferença é coluna Id que deve corresponder à ordem dos dias (porque os dias homólogos não coincidem no número)\n",
    "\n",
    "> Output\n",
    "> - O mesmo de 2PilotoWide, embora nem todas as métricas sejam necessárias"
   ]
  },
  {
   "cell_type": "code",
   "execution_count": 2,
   "metadata": {},
   "outputs": [],
   "source": [
    "import pandas as pd\n",
    "import numpy as np\n",
    "\n",
    "def escrever_excel(dfa, nome):\n",
    "    dfa.to_excel('%s.xlsx' %nome, index=False)\n",
    "    \n",
    "def escrever_csv(dfa, nome):\n",
    "    dfa.to_csv(nome+'.csv', index=False)"
   ]
  },
  {
   "cell_type": "markdown",
   "metadata": {},
   "source": [
    "# Ler e Mudar nomes"
   ]
  },
  {
   "cell_type": "markdown",
   "metadata": {},
   "source": [
    "- # `Ninjas (sinal)`"
   ]
  },
  {
   "cell_type": "code",
   "execution_count": 3,
   "metadata": {},
   "outputs": [],
   "source": [
    "#Info Ninja\n",
    "dfNinjas1=pd.read_excel(\"D:\\\\B&N Dados\\\\Delta\\\\Piloto\\\\1Ninjas1fds.xlsx\")\n",
    "dfNinjas2=pd.read_excel(\"D:\\\\B&N Dados\\\\Delta\\\\Piloto\\\\1Ninjas2fds.xlsx\")\n",
    "dfNinjas3=pd.read_excel(\"D:\\\\B&N Dados\\\\Delta\\\\Piloto\\\\1Ninjas3fds.xlsx\")\n",
    "dfNinjas4=pd.read_excel(\"D:\\\\B&N Dados\\\\Delta\\\\Piloto\\\\1Ninjas4fds.xlsx\")\n",
    "\n",
    "# Juntar dataframes no caso de serem vários ficheiros\n",
    "dataframes=[dfNinjas1,dfNinjas2,dfNinjas3,dfNinjas4]\n",
    "dfNinjas=pd.concat(dataframes, ignore_index=True)\n",
    "\n",
    "#Renomear colunas\n",
    "dfNinjas = dfNinjas.rename(columns={' Data de Resposta': 'DATA', \"Código da loja\":\"STORE\", \"Nome da Loja\":\"Loja\"})"
   ]
  },
  {
   "cell_type": "markdown",
   "metadata": {},
   "source": [
    "> Definir variáveis importantes\n",
    "> - Se houver um ficheiro com os produtos"
   ]
  },
  {
   "cell_type": "code",
   "execution_count": 4,
   "metadata": {},
   "outputs": [],
   "source": [
    "# Ler ficheiro para dataframe\n",
    "df_produtos = pd.read_csv('D:\\\\B&N Dados\\\\Delta\\\\Piloto\\\\produtos.txt', header=None)\n",
    "\n",
    "# Passar para uma lista\n",
    "produtos = df_produtos[0].tolist()\n",
    "resto = dfNinjas.columns.difference(produtos)"
   ]
  },
  {
   "cell_type": "markdown",
   "metadata": {},
   "source": [
    "> - Se se quiser usar o primeiro e o último produtos"
   ]
  },
  {
   "cell_type": "code",
   "execution_count": 143,
   "metadata": {
    "scrolled": true
   },
   "outputs": [
    {
     "name": "stdout",
     "output_type": "stream",
     "text": [
      "Primeiro produto: CAFÉ DELTA Q MYTHIQ 80CAP\n",
      "Último produto: Delta Cafés Mistura + café 200grs\n"
     ]
    }
   ],
   "source": [
    "# Nomes de entrada\n",
    "x= input(\"Primeiro produto: \")                # CAFÉ DELTA Q MYTHIQ 80CAP\n",
    "y= input(\"Último produto: \")                  # BEBIDA CEREAIS DELTA C/20%CAFE FR 200G\n",
    "\n",
    "# Passar para uma lista\n",
    "produtos = dfNinjas.columns[dfNinjas.columns.get_loc(x): dfNinjas.columns.get_loc(y)+1].tolist()\n",
    "resto = dfNinjas.columns.difference(produtos)"
   ]
  },
  {
   "cell_type": "markdown",
   "metadata": {},
   "source": [
    "<font color=red> Aparte </font>\n",
    "\n",
    "---"
   ]
  },
  {
   "cell_type": "markdown",
   "metadata": {},
   "source": [
    "# Estruturar a base de dados"
   ]
  },
  {
   "cell_type": "markdown",
   "metadata": {},
   "source": [
    "- altura do dia"
   ]
  },
  {
   "cell_type": "code",
   "execution_count": 5,
   "metadata": {},
   "outputs": [],
   "source": [
    "# Hora para datetime\n",
    "dfNinjas['Hora']= pd.to_datetime(dfNinjas['Hora'], format='%H:%M:%S').dt.time  \n",
    "\n",
    "#coluna nova para data e hora\n",
    "dfNinjas['DataComp'] = pd.to_datetime(dfNinjas['DATA'].dt.strftime('%Y-%m-%d') + ' ' + dfNinjas['Hora'].astype(str)) "
   ]
  },
  {
   "cell_type": "code",
   "execution_count": 6,
   "metadata": {},
   "outputs": [],
   "source": [
    "#Definir que altura do dia é o quê\n",
    "altura_do_dia = lambda x: 'Manhã' if x < 12 else ('Tarde' if x < 18 else 'Noite')\n",
    "\n",
    "dfNinjas['Altura_do_Dia'] = dfNinjas['DataComp'].apply(lambda x: altura_do_dia(x.hour))\n",
    "#dfNinjas['Altura do Dia'] = dfNinjas['DATA'].apply(lambda x: altura_do_dia(x.hour))\n",
    "dfNinjas=dfNinjas.drop(columns=[\"DataComp\"])"
   ]
  },
  {
   "cell_type": "markdown",
   "metadata": {},
   "source": [
    "# Fazer o dataframe que servirá de modelo"
   ]
  },
  {
   "cell_type": "code",
   "execution_count": 7,
   "metadata": {},
   "outputs": [],
   "source": [
    "import itertools\n",
    "\n",
    "# Definir os valores para cada coluna\n",
    "dates = dfNinjas[\"DATA\"].unique()\n",
    "stores = dfNinjas[\"STORE\"].unique()\n",
    "\n",
    "# Fazer todas as combinações de valores\n",
    "combinations = list(itertools.product(dates, stores))\n",
    "\n",
    "# Criar dataframe com essas combinações\n",
    "dfModelo = pd.DataFrame(combinations, columns=['DATA', 'STORE'])\n",
    "\n",
    "# Converter para Datetime\n",
    "dfModelo['DATA'] = pd.to_datetime(dfModelo['DATA'], format='%Y-%m-%d')"
   ]
  },
  {
   "cell_type": "code",
   "execution_count": 8,
   "metadata": {},
   "outputs": [],
   "source": [
    "\n",
    "# Definir os valores de altura do dia\n",
    "times = ['Manhã', 'Tarde', 'Noite']\n",
    "\n",
    "# Create a list of dataframes, each with a single value from times in a new column\n",
    "dfs = [dfModelo.assign(Altura_do_Dia=t) for t in times]\n",
    "\n",
    "# Concatenate the list of dataframes into a single dataframe\n",
    "df_Mergir = pd.concat(dfs, ignore_index=True)\n"
   ]
  },
  {
   "cell_type": "markdown",
   "metadata": {},
   "source": [
    "> `MERGIR`"
   ]
  },
  {
   "cell_type": "code",
   "execution_count": 9,
   "metadata": {},
   "outputs": [],
   "source": [
    "dfNinjas = pd.merge(df_Mergir, dfNinjas, on=['DATA', 'STORE', 'Altura_do_Dia'], how='left')\n",
    "\n",
    "dfNinjas = dfNinjas.sort_values(by=[\"STORE\",\"DATA\"])"
   ]
  },
  {
   "cell_type": "code",
   "execution_count": 10,
   "metadata": {},
   "outputs": [],
   "source": [
    "# Valores nulos no nome da loja vão ser substituidos pelo primeiro valor anterior não-nulo\n",
    "\n",
    "dfNinjas['Loja'] = dfNinjas['Loja'].fillna(method='ffill')"
   ]
  },
  {
   "cell_type": "markdown",
   "metadata": {},
   "source": [
    "- Dia"
   ]
  },
  {
   "cell_type": "code",
   "execution_count": 11,
   "metadata": {},
   "outputs": [],
   "source": [
    "nome_dia = dfNinjas['DATA'].dt.day_name().map({'Friday': 'Sexta', 'Saturday': 'Sábado', 'Sunday': 'Domingo'})\n",
    "\n",
    "dfNinjas['Dia'] = nome_dia"
   ]
  },
  {
   "cell_type": "markdown",
   "metadata": {},
   "source": [
    "- Semana"
   ]
  },
  {
   "cell_type": "code",
   "execution_count": 12,
   "metadata": {},
   "outputs": [],
   "source": [
    "dfNinjas['Semana'] = dfNinjas['DATA'].dt.isocalendar().week\n",
    "\n",
    "dfNinjas['Semana'] = dfNinjas.groupby('Semana').ngroup() + 1"
   ]
  },
  {
   "cell_type": "markdown",
   "metadata": {},
   "source": [
    "- Completar"
   ]
  },
  {
   "cell_type": "code",
   "execution_count": 13,
   "metadata": {},
   "outputs": [],
   "source": [
    "df_columns = dfNinjas.columns.tolist()\n",
    "indexed_columns = [f\"{index}: {column}\" for index, column in enumerate(df_columns)]"
   ]
  },
  {
   "cell_type": "code",
   "execution_count": 14,
   "metadata": {},
   "outputs": [],
   "source": [
    "dfNinjasOrg=dfNinjas.copy()\n",
    "# Get the current column list\n",
    "cols = dfNinjasOrg.columns.tolist()\n",
    "\n",
    "# Remove the last two columns and save them\n",
    "last_two_cols = cols[-2:]\n",
    "cols = cols[:-2]\n",
    "\n",
    "# Insert the last two columns to the desired index\n",
    "cols.insert(5, last_two_cols[0])\n",
    "cols.insert(6, last_two_cols[1])\n",
    "\n",
    "# Reorder the columns in the DataFrame\n",
    "dfNinjasOrg = dfNinjasOrg[cols]"
   ]
  },
  {
   "cell_type": "code",
   "execution_count": 15,
   "metadata": {},
   "outputs": [],
   "source": [
    "df_columns = dfNinjasOrg.columns.tolist()\n",
    "indexed_columns = [f\"{index}: {column}\" for index, column in enumerate(df_columns)]"
   ]
  },
  {
   "cell_type": "code",
   "execution_count": 17,
   "metadata": {
    "collapsed": true
   },
   "outputs": [
    {
     "data": {
      "text/html": [
       "<div>\n",
       "<style scoped>\n",
       "    .dataframe tbody tr th:only-of-type {\n",
       "        vertical-align: middle;\n",
       "    }\n",
       "\n",
       "    .dataframe tbody tr th {\n",
       "        vertical-align: top;\n",
       "    }\n",
       "\n",
       "    .dataframe thead th {\n",
       "        text-align: right;\n",
       "    }\n",
       "</style>\n",
       "<table border=\"1\" class=\"dataframe\">\n",
       "  <thead>\n",
       "    <tr style=\"text-align: right;\">\n",
       "      <th></th>\n",
       "      <th>DATA</th>\n",
       "      <th>STORE</th>\n",
       "      <th>Altura_do_Dia</th>\n",
       "      <th>Loja</th>\n",
       "      <th>Hora</th>\n",
       "      <th>Dia</th>\n",
       "      <th>Semana</th>\n",
       "      <th>CAFÉ DELTA Q MYTHIQ 80CAP</th>\n",
       "      <th>CAFÉ DELTA Q QALIDUS 80CAP</th>\n",
       "      <th>CAFÉ DELTA Q QALIDUS 10CAP</th>\n",
       "      <th>CAFÉ MOÍDO MÁQUINA CHÁVENA DELTA 250G</th>\n",
       "      <th>CAFÉ BELLISSIMO INTENSO 200GR</th>\n",
       "      <th>CAFÉ DELTA RITUAL MU 220G</th>\n",
       "      <th>CAFÉ SOLÚVEL DELTA FRASCO 100G</th>\n",
       "      <th>CAFÉ SOLÚVEL DELTA FRASCO 200G</th>\n",
       "      <th>CEVADA SOLÚVEL DELTA FRASCO 200G</th>\n",
       "      <th>BEBIDA CEREAIS DELTA C/20%CAFE FR 200G</th>\n",
       "      <th>id</th>\n",
       "    </tr>\n",
       "  </thead>\n",
       "  <tbody>\n",
       "    <tr>\n",
       "      <th>0</th>\n",
       "      <td>2023-04-14</td>\n",
       "      <td>1</td>\n",
       "      <td>Manhã</td>\n",
       "      <td>Continente Matosinhos</td>\n",
       "      <td>10:39:00</td>\n",
       "      <td>Sexta</td>\n",
       "      <td>1</td>\n",
       "      <td>1.0</td>\n",
       "      <td>1.0</td>\n",
       "      <td>1.0</td>\n",
       "      <td>1.0</td>\n",
       "      <td>1.0</td>\n",
       "      <td>1.0</td>\n",
       "      <td>1.0</td>\n",
       "      <td>1.0</td>\n",
       "      <td>1.0</td>\n",
       "      <td>1.0</td>\n",
       "      <td>0</td>\n",
       "    </tr>\n",
       "    <tr>\n",
       "      <th>120</th>\n",
       "      <td>2023-04-14</td>\n",
       "      <td>1</td>\n",
       "      <td>Tarde</td>\n",
       "      <td>Continente Matosinhos</td>\n",
       "      <td>14:46:00</td>\n",
       "      <td>Sexta</td>\n",
       "      <td>1</td>\n",
       "      <td>1.0</td>\n",
       "      <td>1.0</td>\n",
       "      <td>1.0</td>\n",
       "      <td>1.0</td>\n",
       "      <td>1.0</td>\n",
       "      <td>1.0</td>\n",
       "      <td>1.0</td>\n",
       "      <td>1.0</td>\n",
       "      <td>1.0</td>\n",
       "      <td>1.0</td>\n",
       "      <td>0</td>\n",
       "    </tr>\n",
       "    <tr>\n",
       "      <th>241</th>\n",
       "      <td>2023-04-14</td>\n",
       "      <td>1</td>\n",
       "      <td>Noite</td>\n",
       "      <td>Continente Matosinhos</td>\n",
       "      <td>19:08:00</td>\n",
       "      <td>Sexta</td>\n",
       "      <td>1</td>\n",
       "      <td>1.0</td>\n",
       "      <td>1.0</td>\n",
       "      <td>1.0</td>\n",
       "      <td>1.0</td>\n",
       "      <td>1.0</td>\n",
       "      <td>1.0</td>\n",
       "      <td>1.0</td>\n",
       "      <td>1.0</td>\n",
       "      <td>1.0</td>\n",
       "      <td>1.0</td>\n",
       "      <td>0</td>\n",
       "    </tr>\n",
       "    <tr>\n",
       "      <th>10</th>\n",
       "      <td>2023-04-15</td>\n",
       "      <td>1</td>\n",
       "      <td>Manhã</td>\n",
       "      <td>Continente Matosinhos</td>\n",
       "      <td>10:56:25</td>\n",
       "      <td>Sábado</td>\n",
       "      <td>1</td>\n",
       "      <td>1.0</td>\n",
       "      <td>1.0</td>\n",
       "      <td>1.0</td>\n",
       "      <td>1.0</td>\n",
       "      <td>1.0</td>\n",
       "      <td>1.0</td>\n",
       "      <td>1.0</td>\n",
       "      <td>1.0</td>\n",
       "      <td>1.0</td>\n",
       "      <td>1.0</td>\n",
       "      <td>1</td>\n",
       "    </tr>\n",
       "    <tr>\n",
       "      <th>130</th>\n",
       "      <td>2023-04-15</td>\n",
       "      <td>1</td>\n",
       "      <td>Tarde</td>\n",
       "      <td>Continente Matosinhos</td>\n",
       "      <td>15:19:35</td>\n",
       "      <td>Sábado</td>\n",
       "      <td>1</td>\n",
       "      <td>1.0</td>\n",
       "      <td>1.0</td>\n",
       "      <td>1.0</td>\n",
       "      <td>1.0</td>\n",
       "      <td>1.0</td>\n",
       "      <td>1.0</td>\n",
       "      <td>1.0</td>\n",
       "      <td>1.0</td>\n",
       "      <td>1.0</td>\n",
       "      <td>1.0</td>\n",
       "      <td>1</td>\n",
       "    </tr>\n",
       "    <tr>\n",
       "      <th>251</th>\n",
       "      <td>2023-04-15</td>\n",
       "      <td>1</td>\n",
       "      <td>Noite</td>\n",
       "      <td>Continente Matosinhos</td>\n",
       "      <td>19:04:28</td>\n",
       "      <td>Sábado</td>\n",
       "      <td>1</td>\n",
       "      <td>1.0</td>\n",
       "      <td>1.0</td>\n",
       "      <td>1.0</td>\n",
       "      <td>1.0</td>\n",
       "      <td>1.0</td>\n",
       "      <td>1.0</td>\n",
       "      <td>1.0</td>\n",
       "      <td>1.0</td>\n",
       "      <td>1.0</td>\n",
       "      <td>1.0</td>\n",
       "      <td>1</td>\n",
       "    </tr>\n",
       "    <tr>\n",
       "      <th>20</th>\n",
       "      <td>2023-04-16</td>\n",
       "      <td>1</td>\n",
       "      <td>Manhã</td>\n",
       "      <td>Continente Matosinhos</td>\n",
       "      <td>NaN</td>\n",
       "      <td>Domingo</td>\n",
       "      <td>1</td>\n",
       "      <td>NaN</td>\n",
       "      <td>NaN</td>\n",
       "      <td>NaN</td>\n",
       "      <td>NaN</td>\n",
       "      <td>NaN</td>\n",
       "      <td>NaN</td>\n",
       "      <td>NaN</td>\n",
       "      <td>NaN</td>\n",
       "      <td>NaN</td>\n",
       "      <td>NaN</td>\n",
       "      <td>2</td>\n",
       "    </tr>\n",
       "    <tr>\n",
       "      <th>140</th>\n",
       "      <td>2023-04-16</td>\n",
       "      <td>1</td>\n",
       "      <td>Tarde</td>\n",
       "      <td>Continente Matosinhos</td>\n",
       "      <td>15:02:00</td>\n",
       "      <td>Domingo</td>\n",
       "      <td>1</td>\n",
       "      <td>1.0</td>\n",
       "      <td>1.0</td>\n",
       "      <td>1.0</td>\n",
       "      <td>1.0</td>\n",
       "      <td>1.0</td>\n",
       "      <td>1.0</td>\n",
       "      <td>1.0</td>\n",
       "      <td>1.0</td>\n",
       "      <td>1.0</td>\n",
       "      <td>1.0</td>\n",
       "      <td>2</td>\n",
       "    </tr>\n",
       "    <tr>\n",
       "      <th>261</th>\n",
       "      <td>2023-04-16</td>\n",
       "      <td>1</td>\n",
       "      <td>Noite</td>\n",
       "      <td>Continente Matosinhos</td>\n",
       "      <td>19:20:55</td>\n",
       "      <td>Domingo</td>\n",
       "      <td>1</td>\n",
       "      <td>1.0</td>\n",
       "      <td>1.0</td>\n",
       "      <td>1.0</td>\n",
       "      <td>1.0</td>\n",
       "      <td>1.0</td>\n",
       "      <td>1.0</td>\n",
       "      <td>1.0</td>\n",
       "      <td>1.0</td>\n",
       "      <td>1.0</td>\n",
       "      <td>1.0</td>\n",
       "      <td>2</td>\n",
       "    </tr>\n",
       "    <tr>\n",
       "      <th>30</th>\n",
       "      <td>2023-04-21</td>\n",
       "      <td>1</td>\n",
       "      <td>Manhã</td>\n",
       "      <td>Continente Matosinhos</td>\n",
       "      <td>09:30:00</td>\n",
       "      <td>Sexta</td>\n",
       "      <td>2</td>\n",
       "      <td>1.0</td>\n",
       "      <td>1.0</td>\n",
       "      <td>1.0</td>\n",
       "      <td>1.0</td>\n",
       "      <td>1.0</td>\n",
       "      <td>1.0</td>\n",
       "      <td>1.0</td>\n",
       "      <td>1.0</td>\n",
       "      <td>1.0</td>\n",
       "      <td>1.0</td>\n",
       "      <td>3</td>\n",
       "    </tr>\n",
       "    <tr>\n",
       "      <th>150</th>\n",
       "      <td>2023-04-21</td>\n",
       "      <td>1</td>\n",
       "      <td>Tarde</td>\n",
       "      <td>Continente Matosinhos</td>\n",
       "      <td>14:37:00</td>\n",
       "      <td>Sexta</td>\n",
       "      <td>2</td>\n",
       "      <td>1.0</td>\n",
       "      <td>1.0</td>\n",
       "      <td>1.0</td>\n",
       "      <td>1.0</td>\n",
       "      <td>1.0</td>\n",
       "      <td>1.0</td>\n",
       "      <td>1.0</td>\n",
       "      <td>1.0</td>\n",
       "      <td>1.0</td>\n",
       "      <td>1.0</td>\n",
       "      <td>3</td>\n",
       "    </tr>\n",
       "    <tr>\n",
       "      <th>271</th>\n",
       "      <td>2023-04-21</td>\n",
       "      <td>1</td>\n",
       "      <td>Noite</td>\n",
       "      <td>Continente Matosinhos</td>\n",
       "      <td>19:44:00</td>\n",
       "      <td>Sexta</td>\n",
       "      <td>2</td>\n",
       "      <td>1.0</td>\n",
       "      <td>1.0</td>\n",
       "      <td>1.0</td>\n",
       "      <td>1.0</td>\n",
       "      <td>1.0</td>\n",
       "      <td>1.0</td>\n",
       "      <td>1.0</td>\n",
       "      <td>1.0</td>\n",
       "      <td>1.0</td>\n",
       "      <td>1.0</td>\n",
       "      <td>3</td>\n",
       "    </tr>\n",
       "    <tr>\n",
       "      <th>40</th>\n",
       "      <td>2023-04-22</td>\n",
       "      <td>1</td>\n",
       "      <td>Manhã</td>\n",
       "      <td>Continente Matosinhos</td>\n",
       "      <td>09:01:00</td>\n",
       "      <td>Sábado</td>\n",
       "      <td>2</td>\n",
       "      <td>1.0</td>\n",
       "      <td>1.0</td>\n",
       "      <td>1.0</td>\n",
       "      <td>1.0</td>\n",
       "      <td>1.0</td>\n",
       "      <td>1.0</td>\n",
       "      <td>1.0</td>\n",
       "      <td>1.0</td>\n",
       "      <td>1.0</td>\n",
       "      <td>1.0</td>\n",
       "      <td>4</td>\n",
       "    </tr>\n",
       "  </tbody>\n",
       "</table>\n",
       "</div>"
      ],
      "text/plain": [
       "          DATA  STORE Altura_do_Dia                   Loja      Hora      Dia  \\\n",
       "0   2023-04-14      1         Manhã  Continente Matosinhos  10:39:00    Sexta   \n",
       "120 2023-04-14      1         Tarde  Continente Matosinhos  14:46:00    Sexta   \n",
       "241 2023-04-14      1         Noite  Continente Matosinhos  19:08:00    Sexta   \n",
       "10  2023-04-15      1         Manhã  Continente Matosinhos  10:56:25   Sábado   \n",
       "130 2023-04-15      1         Tarde  Continente Matosinhos  15:19:35   Sábado   \n",
       "251 2023-04-15      1         Noite  Continente Matosinhos  19:04:28   Sábado   \n",
       "20  2023-04-16      1         Manhã  Continente Matosinhos       NaN  Domingo   \n",
       "140 2023-04-16      1         Tarde  Continente Matosinhos  15:02:00  Domingo   \n",
       "261 2023-04-16      1         Noite  Continente Matosinhos  19:20:55  Domingo   \n",
       "30  2023-04-21      1         Manhã  Continente Matosinhos  09:30:00    Sexta   \n",
       "150 2023-04-21      1         Tarde  Continente Matosinhos  14:37:00    Sexta   \n",
       "271 2023-04-21      1         Noite  Continente Matosinhos  19:44:00    Sexta   \n",
       "40  2023-04-22      1         Manhã  Continente Matosinhos  09:01:00   Sábado   \n",
       "\n",
       "     Semana  CAFÉ DELTA Q MYTHIQ 80CAP  CAFÉ DELTA Q QALIDUS 80CAP  \\\n",
       "0         1                        1.0                         1.0   \n",
       "120       1                        1.0                         1.0   \n",
       "241       1                        1.0                         1.0   \n",
       "10        1                        1.0                         1.0   \n",
       "130       1                        1.0                         1.0   \n",
       "251       1                        1.0                         1.0   \n",
       "20        1                        NaN                         NaN   \n",
       "140       1                        1.0                         1.0   \n",
       "261       1                        1.0                         1.0   \n",
       "30        2                        1.0                         1.0   \n",
       "150       2                        1.0                         1.0   \n",
       "271       2                        1.0                         1.0   \n",
       "40        2                        1.0                         1.0   \n",
       "\n",
       "     CAFÉ DELTA Q QALIDUS 10CAP  CAFÉ MOÍDO MÁQUINA CHÁVENA DELTA 250G  \\\n",
       "0                           1.0                                    1.0   \n",
       "120                         1.0                                    1.0   \n",
       "241                         1.0                                    1.0   \n",
       "10                          1.0                                    1.0   \n",
       "130                         1.0                                    1.0   \n",
       "251                         1.0                                    1.0   \n",
       "20                          NaN                                    NaN   \n",
       "140                         1.0                                    1.0   \n",
       "261                         1.0                                    1.0   \n",
       "30                          1.0                                    1.0   \n",
       "150                         1.0                                    1.0   \n",
       "271                         1.0                                    1.0   \n",
       "40                          1.0                                    1.0   \n",
       "\n",
       "     CAFÉ BELLISSIMO INTENSO 200GR  CAFÉ DELTA RITUAL MU 220G  \\\n",
       "0                              1.0                        1.0   \n",
       "120                            1.0                        1.0   \n",
       "241                            1.0                        1.0   \n",
       "10                             1.0                        1.0   \n",
       "130                            1.0                        1.0   \n",
       "251                            1.0                        1.0   \n",
       "20                             NaN                        NaN   \n",
       "140                            1.0                        1.0   \n",
       "261                            1.0                        1.0   \n",
       "30                             1.0                        1.0   \n",
       "150                            1.0                        1.0   \n",
       "271                            1.0                        1.0   \n",
       "40                             1.0                        1.0   \n",
       "\n",
       "     CAFÉ SOLÚVEL DELTA FRASCO 100G  CAFÉ SOLÚVEL DELTA FRASCO 200G  \\\n",
       "0                               1.0                             1.0   \n",
       "120                             1.0                             1.0   \n",
       "241                             1.0                             1.0   \n",
       "10                              1.0                             1.0   \n",
       "130                             1.0                             1.0   \n",
       "251                             1.0                             1.0   \n",
       "20                              NaN                             NaN   \n",
       "140                             1.0                             1.0   \n",
       "261                             1.0                             1.0   \n",
       "30                              1.0                             1.0   \n",
       "150                             1.0                             1.0   \n",
       "271                             1.0                             1.0   \n",
       "40                              1.0                             1.0   \n",
       "\n",
       "     CEVADA SOLÚVEL DELTA FRASCO 200G  BEBIDA CEREAIS DELTA C/20%CAFE FR 200G  \\\n",
       "0                                 1.0                                     1.0   \n",
       "120                               1.0                                     1.0   \n",
       "241                               1.0                                     1.0   \n",
       "10                                1.0                                     1.0   \n",
       "130                               1.0                                     1.0   \n",
       "251                               1.0                                     1.0   \n",
       "20                                NaN                                     NaN   \n",
       "140                               1.0                                     1.0   \n",
       "261                               1.0                                     1.0   \n",
       "30                                1.0                                     1.0   \n",
       "150                               1.0                                     1.0   \n",
       "271                               1.0                                     1.0   \n",
       "40                                1.0                                     1.0   \n",
       "\n",
       "     id  \n",
       "0     0  \n",
       "120   0  \n",
       "241   0  \n",
       "10    1  \n",
       "130   1  \n",
       "251   1  \n",
       "20    2  \n",
       "140   2  \n",
       "261   2  \n",
       "30    3  \n",
       "150   3  \n",
       "271   3  \n",
       "40    4  "
      ]
     },
     "execution_count": 17,
     "metadata": {},
     "output_type": "execute_result"
    }
   ],
   "source": [
    "df=dfNinjasOrg.copy()\n",
    "\n",
    "# Extract the day and month components from the 'datetime' column\n",
    "df['day'] = pd.to_datetime(df['DATA']).dt.day\n",
    "df['month'] = pd.to_datetime(df['DATA']).dt.month\n",
    "\n",
    "# Create a new column combining day and month\n",
    "df['day_month'] = df['day'].astype(str) + '-' + df['month'].astype(str)\n",
    "\n",
    "# Assign unique IDs to each unique day-month combination\n",
    "df['id'], _ = pd.factorize(df['day_month'])\n",
    "\n",
    "df = df.drop(columns=['day', 'month', 'day_month'])\n",
    "\n",
    "df.head(13)"
   ]
  },
  {
   "cell_type": "code",
   "execution_count": 18,
   "metadata": {},
   "outputs": [],
   "source": [
    "dfNinjas=df.copy()"
   ]
  },
  {
   "cell_type": "markdown",
   "metadata": {},
   "source": [
    "---\n",
    "\n",
    "<font color=red> Fim de Aparte </font>"
   ]
  },
  {
   "cell_type": "markdown",
   "metadata": {},
   "source": [
    "> Reposição"
   ]
  },
  {
   "cell_type": "code",
   "execution_count": 19,
   "metadata": {},
   "outputs": [],
   "source": [
    "# Ler ficheiro\n",
    "dfRepos=pd.read_excel(\"D:\\\\B&N Dados\\\\Delta\\\\Piloto\\\\LojasReposição.xlsx\")\n",
    "\n",
    "# Criar coluna de reposição\n",
    "dfNinjas['Reposição'] = [1 if val in dfRepos['Loja'].values else 0 for val in dfNinjas['Loja']]"
   ]
  },
  {
   "cell_type": "markdown",
   "metadata": {},
   "source": [
    "- #  `Delta (stocks, reposição e sellouts)`"
   ]
  },
  {
   "cell_type": "markdown",
   "metadata": {},
   "source": [
    "> Stocks"
   ]
  },
  {
   "cell_type": "code",
   "execution_count": 20,
   "metadata": {},
   "outputs": [],
   "source": [
    "# Ler o ficheiro long com Stocks e Fornecimento\n",
    "dfDelta=pd.read_excel(\"D:\\\\B&N Dados\\\\Delta\\\\Piloto\\\\2Delta2022Id.xlsx\", sheet_name=\"Sheet1\")\n",
    "\n",
    "# Renomear\n",
    "dfDelta = dfDelta.rename(columns={\"STORE_NAME\":\"Loja\"})"
   ]
  },
  {
   "cell_type": "code",
   "execution_count": 23,
   "metadata": {},
   "outputs": [
    {
     "data": {
      "text/html": [
       "<div>\n",
       "<style scoped>\n",
       "    .dataframe tbody tr th:only-of-type {\n",
       "        vertical-align: middle;\n",
       "    }\n",
       "\n",
       "    .dataframe tbody tr th {\n",
       "        vertical-align: top;\n",
       "    }\n",
       "\n",
       "    .dataframe thead th {\n",
       "        text-align: right;\n",
       "    }\n",
       "</style>\n",
       "<table border=\"1\" class=\"dataframe\">\n",
       "  <thead>\n",
       "    <tr style=\"text-align: right;\">\n",
       "      <th></th>\n",
       "      <th>DATA</th>\n",
       "      <th>EAN</th>\n",
       "      <th>DESC_ARTIGO</th>\n",
       "      <th>STORE</th>\n",
       "      <th>Loja</th>\n",
       "      <th>SOH</th>\n",
       "      <th>INTRANSIT</th>\n",
       "      <th>EXPECTED</th>\n",
       "      <th>PRES_STOCK</th>\n",
       "      <th>Dia_Actual</th>\n",
       "      <th>1_Dia_Antes</th>\n",
       "      <th>Reposição</th>\n",
       "      <th>Semana</th>\n",
       "      <th>Dia</th>\n",
       "      <th>id</th>\n",
       "    </tr>\n",
       "  </thead>\n",
       "  <tbody>\n",
       "  </tbody>\n",
       "</table>\n",
       "</div>"
      ],
      "text/plain": [
       "Empty DataFrame\n",
       "Columns: [DATA, EAN, DESC_ARTIGO, STORE, Loja, SOH, INTRANSIT, EXPECTED, PRES_STOCK, Dia_Actual, 1_Dia_Antes, Reposição, Semana, Dia, id]\n",
       "Index: []"
      ]
     },
     "execution_count": 23,
     "metadata": {},
     "output_type": "execute_result"
    }
   ],
   "source": [
    "dfDelta[dfDelta[\"SOH\"]==0]\n",
    "#dfDelta.head()"
   ]
  },
  {
   "cell_type": "markdown",
   "metadata": {},
   "source": [
    "# VER"
   ]
  },
  {
   "cell_type": "code",
   "execution_count": 153,
   "metadata": {
    "jupyter": {
     "outputs_hidden": true
    }
   },
   "outputs": [],
   "source": [
    "#dfNinjas.head()\n",
    "#dfDelta.info()"
   ]
  },
  {
   "cell_type": "markdown",
   "metadata": {},
   "source": [
    "# Código para Delta (Stocks)"
   ]
  },
  {
   "cell_type": "code",
   "execution_count": 32,
   "metadata": {},
   "outputs": [],
   "source": [
    "# Dataframe mergido no fim\n",
    "dfMeio=dfNinjas.copy()\n",
    "\n",
    "\n",
    "for coluna in produtos:       \n",
    "    \n",
    "    #Cada dfStocks é um dataframe com o produto específico\n",
    "    dfStocks=dfDelta[dfDelta[\"DESC_ARTIGO\"]==coluna][[\"id\", \"Semana\", \"STORE\", \"SOH\", \"PRES_STOCK\", \"INTRANSIT\", \"EXPECTED\", \"Dia_Actual\"]]   #Dados Ninjas, seleccionar colunas do café específico\n",
    "    \n",
    "    #Juntar dados de acordo com o dia e a loja\n",
    "    dfMeio=pd.merge(dfMeio, dfStocks, how=\"left\", on = [\"id\",\"STORE\", \"Semana\"])  \n",
    "    \n",
    "    #Mudar nomes para ser adaptado a cada produto\n",
    "    dfMeio=dfMeio.rename(columns={\"SOH\": \"STOCK %s\" % coluna, \"PRES_STOCK\":\"PRESLINEAR %s\" % coluna, \"INTRANSIT\":\"INTRANSIT %s\" % coluna, \"EXPECTED\":\"EXPECTED %s\" % coluna, \"Dia_Actual\":\"SELLOUT %s\" % coluna})                       #Nomear coluna nova\n",
    "    \n",
    "    "
   ]
  },
  {
   "cell_type": "markdown",
   "metadata": {},
   "source": [
    "- Quantos produtos estão presentes? <span style=\"color:red\">Vale a pena? </span>"
   ]
  },
  {
   "cell_type": "code",
   "execution_count": 33,
   "metadata": {},
   "outputs": [],
   "source": [
    "# Criar coluna com o número dos produtos em causa presentes no instante\n",
    "\n",
    "dfMeio[\"Num_Produtos\"] = dfMeio[produtos].sum(axis=1)\n",
    "\n",
    "dfMeio.loc[(dfMeio[\"Num_Produtos\"] == 0) & (dfMeio[produtos[1]].isna()), \"Num_Produtos\"] = np.nan"
   ]
  },
  {
   "cell_type": "code",
   "execution_count": 34,
   "metadata": {},
   "outputs": [],
   "source": [
    "dfFinal=dfMeio.copy()"
   ]
  },
  {
   "cell_type": "markdown",
   "metadata": {},
   "source": [
    "# Já temos DataFrame com:\n",
    "- Informação Ninjas\n",
    "- Informação Stocks, Linear, Intransit e Expected\n",
    "- Informação Sellouts, Vendedor, Reposição\n",
    "\n",
    "## Fazer:\n",
    "\n",
    "- Rotura\n",
    "- Sinal -> Avaliação da informação ninja vs stock\n",
    "- Ciclos\n",
    "- Adequação de Stock"
   ]
  },
  {
   "cell_type": "markdown",
   "metadata": {},
   "source": [
    "> Rotura"
   ]
  },
  {
   "cell_type": "code",
   "execution_count": 165,
   "metadata": {},
   "outputs": [],
   "source": [
    "for i in produtos:\n",
    "    rotura  = \"ROTURA %s\" % i\n",
    "    stock  = \"STOCK %s\" % i\n",
    "    preslinear = \"PRESLINEAR %s\" % i\n",
    "    \n",
    "    dfFinal[rotura] = np.where((dfFinal[stock] > 0) & ~(dfFinal[i].isna()), 0, \n",
    "                      np.where((dfFinal[stock] <= 0) & (dfFinal[preslinear] > 0) & ~(dfFinal[i].isna()), 1, \n",
    "                      np.nan))\n"
   ]
  },
  {
   "cell_type": "markdown",
   "metadata": {},
   "source": [
    "> Pré-Rotura"
   ]
  },
  {
   "cell_type": "code",
   "execution_count": 166,
   "metadata": {},
   "outputs": [],
   "source": [
    "for i in produtos:\n",
    "    stock  = \"STOCK %s\" % i\n",
    "    preslinear = \"PRESLINEAR %s\" % i\n",
    "    pre_rotura= \"PRÉ-ROTURA %s\" % i\n",
    "    \n",
    "    dfFinal[pre_rotura] = (dfFinal[stock] < dfFinal[preslinear]).astype(int)"
   ]
  },
  {
   "cell_type": "markdown",
   "metadata": {},
   "source": [
    ">Sinal"
   ]
  },
  {
   "cell_type": "code",
   "execution_count": 167,
   "metadata": {},
   "outputs": [],
   "source": [
    "#dfFinal[\"Sinal\"]= pd.Series(dtype='int')\n",
    "\n",
    "# Define the mappings of numbers to strings\n",
    "mapping = {1: \"Verdadeiramente Correcto\",\n",
    "           2: \"Falso Positivo\",\n",
    "           3: \"Falso Negativo\",\n",
    "           4: \"Rejeição Correcta\"}\n",
    "\n",
    "for i in produtos:\n",
    "    sinal = \"SINAL %s\" % i\n",
    "    stock  = \"STOCK %s\" % i\n",
    "    \n",
    "    dfFinal[sinal] = np.where((dfFinal[stock] > 0) & (dfFinal[i] == 1), \"Verdadeiramente Correcto\",\n",
    "                     np.where((dfFinal[stock] > 0) & (dfFinal[i] == 0), \"Falso Positivo\",\n",
    "                     np.where((dfFinal[stock] <= 0) & (dfFinal[i] == 1), \"Falso Negativo\",\n",
    "                     np.where((dfFinal[stock] <= 0) & (dfFinal[i] == 0), \"Rejeição Correcta\", np.nan))))\n",
    "\n",
    "    # Map the numbers to the corresponding strings\n",
    "    dfFinal[sinal] = dfFinal[sinal].map(mapping)\n",
    "    \n",
    "    \n",
    "\n",
    "# 1: Há Stock e Sinal Positivo Ninja\n",
    "# 2: Há Stock e Sinal Negativo Ninja\n",
    "# 3: Não há Stock e Sinal Positivo Ninja\n",
    "# 4: Não há Stock e Sinal Negativo Ninja"
   ]
  },
  {
   "cell_type": "markdown",
   "metadata": {},
   "source": [
    "> Ciclos"
   ]
  },
  {
   "cell_type": "code",
   "execution_count": 168,
   "metadata": {},
   "outputs": [],
   "source": [
    "for i in produtos:\n",
    "    ciclos = \"CICLO %s\" % i\n",
    "    stock  = \"STOCK %s\" % i\n",
    "    linear = \"PRESLINEAR %s\" % i\n",
    "    dfFinal[ciclos]=dfFinal[stock]/dfFinal[linear]"
   ]
  },
  {
   "cell_type": "markdown",
   "metadata": {},
   "source": [
    "> Adequação"
   ]
  },
  {
   "cell_type": "code",
   "execution_count": 169,
   "metadata": {},
   "outputs": [],
   "source": [
    "# Define the mappings of numbers to strings\n",
    "mapping = {1: \"Stock Suficiente\",\n",
    "           2: \"Stock Insuf c Forn Adequado\",\n",
    "           3: \"Stock Insuf c Forn Desadequado\"}\n",
    "\n",
    "for i in produtos:\n",
    "    adequa = \"ADEQUAÇÃO %s\" % i\n",
    "    ciclos = \"CICLO %s\" % i\n",
    "    transito = \"INTRANSIT %s\" % i\n",
    "    esperado = \"EXPECTED %s\" % i\n",
    "    stock  = \"STOCK %s\" % i\n",
    "    linear = \"PRESLINEAR %s\" % i\n",
    "    \n",
    "    dfFinal[adequa] = np.where(dfFinal[ciclos] > 1.1, \"Stock Suficiente\",\n",
    "                      np.where((dfFinal[ciclos] <= 1.1) & (dfFinal[transito] + dfFinal[esperado] + dfFinal[stock] >= dfFinal[linear]), \"Stock Insuf c Forn Adequado\",\n",
    "                      np.where((dfFinal[ciclos] <= 1.1) & (dfFinal[transito] + dfFinal[esperado] + dfFinal[stock] < dfFinal[linear]), \"Stock Insuf c Forn Desadequado\", \n",
    "                      np.nan)))\n",
    "    \n",
    "    # Map the numbers to the corresponding strings\n",
    "    dfFinal[adequa] = dfFinal[adequa].map(mapping)"
   ]
  },
  {
   "cell_type": "markdown",
   "metadata": {},
   "source": [
    "- Dias para a rotura"
   ]
  },
  {
   "cell_type": "code",
   "execution_count": 170,
   "metadata": {},
   "outputs": [],
   "source": [
    "for i in produtos:\n",
    "    stock  = \"STOCK %s\" % i\n",
    "    sellout = \"SELLOUT %s\" % i\n",
    "    dias_rotura = \"Dias_para_Rotura %s\" % i\n",
    "    \n",
    "    dfFinal[dias_rotura]=dfFinal[stock]/dfFinal[sellout]"
   ]
  },
  {
   "cell_type": "markdown",
   "metadata": {},
   "source": [
    "- Dias para a rotura de prateleira"
   ]
  },
  {
   "cell_type": "code",
   "execution_count": 171,
   "metadata": {},
   "outputs": [],
   "source": [
    "for i in produtos:\n",
    "    linear = \"PRESLINEAR %s\" % i\n",
    "    sellout = \"SELLOUT %s\" % i\n",
    "    dias_rotura_prat = \"Dias_para_Rotura_Linear %s\" % i\n",
    "    \n",
    "    dfFinal[dias_rotura] = dfFinal[linear] / dfFinal[sellout]"
   ]
  },
  {
   "cell_type": "markdown",
   "metadata": {},
   "source": [
    "- Balanço"
   ]
  },
  {
   "cell_type": "code",
   "execution_count": 172,
   "metadata": {},
   "outputs": [],
   "source": [
    "for i in produtos:\n",
    "    balanço = \"BALANCE %s\" % i\n",
    "    stock  = \"STOCK %s\" % i\n",
    "    sellout = \"SELLOUT %s\" % i\n",
    "    transito = \"INTRANSIT %s\" % i\n",
    "    esperado = \"EXPECTED %s\" % i\n",
    "    \n",
    "    dfFinal[balanço] = dfFinal[sellout] / (dfFinal[stock] + dfFinal[transito] + dfFinal[esperado])"
   ]
  },
  {
   "cell_type": "markdown",
   "metadata": {},
   "source": [
    "# Acabamos com:\n",
    "- Informação Ninjas\n",
    "- Informação Stocks, Linear, Intransit e Expected\n",
    "- Informação Sellouts, Vendedor, Reposição\n",
    "- Rotura\n",
    "- Pré-Rotura\n",
    "- Sinal \n",
    "- Ciclos\n",
    "- Adequação de Stock\n",
    "- Dias para a rotura normal\n",
    "- Dias para a rotura móvel XXXXXXXXXXX\n",
    "- Dias para a rotura de prateleira\n",
    "- Balanço"
   ]
  },
  {
   "cell_type": "markdown",
   "metadata": {},
   "source": [
    "# Escrever"
   ]
  },
  {
   "cell_type": "code",
   "execution_count": 37,
   "metadata": {},
   "outputs": [],
   "source": [
    "escrever_excel(dfFinal, \"OUT2DataFusion2022\")\n",
    "#dfFinalCorr.to_csv('ficheiro_NSS.csv', index=False)"
   ]
  }
 ],
 "metadata": {
  "kernelspec": {
   "display_name": "Python 3 (ipykernel)",
   "language": "python",
   "name": "python3"
  },
  "language_info": {
   "codemirror_mode": {
    "name": "ipython",
    "version": 3
   },
   "file_extension": ".py",
   "mimetype": "text/x-python",
   "name": "python",
   "nbconvert_exporter": "python",
   "pygments_lexer": "ipython3",
   "version": "3.10.9"
  }
 },
 "nbformat": 4,
 "nbformat_minor": 4
}
