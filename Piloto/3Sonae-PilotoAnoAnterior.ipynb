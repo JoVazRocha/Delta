{
 "cells": [
  {
   "cell_type": "markdown",
   "metadata": {},
   "source": [
    "# Resumo do código\n",
    "\n",
    "### Código que gera o ficheiro: 2_Delta_2022Id\n",
    "---\n",
    "O objectivo é receber dados dos ficheiros totais da Delta e devolver um ficheiro com os dados dos produtos e das lojas relevantes para o estudo da evolução do padrão de vendas (dias homólogos do ano anterior). \n",
    "\n",
    "Devolve um ficheiro que pode entrar no código 2 para juntar aos dados dos ninjas.\n",
    "\n",
    "---\n",
    "- Inputs\n",
    "\n",
    "> __Dados da Delta Todos__: Lojas e produtos todos\n",
    "> - Todas as métricas possíveis de retirar só dos dados Delta\n",
    "\n",
    "\n",
    "- Outputs\n",
    "\n",
    "> **2_Delta_2022Id**:\n",
    "> - Ficheiro com todas as métricas nas datas homólogas correspondentes aos dias em que ocorreram as missões\n"
   ]
  },
  {
   "cell_type": "code",
   "execution_count": 4,
   "metadata": {},
   "outputs": [],
   "source": [
    "import pandas as pd\n",
    "import numpy as np\n",
    "\n",
    "def escrever_excel(dfa, nome):\n",
    "    dfa.to_excel('%s.xlsx' %nome, index=False)\n",
    "    \n",
    "def escrever_csv(dfa, nome):\n",
    "    dfa.to_csv(nome+'.csv', index=False)"
   ]
  },
  {
   "cell_type": "markdown",
   "metadata": {},
   "source": [
    "# Ler ficheiro com tudo e os específicos"
   ]
  },
  {
   "cell_type": "markdown",
   "metadata": {},
   "source": [
    "- Tudo"
   ]
  },
  {
   "cell_type": "code",
   "execution_count": 2,
   "metadata": {},
   "outputs": [
    {
     "name": "stdout",
     "output_type": "stream",
     "text": [
      "CPU times: total: 11.6 s\n",
      "Wall time: 17.6 s\n"
     ]
    }
   ],
   "source": [
    "%%time\n",
    "dfTudo=pd.read_csv('D:\\\\B&N Dados\\\\Delta\\\\Stocks2022\\\\StocksDelta2022.csv')"
   ]
  },
  {
   "cell_type": "markdown",
   "metadata": {},
   "source": [
    "> Passar para datetime"
   ]
  },
  {
   "cell_type": "code",
   "execution_count": 5,
   "metadata": {},
   "outputs": [],
   "source": [
    "dfTudo['DATA']= pd.to_datetime(dfTudo['DATA'], format='%Y-%m-%d')"
   ]
  },
  {
   "cell_type": "markdown",
   "metadata": {},
   "source": [
    "# Encontrar os nomes no dataFrame de tudo"
   ]
  },
  {
   "cell_type": "code",
   "execution_count": 36,
   "metadata": {
    "collapsed": true
   },
   "outputs": [
    {
     "data": {
      "text/plain": [
       "array(['100% SALICÓRNIA MOIDA 45G', 'AZEITONA GALEGA QAMPO FR 210G',\n",
       "       'AZEITONA OXIDADA QAMPO FR 210G',\n",
       "       'BARRA CROFFEE CAF AMEND. CHOCO 3*30G',\n",
       "       'BARRA CROFFEE CAF CARAM SALG 5*22G',\n",
       "       'BARRA CROFFEE CAF. AVEIA CAN AME 5*22G',\n",
       "       'BEBIDA CEREAIS DELTA C/20%CAFE FR 200G',\n",
       "       'BEBIDA CEREAIS DELTA CEREAIS+FIBRA 200G',\n",
       "       'CACAU EM PÓ DELTA 5*25 GR', 'CAFE BELLISSIMO OR 200G',\n",
       "       'CAFFELATTE GO CHILL DELTA 230 ML', 'CAFÉ ANGOLA DELTA 16 PAST',\n",
       "       'CAFÉ BARCO DESCAFÍINADO SACO 500G', 'CAFÉ BARCO GRÃO SACO 500G',\n",
       "       'CAFÉ BARCO MOÍDO 100% CX 250G', 'CAFÉ BELLISSIMO DECAF10 CAPS',\n",
       "       'CAFÉ BELLISSIMO INTENSO 10 CAP', 'CAFÉ BELLISSIMO INTENSO 200GR',\n",
       "       'CAFÉ BELLISSIMO ORIGINALE 10 CAP',\n",
       "       'CAFÉ DELTA BIO MOAGEM UNIVERSAL 220G',\n",
       "       'CAFÉ DELTA CEVADA CHICÓRIA CENTEIO 200G',\n",
       "       'CAFÉ DELTA CHICÓRIA + SOLÚVEL LATA 250',\n",
       "       'CAFÉ DELTA CHÁVENA ÚNICA 2*250G',\n",
       "       'CAFÉ DELTA COLÔMBIA GRÃO 220 G',\n",
       "       'CAFÉ DELTA DESC M UNIVERSAL 220G',\n",
       "       'CAFÉ DELTA DESCAFEÍNADO 16PAST', 'CAFÉ DELTA DRIP COFFEE 5X9 GR',\n",
       "       'CAFÉ DELTA ETHIOPIA MU 220G', 'CAFÉ DELTA EXPRESSO BAR GRAO 1KG',\n",
       "       'CAFÉ DELTA GOLD GRÃO 500G', 'CAFÉ DELTA INDIA MU 220G',\n",
       "       'CAFÉ DELTA LOTE CHÁVENA 16PAST',\n",
       "       'CAFÉ DELTA LOTE CHÁVENA GRÃO 1KG',\n",
       "       'CAFÉ DELTA LOTE CHÁVENA GRÃO 250G',\n",
       "       'CAFÉ DELTA LOTE SUPERIOR GRÃO 1KG',\n",
       "       'CAFÉ DELTA MOAGEM UNIVER COLOMBIA 220G',\n",
       "       'CAFÉ DELTA MOAGEM UNIVER INDONESIA 220G',\n",
       "       'CAFÉ DELTA MOAGEM UNIVERSAL ANGOLA 220G',\n",
       "       'CAFÉ DELTA MOAGEM UNIVERSAL BRASIL 220G',\n",
       "       'CAFÉ DELTA MOAGEM UNIVERSAL CLASSIC 250G',\n",
       "       'CAFÉ DELTA MOAGEM UNIVERSAL TIMOR 220G',\n",
       "       'CAFÉ DELTA MOAGEM UNIVERSAL VIETNAM 220G',\n",
       "       'CAFÉ DELTA PLATINUM 16PAST', 'CAFÉ DELTA PLATINUM GRAO 500G',\n",
       "       'CAFÉ DELTA PLATINUM M ÚNICA LATA 250G',\n",
       "       'CAFÉ DELTA PORTUGAL MU 220G', 'CAFÉ DELTA PORTUGAL MU 250G',\n",
       "       'CAFÉ DELTA Q AQTIVUS 10CAP', 'CAFÉ DELTA Q BIO 10CAP',\n",
       "       'CAFÉ DELTA Q BRASIL 10CAP', 'CAFÉ DELTA Q BREAQFAST 10CAP',\n",
       "       'CAFÉ DELTA Q CANELA 10CAP', 'CAFÉ DELTA Q COMENDADOR 10 CAP',\n",
       "       'CAFÉ DELTA Q DELIQATUS 10CAP', 'CAFÉ DELTA Q DEQAFEINATUS 10CAP',\n",
       "       'CAFÉ DELTA Q DEQAFEINATUS XL 40CAP', 'CAFÉ DELTA Q DOUBLE 10CAP',\n",
       "       'CAFÉ DELTA Q EPIQ 10 CAP', 'CAFÉ DELTA Q EQO 10CAP',\n",
       "       'CAFÉ DELTA Q ETHIOPIA 10CAP', 'CAFÉ DELTA Q FRENCH ROAST 10CAP',\n",
       "       'CAFÉ DELTA Q JAMAICA 10CAP', 'CAFÉ DELTA Q KENYA 10CAP',\n",
       "       'CAFÉ DELTA Q MYTHIQ 10CAP', 'CAFÉ DELTA Q MYTHIQ 80CAP',\n",
       "       'CAFÉ DELTA Q MYTHIQ XL 40CAP', 'CAFÉ DELTA Q ORIGENS 40 CAP',\n",
       "       'CAFÉ DELTA Q QALIDUS 10CAP', 'CAFÉ DELTA Q QALIDUS 40CAP',\n",
       "       'CAFÉ DELTA Q QALIDUS 80CAP', 'CAFÉ DELTA Q QALIDUS DESC 10 CAP',\n",
       "       'CAFÉ DELTA Q QHARACTER 10CAP', 'CAFÉ DELTA Q QHARACTER 40CAP',\n",
       "       'CAFÉ DELTA Q QHARISMA 10 CAP', 'CAFÉ DELTA Q QIDS 10CAP',\n",
       "       'CAFÉ DELTA Q QONVICTUS 10CAP',\n",
       "       'CAFÉ DELTA Q ROAST COL DARK 10CAP',\n",
       "       'CAFÉ DELTA Q ROAST COL MEDIUM 10CAP',\n",
       "       'CAFÉ DELTA Q ROAST COL SMOOTH 10UNID', 'CAFÉ DELTA Q SOFT 10CAP',\n",
       "       'CAFÉ DELTA Q SPANISH ROAST 10CAP', 'CAFÉ DELTA Q TANZANIA 10CAP',\n",
       "       'CAFÉ DELTA Q TIMOR 10CAP', 'CAFÉ DELTA Q VIETNAM 10 CAP',\n",
       "       'CAFÉ DELTA RITUAL MU 220G', 'CAFÉ DELTA SOLÚVEL CREME 160 G',\n",
       "       'CAFÉ DELTA SOLÚVEL CREME 80 GR',\n",
       "       'CAFÉ DELTA SOLÚVEL INTENSO 200GR',\n",
       "       'CAFÉ DELTA SOLÚVEL S/CAFEINA FR 100G', 'CAFÉ GINGA LOBITO 1 KG',\n",
       "       'CAFÉ MISTURA DELTA IBÉRICA M MÁQ 250G',\n",
       "       'CAFÉ MISTURA DELTA PENINSULAR M MÁQ 250G',\n",
       "       'CAFÉ MOÍDO MÁQUINA CHÁVENA DELTA 250G',\n",
       "       'CAFÉ MOÍDO SACO CHÁVENA DELTA 250G',\n",
       "       'CAFÉ MOÍIDO BARCO FAMILIAR 50/50 CX250G',\n",
       "       'CAFÉ SOL DELTA GRANCAFE GOLD FR 200G',\n",
       "       'CAFÉ SOLÚVEL DELTA C/CAFÉINA 10*2G',\n",
       "       'CAFÉ SOLÚVEL DELTA CAPPUCCINO 10*14G',\n",
       "       'CAFÉ SOLÚVEL DELTA FRASCO 100G', 'CAFÉ SOLÚVEL DELTA FRASCO 200G',\n",
       "       'CAFÉ SOLÚVEL DELTA GRANCAFE GOLD 100G',\n",
       "       'CAFÉ SOLÚVEL DELTA INTENSO FRASCO 100G',\n",
       "       'CAFÉ SOLÚVEL DELTA PACK POUP 2*200G',\n",
       "       'CAFÉS DELTA CEVADA + CHICÓRIA 200GR',\n",
       "       'CAPPUCCIN AVEIA BIO DELTA GO CHILL 230ML',\n",
       "       'CAPPUCCINO GO CHILL DELTA 230 ML',\n",
       "       'CAPPUCCINO+CARAMEL GO CHILL L3P2',\n",
       "       'CARAMEL MACCHIATO GO CHILL DELTA 230ML',\n",
       "       'CERV C/ALC BUDWEISER TP 25CL', 'CERV C/ALC CORONITA 21 CL',\n",
       "       'CERV C/ALC FRANZISKANER TP 35,5CL',\n",
       "       'CERV. C/ALC. FRANZISKANER DUNKEL TP 50CL',\n",
       "       'CERV. C/ALC. T/P BUD 33CL', 'CERV.C/ALC.LEFFE BLONDE 33CL',\n",
       "       'CERV.C/ALC.T/P CORONA 35,5CL',\n",
       "       'CERV.C/ALC.T/P FRANZISKANER WEISSBI.50CL',\n",
       "       \"CERV.C/ALCCOL T/P BECK'S 27.5 CL\",\n",
       "       'CERV.C/ÁLC.LEFFE TP BRUNE 33CL',\n",
       "       'CERV.C/ÁLC.STELLA ARTOIS TP 33 CL',\n",
       "       'CERVEJA C/ALCOOL HOEGAARDEN 33CL',\n",
       "       'CEVADA DELTA ESPECIAL M MÁQUINA 250G',\n",
       "       'CEVADA DELTA Q PURE 10CAP', 'CEVADA SOLÚVEL DELTA FRASCO 200G',\n",
       "       'CHA TETLEY MAÇA E CANELA 10SAQ', 'CHA TETLEY VERDE MATCHA 20 SAQ',\n",
       "       'CHÁ MIRTILO MATCHA TETLEY 20 SAQ',\n",
       "       'CHÁ TETLEY CALM CAMOMILA LIMÃO 20SAQ',\n",
       "       'CHÁ TETLEY CAMOMILA 10SAQ', 'CHÁ TETLEY CAMOMILA LIMÃO 10 SAQ',\n",
       "       'CHÁ TETLEY CIDREIRA 10SAQ', 'CHÁ TETLEY CIDREIRA 20SAQ',\n",
       "       'CHÁ TETLEY CIDREIRA MEL 10SAQ',\n",
       "       'CHÁ TETLEY COLD ARANDO&LIMA 10SAQ',\n",
       "       'CHÁ TETLEY COLD LIMÃO LIMA 10SAQ',\n",
       "       'CHÁ TETLEY COLD MIRTILO MAÇÃ 10SAQ',\n",
       "       'CHÁ TETLEY COLD MORANGO E MANGA 10SAQ',\n",
       "       'CHÁ TETLEY COLD MORANGO E MAÇÃ 10 SAQ',\n",
       "       'CHÁ TETLEY HIBISCO ROSA MOSQUETA 20SAQ',\n",
       "       'CHÁ TETLEY HIBISCUS LARANJA 10SAQ',\n",
       "       'CHÁ TETLEY HIBISCUS MIRTILO FRA.10SAQ',\n",
       "       'CHÁ TETLEY HIBISCUS, F.VERMELHOS 20SAQ',\n",
       "       'CHÁ TETLEY LÚCIA LIMA 10SAQ', 'CHÁ TETLEY MAÇÃ E CANELA 10SAQ',\n",
       "       'CHÁ TETLEY MENTA 10SAQ', 'CHÁ TETLEY PRETO 10SAQ',\n",
       "       'CHÁ TETLEY PRETO 20SAQ', 'CHÁ TETLEY PRETO DESCAFEÍNADO 10SAQ',\n",
       "       'CHÁ TETLEY SERENITY 20SAQ', 'CHÁ TETLEY SUPERTEA DEFFENCE 20 SAQ',\n",
       "       'CHÁ TETLEY SUPERTEA DIGESTION 20SAQ',\n",
       "       'CHÁ TETLEY SUPERTEA SWEETDREAMS 20SAQ', 'CHÁ TETLEY TÍLIA 10SAQ',\n",
       "       'CHÁ TETLEY VERDE 10SAQ', 'CHÁ TETLEY VERDE 30G 20SAQ',\n",
       "       'CHÁ TETLEY VERDE DETOX MENTA 20SAQ',\n",
       "       'CHÁ VERDE TETLEY MEL E LIMÃO 10SAQ',\n",
       "       'CHÁ VERDE TETLEY SUAVE AMORA FRAMB 10SAQ',\n",
       "       'CHÁ VERDE TETLEY SUAVE MANGA 10SAQ',\n",
       "       'CHÁ VERDE TETLEY SUAVE MENTA 10SAQ',\n",
       "       'DOUBLE ESPRESSO GO CHILL DELTA 230ML',\n",
       "       'GG VT AD MAYOR RES COMENDAD REG ALEN 75C',\n",
       "       'INF TETLEY BOOST VIT BPRETO 20SAQ',\n",
       "       'INF TETLEY BOOST VITB ARANDO&FRAM 20SAQ',\n",
       "       'INFUSÃO TETLEY CAMOMILA 20SAQ',\n",
       "       'INFUSÃO TETLEY FRUTOS DO BOSQUE 20SAQ',\n",
       "       'INFUSÃO TETLEY FRUTOS VERMELHOS 10SAQ',\n",
       "       'INFUSÃO TETLEY FRUTOS VERMELHOS 20SAQ',\n",
       "       'INFUSÃO TETLEY IMUNE VIT LIMAO 20SAQ',\n",
       "       'INFUSÃO TETLEY MIRTILO&AÇAI 20SAQ',\n",
       "       'INFUSÃO TETLEY ROMÃ&FRAMB 20SAQ',\n",
       "       'LATTE MACCHIATO GO CHILL S/LAC 230ML',\n",
       "       'MIX SALICORNIA CARNE QAMPO', 'MIX SALICORNIA MASSAS QAMPO 50G',\n",
       "       'MIX SALICORNIA PEIXES QAMPO', 'PACK CAFÉ DELTA Q EPIQ 60CAP',\n",
       "       'PACK CAFÉ DELTA Q GRAND EPIQ 72+8 CAP',\n",
       "       'PACK CAFÉ DELTA Q GRAND MYTHIQ 72+8 CAP',\n",
       "       'PACK CAFÉ DELTA Q GRAND QALIDUS 72+8 CAP',\n",
       "       'PACK CAFÉ DELTA Q INTENSIDADE 40CAP',\n",
       "       'PACK CAFÉ DELTA Q MYTHIQ XXL 60 CAP',\n",
       "       'PACK CAFÉ DELTA Q QALIDUS 60CAP',\n",
       "       'PACK CAFÉ DELTA Q QHARACTER 60CAP',\n",
       "       'PACK CAFÉ DELTA Q QHARISMA 40 CAP',\n",
       "       'PACK CERV OKCTOBERFEST 4X50CL',\n",
       "       'REF C/GÁS FRAMBOESA TOMILHO WHY NOT 33CL',\n",
       "       'REF C/GÁS PÊSSEGO GENGIBRE 33CL',\n",
       "       'REF C/GÁS PÊSSEGO GENGIBRE WHY NOT 33CL',\n",
       "       'REF. C/GÁS COLA NATURAL WHY NOT 33CL',\n",
       "       \"SODA ARTESAN LEMON'MATE WHY NOT BIO 33CL\",\n",
       "       \"SODA ARTESAN LEMON'MATE WHYNOT BIO 33CL\",\n",
       "       'TISANAS DELTA Q PURIFY 10CAP', 'TISANAS DELTA Q RELAX 10CAP',\n",
       "       'VB AD MAYOR RES COMENDAD REG ALENT 75',\n",
       "       'VB ADEGA MAYOR RES REG ALENT 75CL',\n",
       "       'VB DIZERES ADEGA MAYOR ALENTEJO 75CL',\n",
       "       'VB MONTE MAYOR SELEÇÃO REG ALENT 75CL',\n",
       "       'VT ADEGA MAYOR RES REG ALENT 75CL',\n",
       "       'VT ADEGA MAYOR TN REG ALENT 75CL',\n",
       "       'VT DIZERES ADEGA MAYOR ALENTEJO 75CL'], dtype=object)"
      ]
     },
     "execution_count": 36,
     "metadata": {},
     "output_type": "execute_result"
    }
   ],
   "source": [
    "#dfTudo['DESC_ARTIGO'].sort_values().unique()\n",
    "\n",
    "\n",
    "#Lojas:\n",
    "                  #Reposição=Sim\n",
    "#CNT AMADORA\n",
    "#CNT BRAGA\n",
    "#CNT CASCAIS\n",
    "#CNT COIMBRASHOPPING\n",
    "#CNT MATOSINHOS\n",
    "                  #Reposição=Não\n",
    "#CNT LEIRIA\n",
    "#CNT SANTAREM\n",
    "#CNT VIANA\n",
    "#MDL T. VEDRAS                                              \n",
    "#CNT PORTIMÃO\n",
    "\n",
    "#CAFÉ DELTA Q QALIDUS 80CAP\n",
    "#CAFÉ DELTA Q MYTHIQ 80CAP\n",
    "#CAFÉ DELTA Q QALIDUS 10CAP\n",
    "#CAFÉ MOÍDO MÁQUINA CHÁVENA DELTA 250G\n",
    "#CAFÉ BELLISSIMO INTENSO 200GR\n",
    "#CAFÉ DELTA RITUAL MU 220G\n",
    "#CAFÉ SOLÚVEL DELTA FRASCO 200G\n",
    "#CAFÉ SOLÚVEL DELTA FRASCO 100G\n",
    "#CEVADA SOLÚVEL DELTA FRASCO 200G\n",
    "\n",
    "#Produto novo"
   ]
  },
  {
   "cell_type": "markdown",
   "metadata": {},
   "source": [
    "# Fazer subsets da dataFrame total"
   ]
  },
  {
   "cell_type": "markdown",
   "metadata": {},
   "source": [
    "> - Por loja e produto"
   ]
  },
  {
   "cell_type": "code",
   "execution_count": 6,
   "metadata": {},
   "outputs": [],
   "source": [
    "# Ler ficheiro para dataframe\n",
    "df_produtos = pd.read_csv('D:\\\\B&N Dados\\\\Delta\\\\Piloto\\\\produtos.txt', header=None)\n",
    "df_lojas = pd.read_csv('D:\\\\B&N Dados\\\\Delta\\\\Piloto\\\\lojas.txt', header=None)\n",
    "\n",
    "# Passar para uma lista\n",
    "produtos = df_produtos[0].tolist()\n",
    "lojas = df_lojas[0].tolist()\n",
    "\n",
    "#produtos=[\"CAFÉ DELTA Q QALIDUS 80CAP\",\"CAFÉ DELTA Q MYTHIQ 80CAP\",\"CAFÉ DELTA Q QALIDUS 10CAP\",\"CAFÉ MOÍDO MÁQUINA CHÁVENA DELTA 250G\",\"CAFÉ BELLISSIMO INTENSO 200GR\",\"CAFÉ DELTA RITUAL MU 220G\",\"CAFÉ SOLÚVEL DELTA FRASCO 200G\",\"CAFÉ SOLÚVEL DELTA FRASCO 100G\",\"CEVADA SOLÚVEL DELTA FRASCO 200G\",\"BEBIDA CEREAIS DELTA C/20%CAFE FR 200G\"]\n",
    "#lojas=[\"CNT AMADORA\",\"CNT BRAGA\",\"CNT CASCAIS\",\"CNT COIMBRASHOPPING\",\"CNT MATOSINHOS\",\"CNT LEIRIA\",\"CNT SANTAREM\",\"CNT VIANA\",\"MDL T. VEDRAS\",\"CNT PORTIMÃO\"]"
   ]
  },
  {
   "cell_type": "code",
   "execution_count": 7,
   "metadata": {},
   "outputs": [],
   "source": [
    "# Definir o dataframe final apenas tendo em conta as lojas e os produtos requeridos\n",
    "\n",
    "dfFinal = dfTudo[dfTudo['STORE_NAME'].isin(Lojas) & dfTudo['DESC_ARTIGO'].isin(produtos)].copy()"
   ]
  },
  {
   "cell_type": "markdown",
   "metadata": {},
   "source": [
    "# Temos\n",
    "- dfFinal com as métricas todas\n",
    "\n",
    "# Queremos\n",
    "- Reposição\n",
    "- Dias específicos\n",
    "- Colunas de dia e semana\n",
    "- ID"
   ]
  },
  {
   "cell_type": "markdown",
   "metadata": {},
   "source": [
    "# Fins de Semana e Semana"
   ]
  },
  {
   "cell_type": "markdown",
   "metadata": {},
   "source": [
    "- função separar fins de semana"
   ]
  },
  {
   "cell_type": "code",
   "execution_count": 10,
   "metadata": {},
   "outputs": [],
   "source": [
    "#Função para definir qual fim de semana queremos pedir\n",
    "def fds(nome, df, numero):\n",
    "    a = int(numero)\n",
    "    b = 3*(a-1)\n",
    "    nome=df[b:b+3].copy()\n",
    "    return nome\n"
   ]
  },
  {
   "cell_type": "markdown",
   "metadata": {},
   "source": [
    "> - Extrair apenas os fins de semana"
   ]
  },
  {
   "cell_type": "code",
   "execution_count": 11,
   "metadata": {},
   "outputs": [],
   "source": [
    "dfFds = dfFinal[dfFinal['DATA'].dt.weekday.isin([4,5,6])].copy()         #Sexta, Sábado e Domingo\n",
    "#dfSemana = dfJuntos[dfJuntos['DATA'].dt.weekday.isin([0,1,2,3])]    #Segunda a Quinta"
   ]
  },
  {
   "cell_type": "markdown",
   "metadata": {},
   "source": [
    "> - Fins de semana homólogos"
   ]
  },
  {
   "cell_type": "code",
   "execution_count": 12,
   "metadata": {},
   "outputs": [],
   "source": [
    "#Dias em causa (1 fds depois da páscoa)\n",
    "dfFdsPiloto=dfFds.loc[(dfFds['DATA'] >= '2022-04-22') & (dfFds['DATA'] <= '2022-05-15')].copy()\n",
    "\n",
    "#Organizar para dar para ler mais facilmente\n",
    "dfFdsPiloto=dfFdsPiloto.sort_values(by=[\"STORE\", \"DESC_ARTIGO\",\"DATA\"])"
   ]
  },
  {
   "cell_type": "markdown",
   "metadata": {},
   "source": [
    "> - Colunas para a **semana** e o **dia**"
   ]
  },
  {
   "cell_type": "code",
   "execution_count": 13,
   "metadata": {},
   "outputs": [],
   "source": [
    "# Copiar para fazer alterações mantendo o original\n",
    "dfFdsFinal = dfFdsPiloto.copy()\n",
    "\n",
    "#Semana\n",
    "dfFdsFinal['Semana'] = dfFdsFinal['DATA'].dt.isocalendar().week\n",
    "dfFdsFinal['Semana'] = dfFdsFinal.groupby('Semana').ngroup() + 1\n",
    "\n",
    "#Dia\n",
    "nome_dia = dfFdsFinal['DATA'].dt.day_name().map({'Friday': 'Sexta', 'Saturday': 'Sábado', 'Sunday': 'Domingo'})\n",
    "dfFdsFinal['Dia'] = nome_dia"
   ]
  },
  {
   "cell_type": "markdown",
   "metadata": {},
   "source": [
    " - Criar um **índice** para cada dia"
   ]
  },
  {
   "cell_type": "code",
   "execution_count": 14,
   "metadata": {},
   "outputs": [],
   "source": [
    "df=dfFdsFinal.copy()\n",
    "\n",
    "# Extract the day and month components from the 'datetime' column\n",
    "df['day'] = pd.to_datetime(df['DATA']).dt.day\n",
    "df['month'] = pd.to_datetime(df['DATA']).dt.month\n",
    "\n",
    "# Create a new column combining day and month\n",
    "df['day_month'] = df['day'].astype(str) + '-' + df['month'].astype(str)\n",
    "\n",
    "# Assign unique IDs to each unique day-month combination\n",
    "df['id'], _ = pd.factorize(df['day_month'])\n",
    "\n",
    "df = df.drop(columns=['day', 'month', 'day_month'])"
   ]
  },
  {
   "cell_type": "markdown",
   "metadata": {},
   "source": [
    "# Temos:\n",
    "- Uma base apenas com os fins de semana em causa com todas as métricas que estavam até agora mais a **Semana**, o **Dia** e o **Id** para poder ser mergido."
   ]
  },
  {
   "cell_type": "markdown",
   "metadata": {},
   "source": [
    "# Escrever"
   ]
  },
  {
   "cell_type": "code",
   "execution_count": 48,
   "metadata": {},
   "outputs": [],
   "source": [
    "escrever_excel(df, \"2_Delta_2022Id\")"
   ]
  },
  {
   "cell_type": "markdown",
   "metadata": {},
   "source": [
    "# Média de Stock por loja e produto"
   ]
  },
  {
   "cell_type": "code",
   "execution_count": 19,
   "metadata": {},
   "outputs": [],
   "source": [
    "file1MedSto = dfFdsPiloto.groupby(['STORE_NAME', 'DESC_ARTIGO'])['SOH'].mean().reset_index()\n",
    "file1StdSto = dfFdsPiloto.groupby(['STORE_NAME', 'DESC_ARTIGO'])['SOH'].std().reset_index()\n",
    "\n",
    "stocks1 = pd.merge(file1MedSto, file1StdSto[['STORE_NAME', 'DESC_ARTIGO', 'SOH']], on=['STORE_NAME', 'DESC_ARTIGO'])\n",
    "stocks1 = stocks1.rename(columns={'SOH_x': 'Stock_médio_Fds', 'SOH_y': 'sdSto'})"
   ]
  }
 ],
 "metadata": {
  "kernelspec": {
   "display_name": "Python 3 (ipykernel)",
   "language": "python",
   "name": "python3"
  },
  "language_info": {
   "codemirror_mode": {
    "name": "ipython",
    "version": 3
   },
   "file_extension": ".py",
   "mimetype": "text/x-python",
   "name": "python",
   "nbconvert_exporter": "python",
   "pygments_lexer": "ipython3",
   "version": "3.10.9"
  }
 },
 "nbformat": 4,
 "nbformat_minor": 2
}
