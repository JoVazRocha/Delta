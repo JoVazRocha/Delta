{
 "cells": [
  {
   "cell_type": "markdown",
   "metadata": {},
   "source": [
    "# Resumo do código\n",
    "\n",
    "### Código que gera o ficheiro: 2_Delta\n",
    "---\n",
    "O objectivo é receber dados dos ficheiros totais da Delta e devolver um ficheiro com os dados dos produtos e das lojas relevantes para as missões realizadas nos dias em que foram realizadas as missões. \n",
    "\n",
    "Devolve um <u>ficheiro que pode entrar no código 2</u> para juntar aos dados dos ninjas.\n",
    "\n",
    "---\n",
    "- Inputs\n",
    "\n",
    "> __Dados da Delta Todos__: Lojas e produtos todos\n",
    "> - Todas as métricas possíveis de retirar só dos dados Delta\n",
    "\n",
    "\n",
    "- Outputs\n",
    "\n",
    "> **2_Delta**:\n",
    "> - Ficheiro com todas as métricas nas datas correspondentes aos dias em que ocorreram as missões\n"
   ]
  },
  {
   "cell_type": "code",
   "execution_count": 1,
   "metadata": {},
   "outputs": [],
   "source": [
    "import pandas as pd\n",
    "import numpy as np\n",
    "\n",
    "def escrever_excel(dfa, nome):\n",
    "    dfa.to_excel('%s.xlsx' %nome, index=False)\n",
    "    \n",
    "def escrever_csv(dfa, nome):\n",
    "    dfa.to_csv(nome+'.csv', index=False)"
   ]
  },
  {
   "cell_type": "markdown",
   "metadata": {},
   "source": [
    "# Ler ficheiro com tudo e os específicos"
   ]
  },
  {
   "cell_type": "markdown",
   "metadata": {},
   "source": [
    "- Tudo"
   ]
  },
  {
   "cell_type": "code",
   "execution_count": 4,
   "metadata": {},
   "outputs": [
    {
     "name": "stdout",
     "output_type": "stream",
     "text": [
      "CPU times: total: 375 ms\n",
      "Wall time: 396 ms\n"
     ]
    }
   ],
   "source": [
    "%%time\n",
    "#dfTudo=pd.read_csv('D:\\\\B&N Dados\\\\Delta\\\\Stocks2023\\\\StocksDelta2023.csv')\n",
    "\n",
    "dfTudo=pd.read_excel('D:\\\\B&N Dados\\\\Delta\\\\Padrão_05_2023\\\\2_Delta2.xlsx', sheet_name=\"Sheet2\")"
   ]
  },
  {
   "cell_type": "markdown",
   "metadata": {},
   "source": [
    "> Passar para datetime"
   ]
  },
  {
   "cell_type": "code",
   "execution_count": 10,
   "metadata": {},
   "outputs": [],
   "source": [
    "dfTudo['DATA']= pd.to_datetime(dfTudo['DATA'], format='%Y-%m-%d')"
   ]
  },
  {
   "cell_type": "markdown",
   "metadata": {},
   "source": [
    "# Encontrar os nomes no dataFrame de tudo"
   ]
  },
  {
   "cell_type": "code",
   "execution_count": 11,
   "metadata": {
    "collapsed": true
   },
   "outputs": [
    {
     "data": {
      "text/plain": [
       "array(['CBD ALBERGARIA', 'CBD ALCANTARILHA', 'CBD ALCOCHETE',\n",
       "       'CBD ALFORNELOS', 'CBD ALFRAGIDE', 'CBD ALGÉS', 'CBD ALPENDURADA',\n",
       "       'CBD ALPIARCA', 'CBD ALVALADE', 'CBD AMIAL', 'CBD AQUA DE ROMA',\n",
       "       'CBD AREOSA', 'CBD ARMAÇAO DE PERA', 'CBD ARRUDA VINHOS',\n",
       "       'CBD ASPRELA', 'CBD AV BOAVISTA', 'CBD AVANCA',\n",
       "       'CBD AVEIRO ESTAÇÃO', 'CBD BAGUIM DO MONTE', 'CBD BAIXA BANHEIRA',\n",
       "       'CBD BARBOSA BOCAGE', 'CBD BARCELOS', 'CBD BOUCINHAS',\n",
       "       'CBD BRAGA QT PORTAS', 'CBD BRAGA S JOSE', 'CBD BREJOS AZEITÃO',\n",
       "       'CBD BUARCOS FIG FOZ', 'CBD CABECA SANTA', 'CBD CABECEIRAS BASTO',\n",
       "       'CBD CALDAS RAINHA', 'CBD CALDAS TAIPAS', 'CBD CAMPO 24 AGOSTO',\n",
       "       'CBD CAMPO MAIOR', 'CBD CANEDO', 'CBD CANEÇAS', 'CBD CANIDELO',\n",
       "       'CBD CARNAXIDE', 'CBD CARVALHOS', 'CBD CASTELO BRANCO',\n",
       "       'CBD CASTRO DAIRE', 'CBD CC ROMA', 'CBD CELEIRÓS',\n",
       "       'CBD CHARNECA CAPARIC', 'CBD CHAVES', 'CBD CHOUPAL-ALVERCA',\n",
       "       'CBD COIMBRA AUTOIND', 'CBD CONDEIXA', 'CBD COVA DA PIEDADE',\n",
       "       'CBD COVILHA', 'CBD CRUZ DE PAU', 'CBD DARQUE',\n",
       "       'CBD DEFENSORES CHAVE', 'CBD DUQUE DE LOULÉ', 'CBD ENTRONCAMENTO',\n",
       "       'CBD ERICEIRA', 'CBD ERMESINDE', 'CBD ESMORIZ', 'CBD ESPINHO',\n",
       "       'CBD ESTARREJA', 'CBD FABRICA COBRE', 'CBD FARO BOM JOAO',\n",
       "       'CBD FARO MONTENEGRO', 'CBD FIÃES', 'CBD FÁTIMA',\n",
       "       'CBD GANDARA OLIVAIS', 'CBD GANDRA PAREDES', 'CBD GOLEGÃ',\n",
       "       'CBD GOUVEIA', 'CBD GRIJÓ', 'CBD GUARDA', 'CBD LARANJEIRO',\n",
       "       'CBD LAVRA', 'CBD LECA', 'CBD LEIRIA MARRAZES',\n",
       "       'CBD MACED CAVALEIROS', 'CBD MASSAMA NRT', 'CBD MASSAMA SUL',\n",
       "       'CBD MASSARELOS', 'CBD MATOSINHOS', 'CBD MATOSINHOS RP',\n",
       "       'CBD MONTE CAPARICA', 'CBD MONTE DA VIRGEM', 'CBD MONTEMOR O NOVO',\n",
       "       'CBD MOURA', 'CBD NORTESHOPPING', 'CBD OIA', 'CBD OLHÃO',\n",
       "       'CBD OLIVEIRA HOSPITA', 'CBD PADRÃO DA LÉGUA', 'CBD PAREDE II',\n",
       "       'CBD PONTE DA BARCA', 'CBD PONTE DE PEDRA', 'CBD PROF MOTA PINTO',\n",
       "       'CBD PÓVOA LANHOSO', 'CBD PÓVOA STª IRIA', 'CBD QUELUZ P COUCEIR',\n",
       "       'CBD QUINTA DO ANJO', 'CBD QUINTA MARQUÊS', 'CBD RAMALDE',\n",
       "       'CBD RP MATOSINHOS', 'CBD S BRAS ALPORTEL', 'CBD S JOAO MADEIRA',\n",
       "       'CBD S. JOAO FOZ', 'CBD S.MARCOS-SINTRA', 'CBD SACAVEM',\n",
       "       'CBD SANTA COMBA DÃO', 'CBD SANTIAGO CACÉM',\n",
       "       'CBD SANTO AMARO OEIR', 'CBD SANTO ANDRE', 'CBD SEIA',\n",
       "       'CBD SERPA PINTO PRT', 'CBD SERTÃ', 'CBD SETUBAL VARIANTE',\n",
       "       'CBD SOBRAL M AGRAÇO', 'CBD SOBREDA', 'CBD STA MARIA LAMAS',\n",
       "       'CBD TONDELA', 'CBD TORRES V ARENES', 'CBD UCV BENFICA',\n",
       "       'CBD V NOVA CERVEIRA', 'CBD V PRAIA ANCORA',\n",
       "       'CBD V REAL S ANTONIO', 'CBD VALE FORMOSO', 'CBD VALENÇA',\n",
       "       'CBD VENDAS NOVAS', 'CBD VIALONGA', 'CBD VIEIRA DE LEIRIA',\n",
       "       'CBD VILA DO CONDE', 'CBD VILA VERDE', 'CBD VIZ 5 DE OUTUBRO',\n",
       "       'CBD VIZ ALM. BARROSO', 'CBD VIZ AMADORA', 'CBD VIZ AV PARIS',\n",
       "       'CBD VIZ AV REPUB. LX', 'CBD VIZ AV REPUBLICA', 'CBD VIZ BENFICA',\n",
       "       'CBD VIZ BNF AG COSTA', 'CBD VIZ BOM SUCESSO',\n",
       "       'CBD VIZ CAMPO GRANDE', 'CBD VIZ CARL. MARDEL',\n",
       "       'CBD VIZ CARNAXD WTC', 'CBD VIZ COLOMBO', 'CBD VIZ GEN ROÇADAS',\n",
       "       'CBD VIZ GOMES FREIRE', 'CBD VIZ MAIA', 'CBD VIZ MARTIM MONIZ',\n",
       "       'CBD VIZ ODIV. PLAZA', 'CBD VIZ OEIRAS', 'CBD VIZ PRELADA',\n",
       "       'CBD VIZ QUELUZ', 'CBD VIZ RESTELO', 'CBD VIZ RUA DA PALMA',\n",
       "       'CBD VIZ S. JOÃO VER', 'CBD VIZ STA QUITERIA', 'CBD VIZ SÃO BENTO',\n",
       "       'CBD VIZ VIA CATARINA', 'CBD VIZ VIA RÁPIDA', 'CBD VIZ VIANA EST.',\n",
       "       'CBD VIZ XABREGAS', 'CBD ÓBIDOS', 'CNT AMADORA', 'CNT ANTAS',\n",
       "       'CNT ARRABIDA', 'CNT AVEIRO', 'CNT BARREIRO', 'CNT BEJA',\n",
       "       'CNT BRAGA', 'CNT BRAGA N. ARCADA', 'CNT CASCAIS',\n",
       "       'CNT COIMBRASHOPPING', 'CNT COLOMBO', 'CNT COVILHA', 'CNT EVORA',\n",
       "       'CNT FÓRUM COIMBRA', 'CNT GAIASHOPPING', 'CNT GUIA',\n",
       "       'CNT GUIMARAES', 'CNT LEIRIA', 'CNT LOULÉ', 'CNT LOURESHOPPING',\n",
       "       'CNT MAFRA', 'CNT MAIA', 'CNT MAIA JARDIM', 'CNT MATOSINHOS',\n",
       "       'CNT MONTIJO', 'CNT OEIRAS', 'CNT OVAR', 'CNT PORTIMÃO',\n",
       "       'CNT PORTIMÃO 2', 'CNT S.AT CAVALEIROS', 'CNT S.J. MADEIRA',\n",
       "       'CNT SANTAREM', 'CNT SEIXAL', 'CNT TAVIRA G PLAZA',\n",
       "       'CNT TELHEIRAS', 'CNT TORRES NOVAS', 'CNT VALONGO',\n",
       "       'CNT VASCO GAMA', 'CNT VIANA', 'CNT VILA REAL', 'CNT VISEU',\n",
       "       'MDL ABRANTES', 'MDL AGUEDA', 'MDL ALBUFEIRA', 'MDL ALCOBACA',\n",
       "       'MDL ALHOS VEDROS', 'MDL ALMEIRIM', 'MDL ALTA LISBOA',\n",
       "       'MDL ALTO DO LUMIAR', 'MDL ALVERCA', 'MDL AMARANTE', 'MDL ANADIA',\n",
       "       'MDL ARROJA', 'MDL AVINTES', 'MDL BARCELOS', 'MDL BARREIRO',\n",
       "       'MDL BEJA RETAIL', 'MDL BELAS', 'MDL BOMBARRAL', 'MDL BRAGA',\n",
       "       'MDL BRAGANCA', 'MDL C. BRANCO', 'MDL CACÉM', 'MDL CALDAS',\n",
       "       'MDL CAMACHA', 'MDL CANCELA', 'MDL CANIÇO', 'MDL CANTANHEDE',\n",
       "       'MDL CARCAVELOS', 'MDL CARREGADO', 'MDL CARTAXO', 'MDL CHAVES',\n",
       "       'MDL COIMBRA EIRAS', 'MDL CÂMARA DE LOBOS', 'MDL ELVAS',\n",
       "       'MDL ERMESINDE', 'MDL ESPOSENDE', 'MDL ESTORIL', 'MDL ESTREITO',\n",
       "       'MDL ESTREMOZ', 'MDL FAFE', 'MDL FAMALICÃO', 'MDL FANZERES',\n",
       "       'MDL FARO II', 'MDL FELGUEIRAS', 'MDL FIGUEIRA FOZ', 'MDL FUNDÃO',\n",
       "       'MDL GAIA', 'MDL GRANDOLA', 'MDL GUARDA', 'MDL GULPILHARES',\n",
       "       'MDL ILHAVO', 'MDL LAGOS', 'MDL LAMEGO', 'MDL LECA BALIO',\n",
       "       'MDL LISBOA MARECHAL', 'MDL LIXA', 'MDL LOULE', 'MDL LOUSADA',\n",
       "       'MDL LOUSÃ', 'MDL MACHICO', 'MDL MACHICO CENTRO',\n",
       "       'MDL MADEIRASHOP.', 'MDL MAFRA', 'MDL MAIA', 'MDL MANGUALDE',\n",
       "       'MDL MARCO', 'MDL MARINHA GRANDE', 'MDL MEM MARTINS',\n",
       "       'MDL MIRA MAIA', 'MDL MIRANDELA', 'MDL MOITA', 'MDL MONTELAVAR',\n",
       "       'MDL MONTIJO', 'MDL MONÇÃO', 'MDL MOZELOS', 'MDL NAZARÉ',\n",
       "       'MDL O. AZEMEIS', 'MDL ODIAXERE', 'MDL OLHAO', 'MDL OURÉM',\n",
       "       'MDL OVAR', 'MDL P. FERREIRA', 'MDL P. VARZIM', 'MDL PALMELA',\n",
       "       'MDL PAREDES', 'MDL PENAFIEL', 'MDL PENICHE', 'MDL PINHAL NOVO',\n",
       "       'MDL POMBAL', 'MDL PONTE DE SOR', 'MDL PONTE LIMA',\n",
       "       'MDL PORTALEGRE', 'MDL PORTELA RALIS', 'MDL PORTO ALTO',\n",
       "       'MDL PORTO DE MOS', 'MDL QTA. CONDE', 'MDL QUARTEIRA',\n",
       "       'MDL REBORDOSA', 'MDL REGUA', 'MDL REGUENGOS', 'MDL RETAIL VISEU',\n",
       "       'MDL RIB BRAVA CENTRO', 'MDL RIB. BRAVA', 'MDL RIO MAIOR',\n",
       "       'MDL RIO TINTO', 'MDL S. COSME', 'MDL S. MAGOS',\n",
       "       'MDL S.FELIX MARINHA', 'MDL S.JOÃO TALHA', 'MDL SANT ANTÓNIO',\n",
       "       'MDL SANTANA', 'MDL SEMINÁRIO', 'MDL SESIMBRA', 'MDL SETUBAL',\n",
       "       'MDL SILVES', 'MDL SINES', 'MDL SINTRA', 'MDL SM DA FEIRA',\n",
       "       'MDL STO. TIRSO', 'MDL SÃO MARTINHO', 'MDL T. MERCES',\n",
       "       'MDL T. NOVAS', 'MDL T. VEDRAS', 'MDL TIRES', 'MDL TOMAR',\n",
       "       'MDL TROFA', 'MDL V. CAMBRA', 'MDL V. CONDE', 'MDL V.F. XIRA',\n",
       "       'MDL VAGOS', 'MDL VALE DO SOUSA', 'MDL VIVEIROS', 'MDL VIZELA',\n",
       "       'MDL VRS ANTONIO'], dtype=object)"
      ]
     },
     "execution_count": 11,
     "metadata": {},
     "output_type": "execute_result"
    }
   ],
   "source": [
    "dfTudo['STORE_NAME'].sort_values().unique()\n",
    "\n",
    "\n",
    "#Lojas:\n",
    "                  #Reposição=Sim\n",
    "#CNT AMADORA\n",
    "#CNT BRAGA\n",
    "#CNT CASCAIS\n",
    "#CNT COIMBRASHOPPING\n",
    "#CNT MATOSINHOS\n",
    "                  #Reposição=Não\n",
    "#CNT LEIRIA\n",
    "#CNT SANTAREM\n",
    "#CNT VIANA\n",
    "#MDL T. VEDRAS                                              \n",
    "#CNT PORTIMÃO\n",
    "\n",
    "#CAFÉ DELTA Q QALIDUS 80CAP\n",
    "#CAFÉ DELTA Q MYTHIQ 80CAP\n",
    "#CAFÉ DELTA Q QALIDUS 10CAP\n",
    "#CAFÉ MOÍDO MÁQUINA CHÁVENA DELTA 250G\n",
    "#CAFÉ BELLISSIMO INTENSO 200GR\n",
    "#CAFÉ DELTA RITUAL MU 220G\n",
    "#CAFÉ SOLÚVEL DELTA FRASCO 200G\n",
    "#CAFÉ SOLÚVEL DELTA FRASCO 100G\n",
    "#CEVADA SOLÚVEL DELTA FRASCO 200G\n",
    "\n",
    "#Produto novo"
   ]
  },
  {
   "cell_type": "markdown",
   "metadata": {},
   "source": [
    "# Fazer subsets da dataFrame total"
   ]
  },
  {
   "cell_type": "markdown",
   "metadata": {},
   "source": [
    "> - Por loja e produto"
   ]
  },
  {
   "cell_type": "code",
   "execution_count": 37,
   "metadata": {},
   "outputs": [],
   "source": [
    "# Ler ficheiro para dataframe\n",
    "df_produtos = pd.read_csv('D:\\\\B&N Dados\\\\Delta\\\\Piloto\\\\produtos.txt', header=None)\n",
    "df_lojas = pd.read_csv('D:\\\\B&N Dados\\\\Delta\\\\Piloto\\\\lojas.txt', header=None) \n",
    "\n",
    "# Passar para uma lista\n",
    "produtos = df_produtos[0].tolist()\n",
    "lojas = df_lojas[0].tolist()\n",
    "\n",
    "#produtos=[\"CAFÉ DELTA Q QALIDUS 80CAP\",\"CAFÉ DELTA Q MYTHIQ 80CAP\",\"CAFÉ DELTA Q QALIDUS 10CAP\",\"CAFÉ MOÍDO MÁQUINA CHÁVENA DELTA 250G\",\"CAFÉ BELLISSIMO INTENSO 200GR\",\"CAFÉ DELTA RITUAL MU 220G\",\"CAFÉ SOLÚVEL DELTA FRASCO 200G\",\"CAFÉ SOLÚVEL DELTA FRASCO 100G\",\"CEVADA SOLÚVEL DELTA FRASCO 200G\",\"BEBIDA CEREAIS DELTA C/20%CAFE FR 200G\"]\n",
    "#lojas=[\"CNT AMADORA\",\"CNT BRAGA\",\"CNT CASCAIS\",\"CNT COIMBRASHOPPING\",\"CNT MATOSINHOS\",\"CNT LEIRIA\",\"CNT SANTAREM\",\"CNT VIANA\",\"MDL T. VEDRAS\",\"CNT PORTIMÃO\"]"
   ]
  },
  {
   "cell_type": "code",
   "execution_count": 38,
   "metadata": {},
   "outputs": [],
   "source": [
    "# Definir o dataframe final apenas tendo em conta as lojas e os produtos requeridos\n",
    "\n",
    "dfFinal = dfTudo[dfTudo['STORE_NAME'].isin(lojas) & dfTudo['DESC_ARTIGO'].isin(produtos)].copy()"
   ]
  },
  {
   "cell_type": "code",
   "execution_count": 39,
   "metadata": {},
   "outputs": [
    {
     "data": {
      "text/plain": [
       "[1, 2, 3, 5, 6, 202, 209, 215, 223, 459]"
      ]
     },
     "execution_count": 39,
     "metadata": {},
     "output_type": "execute_result"
    }
   ],
   "source": [
    "dfFinal[\"STORE\"].unique().tolist()"
   ]
  },
  {
   "cell_type": "markdown",
   "metadata": {},
   "source": [
    "# Temos\n",
    "- dfFinal com as métricas todas\n",
    "\n",
    "# Queremos\n",
    "- Reposição\n",
    "- Dias específicos\n",
    "- Colunas de dia e semana"
   ]
  },
  {
   "cell_type": "markdown",
   "metadata": {},
   "source": [
    "# Fins de Semana"
   ]
  },
  {
   "cell_type": "markdown",
   "metadata": {},
   "source": [
    "- Função separar fins de semana (se quisermos em dataframes diferentes)"
   ]
  },
  {
   "cell_type": "code",
   "execution_count": 12,
   "metadata": {},
   "outputs": [],
   "source": [
    "#Função para definir qual fim de semana queremos pedir\n",
    "def fds(nome, df, numero):\n",
    "    a = int(numero)\n",
    "    b = 3*(a-1)\n",
    "    nome=df[b:b+3].copy()\n",
    "    return nome\n"
   ]
  },
  {
   "cell_type": "markdown",
   "metadata": {},
   "source": [
    "> - Extrair apenas os fins de semana"
   ]
  },
  {
   "cell_type": "code",
   "execution_count": 13,
   "metadata": {},
   "outputs": [],
   "source": [
    "dfFds = dfFinal[dfFinal['DATA'].dt.weekday.isin([4,5,6])].copy()         #Sexta, Sábado e Domingo\n",
    "#dfSemana = dfJuntos[dfJuntos['DATA'].dt.weekday.isin([0,1,2,3])]    #Segunda a Quinta"
   ]
  },
  {
   "cell_type": "markdown",
   "metadata": {},
   "source": [
    "> - Fins de semana em causa"
   ]
  },
  {
   "cell_type": "code",
   "execution_count": 15,
   "metadata": {},
   "outputs": [],
   "source": [
    "#Dias em causa (1 fds depois da páscoa)\n",
    "dfFdsPiloto=dfFds.loc[(dfFds['DATA'] >= '2023-04-14') & (dfFds['DATA'] <= '2023-05-07')].copy()\n",
    "\n",
    "#Organizar para dar para ler mais facilmente\n",
    "dfFdsPiloto=dfFdsPiloto.sort_values(by=[\"STORE\", \"DESC_ARTIGO\",\"DATA\"])"
   ]
  },
  {
   "cell_type": "markdown",
   "metadata": {},
   "source": [
    "> - Colunas para a **semana** e o **dia**"
   ]
  },
  {
   "cell_type": "code",
   "execution_count": 16,
   "metadata": {},
   "outputs": [],
   "source": [
    "# Copiar para fazer alterações mantendo o original\n",
    "dfFdsFinal = dfFdsPiloto.copy()\n",
    "\n",
    "#Semana\n",
    "dfFdsFinal['Semana'] = dfFdsFinal['DATA'].dt.isocalendar().week\n",
    "dfFdsFinal['Semana'] = dfFdsFinal.groupby('Semana').ngroup() + 1\n",
    "\n",
    "#Dia\n",
    "nome_dia = dfFdsFinal['DATA'].dt.day_name().map({'Friday': 'Sexta', 'Saturday': 'Sábado', 'Sunday': 'Domingo'})\n",
    "dfFdsFinal['Dia'] = nome_dia"
   ]
  },
  {
   "cell_type": "markdown",
   "metadata": {},
   "source": [
    "# Temos:\n",
    "- Uma base apenas com os fins de semana em causa com todas as métricas que estavam até agora mais a **Semana** e o **Dia** "
   ]
  },
  {
   "cell_type": "markdown",
   "metadata": {},
   "source": [
    "# Escrever"
   ]
  },
  {
   "cell_type": "code",
   "execution_count": 13,
   "metadata": {},
   "outputs": [],
   "source": [
    "escrever_excel(dfFdsFinal, \"2_Delta\")"
   ]
  }
 ],
 "metadata": {
  "kernelspec": {
   "display_name": "Python 3 (ipykernel)",
   "language": "python",
   "name": "python3"
  },
  "language_info": {
   "codemirror_mode": {
    "name": "ipython",
    "version": 3
   },
   "file_extension": ".py",
   "mimetype": "text/x-python",
   "name": "python",
   "nbconvert_exporter": "python",
   "pygments_lexer": "ipython3",
   "version": "3.10.9"
  }
 },
 "nbformat": 4,
 "nbformat_minor": 2
}
