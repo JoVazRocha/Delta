{
 "cells": [
  {
   "cell_type": "code",
   "execution_count": 2,
   "metadata": {},
   "outputs": [],
   "source": [
    "import pandas as pd\n",
    "import numpy as np\n",
    "\n",
    "def escrever(dfa, nome):\n",
    "    dfa.to_excel('%s.xlsx' %nome, index=False)"
   ]
  },
  {
   "cell_type": "markdown",
   "metadata": {},
   "source": [
    "# 1. Ler ficheiro com tudo e os específicos"
   ]
  },
  {
   "cell_type": "markdown",
   "metadata": {},
   "source": [
    "> - **Tudo**"
   ]
  },
  {
   "cell_type": "code",
   "execution_count": 5,
   "metadata": {},
   "outputs": [
    {
     "name": "stdout",
     "output_type": "stream",
     "text": [
      "Wall time: 10.3 s\n"
     ]
    }
   ],
   "source": [
    "%%time\n",
    "dfTudo=pd.read_csv('D:\\\\B&N Dados\\\\Delta\\\\AnoAnterior.csv')"
   ]
  },
  {
   "cell_type": "markdown",
   "metadata": {},
   "source": [
    "> - **Específicos**"
   ]
  },
  {
   "cell_type": "code",
   "execution_count": 3,
   "metadata": {},
   "outputs": [],
   "source": [
    "#dfCafe=pd.read_excel('D:\\\\Brands and Ninjas\\\\Delta\\\\ProdCafe.xlsx', sheet_name='Lista Lojas Sonae')\n",
    "#dfLiqui=pd.read_excel('D:\\\\Brands and Ninjas\\\\Delta\\\\ProdLiqui.xlsx', sheet_name='Lista Lojas Sonae')\n",
    "\n",
    "dfEspec=pd.read_excel('D:\\\\Brands and Ninjas\\\\Delta\\\\Mar-abril23\\\\ficheiro_NSS.xlsx')"
   ]
  },
  {
   "cell_type": "markdown",
   "metadata": {},
   "source": [
    "- Limpar L's e seleccionar colunas de interesse"
   ]
  },
  {
   "cell_type": "code",
   "execution_count": 12,
   "metadata": {},
   "outputs": [],
   "source": [
    "dfLiqui=dfLiqui[['STORE', 'STORE_NAME']]\n",
    "dfLiqui['STORE'] = dfLiqui['STORE'].str.replace('L', '')\n",
    "dfLiqui['STORE'] = dfLiqui['STORE'].astype('int')\n",
    "dfLiqui=dfLiqui.sort_values(by=\"STORE\")\n",
    "\n",
    "dfCafe=dfCafe[['STORE', 'STORE_NAME']]"
   ]
  },
  {
   "cell_type": "markdown",
   "metadata": {},
   "source": [
    "# 2. Passar para datetime"
   ]
  },
  {
   "cell_type": "code",
   "execution_count": 13,
   "metadata": {},
   "outputs": [],
   "source": [
    "dfTudo['DATA']= pd.to_datetime(dfTudo['DATA'], format='%Y-%m-%d')\n",
    "#dfEspec['DATA']= pd.to_datetime(dfEspec['DATA'], format='%Y-%m-%d')"
   ]
  },
  {
   "cell_type": "markdown",
   "metadata": {},
   "source": [
    "- Pôr o Sellout bem"
   ]
  },
  {
   "cell_type": "code",
   "execution_count": 12,
   "metadata": {},
   "outputs": [],
   "source": [
    "dfTudo=dfTudo.rename(columns={\"VND (D-1)\": \"1_Dia_Antes\"})"
   ]
  },
  {
   "cell_type": "markdown",
   "metadata": {},
   "source": [
    "# 3. Encontrar os nomes no dataFrame de tudo"
   ]
  },
  {
   "cell_type": "code",
   "execution_count": 17,
   "metadata": {},
   "outputs": [],
   "source": [
    "dfTudo['DESC_ARTIGO'].unique()\n",
    "\n",
    "#CERV.C/ALC.T/P CORONA 35,5CL\n",
    "#CERV.C/ALC.T/P FRANZISKANER WEISSBI.50CL\n",
    "\n",
    "#CAFÉ DELTA Q QALIDUS 10CAP\n",
    "#CAFÉ DELTA Q AQTIVUS 10CAP\n",
    "#CAFÉ DELTA Q DEQAFEINATUS 10CAP"
   ]
  },
  {
   "cell_type": "markdown",
   "metadata": {},
   "source": [
    "# Fazer subsets da dataFrame total"
   ]
  },
  {
   "cell_type": "markdown",
   "metadata": {},
   "source": [
    "> - Produtos Líquidos"
   ]
  },
  {
   "cell_type": "code",
   "execution_count": 8,
   "metadata": {},
   "outputs": [],
   "source": [
    "ProdLi =[\"CERV.C/ALC.T/P CORONA 35,5CL\",\"CERV.C/ALC.T/P FRANZISKANER WEISSBI.50CL\"]\n",
    "\n",
    "dfTuLi = dfTudo[dfTudo['DESC_ARTIGO'].isin(ProdLi)].copy()"
   ]
  },
  {
   "cell_type": "markdown",
   "metadata": {},
   "source": [
    "> - Produtos Sólidos"
   ]
  },
  {
   "cell_type": "code",
   "execution_count": 9,
   "metadata": {},
   "outputs": [],
   "source": [
    "ProdCaf=[\"CAFÉ DELTA Q QALIDUS 10CAP\",\"CAFÉ DELTA Q AQTIVUS 10CAP\",\n",
    "         \"CAFÉ DELTA Q DEQAFEINATUS 10CAP\"]\n",
    "\n",
    "dfTuCaf = dfTudo[dfTudo['DESC_ARTIGO'].isin(ProdCaf)].copy()"
   ]
  },
  {
   "cell_type": "code",
   "execution_count": 49,
   "metadata": {
    "collapsed": true
   },
   "outputs": [
    {
     "name": "stdout",
     "output_type": "stream",
     "text": [
      "<class 'pandas.core.frame.DataFrame'>\n",
      "Int64Index: 164476 entries, 4535477 to 4699952\n",
      "Data columns (total 12 columns):\n",
      "DATA           164476 non-null datetime64[ns]\n",
      "EAN            164476 non-null int64\n",
      "DESC_ARTIGO    164476 non-null object\n",
      "STORE          164476 non-null int64\n",
      "STORE_NAME     164476 non-null object\n",
      "SOH            164476 non-null int64\n",
      "INTRANSIT      164476 non-null int64\n",
      "EXPECTED       164476 non-null int64\n",
      "PRES_STOCK     164476 non-null int64\n",
      "1_Dia_Antes    164476 non-null int64\n",
      "Ciclos         164241 non-null float64\n",
      "Rotura         164476 non-null int64\n",
      "dtypes: datetime64[ns](1), float64(1), int64(8), object(2)\n",
      "memory usage: 16.3+ MB\n"
     ]
    }
   ],
   "source": [
    "dfTuLi.info()"
   ]
  },
  {
   "cell_type": "markdown",
   "metadata": {},
   "source": [
    "# Mergir"
   ]
  },
  {
   "cell_type": "code",
   "execution_count": 13,
   "metadata": {},
   "outputs": [],
   "source": [
    "def mergir(dfa, dfb):\n",
    "    dfNome=pd.merge(dfa, dfb, how=\"right\", on = \"STORE\")\n",
    "    \n",
    "    \n",
    "    colunasBem = {col: col.replace('_x', '') for col in dfNome.columns if col.endswith('_x')}\n",
    "    dfNome = dfNome.rename(columns=colunasBem)\n",
    "    colunasMal = [col for col in dfNome.columns if col.endswith('_y')]\n",
    "    dfNome = dfNome.drop(colunasMal, axis=1)\n",
    "    return dfNome\n"
   ]
  },
  {
   "cell_type": "markdown",
   "metadata": {},
   "source": [
    "> - Produtos Líquidos"
   ]
  },
  {
   "cell_type": "code",
   "execution_count": 14,
   "metadata": {},
   "outputs": [],
   "source": [
    "\n",
    "dfLiqFinal=mergir(dfTuLi,dfEspec)\n"
   ]
  },
  {
   "cell_type": "markdown",
   "metadata": {},
   "source": [
    "> - Produtos Sólidos"
   ]
  },
  {
   "cell_type": "code",
   "execution_count": 15,
   "metadata": {},
   "outputs": [],
   "source": [
    "\n",
    "dfCafFinal=mergir(dfTuCaf,dfEspec)\n"
   ]
  },
  {
   "cell_type": "markdown",
   "metadata": {},
   "source": [
    "> - Tudo"
   ]
  },
  {
   "cell_type": "code",
   "execution_count": 16,
   "metadata": {},
   "outputs": [],
   "source": [
    "\n",
    "dfJuntos = pd.concat([dfCafFinal,dfLiqFinal], ignore_index=True)\n",
    "\n"
   ]
  },
  {
   "cell_type": "code",
   "execution_count": 14,
   "metadata": {},
   "outputs": [],
   "source": [
    "produtos=[\"CAFÉ DELTA Q QALIDUS 10CAP\",\"CAFÉ DELTA Q AQTIVUS 10CAP\",\n",
    "         \"CAFÉ DELTA Q DEQAFEINATUS 10CAP\",\"CERV.C/ALC.T/P CORONA 35,5CL\",\"CERV.C/ALC.T/P FRANZISKANER WEISSBI.50CL\"]\n",
    "dfJuntos =dfTudo[dfTudo['DESC_ARTIGO'].isin(produtos)].copy()"
   ]
  },
  {
   "cell_type": "code",
   "execution_count": 15,
   "metadata": {
    "collapsed": true
   },
   "outputs": [
    {
     "name": "stdout",
     "output_type": "stream",
     "text": [
      "<class 'pandas.core.frame.DataFrame'>\n",
      "Int64Index: 416806 entries, 1636886 to 4699952\n",
      "Data columns (total 12 columns):\n",
      "DATA           416806 non-null datetime64[ns]\n",
      "EAN            416806 non-null int64\n",
      "DESC_ARTIGO    416806 non-null object\n",
      "STORE          416806 non-null int64\n",
      "STORE_NAME     416806 non-null object\n",
      "SOH            416806 non-null int64\n",
      "INTRANSIT      416806 non-null int64\n",
      "EXPECTED       416806 non-null int64\n",
      "PRES_STOCK     416806 non-null int64\n",
      "1_Dia_Antes    416806 non-null int64\n",
      "Ciclos         416571 non-null float64\n",
      "Rotura         416806 non-null int64\n",
      "dtypes: datetime64[ns](1), float64(1), int64(8), object(2)\n",
      "memory usage: 41.3+ MB\n"
     ]
    }
   ],
   "source": [
    "dfJuntos.info()"
   ]
  },
  {
   "cell_type": "code",
   "execution_count": 18,
   "metadata": {},
   "outputs": [],
   "source": [
    "colunasExtra=[\"Hora\", \"Nome da Loja\"]\n",
    "\n",
    "dfJuntos = dfJuntos.drop(colunasExtra, axis=1)"
   ]
  },
  {
   "cell_type": "markdown",
   "metadata": {},
   "source": [
    "# 4. Colunas dias anteriores"
   ]
  },
  {
   "cell_type": "code",
   "execution_count": 20,
   "metadata": {},
   "outputs": [],
   "source": [
    "dfJuntos['Dia_Actual'] = dfJuntos['1_Dia_Antes'].shift(-1) #todas as colunas sobem (dia seguinte)"
   ]
  },
  {
   "cell_type": "code",
   "execution_count": 65,
   "metadata": {},
   "outputs": [],
   "source": [
    "dfJuntosOrg=dfJuntos.iloc[:, [0,1,2,3,4,5,6,7,8,9]]"
   ]
  },
  {
   "cell_type": "code",
   "execution_count": 69,
   "metadata": {
    "collapsed": true
   },
   "outputs": [
    {
     "data": {
      "text/html": [
       "<div>\n",
       "<style scoped>\n",
       "    .dataframe tbody tr th:only-of-type {\n",
       "        vertical-align: middle;\n",
       "    }\n",
       "\n",
       "    .dataframe tbody tr th {\n",
       "        vertical-align: top;\n",
       "    }\n",
       "\n",
       "    .dataframe thead th {\n",
       "        text-align: right;\n",
       "    }\n",
       "</style>\n",
       "<table border=\"1\" class=\"dataframe\">\n",
       "  <thead>\n",
       "    <tr style=\"text-align: right;\">\n",
       "      <th></th>\n",
       "      <th>DATA</th>\n",
       "      <th>EAN</th>\n",
       "      <th>DESC_ARTIGO</th>\n",
       "      <th>STORE</th>\n",
       "      <th>STORE_NAME</th>\n",
       "      <th>SOH</th>\n",
       "      <th>INTRANSIT</th>\n",
       "      <th>EXPECTED</th>\n",
       "      <th>PRES_STOCK</th>\n",
       "      <th>Rotura</th>\n",
       "      <th>...</th>\n",
       "      <th>1_Dia_Antes</th>\n",
       "      <th>2_Dia_Antes</th>\n",
       "      <th>3_Dia_Antes</th>\n",
       "      <th>4_Dia_Antes</th>\n",
       "      <th>5_Dia_Antes</th>\n",
       "      <th>6_Dia_Antes</th>\n",
       "      <th>7_Dia_Antes</th>\n",
       "      <th>8_Dia_Antes</th>\n",
       "      <th>9_Dia_Antes</th>\n",
       "      <th>10_Dia_Antes</th>\n",
       "    </tr>\n",
       "  </thead>\n",
       "  <tbody>\n",
       "    <tr>\n",
       "      <th>0</th>\n",
       "      <td>2022-01-01</td>\n",
       "      <td>5601082026978</td>\n",
       "      <td>CAFÉ DELTA Q AQTIVUS 10CAP</td>\n",
       "      <td>1</td>\n",
       "      <td>CNT MATOSINHOS</td>\n",
       "      <td>288</td>\n",
       "      <td>0</td>\n",
       "      <td>0</td>\n",
       "      <td>96</td>\n",
       "      <td>0</td>\n",
       "      <td>...</td>\n",
       "      <td>14</td>\n",
       "      <td>NaN</td>\n",
       "      <td>NaN</td>\n",
       "      <td>NaN</td>\n",
       "      <td>NaN</td>\n",
       "      <td>NaN</td>\n",
       "      <td>NaN</td>\n",
       "      <td>NaN</td>\n",
       "      <td>NaN</td>\n",
       "      <td>NaN</td>\n",
       "    </tr>\n",
       "    <tr>\n",
       "      <th>1</th>\n",
       "      <td>2022-01-02</td>\n",
       "      <td>5601082026978</td>\n",
       "      <td>CAFÉ DELTA Q AQTIVUS 10CAP</td>\n",
       "      <td>1</td>\n",
       "      <td>CNT MATOSINHOS</td>\n",
       "      <td>288</td>\n",
       "      <td>0</td>\n",
       "      <td>0</td>\n",
       "      <td>96</td>\n",
       "      <td>0</td>\n",
       "      <td>...</td>\n",
       "      <td>0</td>\n",
       "      <td>14.0</td>\n",
       "      <td>NaN</td>\n",
       "      <td>NaN</td>\n",
       "      <td>NaN</td>\n",
       "      <td>NaN</td>\n",
       "      <td>NaN</td>\n",
       "      <td>NaN</td>\n",
       "      <td>NaN</td>\n",
       "      <td>NaN</td>\n",
       "    </tr>\n",
       "    <tr>\n",
       "      <th>2</th>\n",
       "      <td>2022-01-03</td>\n",
       "      <td>5601082026978</td>\n",
       "      <td>CAFÉ DELTA Q AQTIVUS 10CAP</td>\n",
       "      <td>1</td>\n",
       "      <td>CNT MATOSINHOS</td>\n",
       "      <td>274</td>\n",
       "      <td>0</td>\n",
       "      <td>0</td>\n",
       "      <td>96</td>\n",
       "      <td>0</td>\n",
       "      <td>...</td>\n",
       "      <td>14</td>\n",
       "      <td>0.0</td>\n",
       "      <td>14.0</td>\n",
       "      <td>NaN</td>\n",
       "      <td>NaN</td>\n",
       "      <td>NaN</td>\n",
       "      <td>NaN</td>\n",
       "      <td>NaN</td>\n",
       "      <td>NaN</td>\n",
       "      <td>NaN</td>\n",
       "    </tr>\n",
       "    <tr>\n",
       "      <th>3</th>\n",
       "      <td>2022-01-04</td>\n",
       "      <td>5601082026978</td>\n",
       "      <td>CAFÉ DELTA Q AQTIVUS 10CAP</td>\n",
       "      <td>1</td>\n",
       "      <td>CNT MATOSINHOS</td>\n",
       "      <td>264</td>\n",
       "      <td>0</td>\n",
       "      <td>0</td>\n",
       "      <td>96</td>\n",
       "      <td>0</td>\n",
       "      <td>...</td>\n",
       "      <td>10</td>\n",
       "      <td>14.0</td>\n",
       "      <td>0.0</td>\n",
       "      <td>14.0</td>\n",
       "      <td>NaN</td>\n",
       "      <td>NaN</td>\n",
       "      <td>NaN</td>\n",
       "      <td>NaN</td>\n",
       "      <td>NaN</td>\n",
       "      <td>NaN</td>\n",
       "    </tr>\n",
       "    <tr>\n",
       "      <th>4</th>\n",
       "      <td>2022-01-05</td>\n",
       "      <td>5601082026978</td>\n",
       "      <td>CAFÉ DELTA Q AQTIVUS 10CAP</td>\n",
       "      <td>1</td>\n",
       "      <td>CNT MATOSINHOS</td>\n",
       "      <td>249</td>\n",
       "      <td>0</td>\n",
       "      <td>120</td>\n",
       "      <td>96</td>\n",
       "      <td>0</td>\n",
       "      <td>...</td>\n",
       "      <td>15</td>\n",
       "      <td>10.0</td>\n",
       "      <td>14.0</td>\n",
       "      <td>0.0</td>\n",
       "      <td>14.0</td>\n",
       "      <td>NaN</td>\n",
       "      <td>NaN</td>\n",
       "      <td>NaN</td>\n",
       "      <td>NaN</td>\n",
       "      <td>NaN</td>\n",
       "    </tr>\n",
       "  </tbody>\n",
       "</table>\n",
       "<p>5 rows × 21 columns</p>\n",
       "</div>"
      ],
      "text/plain": [
       "        DATA            EAN                 DESC_ARTIGO  STORE  \\\n",
       "0 2022-01-01  5601082026978  CAFÉ DELTA Q AQTIVUS 10CAP      1   \n",
       "1 2022-01-02  5601082026978  CAFÉ DELTA Q AQTIVUS 10CAP      1   \n",
       "2 2022-01-03  5601082026978  CAFÉ DELTA Q AQTIVUS 10CAP      1   \n",
       "3 2022-01-04  5601082026978  CAFÉ DELTA Q AQTIVUS 10CAP      1   \n",
       "4 2022-01-05  5601082026978  CAFÉ DELTA Q AQTIVUS 10CAP      1   \n",
       "\n",
       "       STORE_NAME  SOH  INTRANSIT  EXPECTED  PRES_STOCK  Rotura      ...       \\\n",
       "0  CNT MATOSINHOS  288          0         0          96       0      ...        \n",
       "1  CNT MATOSINHOS  288          0         0          96       0      ...        \n",
       "2  CNT MATOSINHOS  274          0         0          96       0      ...        \n",
       "3  CNT MATOSINHOS  264          0         0          96       0      ...        \n",
       "4  CNT MATOSINHOS  249          0       120          96       0      ...        \n",
       "\n",
       "   1_Dia_Antes  2_Dia_Antes  3_Dia_Antes  4_Dia_Antes  5_Dia_Antes  \\\n",
       "0           14          NaN          NaN          NaN          NaN   \n",
       "1            0         14.0          NaN          NaN          NaN   \n",
       "2           14          0.0         14.0          NaN          NaN   \n",
       "3           10         14.0          0.0         14.0          NaN   \n",
       "4           15         10.0         14.0          0.0         14.0   \n",
       "\n",
       "   6_Dia_Antes  7_Dia_Antes  8_Dia_Antes  9_Dia_Antes  10_Dia_Antes  \n",
       "0          NaN          NaN          NaN          NaN           NaN  \n",
       "1          NaN          NaN          NaN          NaN           NaN  \n",
       "2          NaN          NaN          NaN          NaN           NaN  \n",
       "3          NaN          NaN          NaN          NaN           NaN  \n",
       "4          NaN          NaN          NaN          NaN           NaN  \n",
       "\n",
       "[5 rows x 21 columns]"
      ]
     },
     "execution_count": 69,
     "metadata": {},
     "output_type": "execute_result"
    }
   ],
   "source": [
    "dfJuntosOrg.head()"
   ]
  },
  {
   "cell_type": "code",
   "execution_count": 67,
   "metadata": {},
   "outputs": [],
   "source": [
    "def dias(df, dia):         #dia é quantos dias antes\n",
    "    a=int(dia)-1\n",
    "    valores = df.loc[:,'1_Dia_Antes'].shift(a)\n",
    "    valores[:a] = np.nan\n",
    "    df.loc[:,'%s_Dia_Antes' % dia] = valores"
   ]
  },
  {
   "cell_type": "code",
   "execution_count": 68,
   "metadata": {},
   "outputs": [],
   "source": [
    "dia1=2\n",
    "diaFinal=10\n",
    "dfFinal=dfJuntosOrg.copy()\n",
    "for i in range(dia1, diaFinal+1):\n",
    "    dias(dfFinal, i)"
   ]
  },
  {
   "cell_type": "markdown",
   "metadata": {},
   "source": [
    "# 5. Fins de Semana"
   ]
  },
  {
   "cell_type": "code",
   "execution_count": 47,
   "metadata": {},
   "outputs": [],
   "source": [
    "dfFdsSell = dfJuntos[dfJuntos['DATA'].dt.weekday.isin([4,5,6])]         #Sexta, Sábado e Domingo\n",
    "dfSemanaSell = dfJuntos[dfJuntos['DATA'].dt.weekday.isin([0,1,2,3])]    #Segunda a Quinta"
   ]
  },
  {
   "cell_type": "markdown",
   "metadata": {},
   "source": [
    "# 6. Escrever"
   ]
  },
  {
   "cell_type": "markdown",
   "metadata": {},
   "source": [
    "> - Manipular antes"
   ]
  },
  {
   "cell_type": "code",
   "execution_count": 23,
   "metadata": {},
   "outputs": [],
   "source": [
    "dfMarAbr = dfJuntos.loc[(pivoted_df['DATA'] >= '2022-04-08') & (dfJuntos['DATA'] <= '2022-04-10')]\n",
    "\n",
    "dfMarAbrFds = dfMarAbr[dfMarAbr['DATA'].dt.weekday.isin([4, 5, 6])]"
   ]
  },
  {
   "cell_type": "code",
   "execution_count": 159,
   "metadata": {},
   "outputs": [],
   "source": [
    "pivoted_df = dfMarAbr.pivot_table(index=['DATA','STORE'], columns='DESC_ARTIGO', values='Dia_Actual')\n",
    "pivoted_df = pivoted_df.reset_index().rename_axis(None, axis=1)\n",
    "pivoted_df = pivoted_df.rename(columns={'CAFÉ DELTA Q AQTIVUS 10CAP': 'SELLOUT CAFÉ DELTA Q AQTIVUS 10CAP 22', \n",
    "                                  \"CAFÉ DELTA Q DEQAFEINATUS 10CAP\":\"SELLOUT CAFÉ DELTA Q DEQAFEINATUS 10CAP 22\",\n",
    "                                 \"CAFÉ DELTA Q QALIDUS 10CAP\":\"SELLOUT CAFÉ DELTA Q QALIDUS 10CAP 22\",\n",
    "                                 \"CERV.C/ALC.T/P FRANZISKANER WEISSBI.50CL\":\"SELLOUT CERV.C/ALC.T/P FRANZISKANER WEISSBI.50CL 22\",\n",
    "                                 \"CERV.C/ALC.T/P CORONA 35,5CL\":\"SELLOUT CERV.C/ALC.T/P CORONA 35,5CL 22\"})"
   ]
  },
  {
   "cell_type": "code",
   "execution_count": 160,
   "metadata": {},
   "outputs": [],
   "source": [
    "pivoted_df['DATA'] = pivoted_df['DATA'].replace({\n",
    "    pd.to_datetime('2022-04-08'): pd.to_datetime('2023-03-31'),\n",
    "    pd.to_datetime('2022-04-09'): pd.to_datetime('2023-04-01'),\n",
    "    pd.to_datetime('2022-04-10'): pd.to_datetime('2023-04-02')\n",
    "})"
   ]
  },
  {
   "cell_type": "code",
   "execution_count": 161,
   "metadata": {},
   "outputs": [],
   "source": [
    "pivoted_df['DATA'] = pd.to_datetime(pivoted_df['DATA'])\n",
    "pivoted_df[\"DATA\"].unique()\n",
    "pivoted_df=pivoted_df.sort_values(by=[\"STORE\",\"DATA\"])"
   ]
  },
  {
   "cell_type": "code",
   "execution_count": 127,
   "metadata": {},
   "outputs": [],
   "source": [
    "produtos=pivoted_df.columns[2:]"
   ]
  },
  {
   "cell_type": "code",
   "execution_count": 162,
   "metadata": {},
   "outputs": [],
   "source": [
    "for i in produtos:\n",
    "    for j in (0,len(pivoted_df.index)/3-1):\n",
    "        a=int(j)*3\n",
    "        pivoted_df[i].iat[a]=(pivoted_df[i].iat[a]+pivoted_df[i].iat[a+1]+pivoted_df[i].iat[a+2])/3\n",
    "\n"
   ]
  },
  {
   "cell_type": "code",
   "execution_count": 165,
   "metadata": {},
   "outputs": [],
   "source": [
    "nova=pivoted_df.loc[(pivoted_df['DATA'] == '2023-03-31')]\n"
   ]
  },
  {
   "cell_type": "code",
   "execution_count": 167,
   "metadata": {},
   "outputs": [
    {
     "data": {
      "text/html": [
       "<div>\n",
       "<style scoped>\n",
       "    .dataframe tbody tr th:only-of-type {\n",
       "        vertical-align: middle;\n",
       "    }\n",
       "\n",
       "    .dataframe tbody tr th {\n",
       "        vertical-align: top;\n",
       "    }\n",
       "\n",
       "    .dataframe thead th {\n",
       "        text-align: right;\n",
       "    }\n",
       "</style>\n",
       "<table border=\"1\" class=\"dataframe\">\n",
       "  <thead>\n",
       "    <tr style=\"text-align: right;\">\n",
       "      <th></th>\n",
       "      <th>STORE</th>\n",
       "      <th>SELLOUT CAFÉ DELTA Q AQTIVUS 10CAP 22</th>\n",
       "      <th>SELLOUT CAFÉ DELTA Q DEQAFEINATUS 10CAP 22</th>\n",
       "      <th>SELLOUT CAFÉ DELTA Q QALIDUS 10CAP 22</th>\n",
       "      <th>SELLOUT CERV.C/ALC.T/P CORONA 35,5CL 22</th>\n",
       "      <th>SELLOUT CERV.C/ALC.T/P FRANZISKANER WEISSBI.50CL 22</th>\n",
       "    </tr>\n",
       "  </thead>\n",
       "  <tbody>\n",
       "    <tr>\n",
       "      <th>0</th>\n",
       "      <td>1</td>\n",
       "      <td>4.0</td>\n",
       "      <td>4.0</td>\n",
       "      <td>9.333333</td>\n",
       "      <td>10.666667</td>\n",
       "      <td>7.0</td>\n",
       "    </tr>\n",
       "    <tr>\n",
       "      <th>1</th>\n",
       "      <td>2</td>\n",
       "      <td>34.0</td>\n",
       "      <td>8.0</td>\n",
       "      <td>22.000000</td>\n",
       "      <td>0.000000</td>\n",
       "      <td>2.0</td>\n",
       "    </tr>\n",
       "    <tr>\n",
       "      <th>2</th>\n",
       "      <td>4</td>\n",
       "      <td>18.0</td>\n",
       "      <td>6.0</td>\n",
       "      <td>3.000000</td>\n",
       "      <td>26.000000</td>\n",
       "      <td>2.0</td>\n",
       "    </tr>\n",
       "    <tr>\n",
       "      <th>3</th>\n",
       "      <td>5</td>\n",
       "      <td>14.0</td>\n",
       "      <td>4.0</td>\n",
       "      <td>7.000000</td>\n",
       "      <td>0.000000</td>\n",
       "      <td>2.0</td>\n",
       "    </tr>\n",
       "    <tr>\n",
       "      <th>4</th>\n",
       "      <td>6</td>\n",
       "      <td>38.0</td>\n",
       "      <td>9.0</td>\n",
       "      <td>17.000000</td>\n",
       "      <td>0.000000</td>\n",
       "      <td>12.0</td>\n",
       "    </tr>\n",
       "  </tbody>\n",
       "</table>\n",
       "</div>"
      ],
      "text/plain": [
       "   STORE  SELLOUT CAFÉ DELTA Q AQTIVUS 10CAP 22  \\\n",
       "0      1                                    4.0   \n",
       "1      2                                   34.0   \n",
       "2      4                                   18.0   \n",
       "3      5                                   14.0   \n",
       "4      6                                   38.0   \n",
       "\n",
       "   SELLOUT CAFÉ DELTA Q DEQAFEINATUS 10CAP 22  \\\n",
       "0                                         4.0   \n",
       "1                                         8.0   \n",
       "2                                         6.0   \n",
       "3                                         4.0   \n",
       "4                                         9.0   \n",
       "\n",
       "   SELLOUT CAFÉ DELTA Q QALIDUS 10CAP 22  \\\n",
       "0                               9.333333   \n",
       "1                              22.000000   \n",
       "2                               3.000000   \n",
       "3                               7.000000   \n",
       "4                              17.000000   \n",
       "\n",
       "   SELLOUT CERV.C/ALC.T/P CORONA 35,5CL 22  \\\n",
       "0                                10.666667   \n",
       "1                                 0.000000   \n",
       "2                                26.000000   \n",
       "3                                 0.000000   \n",
       "4                                 0.000000   \n",
       "\n",
       "   SELLOUT CERV.C/ALC.T/P FRANZISKANER WEISSBI.50CL 22  \n",
       "0                                                7.0    \n",
       "1                                                2.0    \n",
       "2                                                2.0    \n",
       "3                                                2.0    \n",
       "4                                               12.0    "
      ]
     },
     "execution_count": 167,
     "metadata": {},
     "output_type": "execute_result"
    }
   ],
   "source": [
    "nova=nova.drop(columns=['DATA'])\n",
    "nova.head()"
   ]
  },
  {
   "cell_type": "code",
   "execution_count": 74,
   "metadata": {},
   "outputs": [],
   "source": [
    "dfMarAbrFds = dfMarAbr[dfMarAbr['DATA'].dt.weekday.isin([4, 5, 6])]"
   ]
  },
  {
   "cell_type": "code",
   "execution_count": 1,
   "metadata": {},
   "outputs": [],
   "source": [
    "def fds(nome, df, numero):\n",
    "    a = int(numero)\n",
    "    b = 3*(a-1)\n",
    "    nome=df[b:b+3].copy()\n",
    "    return nome\n"
   ]
  },
  {
   "cell_type": "code",
   "execution_count": 128,
   "metadata": {},
   "outputs": [],
   "source": [
    "quantos=5\n",
    "for i in range(1, quantos):\n",
    "    fds(\"fds%s\" %i, dfMarAbrFds, i)\n",
    "\n",
    "fds1=fds(\"fds1\", dfMarAbrFds, 1)\n",
    "fds2=fds(\"fds2\", dfMarAbrFds, 2)\n",
    "fds3=fds(\"fds3\", dfMarAbrFds, 3)\n",
    "fds4=fds(\"fds4\", dfMarAbrFds, 4)\n",
    "fds5=fds(\"fds5\", dfMarAbrFds, 5)"
   ]
  },
  {
   "cell_type": "code",
   "execution_count": 78,
   "metadata": {},
   "outputs": [],
   "source": [
    "fds1= dfMarAbrFds.loc[(dfMarAbrFds['DATA'] >= '2022-03-04') & (dfMarAbrFds['DATA'] <= '2022-03-06')]\n",
    "fds2= dfMarAbrFds.loc[(dfMarAbrFds['DATA'] >= '2022-03-11') & (dfMarAbrFds['DATA'] <= '2022-03-13')]\n",
    "fds3= dfMarAbrFds.loc[(dfMarAbrFds['DATA'] >= '2022-03-18') & (dfMarAbrFds['DATA'] <= '2022-03-20')]\n",
    "fds4= dfMarAbrFds.loc[(dfMarAbrFds['DATA'] >= '2022-03-25') & (dfMarAbrFds['DATA'] <= '2022-03-27')]\n",
    "fds5= dfMarAbrFds.loc[(dfMarAbrFds['DATA'] >= '2022-04-08') & (dfMarAbrFds['DATA'] <= '2022-04-10')]"
   ]
  },
  {
   "cell_type": "markdown",
   "metadata": {},
   "source": [
    "> - Agora pode ser"
   ]
  },
  {
   "cell_type": "code",
   "execution_count": 71,
   "metadata": {
    "collapsed": true
   },
   "outputs": [
    {
     "ename": "NameError",
     "evalue": "name 'fds1' is not defined",
     "output_type": "error",
     "traceback": [
      "\u001b[1;31m---------------------------------------------------------------------------\u001b[0m",
      "\u001b[1;31mNameError\u001b[0m                                 Traceback (most recent call last)",
      "\u001b[1;32m<ipython-input-71-8fccf3e43201>\u001b[0m in \u001b[0;36m<module>\u001b[1;34m()\u001b[0m\n\u001b[0;32m      1\u001b[0m \u001b[1;33m\u001b[0m\u001b[0m\n\u001b[1;32m----> 2\u001b[1;33m \u001b[0mescrever\u001b[0m\u001b[1;33m(\u001b[0m\u001b[0mfds1\u001b[0m\u001b[1;33m,\u001b[0m \u001b[1;34m\"fds1\"\u001b[0m\u001b[1;33m)\u001b[0m\u001b[1;33m\u001b[0m\u001b[0m\n\u001b[0m\u001b[0;32m      3\u001b[0m \u001b[0mescrever\u001b[0m\u001b[1;33m(\u001b[0m\u001b[0mfds2\u001b[0m\u001b[1;33m,\u001b[0m \u001b[1;34m\"fds2\"\u001b[0m\u001b[1;33m)\u001b[0m\u001b[1;33m\u001b[0m\u001b[0m\n\u001b[0;32m      4\u001b[0m \u001b[0mescrever\u001b[0m\u001b[1;33m(\u001b[0m\u001b[0mfds3\u001b[0m\u001b[1;33m,\u001b[0m \u001b[1;34m\"fds3\"\u001b[0m\u001b[1;33m)\u001b[0m               \u001b[1;31m#sexta a domingo\u001b[0m\u001b[1;33m\u001b[0m\u001b[0m\n\u001b[0;32m      5\u001b[0m \u001b[0mescrever\u001b[0m\u001b[1;33m(\u001b[0m\u001b[0mfds4\u001b[0m\u001b[1;33m,\u001b[0m \u001b[1;34m\"fds4\"\u001b[0m\u001b[1;33m)\u001b[0m\u001b[1;33m\u001b[0m\u001b[0m\n",
      "\u001b[1;31mNameError\u001b[0m: name 'fds1' is not defined"
     ]
    }
   ],
   "source": [
    "\n",
    "escrever(fds1, \"fds1\")\n",
    "escrever(fds2, \"fds2\")\n",
    "escrever(fds3, \"fds3\")               #sexta a domingo\n",
    "escrever(fds4, \"fds4\")\n",
    "escrever(fds5, \"fds5\")\n",
    "\n"
   ]
  },
  {
   "cell_type": "code",
   "execution_count": 168,
   "metadata": {},
   "outputs": [],
   "source": [
    "#escrever(pivoted_df, \"sellout0422\")\n",
    "#escrever(nova, \"sellmed\")\n"
   ]
  },
  {
   "cell_type": "code",
   "execution_count": 70,
   "metadata": {},
   "outputs": [
    {
     "name": "stdout",
     "output_type": "stream",
     "text": [
      "Wall time: 2min 11s\n"
     ]
    }
   ],
   "source": [
    "%%time\n",
    "# Dias de Semana\n",
    "\n",
    "escrever(dfFds, 'ProdutosLíquidos2022fds')\n",
    "escrever(dfSemana, 'ProdutosSólidos2022semana')\n"
   ]
  }
 ],
 "metadata": {
  "kernelspec": {
   "display_name": "Python 3",
   "language": "python",
   "name": "python3"
  },
  "language_info": {
   "codemirror_mode": {
    "name": "ipython",
    "version": 3
   },
   "file_extension": ".py",
   "mimetype": "text/x-python",
   "name": "python",
   "nbconvert_exporter": "python",
   "pygments_lexer": "ipython3",
   "version": "3.6.5"
  }
 },
 "nbformat": 4,
 "nbformat_minor": 2
}
