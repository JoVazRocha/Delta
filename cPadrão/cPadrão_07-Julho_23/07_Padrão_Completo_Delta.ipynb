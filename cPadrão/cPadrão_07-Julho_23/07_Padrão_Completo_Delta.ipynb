{
 "cells": [
  {
   "cell_type": "markdown",
   "metadata": {},
   "source": [
    "# <center>Missão Padrão Delta</center>\n",
    "\n",
    "## <center><u>``Resumo do código``</u></center>\n",
    "\n",
    ">### Entra: \n",
    "> - 1_Ninjas\n",
    "> - 2_Delta  \n",
    ">### Sai: \n",
    "> - Long_DataFusion\n",
    "> - Wide_DataFusion\n",
    "> - Wide_DataFusion_2022\n",
    "> - G_Classic\n",
    "> - G_Classic_Reposto\n",
    "> - G_Classic_SemReposto\n",
    "> - G_Rotura\n",
    "> - G_NumProdutos\n",
    "---\n",
    "O objectivo é receber dados dos Ninjas e da Delta e devolver ficheiros prontos para fazer os Dashboards. \n",
    "\n",
    "\n",
    "---\n"
   ]
  },
  {
   "cell_type": "code",
   "execution_count": 2,
   "metadata": {},
   "outputs": [],
   "source": [
    "import pandas as pd\n",
    "import numpy as np\n",
    "import datetime\n",
    "import json\n",
    "from ipywidgets import interact\n",
    "\n",
    "def escrever_excel(dfa, nome):\n",
    "    dfa.to_excel('D:\\\\B&N Dados\\\\Delta\\\\Padrão\\\\Padrão_07_2023\\\\%s.xlsx' %nome, index=False)\n",
    "    \n",
    "def escrever_csv(dfa, nome):\n",
    "    dfa.to_csv('D:\\\\B&N Dados\\\\Delta\\\\Padrão\\\\Padrão_07_2023\\\\%s.csv' %nome, index=False)\n",
    "    \n",
    "def escrever_txt(dfa, nome):\n",
    "    dfa.to_csv('D:\\\\B&N Dados\\\\Delta\\\\Padrão\\\\Padrão_07_2023\\\\%s.txt' %nome, sep='\\t', index=False, header=False)\n",
    "    \n",
    "def ler_json(ficheiro):\n",
    "    with open('D:\\\\B&N Dados\\\\Delta\\\\%s.json' %ficheiro, 'r') as file:\n",
    "        mapa = json.load(file)\n",
    "    return mapa"
   ]
  },
  {
   "cell_type": "markdown",
   "metadata": {},
   "source": [
    "<a id=\"section0\"></a>\n",
    "\n",
    "# Índice\n",
    "\n",
    "1. [Data Cleaning](#section1)<br>\n",
    "2. [DataFusion Long](#section2)<br>\n",
    "3. [DataFusion Wide](#section3)<br>\n",
    "4. [Gráficos](#section4)<br>\n",
    "5. [Escrever](#section5)<br>\n",
    "6. [Visualizar](#section6)"
   ]
  },
  {
   "cell_type": "markdown",
   "metadata": {},
   "source": [
    "# O que é preciso substituir:\n",
    "\n",
    "1. Data Cleaning\n",
    "   1. [Directória e nº bases Ninjas](#section1.1)\n",
    "   2. [Directória e nº bases Delta](#section1.2)\n"
   ]
  },
  {
   "cell_type": "markdown",
   "metadata": {},
   "source": [
    "---"
   ]
  },
  {
   "cell_type": "markdown",
   "metadata": {},
   "source": [
    "<a id=\"section1\"></a>\n",
    "# <center>1. Data Cleaning</center>\n",
    "[Voltar ao índice](#section0)<br>\n"
   ]
  },
  {
   "cell_type": "code",
   "execution_count": 3,
   "metadata": {},
   "outputs": [],
   "source": [
    "''' Ler os dicionários previamente criados para poder usar os códigos de produto e de loja em vez dos nomes '''\n",
    "\n",
    "mapa_produtos = ler_json(\"dicionário_produtos\")\n",
    "mapa_produtos = {int(key): value for key, value in mapa_produtos.items()}\n",
    "\n",
    "mapa_lojas = ler_json(\"dicionário_lojas\")\n",
    "mapa_lojas = {int(key): value for key, value in mapa_lojas.items()}\n",
    "\n",
    "mapa_produtos2 = ler_json(\"dicionário_produtos_23\")\n",
    "mapa_produtos2 = {int(key): value for key, value in mapa_produtos2.items()}   "
   ]
  },
  {
   "cell_type": "markdown",
   "metadata": {},
   "source": [
    "- # `Ninjas`"
   ]
  },
  {
   "cell_type": "markdown",
   "metadata": {},
   "source": [
    "> <font color=blue>Ler</font>\n",
    "<a id=\"section1.1\"></a>"
   ]
  },
  {
   "cell_type": "code",
   "execution_count": 4,
   "metadata": {},
   "outputs": [
    {
     "name": "stdout",
     "output_type": "stream",
     "text": [
      "CPU times: total: 500 ms\n",
      "Wall time: 807 ms\n"
     ]
    }
   ],
   "source": [
    "%%time\n",
    "# Ler o ficheiro long com Stocks e Fornecimento\n",
    "\n",
    "directória = \"D:\\\\B&N Dados\\\\Delta\\\\Padrão\\\\Padrão_07_2023\\\\\"\n",
    "num_bases = 1\n",
    "\n",
    "prefixo = \"1_Ninjas\"\n",
    "extensão = \".xlsx\" #xlsb\n",
    "\n",
    "\n",
    "dataframes = []\n",
    "\n",
    "for i in range(1, num_bases + 1):\n",
    "    file_path = f\"{directória}{prefixo}{i}{extensão}\"\n",
    "    df = pd.read_excel(file_path)\n",
    "    dataframes.append(df)\n",
    "    \n",
    "dfNinjas = pd.concat(dataframes, ignore_index=True)\n",
    "dfNinjas = dfNinjas.rename(columns={' Data de Resposta': 'DATA', \"Código da loja\":\"STORE\", \"Nome da Loja\":\"Loja\"})\n",
    "\n",
    "#dfNinjas = dfNinjas.rename(columns=lambda x: mapa_produtos2.get(x, x))\n",
    "\n",
    "\"\"\"Datetime\"\"\"\n",
    "\n",
    "# se xlsx\n",
    "dfNinjas['DATA'] = pd.to_datetime(dfNinjas['DATA'], format='%d-%m-%Y') \n",
    "\n",
    "# se xlsb\n",
    "#dfNinjas['DATA'] = pd.to_datetime(dfNinjas['DATA'], unit='d', origin=datetime.datetime(1899, 12, 30)) "
   ]
  },
  {
   "cell_type": "markdown",
   "metadata": {},
   "source": [
    "- Lista de produtos e lista de lojas"
   ]
  },
  {
   "cell_type": "markdown",
   "metadata": {},
   "source": [
    "# <font color=red>É preciso definir melhor o formato do ficheiro dos ninjas para se saber os produtos, preciso de perceber melhor como é gerado na aplicação</font>"
   ]
  },
  {
   "cell_type": "code",
   "execution_count": 5,
   "metadata": {},
   "outputs": [],
   "source": [
    "# Produtos\n",
    "ficheiro_Produtos = dfNinjas.columns.tolist()\n",
    "df_produtos = pd.DataFrame(ficheiro_Produtos[4:], columns=[\"DESC_ARTIGO\"])\n",
    "\n",
    "# Lojas\n",
    "df_lojas = pd.DataFrame(dfNinjas[\"STORE\"].unique().tolist(), columns=[\"STORE\"])\n",
    "\n",
    "\n",
    "'''Colocar em listas para serem chamáveis'''\n",
    "\n",
    "lojas = df_lojas[\"STORE\"].tolist()\n",
    "produtos = df_produtos[\"DESC_ARTIGO\"].tolist()\n",
    "numprod = len(produtos)"
   ]
  },
  {
   "cell_type": "markdown",
   "metadata": {},
   "source": [
    "> - **Id**"
   ]
  },
  {
   "cell_type": "code",
   "execution_count": 6,
   "metadata": {},
   "outputs": [],
   "source": [
    "# Extract the day and month components from the 'datetime' column\n",
    "dfNinjas['day'] = pd.to_datetime(dfNinjas['DATA']).dt.day\n",
    "dfNinjas['month'] = pd.to_datetime(dfNinjas['DATA']).dt.month\n",
    "\n",
    "# Create a new column combining day and month\n",
    "dfNinjas['day_month'] = dfNinjas['day'].astype(str) + '-' + dfNinjas['month'].astype(str)\n",
    "\n",
    "# Assign unique IDs to each unique day-month combination\n",
    "dfNinjas['id'], _ = pd.factorize(dfNinjas['day_month'])\n",
    "\n",
    "dfNinjas = dfNinjas.drop(columns=['day', 'month', 'day_month'])"
   ]
  },
  {
   "cell_type": "markdown",
   "metadata": {},
   "source": [
    "> - **Vendedor**"
   ]
  },
  {
   "cell_type": "code",
   "execution_count": 7,
   "metadata": {},
   "outputs": [],
   "source": [
    "# Ler ficheiro\n",
    "dfVendedor=pd.read_excel(\"D:\\\\B&N Dados\\\\Delta\\\\Vendedor.xlsx\", sheet_name = \"Lista Lojas Sonae\")\n",
    "dfVendedor = dfVendedor.rename(columns={\"Cód. Loja\":\"STORE\"})\n",
    "\n",
    "# Criar coluna de reposição\n",
    "dfNinjas = pd.merge(dfNinjas, dfVendedor[[\"STORE\",\"Vendedor\"]], how=\"left\", on = \"STORE\")"
   ]
  },
  {
   "cell_type": "markdown",
   "metadata": {},
   "source": [
    "> - **Reposição**"
   ]
  },
  {
   "cell_type": "code",
   "execution_count": 8,
   "metadata": {},
   "outputs": [],
   "source": [
    "# Ler o ficheiro com os nomes das lojas que fazem reposição\n",
    "dfRepos=pd.read_excel(\"D:\\\\B&N Dados\\\\Delta\\\\Reposição_Sonae_Código.xlsx\")\n",
    "\n",
    "# Criar coluna que determina quais lojas têm reposição\n",
    "dfNinjas['Reposição'] = [1 if val in dfRepos['STORE'].values else 0 for val in dfNinjas['STORE']]"
   ]
  },
  {
   "cell_type": "markdown",
   "metadata": {},
   "source": [
    "[Escrever](#section5)"
   ]
  },
  {
   "cell_type": "markdown",
   "metadata": {},
   "source": [
    "---"
   ]
  },
  {
   "cell_type": "markdown",
   "metadata": {},
   "source": [
    "<a id=\"section2.1\"></a>\n",
    "- #  `Delta`"
   ]
  },
  {
   "cell_type": "markdown",
   "metadata": {},
   "source": [
    "> <font color=blue>Ler</font>\n",
    "<a id=\"section1.2\"></a>"
   ]
  },
  {
   "cell_type": "code",
   "execution_count": 9,
   "metadata": {},
   "outputs": [
    {
     "name": "stdout",
     "output_type": "stream",
     "text": [
      "CPU times: total: 22.4 s\n",
      "Wall time: 23.2 s\n"
     ]
    }
   ],
   "source": [
    "%%time\n",
    "# Ler o ficheiro long com Stocks e Fornecimento\n",
    "\n",
    "directória = \"D:\\\\B&N Dados\\\\Delta\\\\Padrão\\\\Padrão_07_2023\\\\\"\n",
    "extensão = \".xlsb\"\n",
    "#extensão = \".xlsx\"\n",
    "num_bases = 4\n",
    "\n",
    "prefixo = \"2_Delta\"\n",
    "\n",
    "dataframes = []\n",
    "\n",
    "for i in range(1, num_bases + 1):\n",
    "    file_path = f\"{directória}{prefixo}{i}{extensão}\"\n",
    "    df = pd.read_excel(file_path)\n",
    "    dataframes.append(df[['DATA', 'EAN', 'DESC_ARTIGO', 'STORE', \"STORE_NAME\", \n",
    "                         \"SOH\", \"INTRANSIT\", \"EXPECTED\", \"PRES_STOCK\", \"VND (D-1)\"]])\n",
    "    \n",
    "dfDelta=pd.concat(dataframes, ignore_index=True)\n",
    "\n",
    "\"\"\"Datetime\"\"\"\n",
    "\n",
    "# se xlsx\n",
    "#dfDelta['DATA'] = pd.to_datetime(dfDelta['DATA'], format='%d-%m-%Y') \n",
    "\n",
    "# se xlsb\n",
    "dfDelta['DATA'] = pd.to_datetime(dfDelta['DATA'], unit='d', origin=datetime.datetime(1899, 12, 30)) "
   ]
  },
  {
   "cell_type": "markdown",
   "metadata": {},
   "source": [
    "> - **Definir os produtos e lojas em causa**"
   ]
  },
  {
   "cell_type": "code",
   "execution_count": 10,
   "metadata": {},
   "outputs": [],
   "source": [
    "# Estabelecer o Dataframe mais limitado\n",
    "dfDelta_Limpo = dfDelta[dfDelta['STORE'].isin(lojas) & dfDelta['DESC_ARTIGO'].isin(produtos)].copy()\n",
    "\n",
    "# Mudar nomes\n",
    "dfDelta_Limpo = dfDelta_Limpo.rename(columns={\"VND (D-1)\": \"SELLOUT_1_Dias_Antes\", \"SOH\": \"STOCK_1_Dias_Antes\"})"
   ]
  },
  {
   "cell_type": "markdown",
   "metadata": {},
   "source": [
    "> - **Criar colunas de Stock e Sellout para o próprio dia**"
   ]
  },
  {
   "cell_type": "code",
   "execution_count": 11,
   "metadata": {},
   "outputs": [],
   "source": [
    "# Organizar para atingir os valores relevantes\n",
    "dfDelta_Limpo = dfDelta_Limpo.sort_values(by=[\"STORE\", \"DESC_ARTIGO\", \"DATA\"])\n",
    "\n",
    "#Agrupar por loja e produto para não haver valores errados \n",
    "dfDelta_Limpo[\"SELLOUT\"] = dfDelta_Limpo.groupby([\"STORE\", \"DESC_ARTIGO\"])[\"SELLOUT_1_Dias_Antes\"].shift(-1)\n",
    "dfDelta_Limpo[\"STOCK\"] = dfDelta_Limpo.groupby([\"STORE\", \"DESC_ARTIGO\"])[\"STOCK_1_Dias_Antes\"].shift(-1)"
   ]
  },
  {
   "cell_type": "markdown",
   "metadata": {},
   "source": [
    "> - **Retirar os dias que não têm interesse (último dia)**"
   ]
  },
  {
   "cell_type": "code",
   "execution_count": 12,
   "metadata": {},
   "outputs": [],
   "source": [
    "# O dia final foi utilizado para conseguir dados do dia para stocks e sellouts mas não é dia de missão\n",
    "segunda = dfDelta_Limpo['DATA'].unique()\n",
    "\n",
    "dfDelta_Limpo = dfDelta_Limpo.loc[dfDelta_Limpo['DATA'] < segunda[-1]]\n",
    "dfDelta_Limpo_Org = dfDelta_Limpo.iloc[:, np.r_[:5,11,6:9,10]]"
   ]
  },
  {
   "cell_type": "markdown",
   "metadata": {},
   "source": [
    "## <center><font color=orange>Output DataCleaning"
   ]
  },
  {
   "cell_type": "code",
   "execution_count": 13,
   "metadata": {},
   "outputs": [],
   "source": [
    "dfNinjas = dfNinjas.iloc[:, np.r_[5+numprod,0:5+numprod,6+numprod]].copy()\n",
    "dfDelta = dfDelta_Limpo_Org.copy()"
   ]
  },
  {
   "cell_type": "raw",
   "metadata": {},
   "source": [
    "[f\"{index}: {column}\" for index, column in enumerate(dfNinjas)]"
   ]
  },
  {
   "cell_type": "markdown",
   "metadata": {},
   "source": [
    "---"
   ]
  },
  {
   "cell_type": "markdown",
   "metadata": {},
   "source": [
    "<a id=\"section2\"></a>\n",
    "# <center> 2. DataFusion Long (1)</center>\n",
    "[Voltar ao índice](#section0)"
   ]
  },
  {
   "cell_type": "markdown",
   "metadata": {},
   "source": [
    "> - __dfNinjas__ já definido\n",
    "> - __dfDelta__ já definido\n",
    "> - __produtos__ já definidos"
   ]
  },
  {
   "cell_type": "markdown",
   "metadata": {},
   "source": [
    "- #  `dfFinal1`"
   ]
  },
  {
   "cell_type": "code",
   "execution_count": 14,
   "metadata": {},
   "outputs": [],
   "source": [
    "resto = dfNinjas.columns.difference(produtos)\n",
    "# Passar ficheiro ninjas para long\n",
    "dfNinjasLong = dfNinjas.melt(id_vars=resto, value_vars=produtos, var_name='DESC_ARTIGO', value_name='NinjaInfo')\n",
    "\n",
    "\n",
    "#Mergir\n",
    "dfMeio = pd.merge(dfNinjasLong, dfDelta, how=\"left\", on = [\"DATA\",\"STORE\", \"DESC_ARTIGO\"]) \n",
    "#dfMeio = dfMeio.drop(columns=[\"Loja\"])\n",
    "\n",
    "dfFinal1=dfMeio.copy()"
   ]
  },
  {
   "cell_type": "markdown",
   "metadata": {},
   "source": [
    "> STK"
   ]
  },
  {
   "cell_type": "code",
   "execution_count": 15,
   "metadata": {},
   "outputs": [],
   "source": [
    "# Definir coluna de STK (soma de stocks com stock em trânsito)\n",
    "\n",
    "dfFinal1[\"STK\"] = dfFinal1[\"STOCK\"] + dfFinal1[\"INTRANSIT\"] + dfFinal1[\"EXPECTED\"]"
   ]
  },
  {
   "cell_type": "markdown",
   "metadata": {},
   "source": [
    "> Balanço"
   ]
  },
  {
   "cell_type": "code",
   "execution_count": 16,
   "metadata": {},
   "outputs": [],
   "source": [
    "# Definir coluna de Balanço (razão entre sellout e stock total)\n",
    "\n",
    "dfFinal1[\"Balanço\"] = dfFinal1[\"SELLOUT\"] / dfFinal1[\"STK\"]"
   ]
  },
  {
   "cell_type": "markdown",
   "metadata": {},
   "source": [
    "> Rotura"
   ]
  },
  {
   "cell_type": "code",
   "execution_count": 17,
   "metadata": {},
   "outputs": [],
   "source": [
    "# Definir coluna de rotura (se stock menor ou igual a 0 e existe Linear)\n",
    "\n",
    "dfFinal1[\"ROTURA\"] = np.where((dfFinal1[\"STOCK\"] <= 0) & (dfFinal1[\"PRES_STOCK\"] > 0), 1, 0)"
   ]
  },
  {
   "cell_type": "markdown",
   "metadata": {},
   "source": [
    ">Sinal"
   ]
  },
  {
   "cell_type": "code",
   "execution_count": 18,
   "metadata": {},
   "outputs": [],
   "source": [
    "# Categorias possíveis\n",
    "mapping = {1: \"Presente com Stock\",\n",
    "           2: \"Ausente com Stock\",\n",
    "           3: \"Presente sem Stock\",\n",
    "           4: \"Ausente sem Stock\",\n",
    "           5: \"Presente sem Registo\",\n",
    "           6: \"Ausente sem Registo\"}\n",
    "\n",
    "# Definir coluna de sinal\n",
    "dfFinal1[\"Sinal\"] = np.where((dfFinal1[\"STOCK\"] > 0) & (dfFinal1[\"NinjaInfo\"] == 1), 1,\n",
    "                     np.where((dfFinal1[\"STOCK\"] > 0) & (dfFinal1[\"NinjaInfo\"] == 0), 2,\n",
    "                     np.where((dfFinal1[\"STOCK\"] <= 0) & (dfFinal1[\"NinjaInfo\"] == 1), 3,\n",
    "                     np.where((dfFinal1[\"STOCK\"] <= 0) & (dfFinal1[\"NinjaInfo\"] == 0), 4,\n",
    "                     np.where((dfFinal1[\"STOCK\"].isna()) & (dfFinal1[\"NinjaInfo\"] == 1), 5,\n",
    "                     np.where((dfFinal1[\"STOCK\"].isna()) & (dfFinal1[\"NinjaInfo\"] == 0), 6,\n",
    "                     np.nan))))))\n",
    "\n",
    "# Substituir números pelas expressões escolhidas\n",
    "dfFinal1[\"Sinal\"] = dfFinal1[\"Sinal\"].map(mapping)"
   ]
  },
  {
   "cell_type": "markdown",
   "metadata": {},
   "source": [
    "> Ciclos"
   ]
  },
  {
   "cell_type": "code",
   "execution_count": 19,
   "metadata": {},
   "outputs": [],
   "source": [
    "dfFinal1[\"Ciclos\"]=dfFinal1[\"STOCK\"]/dfFinal1[\"PRES_STOCK\"]"
   ]
  },
  {
   "cell_type": "markdown",
   "metadata": {},
   "source": [
    "> Adequação"
   ]
  },
  {
   "cell_type": "code",
   "execution_count": 20,
   "metadata": {},
   "outputs": [],
   "source": [
    "dfFinal1[\"Adequação\"] = np.where(\n",
    "                        dfFinal1[\"Ciclos\"] > 1.1,\n",
    "                        \"Stock Suficiente\",\n",
    "                       np.where(\n",
    "                        (dfFinal1[\"Ciclos\"] <= 1.1) & (dfFinal1[\"INTRANSIT\"] + dfFinal1[\"EXPECTED\"] + dfFinal1[\"STOCK\"] >= dfFinal1[\"PRES_STOCK\"]),\n",
    "                        \"Stock Insuf c Forn Adequado\",\n",
    "                       np.where(\n",
    "                        (dfFinal1[\"Ciclos\"] <= 1.1) & (dfFinal1[\"INTRANSIT\"] + dfFinal1[\"EXPECTED\"] + dfFinal1[\"STOCK\"] < dfFinal1[\"PRES_STOCK\"]),\n",
    "                        \"Stock Insuf c Forn Desadequado\",\n",
    "                        \"\")))"
   ]
  },
  {
   "cell_type": "markdown",
   "metadata": {},
   "source": [
    "> Dias para a rotura de stock"
   ]
  },
  {
   "cell_type": "code",
   "execution_count": 21,
   "metadata": {},
   "outputs": [],
   "source": [
    "dfFinal1[\"Dias_para_Rotura\"] = dfFinal1[\"STOCK\"] / dfFinal1[\"SELLOUT\"]"
   ]
  },
  {
   "cell_type": "markdown",
   "metadata": {},
   "source": [
    "> Dias para a rotura de prateleira"
   ]
  },
  {
   "cell_type": "code",
   "execution_count": 22,
   "metadata": {},
   "outputs": [],
   "source": [
    "dfFinal1[\"Dias_para_Rotura_Linear\"] = dfFinal1[\"PRES_STOCK\"] / dfFinal1[\"SELLOUT\"]"
   ]
  },
  {
   "cell_type": "markdown",
   "metadata": {},
   "source": [
    "> Roturas de prateleira (meh)"
   ]
  },
  {
   "cell_type": "raw",
   "metadata": {},
   "source": [
    "'''Isto serve para mudar os 0s para 1s do NinjaInfo para se poder fazer gráficos e análises'''\n",
    "\n",
    "#1 Quando detectada rotura\n",
    "dfFinal1[\"ROTURA_LINEAR\"] = dfFinal1[dfFinal1['NinjaInfo'] == 0].groupby(['STORE', 'DATA', 'DESC_ARTIGO'])['NinjaInfo'].transform('count')\n",
    "#0 Quando não há rotura\n",
    "dfFinal1[\"ROTURA_LINEAR\"] = np.where(dfFinal1['NinjaInfo'] == 1, 0, dfFinal1['ROTURA_LINEAR'])"
   ]
  },
  {
   "cell_type": "markdown",
   "metadata": {},
   "source": [
    "- ###  `Organizar`"
   ]
  },
  {
   "cell_type": "raw",
   "metadata": {},
   "source": [
    "df_columns = dfFinal1Corrigido.columns.tolist()\n",
    "indexed_columns = [f\"{index}: {column}\" for index, column in enumerate(df_columns)]\n",
    "indexed_columns"
   ]
  },
  {
   "cell_type": "raw",
   "metadata": {},
   "source": [
    "df_columns = dfFinal1.columns.tolist()\n",
    "indexed_columns = [f\"{index}: {column}\" for index, column in enumerate(df_columns)]\n",
    "lista_dfFinal1 = [5,0:2,7:16,2:5,6,16:19,24,19:24]\n",
    "indexed_columns"
   ]
  },
  {
   "cell_type": "markdown",
   "metadata": {},
   "source": [
    "## <center><font color=orange>Output DataFusion Long"
   ]
  },
  {
   "cell_type": "code",
   "execution_count": 90,
   "metadata": {},
   "outputs": [],
   "source": [
    "#df1 = dfFinal1.iloc[:, np.r_[5,0:2,7:16,2:5,6,16:19,19:24]].copy()  # Sem hora\n",
    "df1 = dfFinal1.iloc[:, np.r_[5,0:3,7:16,3:5,6,16:19,19:24]].copy()   # Com hora"
   ]
  },
  {
   "cell_type": "code",
   "execution_count": 92,
   "metadata": {},
   "outputs": [
    {
     "data": {
      "text/plain": [
       "['0: Vendedor',\n",
       " '1: DATA',\n",
       " '2: Hora',\n",
       " '3: Loja',\n",
       " '4: DESC_ARTIGO',\n",
       " '5: NinjaInfo',\n",
       " '6: EAN',\n",
       " '7: STORE_NAME',\n",
       " '8: STOCK',\n",
       " '9: INTRANSIT',\n",
       " '10: EXPECTED',\n",
       " '11: PRES_STOCK',\n",
       " '12: SELLOUT',\n",
       " '13: Reposição',\n",
       " '14: STORE',\n",
       " '15: id',\n",
       " '16: STK',\n",
       " '17: Balanço',\n",
       " '18: ROTURA',\n",
       " '19: Sinal',\n",
       " '20: Ciclos',\n",
       " '21: Adequação',\n",
       " '22: Dias_para_Rotura',\n",
       " '23: Dias_para_Rotura_Linear']"
      ]
     },
     "execution_count": 92,
     "metadata": {},
     "output_type": "execute_result"
    }
   ],
   "source": [
    "[f\"{index}: {column}\" for index, column in enumerate(df1)]"
   ]
  },
  {
   "cell_type": "markdown",
   "metadata": {},
   "source": [
    "- <font color = red>Se houver lapsos a nível de Cardex:"
   ]
  },
  {
   "cell_type": "code",
   "execution_count": 91,
   "metadata": {},
   "outputs": [],
   "source": [
    "df1 = df1.dropna(subset=[\"STOCK\"])"
   ]
  },
  {
   "cell_type": "raw",
   "metadata": {},
   "source": [
    "df_SemRegisto = df1[df1[\"STOCK\"].isna()][[\"Vendedor\", \"Loja\", \"DESC_ARTIGO\"]]\n",
    "\n",
    "#escrever_excel(df_SemRegisto, \"semRegisto\")"
   ]
  },
  {
   "cell_type": "markdown",
   "metadata": {},
   "source": [
    "- Meter aquelas métricas"
   ]
  },
  {
   "cell_type": "code",
   "execution_count": 93,
   "metadata": {},
   "outputs": [],
   "source": [
    "dfJuntar = pd.read_csv('D:\\\\B&N Dados\\\\Delta\\\\Stocks\\\\StocksTotal\\\\Mil_MétricasCerto.csv')"
   ]
  },
  {
   "cell_type": "code",
   "execution_count": 94,
   "metadata": {},
   "outputs": [
    {
     "data": {
      "text/plain": [
       "['DATA',\n",
       " 'EAN',\n",
       " 'DESC_ARTIGO',\n",
       " 'STORE',\n",
       " 'STORE_NAME',\n",
       " 'INTRANSIT',\n",
       " 'EXPECTED',\n",
       " 'PRES_STOCK',\n",
       " 'STOCK',\n",
       " 'STOCK_1_Dias_Antes',\n",
       " 'SELLOUT',\n",
       " 'SELLOUT_1_Dias_Antes',\n",
       " 'Prophet',\n",
       " 'XGBoost',\n",
       " 'ROTURA',\n",
       " 'PRE_ROTURA',\n",
       " 'Volatilidade_30',\n",
       " 'Volatilidade_60',\n",
       " 'Volatilidade_120',\n",
       " 'Volatilidade_180',\n",
       " 'Percentagem_Roturas_30',\n",
       " 'Percentagem_Roturas_60',\n",
       " 'Percentagem_Roturas_120',\n",
       " 'Percentagem_Roturas_180',\n",
       " 'New_Supply',\n",
       " 'Percentagem_Supply_30',\n",
       " 'Percentagem_Supply_60',\n",
       " 'Percentagem_Supply_120',\n",
       " 'Percentagem_Supply_180',\n",
       " 'SELLOUT_fds',\n",
       " 'SELLOUT_semana',\n",
       " 'Efeito_Fds_30',\n",
       " 'Efeito_Fds_60',\n",
       " 'Efeito_Fds_120',\n",
       " 'Efeito_Fds_180',\n",
       " 'InterSupply',\n",
       " 'InterSupplyMed_30',\n",
       " 'InterSupplyMed_60',\n",
       " 'InterSupplyMed_120',\n",
       " 'InterSupplyMed_180',\n",
       " 'Tempo_Indisponível',\n",
       " 'Tempo_Indisponível_30',\n",
       " 'Tempo_Indisponível_60',\n",
       " 'Tempo_Indisponível_120',\n",
       " 'Tempo_Indisponível_180',\n",
       " 'Stock_Borderline',\n",
       " 'Tempo_Stock_Borderline_30',\n",
       " 'Tempo_Stock_Borderline_60',\n",
       " 'Tempo_Stock_Borderline_120',\n",
       " 'Tempo_Stock_Borderline_180',\n",
       " 'Linear_Incompleto',\n",
       " 'Tempo_Linear_Incompleto_30',\n",
       " 'Tempo_Linear_Incompleto_60',\n",
       " 'Tempo_Linear_Incompleto_120',\n",
       " 'Tempo_Linear_Incompleto_180',\n",
       " 'Sem_Vendas',\n",
       " 'Sem_Vendas_30',\n",
       " 'Sem_Vendas_60',\n",
       " 'Sem_Vendas_120',\n",
       " 'Sem_Vendas_180',\n",
       " 'ROTURA_fds',\n",
       " 'ROTURA_semana',\n",
       " 'Vendas_Perdidas_30',\n",
       " 'Vendas_Perdidas_60',\n",
       " 'Vendas_Perdidas_120',\n",
       " 'Vendas_Perdidas_180',\n",
       " 'SELLOUT_2_Dias_Antes',\n",
       " 'SELLOUT_3_Dias_Antes',\n",
       " 'SELLOUT_4_Dias_Antes',\n",
       " 'SELLOUT_5_Dias_Antes',\n",
       " 'SELLOUT_6_Dias_Antes',\n",
       " 'SELLOUT_7_Dias_Antes',\n",
       " 'SELLOUT_8_Dias_Antes',\n",
       " 'SELLOUT_9_Dias_Antes',\n",
       " 'SELLOUT_10_Dias_Antes',\n",
       " 'STOCK_2_Dias_Antes',\n",
       " 'STOCK_3_Dias_Antes',\n",
       " 'STOCK_4_Dias_Antes',\n",
       " 'STOCK_5_Dias_Antes',\n",
       " 'STOCK_6_Dias_Antes',\n",
       " 'STOCK_7_Dias_Antes',\n",
       " 'STOCK_8_Dias_Antes',\n",
       " 'STOCK_9_Dias_Antes',\n",
       " 'STOCK_10_Dias_Antes',\n",
       " 'INTRANSIT_1_Dias_Antes',\n",
       " 'INTRANSIT_2_Dias_Antes',\n",
       " 'INTRANSIT_3_Dias_Antes',\n",
       " 'INTRANSIT_4_Dias_Antes',\n",
       " 'INTRANSIT_5_Dias_Antes',\n",
       " 'INTRANSIT_6_Dias_Antes',\n",
       " 'INTRANSIT_7_Dias_Antes',\n",
       " 'INTRANSIT_8_Dias_Antes',\n",
       " 'INTRANSIT_9_Dias_Antes',\n",
       " 'INTRANSIT_10_Dias_Antes',\n",
       " 'EXPECTED_1_Dias_Antes',\n",
       " 'EXPECTED_2_Dias_Antes',\n",
       " 'EXPECTED_3_Dias_Antes',\n",
       " 'EXPECTED_4_Dias_Antes',\n",
       " 'EXPECTED_5_Dias_Antes',\n",
       " 'EXPECTED_6_Dias_Antes',\n",
       " 'EXPECTED_7_Dias_Antes',\n",
       " 'EXPECTED_8_Dias_Antes',\n",
       " 'EXPECTED_9_Dias_Antes',\n",
       " 'EXPECTED_10_Dias_Antes',\n",
       " 'STK',\n",
       " 'STK_1_Dias_Antes',\n",
       " 'STK_2_Dias_Antes',\n",
       " 'STK_3_Dias_Antes',\n",
       " 'STK_4_Dias_Antes',\n",
       " 'STK_5_Dias_Antes',\n",
       " 'STK_6_Dias_Antes',\n",
       " 'STK_7_Dias_Antes',\n",
       " 'STK_8_Dias_Antes',\n",
       " 'STK_9_Dias_Antes',\n",
       " 'STK_10_Dias_Antes',\n",
       " 'MSA10',\n",
       " 'MSA10Dp',\n",
       " 'MSA10_1_Dias_Antes',\n",
       " 'MSA10_2_Dias_Antes',\n",
       " 'MSA10_3_Dias_Antes',\n",
       " 'MSA10_4_Dias_Antes',\n",
       " 'MSA10_5_Dias_Antes',\n",
       " 'MSA10_6_Dias_Antes',\n",
       " 'MSA10_7_Dias_Antes',\n",
       " 'MSA10_8_Dias_Antes',\n",
       " 'MSA10_9_Dias_Antes',\n",
       " 'MSA10_10_Dias_Antes',\n",
       " 'MSA20',\n",
       " 'MSA20Dp',\n",
       " 'MSA20_1_Dias_Antes',\n",
       " 'MSA20_2_Dias_Antes',\n",
       " 'MSA20_3_Dias_Antes',\n",
       " 'MSA20_4_Dias_Antes',\n",
       " 'MSA20_5_Dias_Antes',\n",
       " 'MSA20_6_Dias_Antes',\n",
       " 'MSA20_7_Dias_Antes',\n",
       " 'MSA20_8_Dias_Antes',\n",
       " 'MSA20_9_Dias_Antes',\n",
       " 'MSA20_10_Dias_Antes',\n",
       " 'CICLOS',\n",
       " 'CICLOS_1_Dias_Antes',\n",
       " 'CICLOS_2_Dias_Antes',\n",
       " 'CICLOS_3_Dias_Antes',\n",
       " 'CICLOS_4_Dias_Antes',\n",
       " 'CICLOS_5_Dias_Antes',\n",
       " 'CICLOS_6_Dias_Antes',\n",
       " 'CICLOS_7_Dias_Antes',\n",
       " 'CICLOS_8_Dias_Antes',\n",
       " 'CICLOS_9_Dias_Antes',\n",
       " 'CICLOS_10_Dias_Antes',\n",
       " 'Dias_para_Rotura_Stock',\n",
       " 'Dias_para_Rotura_Stock_1_Dias_Antes',\n",
       " 'Dias_para_Rotura_Stock_2_Dias_Antes',\n",
       " 'Dias_para_Rotura_Stock_3_Dias_Antes',\n",
       " 'Dias_para_Rotura_Stock_4_Dias_Antes',\n",
       " 'Dias_para_Rotura_Stock_5_Dias_Antes',\n",
       " 'Dias_para_Rotura_Stock_6_Dias_Antes',\n",
       " 'Dias_para_Rotura_Stock_7_Dias_Antes',\n",
       " 'Dias_para_Rotura_Stock_8_Dias_Antes',\n",
       " 'Dias_para_Rotura_Stock_9_Dias_Antes',\n",
       " 'Dias_para_Rotura_Stock_10_Dias_Antes',\n",
       " 'Dias_Duração_Linear',\n",
       " 'Dias_Duração_Linear_1_Dias_Antes',\n",
       " 'Dias_Duração_Linear_2_Dias_Antes',\n",
       " 'Dias_Duração_Linear_3_Dias_Antes',\n",
       " 'Dias_Duração_Linear_4_Dias_Antes',\n",
       " 'Dias_Duração_Linear_5_Dias_Antes',\n",
       " 'Dias_Duração_Linear_6_Dias_Antes',\n",
       " 'Dias_Duração_Linear_7_Dias_Antes',\n",
       " 'Dias_Duração_Linear_8_Dias_Antes',\n",
       " 'Dias_Duração_Linear_9_Dias_Antes',\n",
       " 'Dias_Duração_Linear_10_Dias_Antes',\n",
       " 'Adequação',\n",
       " 'Adequação_1_Dias_Antes',\n",
       " 'Adequação_2_Dias_Antes',\n",
       " 'Adequação_3_Dias_Antes',\n",
       " 'Adequação_4_Dias_Antes',\n",
       " 'Adequação_5_Dias_Antes',\n",
       " 'Adequação_6_Dias_Antes',\n",
       " 'Adequação_7_Dias_Antes',\n",
       " 'Adequação_8_Dias_Antes',\n",
       " 'Adequação_9_Dias_Antes',\n",
       " 'Adequação_10_Dias_Antes',\n",
       " 'Balance',\n",
       " 'Balance_1_Dias_Antes',\n",
       " 'Balance_2_Dias_Antes',\n",
       " 'Balance_3_Dias_Antes',\n",
       " 'Balance_4_Dias_Antes',\n",
       " 'Balance_5_Dias_Antes',\n",
       " 'Balance_6_Dias_Antes',\n",
       " 'Balance_7_Dias_Antes',\n",
       " 'Balance_8_Dias_Antes',\n",
       " 'Balance_9_Dias_Antes',\n",
       " 'Balance_10_Dias_Antes',\n",
       " 'Balance_Optimized',\n",
       " 'Balance_Optimized_1_Dias_Antes',\n",
       " 'Balance_Optimized_2_Dias_Antes',\n",
       " 'Balance_Optimized_3_Dias_Antes',\n",
       " 'Balance_Optimized_4_Dias_Antes',\n",
       " 'Balance_Optimized_5_Dias_Antes',\n",
       " 'Balance_Optimized_6_Dias_Antes',\n",
       " 'Balance_Optimized_7_Dias_Antes',\n",
       " 'Balance_Optimized_8_Dias_Antes',\n",
       " 'Balance_Optimized_9_Dias_Antes',\n",
       " 'Balance_Optimized_10_Dias_Antes',\n",
       " 'Balance_Mediano',\n",
       " 'Balance_Mediano_1_Dias_Antes',\n",
       " 'Balance_Mediano_2_Dias_Antes',\n",
       " 'Balance_Mediano_3_Dias_Antes',\n",
       " 'Balance_Mediano_4_Dias_Antes',\n",
       " 'Balance_Mediano_5_Dias_Antes',\n",
       " 'Balance_Mediano_6_Dias_Antes',\n",
       " 'Balance_Mediano_7_Dias_Antes',\n",
       " 'Balance_Mediano_8_Dias_Antes',\n",
       " 'Balance_Mediano_9_Dias_Antes',\n",
       " 'Balance_Mediano_10_Dias_Antes',\n",
       " 'Balance_Liberal',\n",
       " 'Balance_Liberal_1_Dias_Antes',\n",
       " 'Balance_Liberal_2_Dias_Antes',\n",
       " 'Balance_Liberal_3_Dias_Antes',\n",
       " 'Balance_Liberal_4_Dias_Antes',\n",
       " 'Balance_Liberal_5_Dias_Antes',\n",
       " 'Balance_Liberal_6_Dias_Antes',\n",
       " 'Balance_Liberal_7_Dias_Antes',\n",
       " 'Balance_Liberal_8_Dias_Antes',\n",
       " 'Balance_Liberal_9_Dias_Antes',\n",
       " 'Balance_Liberal_10_Dias_Antes',\n",
       " 'Balance_Conservador',\n",
       " 'Balance_Conservador_1_Dias_Antes',\n",
       " 'Balance_Conservador_2_Dias_Antes',\n",
       " 'Balance_Conservador_3_Dias_Antes',\n",
       " 'Balance_Conservador_4_Dias_Antes',\n",
       " 'Balance_Conservador_5_Dias_Antes',\n",
       " 'Balance_Conservador_6_Dias_Antes',\n",
       " 'Balance_Conservador_7_Dias_Antes',\n",
       " 'Balance_Conservador_8_Dias_Antes',\n",
       " 'Balance_Conservador_9_Dias_Antes',\n",
       " 'Balance_Conservador_10_Dias_Antes']"
      ]
     },
     "execution_count": 94,
     "metadata": {},
     "output_type": "execute_result"
    }
   ],
   "source": [
    "dfJuntar.columns.tolist()"
   ]
  },
  {
   "cell_type": "code",
   "execution_count": 76,
   "metadata": {},
   "outputs": [],
   "source": [
    "dfJuntar=dfJuntar[dfJuntar.DATA>='2023-05-05'][['DATA','STORE', \"DESC_ARTIGO\",'Volatilidade_30',\n",
    " 'Volatilidade_60',\n",
    " 'Volatilidade_120',\n",
    " 'Volatilidade_180',\n",
    " 'Percentagem_Roturas_30',\n",
    " 'Percentagem_Roturas_60',\n",
    " 'Percentagem_Roturas_120',\n",
    " 'Percentagem_Roturas_180',\n",
    " 'New_Supply',\n",
    " 'Percentagem_Supply_30',\n",
    " 'Percentagem_Supply_60',\n",
    " 'Percentagem_Supply_120',\n",
    " 'Percentagem_Supply_180',\n",
    " 'SELLOUT_fds',\n",
    " 'SELLOUT_semana',\n",
    " 'Efeito_Fds_30',\n",
    " 'Efeito_Fds_60',\n",
    " 'Efeito_Fds_120',\n",
    " 'Efeito_Fds_180',\n",
    " 'InterSupply',\n",
    " 'InterSupplyMed_30',\n",
    " 'InterSupplyMed_60',\n",
    " 'InterSupplyMed_120',\n",
    " 'InterSupplyMed_180',\n",
    " 'Tempo_Indisponível',\n",
    " 'Tempo_Indisponível_30',\n",
    " 'Tempo_Indisponível_60',\n",
    " 'Tempo_Indisponível_120',\n",
    " 'Tempo_Indisponível_180',\n",
    " 'Stock_Borderline',\n",
    " 'Tempo_Stock_Borderline_30',\n",
    " 'Tempo_Stock_Borderline_60',\n",
    " 'Tempo_Stock_Borderline_120',\n",
    " 'Tempo_Stock_Borderline_180',\n",
    " 'Linear_Incompleto',\n",
    " 'Tempo_Linear_Incompleto_30',\n",
    " 'Tempo_Linear_Incompleto_60',\n",
    " 'Tempo_Linear_Incompleto_120',\n",
    " 'Tempo_Linear_Incompleto_180',\n",
    " 'Sem_Vendas',\n",
    " 'Sem_Vendas_30',\n",
    " 'Sem_Vendas_60',\n",
    " 'Sem_Vendas_120',\n",
    " 'Sem_Vendas_180',\n",
    " 'ROTURA_fds',\n",
    " 'ROTURA_semana',\n",
    " 'Vendas_Perdidas_30',\n",
    " 'Vendas_Perdidas_60',\n",
    " 'Vendas_Perdidas_120',\n",
    " 'Vendas_Perdidas_180']]"
   ]
  },
  {
   "cell_type": "code",
   "execution_count": 84,
   "metadata": {},
   "outputs": [
    {
     "data": {
      "text/plain": [
       "53"
      ]
     },
     "execution_count": 84,
     "metadata": {},
     "output_type": "execute_result"
    }
   ],
   "source": [
    "len(dfJuntar.columns)"
   ]
  },
  {
   "cell_type": "code",
   "execution_count": 78,
   "metadata": {},
   "outputs": [],
   "source": [
    "# Extract the day and month components from the 'datetime' column\n",
    "dfJuntar['day'] = pd.to_datetime(dfJuntar['DATA']).dt.day\n",
    "dfJuntar['month'] = pd.to_datetime(dfJuntar['DATA']).dt.month\n",
    "\n",
    "# Create a new column combining day and month\n",
    "dfJuntar['day_month'] = dfJuntar['day'].astype(str) + '-' + dfJuntar['month'].astype(str)\n",
    "\n",
    "# Assign unique IDs to each unique day-month combination\n",
    "dfJuntar['id'], _ = pd.factorize(dfJuntar['day_month'])\n",
    "\n",
    "dfJuntar = dfJuntar.drop(columns=['day', 'month', 'day_month', 'DATA'])"
   ]
  },
  {
   "cell_type": "code",
   "execution_count": 85,
   "metadata": {},
   "outputs": [],
   "source": [
    "df1 = pd.merge(df1, dfJuntar, on = [\"id\",\"STORE\", \"DESC_ARTIGO\"], how = \"left\")"
   ]
  },
  {
   "cell_type": "code",
   "execution_count": 87,
   "metadata": {},
   "outputs": [
    {
     "data": {
      "text/html": [
       "<div>\n",
       "<style scoped>\n",
       "    .dataframe tbody tr th:only-of-type {\n",
       "        vertical-align: middle;\n",
       "    }\n",
       "\n",
       "    .dataframe tbody tr th {\n",
       "        vertical-align: top;\n",
       "    }\n",
       "\n",
       "    .dataframe thead th {\n",
       "        text-align: right;\n",
       "    }\n",
       "</style>\n",
       "<table border=\"1\" class=\"dataframe\">\n",
       "  <thead>\n",
       "    <tr style=\"text-align: right;\">\n",
       "      <th></th>\n",
       "      <th>Vendedor</th>\n",
       "      <th>DATA</th>\n",
       "      <th>Hora</th>\n",
       "      <th>Loja</th>\n",
       "      <th>DESC_ARTIGO</th>\n",
       "      <th>NinjaInfo</th>\n",
       "      <th>EAN</th>\n",
       "      <th>STORE_NAME</th>\n",
       "      <th>STOCK</th>\n",
       "      <th>INTRANSIT</th>\n",
       "      <th>...</th>\n",
       "      <th>Sem_Vendas_30</th>\n",
       "      <th>Sem_Vendas_60</th>\n",
       "      <th>Sem_Vendas_120</th>\n",
       "      <th>Sem_Vendas_180</th>\n",
       "      <th>ROTURA_fds</th>\n",
       "      <th>ROTURA_semana</th>\n",
       "      <th>Vendas_Perdidas_30</th>\n",
       "      <th>Vendas_Perdidas_60</th>\n",
       "      <th>Vendas_Perdidas_120</th>\n",
       "      <th>Vendas_Perdidas_180</th>\n",
       "    </tr>\n",
       "  </thead>\n",
       "  <tbody>\n",
       "    <tr>\n",
       "      <th>0</th>\n",
       "      <td>Brizida Almeida</td>\n",
       "      <td>2023-07-23</td>\n",
       "      <td>15:03:00</td>\n",
       "      <td>Continente Amadora</td>\n",
       "      <td>CAFÉ DELTA Q QALIDUS 40CAP</td>\n",
       "      <td>1.0</td>\n",
       "      <td>5.601082e+12</td>\n",
       "      <td>CNT AMADORA</td>\n",
       "      <td>57.0</td>\n",
       "      <td>0.0</td>\n",
       "      <td>...</td>\n",
       "      <td>6.666667</td>\n",
       "      <td>8.333333</td>\n",
       "      <td>4.166667</td>\n",
       "      <td>4.444444</td>\n",
       "      <td>0.0</td>\n",
       "      <td>NaN</td>\n",
       "      <td>0.0</td>\n",
       "      <td>0.0</td>\n",
       "      <td>0.0</td>\n",
       "      <td>0.0</td>\n",
       "    </tr>\n",
       "    <tr>\n",
       "      <th>1</th>\n",
       "      <td>Carla Teixeira</td>\n",
       "      <td>2023-07-23</td>\n",
       "      <td>19:37:00</td>\n",
       "      <td>Continente Antas</td>\n",
       "      <td>CAFÉ DELTA Q QALIDUS 40CAP</td>\n",
       "      <td>1.0</td>\n",
       "      <td>5.601082e+12</td>\n",
       "      <td>CNT ANTAS</td>\n",
       "      <td>168.0</td>\n",
       "      <td>0.0</td>\n",
       "      <td>...</td>\n",
       "      <td>23.333333</td>\n",
       "      <td>33.333333</td>\n",
       "      <td>29.166667</td>\n",
       "      <td>30.555556</td>\n",
       "      <td>0.0</td>\n",
       "      <td>NaN</td>\n",
       "      <td>0.0</td>\n",
       "      <td>0.0</td>\n",
       "      <td>0.0</td>\n",
       "      <td>0.0</td>\n",
       "    </tr>\n",
       "    <tr>\n",
       "      <th>2</th>\n",
       "      <td>Carla Teixeira</td>\n",
       "      <td>2023-07-22</td>\n",
       "      <td>21:47:00</td>\n",
       "      <td>Continente Arrábida (Gaia Jardim)</td>\n",
       "      <td>CAFÉ DELTA Q QALIDUS 40CAP</td>\n",
       "      <td>1.0</td>\n",
       "      <td>5.601082e+12</td>\n",
       "      <td>CNT ARRABIDA</td>\n",
       "      <td>18.0</td>\n",
       "      <td>0.0</td>\n",
       "      <td>...</td>\n",
       "      <td>50.000000</td>\n",
       "      <td>38.333333</td>\n",
       "      <td>30.833333</td>\n",
       "      <td>31.111111</td>\n",
       "      <td>0.0</td>\n",
       "      <td>NaN</td>\n",
       "      <td>0.0</td>\n",
       "      <td>0.0</td>\n",
       "      <td>0.0</td>\n",
       "      <td>0.0</td>\n",
       "    </tr>\n",
       "    <tr>\n",
       "      <th>3</th>\n",
       "      <td>Andreia Gonçalves</td>\n",
       "      <td>2023-07-23</td>\n",
       "      <td>12:49:00</td>\n",
       "      <td>Continente Beja</td>\n",
       "      <td>CAFÉ DELTA Q QALIDUS 40CAP</td>\n",
       "      <td>1.0</td>\n",
       "      <td>5.601082e+12</td>\n",
       "      <td>CNT BEJA</td>\n",
       "      <td>109.0</td>\n",
       "      <td>0.0</td>\n",
       "      <td>...</td>\n",
       "      <td>3.333333</td>\n",
       "      <td>3.333333</td>\n",
       "      <td>2.500000</td>\n",
       "      <td>10.555556</td>\n",
       "      <td>0.0</td>\n",
       "      <td>NaN</td>\n",
       "      <td>0.0</td>\n",
       "      <td>0.0</td>\n",
       "      <td>0.0</td>\n",
       "      <td>0.0</td>\n",
       "    </tr>\n",
       "    <tr>\n",
       "      <th>4</th>\n",
       "      <td>Susana Gomes</td>\n",
       "      <td>2023-07-21</td>\n",
       "      <td>11:41:00</td>\n",
       "      <td>Continente Braga</td>\n",
       "      <td>CAFÉ DELTA Q QALIDUS 40CAP</td>\n",
       "      <td>1.0</td>\n",
       "      <td>5.601082e+12</td>\n",
       "      <td>CNT BRAGA</td>\n",
       "      <td>42.0</td>\n",
       "      <td>0.0</td>\n",
       "      <td>...</td>\n",
       "      <td>23.333333</td>\n",
       "      <td>26.666667</td>\n",
       "      <td>21.666667</td>\n",
       "      <td>23.333333</td>\n",
       "      <td>0.0</td>\n",
       "      <td>NaN</td>\n",
       "      <td>0.0</td>\n",
       "      <td>0.0</td>\n",
       "      <td>0.0</td>\n",
       "      <td>0.0</td>\n",
       "    </tr>\n",
       "  </tbody>\n",
       "</table>\n",
       "<p>5 rows × 74 columns</p>\n",
       "</div>"
      ],
      "text/plain": [
       "            Vendedor       DATA      Hora                               Loja  \\\n",
       "0    Brizida Almeida 2023-07-23  15:03:00                 Continente Amadora   \n",
       "1     Carla Teixeira 2023-07-23  19:37:00                   Continente Antas   \n",
       "2     Carla Teixeira 2023-07-22  21:47:00  Continente Arrábida (Gaia Jardim)   \n",
       "3  Andreia Gonçalves 2023-07-23  12:49:00                    Continente Beja   \n",
       "4       Susana Gomes 2023-07-21  11:41:00                   Continente Braga   \n",
       "\n",
       "                  DESC_ARTIGO  NinjaInfo           EAN    STORE_NAME  STOCK  \\\n",
       "0  CAFÉ DELTA Q QALIDUS 40CAP        1.0  5.601082e+12   CNT AMADORA   57.0   \n",
       "1  CAFÉ DELTA Q QALIDUS 40CAP        1.0  5.601082e+12     CNT ANTAS  168.0   \n",
       "2  CAFÉ DELTA Q QALIDUS 40CAP        1.0  5.601082e+12  CNT ARRABIDA   18.0   \n",
       "3  CAFÉ DELTA Q QALIDUS 40CAP        1.0  5.601082e+12      CNT BEJA  109.0   \n",
       "4  CAFÉ DELTA Q QALIDUS 40CAP        1.0  5.601082e+12     CNT BRAGA   42.0   \n",
       "\n",
       "   INTRANSIT  ...  Sem_Vendas_30  Sem_Vendas_60  Sem_Vendas_120  \\\n",
       "0        0.0  ...       6.666667       8.333333        4.166667   \n",
       "1        0.0  ...      23.333333      33.333333       29.166667   \n",
       "2        0.0  ...      50.000000      38.333333       30.833333   \n",
       "3        0.0  ...       3.333333       3.333333        2.500000   \n",
       "4        0.0  ...      23.333333      26.666667       21.666667   \n",
       "\n",
       "   Sem_Vendas_180  ROTURA_fds  ROTURA_semana  Vendas_Perdidas_30  \\\n",
       "0        4.444444         0.0            NaN                 0.0   \n",
       "1       30.555556         0.0            NaN                 0.0   \n",
       "2       31.111111         0.0            NaN                 0.0   \n",
       "3       10.555556         0.0            NaN                 0.0   \n",
       "4       23.333333         0.0            NaN                 0.0   \n",
       "\n",
       "   Vendas_Perdidas_60  Vendas_Perdidas_120 Vendas_Perdidas_180  \n",
       "0                 0.0                  0.0                 0.0  \n",
       "1                 0.0                  0.0                 0.0  \n",
       "2                 0.0                  0.0                 0.0  \n",
       "3                 0.0                  0.0                 0.0  \n",
       "4                 0.0                  0.0                 0.0  \n",
       "\n",
       "[5 rows x 74 columns]"
      ]
     },
     "execution_count": 87,
     "metadata": {},
     "output_type": "execute_result"
    }
   ],
   "source": [
    "df1.head()"
   ]
  },
  {
   "cell_type": "markdown",
   "metadata": {},
   "source": [
    "[Escrever](#section5) <br>\n",
    "[Visualizar](#section6)"
   ]
  },
  {
   "cell_type": "markdown",
   "metadata": {},
   "source": [
    "<a id=\"section3\"></a>\n",
    "# <center>3. DataFusion Wide (2)</center>\n",
    "[Voltar ao índice](#section0)<br>"
   ]
  },
  {
   "cell_type": "markdown",
   "metadata": {},
   "source": [
    "> - __dfNinjas__ já definido\n",
    "> - __dfDelta__ já definido\n",
    "> - __produtos__ já definidos"
   ]
  },
  {
   "cell_type": "markdown",
   "metadata": {},
   "source": [
    "- #  `dfFinal2`"
   ]
  },
  {
   "cell_type": "code",
   "execution_count": 471,
   "metadata": {},
   "outputs": [],
   "source": [
    "# Dataframe mergido no fim\n",
    "dfMeio2 = dfNinjas.copy()\n",
    "\n",
    "\n",
    "for coluna in produtos:       \n",
    "    \n",
    "    #Cada dfStocks é um dataframe com o produto específico\n",
    "    dfStocks=dfDelta[dfDelta[\"DESC_ARTIGO\"]==coluna][[\"DATA\", \"STORE\", \"STOCK\", \"PRES_STOCK\", \"INTRANSIT\", \"EXPECTED\", \"SELLOUT\"]]   #Dados Ninjas, seleccionar colunas do café específico\n",
    " \n",
    "    #Juntar dados de acordo com o dia e a loja\n",
    "    dfMeio2=pd.merge(dfMeio2, dfStocks, how=\"left\", on = [\"DATA\",\"STORE\"])  \n",
    "    \n",
    "    #Mudar nomes para ser adaptado a cada produto\n",
    "    dfMeio2=dfMeio2.rename(columns={\"STOCK\": \"STOCK %s\" % coluna, \"PRES_STOCK\":\"PRESLINEAR %s\" % coluna, \"INTRANSIT\":\"INTRANSIT %s\" % coluna, \"EXPECTED\":\"EXPECTED %s\" % coluna, \"SELLOUT\":\"SELLOUT %s\" % coluna})                       #Nomear coluna nova\n",
    "    \n",
    "dfFinal2=dfMeio2.copy()"
   ]
  },
  {
   "cell_type": "markdown",
   "metadata": {},
   "source": [
    "---"
   ]
  },
  {
   "cell_type": "markdown",
   "metadata": {},
   "source": [
    "> STK"
   ]
  },
  {
   "cell_type": "code",
   "execution_count": 472,
   "metadata": {},
   "outputs": [],
   "source": [
    "for i in produtos:\n",
    "\n",
    "    transito = \"INTRANSIT %s\" % i\n",
    "    esperado = \"EXPECTED %s\" % i\n",
    "    stock  = \"STOCK %s\" % i\n",
    "    \n",
    "    stk = \"STK %s\" %i\n",
    "      \n",
    "    dfFinal2[stk] = dfFinal2[stock] + dfFinal2[esperado] + dfFinal2[transito]"
   ]
  },
  {
   "cell_type": "markdown",
   "metadata": {},
   "source": [
    "> Balanço"
   ]
  },
  {
   "cell_type": "code",
   "execution_count": 473,
   "metadata": {},
   "outputs": [],
   "source": [
    "for i in produtos:\n",
    "    stk = \"STK %s\" %i\n",
    "    #msa = \"MSA %s\" %i\n",
    "    sellout = \"SELLOUT %s\" %i\n",
    "    \n",
    "    balance = \"BALANCE %s\" %i\n",
    "    \n",
    "    dfFinal2[balance] = dfFinal2[sellout] / dfFinal2[stk]\n",
    "    \n",
    "    "
   ]
  },
  {
   "cell_type": "markdown",
   "metadata": {},
   "source": [
    "> Rotura"
   ]
  },
  {
   "cell_type": "code",
   "execution_count": 474,
   "metadata": {},
   "outputs": [],
   "source": [
    "for i in produtos:\n",
    "    rotura  = \"ROTURA %s\" % i\n",
    "    stock  = \"STOCK %s\" % i\n",
    "    preslinear = \"PRESLINEAR %s\" % i\n",
    "    \n",
    "    dfFinal2[rotura] = np.where((dfFinal2[stock] > 0) & ~(dfFinal2[i].isna()), 0, \n",
    "                      np.where((dfFinal2[stock] <= 0) & (dfFinal2[preslinear] > 0) & ~(dfFinal2[i].isna()), 1, \n",
    "                      np.nan))\n"
   ]
  },
  {
   "cell_type": "markdown",
   "metadata": {},
   "source": [
    "> Pré-Rotura"
   ]
  },
  {
   "cell_type": "code",
   "execution_count": 475,
   "metadata": {},
   "outputs": [],
   "source": [
    "for i in produtos:\n",
    "    stock  = \"STOCK %s\" % i\n",
    "    preslinear = \"PRESLINEAR %s\" % i\n",
    "    pre_rotura= \"PRÉ-ROTURA %s\" % i\n",
    "    \n",
    "    dfFinal2[pre_rotura] = (dfFinal2[stock] < dfFinal2[preslinear]).astype(int)"
   ]
  },
  {
   "cell_type": "markdown",
   "metadata": {},
   "source": [
    ">Sinal"
   ]
  },
  {
   "cell_type": "code",
   "execution_count": 476,
   "metadata": {},
   "outputs": [],
   "source": [
    "#dfFinal2[\"Sinal\"]= pd.Series(dtype='int')\n",
    "\n",
    "# Define the mappings of numbers to strings\n",
    "mapping = {1: \"Presente com Stock\",\n",
    "           2: \"Ausente com Stock\",\n",
    "           3: \"Presente sem Stock\",\n",
    "           4: \"Ausente sem Stock\",\n",
    "           5: \"Presente sem Registo\",\n",
    "           6: \"Ausente sem Registo\"}\n",
    "\n",
    "for i in produtos:\n",
    "    sinal = \"SINAL %s\" % i\n",
    "    stock  = \"STOCK %s\" % i\n",
    "    \n",
    "    dfFinal2[sinal] = np.where((dfFinal2[stock] > 0) & (dfFinal2[i] == 1), 1,\n",
    "                     np.where((dfFinal2[stock] > 0) & (dfFinal2[i] == 0), 2,\n",
    "                     np.where((dfFinal2[stock] <= 0) & (dfFinal2[i] == 1), 3,\n",
    "                     np.where((dfFinal2[stock] <= 0) & (dfFinal2[i] == 0), 4,\n",
    "                     np.where((dfFinal2[stock].isna()) & (dfFinal2[i] == 1), 5,\n",
    "                     np.where((dfFinal2[stock].isna()) & (dfFinal2[i] == 0), 6,\n",
    "                     np.nan))))))\n",
    "\n",
    "\n",
    "    # Map the numbers to the corresponding strings\n",
    "    dfFinal2[sinal] = dfFinal2[sinal].map(mapping)\n",
    "    \n",
    "\n",
    "# 1: Há Stock e Sinal Positivo Ninja \"Verdadeiramente Correcto\"\n",
    "# 2: Há Stock e Sinal Negativo Ninja \"Falso Positivo\"\n",
    "# 3: Não há Stock e Sinal Positivo Ninja \"Falso Negativo\"\n",
    "# 4: Não há Stock e Sinal Negativo Ninja \"Rejeição Correcta\""
   ]
  },
  {
   "cell_type": "markdown",
   "metadata": {},
   "source": [
    "> Ciclos"
   ]
  },
  {
   "cell_type": "code",
   "execution_count": 477,
   "metadata": {},
   "outputs": [],
   "source": [
    "for i in produtos:\n",
    "    ciclos = \"CICLO %s\" % i\n",
    "    stock  = \"STOCK %s\" % i\n",
    "    linear = \"PRESLINEAR %s\" % i\n",
    "    dfFinal2[ciclos]=dfFinal2[stock]/dfFinal2[linear]"
   ]
  },
  {
   "cell_type": "markdown",
   "metadata": {},
   "source": [
    "> Adequação"
   ]
  },
  {
   "cell_type": "code",
   "execution_count": 478,
   "metadata": {},
   "outputs": [],
   "source": [
    "dfFinal2 = dfFinal2.copy()\n",
    "# Define the mappings of numbers to strings\n",
    "mapping = {1: \"Stock Suficiente\",\n",
    "           2: \"Stock Insuf c Forn Adequado\",\n",
    "           3: \"Stock Insuf c Forn Desadequado\"}\n",
    "\n",
    "for i in produtos:\n",
    "    adequa = \"ADEQUAÇÃO %s\" % i\n",
    "    ciclos = \"CICLO %s\" % i\n",
    "    transito = \"INTRANSIT %s\" % i\n",
    "    esperado = \"EXPECTED %s\" % i\n",
    "    stock  = \"STOCK %s\" % i\n",
    "    linear = \"PRESLINEAR %s\" % i\n",
    "    \n",
    "    dfFinal2[adequa] = np.where(dfFinal2[ciclos] > 1.1, 1,\n",
    "                      np.where((dfFinal2[ciclos] <= 1.1) & (dfFinal2[transito] + dfFinal2[esperado] + dfFinal2[stock] >= dfFinal2[linear]), 2,\n",
    "                      np.where((dfFinal2[ciclos] <= 1.1) & (dfFinal2[transito] + dfFinal2[esperado] + dfFinal2[stock] < dfFinal2[linear]), 3, \n",
    "                      np.nan)))\n",
    "    \n",
    "    # Map the numbers to the corresponding strings\n",
    "    dfFinal2[adequa] = dfFinal2[adequa].map(mapping)"
   ]
  },
  {
   "cell_type": "markdown",
   "metadata": {},
   "source": [
    "- Dias para a rotura"
   ]
  },
  {
   "cell_type": "code",
   "execution_count": 479,
   "metadata": {},
   "outputs": [],
   "source": [
    "for i in produtos:\n",
    "    stock  = \"STOCK %s\" % i\n",
    "    #msa = \"MSA %s\" %i\n",
    "    sellout = \"SELLOUT %s\" % i\n",
    "    dias_rotura = \"Dias_para_Rotura %s\" % i\n",
    "    \n",
    "    dfFinal2[dias_rotura] = dfFinal2[stock]/dfFinal2[sellout]"
   ]
  },
  {
   "cell_type": "markdown",
   "metadata": {},
   "source": [
    "- Dias para a rotura de prateleira"
   ]
  },
  {
   "cell_type": "code",
   "execution_count": 480,
   "metadata": {},
   "outputs": [],
   "source": [
    "for i in produtos:\n",
    "    linear = \"PRESLINEAR %s\" % i\n",
    "    #msa = \"MSA %s\" %i\n",
    "    sellout = \"SELLOUT %s\" % i\n",
    "    dias_rotura_prat = \"Dias_para_Rotura_Linear %s\" % i\n",
    "    \n",
    "    dfFinal2[dias_rotura_prat] = dfFinal2[linear] / dfFinal2[sellout]"
   ]
  },
  {
   "cell_type": "markdown",
   "metadata": {},
   "source": [
    "---"
   ]
  },
  {
   "cell_type": "markdown",
   "metadata": {},
   "source": [
    "# `2022`"
   ]
  },
  {
   "cell_type": "code",
   "execution_count": 481,
   "metadata": {},
   "outputs": [],
   "source": [
    "# Ler o ficheiro long com Stocks e Fornecimento\n",
    "dfDelta_2022=pd.read_excel(\"D:\\\\B&N Dados\\\\Delta\\\\Padrão\\\\Padrão_07_2023\\\\2_Delta_2022Id.xlsx\", sheet_name=\"Sheet1\")"
   ]
  },
  {
   "cell_type": "markdown",
   "metadata": {},
   "source": [
    "#### dfFinal2_2022"
   ]
  },
  {
   "cell_type": "code",
   "execution_count": 482,
   "metadata": {},
   "outputs": [],
   "source": [
    "# Dataframe mergido no fim\n",
    "dfNinjas_2022=dfNinjas.copy()\n",
    "\n",
    "\n",
    "for coluna in produtos:       \n",
    "    \n",
    "    #Cada dfStocks é um dataframe com o produto específico\n",
    "    dfStocks=dfDelta_2022[dfDelta_2022[\"DESC_ARTIGO\"]==coluna][[\"id\", \"STORE\", \"STOCK\", \"PRES_STOCK\", \"INTRANSIT\", \"EXPECTED\", \"SELLOUT\"]]   #Dados Ninjas, seleccionar colunas do café específico\n",
    "    \n",
    "    #Juntar dados de acordo com o dia e a loja\n",
    "    dfNinjas_2022=pd.merge(dfNinjas_2022, dfStocks, how=\"left\", on = [\"id\",\"STORE\"])  \n",
    "    \n",
    "    #Mudar nomes para ser adaptado a cada produto\n",
    "    dfNinjas_2022=dfNinjas_2022.rename(columns={\"STOCK\": \"STOCK22 %s\" % coluna, \"PRES_STOCK\":\"PRESLINEAR22 %s\" % coluna, \"INTRANSIT\":\"INTRANSIT22 %s\" % coluna, \"EXPECTED\":\"EXPECTED22 %s\" % coluna, \"SELLOUT\":\"SELLOUT22 %s\" % coluna})                       #Nomear coluna nova\n",
    "\n",
    "dfFinal2_2022 = dfNinjas_2022"
   ]
  },
  {
   "cell_type": "markdown",
   "metadata": {},
   "source": [
    "## <center><font color=orange>Output DataFusion Wide"
   ]
  },
  {
   "cell_type": "code",
   "execution_count": 483,
   "metadata": {},
   "outputs": [],
   "source": [
    "df2 = dfFinal2.copy()\n",
    "df2_2022 = dfFinal2_2022.copy()"
   ]
  },
  {
   "cell_type": "markdown",
   "metadata": {},
   "source": [
    "- <font color = red>Se houver lapsos a nível de Cardex:"
   ]
  },
  {
   "cell_type": "code",
   "execution_count": 484,
   "metadata": {},
   "outputs": [],
   "source": [
    "for i in produtos:\n",
    "\n",
    "    stock  = \"STOCK %s\" % i\n",
    "    stock22  = \"STOCK22 %s\" % i\n",
    "    \n",
    "    df2.loc[df2[stock].isna(), i] = np.nan\n",
    "    df2_2022.loc[df2_2022[stock22].isna(), i] = np.nan"
   ]
  },
  {
   "cell_type": "markdown",
   "metadata": {},
   "source": [
    "[Escrever](#section5) <br>\n",
    "[Visualizar](#section6)"
   ]
  },
  {
   "cell_type": "markdown",
   "metadata": {},
   "source": [
    "---"
   ]
  },
  {
   "cell_type": "markdown",
   "metadata": {},
   "source": [
    "<a id=\"section4\"></a>\n",
    "# <center>4. Gráficos (3)</center>\n",
    "[Voltar ao índice](#section0)<br>"
   ]
  },
  {
   "cell_type": "markdown",
   "metadata": {},
   "source": [
    "> - __produtos__ já definidos"
   ]
  },
  {
   "cell_type": "markdown",
   "metadata": {},
   "source": [
    "---"
   ]
  },
  {
   "cell_type": "markdown",
   "metadata": {},
   "source": [
    "- #  `dfFinal3`"
   ]
  },
  {
   "cell_type": "code",
   "execution_count": 485,
   "metadata": {},
   "outputs": [],
   "source": [
    "dfFinal3 = df2.copy()"
   ]
  },
  {
   "cell_type": "markdown",
   "metadata": {},
   "source": [
    "# Tabelas"
   ]
  },
  {
   "cell_type": "markdown",
   "metadata": {},
   "source": [
    "#  <span style=\"color:green\"><u>Classic</u>:</span>  Proporção de presença por produto"
   ]
  },
  {
   "cell_type": "code",
   "execution_count": 486,
   "metadata": {},
   "outputs": [],
   "source": [
    "# Média tirando os missing values\n",
    "df_Med = dfFinal3[produtos].mean(numeric_only=True)\n",
    "\n",
    "# Passar para dataframe\n",
    "df_Classic = df_Med.to_frame()\n",
    "\n",
    "# Mudanças para ficar legível\n",
    "df_Classic = df_Classic.reset_index()\n",
    "df_Classic = df_Classic.rename(columns={'index': 'Produto', 0: 'Frequência'})"
   ]
  },
  {
   "cell_type": "raw",
   "metadata": {},
   "source": [
    "import plotly.express as px\n",
    "fig = px.bar(df_Classic, x='Produto', y='Frequência', title='Classic')\n",
    "fig.show()"
   ]
  },
  {
   "cell_type": "markdown",
   "metadata": {},
   "source": [
    "- ###  <span style=\"color:BLUE\">Com e sem Reposição</span>"
   ]
  },
  {
   "cell_type": "code",
   "execution_count": 487,
   "metadata": {},
   "outputs": [],
   "source": [
    "# Definir se os produtos têm reposição\n",
    "\n",
    "# Sim\n",
    "df_ComRep = dfFinal3[dfFinal3[\"Reposição\"] == 1]\n",
    "\n",
    "# Não\n",
    "df_SemRep = dfFinal3[dfFinal3[\"Reposição\"] == 0]"
   ]
  },
  {
   "cell_type": "markdown",
   "metadata": {},
   "source": [
    ">> <font color=blue>Com</font>"
   ]
  },
  {
   "cell_type": "code",
   "execution_count": 488,
   "metadata": {},
   "outputs": [],
   "source": [
    "# Proporção\n",
    "serie_MedRep = df_ComRep[produtos].mean(numeric_only=True)\n",
    "\n",
    "# Para df\n",
    "df_Classic_ComRepo = serie_MedRep.to_frame()\n",
    "\n",
    "# Mudanças para ficar legível\n",
    "df_Classic_ComRepo = df_Classic_ComRepo.reset_index()\n",
    "df_Classic_ComRepo = df_Classic_ComRepo.rename(columns={'index': 'Produto', 0: 'Frequência'})"
   ]
  },
  {
   "cell_type": "raw",
   "metadata": {
    "collapsed": true
   },
   "source": [
    "fig = px.bar(df_Classic_ComRepo, x='Produto', y='Frequência', title='Classic com Reposição')\n",
    "fig.show()"
   ]
  },
  {
   "cell_type": "markdown",
   "metadata": {},
   "source": [
    ">> <font color=blue>Sem"
   ]
  },
  {
   "cell_type": "code",
   "execution_count": 489,
   "metadata": {},
   "outputs": [],
   "source": [
    "# Proporção\n",
    "serie_MedSemRep = df_SemRep[produtos].mean(numeric_only=True)\n",
    "\n",
    "# Proporção\n",
    "df_Classic_SemRepo = serie_MedSemRep.to_frame()\n",
    "\n",
    "# Mudanças para ficar legível\n",
    "df_Classic_SemRepo = df_Classic_SemRepo.reset_index()\n",
    "df_Classic_SemRepo = df_Classic_SemRepo.rename(columns={'index': 'Produto', 0: 'Frequência'})"
   ]
  },
  {
   "cell_type": "raw",
   "metadata": {
    "collapsed": true
   },
   "source": [
    "fig = px.bar(df_Classic_SemRepo, x='Produto', y='Frequência', title='Classic Sem Reposição')\n",
    "fig.show()"
   ]
  },
  {
   "cell_type": "markdown",
   "metadata": {},
   "source": [
    "---"
   ]
  },
  {
   "cell_type": "markdown",
   "metadata": {},
   "source": [
    "# <font color=green> <u>Final</u>:</font> Proporção de presença por loja"
   ]
  },
  {
   "cell_type": "markdown",
   "metadata": {},
   "source": [
    "> - **Número de produtos presentes**"
   ]
  },
  {
   "cell_type": "code",
   "execution_count": 490,
   "metadata": {},
   "outputs": [],
   "source": [
    "# Criar coluna com o número dos produtos em causa presentes no instante\n",
    "\n",
    "dfFinal3[\"Num_Produtos\"] = dfFinal3[produtos].sum(axis=1)\n",
    "\n",
    "dfFinal3.loc[(dfFinal3[\"Num_Produtos\"] == 0) & (dfFinal3[produtos[1]].isna()), \"Num_Produtos\"] = np.nan"
   ]
  },
  {
   "cell_type": "code",
   "execution_count": 491,
   "metadata": {},
   "outputs": [],
   "source": [
    "# com reposição\n",
    "dfFinal3[\"Num_ProdutosRep\"] = np.nan\n",
    "dfFinal3.loc[dfFinal3['Reposição'] == 1, 'Num_ProdutosRep'] = dfFinal3[\"Num_Produtos\"]\n",
    "\n",
    "\n",
    "# sem reposição\n",
    "dfFinal3[\"Num_ProdutosNRep\"] = np.nan\n",
    "dfFinal3.loc[dfFinal3['Reposição'] == 0, 'Num_ProdutosNRep'] = dfFinal3[\"Num_Produtos\"]\n",
    "\n",
    "# Coluna para ter o número de produtos contratados pela marca\n",
    "dfFinal3[\"Produtos_Contratados\"] = dfFinal3[produtos].notna().sum(axis=1)"
   ]
  },
  {
   "cell_type": "code",
   "execution_count": 492,
   "metadata": {},
   "outputs": [],
   "source": [
    "'''Fazer colunas de proporção de produtos presentes em loja, depois especificando para quando têm e não têm reposição'''\n",
    "\n",
    "df_NumProd = dfFinal3[[\"Loja\",\"Num_Produtos\",\"Num_ProdutosRep\",\"Num_ProdutosNRep\"]].copy()\n",
    "df_NumProd[\"Prop_Produtos\"] = (df_NumProd[\"Num_Produtos\"] / dfFinal3[\"Produtos_Contratados\"])*100\n",
    "df_NumProd[\"Prop_ProdutosRep\"] = (df_NumProd[\"Num_ProdutosRep\"] / dfFinal3[\"Produtos_Contratados\"])*100\n",
    "df_NumProd[\"Prop_ProdutosNRep\"] = (df_NumProd[\"Num_ProdutosNRep\"] / dfFinal3[\"Produtos_Contratados\"])*100"
   ]
  },
  {
   "cell_type": "code",
   "execution_count": 493,
   "metadata": {},
   "outputs": [],
   "source": [
    "# Acrescentar à base original\n",
    "#dfNinjas[\"Prop_Produtos\"] = df_NumProd[\"Prop_Produtos\"]\n",
    "dfFinal3[\"Prop_Produtos\"] = df_NumProd[\"Prop_Produtos\"]"
   ]
  },
  {
   "cell_type": "markdown",
   "metadata": {},
   "source": [
    "---"
   ]
  },
  {
   "cell_type": "markdown",
   "metadata": {},
   "source": [
    "# <font color=green><u> Roturas</u>:</font> Proporção de roturas por produto"
   ]
  },
  {
   "cell_type": "code",
   "execution_count": 494,
   "metadata": {},
   "outputs": [],
   "source": [
    "df_RotMed = dfFinal3[[\"ROTURA %s\" % produto for produto in produtos]].mean(numeric_only=True)\n",
    "\n",
    "# Passar para dataframe\n",
    "df_Rot = df_RotMed.to_frame()\n",
    "df_Rot = df_Rot.reset_index()\n",
    "df_Rot = df_Rot.rename(columns={'index': 'Produto', 0: 'Frequência'})\n",
    "df_Rot[\"Frequência\"] = df_Rot[\"Frequência\"]*100"
   ]
  },
  {
   "cell_type": "markdown",
   "metadata": {},
   "source": [
    "## <center><font color=orange>Output DataFusion Wide"
   ]
  },
  {
   "cell_type": "code",
   "execution_count": 495,
   "metadata": {},
   "outputs": [],
   "source": [
    "df2_2 = dfFinal3\n",
    "\n",
    "#df_Classic\n",
    "#df_Classic_ComRepo\n",
    "#df_Classic_SemRepo\n",
    "#df_Rot\n",
    "#df_NumProd"
   ]
  },
  {
   "cell_type": "markdown",
   "metadata": {},
   "source": [
    "[Visualizar](#section6)\n",
    "\n",
    "---"
   ]
  },
  {
   "cell_type": "markdown",
   "metadata": {},
   "source": [
    "<a id=\"section5\"></a>\n",
    "# <center><u>Escrever</u></center>\n",
    "[Voltar ao índice](#section0)"
   ]
  },
  {
   "cell_type": "markdown",
   "metadata": {},
   "source": [
    "### <center><font color=green>DataCleaning</font></center>"
   ]
  },
  {
   "cell_type": "code",
   "execution_count": 496,
   "metadata": {},
   "outputs": [],
   "source": [
    "escrever_txt(df_produtos, \"produtos\")\n",
    "escrever_txt(df_lojas, \"lojas\")"
   ]
  },
  {
   "cell_type": "markdown",
   "metadata": {},
   "source": [
    "### <center><font color=green>DataFusion Long</font></center>"
   ]
  },
  {
   "cell_type": "code",
   "execution_count": 73,
   "metadata": {},
   "outputs": [],
   "source": [
    "escrever_excel(df1, \"Long_DataFusion_MétricasNovas\")"
   ]
  },
  {
   "cell_type": "code",
   "execution_count": 72,
   "metadata": {},
   "outputs": [
    {
     "data": {
      "text/html": [
       "<div>\n",
       "<style scoped>\n",
       "    .dataframe tbody tr th:only-of-type {\n",
       "        vertical-align: middle;\n",
       "    }\n",
       "\n",
       "    .dataframe tbody tr th {\n",
       "        vertical-align: top;\n",
       "    }\n",
       "\n",
       "    .dataframe thead th {\n",
       "        text-align: right;\n",
       "    }\n",
       "</style>\n",
       "<table border=\"1\" class=\"dataframe\">\n",
       "  <thead>\n",
       "    <tr style=\"text-align: right;\">\n",
       "      <th></th>\n",
       "      <th>Vendedor</th>\n",
       "      <th>DATA</th>\n",
       "      <th>Hora</th>\n",
       "      <th>Loja</th>\n",
       "      <th>DESC_ARTIGO</th>\n",
       "      <th>NinjaInfo</th>\n",
       "      <th>EAN</th>\n",
       "      <th>STORE_NAME</th>\n",
       "      <th>STOCK</th>\n",
       "      <th>INTRANSIT</th>\n",
       "      <th>...</th>\n",
       "      <th>Sem_Vendas_30_y</th>\n",
       "      <th>Sem_Vendas_60_y</th>\n",
       "      <th>Sem_Vendas_120_y</th>\n",
       "      <th>Sem_Vendas_180_y</th>\n",
       "      <th>ROTURA_fds_y</th>\n",
       "      <th>ROTURA_semana_y</th>\n",
       "      <th>Vendas_Perdidas_30_y</th>\n",
       "      <th>Vendas_Perdidas_60_y</th>\n",
       "      <th>Vendas_Perdidas_120_y</th>\n",
       "      <th>Vendas_Perdidas_180_y</th>\n",
       "    </tr>\n",
       "  </thead>\n",
       "  <tbody>\n",
       "    <tr>\n",
       "      <th>0</th>\n",
       "      <td>Brizida Almeida</td>\n",
       "      <td>2023-07-23</td>\n",
       "      <td>15:03:00</td>\n",
       "      <td>Continente Amadora</td>\n",
       "      <td>CAFÉ DELTA Q QALIDUS 40CAP</td>\n",
       "      <td>1.0</td>\n",
       "      <td>5.601082e+12</td>\n",
       "      <td>CNT AMADORA</td>\n",
       "      <td>57.0</td>\n",
       "      <td>0.0</td>\n",
       "      <td>...</td>\n",
       "      <td>6.666667</td>\n",
       "      <td>8.333333</td>\n",
       "      <td>4.166667</td>\n",
       "      <td>4.444444</td>\n",
       "      <td>0.0</td>\n",
       "      <td>NaN</td>\n",
       "      <td>0.0</td>\n",
       "      <td>0.0</td>\n",
       "      <td>0.0</td>\n",
       "      <td>0.0</td>\n",
       "    </tr>\n",
       "    <tr>\n",
       "      <th>1</th>\n",
       "      <td>Carla Teixeira</td>\n",
       "      <td>2023-07-23</td>\n",
       "      <td>19:37:00</td>\n",
       "      <td>Continente Antas</td>\n",
       "      <td>CAFÉ DELTA Q QALIDUS 40CAP</td>\n",
       "      <td>1.0</td>\n",
       "      <td>5.601082e+12</td>\n",
       "      <td>CNT ANTAS</td>\n",
       "      <td>168.0</td>\n",
       "      <td>0.0</td>\n",
       "      <td>...</td>\n",
       "      <td>23.333333</td>\n",
       "      <td>33.333333</td>\n",
       "      <td>29.166667</td>\n",
       "      <td>30.555556</td>\n",
       "      <td>0.0</td>\n",
       "      <td>NaN</td>\n",
       "      <td>0.0</td>\n",
       "      <td>0.0</td>\n",
       "      <td>0.0</td>\n",
       "      <td>0.0</td>\n",
       "    </tr>\n",
       "    <tr>\n",
       "      <th>2</th>\n",
       "      <td>Carla Teixeira</td>\n",
       "      <td>2023-07-22</td>\n",
       "      <td>21:47:00</td>\n",
       "      <td>Continente Arrábida (Gaia Jardim)</td>\n",
       "      <td>CAFÉ DELTA Q QALIDUS 40CAP</td>\n",
       "      <td>1.0</td>\n",
       "      <td>5.601082e+12</td>\n",
       "      <td>CNT ARRABIDA</td>\n",
       "      <td>18.0</td>\n",
       "      <td>0.0</td>\n",
       "      <td>...</td>\n",
       "      <td>50.000000</td>\n",
       "      <td>38.333333</td>\n",
       "      <td>30.833333</td>\n",
       "      <td>31.111111</td>\n",
       "      <td>0.0</td>\n",
       "      <td>NaN</td>\n",
       "      <td>0.0</td>\n",
       "      <td>0.0</td>\n",
       "      <td>0.0</td>\n",
       "      <td>0.0</td>\n",
       "    </tr>\n",
       "    <tr>\n",
       "      <th>3</th>\n",
       "      <td>Andreia Gonçalves</td>\n",
       "      <td>2023-07-23</td>\n",
       "      <td>12:49:00</td>\n",
       "      <td>Continente Beja</td>\n",
       "      <td>CAFÉ DELTA Q QALIDUS 40CAP</td>\n",
       "      <td>1.0</td>\n",
       "      <td>5.601082e+12</td>\n",
       "      <td>CNT BEJA</td>\n",
       "      <td>109.0</td>\n",
       "      <td>0.0</td>\n",
       "      <td>...</td>\n",
       "      <td>3.333333</td>\n",
       "      <td>3.333333</td>\n",
       "      <td>2.500000</td>\n",
       "      <td>10.555556</td>\n",
       "      <td>0.0</td>\n",
       "      <td>NaN</td>\n",
       "      <td>0.0</td>\n",
       "      <td>0.0</td>\n",
       "      <td>0.0</td>\n",
       "      <td>0.0</td>\n",
       "    </tr>\n",
       "    <tr>\n",
       "      <th>4</th>\n",
       "      <td>Susana Gomes</td>\n",
       "      <td>2023-07-21</td>\n",
       "      <td>11:41:00</td>\n",
       "      <td>Continente Braga</td>\n",
       "      <td>CAFÉ DELTA Q QALIDUS 40CAP</td>\n",
       "      <td>1.0</td>\n",
       "      <td>5.601082e+12</td>\n",
       "      <td>CNT BRAGA</td>\n",
       "      <td>42.0</td>\n",
       "      <td>0.0</td>\n",
       "      <td>...</td>\n",
       "      <td>23.333333</td>\n",
       "      <td>26.666667</td>\n",
       "      <td>21.666667</td>\n",
       "      <td>23.333333</td>\n",
       "      <td>0.0</td>\n",
       "      <td>NaN</td>\n",
       "      <td>0.0</td>\n",
       "      <td>0.0</td>\n",
       "      <td>0.0</td>\n",
       "      <td>0.0</td>\n",
       "    </tr>\n",
       "  </tbody>\n",
       "</table>\n",
       "<p>5 rows × 124 columns</p>\n",
       "</div>"
      ],
      "text/plain": [
       "            Vendedor       DATA      Hora                               Loja  \\\n",
       "0    Brizida Almeida 2023-07-23  15:03:00                 Continente Amadora   \n",
       "1     Carla Teixeira 2023-07-23  19:37:00                   Continente Antas   \n",
       "2     Carla Teixeira 2023-07-22  21:47:00  Continente Arrábida (Gaia Jardim)   \n",
       "3  Andreia Gonçalves 2023-07-23  12:49:00                    Continente Beja   \n",
       "4       Susana Gomes 2023-07-21  11:41:00                   Continente Braga   \n",
       "\n",
       "                  DESC_ARTIGO  NinjaInfo           EAN    STORE_NAME  STOCK  \\\n",
       "0  CAFÉ DELTA Q QALIDUS 40CAP        1.0  5.601082e+12   CNT AMADORA   57.0   \n",
       "1  CAFÉ DELTA Q QALIDUS 40CAP        1.0  5.601082e+12     CNT ANTAS  168.0   \n",
       "2  CAFÉ DELTA Q QALIDUS 40CAP        1.0  5.601082e+12  CNT ARRABIDA   18.0   \n",
       "3  CAFÉ DELTA Q QALIDUS 40CAP        1.0  5.601082e+12      CNT BEJA  109.0   \n",
       "4  CAFÉ DELTA Q QALIDUS 40CAP        1.0  5.601082e+12     CNT BRAGA   42.0   \n",
       "\n",
       "   INTRANSIT  ...  Sem_Vendas_30_y  Sem_Vendas_60_y  Sem_Vendas_120_y  \\\n",
       "0        0.0  ...         6.666667         8.333333          4.166667   \n",
       "1        0.0  ...        23.333333        33.333333         29.166667   \n",
       "2        0.0  ...        50.000000        38.333333         30.833333   \n",
       "3        0.0  ...         3.333333         3.333333          2.500000   \n",
       "4        0.0  ...        23.333333        26.666667         21.666667   \n",
       "\n",
       "   Sem_Vendas_180_y  ROTURA_fds_y  ROTURA_semana_y  Vendas_Perdidas_30_y  \\\n",
       "0          4.444444           0.0              NaN                   0.0   \n",
       "1         30.555556           0.0              NaN                   0.0   \n",
       "2         31.111111           0.0              NaN                   0.0   \n",
       "3         10.555556           0.0              NaN                   0.0   \n",
       "4         23.333333           0.0              NaN                   0.0   \n",
       "\n",
       "   Vendas_Perdidas_60_y  Vendas_Perdidas_120_y Vendas_Perdidas_180_y  \n",
       "0                   0.0                    0.0                   0.0  \n",
       "1                   0.0                    0.0                   0.0  \n",
       "2                   0.0                    0.0                   0.0  \n",
       "3                   0.0                    0.0                   0.0  \n",
       "4                   0.0                    0.0                   0.0  \n",
       "\n",
       "[5 rows x 124 columns]"
      ]
     },
     "execution_count": 72,
     "metadata": {},
     "output_type": "execute_result"
    }
   ],
   "source": [
    "df1.head()"
   ]
  },
  {
   "cell_type": "markdown",
   "metadata": {},
   "source": [
    "### <center><font color=green>DataFusion Wide</font></center>"
   ]
  },
  {
   "cell_type": "code",
   "execution_count": 498,
   "metadata": {},
   "outputs": [],
   "source": [
    "#escrever_excel(df2_1, \"Wide_DataFusion_Inc\")\n",
    "\n",
    "escrever_excel(df2_2, \"Wide_DataFusion\")\n",
    "escrever_excel(df2_2022, \"Wide_DataFusion2022\")"
   ]
  },
  {
   "cell_type": "code",
   "execution_count": 499,
   "metadata": {},
   "outputs": [
    {
     "data": {
      "text/html": [
       "<div>\n",
       "<style scoped>\n",
       "    .dataframe tbody tr th:only-of-type {\n",
       "        vertical-align: middle;\n",
       "    }\n",
       "\n",
       "    .dataframe tbody tr th {\n",
       "        vertical-align: top;\n",
       "    }\n",
       "\n",
       "    .dataframe thead th {\n",
       "        text-align: right;\n",
       "    }\n",
       "</style>\n",
       "<table border=\"1\" class=\"dataframe\">\n",
       "  <thead>\n",
       "    <tr style=\"text-align: right;\">\n",
       "      <th></th>\n",
       "      <th>Vendedor</th>\n",
       "      <th>Loja</th>\n",
       "      <th>STORE</th>\n",
       "      <th>DATA</th>\n",
       "      <th>Hora</th>\n",
       "      <th>CAFÉ DELTA Q QALIDUS 40CAP</th>\n",
       "      <th>CAFÉ DELTA Q QHARACTER 40CAP</th>\n",
       "      <th>CAFÉ GINGA 10CAP</th>\n",
       "      <th>CAFÉ BELLISSIMO AROMA INTENSO 30CAP</th>\n",
       "      <th>CAFÉ SOLÚVEL DELTA FRASCO 200G</th>\n",
       "      <th>...</th>\n",
       "      <th>Dias_para_Rotura_Linear CAFÉ GINGA 10CAP</th>\n",
       "      <th>Dias_para_Rotura_Linear CAFÉ BELLISSIMO AROMA INTENSO 30CAP</th>\n",
       "      <th>Dias_para_Rotura_Linear CAFÉ SOLÚVEL DELTA FRASCO 200G</th>\n",
       "      <th>Dias_para_Rotura_Linear CAFÉ DELTA SOLÚVEL CREME 80 GR</th>\n",
       "      <th>Dias_para_Rotura_Linear BEBIDA CEREAIS DELTA C/20%CAFE FR 200G</th>\n",
       "      <th>Num_Produtos</th>\n",
       "      <th>Num_ProdutosRep</th>\n",
       "      <th>Num_ProdutosNRep</th>\n",
       "      <th>Produtos_Contratados</th>\n",
       "      <th>Prop_Produtos</th>\n",
       "    </tr>\n",
       "  </thead>\n",
       "  <tbody>\n",
       "  </tbody>\n",
       "</table>\n",
       "<p>0 rows × 117 columns</p>\n",
       "</div>"
      ],
      "text/plain": [
       "Empty DataFrame\n",
       "Columns: [Vendedor, Loja, STORE, DATA, Hora, CAFÉ DELTA Q QALIDUS 40CAP, CAFÉ DELTA Q QHARACTER 40CAP, CAFÉ GINGA 10CAP, CAFÉ BELLISSIMO AROMA INTENSO 30CAP, CAFÉ SOLÚVEL DELTA FRASCO 200G, CAFÉ DELTA SOLÚVEL CREME 80 GR, BEBIDA CEREAIS DELTA C/20%CAFE FR 200G, id, Reposição, STOCK CAFÉ DELTA Q QALIDUS 40CAP, PRESLINEAR CAFÉ DELTA Q QALIDUS 40CAP, INTRANSIT CAFÉ DELTA Q QALIDUS 40CAP, EXPECTED CAFÉ DELTA Q QALIDUS 40CAP, SELLOUT CAFÉ DELTA Q QALIDUS 40CAP, STOCK CAFÉ DELTA Q QHARACTER 40CAP, PRESLINEAR CAFÉ DELTA Q QHARACTER 40CAP, INTRANSIT CAFÉ DELTA Q QHARACTER 40CAP, EXPECTED CAFÉ DELTA Q QHARACTER 40CAP, SELLOUT CAFÉ DELTA Q QHARACTER 40CAP, STOCK CAFÉ GINGA 10CAP, PRESLINEAR CAFÉ GINGA 10CAP, INTRANSIT CAFÉ GINGA 10CAP, EXPECTED CAFÉ GINGA 10CAP, SELLOUT CAFÉ GINGA 10CAP, STOCK CAFÉ BELLISSIMO AROMA INTENSO 30CAP, PRESLINEAR CAFÉ BELLISSIMO AROMA INTENSO 30CAP, INTRANSIT CAFÉ BELLISSIMO AROMA INTENSO 30CAP, EXPECTED CAFÉ BELLISSIMO AROMA INTENSO 30CAP, SELLOUT CAFÉ BELLISSIMO AROMA INTENSO 30CAP, STOCK CAFÉ SOLÚVEL DELTA FRASCO 200G, PRESLINEAR CAFÉ SOLÚVEL DELTA FRASCO 200G, INTRANSIT CAFÉ SOLÚVEL DELTA FRASCO 200G, EXPECTED CAFÉ SOLÚVEL DELTA FRASCO 200G, SELLOUT CAFÉ SOLÚVEL DELTA FRASCO 200G, STOCK CAFÉ DELTA SOLÚVEL CREME 80 GR, PRESLINEAR CAFÉ DELTA SOLÚVEL CREME 80 GR, INTRANSIT CAFÉ DELTA SOLÚVEL CREME 80 GR, EXPECTED CAFÉ DELTA SOLÚVEL CREME 80 GR, SELLOUT CAFÉ DELTA SOLÚVEL CREME 80 GR, STOCK BEBIDA CEREAIS DELTA C/20%CAFE FR 200G, PRESLINEAR BEBIDA CEREAIS DELTA C/20%CAFE FR 200G, INTRANSIT BEBIDA CEREAIS DELTA C/20%CAFE FR 200G, EXPECTED BEBIDA CEREAIS DELTA C/20%CAFE FR 200G, SELLOUT BEBIDA CEREAIS DELTA C/20%CAFE FR 200G, STK CAFÉ DELTA Q QALIDUS 40CAP, STK CAFÉ DELTA Q QHARACTER 40CAP, STK CAFÉ GINGA 10CAP, STK CAFÉ BELLISSIMO AROMA INTENSO 30CAP, STK CAFÉ SOLÚVEL DELTA FRASCO 200G, STK CAFÉ DELTA SOLÚVEL CREME 80 GR, STK BEBIDA CEREAIS DELTA C/20%CAFE FR 200G, BALANCE CAFÉ DELTA Q QALIDUS 40CAP, BALANCE CAFÉ DELTA Q QHARACTER 40CAP, BALANCE CAFÉ GINGA 10CAP, BALANCE CAFÉ BELLISSIMO AROMA INTENSO 30CAP, BALANCE CAFÉ SOLÚVEL DELTA FRASCO 200G, BALANCE CAFÉ DELTA SOLÚVEL CREME 80 GR, BALANCE BEBIDA CEREAIS DELTA C/20%CAFE FR 200G, ROTURA CAFÉ DELTA Q QALIDUS 40CAP, ROTURA CAFÉ DELTA Q QHARACTER 40CAP, ROTURA CAFÉ GINGA 10CAP, ROTURA CAFÉ BELLISSIMO AROMA INTENSO 30CAP, ROTURA CAFÉ SOLÚVEL DELTA FRASCO 200G, ROTURA CAFÉ DELTA SOLÚVEL CREME 80 GR, ROTURA BEBIDA CEREAIS DELTA C/20%CAFE FR 200G, PRÉ-ROTURA CAFÉ DELTA Q QALIDUS 40CAP, PRÉ-ROTURA CAFÉ DELTA Q QHARACTER 40CAP, PRÉ-ROTURA CAFÉ GINGA 10CAP, PRÉ-ROTURA CAFÉ BELLISSIMO AROMA INTENSO 30CAP, PRÉ-ROTURA CAFÉ SOLÚVEL DELTA FRASCO 200G, PRÉ-ROTURA CAFÉ DELTA SOLÚVEL CREME 80 GR, PRÉ-ROTURA BEBIDA CEREAIS DELTA C/20%CAFE FR 200G, SINAL CAFÉ DELTA Q QALIDUS 40CAP, SINAL CAFÉ DELTA Q QHARACTER 40CAP, SINAL CAFÉ GINGA 10CAP, SINAL CAFÉ BELLISSIMO AROMA INTENSO 30CAP, SINAL CAFÉ SOLÚVEL DELTA FRASCO 200G, SINAL CAFÉ DELTA SOLÚVEL CREME 80 GR, SINAL BEBIDA CEREAIS DELTA C/20%CAFE FR 200G, CICLO CAFÉ DELTA Q QALIDUS 40CAP, CICLO CAFÉ DELTA Q QHARACTER 40CAP, CICLO CAFÉ GINGA 10CAP, CICLO CAFÉ BELLISSIMO AROMA INTENSO 30CAP, CICLO CAFÉ SOLÚVEL DELTA FRASCO 200G, CICLO CAFÉ DELTA SOLÚVEL CREME 80 GR, CICLO BEBIDA CEREAIS DELTA C/20%CAFE FR 200G, ADEQUAÇÃO CAFÉ DELTA Q QALIDUS 40CAP, ADEQUAÇÃO CAFÉ DELTA Q QHARACTER 40CAP, ADEQUAÇÃO CAFÉ GINGA 10CAP, ADEQUAÇÃO CAFÉ BELLISSIMO AROMA INTENSO 30CAP, ADEQUAÇÃO CAFÉ SOLÚVEL DELTA FRASCO 200G, ADEQUAÇÃO CAFÉ DELTA SOLÚVEL CREME 80 GR, ADEQUAÇÃO BEBIDA CEREAIS DELTA C/20%CAFE FR 200G, Dias_para_Rotura CAFÉ DELTA Q QALIDUS 40CAP, Dias_para_Rotura CAFÉ DELTA Q QHARACTER 40CAP, ...]\n",
       "Index: []\n",
       "\n",
       "[0 rows x 117 columns]"
      ]
     },
     "execution_count": 499,
     "metadata": {},
     "output_type": "execute_result"
    }
   ],
   "source": [
    "df2_2[df2_2[\"Prop_Produtos\"]>100]"
   ]
  },
  {
   "cell_type": "code",
   "execution_count": 508,
   "metadata": {
    "scrolled": false
   },
   "outputs": [
    {
     "data": {
      "text/plain": [
       "['0: Vendedor',\n",
       " '1: Loja',\n",
       " '2: STORE',\n",
       " '3: DATA',\n",
       " '4: Hora',\n",
       " '5: CAFÉ DELTA Q QALIDUS 40CAP',\n",
       " '6: CAFÉ DELTA Q QHARACTER 40CAP',\n",
       " '7: CAFÉ GINGA 10CAP',\n",
       " '8: CAFÉ BELLISSIMO AROMA INTENSO 30CAP',\n",
       " '9: CAFÉ SOLÚVEL DELTA FRASCO 200G',\n",
       " '10: CAFÉ DELTA SOLÚVEL CREME 80 GR',\n",
       " '11: BEBIDA CEREAIS DELTA C/20%CAFE FR 200G',\n",
       " '12: id',\n",
       " '13: Reposição',\n",
       " '14: STOCK CAFÉ DELTA Q QALIDUS 40CAP',\n",
       " '15: PRESLINEAR CAFÉ DELTA Q QALIDUS 40CAP',\n",
       " '16: INTRANSIT CAFÉ DELTA Q QALIDUS 40CAP',\n",
       " '17: EXPECTED CAFÉ DELTA Q QALIDUS 40CAP',\n",
       " '18: SELLOUT CAFÉ DELTA Q QALIDUS 40CAP',\n",
       " '19: STOCK CAFÉ DELTA Q QHARACTER 40CAP',\n",
       " '20: PRESLINEAR CAFÉ DELTA Q QHARACTER 40CAP',\n",
       " '21: INTRANSIT CAFÉ DELTA Q QHARACTER 40CAP',\n",
       " '22: EXPECTED CAFÉ DELTA Q QHARACTER 40CAP',\n",
       " '23: SELLOUT CAFÉ DELTA Q QHARACTER 40CAP',\n",
       " '24: STOCK CAFÉ GINGA 10CAP',\n",
       " '25: PRESLINEAR CAFÉ GINGA 10CAP',\n",
       " '26: INTRANSIT CAFÉ GINGA 10CAP',\n",
       " '27: EXPECTED CAFÉ GINGA 10CAP',\n",
       " '28: SELLOUT CAFÉ GINGA 10CAP',\n",
       " '29: STOCK CAFÉ BELLISSIMO AROMA INTENSO 30CAP',\n",
       " '30: PRESLINEAR CAFÉ BELLISSIMO AROMA INTENSO 30CAP',\n",
       " '31: INTRANSIT CAFÉ BELLISSIMO AROMA INTENSO 30CAP',\n",
       " '32: EXPECTED CAFÉ BELLISSIMO AROMA INTENSO 30CAP',\n",
       " '33: SELLOUT CAFÉ BELLISSIMO AROMA INTENSO 30CAP',\n",
       " '34: STOCK CAFÉ SOLÚVEL DELTA FRASCO 200G',\n",
       " '35: PRESLINEAR CAFÉ SOLÚVEL DELTA FRASCO 200G',\n",
       " '36: INTRANSIT CAFÉ SOLÚVEL DELTA FRASCO 200G',\n",
       " '37: EXPECTED CAFÉ SOLÚVEL DELTA FRASCO 200G',\n",
       " '38: SELLOUT CAFÉ SOLÚVEL DELTA FRASCO 200G',\n",
       " '39: STOCK CAFÉ DELTA SOLÚVEL CREME 80 GR',\n",
       " '40: PRESLINEAR CAFÉ DELTA SOLÚVEL CREME 80 GR',\n",
       " '41: INTRANSIT CAFÉ DELTA SOLÚVEL CREME 80 GR',\n",
       " '42: EXPECTED CAFÉ DELTA SOLÚVEL CREME 80 GR',\n",
       " '43: SELLOUT CAFÉ DELTA SOLÚVEL CREME 80 GR',\n",
       " '44: STOCK BEBIDA CEREAIS DELTA C/20%CAFE FR 200G',\n",
       " '45: PRESLINEAR BEBIDA CEREAIS DELTA C/20%CAFE FR 200G',\n",
       " '46: INTRANSIT BEBIDA CEREAIS DELTA C/20%CAFE FR 200G',\n",
       " '47: EXPECTED BEBIDA CEREAIS DELTA C/20%CAFE FR 200G',\n",
       " '48: SELLOUT BEBIDA CEREAIS DELTA C/20%CAFE FR 200G',\n",
       " '49: STK CAFÉ DELTA Q QALIDUS 40CAP',\n",
       " '50: STK CAFÉ DELTA Q QHARACTER 40CAP',\n",
       " '51: STK CAFÉ GINGA 10CAP',\n",
       " '52: STK CAFÉ BELLISSIMO AROMA INTENSO 30CAP',\n",
       " '53: STK CAFÉ SOLÚVEL DELTA FRASCO 200G',\n",
       " '54: STK CAFÉ DELTA SOLÚVEL CREME 80 GR',\n",
       " '55: STK BEBIDA CEREAIS DELTA C/20%CAFE FR 200G',\n",
       " '56: BALANCE CAFÉ DELTA Q QALIDUS 40CAP',\n",
       " '57: BALANCE CAFÉ DELTA Q QHARACTER 40CAP',\n",
       " '58: BALANCE CAFÉ GINGA 10CAP',\n",
       " '59: BALANCE CAFÉ BELLISSIMO AROMA INTENSO 30CAP',\n",
       " '60: BALANCE CAFÉ SOLÚVEL DELTA FRASCO 200G',\n",
       " '61: BALANCE CAFÉ DELTA SOLÚVEL CREME 80 GR',\n",
       " '62: BALANCE BEBIDA CEREAIS DELTA C/20%CAFE FR 200G',\n",
       " '63: ROTURA CAFÉ DELTA Q QALIDUS 40CAP',\n",
       " '64: ROTURA CAFÉ DELTA Q QHARACTER 40CAP',\n",
       " '65: ROTURA CAFÉ GINGA 10CAP',\n",
       " '66: ROTURA CAFÉ BELLISSIMO AROMA INTENSO 30CAP',\n",
       " '67: ROTURA CAFÉ SOLÚVEL DELTA FRASCO 200G',\n",
       " '68: ROTURA CAFÉ DELTA SOLÚVEL CREME 80 GR',\n",
       " '69: ROTURA BEBIDA CEREAIS DELTA C/20%CAFE FR 200G',\n",
       " '70: PRÉ-ROTURA CAFÉ DELTA Q QALIDUS 40CAP',\n",
       " '71: PRÉ-ROTURA CAFÉ DELTA Q QHARACTER 40CAP',\n",
       " '72: PRÉ-ROTURA CAFÉ GINGA 10CAP',\n",
       " '73: PRÉ-ROTURA CAFÉ BELLISSIMO AROMA INTENSO 30CAP',\n",
       " '74: PRÉ-ROTURA CAFÉ SOLÚVEL DELTA FRASCO 200G',\n",
       " '75: PRÉ-ROTURA CAFÉ DELTA SOLÚVEL CREME 80 GR',\n",
       " '76: PRÉ-ROTURA BEBIDA CEREAIS DELTA C/20%CAFE FR 200G',\n",
       " '77: SINAL CAFÉ DELTA Q QALIDUS 40CAP',\n",
       " '78: SINAL CAFÉ DELTA Q QHARACTER 40CAP',\n",
       " '79: SINAL CAFÉ GINGA 10CAP',\n",
       " '80: SINAL CAFÉ BELLISSIMO AROMA INTENSO 30CAP',\n",
       " '81: SINAL CAFÉ SOLÚVEL DELTA FRASCO 200G',\n",
       " '82: SINAL CAFÉ DELTA SOLÚVEL CREME 80 GR',\n",
       " '83: SINAL BEBIDA CEREAIS DELTA C/20%CAFE FR 200G',\n",
       " '84: CICLO CAFÉ DELTA Q QALIDUS 40CAP',\n",
       " '85: CICLO CAFÉ DELTA Q QHARACTER 40CAP',\n",
       " '86: CICLO CAFÉ GINGA 10CAP',\n",
       " '87: CICLO CAFÉ BELLISSIMO AROMA INTENSO 30CAP',\n",
       " '88: CICLO CAFÉ SOLÚVEL DELTA FRASCO 200G',\n",
       " '89: CICLO CAFÉ DELTA SOLÚVEL CREME 80 GR',\n",
       " '90: CICLO BEBIDA CEREAIS DELTA C/20%CAFE FR 200G',\n",
       " '91: ADEQUAÇÃO CAFÉ DELTA Q QALIDUS 40CAP',\n",
       " '92: ADEQUAÇÃO CAFÉ DELTA Q QHARACTER 40CAP',\n",
       " '93: ADEQUAÇÃO CAFÉ GINGA 10CAP',\n",
       " '94: ADEQUAÇÃO CAFÉ BELLISSIMO AROMA INTENSO 30CAP',\n",
       " '95: ADEQUAÇÃO CAFÉ SOLÚVEL DELTA FRASCO 200G',\n",
       " '96: ADEQUAÇÃO CAFÉ DELTA SOLÚVEL CREME 80 GR',\n",
       " '97: ADEQUAÇÃO BEBIDA CEREAIS DELTA C/20%CAFE FR 200G',\n",
       " '98: Dias_para_Rotura CAFÉ DELTA Q QALIDUS 40CAP',\n",
       " '99: Dias_para_Rotura CAFÉ DELTA Q QHARACTER 40CAP',\n",
       " '100: Dias_para_Rotura CAFÉ GINGA 10CAP',\n",
       " '101: Dias_para_Rotura CAFÉ BELLISSIMO AROMA INTENSO 30CAP',\n",
       " '102: Dias_para_Rotura CAFÉ SOLÚVEL DELTA FRASCO 200G',\n",
       " '103: Dias_para_Rotura CAFÉ DELTA SOLÚVEL CREME 80 GR',\n",
       " '104: Dias_para_Rotura BEBIDA CEREAIS DELTA C/20%CAFE FR 200G',\n",
       " '105: Dias_para_Rotura_Linear CAFÉ DELTA Q QALIDUS 40CAP',\n",
       " '106: Dias_para_Rotura_Linear CAFÉ DELTA Q QHARACTER 40CAP',\n",
       " '107: Dias_para_Rotura_Linear CAFÉ GINGA 10CAP',\n",
       " '108: Dias_para_Rotura_Linear CAFÉ BELLISSIMO AROMA INTENSO 30CAP',\n",
       " '109: Dias_para_Rotura_Linear CAFÉ SOLÚVEL DELTA FRASCO 200G',\n",
       " '110: Dias_para_Rotura_Linear CAFÉ DELTA SOLÚVEL CREME 80 GR',\n",
       " '111: Dias_para_Rotura_Linear BEBIDA CEREAIS DELTA C/20%CAFE FR 200G',\n",
       " '112: Num_Produtos',\n",
       " '113: Num_ProdutosRep',\n",
       " '114: Num_ProdutosNRep',\n",
       " '115: Produtos_Contratados',\n",
       " '116: Prop_Produtos']"
      ]
     },
     "execution_count": 508,
     "metadata": {},
     "output_type": "execute_result"
    }
   ],
   "source": [
    "[f\"{index}: {column}\" for index, column in enumerate(df2_2)]"
   ]
  },
  {
   "cell_type": "markdown",
   "metadata": {},
   "source": [
    "### <center><font color=green>Gráficos</font></center>\n"
   ]
  },
  {
   "cell_type": "markdown",
   "metadata": {},
   "source": [
    "- Classic"
   ]
  },
  {
   "cell_type": "code",
   "execution_count": 500,
   "metadata": {},
   "outputs": [],
   "source": [
    "# Normal\n",
    "escrever_excel(df_Classic, \"G_Classic\")\n",
    "\n",
    "# Com Reposição\n",
    "escrever_excel(df_Classic_ComRepo, \"G_Classic_Reposto\")\n",
    "\n",
    "# Sem Reposição\n",
    "escrever_excel(df_Classic_SemRepo, \"G_Classic_SemReposto\")"
   ]
  },
  {
   "cell_type": "markdown",
   "metadata": {},
   "source": [
    "- Roturas"
   ]
  },
  {
   "cell_type": "code",
   "execution_count": 501,
   "metadata": {},
   "outputs": [],
   "source": [
    "escrever_excel(df_Rot, \"G_Rotura\")"
   ]
  },
  {
   "cell_type": "markdown",
   "metadata": {},
   "source": [
    "- Número de produtos"
   ]
  },
  {
   "cell_type": "code",
   "execution_count": 502,
   "metadata": {},
   "outputs": [],
   "source": [
    "escrever_excel(df_NumProd, \"G_NumProdutos\")"
   ]
  },
  {
   "cell_type": "raw",
   "metadata": {},
   "source": [
    "df_NumProd[df_NumProd.Prop_Produtos < 70]\n",
    "df_NumProd[df_NumProd.Prop_Produtos == 100]"
   ]
  },
  {
   "cell_type": "markdown",
   "metadata": {},
   "source": [
    " "
   ]
  },
  {
   "cell_type": "markdown",
   "metadata": {},
   "source": [
    "<a id=\"section6\"></a>\n",
    "# <center><u>Visualizar</u></center>\n",
    "[Voltar ao índice](#section0)"
   ]
  },
  {
   "cell_type": "markdown",
   "metadata": {},
   "source": [
    "- # `Long_DataFusion`"
   ]
  },
  {
   "cell_type": "markdown",
   "metadata": {},
   "source": [
    "> Filtrar produto"
   ]
  },
  {
   "cell_type": "raw",
   "metadata": {},
   "source": [
    "@interact\n",
    "def filtrar_produto(produto = list(df1.DESC_ARTIGO.unique())):\n",
    "    \n",
    "    return df1[df1.DESC_ARTIGO == produto].head() # Alterável"
   ]
  },
  {
   "cell_type": "markdown",
   "metadata": {},
   "source": [
    "> Filtrar loja"
   ]
  },
  {
   "cell_type": "raw",
   "metadata": {},
   "source": [
    "@interact\n",
    "def filtrar_loja(loja = list(df1.Loja.unique())):\n",
    "    \n",
    "    return df1[df1.Loja == loja].head() # Alterável"
   ]
  },
  {
   "cell_type": "markdown",
   "metadata": {},
   "source": [
    "- # `Wide_DataFusion`"
   ]
  },
  {
   "cell_type": "raw",
   "metadata": {},
   "source": [
    "@interact\n",
    "def filtrar_loja(loja = list(df2.Loja.unique())):\n",
    "    \n",
    "    return df2[df2.Loja == loja].head() # Alterável"
   ]
  },
  {
   "cell_type": "markdown",
   "metadata": {},
   "source": [
    " "
   ]
  },
  {
   "cell_type": "markdown",
   "metadata": {},
   "source": [
    " "
   ]
  },
  {
   "cell_type": "markdown",
   "metadata": {},
   "source": [
    " "
   ]
  },
  {
   "cell_type": "markdown",
   "metadata": {},
   "source": [
    " "
   ]
  },
  {
   "cell_type": "markdown",
   "metadata": {},
   "source": [
    " "
   ]
  },
  {
   "cell_type": "markdown",
   "metadata": {},
   "source": [
    " "
   ]
  },
  {
   "cell_type": "markdown",
   "metadata": {},
   "source": [
    " "
   ]
  },
  {
   "cell_type": "markdown",
   "metadata": {},
   "source": [
    " "
   ]
  },
  {
   "cell_type": "markdown",
   "metadata": {},
   "source": [
    " "
   ]
  },
  {
   "cell_type": "markdown",
   "metadata": {},
   "source": [
    " "
   ]
  },
  {
   "cell_type": "markdown",
   "metadata": {},
   "source": [
    " "
   ]
  },
  {
   "cell_type": "markdown",
   "metadata": {},
   "source": [
    " "
   ]
  },
  {
   "cell_type": "markdown",
   "metadata": {},
   "source": [
    " "
   ]
  },
  {
   "cell_type": "raw",
   "metadata": {},
   "source": [
    "import plotly.graph_objects as go\n",
    "\n",
    "import pandas as pd\n",
    "\n",
    "df = pd.read_csv(\"https://raw.githubusercontent.com/plotly/datasets/master/violin_data.csv\")\n",
    "\n",
    "\n",
    "pointpos_male = [-0.9,-1.1,-0.6,-0.3]\n",
    "pointpos_female = [0.45,0.55,1,0.4]\n",
    "show_legend = [True,False,False,False]\n",
    "\n",
    "fig = go.Figure()\n",
    "\n",
    "for i in range(0,len(pd.unique(df['SELLOUT']))):\n",
    "    fig.add_trace(go.Violin(x=df['SELLOUT'][(df['sex'] == 'Male') &\n",
    "                                        (df['SELLOUT'] == pd.unique(df['SELLOUT'])[i])],\n",
    "                            y=df['total_bill'][(df['sex'] == 'Male')&\n",
    "                                               (df['SELLOUT'] == pd.unique(df['SELLOUT'])[i])],\n",
    "                            legendgroup='M', scalegroup='M', name='M',\n",
    "                            side='negative',\n",
    "                            pointpos=pointpos_male[i], # where to position points\n",
    "                            line_color='lightseagreen',\n",
    "                            showlegend=show_legend[i])\n",
    "             )\n",
    "    fig.add_trace(go.Violin(x=df['SELLOUT'][(df['sex'] == 'Female') &\n",
    "                                        (df['SELLOUT'] == pd.unique(df['SELLOUT'])[i])],\n",
    "                            y=df['total_bill'][(df['sex'] == 'Female')&\n",
    "                                               (df['SELLOUT'] == pd.unique(df['SELLOUT'])[i])],\n",
    "                            legendgroup='F', scalegroup='F', name='F',\n",
    "                            side='positive',\n",
    "                            pointpos=pointpos_female[i],\n",
    "                            line_color='mediumpurple',\n",
    "                            showlegend=show_legend[i])\n",
    "             )\n",
    "\n",
    "# update characteristics shared by all traces\n",
    "fig.update_traces(meanline_visible=True,\n",
    "                  points='all', # show all points\n",
    "                  jitter=0.05,  # add some jitter on points for better visibility\n",
    "                  scalemode='count') #scale violin plot area with total count\n",
    "fig.update_layout(\n",
    "    title_text=\"Total bill distribution<br><i>scaled by number of bills per gender\",\n",
    "    violingap=0, violingroupgap=0, violinmode='overlay')\n",
    "fig.show()"
   ]
  },
  {
   "cell_type": "markdown",
   "metadata": {},
   "source": [
    "[Voltar ao índice](#section0)"
   ]
  }
 ],
 "metadata": {
  "kernelspec": {
   "display_name": "Python 3 (ipykernel)",
   "language": "python",
   "name": "python3"
  },
  "language_info": {
   "codemirror_mode": {
    "name": "ipython",
    "version": 3
   },
   "file_extension": ".py",
   "mimetype": "text/x-python",
   "name": "python",
   "nbconvert_exporter": "python",
   "pygments_lexer": "ipython3",
   "version": "3.10.9"
  }
 },
 "nbformat": 4,
 "nbformat_minor": 4
}
