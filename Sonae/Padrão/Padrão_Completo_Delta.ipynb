{
 "cells": [
  {
   "cell_type": "markdown",
   "metadata": {},
   "source": [
    "# <center>Missão Padrão Delta</center>\n",
    "\n",
    "## <center><u>``Resumo do código``</u></center>\n",
    "\n",
    ">### Entra: \n",
    "> - 1_Ninjas\n",
    "> - 2_Delta  \n",
    ">### Sai: \n",
    "> - Long_DataFusion\n",
    "> - Wide_DataFusion\n",
    "> - Wide_DataFusion_2022\n",
    "> - G_Classic\n",
    "> - G_Classic_Reposto\n",
    "> - G_Classic_SemReposto\n",
    "> - G_Rotura\n",
    "> - G_NumProdutos\n",
    "---\n",
    "O objectivo é receber dados dos Ninjas e da Delta e devolver ficheiros prontos para fazer os Dashboards. \n",
    "\n",
    "\n",
    "---\n"
   ]
  },
  {
   "cell_type": "code",
   "execution_count": 1,
   "metadata": {},
   "outputs": [],
   "source": [
    "import pandas as pd\n",
    "import numpy as np\n",
    "import datetime\n",
    "import json\n",
    "from ipywidgets import interact\n",
    "\n",
    "def escrever_excel(dfa, nome):\n",
    "    dfa.to_excel(f'D:\\\\B&N Dados\\\\Delta\\\\Padrão\\\\Padrão_06_2023\\\\{nome}.xlsx', index=False)\n",
    "    \n",
    "def escrever_csv(dfa, nome):\n",
    "    dfa.to_csv(f'D:\\\\B&N Dados\\\\Delta\\\\Padrão\\\\Padrão_06_2023\\\\{nome}.csv', index=False)\n",
    "    \n",
    "def escrever_txt(dfa, nome):\n",
    "    dfa.to_csv(f'D:\\\\B&N Dados\\\\Delta\\\\Padrão\\\\Padrão_06_2023\\\\{nome}.txt', sep='\\t', index=False, header=False)\n",
    "    \n",
    "def ler_json(ficheiro):\n",
    "    with open(f'D:\\\\B&N Dados\\\\Delta\\\\{ficheiro}.json', 'r') as file:\n",
    "        mapa = json.load(file)\n",
    "    return mapa"
   ]
  },
  {
   "cell_type": "markdown",
   "metadata": {},
   "source": [
    "<a id=\"section0\"></a>\n",
    "\n",
    "# Índice\n",
    "\n",
    "1. [Data Cleaning](#section1)<br>\n",
    "2. [DataFusion Long](#section2)<br>\n",
    "3. [DataFusion Wide](#section3)<br>\n",
    "4. [Gráficos](#section4)<br>\n",
    "5. [Escrever](#section5)<br>\n",
    "6. [Visualizar](#section6)"
   ]
  },
  {
   "cell_type": "markdown",
   "metadata": {},
   "source": [
    "# O que é preciso substituir:\n",
    "\n",
    "1. Data Cleaning\n",
    "   1. [Directória e nº bases Ninjas](#section1.1)\n",
    "   2. [Directória e nº bases Delta](#section1.2)\n"
   ]
  },
  {
   "cell_type": "markdown",
   "metadata": {},
   "source": [
    "---"
   ]
  },
  {
   "cell_type": "markdown",
   "metadata": {},
   "source": [
    "<a id=\"section1\"></a>\n",
    "# <center>1. Data Cleaning</center>\n",
    "[Voltar ao índice](#section0)<br>\n"
   ]
  },
  {
   "cell_type": "code",
   "execution_count": 2,
   "metadata": {},
   "outputs": [],
   "source": [
    "''' Ler os dicionários previamente criados para poder usar os códigos de produto e de loja em vez dos nomes '''\n",
    "\n",
    "mapa_produtos = ler_json(\"dicionário_produtos\")\n",
    "mapa_produtos = {int(key): value for key, value in mapa_produtos.items()}\n",
    "\n",
    "mapa_lojas = ler_json(\"dicionário_lojas\")\n",
    "mapa_lojas = {int(key): value for key, value in mapa_lojas.items()}\n",
    "\n",
    "mapa_produtos2 = ler_json(\"dicionário_produtos_23\")\n",
    "mapa_produtos2 = {int(key): value for key, value in mapa_produtos2.items()}   "
   ]
  },
  {
   "cell_type": "markdown",
   "metadata": {},
   "source": [
    "- # `Ninjas`"
   ]
  },
  {
   "cell_type": "markdown",
   "metadata": {},
   "source": [
    "> <font color=blue>Ler</font>\n",
    "<a id=\"section1.1\"></a>"
   ]
  },
  {
   "cell_type": "code",
   "execution_count": 26,
   "metadata": {},
   "outputs": [
    {
     "name": "stdout",
     "output_type": "stream",
     "text": [
      "CPU times: total: 125 ms\n",
      "Wall time: 105 ms\n"
     ]
    }
   ],
   "source": [
    "%%time\n",
    "# Ler o ficheiro long com Stocks e Fornecimento\n",
    "\n",
    "directória = \"D:\\\\B&N Dados\\\\Delta\\\\Padrão\\\\Padrão_06_2023\\\\\"\n",
    "num_bases = 3\n",
    "\n",
    "prefixo = \"1_Ninjas\"\n",
    "extensão = \".xlsx\" #xlsb\n",
    "\n",
    "\n",
    "dataframes = []\n",
    "\n",
    "for i in range(1, num_bases + 1):\n",
    "    file_path = f\"{directória}{prefixo}{i}{extensão}\"\n",
    "    df = pd.read_excel(file_path)\n",
    "    dataframes.append(df)\n",
    "    \n",
    "dfNinjas = pd.concat(dataframes, ignore_index=True)\n",
    "dfNinjas = dfNinjas.rename(columns={' Data de Resposta': 'DATA', \"Código da loja\":\"STORE\", \"Nome da Loja\":\"Loja\"})\n",
    "\n",
    "#dfNinjas = dfNinjas.rename(columns=lambda x: mapa_produtos2.get(x, x))\n",
    "\n",
    "\"\"\"Datetime\"\"\"\n",
    "\n",
    "# se xlsx\n",
    "dfNinjas['DATA'] = pd.to_datetime(dfNinjas['DATA'], format='%d-%m-%Y') \n",
    "\n",
    "# se xlsb\n",
    "#dfNinjas['DATA'] = pd.to_datetime(dfNinjas['DATA'], unit='d', origin=datetime.datetime(1899, 12, 30)) "
   ]
  },
  {
   "cell_type": "markdown",
   "metadata": {},
   "source": [
    "- Lista de produtos e lista de lojas"
   ]
  },
  {
   "cell_type": "markdown",
   "metadata": {},
   "source": [
    "# <font color=red>É preciso definir melhor o formato do ficheiro dos ninjas para se saber os produtos, preciso de perceber melhor como é gerado na aplicação</font>"
   ]
  },
  {
   "cell_type": "code",
   "execution_count": 27,
   "metadata": {},
   "outputs": [],
   "source": [
    "# Produtos\n",
    "ficheiro_Produtos = dfNinjas.columns.tolist()\n",
    "df_produtos = pd.DataFrame(ficheiro_Produtos[3:], columns=[\"DESC_ARTIGO\"]) # Se não houver hora\n",
    "#df_produtos = pd.DataFrame(ficheiro_Produtos[4:], columns=[\"DESC_ARTIGO\"]) # Se houver hora\n",
    "\n",
    "# Lojas\n",
    "df_lojas = pd.DataFrame(dfNinjas[\"STORE\"].unique().tolist(), columns=[\"STORE\"])\n",
    "\n",
    "\n",
    "'''Colocar em listas para serem chamáveis'''\n",
    "\n",
    "lojas = df_lojas[\"STORE\"].tolist()\n",
    "produtos = df_produtos[\"DESC_ARTIGO\"].tolist()\n",
    "numprod = len(produtos)"
   ]
  },
  {
   "cell_type": "markdown",
   "metadata": {},
   "source": [
    "[Escrever](#section5)"
   ]
  },
  {
   "cell_type": "markdown",
   "metadata": {},
   "source": [
    "---"
   ]
  },
  {
   "cell_type": "markdown",
   "metadata": {},
   "source": [
    "<a id=\"section2.1\"></a>\n",
    "- #  `Delta`"
   ]
  },
  {
   "cell_type": "markdown",
   "metadata": {},
   "source": [
    "> <font color=blue>Ler</font>\n",
    "<a id=\"section1.2\"></a>"
   ]
  },
  {
   "cell_type": "code",
   "execution_count": 6,
   "metadata": {},
   "outputs": [
    {
     "name": "stdout",
     "output_type": "stream",
     "text": [
      "CPU times: total: 17.9 s\n",
      "Wall time: 18.5 s\n"
     ]
    }
   ],
   "source": [
    "%%time\n",
    "# Ler o ficheiro long com Stocks e Fornecimento\n",
    "\n",
    "directória = \"D:\\\\B&N Dados\\\\Delta\\\\Padrão\\\\Padrão_06_2023\\\\\"\n",
    "extensão = \".xlsb\"\n",
    "#extensão = \".xlsx\"\n",
    "num_bases = 3\n",
    "\n",
    "prefixo = \"2_Delta\"\n",
    "\n",
    "dataframes = []\n",
    "\n",
    "for i in range(1, num_bases + 1):\n",
    "    file_path = f\"{directória}{prefixo}{i}{extensão}\"\n",
    "    df = pd.read_excel(file_path)\n",
    "    dataframes.append(df[['DATA', 'EAN', 'DESC_ARTIGO', 'STORE', \"STORE_NAME\", \n",
    "                         \"SOH\", \"INTRANSIT\", \"EXPECTED\", \"PRES_STOCK\", \"VND (D-1)\"]])\n",
    "    \n",
    "dfDelta=pd.concat(dataframes, ignore_index=True)\n",
    "\n",
    "\"\"\"Datetime\"\"\"\n",
    "\n",
    "# se xlsx\n",
    "#dfDelta['DATA'] = pd.to_datetime(dfDelta['DATA'], format='%d-%m-%Y') \n",
    "\n",
    "# se xlsb\n",
    "dfDelta['DATA'] = pd.to_datetime(dfDelta['DATA'], unit='d', origin=datetime.datetime(1899, 12, 30)) "
   ]
  },
  {
   "cell_type": "markdown",
   "metadata": {},
   "source": [
    "> - **Definir os produtos e lojas em causa**"
   ]
  },
  {
   "cell_type": "code",
   "execution_count": 7,
   "metadata": {},
   "outputs": [],
   "source": [
    "# Estabelecer o Dataframe mais limitado\n",
    "dfDelta_Limpo = dfDelta[dfDelta['STORE'].isin(lojas) & dfDelta['DESC_ARTIGO'].isin(produtos)].copy()\n",
    "\n",
    "# Mudar nomes\n",
    "dfDelta_Limpo = dfDelta_Limpo.rename(columns={\"VND (D-1)\": \"SELLOUT_1_Dias_Antes\", \"SOH\": \"STOCK_1_Dias_Antes\"})"
   ]
  },
  {
   "cell_type": "markdown",
   "metadata": {},
   "source": [
    "> - **Criar colunas de Stock e Sellout para o próprio dia**"
   ]
  },
  {
   "cell_type": "code",
   "execution_count": 8,
   "metadata": {},
   "outputs": [],
   "source": [
    "# Organizar para atingir os valores relevantes\n",
    "dfDelta_Limpo = dfDelta_Limpo.sort_values(by=[\"STORE\", \"DESC_ARTIGO\", \"DATA\"])\n",
    "\n",
    "#Agrupar por loja e produto para não haver valores errados \n",
    "dfDelta_Limpo[\"SELLOUT\"] = dfDelta_Limpo.groupby([\"STORE\", \"DESC_ARTIGO\"])[\"SELLOUT_1_Dias_Antes\"].shift(-1)\n",
    "dfDelta_Limpo[\"STOCK\"] = dfDelta_Limpo.groupby([\"STORE\", \"DESC_ARTIGO\"])[\"STOCK_1_Dias_Antes\"].shift(-1)"
   ]
  },
  {
   "cell_type": "markdown",
   "metadata": {},
   "source": [
    "> - **Retirar os dias que não têm interesse (último dia)**"
   ]
  },
  {
   "cell_type": "code",
   "execution_count": 9,
   "metadata": {},
   "outputs": [],
   "source": [
    "# O dia final foi utilizado para conseguir dados do dia para stocks e sellouts mas não é dia de missão\n",
    "segunda = dfDelta_Limpo['DATA'].unique()\n",
    "\n",
    "dfDelta_Limpo = dfDelta_Limpo.loc[dfDelta_Limpo['DATA'] < segunda[-1]]\n",
    "dfDelta_Limpo_Org = dfDelta_Limpo.iloc[:, np.r_[:5,11,6:9,10]]"
   ]
  },
  {
   "cell_type": "markdown",
   "metadata": {},
   "source": [
    "\n",
    "### <center><font color=green>   Ainda fazer"
   ]
  },
  {
   "cell_type": "markdown",
   "metadata": {},
   "source": [
    "> - **Id**"
   ]
  },
  {
   "cell_type": "code",
   "execution_count": 28,
   "metadata": {},
   "outputs": [],
   "source": [
    "# Extract the day and month components from the 'datetime' column\n",
    "dfNinjas['day'] = pd.to_datetime(dfNinjas['DATA']).dt.day\n",
    "dfNinjas['month'] = pd.to_datetime(dfNinjas['DATA']).dt.month\n",
    "\n",
    "# Create a new column combining day and month\n",
    "dfNinjas['day_month'] = dfNinjas['day'].astype(str) + '-' + dfNinjas['month'].astype(str)\n",
    "\n",
    "# Assign unique IDs to each unique day-month combination\n",
    "dfNinjas['id'], _ = pd.factorize(dfNinjas['day_month'])\n",
    "\n",
    "dfNinjas = dfNinjas.drop(columns=['day', 'month', 'day_month'])"
   ]
  },
  {
   "cell_type": "markdown",
   "metadata": {},
   "source": [
    "> - **Número de produtos presentes**"
   ]
  },
  {
   "cell_type": "code",
   "execution_count": 29,
   "metadata": {},
   "outputs": [],
   "source": [
    "# Criar coluna com o número dos produtos em causa presentes no instante\n",
    "\n",
    "dfNinjas[\"Num_Produtos\"] = dfNinjas[produtos].sum(axis=1)\n",
    "\n",
    "dfNinjas.loc[(dfNinjas[\"Num_Produtos\"] == 0) & (dfNinjas[produtos[1]].isna()), \"Num_Produtos\"] = np.nan"
   ]
  },
  {
   "cell_type": "markdown",
   "metadata": {},
   "source": [
    "> - **Vendedor**"
   ]
  },
  {
   "cell_type": "code",
   "execution_count": 30,
   "metadata": {},
   "outputs": [],
   "source": [
    "# Ler ficheiro\n",
    "dfVendedor=pd.read_excel(\"D:\\\\B&N Dados\\\\Delta\\\\Vendedor2.xlsx\", sheet_name = \"Lista Lojas Sonae\")\n",
    "dfVendedor = dfVendedor.rename(columns={\"Cód. Loja\":\"STORE\"})\n",
    "\n",
    "# Criar coluna de reposição\n",
    "dfNinjas = pd.merge(dfNinjas, dfVendedor[[\"STORE\",\"Vendedor\"]], how=\"left\", on = \"STORE\")"
   ]
  },
  {
   "cell_type": "markdown",
   "metadata": {},
   "source": [
    "> - **Reposição**"
   ]
  },
  {
   "cell_type": "code",
   "execution_count": 31,
   "metadata": {},
   "outputs": [],
   "source": [
    "# Ler o ficheiro com os nomes das lojas que fazem reposição\n",
    "dfRepos=pd.read_excel(\"D:\\\\B&N Dados\\\\Delta\\\\Reposição_Sonae_Código.xlsx\")\n",
    "\n",
    "# Criar coluna que determina quais lojas têm reposição\n",
    "dfNinjas['Repos'] = [1 if val in dfRepos['STORE'].values else 0 for val in dfNinjas['STORE']]"
   ]
  },
  {
   "cell_type": "markdown",
   "metadata": {},
   "source": [
    "## <center><font color=orange>Output DataCleaning"
   ]
  },
  {
   "cell_type": "raw",
   "metadata": {},
   "source": [
    "[f\"{index}: {column}\" for index, column in enumerate(dfNinjas1)]"
   ]
  },
  {
   "cell_type": "code",
   "execution_count": 35,
   "metadata": {},
   "outputs": [
    {
     "ename": "NameError",
     "evalue": "name 'dfDelta_Limpo_Org' is not defined",
     "output_type": "error",
     "traceback": [
      "\u001b[1;31m---------------------------------------------------------------------------\u001b[0m",
      "\u001b[1;31mNameError\u001b[0m                                 Traceback (most recent call last)",
      "Cell \u001b[1;32mIn[35], line 3\u001b[0m\n\u001b[0;32m      1\u001b[0m dfNinjas1 \u001b[38;5;241m=\u001b[39m dfNinjas\u001b[38;5;241m.\u001b[39miloc[:, np\u001b[38;5;241m.\u001b[39mr_[\u001b[38;5;241m5\u001b[39m\u001b[38;5;241m+\u001b[39mnumprod,\u001b[38;5;241m0\u001b[39m:\u001b[38;5;241m5\u001b[39m\u001b[38;5;241m+\u001b[39mnumprod,\u001b[38;5;241m6\u001b[39m\u001b[38;5;241m+\u001b[39mnumprod]]\u001b[38;5;241m.\u001b[39mcopy() \u001b[38;5;66;03m# Se não houver hora\u001b[39;00m\n\u001b[0;32m      2\u001b[0m \u001b[38;5;66;03m#dfNinjas1 = dfNinjas.iloc[:, np.r_[6+numprod,0:6+numprod,7+numprod]].copy() # Se houver hora\u001b[39;00m\n\u001b[1;32m----> 3\u001b[0m dfDelta \u001b[38;5;241m=\u001b[39m \u001b[43mdfDelta_Limpo_Org\u001b[49m\u001b[38;5;241m.\u001b[39mcopy()\n",
      "\u001b[1;31mNameError\u001b[0m: name 'dfDelta_Limpo_Org' is not defined"
     ]
    }
   ],
   "source": [
    "dfNinjas = dfNinjas.iloc[:, np.r_[5+numprod,0:5+numprod,6+numprod]].copy() # Se não houver hora\n",
    "#dfNinjas1 = dfNinjas.iloc[:, np.r_[6+numprod,0:6+numprod,7+numprod]].copy() # Se houver hora\n",
    "dfDelta = dfDelta_Limpo_Org.copy()"
   ]
  },
  {
   "cell_type": "markdown",
   "metadata": {},
   "source": [
    "---"
   ]
  },
  {
   "cell_type": "markdown",
   "metadata": {},
   "source": [
    "<a id=\"section2\"></a>\n",
    "# <center> 2. DataFusion Long (1)</center>\n",
    "[Voltar ao índice](#section0)"
   ]
  },
  {
   "cell_type": "markdown",
   "metadata": {},
   "source": [
    "> - __dfNinjas__ já definido\n",
    "> - __dfDelta__ já definido\n",
    "> - __produtos__ já definidos"
   ]
  },
  {
   "cell_type": "markdown",
   "metadata": {},
   "source": [
    "- #  `dfFinal1`"
   ]
  },
  {
   "cell_type": "code",
   "execution_count": 15,
   "metadata": {},
   "outputs": [],
   "source": [
    "resto = dfNinjas.columns.difference(produtos)\n",
    "# Passar ficheiro ninjas para long\n",
    "dfNinjasLong = dfNinjas.melt(id_vars=resto, value_vars=produtos, var_name='DESC_ARTIGO', value_name='NinjaInfo')\n",
    "\n",
    "\n",
    "#Mergir\n",
    "dfMeio = pd.merge(dfNinjasLong, dfDelta, how=\"left\", on = [\"DATA\",\"STORE\", \"DESC_ARTIGO\"]) \n",
    "#dfMeio = dfMeio.drop(columns=[\"Loja\"])\n",
    "\n",
    "dfFinal1=dfMeio.copy()"
   ]
  },
  {
   "cell_type": "markdown",
   "metadata": {},
   "source": [
    "> STK"
   ]
  },
  {
   "cell_type": "code",
   "execution_count": 16,
   "metadata": {},
   "outputs": [],
   "source": [
    "# Definir coluna de STK (soma de stocks com stock em trânsito)\n",
    "\n",
    "dfFinal1[\"STK\"] = dfFinal1[\"STOCK\"] + dfFinal1[\"INTRANSIT\"] + dfFinal1[\"EXPECTED\"]"
   ]
  },
  {
   "cell_type": "markdown",
   "metadata": {},
   "source": [
    "> Balanço"
   ]
  },
  {
   "cell_type": "code",
   "execution_count": 17,
   "metadata": {},
   "outputs": [],
   "source": [
    "# Definir coluna de Balanço (razão entre sellout e stock total)\n",
    "\n",
    "dfFinal1[\"Balance\"] = dfFinal1[\"SELLOUT\"] / dfFinal1[\"STK\"]"
   ]
  },
  {
   "cell_type": "markdown",
   "metadata": {},
   "source": [
    "> Rotura"
   ]
  },
  {
   "cell_type": "code",
   "execution_count": 18,
   "metadata": {},
   "outputs": [],
   "source": [
    "# Definir coluna de rotura (se stock menor ou igual a 0 e existe Linear)\n",
    "\n",
    "dfFinal1[\"ROTURA\"] = np.where((dfFinal1[\"STOCK\"] <= 0) & (dfFinal1[\"PRES_STOCK\"] > 0), 1, 0)"
   ]
  },
  {
   "cell_type": "markdown",
   "metadata": {},
   "source": [
    ">Sinal"
   ]
  },
  {
   "cell_type": "code",
   "execution_count": 19,
   "metadata": {},
   "outputs": [],
   "source": [
    "# Categorias possíveis\n",
    "mapping = {1: \"Presente com Stock\",\n",
    "           2: \"Ausente com Stock\",\n",
    "           3: \"Presente sem Stock\",\n",
    "           4: \"Ausente sem Stock\",\n",
    "           5: \"Presente sem Registo\",\n",
    "           6: \"Ausente sem Registo\"}\n",
    "\n",
    "# Definir coluna de sinal\n",
    "dfFinal1[\"Sinal\"] = np.where((dfFinal1[\"STOCK\"] > 0) & (dfFinal1[\"NinjaInfo\"] == 1), 1,\n",
    "                     np.where((dfFinal1[\"STOCK\"] > 0) & (dfFinal1[\"NinjaInfo\"] == 0), 2,\n",
    "                     np.where((dfFinal1[\"STOCK\"] <= 0) & (dfFinal1[\"NinjaInfo\"] == 1), 3,\n",
    "                     np.where((dfFinal1[\"STOCK\"] <= 0) & (dfFinal1[\"NinjaInfo\"] == 0), 4,\n",
    "                     np.where((dfFinal1[\"STOCK\"].isna()) & (dfFinal1[\"NinjaInfo\"] == 1), 5,\n",
    "                     np.where((dfFinal1[\"STOCK\"].isna()) & (dfFinal1[\"NinjaInfo\"] == 0), 6,\n",
    "                     np.nan))))))\n",
    "\n",
    "# Substituir números pelas expressões escolhidas\n",
    "dfFinal1[\"Sinal\"] = dfFinal1[\"Sinal\"].map(mapping)"
   ]
  },
  {
   "cell_type": "markdown",
   "metadata": {},
   "source": [
    "> Ciclos"
   ]
  },
  {
   "cell_type": "code",
   "execution_count": 20,
   "metadata": {},
   "outputs": [],
   "source": [
    "dfFinal1[\"Ciclos\"]=dfFinal1[\"STOCK\"]/dfFinal1[\"PRES_STOCK\"]"
   ]
  },
  {
   "cell_type": "markdown",
   "metadata": {},
   "source": [
    "> Adequação"
   ]
  },
  {
   "cell_type": "code",
   "execution_count": 21,
   "metadata": {},
   "outputs": [],
   "source": [
    "dfFinal1[\"Adequacao\"] = np.where(\n",
    "                        dfFinal1[\"Ciclos\"] > 1.1,\n",
    "                        \"Stock Suficiente\",\n",
    "                       np.where(\n",
    "                        (dfFinal1[\"Ciclos\"] <= 1.1) & (dfFinal1[\"INTRANSIT\"] + dfFinal1[\"EXPECTED\"] + dfFinal1[\"STOCK\"] >= dfFinal1[\"PRES_STOCK\"]),\n",
    "                        \"Stock Insuf c Forn Adequado\",\n",
    "                       np.where(\n",
    "                        (dfFinal1[\"Ciclos\"] <= 1.1) & (dfFinal1[\"INTRANSIT\"] + dfFinal1[\"EXPECTED\"] + dfFinal1[\"STOCK\"] < dfFinal1[\"PRES_STOCK\"]),\n",
    "                        \"Stock Insuf c Forn Desadequado\",\n",
    "                        \"\")))"
   ]
  },
  {
   "cell_type": "markdown",
   "metadata": {},
   "source": [
    "> Dias para a rotura de stock"
   ]
  },
  {
   "cell_type": "code",
   "execution_count": 22,
   "metadata": {},
   "outputs": [],
   "source": [
    "dfFinal1[\"Dias_para_Rotura\"] = dfFinal1[\"STOCK\"] / dfFinal1[\"SELLOUT\"]"
   ]
  },
  {
   "cell_type": "markdown",
   "metadata": {},
   "source": [
    "> Dias para a rotura de prateleira"
   ]
  },
  {
   "cell_type": "code",
   "execution_count": 23,
   "metadata": {},
   "outputs": [],
   "source": [
    "dfFinal1[\"Dias_para_Rotura_Linear\"] = dfFinal1[\"PRES_STOCK\"] / dfFinal1[\"SELLOUT\"]"
   ]
  },
  {
   "cell_type": "markdown",
   "metadata": {},
   "source": [
    "> Roturas de prateleira (meh)"
   ]
  },
  {
   "cell_type": "raw",
   "metadata": {},
   "source": [
    "'''Isto serve para mudar os 0s para 1s do NinjaInfo para se poder fazer gráficos e análises'''\n",
    "\n",
    "#1 Quando detectada rotura\n",
    "dfFinal1[\"ROTURA_LINEAR\"] = dfFinal1[dfFinal1['NinjaInfo'] == 0].groupby(['STORE', 'DATA', 'DESC_ARTIGO'])['NinjaInfo'].transform('count')\n",
    "#0 Quando não há rotura\n",
    "dfFinal1[\"ROTURA_LINEAR\"] = np.where(dfFinal1['NinjaInfo'] == 1, 0, dfFinal1['ROTURA_LINEAR'])"
   ]
  },
  {
   "cell_type": "markdown",
   "metadata": {},
   "source": [
    "- ###  `Organizar`"
   ]
  },
  {
   "cell_type": "raw",
   "metadata": {},
   "source": [
    "df_columns = dfFinal1Corrigido.columns.tolist()\n",
    "indexed_columns = [f\"{index}: {column}\" for index, column in enumerate(df_columns)]\n",
    "indexed_columns"
   ]
  },
  {
   "cell_type": "raw",
   "metadata": {},
   "source": [
    "df_columns = dfFinal1.columns.tolist()\n",
    "indexed_columns = [f\"{index}: {column}\" for index, column in enumerate(df_columns)]\n",
    "lista_dfFinal1 = [5,0:2,7:16,2:5,6,16:19,24,19:24]\n",
    "indexed_columns"
   ]
  },
  {
   "cell_type": "markdown",
   "metadata": {},
   "source": [
    "## <center><font color=orange>Output DataFusion Long"
   ]
  },
  {
   "cell_type": "code",
   "execution_count": 24,
   "metadata": {},
   "outputs": [],
   "source": [
    "\n",
    "df1 = dfFinal1.iloc[:, np.r_[5,0:2,7:16,2:5,6,16:19,19:24]].copy()"
   ]
  },
  {
   "cell_type": "code",
   "execution_count": 27,
   "metadata": {},
   "outputs": [
    {
     "data": {
      "text/plain": [
       "['0: Vendedor',\n",
       " '1: DATA',\n",
       " '2: Loja',\n",
       " '3: DESC_ARTIGO',\n",
       " '4: NinjaInfo',\n",
       " '5: EAN',\n",
       " '6: STORE_NAME',\n",
       " '7: STOCK',\n",
       " '8: INTRANSIT',\n",
       " '9: EXPECTED',\n",
       " '10: PRES_STOCK',\n",
       " '11: SELLOUT',\n",
       " '12: Num_Produtos',\n",
       " '13: Reposição',\n",
       " '14: STORE',\n",
       " '15: id',\n",
       " '16: STK',\n",
       " '17: Balanço',\n",
       " '18: ROTURA',\n",
       " '19: Sinal',\n",
       " '20: Ciclos',\n",
       " '21: Adequação',\n",
       " '22: Dias_para_Rotura',\n",
       " '23: Dias_para_Rotura_Linear']"
      ]
     },
     "execution_count": 27,
     "metadata": {},
     "output_type": "execute_result"
    }
   ],
   "source": [
    "df_columns = df1.columns.tolist()\n",
    "[f\"{index}: {column}\" for index, column in enumerate(df_columns)]"
   ]
  },
  {
   "cell_type": "markdown",
   "metadata": {},
   "source": [
    "[Escrever](#section5) <br>\n",
    "[Visualizar](#section6)"
   ]
  },
  {
   "cell_type": "markdown",
   "metadata": {},
   "source": [
    "<a id=\"section3\"></a>\n",
    "# <center>3. DataFusion Wide (2)</center>\n",
    "[Voltar ao índice](#section0)<br>"
   ]
  },
  {
   "cell_type": "markdown",
   "metadata": {},
   "source": [
    "> - __dfNinjas__ já definido\n",
    "> - __dfDelta__ já definido\n",
    "> - __produtos__ já definidos"
   ]
  },
  {
   "cell_type": "markdown",
   "metadata": {},
   "source": [
    "- #  `dfFinal2`"
   ]
  },
  {
   "cell_type": "code",
   "execution_count": 57,
   "metadata": {},
   "outputs": [],
   "source": [
    "# Dataframe mergido no fim\n",
    "dfMeio2 = dfNinjas.copy()\n",
    "\n",
    "\n",
    "for coluna in produtos:       \n",
    "    \n",
    "    #Cada dfStocks é um dataframe com o produto específico\n",
    "    dfStocks=dfDelta[dfDelta[\"DESC_ARTIGO\"]==coluna][[\"DATA\", \"STORE\", \"STOCK\", \"PRES_STOCK\", \"INTRANSIT\", \"EXPECTED\", \"SELLOUT\"]]   #Dados Ninjas, seleccionar colunas do café específico\n",
    " \n",
    "    #Juntar dados de acordo com o dia e a loja\n",
    "    dfMeio2=pd.merge(dfMeio2, dfStocks, how=\"left\", on = [\"DATA\",\"STORE\"])  \n",
    "    \n",
    "    #Mudar nomes para ser adaptado a cada produto\n",
    "    dfMeio2=dfMeio2.rename(columns={\"STOCK\": \"STOCK %s\" % coluna, \"PRES_STOCK\":\"PRESLINEAR %s\" % coluna, \"INTRANSIT\":\"INTRANSIT %s\" % coluna, \"EXPECTED\":\"EXPECTED %s\" % coluna, \"SELLOUT\":\"SELLOUT %s\" % coluna})                       #Nomear coluna nova\n",
    "    \n",
    "dfFinal2=dfMeio2.copy()"
   ]
  },
  {
   "cell_type": "markdown",
   "metadata": {},
   "source": [
    "---"
   ]
  },
  {
   "cell_type": "markdown",
   "metadata": {},
   "source": [
    "> STK"
   ]
  },
  {
   "cell_type": "code",
   "execution_count": 58,
   "metadata": {},
   "outputs": [],
   "source": [
    "for i in produtos:\n",
    "\n",
    "    transito = \"INTRANSIT %s\" % i\n",
    "    esperado = \"EXPECTED %s\" % i\n",
    "    stock  = \"STOCK %s\" % i\n",
    "    \n",
    "    stk = \"STK %s\" %i\n",
    "      \n",
    "    dfFinal2[stk] = dfFinal2[stock] + dfFinal2[esperado] + dfFinal2[transito]"
   ]
  },
  {
   "cell_type": "markdown",
   "metadata": {},
   "source": [
    "> Balanço"
   ]
  },
  {
   "cell_type": "code",
   "execution_count": 59,
   "metadata": {},
   "outputs": [],
   "source": [
    "for i in produtos:\n",
    "    stk = \"STK %s\" %i\n",
    "    #msa = \"MSA %s\" %i\n",
    "    sellout = \"SELLOUT %s\" %i\n",
    "    \n",
    "    balance = \"BALANCE %s\" %i\n",
    "    \n",
    "    dfFinal2[balance] = dfFinal2[sellout] / dfFinal2[stk]\n",
    "    \n",
    "    "
   ]
  },
  {
   "cell_type": "markdown",
   "metadata": {},
   "source": [
    "> Rotura"
   ]
  },
  {
   "cell_type": "code",
   "execution_count": 60,
   "metadata": {},
   "outputs": [],
   "source": [
    "for i in produtos:\n",
    "    rotura  = \"ROTURA %s\" % i\n",
    "    stock  = \"STOCK %s\" % i\n",
    "    preslinear = \"PRESLINEAR %s\" % i\n",
    "    \n",
    "    dfFinal2[rotura] = np.where((dfFinal2[stock] > 0) & ~(dfFinal2[i].isna()), 0, \n",
    "                      np.where((dfFinal2[stock] <= 0) & (dfFinal2[preslinear] > 0) & ~(dfFinal2[i].isna()), 1, \n",
    "                      np.nan))\n"
   ]
  },
  {
   "cell_type": "markdown",
   "metadata": {},
   "source": [
    "> Pré-Rotura"
   ]
  },
  {
   "cell_type": "code",
   "execution_count": 61,
   "metadata": {},
   "outputs": [],
   "source": [
    "for i in produtos:\n",
    "    stock  = \"STOCK %s\" % i\n",
    "    preslinear = \"PRESLINEAR %s\" % i\n",
    "    pre_rotura= \"PRE-ROTURA %s\" % i\n",
    "    \n",
    "    dfFinal2[pre_rotura] = (dfFinal2[stock] < dfFinal2[preslinear]).astype(int)"
   ]
  },
  {
   "cell_type": "markdown",
   "metadata": {},
   "source": [
    ">Sinal"
   ]
  },
  {
   "cell_type": "code",
   "execution_count": 62,
   "metadata": {},
   "outputs": [],
   "source": [
    "#dfFinal2[\"Sinal\"]= pd.Series(dtype='int')\n",
    "\n",
    "# Define the mappings of numbers to strings\n",
    "mapping = {1: \"Presente com Stock\",\n",
    "           2: \"Ausente com Stock\",\n",
    "           3: \"Presente sem Stock\",\n",
    "           4: \"Ausente sem Stock\",\n",
    "           5: \"Presente sem Registo\",\n",
    "           6: \"Ausente sem Registo\"}\n",
    "\n",
    "for i in produtos:\n",
    "    sinal = \"SINAL %s\" % i\n",
    "    stock  = \"STOCK %s\" % i\n",
    "    \n",
    "    dfFinal2[sinal] = np.where((dfFinal2[stock] > 0) & (dfFinal2[i] == 1), 1,\n",
    "                     np.where((dfFinal2[stock] > 0) & (dfFinal2[i] == 0), 2,\n",
    "                     np.where((dfFinal2[stock] <= 0) & (dfFinal2[i] == 1), 3,\n",
    "                     np.where((dfFinal2[stock] <= 0) & (dfFinal2[i] == 0), 4,\n",
    "                     np.nan))))\n",
    "#                      np.where((dfFinal2[stock].isna()) & (dfFinal2[i] == 1), 5,\n",
    "#                      np.where((dfFinal2[stock].isna()) & (dfFinal2[i] == 0), 6,\n",
    "#                      np.nan))))))\n",
    "\n",
    "    # Map the numbers to the corresponding strings\n",
    "    dfFinal2[sinal] = dfFinal2[sinal].map(mapping)\n",
    "    dfFinal2[ninjainfo] = np.where(dfFinal2[stock].isna(), np.nan, dfFinal2[i])\n",
    "\n",
    "# 1: Há Stock e Sinal Positivo Ninja \"Verdadeiramente Correcto\"\n",
    "# 2: Há Stock e Sinal Negativo Ninja \"Falso Positivo\"\n",
    "# 3: Não há Stock e Sinal Positivo Ninja \"Falso Negativo\"\n",
    "# 4: Não há Stock e Sinal Negativo Ninja \"Rejeição Correcta\""
   ]
  },
  {
   "cell_type": "markdown",
   "metadata": {},
   "source": [
    "> Ciclos"
   ]
  },
  {
   "cell_type": "code",
   "execution_count": 63,
   "metadata": {},
   "outputs": [],
   "source": [
    "for i in produtos:\n",
    "    ciclos = \"CICLO %s\" % i\n",
    "    stock  = \"STOCK %s\" % i\n",
    "    linear = \"PRESLINEAR %s\" % i\n",
    "    dfFinal2[ciclos]=dfFinal2[stock]/dfFinal2[linear]"
   ]
  },
  {
   "cell_type": "markdown",
   "metadata": {},
   "source": [
    "> Adequação"
   ]
  },
  {
   "cell_type": "code",
   "execution_count": 64,
   "metadata": {},
   "outputs": [],
   "source": [
    "dfFinal2 = dfFinal2.copy()\n",
    "# Define the mappings of numbers to strings\n",
    "mapping = {1: \"Stock Suficiente\",\n",
    "           2: \"Stock Insuf c Forn Adequado\",\n",
    "           3: \"Stock Insuf c Forn Desadequado\"}\n",
    "\n",
    "for i in produtos:\n",
    "    adequa = \"ADEQUACAO %s\" % i\n",
    "    ciclos = \"CICLO %s\" % i\n",
    "    transito = \"INTRANSIT %s\" % i\n",
    "    esperado = \"EXPECTED %s\" % i\n",
    "    stock  = \"STOCK %s\" % i\n",
    "    linear = \"PRESLINEAR %s\" % i\n",
    "    \n",
    "    dfFinal2[adequa] = np.where(dfFinal2[ciclos] > 1.1, 1,\n",
    "                      np.where((dfFinal2[ciclos] <= 1.1) & (dfFinal2[transito] + dfFinal2[esperado] + dfFinal2[stock] >= dfFinal2[linear]), 2,\n",
    "                      np.where((dfFinal2[ciclos] <= 1.1) & (dfFinal2[transito] + dfFinal2[esperado] + dfFinal2[stock] < dfFinal2[linear]), 3, \n",
    "                      np.nan)))\n",
    "    \n",
    "    # Map the numbers to the corresponding strings\n",
    "    dfFinal2[adequa] = dfFinal2[adequa].map(mapping)"
   ]
  },
  {
   "cell_type": "markdown",
   "metadata": {},
   "source": [
    "- Dias para a rotura"
   ]
  },
  {
   "cell_type": "code",
   "execution_count": 65,
   "metadata": {},
   "outputs": [],
   "source": [
    "for i in produtos:\n",
    "    stock  = \"STOCK %s\" % i\n",
    "    #msa = \"MSA %s\" %i\n",
    "    sellout = \"SELLOUT %s\" % i\n",
    "    dias_rotura = \"Dias_para_Rotura %s\" % i\n",
    "    \n",
    "    dfFinal2[dias_rotura] = dfFinal2[stock]/dfFinal2[sellout]"
   ]
  },
  {
   "cell_type": "markdown",
   "metadata": {},
   "source": [
    "- Dias para a rotura de prateleira"
   ]
  },
  {
   "cell_type": "code",
   "execution_count": 66,
   "metadata": {},
   "outputs": [],
   "source": [
    "for i in produtos:\n",
    "    linear = \"PRESLINEAR %s\" % i\n",
    "    #msa = \"MSA %s\" %i\n",
    "    sellout = \"SELLOUT %s\" % i\n",
    "    dias_rotura_prat = \"Dias_para_Rotura_Linear %s\" % i\n",
    "    \n",
    "    dfFinal2[dias_rotura_prat] = dfFinal2[linear] / dfFinal2[sellout]"
   ]
  },
  {
   "cell_type": "markdown",
   "metadata": {},
   "source": [
    "---"
   ]
  },
  {
   "cell_type": "markdown",
   "metadata": {},
   "source": [
    "# `2022`"
   ]
  },
  {
   "cell_type": "code",
   "execution_count": 67,
   "metadata": {},
   "outputs": [],
   "source": [
    "# Ler o ficheiro long com Stocks e Fornecimento\n",
    "dfDelta_2022=pd.read_excel(\"D:\\\\B&N Dados\\\\Delta\\\\Padrão\\\\Padrão_06_2023\\\\2_Delta_2022Id.xlsx\", sheet_name=\"Sheet1\")"
   ]
  },
  {
   "cell_type": "markdown",
   "metadata": {},
   "source": [
    "#### dfFinal2_2022"
   ]
  },
  {
   "cell_type": "code",
   "execution_count": 68,
   "metadata": {},
   "outputs": [],
   "source": [
    "# Dataframe mergido no fim\n",
    "dfNinjas_2022=dfNinjas.copy()\n",
    "\n",
    "\n",
    "for coluna in produtos:       \n",
    "    \n",
    "    #Cada dfStocks é um dataframe com o produto específico\n",
    "    dfStocks=dfDelta_2022[dfDelta_2022[\"DESC_ARTIGO\"]==coluna][[\"id\", \"STORE\", \"STOCK\", \"PRES_STOCK\", \"INTRANSIT\", \"EXPECTED\", \"SELLOUT\"]]   #Dados Ninjas, seleccionar colunas do café específico\n",
    "    \n",
    "    #Juntar dados de acordo com o dia e a loja\n",
    "    dfNinjas_2022=pd.merge(dfNinjas_2022, dfStocks, how=\"left\", on = [\"id\",\"STORE\"])  \n",
    "    \n",
    "    #Mudar nomes para ser adaptado a cada produto\n",
    "    dfNinjas_2022=dfNinjas_2022.rename(columns={\"STOCK\": \"STOCK22 %s\" % coluna, \"PRES_STOCK\":\"PRESLINEAR22 %s\" % coluna, \"INTRANSIT\":\"INTRANSIT22 %s\" % coluna, \"EXPECTED\":\"EXPECTED22 %s\" % coluna, \"SELLOUT\":\"SELLOUT22 %s\" % coluna})                       #Nomear coluna nova\n",
    "\n",
    "dfFinal2_2022 = dfNinjas_2022"
   ]
  },
  {
   "cell_type": "markdown",
   "metadata": {},
   "source": [
    "## <center><font color=orange>Output DataFusion Wide"
   ]
  },
  {
   "cell_type": "code",
   "execution_count": 69,
   "metadata": {},
   "outputs": [],
   "source": [
    "df2 = dfFinal2.copy()\n",
    "df2_2022 = dfFinal2_2022.copy()"
   ]
  },
  {
   "cell_type": "markdown",
   "metadata": {},
   "source": [
    "[Escrever](#section5) <br>\n",
    "[Visualizar](#section6)"
   ]
  },
  {
   "cell_type": "markdown",
   "metadata": {},
   "source": [
    "---"
   ]
  },
  {
   "cell_type": "markdown",
   "metadata": {},
   "source": [
    "<a id=\"section4\"></a>\n",
    "# <center>4. Gráficos (3)</center>\n",
    "[Voltar ao índice](#section0)<br>"
   ]
  },
  {
   "cell_type": "markdown",
   "metadata": {},
   "source": [
    "> - __produtos__ já definidos"
   ]
  },
  {
   "cell_type": "markdown",
   "metadata": {},
   "source": [
    "---"
   ]
  },
  {
   "cell_type": "markdown",
   "metadata": {},
   "source": [
    "- #  `dfFinal3`"
   ]
  },
  {
   "cell_type": "code",
   "execution_count": 73,
   "metadata": {},
   "outputs": [],
   "source": [
    "dfFinal3 = df2.copy()"
   ]
  },
  {
   "cell_type": "markdown",
   "metadata": {},
   "source": [
    "# Tabelas"
   ]
  },
  {
   "cell_type": "markdown",
   "metadata": {},
   "source": [
    "# - <span style=\"color:green\">Classic:</span>  Proporção de presença por produto"
   ]
  },
  {
   "cell_type": "code",
   "execution_count": 74,
   "metadata": {},
   "outputs": [],
   "source": [
    "# Média tirando os missing values\n",
    "df_Med = dfFinal3[produtos].mean(numeric_only=True)#.groupby('Altura_do_Dia').mean()\n",
    "\n",
    "# Passar para dataframe\n",
    "df_Classic = df_Med.to_frame()\n",
    "\n",
    "# Mudanças para ficar legível\n",
    "df_Classic = df_Classic.reset_index()\n",
    "df_Classic = df_Classic.rename(columns={'index': 'Produto', 0: 'Frequência'})"
   ]
  },
  {
   "cell_type": "raw",
   "metadata": {
    "collapsed": true
   },
   "source": [
    "import plotly.express as px\n",
    "fig = px.bar(df_Classic, x='Produto', y='Frequência', title='Classic')\n",
    "fig.show()"
   ]
  },
  {
   "cell_type": "markdown",
   "metadata": {},
   "source": [
    "- ###  <span style=\"color:BLUE\">Com e sem Reposição</span>"
   ]
  },
  {
   "cell_type": "code",
   "execution_count": 76,
   "metadata": {},
   "outputs": [],
   "source": [
    "# Definir se os produtos têm reposição\n",
    "\n",
    "# Sim\n",
    "df_ComRep = dfFinal3[dfFinal3[\"Repos\"] == 1]\n",
    "\n",
    "# Não\n",
    "df_SemRep = dfFinal3[dfFinal3[\"Repos\"] == 0]"
   ]
  },
  {
   "cell_type": "markdown",
   "metadata": {},
   "source": [
    ">> <font color=blue>Com</font>"
   ]
  },
  {
   "cell_type": "code",
   "execution_count": 77,
   "metadata": {},
   "outputs": [],
   "source": [
    "# Proporção\n",
    "serie_MedRep = df_ComRep[produtos].mean(numeric_only=True)\n",
    "\n",
    "# Para df\n",
    "df_Classic_ComRepo = serie_MedRep.to_frame()\n",
    "\n",
    "# Mudanças para ficar legível\n",
    "df_Classic_ComRepo = df_Classic_ComRepo.reset_index()\n",
    "df_Classic_ComRepo = df_Classic_ComRepo.rename(columns={'index': 'Produto', 0: 'Frequencia'})"
   ]
  },
  {
   "cell_type": "raw",
   "metadata": {},
   "source": [
    "fig = px.bar(df_Classic_ComRepo, x='Produto', y='Frequencia', title='Classic')\n",
    "fig.show()"
   ]
  },
  {
   "cell_type": "markdown",
   "metadata": {},
   "source": [
    ">> <font color=blue>Sem"
   ]
  },
  {
   "cell_type": "code",
   "execution_count": 78,
   "metadata": {},
   "outputs": [],
   "source": [
    "# Proporção\n",
    "serie_MedSemRep = df_SemRep[produtos].mean(numeric_only=True)\n",
    "\n",
    "# Proporção\n",
    "df_Classic_SemRepo = serie_MedSemRep.to_frame()\n",
    "\n",
    "# Mudanças para ficar legível\n",
    "df_Classic_SemRepo = df_Classic_SemRepo.reset_index()\n",
    "df_Classic_SemRepo = df_Classic_SemRepo.rename(columns={'index': 'Produto', 0: 'Frequencia'})"
   ]
  },
  {
   "cell_type": "raw",
   "metadata": {},
   "source": [
    "fig = px.bar(df_Classic_SemRepo, x='Produto', y='Frequencia', title='Classic')\n",
    "fig.show()"
   ]
  },
  {
   "cell_type": "markdown",
   "metadata": {},
   "source": [
    "---"
   ]
  },
  {
   "cell_type": "markdown",
   "metadata": {},
   "source": [
    "# - <font color=green> Final</font>: Proporção de presença por loja"
   ]
  },
  {
   "cell_type": "code",
   "execution_count": 79,
   "metadata": {},
   "outputs": [],
   "source": [
    "# com reposição\n",
    "dfFinal3[\"Num_ProdutosRep\"] = np.nan\n",
    "dfFinal3.loc[dfFinal3['Repos'] == 1, 'Num_ProdutosRep'] = dfFinal3[\"Num_Produtos\"]\n",
    "\n",
    "\n",
    "# sem reposição\n",
    "dfFinal3[\"Num_ProdutosNRep\"] = np.nan\n",
    "dfFinal3.loc[dfFinal3['Repos'] == 0, 'Num_ProdutosNRep'] = dfFinal3[\"Num_Produtos\"]\n",
    "\n",
    "# Coluna para ter o número de produtos contratados pela marca\n",
    "dfFinal3[\"Produtos_Contratados\"] = dfFinal3[produtos].notna().sum(axis=1)"
   ]
  },
  {
   "cell_type": "code",
   "execution_count": 71,
   "metadata": {},
   "outputs": [],
   "source": [
    "'''Fazer colunas de proporção de produtos presentes em loja, depois especificando para quando têm e não têm reposição'''\n",
    "\n",
    "df_NumProd=dfFinal3[[\"Loja\",\"Num_Produtos\",\"Num_ProdutosRep\",\"Num_ProdutosNRep\"]].copy()\n",
    "df_NumProd[\"Prop_Produtos\"] = (df_NumProd[\"Num_Produtos\"] / dfFinal3[\"Produtos_Contratados\"])*100\n",
    "df_NumProd[\"Prop_ProdutosRep\"] = (df_NumProd[\"Num_ProdutosRep\"] / dfFinal3[\"Produtos_Contratados\"])*100\n",
    "df_NumProd[\"Prop_ProdutosNRep\"] = (df_NumProd[\"Num_ProdutosNRep\"] / dfFinal3[\"Produtos_Contratados\"])*100"
   ]
  },
  {
   "cell_type": "code",
   "execution_count": 72,
   "metadata": {},
   "outputs": [],
   "source": [
    "# Acrescentar à base original\n",
    "dfFinal3[\"Prop_Produtos\"] = df_NumProd[\"Prop_Produtos\"]"
   ]
  },
  {
   "cell_type": "markdown",
   "metadata": {},
   "source": [
    "---"
   ]
  },
  {
   "cell_type": "markdown",
   "metadata": {},
   "source": [
    "# - <font color=green> Roturas</font>: Proporção de roturas por produto"
   ]
  },
  {
   "cell_type": "code",
   "execution_count": 235,
   "metadata": {},
   "outputs": [],
   "source": [
    "df_RotMed = dfFinal3[[\"ROTURA %s\" % produto for produto in produtos]].mean(numeric_only=True)\n",
    "\n",
    "# Passar para dataframe\n",
    "df_Rot = df_RotMed.to_frame()\n",
    "df_Rot = df_Rot.reset_index()\n",
    "df_Rot = df_Rot.rename(columns={'index': 'Produto', 0: 'Frequencia'})\n",
    "df_Rot[\"Frequencia\"] = df_Rot[\"Frequencia\"]*100"
   ]
  },
  {
   "cell_type": "markdown",
   "metadata": {},
   "source": [
    "## <center><font color=orange>Output DataFusion Wide"
   ]
  },
  {
   "cell_type": "code",
   "execution_count": null,
   "metadata": {},
   "outputs": [],
   "source": [
    "df2_2 = dfFinal3\n",
    "\n",
    "#df_Classic\n",
    "#df_Classic_ComRepo\n",
    "#df_Classic_SemRepo\n",
    "#df_Rot\n",
    "#df_NumProd"
   ]
  },
  {
   "cell_type": "markdown",
   "metadata": {},
   "source": [
    "[Visualizar](#section6)\n",
    "\n",
    "---"
   ]
  },
  {
   "cell_type": "markdown",
   "metadata": {},
   "source": [
    "<a id=\"section5\"></a>\n",
    "# <center><u>Escrever</u></center>\n",
    "[Voltar ao índice](#section0)"
   ]
  },
  {
   "cell_type": "code",
   "execution_count": null,
   "metadata": {},
   "outputs": [],
   "source": [
    "[f\"{index}: {column}\" for index, column in enumerate(df2_2)]"
   ]
  },
  {
   "cell_type": "markdown",
   "metadata": {},
   "source": [
    "### <center><font color=green>DataCleaning</font></center>"
   ]
  },
  {
   "cell_type": "code",
   "execution_count": 237,
   "metadata": {},
   "outputs": [],
   "source": [
    "escrever_txt(df_produtos, \"produtos\")\n",
    "escrever_txt(df_lojas, \"lojas\")"
   ]
  },
  {
   "cell_type": "markdown",
   "metadata": {},
   "source": [
    "### <center><font color=green>DataFusion Long</font></center>"
   ]
  },
  {
   "cell_type": "code",
   "execution_count": 239,
   "metadata": {},
   "outputs": [],
   "source": [
    "escrever_excel(df1, \"Long_DataFusion\")"
   ]
  },
  {
   "cell_type": "markdown",
   "metadata": {},
   "source": [
    "### <center><font color=green>DataFusion Wide</font></center>"
   ]
  },
  {
   "cell_type": "code",
   "execution_count": 240,
   "metadata": {},
   "outputs": [],
   "source": [
    "#escrever_excel(df2_1, \"Wide_DataFusion_Inc\")\n",
    "\n",
    "escrever_excel(df2_2, \"Wide_DataFusion\")\n",
    "escrever_excel(df2_2022, \"Wide_DataFusion2022\")"
   ]
  },
  {
   "cell_type": "markdown",
   "metadata": {},
   "source": [
    "### <center><font color=green>Gráficos</font></center>\n"
   ]
  },
  {
   "cell_type": "markdown",
   "metadata": {},
   "source": [
    "- Classic"
   ]
  },
  {
   "cell_type": "code",
   "execution_count": 243,
   "metadata": {},
   "outputs": [],
   "source": [
    "# Normal\n",
    "escrever_excel(df_Classic, \"G_Classic\")\n",
    "\n",
    "# Com Reposição\n",
    "escrever_excel(df_Classic_ComRepo, \"G_Classic_Reposto\")\n",
    "\n",
    "# Sem Reposição\n",
    "escrever_excel(df_Classic_SemRepo, \"G_Classic_SemReposto\")"
   ]
  },
  {
   "cell_type": "markdown",
   "metadata": {},
   "source": [
    "- Roturas"
   ]
  },
  {
   "cell_type": "code",
   "execution_count": 244,
   "metadata": {},
   "outputs": [],
   "source": [
    "escrever_excel(df_Rot, \"G_Rotura\")"
   ]
  },
  {
   "cell_type": "markdown",
   "metadata": {},
   "source": [
    "- Número de produtos"
   ]
  },
  {
   "cell_type": "code",
   "execution_count": 245,
   "metadata": {},
   "outputs": [],
   "source": [
    "escrever_excel(df_NumProd, \"G_NumProdutos\")"
   ]
  },
  {
   "cell_type": "markdown",
   "metadata": {},
   "source": [
    " "
   ]
  },
  {
   "cell_type": "markdown",
   "metadata": {},
   "source": [
    "<a id=\"section6\"></a>\n",
    "# <center><u>Visualizar</u></center>\n",
    "[Voltar ao índice](#section0)"
   ]
  },
  {
   "cell_type": "markdown",
   "metadata": {},
   "source": [
    "- # `Long_DataFusion`"
   ]
  },
  {
   "cell_type": "markdown",
   "metadata": {},
   "source": [
    "> Filtrar produto"
   ]
  },
  {
   "cell_type": "code",
   "execution_count": null,
   "metadata": {},
   "outputs": [],
   "source": [
    "@interact\n",
    "def filtrar_produto(produto = list(df1.DESC_ARTIGO.unique())):\n",
    "    \n",
    "    return df1[df1.DESC_ARTIGO == produto].head() # Alterável"
   ]
  },
  {
   "cell_type": "markdown",
   "metadata": {},
   "source": [
    "> Filtrar loja"
   ]
  },
  {
   "cell_type": "code",
   "execution_count": null,
   "metadata": {},
   "outputs": [],
   "source": [
    "@interact\n",
    "def filtrar_loja(loja = list(df1.Loja.unique())):\n",
    "    \n",
    "    return df1[df1.Loja == loja].head() # Alterável"
   ]
  },
  {
   "cell_type": "markdown",
   "metadata": {},
   "source": [
    "- # `Wide_DataFusion`"
   ]
  },
  {
   "cell_type": "raw",
   "metadata": {},
   "source": [
    "@interact\n",
    "def filtrar_loja(loja = list(df2.Loja.unique())):\n",
    "    \n",
    "    return df2[df2.Loja == loja].head() # Alterável"
   ]
  },
  {
   "cell_type": "markdown",
   "metadata": {},
   "source": [
    " "
   ]
  },
  {
   "cell_type": "markdown",
   "metadata": {},
   "source": [
    " "
   ]
  },
  {
   "cell_type": "markdown",
   "metadata": {},
   "source": [
    " "
   ]
  },
  {
   "cell_type": "markdown",
   "metadata": {},
   "source": [
    " "
   ]
  },
  {
   "cell_type": "markdown",
   "metadata": {},
   "source": [
    " "
   ]
  },
  {
   "cell_type": "markdown",
   "metadata": {},
   "source": [
    " "
   ]
  },
  {
   "cell_type": "markdown",
   "metadata": {},
   "source": [
    " "
   ]
  },
  {
   "cell_type": "markdown",
   "metadata": {},
   "source": [
    " "
   ]
  },
  {
   "cell_type": "markdown",
   "metadata": {},
   "source": [
    " "
   ]
  },
  {
   "cell_type": "markdown",
   "metadata": {},
   "source": [
    " "
   ]
  },
  {
   "cell_type": "markdown",
   "metadata": {},
   "source": [
    " "
   ]
  },
  {
   "cell_type": "markdown",
   "metadata": {},
   "source": [
    " "
   ]
  },
  {
   "cell_type": "markdown",
   "metadata": {},
   "source": [
    " "
   ]
  },
  {
   "cell_type": "code",
   "execution_count": null,
   "metadata": {},
   "outputs": [],
   "source": [
    "import plotly.graph_objects as go\n",
    "\n",
    "import pandas as pd\n",
    "\n",
    "df = pd.read_csv(\"https://raw.githubusercontent.com/plotly/datasets/master/violin_data.csv\")\n",
    "\n",
    "\n",
    "pointpos_male = [-0.9,-1.1,-0.6,-0.3]\n",
    "pointpos_female = [0.45,0.55,1,0.4]\n",
    "show_legend = [True,False,False,False]\n",
    "\n",
    "fig = go.Figure()\n",
    "\n",
    "for i in range(0,len(pd.unique(df['SELLOUT']))):\n",
    "    fig.add_trace(go.Violin(x=df['SELLOUT'][(df['sex'] == 'Male') &\n",
    "                                        (df['SELLOUT'] == pd.unique(df['SELLOUT'])[i])],\n",
    "                            y=df['total_bill'][(df['sex'] == 'Male')&\n",
    "                                               (df['SELLOUT'] == pd.unique(df['SELLOUT'])[i])],\n",
    "                            legendgroup='M', scalegroup='M', name='M',\n",
    "                            side='negative',\n",
    "                            pointpos=pointpos_male[i], # where to position points\n",
    "                            line_color='lightseagreen',\n",
    "                            showlegend=show_legend[i])\n",
    "             )\n",
    "    fig.add_trace(go.Violin(x=df['SELLOUT'][(df['sex'] == 'Female') &\n",
    "                                        (df['SELLOUT'] == pd.unique(df['SELLOUT'])[i])],\n",
    "                            y=df['total_bill'][(df['sex'] == 'Female')&\n",
    "                                               (df['SELLOUT'] == pd.unique(df['SELLOUT'])[i])],\n",
    "                            legendgroup='F', scalegroup='F', name='F',\n",
    "                            side='positive',\n",
    "                            pointpos=pointpos_female[i],\n",
    "                            line_color='mediumpurple',\n",
    "                            showlegend=show_legend[i])\n",
    "             )\n",
    "\n",
    "# update characteristics shared by all traces\n",
    "fig.update_traces(meanline_visible=True,\n",
    "                  points='all', # show all points\n",
    "                  jitter=0.05,  # add some jitter on points for better visibility\n",
    "                  scalemode='count') #scale violin plot area with total count\n",
    "fig.update_layout(\n",
    "    title_text=\"Total bill distribution<br><i>scaled by number of bills per gender\",\n",
    "    violingap=0, violingroupgap=0, violinmode='overlay')\n",
    "fig.show()"
   ]
  },
  {
   "cell_type": "markdown",
   "metadata": {},
   "source": [
    "[Voltar ao índice](#section0)"
   ]
  }
 ],
 "metadata": {
  "kernelspec": {
   "display_name": "Python 3 (ipykernel)",
   "language": "python",
   "name": "python3"
  },
  "language_info": {
   "codemirror_mode": {
    "name": "ipython",
    "version": 3
   },
   "file_extension": ".py",
   "mimetype": "text/x-python",
   "name": "python",
   "nbconvert_exporter": "python",
   "pygments_lexer": "ipython3",
   "version": "3.10.9"
  }
 },
 "nbformat": 4,
 "nbformat_minor": 4
}
