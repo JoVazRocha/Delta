{
 "cells": [
  {
   "cell_type": "code",
   "execution_count": 1,
   "metadata": {},
   "outputs": [],
   "source": [
    "import pandas as pd\n",
    "import numpy as np\n",
    "\n",
    "def escrever(dfa, nome):\n",
    "    dfa.to_excel('%s.xlsx' %nome, index=False)"
   ]
  },
  {
   "cell_type": "markdown",
   "metadata": {},
   "source": [
    "# Ler e Mudar nomes"
   ]
  },
  {
   "cell_type": "markdown",
   "metadata": {},
   "source": [
    "Juntar tudo na mesma base de dados.\n",
    "Já temos os produtos para o piloto, fazer a base para machine learning (10 dias antes) e as lojas."
   ]
  },
  {
   "cell_type": "code",
   "execution_count": 2,
   "metadata": {},
   "outputs": [],
   "source": [
    "#Stocks, Linear, \n",
    "dfDelta=pd.read_excel(\"Stocks_fev.xlsx\", sheet_name=\"Sheet1\")\n",
    "\n",
    "#Info Ninja\n",
    "dfNinjas=pd.read_excel(\"Resultado Sonae_fevereiro 23.xlsx\")\n",
    "\n",
    "#Sellouts, vendedor e reposição\n",
    "dfSonae1=pd.read_excel(\"Sellout_fev.xlsx\")\n",
    "dfSonae2=pd.read_excel(\"Reposição 2022.xlsx\")\n",
    "dfSonae1['Reposição'] = [1 if val in dfSonae2['Descrição Loja'].values else 0 for val in dfSonae1['Descrição Loja']]\n",
    "\n",
    "\n",
    "dfNinjas = dfNinjas.rename(columns={' Data de Resposta': 'DATA', \"Código da loja\":\"STORE\"})\n",
    "dfSonae = dfSonae.rename(columns={'Data': 'DATA', \"LojaEntreposto\":\"STORE\", \"DscArtigo\":\"DESC_ARTIGO\"})"
   ]
  },
  {
   "cell_type": "markdown",
   "metadata": {},
   "source": [
    "# VER"
   ]
  },
  {
   "cell_type": "code",
   "execution_count": 18,
   "metadata": {
    "collapsed": true,
    "jupyter": {
     "outputs_hidden": true
    }
   },
   "outputs": [
    {
     "data": {
      "text/html": [
       "<div>\n",
       "<style scoped>\n",
       "    .dataframe tbody tr th:only-of-type {\n",
       "        vertical-align: middle;\n",
       "    }\n",
       "\n",
       "    .dataframe tbody tr th {\n",
       "        vertical-align: top;\n",
       "    }\n",
       "\n",
       "    .dataframe thead th {\n",
       "        text-align: right;\n",
       "    }\n",
       "</style>\n",
       "<table border=\"1\" class=\"dataframe\">\n",
       "  <thead>\n",
       "    <tr style=\"text-align: right;\">\n",
       "      <th></th>\n",
       "      <th>DATA</th>\n",
       "      <th>STORE</th>\n",
       "      <th>Loja</th>\n",
       "      <th>Unnamed: 3</th>\n",
       "      <th>DscArtigo</th>\n",
       "      <th>Ean</th>\n",
       "      <th>Quant</th>\n",
       "      <th>Valor</th>\n",
       "      <th>ValorOnline</th>\n",
       "    </tr>\n",
       "  </thead>\n",
       "  <tbody>\n",
       "    <tr>\n",
       "      <th>0</th>\n",
       "      <td>24/02/2023</td>\n",
       "      <td>L0006</td>\n",
       "      <td>CNT COIMBRASHOPPING</td>\n",
       "      <td>NaN</td>\n",
       "      <td>CAFÉ DELTA Q AQTIVUS 10CAP</td>\n",
       "      <td>5601082026978</td>\n",
       "      <td>26</td>\n",
       "      <td>81.64</td>\n",
       "      <td>3.14</td>\n",
       "    </tr>\n",
       "    <tr>\n",
       "      <th>1</th>\n",
       "      <td>24/02/2023</td>\n",
       "      <td>L3864</td>\n",
       "      <td>CBD CALDAS TAIPAS</td>\n",
       "      <td>NaN</td>\n",
       "      <td>CAFÉ BELLISSIMO INTENSO 200GR</td>\n",
       "      <td>5601082049946</td>\n",
       "      <td>1</td>\n",
       "      <td>1.89</td>\n",
       "      <td>0.00</td>\n",
       "    </tr>\n",
       "    <tr>\n",
       "      <th>2</th>\n",
       "      <td>24/02/2023</td>\n",
       "      <td>L0927</td>\n",
       "      <td>CNT BARREIRO</td>\n",
       "      <td>NaN</td>\n",
       "      <td>CAFÉ DELTA Q ROAST COL DARK 10CAP</td>\n",
       "      <td>5601082047546</td>\n",
       "      <td>1</td>\n",
       "      <td>3.44</td>\n",
       "      <td>0.00</td>\n",
       "    </tr>\n",
       "    <tr>\n",
       "      <th>3</th>\n",
       "      <td>24/02/2023</td>\n",
       "      <td>L0459</td>\n",
       "      <td>CNT BRAGA</td>\n",
       "      <td>NaN</td>\n",
       "      <td>CAFÉ MOÍDO SACO CHÁVENA DELTA 250G</td>\n",
       "      <td>5601082022765</td>\n",
       "      <td>32</td>\n",
       "      <td>76.80</td>\n",
       "      <td>0.00</td>\n",
       "    </tr>\n",
       "    <tr>\n",
       "      <th>4</th>\n",
       "      <td>24/02/2023</td>\n",
       "      <td>L0446</td>\n",
       "      <td>CNT LOULÉ</td>\n",
       "      <td>NaN</td>\n",
       "      <td>INFUSÃO TETLEY IMUNE VIT LIMAO 20SAQ</td>\n",
       "      <td>5014328001033</td>\n",
       "      <td>3</td>\n",
       "      <td>8.52</td>\n",
       "      <td>0.00</td>\n",
       "    </tr>\n",
       "  </tbody>\n",
       "</table>\n",
       "</div>"
      ],
      "text/plain": [
       "         DATA   STORE                  Loja Unnamed: 3  \\\n",
       "0  24/02/2023  L0006    CNT COIMBRASHOPPING        NaN   \n",
       "1  24/02/2023  L3864      CBD CALDAS TAIPAS        NaN   \n",
       "2  24/02/2023  L0927           CNT BARREIRO        NaN   \n",
       "3  24/02/2023  L0459              CNT BRAGA        NaN   \n",
       "4  24/02/2023  L0446              CNT LOULÉ        NaN   \n",
       "\n",
       "                              DscArtigo            Ean  Quant  Valor  \\\n",
       "0            CAFÉ DELTA Q AQTIVUS 10CAP  5601082026978     26  81.64   \n",
       "1         CAFÉ BELLISSIMO INTENSO 200GR  5601082049946      1   1.89   \n",
       "2     CAFÉ DELTA Q ROAST COL DARK 10CAP  5601082047546      1   3.44   \n",
       "3    CAFÉ MOÍDO SACO CHÁVENA DELTA 250G  5601082022765     32  76.80   \n",
       "4  INFUSÃO TETLEY IMUNE VIT LIMAO 20SAQ  5014328001033      3   8.52   \n",
       "\n",
       "   ValorOnline  \n",
       "0         3.14  \n",
       "1         0.00  \n",
       "2         0.00  \n",
       "3         0.00  \n",
       "4         0.00  "
      ]
     },
     "execution_count": 18,
     "metadata": {},
     "output_type": "execute_result"
    }
   ],
   "source": [
    "#dfDelta.head()\n",
    "#dfNinjas.head()\n",
    "#dfSonae.head()"
   ]
  },
  {
   "cell_type": "markdown",
   "metadata": {},
   "source": [
    "# Mudar para datetime os que forem precisos e remover L's e 0's"
   ]
  },
  {
   "cell_type": "markdown",
   "metadata": {},
   "source": [
    "- Datetime"
   ]
  },
  {
   "cell_type": "code",
   "execution_count": 3,
   "metadata": {},
   "outputs": [],
   "source": [
    "dfDelta['DATA'] = pd.to_datetime(dfDelta['DATA'])\n",
    "dfSonae['DATA'] = pd.to_datetime(dfSonae['DATA'])"
   ]
  },
  {
   "cell_type": "markdown",
   "metadata": {},
   "source": [
    "- Limpar"
   ]
  },
  {
   "cell_type": "code",
   "execution_count": 4,
   "metadata": {},
   "outputs": [],
   "source": [
    "dfSonae['STORE'] = dfSonae['STORE'].str.replace('L', '')\n",
    "dfSonae['STORE'] = dfSonae['STORE'].astype('int')"
   ]
  },
  {
   "cell_type": "markdown",
   "metadata": {},
   "source": [
    "# Pedir dados fundamentais"
   ]
  },
  {
   "cell_type": "code",
   "execution_count": 24,
   "metadata": {},
   "outputs": [
    {
     "name": "stdout",
     "output_type": "stream",
     "text": [
      "Número de colunas que não são produto: 5\n",
      "A partir de qual coluna aparece produto: 5\n"
     ]
    }
   ],
   "source": [
    "x= int(input(\"Número de colunas que não são produto: \"))\n",
    "y= int(input(\"A partir de qual coluna aparece produto: \"))\n",
    "n=len(dfNinjas.columns)-x\n",
    "\n",
    "nomesProd=dfNinjas.columns[y-1:y-1+n]\n",
    "nomesResto=dfNinjas.columns.difference(nomesProd)"
   ]
  },
  {
   "cell_type": "markdown",
   "metadata": {},
   "source": [
    "# Código Ninjas (pôr long)"
   ]
  },
  {
   "cell_type": "code",
   "execution_count": 6,
   "metadata": {},
   "outputs": [],
   "source": [
    "dfNinjasLong = dfNinjas.melt(id_vars=nomesResto, value_vars=nomesProd, var_name='DESC_ARTIGO', value_name='NinjaInfo')"
   ]
  },
  {
   "cell_type": "markdown",
   "metadata": {},
   "source": [
    "# Código para Delta (Stocks)"
   ]
  },
  {
   "cell_type": "code",
   "execution_count": 7,
   "metadata": {},
   "outputs": [],
   "source": [
    "dfMeio= pd.merge(dfNinjasLong, dfDelta, how=\"left\", on = [\"DATA\",\"STORE\",\"DESC_ARTIGO\"]) \n",
    "dfMeio=dfMeio.drop(columns=[\"ar_stor\",\"STORE_NAME\",\"Enc PBL + DIRECTO\"])"
   ]
  },
  {
   "cell_type": "markdown",
   "metadata": {},
   "source": [
    "# Código para Sonae (Sellouts)"
   ]
  },
  {
   "cell_type": "code",
   "execution_count": 10,
   "metadata": {},
   "outputs": [],
   "source": [
    "dfFinal= pd.merge(dfMeio, dfSonae, how=\"left\", on = [\"DATA\",\"STORE\",\"DESC_ARTIGO\"])\n",
    "dfFinal=dfFinal.drop(columns=[\"Unnamed: 3\",\"Ean\",\"Loja_y\"])\n",
    "dfFinal=dfFinal.rename(columns={'Loja_x': 'Loja'})"
   ]
  },
  {
   "cell_type": "markdown",
   "metadata": {},
   "source": [
    "# Já temos DataFrame com:\n",
    "- Informação Ninjas\n",
    "- Informação Stocks, Linear, Intransit e Expected\n",
    "- Informação Sellouts, Vendedor, Reposição\n",
    "\n",
    "## Fazer:\n",
    "\n",
    "- Rotura\n",
    "- Sinal -> Avaliação da informação ninja vs stock\n",
    "- Ciclos\n",
    "- Adequação de Stock"
   ]
  },
  {
   "cell_type": "markdown",
   "metadata": {},
   "source": [
    "> Rotura"
   ]
  },
  {
   "cell_type": "code",
   "execution_count": null,
   "metadata": {},
   "outputs": [],
   "source": [
    "dfFinal[\"Rotura\"] = np.where(dfFinal[\"SOH\"] > 0, 0, 1)"
   ]
  },
  {
   "cell_type": "markdown",
   "metadata": {},
   "source": [
    ">Sinal"
   ]
  },
  {
   "cell_type": "code",
   "execution_count": 22,
   "metadata": {},
   "outputs": [],
   "source": [
    "dfFinal[\"Sinal\"]= pd.Series(dtype='int')\n",
    "\n",
    "dfFinal['Sinal'] = np.where(dfFinal['NinjaInfo'].astype(bool) & dfFinal['SOH'].astype(bool), 1,\n",
    "                         np.where(~dfFinal['NinjaInfo'].astype(bool) & dfFinal['SOH'].astype(bool), 2,\n",
    "                                  np.where(dfFinal['NinjaInfo'].astype(bool) & ~dfFinal['SOH'].astype(bool), 3, 4)))\n",
    "\n",
    "# 1: Há Stock e Sinal Positivo Ninja\n",
    "# 2: Há Stock e Sinal Negativo Ninja\n",
    "# 3: Não há Stock e Sinal Positivo Ninja\n",
    "# 4: Não há Stock e Sinal Negativo Ninja"
   ]
  },
  {
   "cell_type": "markdown",
   "metadata": {},
   "source": [
    "> Ciclos"
   ]
  },
  {
   "cell_type": "code",
   "execution_count": null,
   "metadata": {},
   "outputs": [],
   "source": [
    "dfFinal[\"Ciclos\"]=dfFinal[\"SOH\"]/dfFinal[\"PRES_STOCK\"]"
   ]
  },
  {
   "cell_type": "markdown",
   "metadata": {},
   "source": [
    "> Adequação"
   ]
  },
  {
   "cell_type": "code",
   "execution_count": null,
   "metadata": {},
   "outputs": [],
   "source": [
    "dfFinal[\"Adequação\"]= np.where(dfFinal[\"Ciclos\"] > 1.1, \"Stock Suficiente\", \n",
    "                               np.where(dfFinal[\"Ciclos\"] <= 1.1 & dfFinal[\"INTRANSIT\"]+dfFinal[\"EXPECTED\"]+dfFinal[\"SOH\"]>=dfFinal[\"PRES_STOCK\"], \"Stock Insuf c Forn Adequado\", \n",
    "                                np.where(dfFinal[\"Ciclos\"] <= 1.1 & & dfFinal[\"INTRANSIT\"]+dfFinal[\"EXPECTED\"]+dfFinal[\"SOH\"]<dfFinal[\"PRES_STOCK\"], \"Stock Insuf c Forn Desadequado\")))\n"
   ]
  },
  {
   "cell_type": "code",
   "execution_count": null,
   "metadata": {},
   "outputs": [],
   "source": [
    "for i in nomesProd:\n",
    "    adequa = \"Adequação de %s\" % i\n",
    "    ciclos = \"Ciclos %s\" % i\n",
    "    transito = \"INTRANSIT %s\" % i\n",
    "    esperado = \"EXPECTED %s\" % i\n",
    "    stock  = \"SOH %s\" % i\n",
    "    linear = \"PRES_STOCK %s\" % i\n",
    "    dfFinal[adequa] = np.where(dfFinal[ciclos] > 1.1, \"Stock Suficiente\", \n",
    "                               np.where(dfFinal[ciclos] <= 1.1 & dfFinal[transito]+dfFinal[esperado]+dfFinal[stock]>=dfFinal[linear], \"Stock Insuf c Forn Adequado\", \n",
    "                                np.where(dfFinal[ciclos] <= 1.1 & & dfFinal[transito]+dfFinal[esperado]+dfFinal[stock]<dfFinal[linear], \"Stock Insuf c Forn Desadequado\")))"
   ]
  },
  {
   "cell_type": "markdown",
   "metadata": {},
   "source": [
    "# Acabamos com:\n",
    "- Informação Ninjas\n",
    "- Informação Stocks, Linear, Intransit e Expected\n",
    "- Informação Sellouts, Vendedor, Reposição\n",
    "- Rotura\n",
    "- Sinal \n",
    "- Ciclos\n",
    "- Adequação de Stock"
   ]
  },
  {
   "cell_type": "markdown",
   "metadata": {},
   "source": [
    "# Reomear e organizar"
   ]
  },
  {
   "cell_type": "code",
   "execution_count": 25,
   "metadata": {
    "collapsed": true,
    "jupyter": {
     "outputs_hidden": true
    }
   },
   "outputs": [
    {
     "data": {
      "text/html": [
       "<div>\n",
       "<style scoped>\n",
       "    .dataframe tbody tr th:only-of-type {\n",
       "        vertical-align: middle;\n",
       "    }\n",
       "\n",
       "    .dataframe tbody tr th {\n",
       "        vertical-align: top;\n",
       "    }\n",
       "\n",
       "    .dataframe thead th {\n",
       "        text-align: right;\n",
       "    }\n",
       "</style>\n",
       "<table border=\"1\" class=\"dataframe\">\n",
       "  <thead>\n",
       "    <tr style=\"text-align: right;\">\n",
       "      <th></th>\n",
       "      <th>DATA</th>\n",
       "      <th>Hora da visita</th>\n",
       "      <th>Loja</th>\n",
       "      <th>Quantidade de produtos Delta presentes</th>\n",
       "      <th>STORE</th>\n",
       "      <th>DESC_ARTIGO</th>\n",
       "      <th>NinjaInfo</th>\n",
       "      <th>ARTIGO</th>\n",
       "      <th>SOH</th>\n",
       "      <th>INTRANSIT</th>\n",
       "      <th>EXPECTED</th>\n",
       "      <th>PRES_STOCK</th>\n",
       "      <th>VND (D-1)</th>\n",
       "      <th>EAN</th>\n",
       "      <th>Quant</th>\n",
       "      <th>Valor</th>\n",
       "      <th>ValorOnline</th>\n",
       "      <th>Estado</th>\n",
       "    </tr>\n",
       "  </thead>\n",
       "  <tbody>\n",
       "    <tr>\n",
       "      <th>0</th>\n",
       "      <td>2023-02-25</td>\n",
       "      <td>09:59:00</td>\n",
       "      <td>Continente Amadora</td>\n",
       "      <td>5</td>\n",
       "      <td>2</td>\n",
       "      <td>PACK CAFÉ DELTA Q GRAND MYTHIQ 72+8 CAP</td>\n",
       "      <td>1</td>\n",
       "      <td>7632237.0</td>\n",
       "      <td>133.0</td>\n",
       "      <td>0.0</td>\n",
       "      <td>60.0</td>\n",
       "      <td>6.0</td>\n",
       "      <td>7.0</td>\n",
       "      <td>5.601082e+12</td>\n",
       "      <td>11.0</td>\n",
       "      <td>227.59</td>\n",
       "      <td>0.00</td>\n",
       "      <td>1</td>\n",
       "    </tr>\n",
       "    <tr>\n",
       "      <th>1</th>\n",
       "      <td>2023-02-24</td>\n",
       "      <td>13:17:00</td>\n",
       "      <td>Continente Antas</td>\n",
       "      <td>5</td>\n",
       "      <td>14</td>\n",
       "      <td>PACK CAFÉ DELTA Q GRAND MYTHIQ 72+8 CAP</td>\n",
       "      <td>1</td>\n",
       "      <td>7632237.0</td>\n",
       "      <td>100.0</td>\n",
       "      <td>0.0</td>\n",
       "      <td>0.0</td>\n",
       "      <td>6.0</td>\n",
       "      <td>1.0</td>\n",
       "      <td>5.601082e+12</td>\n",
       "      <td>1.0</td>\n",
       "      <td>20.69</td>\n",
       "      <td>0.00</td>\n",
       "      <td>1</td>\n",
       "    </tr>\n",
       "    <tr>\n",
       "      <th>2</th>\n",
       "      <td>2023-02-26</td>\n",
       "      <td>19:29:00</td>\n",
       "      <td>Continente Aveiro</td>\n",
       "      <td>3</td>\n",
       "      <td>458</td>\n",
       "      <td>PACK CAFÉ DELTA Q GRAND MYTHIQ 72+8 CAP</td>\n",
       "      <td>1</td>\n",
       "      <td>7632237.0</td>\n",
       "      <td>40.0</td>\n",
       "      <td>0.0</td>\n",
       "      <td>6.0</td>\n",
       "      <td>6.0</td>\n",
       "      <td>4.0</td>\n",
       "      <td>5.601082e+12</td>\n",
       "      <td>4.0</td>\n",
       "      <td>82.76</td>\n",
       "      <td>20.69</td>\n",
       "      <td>1</td>\n",
       "    </tr>\n",
       "    <tr>\n",
       "      <th>3</th>\n",
       "      <td>2023-02-25</td>\n",
       "      <td>19:58:00</td>\n",
       "      <td>Continente Barreiro</td>\n",
       "      <td>2</td>\n",
       "      <td>927</td>\n",
       "      <td>PACK CAFÉ DELTA Q GRAND MYTHIQ 72+8 CAP</td>\n",
       "      <td>0</td>\n",
       "      <td>7632237.0</td>\n",
       "      <td>27.0</td>\n",
       "      <td>0.0</td>\n",
       "      <td>0.0</td>\n",
       "      <td>6.0</td>\n",
       "      <td>2.0</td>\n",
       "      <td>5.601082e+12</td>\n",
       "      <td>1.0</td>\n",
       "      <td>20.69</td>\n",
       "      <td>0.00</td>\n",
       "      <td>2</td>\n",
       "    </tr>\n",
       "    <tr>\n",
       "      <th>4</th>\n",
       "      <td>2023-02-25</td>\n",
       "      <td>18:59:00</td>\n",
       "      <td>Continente Beja</td>\n",
       "      <td>5</td>\n",
       "      <td>207</td>\n",
       "      <td>PACK CAFÉ DELTA Q GRAND MYTHIQ 72+8 CAP</td>\n",
       "      <td>1</td>\n",
       "      <td>7632237.0</td>\n",
       "      <td>235.0</td>\n",
       "      <td>0.0</td>\n",
       "      <td>12.0</td>\n",
       "      <td>6.0</td>\n",
       "      <td>10.0</td>\n",
       "      <td>5.601082e+12</td>\n",
       "      <td>13.0</td>\n",
       "      <td>268.97</td>\n",
       "      <td>0.00</td>\n",
       "      <td>1</td>\n",
       "    </tr>\n",
       "  </tbody>\n",
       "</table>\n",
       "</div>"
      ],
      "text/plain": [
       "        DATA Hora da visita                 Loja  \\\n",
       "0 2023-02-25       09:59:00   Continente Amadora   \n",
       "1 2023-02-24       13:17:00     Continente Antas   \n",
       "2 2023-02-26       19:29:00    Continente Aveiro   \n",
       "3 2023-02-25       19:58:00  Continente Barreiro   \n",
       "4 2023-02-25       18:59:00      Continente Beja   \n",
       "\n",
       "   Quantidade de produtos Delta presentes  STORE  \\\n",
       "0                                       5      2   \n",
       "1                                       5     14   \n",
       "2                                       3    458   \n",
       "3                                       2    927   \n",
       "4                                       5    207   \n",
       "\n",
       "                               DESC_ARTIGO  NinjaInfo     ARTIGO    SOH  \\\n",
       "0  PACK CAFÉ DELTA Q GRAND MYTHIQ 72+8 CAP          1  7632237.0  133.0   \n",
       "1  PACK CAFÉ DELTA Q GRAND MYTHIQ 72+8 CAP          1  7632237.0  100.0   \n",
       "2  PACK CAFÉ DELTA Q GRAND MYTHIQ 72+8 CAP          1  7632237.0   40.0   \n",
       "3  PACK CAFÉ DELTA Q GRAND MYTHIQ 72+8 CAP          0  7632237.0   27.0   \n",
       "4  PACK CAFÉ DELTA Q GRAND MYTHIQ 72+8 CAP          1  7632237.0  235.0   \n",
       "\n",
       "   INTRANSIT  EXPECTED  PRES_STOCK  VND (D-1)           EAN  Quant   Valor  \\\n",
       "0        0.0      60.0         6.0        7.0  5.601082e+12   11.0  227.59   \n",
       "1        0.0       0.0         6.0        1.0  5.601082e+12    1.0   20.69   \n",
       "2        0.0       6.0         6.0        4.0  5.601082e+12    4.0   82.76   \n",
       "3        0.0       0.0         6.0        2.0  5.601082e+12    1.0   20.69   \n",
       "4        0.0      12.0         6.0       10.0  5.601082e+12   13.0  268.97   \n",
       "\n",
       "   ValorOnline  Estado  \n",
       "0         0.00       1  \n",
       "1         0.00       1  \n",
       "2        20.69       1  \n",
       "3         0.00       2  \n",
       "4         0.00       1  "
      ]
     },
     "execution_count": 25,
     "metadata": {},
     "output_type": "execute_result"
    }
   ],
   "source": [
    "dfFinal.head() #O que é o Artigo?"
   ]
  },
  {
   "cell_type": "code",
   "execution_count": 30,
   "metadata": {},
   "outputs": [],
   "source": [
    "dfFinal=dfFinal.rename(columns={\"VND (D-1)\": \"1_Dia_Antes\", \"Quant\": \"Sellout_actual\"})\n",
    "dfFinalCorr=dfFinal.iloc[:, [0,1,2,4,3,5,13,7,6,8,9,10,11,14,12,15,16,17]]"
   ]
  },
  {
   "cell_type": "markdown",
   "metadata": {},
   "source": [
    "# Escrever"
   ]
  },
  {
   "cell_type": "code",
   "execution_count": 44,
   "metadata": {},
   "outputs": [],
   "source": [
    "#dfFinalCorr.to_excel('ficheiro_NSS.xlsx', index=False)\n",
    "#dfFinalCorr.to_csv('ficheiro_NSS.csv', index=False)"
   ]
  }
 ],
 "metadata": {
  "kernelspec": {
   "display_name": "Python 3",
   "language": "python",
   "name": "python3"
  },
  "language_info": {
   "codemirror_mode": {
    "name": "ipython",
    "version": 3
   },
   "file_extension": ".py",
   "mimetype": "text/x-python",
   "name": "python",
   "nbconvert_exporter": "python",
   "pygments_lexer": "ipython3",
   "version": "3.6.5"
  }
 },
 "nbformat": 4,
 "nbformat_minor": 4
}
