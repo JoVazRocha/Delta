{
 "cells": [
  {
   "cell_type": "markdown",
   "metadata": {},
   "source": [
    "# <center>DATA Cleaning</center>\n",
    "\n",
    "## <center><u>``Resumo do código``</u></center>\n",
    "\n",
    ">### Entra: 1Ninjas e 2Delta  \n",
    ">### Sai: 1Ninjas_Limpo e 2Delta_Limpo\n",
    "\n",
    "---\n",
    "O objectivo é receber dados dos Ninjas e da Delta e devolver ficheiros prontos para ser trabalhados. \n",
    "\n",
    "Devolve os ficheiros que entram nos códigos 1 e 2.\n",
    "\n",
    "---\n",
    "- Inputs\n",
    "\n",
    "> __Dados dos ninjas__ em formato Wide\n",
    "> - 1's e 0's consoante a presença e ausência do produto, Data e Loja\n",
    "\n",
    "> __Dados da Delta__ em formato Wide\n",
    "> - Stocks e trânsito, Sellout dia anterior\n",
    "\n",
    "- Outputs\n",
    "\n",
    "> **Dados dos Ninjas** limpos\n",
    "\n",
    "> **Dados da Delta** limpos"
   ]
  },
  {
   "cell_type": "code",
   "execution_count": 1,
   "metadata": {},
   "outputs": [],
   "source": [
    "import pandas as pd\n",
    "import numpy as np\n",
    "import csv\n",
    "\n",
    "def escrever_excel(dfa, nome):\n",
    "    dfa.to_excel('%s.xlsx' %nome, index=False)\n",
    "    \n",
    "def escrever_csv(dfa, nome):\n",
    "    dfa.to_csv(nome+'.csv', index=False)\n",
    "    "
   ]
  },
  {
   "cell_type": "code",
   "execution_count": 2,
   "metadata": {},
   "outputs": [
    {
     "data": {
      "text/plain": [
       "0.8831168831168831"
      ]
     },
     "execution_count": 2,
     "metadata": {},
     "output_type": "execute_result"
    }
   ],
   "source": [
    "1-9/77"
   ]
  },
  {
   "cell_type": "markdown",
   "metadata": {},
   "source": [
    "# Ler e Mudar nomes"
   ]
  },
  {
   "cell_type": "markdown",
   "metadata": {},
   "source": [
    "- # `Ninjas`"
   ]
  },
  {
   "cell_type": "code",
   "execution_count": 100,
   "metadata": {},
   "outputs": [],
   "source": [
    "#Info Ninja\n",
    "dfNinjas=pd.read_excel(\"D:\\\\B&N Dados\\\\Delta\\\\Padrão_05_2023\\\\1Ninjas.xlsx\")\n",
    "\n",
    "#Renomear colunas\n",
    "dfNinjas = dfNinjas.rename(columns={' Data de Resposta': 'DATA', \"Código da loja\":\"STORE\", \"Nome da Loja\":\"Loja\"})\n",
    "\n",
    "#Passar para datetime\n",
    "dfNinjas['DATA'] = pd.to_datetime(dfNinjas['DATA'])"
   ]
  },
  {
   "cell_type": "markdown",
   "metadata": {},
   "source": [
    "- Lista de lojas"
   ]
  },
  {
   "cell_type": "code",
   "execution_count": 101,
   "metadata": {},
   "outputs": [],
   "source": [
    "ficheiroLojas = pd.DataFrame(dfNinjas[\"STORE\"].unique().tolist())\n",
    "#ficheiroProdutos = pd.DataFrame(dfNinjas[\"DESC_ARTIGO\"].unique().tolist())"
   ]
  },
  {
   "cell_type": "markdown",
   "metadata": {},
   "source": [
    "- #  `Delta (stocks, reposição e sellouts)`"
   ]
  },
  {
   "cell_type": "code",
   "execution_count": 103,
   "metadata": {},
   "outputs": [
    {
     "name": "stdout",
     "output_type": "stream",
     "text": [
      "CPU times: total: 25.4 s\n",
      "Wall time: 35.3 s\n"
     ]
    }
   ],
   "source": [
    "%%time\n",
    "# Ler o ficheiro long com Stocks e Fornecimento\n",
    "dfDelta1=pd.read_excel(\"D:\\\\B&N Dados\\\\Delta\\\\Padrão_05_2023\\\\2_Delta1.xlsx\")\n",
    "dfDelta2=pd.read_excel(\"D:\\\\B&N Dados\\\\Delta\\\\Padrão_05_2023\\\\2_Delta2.xlsx\")\n",
    "dfDelta3=pd.read_excel(\"D:\\\\B&N Dados\\\\Delta\\\\Padrão_05_2023\\\\2_Delta3.xlsx\")\n",
    "dfDelta4=pd.read_excel(\"D:\\\\B&N Dados\\\\Delta\\\\Padrão_05_2023\\\\2_Delta4.xlsx\")\n",
    "\n",
    "dataframes=[dfDelta1,dfDelta2,dfDelta3,dfDelta4]\n",
    "dfDelta=pd.concat(dataframes, ignore_index=True)\n",
    "\n",
    "# Renomear\n",
    "dfDelta['DATA'] = pd.to_datetime(dfDelta['DATA'], format='%d-%m-%Y')"
   ]
  },
  {
   "cell_type": "markdown",
   "metadata": {},
   "source": [
    "> - **Definir os produtos e lojas em causa**"
   ]
  },
  {
   "cell_type": "code",
   "execution_count": 104,
   "metadata": {},
   "outputs": [],
   "source": [
    "# Ler ficheiros com os nomes de produtos e números de loja\n",
    "df_produtos = pd.read_csv('D:\\\\B&N Dados\\\\Delta\\\\Padrão_05_2023\\\\produtos.txt', header=None)\n",
    "df_lojas = pd.read_csv('D:\\\\B&N Dados\\\\Delta\\\\Padrão_05_2023\\\\lojas.csv', header=None) \n",
    "\n",
    "# Passar para uma lista\n",
    "produtos = df_produtos[0].tolist()\n",
    "lojas = df_lojas[0].tolist()\n",
    "\n",
    "# Estabelecer o Dataframe mais limitado\n",
    "dfDelta_Limpo = dfDelta[dfDelta['STORE'].isin(lojas) & dfDelta['DESC_ARTIGO'].isin(produtos)].copy()"
   ]
  },
  {
   "cell_type": "markdown",
   "metadata": {},
   "source": [
    "> - **Limitar os dados apresentados e Renomear colunas**"
   ]
  },
  {
   "cell_type": "code",
   "execution_count": 107,
   "metadata": {},
   "outputs": [],
   "source": [
    "# Tirar apenas as colunas de interesse \n",
    "dfDelta_Limpo = dfDelta.loc[:, ['DATA', 'EAN', 'DESC_ARTIGO', 'STORE', \"STORE_NAME\", \n",
    "                         \"SOH\", \"INTRANSIT\", \"EXPECTED\", \"PRES_STOCK\", \"VND (D-1)\"]].copy()\n",
    "\n",
    "# Mudar nomes\n",
    "dfDelta_Limpo = dfDelta_Limpo.rename(columns={\"VND (D-1)\": \"SELLOUT_1_Dias_Antes\", \"SOH\": \"STOCK_1_Dias_Antes\"})"
   ]
  },
  {
   "cell_type": "markdown",
   "metadata": {},
   "source": [
    "> - **Criar colunas de Stock e Sellout para o próprio dia**"
   ]
  },
  {
   "cell_type": "code",
   "execution_count": 108,
   "metadata": {},
   "outputs": [],
   "source": [
    "# Organizar para atingir os valores relevantes\n",
    "dfDelta_Limpo = dfDelta_Limpo.sort_values(by=[\"STORE\", \"DESC_ARTIGO\", \"DATA\"])\n",
    "\n",
    "#Agrupar por loja e produto para não haver valores errados \n",
    "dfDelta_Limpo[\"SELLOUT\"] = dfDelta_Limpo.groupby([\"DESC_ARTIGO\",\"STORE\"])[\"SELLOUT_1_Dias_Antes\"].shift(-1)\n",
    "dfDelta_Limpo[\"STOCK\"] = dfDelta_Limpo.groupby([\"DESC_ARTIGO\",\"STORE\"])[\"STOCK_1_Dias_Antes\"].shift(-1)"
   ]
  },
  {
   "cell_type": "markdown",
   "metadata": {},
   "source": [
    "> - **Retirar todos os dias que não têm interesse**"
   ]
  },
  {
   "cell_type": "code",
   "execution_count": 110,
   "metadata": {},
   "outputs": [],
   "source": [
    "# O dia 29 foi utilizado para conseguir dados do dia para stocks e sellouts mas não é dia de missão\n",
    "dfDelta_Limpo = dfDelta_Limpo.loc[dfDelta_Limpo['DATA'] <'2023-05-29'].copy()"
   ]
  },
  {
   "cell_type": "code",
   "execution_count": null,
   "metadata": {},
   "outputs": [],
   "source": []
  },
  {
   "cell_type": "code",
   "execution_count": null,
   "metadata": {},
   "outputs": [],
   "source": []
  },
  {
   "cell_type": "code",
   "execution_count": null,
   "metadata": {},
   "outputs": [],
   "source": []
  },
  {
   "cell_type": "code",
   "execution_count": null,
   "metadata": {},
   "outputs": [],
   "source": []
  },
  {
   "cell_type": "code",
   "execution_count": 47,
   "metadata": {},
   "outputs": [],
   "source": [
    "df_Fundido=pd.read_excel(\"D:\\\\B&N Dados\\\\Delta\\\\Padrão_05_2023\\\\Fundido.xlsx\")"
   ]
  },
  {
   "cell_type": "code",
   "execution_count": 46,
   "metadata": {},
   "outputs": [],
   "source": [
    "# Criar coluna com o número dos produtos em causa presentes no instante\n",
    "\n",
    "df_Fundido[\"Num_Produtos\"] = df_Fundido[produtos].sum(axis=1)\n",
    "\n",
    "df_Fundido.loc[(df_Fundido[\"Num_Produtos\"] == 0) & (df_Fundido[produtos[1]].isna()), \"Num_Produtos\"] = np.nan"
   ]
  },
  {
   "cell_type": "code",
   "execution_count": 39,
   "metadata": {},
   "outputs": [],
   "source": [
    "df_Mergido= pd.merge(dfDelta1,dfFalta, how=\"left\", on=[\"STORE\"])"
   ]
  },
  {
   "cell_type": "code",
   "execution_count": 49,
   "metadata": {},
   "outputs": [],
   "source": [
    "escrever_excel(df_Fundido, \"Fundido\")"
   ]
  },
  {
   "cell_type": "code",
   "execution_count": 27,
   "metadata": {},
   "outputs": [],
   "source": [
    "# Ler ficheiro para dataframe\n",
    "df_produtos = pd.read_csv('D:\\\\B&N Dados\\\\Delta\\\\Padrão_05_2023\\\\produtos.txt', header=None)\n",
    "\n",
    "# Passar para uma lista\n",
    "produtos = df_produtos[0].tolist()"
   ]
  },
  {
   "cell_type": "code",
   "execution_count": null,
   "metadata": {},
   "outputs": [],
   "source": []
  },
  {
   "cell_type": "code",
   "execution_count": 48,
   "metadata": {},
   "outputs": [],
   "source": [
    "#df_Fundido[\"Sinal\"]= pd.Series(dtype='int')\n",
    "\n",
    "# Define the mappings of numbers to strings\n",
    "mapping = {1: \"Presente c/ Stock\",\n",
    "           2: \"Ausente c/ Stock\",\n",
    "           3: \"Presente s/ Stock\",\n",
    "           4: \"Ausente s/ Stock\"}\n",
    "\n",
    "for i in produtos:\n",
    "    sinal = \"SINAL %s\" % i\n",
    "    stock  = \"STOCK %s\" % i\n",
    "    \n",
    "    df_Fundido[sinal] = np.where((df_Fundido[stock] > 0) & (df_Fundido[i] == 1), 1,\n",
    "                     np.where((df_Fundido[stock] > 0) & (df_Fundido[i] == 0), 2,\n",
    "                     np.where((df_Fundido[stock] <= 0) & (df_Fundido[i] == 1), 3,\n",
    "                     np.where((df_Fundido[stock] <= 0) & (df_Fundido[i] == 0), 4, \n",
    "                     np.nan))))\n",
    "\n",
    "\n",
    "    # Map the numbers to the corresponding strings\n",
    "    df_Fundido[sinal] = df_Fundido[sinal].map(mapping)\n",
    "    \n",
    "\n",
    "# 1: Há Stock e Sinal Positivo Ninja \"Verdadeiramente Correcto\"\n",
    "# 2: Há Stock e Sinal Negativo Ninja \"Falso Positivo\"\n",
    "# 3: Não há Stock e Sinal Positivo Ninja \"Falso Negativo\"\n",
    "# 4: Não há Stock e Sinal Negativo Ninja \"Rejeição Correcta\""
   ]
  },
  {
   "cell_type": "code",
   "execution_count": 33,
   "metadata": {
    "collapsed": true
   },
   "outputs": [
    {
     "data": {
      "text/plain": [
       "['0: Vendedor',\n",
       " '1: Hora',\n",
       " '2: DATA',\n",
       " '3: Loja',\n",
       " '4: STORE',\n",
       " '5: CAFÉ DELTA Q QALIDUS 10CAP',\n",
       " '6: CAFÉ DELTA Q MYTHIQ 10CAP',\n",
       " '7: CAFÉ DELTA Q QHARACTER 10CAP',\n",
       " '8: CAFÉ GINGA 10CAP',\n",
       " '9: CAFÉ MOÍDO MÁQUINA CHÁVENA DELTA 250G',\n",
       " '10: CAFÉ DELTA RITUAL MU 220G',\n",
       " '11: CAFÉ TORRADO RITUAL DELTA GRÃO  500G',\n",
       " '12: CAFÉ DELTA MOAGEM UNIVERSAL BRASIL 220G',\n",
       " '13: CAFÉ DELTA MOAGEM UNIVERSAL ANGOLA 220G',\n",
       " '14: CAFÉ SOLÚVEL DELTA FRASCO 200G',\n",
       " '15: BEBIDA CEREAIS DELTA C/20%CAFE FR 200G',\n",
       " '16: Num_Produtos',\n",
       " '17: Reposição',\n",
       " '18: STOCK CAFÉ DELTA Q QALIDUS 10CAP',\n",
       " '19: PRESLINEAR CAFÉ DELTA Q QALIDUS 10CAP',\n",
       " '20: INTRANSIT CAFÉ DELTA Q QALIDUS 10CAP',\n",
       " '21: EXPECTED CAFÉ DELTA Q QALIDUS 10CAP',\n",
       " '22: SELLOUT CAFÉ DELTA Q QALIDUS 10CAP',\n",
       " '23: STOCK CAFÉ DELTA Q MYTHIQ 10CAP',\n",
       " '24: PRESLINEAR CAFÉ DELTA Q MYTHIQ 10CAP',\n",
       " '25: INTRANSIT CAFÉ DELTA Q MYTHIQ 10CAP',\n",
       " '26: EXPECTED CAFÉ DELTA Q MYTHIQ 10CAP',\n",
       " '27: SELLOUT CAFÉ DELTA Q MYTHIQ 10CAP',\n",
       " '28: STOCK CAFÉ DELTA Q QHARACTER 10CAP',\n",
       " '29: PRESLINEAR CAFÉ DELTA Q QHARACTER 10CAP',\n",
       " '30: INTRANSIT CAFÉ DELTA Q QHARACTER 10CAP',\n",
       " '31: EXPECTED CAFÉ DELTA Q QHARACTER 10CAP',\n",
       " '32: SELLOUT CAFÉ DELTA Q QHARACTER 10CAP',\n",
       " '33: STOCK CAFÉ GINGA 10CAP',\n",
       " '34: PRESLINEAR CAFÉ GINGA 10CAP',\n",
       " '35: INTRANSIT CAFÉ GINGA 10CAP',\n",
       " '36: EXPECTED CAFÉ GINGA 10CAP',\n",
       " '37: SELLOUT CAFÉ GINGA 10CAP',\n",
       " '38: STOCK CAFÉ MOÍDO MÁQUINA CHÁVENA DELTA 250G',\n",
       " '39: PRESLINEAR CAFÉ MOÍDO MÁQUINA CHÁVENA DELTA 250G',\n",
       " '40: INTRANSIT CAFÉ MOÍDO MÁQUINA CHÁVENA DELTA 250G',\n",
       " '41: EXPECTED CAFÉ MOÍDO MÁQUINA CHÁVENA DELTA 250G',\n",
       " '42: SELLOUT CAFÉ MOÍDO MÁQUINA CHÁVENA DELTA 250G',\n",
       " '43: STOCK CAFÉ DELTA RITUAL MU 220G',\n",
       " '44: PRESLINEAR CAFÉ DELTA RITUAL MU 220G',\n",
       " '45: INTRANSIT CAFÉ DELTA RITUAL MU 220G',\n",
       " '46: EXPECTED CAFÉ DELTA RITUAL MU 220G',\n",
       " '47: SELLOUT CAFÉ DELTA RITUAL MU 220G',\n",
       " '48: STOCK CAFÉ TORRADO RITUAL DELTA GRÃO  500G',\n",
       " '49: PRESLINEAR CAFÉ TORRADO RITUAL DELTA GRÃO  500G',\n",
       " '50: INTRANSIT CAFÉ TORRADO RITUAL DELTA GRÃO  500G',\n",
       " '51: EXPECTED CAFÉ TORRADO RITUAL DELTA GRÃO  500G',\n",
       " '52: SELLOUT CAFÉ TORRADO RITUAL DELTA GRÃO  500G',\n",
       " '53: STOCK CAFÉ DELTA MOAGEM UNIVERSAL BRASIL 220G',\n",
       " '54: PRESLINEAR CAFÉ DELTA MOAGEM UNIVERSAL BRASIL 220G',\n",
       " '55: INTRANSIT CAFÉ DELTA MOAGEM UNIVERSAL BRASIL 220G',\n",
       " '56: EXPECTED CAFÉ DELTA MOAGEM UNIVERSAL BRASIL 220G',\n",
       " '57: SELLOUT CAFÉ DELTA MOAGEM UNIVERSAL BRASIL 220G',\n",
       " '58: STOCK CAFÉ DELTA MOAGEM UNIVERSAL ANGOLA 220G',\n",
       " '59: PRESLINEAR CAFÉ DELTA MOAGEM UNIVERSAL ANGOLA 220G',\n",
       " '60: INTRANSIT CAFÉ DELTA MOAGEM UNIVERSAL ANGOLA 220G',\n",
       " '61: EXPECTED CAFÉ DELTA MOAGEM UNIVERSAL ANGOLA 220G',\n",
       " '62: SELLOUT CAFÉ DELTA MOAGEM UNIVERSAL ANGOLA 220G',\n",
       " '63: STOCK CAFÉ SOLÚVEL DELTA FRASCO 200G',\n",
       " '64: PRESLINEAR CAFÉ SOLÚVEL DELTA FRASCO 200G',\n",
       " '65: INTRANSIT CAFÉ SOLÚVEL DELTA FRASCO 200G',\n",
       " '66: EXPECTED CAFÉ SOLÚVEL DELTA FRASCO 200G',\n",
       " '67: SELLOUT CAFÉ SOLÚVEL DELTA FRASCO 200G',\n",
       " '68: STOCK BEBIDA CEREAIS DELTA C/20%CAFE FR 200G',\n",
       " '69: PRESLINEAR BEBIDA CEREAIS DELTA C/20%CAFE FR 200G',\n",
       " '70: INTRANSIT BEBIDA CEREAIS DELTA C/20%CAFE FR 200G',\n",
       " '71: EXPECTED BEBIDA CEREAIS DELTA C/20%CAFE FR 200G',\n",
       " '72: SELLOUT BEBIDA CEREAIS DELTA C/20%CAFE FR 200G',\n",
       " '73: STK CAFÉ DELTA Q QALIDUS 10CAP',\n",
       " '74: STK CAFÉ DELTA Q MYTHIQ 10CAP',\n",
       " '75: STK CAFÉ DELTA Q QHARACTER 10CAP',\n",
       " '76: STK CAFÉ GINGA 10CAP',\n",
       " '77: STK CAFÉ MOÍDO MÁQUINA CHÁVENA DELTA 250G',\n",
       " '78: STK CAFÉ DELTA RITUAL MU 220G',\n",
       " '79: STK CAFÉ TORRADO RITUAL DELTA GRÃO  500G',\n",
       " '80: STK CAFÉ DELTA MOAGEM UNIVERSAL BRASIL 220G',\n",
       " '81: STK CAFÉ DELTA MOAGEM UNIVERSAL ANGOLA 220G',\n",
       " '82: STK CAFÉ SOLÚVEL DELTA FRASCO 200G',\n",
       " '83: STK BEBIDA CEREAIS DELTA C/20%CAFE FR 200G',\n",
       " '84: BALANCE CAFÉ DELTA Q QALIDUS 10CAP',\n",
       " '85: BALANCE CAFÉ DELTA Q MYTHIQ 10CAP',\n",
       " '86: BALANCE CAFÉ DELTA Q QHARACTER 10CAP',\n",
       " '87: BALANCE CAFÉ GINGA 10CAP',\n",
       " '88: BALANCE CAFÉ MOÍDO MÁQUINA CHÁVENA DELTA 250G',\n",
       " '89: BALANCE CAFÉ DELTA RITUAL MU 220G',\n",
       " '90: BALANCE CAFÉ TORRADO RITUAL DELTA GRÃO  500G',\n",
       " '91: BALANCE CAFÉ DELTA MOAGEM UNIVERSAL BRASIL 220G',\n",
       " '92: BALANCE CAFÉ DELTA MOAGEM UNIVERSAL ANGOLA 220G',\n",
       " '93: BALANCE CAFÉ SOLÚVEL DELTA FRASCO 200G',\n",
       " '94: BALANCE BEBIDA CEREAIS DELTA C/20%CAFE FR 200G',\n",
       " '95: ROTURA CAFÉ DELTA Q QALIDUS 10CAP',\n",
       " '96: ROTURA CAFÉ DELTA Q MYTHIQ 10CAP',\n",
       " '97: ROTURA CAFÉ DELTA Q QHARACTER 10CAP',\n",
       " '98: ROTURA CAFÉ GINGA 10CAP',\n",
       " '99: ROTURA CAFÉ MOÍDO MÁQUINA CHÁVENA DELTA 250G',\n",
       " '100: ROTURA CAFÉ DELTA RITUAL MU 220G',\n",
       " '101: ROTURA CAFÉ TORRADO RITUAL DELTA GRÃO  500G',\n",
       " '102: ROTURA CAFÉ DELTA MOAGEM UNIVERSAL BRASIL 220G',\n",
       " '103: ROTURA CAFÉ DELTA MOAGEM UNIVERSAL ANGOLA 220G',\n",
       " '104: ROTURA CAFÉ SOLÚVEL DELTA FRASCO 200G',\n",
       " '105: ROTURA BEBIDA CEREAIS DELTA C/20%CAFE FR 200G',\n",
       " '106: PRÉ-ROTURA CAFÉ DELTA Q QALIDUS 10CAP',\n",
       " '107: PRÉ-ROTURA CAFÉ DELTA Q MYTHIQ 10CAP',\n",
       " '108: PRÉ-ROTURA CAFÉ DELTA Q QHARACTER 10CAP',\n",
       " '109: PRÉ-ROTURA CAFÉ GINGA 10CAP',\n",
       " '110: PRÉ-ROTURA CAFÉ MOÍDO MÁQUINA CHÁVENA DELTA 250G',\n",
       " '111: PRÉ-ROTURA CAFÉ DELTA RITUAL MU 220G',\n",
       " '112: PRÉ-ROTURA CAFÉ TORRADO RITUAL DELTA GRÃO  500G',\n",
       " '113: PRÉ-ROTURA CAFÉ DELTA MOAGEM UNIVERSAL BRASIL 220G',\n",
       " '114: PRÉ-ROTURA CAFÉ DELTA MOAGEM UNIVERSAL ANGOLA 220G',\n",
       " '115: PRÉ-ROTURA CAFÉ SOLÚVEL DELTA FRASCO 200G',\n",
       " '116: PRÉ-ROTURA BEBIDA CEREAIS DELTA C/20%CAFE FR 200G',\n",
       " '117: SINAL CAFÉ DELTA Q QALIDUS 10CAP',\n",
       " '118: SINAL CAFÉ DELTA Q MYTHIQ 10CAP',\n",
       " '119: SINAL CAFÉ DELTA Q QHARACTER 10CAP',\n",
       " '120: SINAL CAFÉ GINGA 10CAP',\n",
       " '121: SINAL CAFÉ MOÍDO MÁQUINA CHÁVENA DELTA 250G',\n",
       " '122: SINAL CAFÉ DELTA RITUAL MU 220G',\n",
       " '123: SINAL CAFÉ TORRADO RITUAL DELTA GRÃO  500G',\n",
       " '124: SINAL CAFÉ DELTA MOAGEM UNIVERSAL BRASIL 220G',\n",
       " '125: SINAL CAFÉ DELTA MOAGEM UNIVERSAL ANGOLA 220G',\n",
       " '126: SINAL CAFÉ SOLÚVEL DELTA FRASCO 200G',\n",
       " '127: SINAL BEBIDA CEREAIS DELTA C/20%CAFE FR 200G',\n",
       " '128: CICLO CAFÉ DELTA Q QALIDUS 10CAP',\n",
       " '129: CICLO CAFÉ DELTA Q MYTHIQ 10CAP',\n",
       " '130: CICLO CAFÉ DELTA Q QHARACTER 10CAP',\n",
       " '131: CICLO CAFÉ GINGA 10CAP',\n",
       " '132: CICLO CAFÉ MOÍDO MÁQUINA CHÁVENA DELTA 250G',\n",
       " '133: CICLO CAFÉ DELTA RITUAL MU 220G',\n",
       " '134: CICLO CAFÉ TORRADO RITUAL DELTA GRÃO  500G',\n",
       " '135: CICLO CAFÉ DELTA MOAGEM UNIVERSAL BRASIL 220G',\n",
       " '136: CICLO CAFÉ DELTA MOAGEM UNIVERSAL ANGOLA 220G',\n",
       " '137: CICLO CAFÉ SOLÚVEL DELTA FRASCO 200G',\n",
       " '138: CICLO BEBIDA CEREAIS DELTA C/20%CAFE FR 200G',\n",
       " '139: ADEQUAÇÃO CAFÉ DELTA Q QALIDUS 10CAP',\n",
       " '140: ADEQUAÇÃO CAFÉ DELTA Q MYTHIQ 10CAP',\n",
       " '141: ADEQUAÇÃO CAFÉ DELTA Q QHARACTER 10CAP',\n",
       " '142: ADEQUAÇÃO CAFÉ GINGA 10CAP',\n",
       " '143: ADEQUAÇÃO CAFÉ MOÍDO MÁQUINA CHÁVENA DELTA 250G',\n",
       " '144: ADEQUAÇÃO CAFÉ DELTA RITUAL MU 220G',\n",
       " '145: ADEQUAÇÃO CAFÉ TORRADO RITUAL DELTA GRÃO  500G',\n",
       " '146: ADEQUAÇÃO CAFÉ DELTA MOAGEM UNIVERSAL BRASIL 220G',\n",
       " '147: ADEQUAÇÃO CAFÉ DELTA MOAGEM UNIVERSAL ANGOLA 220G',\n",
       " '148: ADEQUAÇÃO CAFÉ SOLÚVEL DELTA FRASCO 200G',\n",
       " '149: ADEQUAÇÃO BEBIDA CEREAIS DELTA C/20%CAFE FR 200G',\n",
       " '150: Dias_para_Rotura CAFÉ DELTA Q QALIDUS 10CAP',\n",
       " '151: Dias_para_Rotura CAFÉ DELTA Q MYTHIQ 10CAP',\n",
       " '152: Dias_para_Rotura CAFÉ DELTA Q QHARACTER 10CAP',\n",
       " '153: Dias_para_Rotura CAFÉ GINGA 10CAP',\n",
       " '154: Dias_para_Rotura CAFÉ MOÍDO MÁQUINA CHÁVENA DELTA 250G',\n",
       " '155: Dias_para_Rotura CAFÉ DELTA RITUAL MU 220G',\n",
       " '156: Dias_para_Rotura CAFÉ TORRADO RITUAL DELTA GRÃO  500G',\n",
       " '157: Dias_para_Rotura CAFÉ DELTA MOAGEM UNIVERSAL BRASIL 220G',\n",
       " '158: Dias_para_Rotura CAFÉ DELTA MOAGEM UNIVERSAL ANGOLA 220G',\n",
       " '159: Dias_para_Rotura CAFÉ SOLÚVEL DELTA FRASCO 200G',\n",
       " '160: Dias_para_Rotura BEBIDA CEREAIS DELTA C/20%CAFE FR 200G',\n",
       " '161: Dias_para_Rotura_Linear CAFÉ DELTA Q QALIDUS 10CAP',\n",
       " '162: Dias_para_Rotura_Linear CAFÉ DELTA Q MYTHIQ 10CAP',\n",
       " '163: Dias_para_Rotura_Linear CAFÉ DELTA Q QHARACTER 10CAP',\n",
       " '164: Dias_para_Rotura_Linear CAFÉ GINGA 10CAP',\n",
       " '165: Dias_para_Rotura_Linear CAFÉ MOÍDO MÁQUINA CHÁVENA DELTA 250G',\n",
       " '166: Dias_para_Rotura_Linear CAFÉ DELTA RITUAL MU 220G',\n",
       " '167: Dias_para_Rotura_Linear CAFÉ TORRADO RITUAL DELTA GRÃO  500G',\n",
       " '168: Dias_para_Rotura_Linear CAFÉ DELTA MOAGEM UNIVERSAL BRASIL 220G',\n",
       " '169: Dias_para_Rotura_Linear CAFÉ DELTA MOAGEM UNIVERSAL ANGOLA 220G',\n",
       " '170: Dias_para_Rotura_Linear CAFÉ SOLÚVEL DELTA FRASCO 200G',\n",
       " '171: Dias_para_Rotura_Linear BEBIDA CEREAIS DELTA C/20%CAFE FR 200G',\n",
       " '172: Num_Produtos_Expostos']"
      ]
     },
     "execution_count": 33,
     "metadata": {},
     "output_type": "execute_result"
    }
   ],
   "source": [
    "df_columns = dfDelta1.columns.tolist()\n",
    "indexed_columns = [f\"{index}: {column}\" for index, column in enumerate(df_columns)]\n",
    "indexed_columns"
   ]
  },
  {
   "cell_type": "code",
   "execution_count": 11,
   "metadata": {},
   "outputs": [],
   "source": [
    "column_to_move = dfDelta1.iloc[:, 17]  # Extract the column at index 17 (Python is 0-indexed)\n",
    "\n",
    "# Remove the column from its current position\n",
    "dfDelta1.drop(dfDelta1.columns[17], axis=1, inplace=True)\n",
    "\n",
    "# Shift the remaining columns to the right by one position\n",
    "dfDelta1 = pd.concat([column_to_move, dfDelta1], axis=1)"
   ]
  },
  {
   "cell_type": "code",
   "execution_count": null,
   "metadata": {},
   "outputs": [],
   "source": []
  },
  {
   "cell_type": "code",
   "execution_count": null,
   "metadata": {},
   "outputs": [],
   "source": []
  },
  {
   "cell_type": "code",
   "execution_count": null,
   "metadata": {},
   "outputs": [],
   "source": []
  },
  {
   "cell_type": "code",
   "execution_count": null,
   "metadata": {},
   "outputs": [],
   "source": []
  },
  {
   "cell_type": "markdown",
   "metadata": {},
   "source": [
    "# Escrever"
   ]
  },
  {
   "cell_type": "code",
   "execution_count": 111,
   "metadata": {},
   "outputs": [],
   "source": [
    "escrever_excel(dfNinjas, \"1Ninjas_Limpo\")\n",
    "escrever_excel(dfDelta_Limpo, \"2Delta_Limpo\")\n",
    "\n",
    "#escrever_csv(ficheiroLojas, \"lojas\")\n",
    "#escrever_csv(ficheiroProdutos, \"produtos\")"
   ]
  }
 ],
 "metadata": {
  "kernelspec": {
   "display_name": "Python 3 (ipykernel)",
   "language": "python",
   "name": "python3"
  },
  "language_info": {
   "codemirror_mode": {
    "name": "ipython",
    "version": 3
   },
   "file_extension": ".py",
   "mimetype": "text/x-python",
   "name": "python",
   "nbconvert_exporter": "python",
   "pygments_lexer": "ipython3",
   "version": "3.10.9"
  }
 },
 "nbformat": 4,
 "nbformat_minor": 4
}
