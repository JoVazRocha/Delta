{
 "cells": [
  {
   "cell_type": "markdown",
   "metadata": {},
   "source": [
    "# Resumo do código Alteração\n",
    "\n",
    "### <u>Código que gera os ficheiros para estudo do comportamento da Delta</u>\n",
    "---\n",
    "O objectivo é receber dados da Delta e devolver um conjunto de métricas para prever roturas. Devolve um ficheiro que pode entrar no código 1 para juntar aos dados dos ninjas.\n",
    "\n",
    "---\n",
    "- Inputs\n",
    "\n",
    "> __Dados completos da Delta em pastas de ficheiros__ (de azul a verde)\n",
    "> - Stocks e trânsito, Sellout do dia anterior\n",
    "\n",
    "                    ou\n",
    "\n",
    "> __Ficheiro já completo__ (de vermelho a verde)\n",
    "> - Stocks e trânsito, Sellout do dia anterior\n",
    "\n",
    "- Outputs\n",
    "\n",
    "> __Ficheiro com produtos em causa__ em formato Long\n",
    "\n",
    "> __Métricas novas:__\n",
    "> - Roturas de Stock e Pré-rotura\n",
    "> - Sinal\n",
    "> - Ciclos e Adequação de Stock\n",
    "> - MSA (média de sellouts 10 dias antes)\n",
    "> - STK (Stock disponível + trânsito)\n",
    "> - (Novo) Balanço médio, mediano, liberal e conservador \n",
    "> - (Novo) Dias para a rotura de stock e de prateleira\n"
   ]
  },
  {
   "cell_type": "code",
   "execution_count": 170,
   "metadata": {
    "scrolled": false
   },
   "outputs": [
    {
     "name": "stdout",
     "output_type": "stream",
     "text": [
      "CPU times: total: 0 ns\n",
      "Wall time: 0 ns\n"
     ]
    }
   ],
   "source": [
    "%%time\n",
    "import pandas as pd\n",
    "import numpy as np\n",
    "import datetime\n",
    "import clickhouse_connect\n",
    "from IPython.display import Audio\n",
    "\n",
    "def escrever_excel(dfa, nome):\n",
    "    dfa.to_excel(f'C:\\\\Users\\\\Chip7\\\\Desktop\\\\B&N\\\\Dados\\\\2.Delta\\\\Sonae\\\\Testes\\\\{nome}.xlsx', index=False)"
   ]
  },
  {
   "cell_type": "markdown",
   "metadata": {},
   "source": [
    "#  <span style=\"color:Blue\">Alterar</span>"
   ]
  },
  {
   "cell_type": "code",
   "execution_count": 171,
   "metadata": {},
   "outputs": [],
   "source": [
    "inicio = \"Info_DELTA_2023\"\n",
    "dia_actual = \"1106\"            # Do tipo mmdd\n",
    "\n",
    "base_Clickhouse_120 = \"P\"      # P ou I, quer dizer que o dia anterior é par ou ímpar\n",
    "base_Clickhouse_120_nova = \"P\" # A alternativa diferente à da variável anterior\n",
    "\n",
    "# if int(dia_actual)%2==0:\n",
    "#     base_Clickhouse_120 = \"I\"      # P ou I, quer dizer que o dia anterior é par ou ímpar\n",
    "#     base_Clickhouse_120_nova = \"P\" # A alternativa diferente à da variável anterior\n",
    "# else:\n",
    "#     base_Clickhouse_120 = \"P\"      # P ou I, quer dizer que o dia anterior é par ou ímpar\n",
    "#     base_Clickhouse_120_nova = \"I\" # A alternativa diferente à da variável anterior"
   ]
  },
  {
   "cell_type": "markdown",
   "metadata": {},
   "source": [
    "---"
   ]
  },
  {
   "cell_type": "markdown",
   "metadata": {},
   "source": [
    "#  <span style=\"color:Blue\">Juntar Ficheiros</span>"
   ]
  },
  {
   "cell_type": "markdown",
   "metadata": {},
   "source": [
    "- Importar do Clickhouse"
   ]
  },
  {
   "cell_type": "code",
   "execution_count": 172,
   "metadata": {},
   "outputs": [],
   "source": [
    "import clickhouse_connect\n",
    "client = clickhouse_connect.get_client(host='ch.brandsandninjas.com', \n",
    "                                       port=443, \n",
    "                                       username='chninja', \n",
    "                                       password='ku43ueqnB5Q0AYb2C4FsJRTc7qX',\n",
    "                                       database = \"Delta\")"
   ]
  },
  {
   "cell_type": "code",
   "execution_count": 173,
   "metadata": {},
   "outputs": [
    {
     "name": "stdout",
     "output_type": "stream",
     "text": [
      "CPU times: total: 42.9 s\n",
      "Wall time: 1min 21s\n"
     ]
    }
   ],
   "source": [
    "%%time\n",
    "#Ler o ficheiro\n",
    "\n",
    "dfClick = client.query_df(f'SELECT * FROM Delta_dbd_120dias_{base_Clickhouse_120}')\n",
    "\n",
    "dfClick = dfClick.sort_values(by = \"DATA\")\n",
    "#dfClick = dfClick[dfClick.DATA != dfClick.DATA.unique()[0]]"
   ]
  },
  {
   "cell_type": "markdown",
   "metadata": {},
   "source": [
    "- Importar ficheiros novos"
   ]
  },
  {
   "cell_type": "markdown",
   "metadata": {},
   "source": [
    "### Excel"
   ]
  },
  {
   "cell_type": "code",
   "execution_count": 174,
   "metadata": {},
   "outputs": [],
   "source": [
    "# dfNovo = pd.read_excel(\"D:\\\\B&N Dados\\\\Delta\\\\Diário\\\\31-10.xlsb\") #xlsx\n",
    "dfNovo = pd.read_excel(f\"C:\\\\Users\\\\Chip7\\\\Desktop\\\\B&N\\\\Dados\\\\2.Delta\\\\Sonae\\\\Diario\\\\\\Ficheiros_Diarios\\\\{inicio+dia_actual}.xlsb\")\n",
    "\n",
    "dfNovo = dfNovo[['DATA', 'EAN', 'DESC_ARTIGO', 'STORE', \"STORE_NAME\", \n",
    "                 \"SOH\", \"INTRANSIT\", \"EXPECTED\", \"PRES_STOCK\", \"VND (D-1)\", \"FLUXO\"]]\n",
    "\n",
    "# Renomear colunas e criar as do dia\n",
    "\n",
    "dfNovo = dfNovo.rename(columns={\"VND (D-1)\": \"SELLOUT_1_Dias_Antes\", \n",
    "                                \"SOH\": \"STOCK_1_Dias_Antes\",\n",
    "                                \"INTRANSIT\": \"INTRANSIT_1_Dias_Antes\", \n",
    "                                \"EXPECTED\": \"EXPECTED_1_Dias_Antes\", \n",
    "                                \"PRES_STOCK\": \"PRES_STOCK_1_Dias_Antes\"})\n",
    "\n",
    "dfNovo[\"SELLOUT_1_Dias_Antes\"] = np.where(dfNovo[\"SELLOUT_1_Dias_Antes\"]<0, 0, dfNovo[\"SELLOUT_1_Dias_Antes\"])\n",
    "\n",
    "#DATETIME\n",
    "# se xlsx\n",
    "#dfNovo['DATA'] = pd.to_datetime(dfNovo['DATA'], format='%Y-%m-%d') \n",
    "\n",
    "# se xlsb\n",
    "dfNovo['DATA'] = pd.to_datetime(dfNovo['DATA'], unit='D', origin=datetime.datetime(1899, 12, 30)) "
   ]
  },
  {
   "cell_type": "markdown",
   "metadata": {},
   "source": [
    "- Juntar"
   ]
  },
  {
   "cell_type": "code",
   "execution_count": 175,
   "metadata": {},
   "outputs": [],
   "source": [
    "dfDiario = pd.concat([dfClick, dfNovo], ignore_index=True, join='outer')\n",
    "\n",
    "dfFinal = dfDiario.copy()\n",
    "dfFinal['DATA'] = pd.to_datetime(dfFinal['DATA'], format='%Y-%m-%d')\n",
    "dfFinal = dfFinal.sort_values(by = \"DATA\")"
   ]
  },
  {
   "cell_type": "markdown",
   "metadata": {},
   "source": [
    "- Vendedores"
   ]
  },
  {
   "cell_type": "code",
   "execution_count": 176,
   "metadata": {},
   "outputs": [],
   "source": [
    "#dfVendedor=pd.read_excel(\"D:\\\\B&N Dados\\\\Delta\\\\Vendedor2.xlsx\", sheet_name = \"Lojas Sonae para o desafio\")\n",
    "dfVendedor=pd.read_excel(\"C:\\\\Users\\\\Chip7\\\\Desktop\\\\B&N\\\\Dados\\\\2.Delta\\\\Sonae\\\\Vendedor2.xlsx\", sheet_name = \"Lojas Sonae para o desafio\")\n",
    "\n",
    "dfVendedor = dfVendedor.rename(columns={\"Cód. Loja\":\"STORE\"})\n",
    "\n",
    "dfFinal = dfFinal.drop(columns=\"Vendedor\")\n",
    "\n",
    "# Criar coluna de reposição\n",
    "dfFinal = pd.merge(dfFinal, dfVendedor[[\"STORE\",\"Vendedor\"]], how=\"left\", on = \"STORE\")"
   ]
  },
  {
   "cell_type": "code",
   "execution_count": 177,
   "metadata": {},
   "outputs": [],
   "source": [
    "dfFinal['SELLOUT'] = dfFinal.groupby([\"STORE\",\"EAN\"])['SELLOUT_1_Dias_Antes'].shift(-1)\n",
    "dfFinal['STOCK'] = dfFinal.groupby([\"STORE\",\"EAN\"])['STOCK_1_Dias_Antes'].shift(-1)\n",
    "dfFinal['INTRANSIT'] = dfFinal.groupby([\"STORE\",\"EAN\"])['INTRANSIT_1_Dias_Antes'].shift(-1)\n",
    "dfFinal['EXPECTED'] = dfFinal.groupby([\"STORE\",\"EAN\"])['EXPECTED_1_Dias_Antes'].shift(-1)\n",
    "dfFinal['PRES_STOCK'] = dfFinal.groupby([\"STORE\",\"EAN\"])['PRES_STOCK_1_Dias_Antes'].shift(-1)"
   ]
  },
  {
   "cell_type": "markdown",
   "metadata": {},
   "source": [
    "# <font color=green>Ficheiro Lido<font>"
   ]
  },
  {
   "cell_type": "markdown",
   "metadata": {},
   "source": [
    "---"
   ]
  },
  {
   "cell_type": "markdown",
   "metadata": {},
   "source": [
    "# Colunas de métricas interessantes"
   ]
  },
  {
   "cell_type": "markdown",
   "metadata": {},
   "source": [
    "> - ROTURA\n",
    "> - PRÉ_ROTURA"
   ]
  },
  {
   "cell_type": "code",
   "execution_count": 178,
   "metadata": {},
   "outputs": [],
   "source": [
    "# Definir coluna de rotura (se stock menor ou igual a 0 e existe Linear)\n",
    "\n",
    "dfFinal[\"ROTURA\"] = np.where((dfFinal[\"STOCK\"] <= 0) & (dfFinal[\"PRES_STOCK\"] > 0), 1, 0)\n",
    "dfFinal[\"ROTURA_1_Dias_Antes\"] = np.where((dfFinal[\"STOCK_1_Dias_Antes\"] <= 0) & (dfFinal[\"PRES_STOCK_1_Dias_Antes\"] > 0), 1, 0)\n",
    "\n",
    "\n",
    "# Definir coluna de rotura (se stock menor ou igual a 0)\n",
    "\n",
    "dfFinal[\"PRE_ROTURA\"] = (dfFinal[\"STOCK\"] < dfFinal[\"PRES_STOCK\"]).astype(int)\n",
    "dfFinal[\"PRE_ROTURA_1_Dias_Antes\"] = (dfFinal[\"STOCK_1_Dias_Antes\"] < dfFinal[\"PRES_STOCK_1_Dias_Antes\"]).astype(int)"
   ]
  },
  {
   "cell_type": "markdown",
   "metadata": {},
   "source": [
    "# Métricas 1, 4, 5 e 10 dias antes:\n",
    "\n",
    "- INSTRANSIT\n",
    "- EXPECTED\n",
    "- SELLOUT\n",
    "- CICLOS\n",
    "- Dias para Rotura\n",
    "- Adequação"
   ]
  },
  {
   "cell_type": "code",
   "execution_count": 179,
   "metadata": {},
   "outputs": [],
   "source": [
    "# Quantos dias antes:\n",
    "\n",
    "diasMet = [4, 5, 10]\n",
    "\n",
    "# Função para colunas de dias anteriores\n",
    "\n",
    "def dias(df, dia, coluna):         #dia é quantos dias antes\n",
    "    a=int(dia)\n",
    "\n",
    "    valores = df.groupby(['DESC_ARTIGO', 'STORE'])[coluna].transform(lambda x: x.shift(a))\n",
    "    valores[:a] = np.nan\n",
    "    \n",
    "    df.loc[:,f'{coluna}_{a}_Dias_Antes'] = valores"
   ]
  },
  {
   "cell_type": "markdown",
   "metadata": {},
   "source": [
    "---"
   ]
  },
  {
   "cell_type": "markdown",
   "metadata": {},
   "source": [
    "> - STOCK\n",
    "> - SELLOUT\n",
    "> - INTRANSIT\n",
    "> - EXPECTED \n",
    "> - STK\n",
    "> - FORNECIMENTO\n",
    "> - CICLOS\n",
    "> - Adequação"
   ]
  },
  {
   "cell_type": "code",
   "execution_count": 180,
   "metadata": {},
   "outputs": [
    {
     "name": "stdout",
     "output_type": "stream",
     "text": [
      "CPU times: total: 44.5 s\n",
      "Wall time: 1min 10s\n"
     ]
    }
   ],
   "source": [
    "%%time\n",
    "dfFinal[\"STK\"] = dfFinal[\"STOCK\"] + dfFinal[\"INTRANSIT\"] + dfFinal[\"EXPECTED\"]\n",
    "dfFinal[\"STK_1_Dias_Antes\"] = dfFinal[\"STOCK_1_Dias_Antes\"] + dfFinal[\"INTRANSIT_1_Dias_Antes\"] + dfFinal[\"EXPECTED_1_Dias_Antes\"]\n",
    "\n",
    "dfFinal[\"FORNECIMENTO\"] = dfFinal[\"INTRANSIT\"] + dfFinal[\"EXPECTED\"]\n",
    "dfFinal[\"FORNECIMENTO_1_Dias_Antes\"] = dfFinal[\"INTRANSIT_1_Dias_Antes\"] + dfFinal[\"EXPECTED_1_Dias_Antes\"]\n",
    "\n",
    "dfFinal[\"CICLOS\"] = dfFinal[\"STOCK\"]/dfFinal[\"PRES_STOCK\"]\n",
    "dfFinal[\"CICLOS_1_Dias_Antes\"] = dfFinal[\"STOCK_1_Dias_Antes\"]/dfFinal[\"PRES_STOCK_1_Dias_Antes\"]\n",
    "dfFinal[\"CICLOS\"] = dfFinal[\"CICLOS\"].fillna(0)\n",
    "dfFinal.loc[np.isinf(dfFinal['CICLOS']), \"CICLOS\"] = 0\n",
    "\n",
    "dfFinal[\"Adequacao\"]= np.where(dfFinal[\"CICLOS\"] > 1.1, \"Stock Suficiente\", \n",
    "                      np.where((dfFinal[\"CICLOS\"] <= 1.1) & (dfFinal[\"INTRANSIT\"]+dfFinal[\"EXPECTED\"]+dfFinal[\"STOCK\"]>=dfFinal[\"PRES_STOCK\"]), \"Stock Insuf c Forn Adequado\", \n",
    "                      np.where((dfFinal[\"CICLOS\"] <= 1.1) & (dfFinal[\"INTRANSIT\"]+dfFinal[\"EXPECTED\"]+dfFinal[\"STOCK\"]<dfFinal[\"PRES_STOCK\"]), \"Stock Insuf c Forn Desadequado\", \n",
    "                      \"\")))\n",
    "dfFinal[\"Adequacao_1_Dias_Antes\"]= np.where(dfFinal[\"CICLOS_1_Dias_Antes\"] > 1.1, \"Stock Suficiente\", \n",
    "                      np.where((dfFinal[\"CICLOS_1_Dias_Antes\"] <= 1.1) & (dfFinal[\"INTRANSIT_1_Dias_Antes\"]+dfFinal[\"EXPECTED_1_Dias_Antes\"]+dfFinal[\"STOCK_1_Dias_Antes\"]>=dfFinal[\"PRES_STOCK_1_Dias_Antes\"]), \"Stock Insuf c Forn Adequado\", \n",
    "                      np.where((dfFinal[\"CICLOS_1_Dias_Antes\"] <= 1.1) & (dfFinal[\"INTRANSIT_1_Dias_Antes\"]+dfFinal[\"EXPECTED_1_Dias_Antes\"]+dfFinal[\"STOCK_1_Dias_Antes\"]<dfFinal[\"PRES_STOCK_1_Dias_Antes\"]), \"Stock Insuf c Forn Desadequado\", \n",
    "                      \"\")))\n",
    "\n",
    "\n",
    "for i in diasMet:   \n",
    "    dias(dfFinal, i, \"STOCK\")\n",
    "    dias(dfFinal, i, \"SELLOUT\")\n",
    "    dias(dfFinal, i, \"INTRANSIT\")\n",
    "    dias(dfFinal, i, \"EXPECTED\")\n",
    "    dias(dfFinal, i, \"STK\")\n",
    "    dias(dfFinal, i, \"FORNECIMENTO\")\n",
    "    dias(dfFinal, i, \"CICLOS\")\n",
    "    dias(dfFinal, i, \"Adequacao\")"
   ]
  },
  {
   "cell_type": "markdown",
   "metadata": {},
   "source": [
    "> - MSA\n",
    "> - Balance: sellout / soma stock disponível mais transito."
   ]
  },
  {
   "cell_type": "code",
   "execution_count": 181,
   "metadata": {},
   "outputs": [
    {
     "name": "stdout",
     "output_type": "stream",
     "text": [
      "CPU times: total: 15.7 s\n",
      "Wall time: 34.7 s\n"
     ]
    }
   ],
   "source": [
    "%%time\n",
    "# MSA do dia = média dos sellouts dos 10 dias anteriores ao dia em causa\n",
    "\n",
    "dfFinal[\"MSA10\"] = dfFinal.groupby(['DESC_ARTIGO', \"STORE\"])['SELLOUT_1_Dias_Antes'].transform(lambda x: x.rolling(window=10).mean())\n",
    "dfFinal[\"MSA10Dp\"] = dfFinal.groupby(['DESC_ARTIGO', \"STORE\"])['SELLOUT_1_Dias_Antes'].transform(lambda x: x.rolling(window=10).std())\n",
    "\n",
    "for i in diasMet:\n",
    "    dias(dfFinal, i, \"MSA10\")\n",
    "    \n",
    "\n",
    "dfFinal[\"MSA20\"] = dfFinal.groupby(['DESC_ARTIGO', \"STORE\"])['SELLOUT_1_Dias_Antes'].transform(lambda x: x.rolling(window=20).mean())\n",
    "dfFinal[\"MSA20Dp\"] = dfFinal.groupby(['DESC_ARTIGO', \"STORE\"])['SELLOUT_1_Dias_Antes'].transform(lambda x: x.rolling(window=20).std())\n",
    "  \n",
    "for i in diasMet:\n",
    "    dias(dfFinal, i, \"MSA20\")\n",
    "\n",
    "\n",
    "# Balance do dia = razão entre o sellout médio e o stock para o dia actual\n",
    "dfFinal[\"Balance\"] =  dfFinal[\"MSA10\"] / dfFinal[\"STK\"]\n",
    "\n",
    "for i in diasMet:\n",
    "    \n",
    "    \n",
    "    valores = i * dfFinal[\"Balance\"].shift(i)\n",
    "    valores[:i] = np.nan\n",
    "    \n",
    "    dfFinal.loc[:,'%s_%s_Dias_Antes' % (\"Balance\", i)] = valores\n",
    "\n",
    "    \n",
    "\n",
    "dfFinal.loc[dfFinal.STK == 0, \"Balance\"] = 2\n",
    "dfFinal.Balance = dfFinal.Balance.fillna(2)"
   ]
  },
  {
   "cell_type": "markdown",
   "metadata": {},
   "source": [
    "# Colunas de métricas 30, 60 e 120 dias antes"
   ]
  },
  {
   "cell_type": "code",
   "execution_count": 182,
   "metadata": {},
   "outputs": [],
   "source": [
    "diasMetHist = [30, 60, 120]\n",
    "\n",
    "#mask_dia_actual = [dfFinal.DATA==dfFinal.DATA.unique[-1]]"
   ]
  },
  {
   "cell_type": "markdown",
   "metadata": {},
   "source": [
    "### Percentagens"
   ]
  },
  {
   "cell_type": "markdown",
   "metadata": {},
   "source": [
    ">- Balance raw"
   ]
  },
  {
   "cell_type": "code",
   "execution_count": 183,
   "metadata": {},
   "outputs": [
    {
     "name": "stdout",
     "output_type": "stream",
     "text": [
      "CPU times: total: 17.3 s\n",
      "Wall time: 23.3 s\n"
     ]
    }
   ],
   "source": [
    "%%time\n",
    "dfFinal[\"Balance_Raw\"] =  dfFinal[\"SELLOUT\"] / dfFinal[\"STK\"]\n",
    "dfFinal.loc[dfFinal.STK == 0, \"Balance_Raw\"] = 2\n",
    "\n",
    "dfFinal[\"Balance_Raw_Count1\"] = np.where(dfFinal[\"Balance_Raw\"] < 0.5, 1, 0)\n",
    "\n",
    "dfFinal[\"Balance_Raw_Count2\"] = np.where(dfFinal[\"Balance_Raw\"] < 0.8, 1, 0)\n",
    "\n",
    "for i in diasMetHist:\n",
    "    dfFinal[f\"Percentagem_Balance_Raw_Count1_{i}\"] = dfFinal.groupby(['DESC_ARTIGO', \"STORE\"])['Balance_Raw_Count1'].transform(lambda x: x.rolling(window=i, min_periods=1).mean())\n",
    "    dfFinal[f\"Percentagem_Balance_Raw_Count2_{i}\"] = dfFinal.groupby(['DESC_ARTIGO', \"STORE\"])['Balance_Raw_Count2'].transform(lambda x: x.rolling(window=i, min_periods=1).mean())"
   ]
  },
  {
   "cell_type": "markdown",
   "metadata": {},
   "source": [
    "> - Efeito fim de semana"
   ]
  },
  {
   "cell_type": "code",
   "execution_count": 184,
   "metadata": {},
   "outputs": [
    {
     "name": "stdout",
     "output_type": "stream",
     "text": [
      "CPU times: total: 28.2 s\n",
      "Wall time: 33.6 s\n"
     ]
    }
   ],
   "source": [
    "%%time\n",
    "#dfFinal['SELLOUT_fds'] = dfFinal[dfFinal['DATA'].dt.weekday.isin([4,5,6])][\"SELLOUT\"].copy()\n",
    "#dfFinal['SELLOUT_semana'] = dfFinal[dfFinal['DATA'].dt.weekday.isin([0,1,2,3])][\"SELLOUT\"].copy()\n",
    "dfFinal['SELLOUT_fds_1_Dias_Antes'] = dfFinal[dfFinal['DATA'].dt.weekday.isin([5,6,0])][\"SELLOUT_1_Dias_Antes\"].copy()\n",
    "dfFinal['SELLOUT_semana_1_Dias_Antes'] = dfFinal[dfFinal['DATA'].dt.weekday.isin([1,2,3,4])][\"SELLOUT_1_Dias_Antes\"].copy()\n",
    "\n",
    "dfFinal['SELLOUT_fds_Medio'] = dfFinal.groupby(['DESC_ARTIGO', \"STORE\"])['SELLOUT_fds_1_Dias_Antes']\\\n",
    "    .transform(lambda x: x.rolling(window=30, min_periods=1).mean())\n",
    "dfFinal['SELLOUT_semana_Medio'] = dfFinal.groupby(['DESC_ARTIGO', \"STORE\"])['SELLOUT_semana_1_Dias_Antes']\\\n",
    "    .transform(lambda x: x.rolling(window=30, min_periods=1).mean())\n",
    "\n",
    "\n",
    "for i in diasMetHist:\n",
    "    dfFinal[f\"Percentagem_Efeito_Fds_{i}\"] = ((dfFinal.groupby(['DESC_ARTIGO', \"STORE\"])['SELLOUT_fds_1_Dias_Antes']\\\n",
    "                                               .transform(lambda x: x.rolling(window=i, min_periods=1).mean())/\n",
    "                                              (dfFinal.groupby(['DESC_ARTIGO', \"STORE\"])['SELLOUT_semana_1_Dias_Antes']\\\n",
    "                                               .transform(lambda x: x.rolling(window=i, min_periods=1).mean())))-1)\n"
   ]
  },
  {
   "cell_type": "markdown",
   "metadata": {},
   "source": [
    "> - Volatilidade\n",
    "> - Rotura \n",
    "> - Supply\n",
    "> - Percentagem de dias em Stock Borderline\n",
    "> - Percentagem de dias de Linear Incompleto\n",
    "> - Percentagem de dias sem vendas\n",
    "> - Tempo indisponível\n",
    "> - Vendas perdidas"
   ]
  },
  {
   "cell_type": "code",
   "execution_count": 185,
   "metadata": {},
   "outputs": [
    {
     "name": "stdout",
     "output_type": "stream",
     "text": [
      "CPU times: total: 2min\n",
      "Wall time: 2min 38s\n"
     ]
    }
   ],
   "source": [
    "%%time\n",
    "dfFinal=dfFinal.copy()\n",
    "# Sempre que é pedido abastecimento, fazer com que seja 1\n",
    "dfFinal[\"New_Supply\"] = np.where((dfFinal[\"EXPECTED_1_Dias_Antes\"]==0) & (dfFinal[\"EXPECTED\"]>0), 1, 0)\n",
    "dfFinal[\"Percentagem_Stock_Borderline_1_Dias_Antes\"] = np.where(dfFinal[\"STOCK_1_Dias_Antes\"]<0.2*dfFinal[\"PRES_STOCK_1_Dias_Antes\"], 1, 0)\n",
    "dfFinal[\"Percentagem_Linear_Incompleto_1_Dias_Antes\"] = np.where(dfFinal[\"STOCK_1_Dias_Antes\"]<dfFinal[\"PRES_STOCK_1_Dias_Antes\"], 1, 0)\n",
    "dfFinal[\"Sem_Vendas_1_Dias_Antes\"] = np.where(dfFinal[\"SELLOUT_1_Dias_Antes\"] == 0, 1, 0)\n",
    "dfFinal[\"Dias_Indisponivel_1_Dias_Antes\"] = np.where(dfFinal[\"ROTURA_1_Dias_Antes\"]==1, 1, 0)\n",
    "\n",
    "dfFinal['ROTURA_fds_1_Dias_Antes'] = dfFinal[dfFinal['DATA'].dt.weekday.isin([5,6,0])][\"ROTURA_1_Dias_Antes\"].copy()\n",
    "dfFinal['ROTURA_semana_1_Dias_Antes'] = dfFinal[dfFinal['DATA'].dt.weekday.isin([1,2,3,4])][\"ROTURA_1_Dias_Antes\"].copy()\n",
    "\n",
    "for i in diasMetHist:\n",
    "    dfFinal[f\"Percentagem_Volatilidade_{i}\"] = (dfFinal.groupby(['DESC_ARTIGO', \"STORE\"])['SELLOUT_1_Dias_Antes']\\\n",
    "                                                .transform(lambda x: x.rolling(window=i, min_periods=1).std()) /\n",
    "                                                dfFinal.groupby(['DESC_ARTIGO', \"STORE\"])['SELLOUT_1_Dias_Antes']\\\n",
    "                                                .transform(lambda x: x.rolling(window=i, min_periods=1).mean()))\n",
    "    \n",
    "    dfFinal[f\"Percentagem_Roturas_{i}\"] = (dfFinal.groupby(['DESC_ARTIGO', \"STORE\"])['ROTURA_1_Dias_Antes']\\\n",
    "                                           .transform(lambda x: x.rolling(window=i, min_periods=1).mean()))\n",
    "    \n",
    "    dfFinal[f\"Percentagem_Roturas_{i}\"] = (dfFinal.groupby(['DESC_ARTIGO', \"STORE\"])['ROTURA_1_Dias_Antes']\\\n",
    "                                           .transform(lambda x: x.rolling(window=i, min_periods=1).mean()))\n",
    "    \n",
    "    dfFinal[f\"Percentagem_Supply_{i}\"] = (dfFinal.groupby(['DESC_ARTIGO', \"STORE\"])['New_Supply']\\\n",
    "                                          .transform(lambda x: x.rolling(window=i, min_periods=1).mean()))\n",
    "\n",
    "    dfFinal[f\"Percentagem_Dias_Stock_Borderline_{i}\"] = (dfFinal.groupby(['DESC_ARTIGO', \"STORE\"])['Percentagem_Stock_Borderline_1_Dias_Antes']\\\n",
    "                                                         .transform(lambda x: x.rolling(window=i, min_periods=1).mean()))\n",
    "\n",
    "    dfFinal[f\"Percentagem_Dias_Linear_Incompleto_{i}\"] = (dfFinal.groupby(['DESC_ARTIGO', \"STORE\"])['Percentagem_Linear_Incompleto_1_Dias_Antes']\\\n",
    "                                                          .transform(lambda x: x.rolling(window=i, min_periods=1).mean()))\n",
    "    \n",
    "    dfFinal[f\"Percentagem_Dias_Sem_Vendas_{i}\"] = (dfFinal.groupby(['DESC_ARTIGO', \"STORE\"])['Sem_Vendas_1_Dias_Antes']\\\n",
    "                                                   .transform(lambda x: x.rolling(window=i, min_periods=1).mean()))\n",
    "    \n",
    "    dfFinal[f\"Percentagem_Dias_Indisponivel_{i}\"] = (dfFinal.groupby(['DESC_ARTIGO', \"STORE\"])['Dias_Indisponivel_1_Dias_Antes']\\\n",
    "                                                     .transform(lambda x: x.rolling(window=i, min_periods=1).mean()))\n",
    "\n",
    "    dfFinal[f\"Vendas_Perdidas_em_{i}_Dias\"] = ((dfFinal.groupby(['DESC_ARTIGO', \"STORE\"])['ROTURA_fds_1_Dias_Antes'].transform(lambda x: x.rolling(window=i, min_periods=1).sum())\\\n",
    "                                                  * dfFinal.groupby(['DESC_ARTIGO', \"STORE\"])['SELLOUT_fds_1_Dias_Antes'].transform(lambda x: x.rolling(window=i, min_periods=1).mean())) \\\n",
    "                                                  + \n",
    "                                               (dfFinal.groupby(['DESC_ARTIGO', \"STORE\"])['ROTURA_semana_1_Dias_Antes'].transform(lambda x: x.rolling(window=i, min_periods=1).sum()) \\\n",
    "                                                  * dfFinal.groupby(['DESC_ARTIGO', \"STORE\"])['SELLOUT_semana_1_Dias_Antes'].transform(lambda x: x.rolling(window=i, min_periods=1).mean())))\n",
    "    \n",
    "dfFinal.Percentagem_Volatilidade_60 = dfFinal.Percentagem_Volatilidade_60.fillna(0)"
   ]
  },
  {
   "cell_type": "markdown",
   "metadata": {},
   "source": [
    "> - Tempo médio inter-supply"
   ]
  },
  {
   "cell_type": "code",
   "execution_count": 186,
   "metadata": {},
   "outputs": [
    {
     "name": "stdout",
     "output_type": "stream",
     "text": [
      "CPU times: total: 19.5 s\n",
      "Wall time: 24.6 s\n"
     ]
    }
   ],
   "source": [
    "%%time\n",
    "dfFinal=dfFinal.copy()\n",
    "dfFinal[\"InterSupply\"] = np.where(dfFinal[\"EXPECTED\"]==0, 1, 0)\n",
    "\n",
    "groups = (dfFinal['InterSupply'] != dfFinal['InterSupply'].shift()).cumsum()\n",
    "result = dfFinal.groupby(groups).agg({'DATA': 'first', 'DESC_ARTIGO': 'first', 'STORE': 'first', 'InterSupply': 'sum'}).reset_index(drop=True)\n",
    "result = result[result['InterSupply'] > 0]\n",
    "\n",
    "dfFinal = dfFinal.drop(columns=['InterSupply'])\n",
    "\n",
    "dfFinal = pd.merge(dfFinal, result, how=\"left\", on=[\"DATA\",\"DESC_ARTIGO\", \"STORE\"])\n",
    "\n",
    "for i in diasMetHist:\n",
    "    dfFinal[f\"Percentagem_InterSupplyMed_{i}\"] = (dfFinal.groupby(['DESC_ARTIGO', \"STORE\"])['InterSupply'].transform(lambda x: x.rolling(window=i, min_periods=1).mean()))\n"
   ]
  },
  {
   "cell_type": "markdown",
   "metadata": {},
   "source": [
    "---"
   ]
  },
  {
   "cell_type": "markdown",
   "metadata": {},
   "source": [
    " ### <font color=green> Função Contagem"
   ]
  },
  {
   "cell_type": "code",
   "execution_count": 187,
   "metadata": {},
   "outputs": [],
   "source": [
    "from datetime import datetime, timedelta\n",
    "\n",
    "\n",
    "# Função que conta os dias de semana e de fds para os 5 dias seguintes\n",
    "def contagem5dias(date):\n",
    "    dias_de_semana = 0\n",
    "    dias_de_fds = 0\n",
    "    \n",
    "    for _ in range(5):\n",
    "        if date.weekday() < 4:  # Segunda a Quinta\n",
    "            dias_de_semana += 1\n",
    "        else:  # Sexta a Domingo\n",
    "            dias_de_fds += 1\n",
    "        \n",
    "        date += timedelta(days=1)\n",
    "    \n",
    "    return pd.Series({\"CONTAGEM_SEMANA\": dias_de_semana, \"CONTAGEM_FIMSEMANA\": dias_de_fds})\n",
    "\n",
    "\n",
    "# Função que conta os dias de semana e de fds para os 5 dias seguintes\n",
    "def contagem3dias(date):\n",
    "    dias_de_semana = 0\n",
    "    dias_de_fds = 0\n",
    "    \n",
    "    for _ in range(3):\n",
    "        if date.weekday() < 4:  # Segunda a Quinta\n",
    "            dias_de_semana += 1\n",
    "        else:  # Sexta a Domingo\n",
    "            dias_de_fds += 1\n",
    "        \n",
    "        date += timedelta(days=1)\n",
    "    \n",
    "    return pd.Series({\"CONTAGEM_SEMANA3\": dias_de_semana, \"CONTAGEM_FIMSEMANA3\": dias_de_fds})"
   ]
  },
  {
   "cell_type": "markdown",
   "metadata": {},
   "source": [
    "> - Smart 3 dias"
   ]
  },
  {
   "cell_type": "code",
   "execution_count": 188,
   "metadata": {},
   "outputs": [
    {
     "name": "stdout",
     "output_type": "stream",
     "text": [
      "CPU times: total: 3min 54s\n",
      "Wall time: 5min 15s\n"
     ]
    }
   ],
   "source": [
    "%%time\n",
    "\n",
    "# Aplicar a função a cada linha (pouco eficiente)\n",
    "\n",
    "dfFinal[[\"CONTAGEM_SEMANA3\", \"CONTAGEM_FIMSEMANA3\"]] = dfFinal[\"DATA\"].apply(contagem3dias)\n",
    "dfFinal['CONTAGEM_FIMSEMANA3'] = dfFinal['CONTAGEM_FIMSEMANA3'].shift(-1)\n",
    "dfFinal['CONTAGEM_SEMANA3'] = dfFinal['CONTAGEM_SEMANA3'].shift(-1)\n",
    "\n",
    "dfFinal[\"Balance_Smart3\"] = ((\n",
    "    (dfFinal.groupby(['DESC_ARTIGO', \"STORE\"])['SELLOUT_fds_1_Dias_Antes']\\\n",
    "    .transform(lambda x: x.rolling(window=30, min_periods=1).mean())* dfFinal['CONTAGEM_FIMSEMANA3'])\n",
    "    +\n",
    "    (dfFinal.groupby(['DESC_ARTIGO', \"STORE\"])['SELLOUT_semana_1_Dias_Antes']\\\n",
    "    .transform(lambda x: x.rolling(window=30, min_periods=1).mean())* dfFinal['CONTAGEM_SEMANA3']))\n",
    "     / dfFinal[\"STK\"])\n",
    "\n",
    "dfFinal[\"Balance_Smart3\"] = np.where(dfFinal[\"STK\"]<=0, -1, dfFinal[\"Balance_Smart3\"])\n",
    "dfFinal[\"Balance_Smart_3_Dias_Antes\"] = dfFinal[\"Balance_Smart3\"].shift(2)\n"
   ]
  },
  {
   "cell_type": "markdown",
   "metadata": {},
   "source": [
    "> - Smart 5 dias antes"
   ]
  },
  {
   "cell_type": "code",
   "execution_count": 189,
   "metadata": {},
   "outputs": [
    {
     "name": "stdout",
     "output_type": "stream",
     "text": [
      "CPU times: total: 4min 42s\n",
      "Wall time: 5min 13s\n"
     ]
    }
   ],
   "source": [
    "%%time\n",
    "\n",
    "# Aplicar a função a cada linha (pouco eficiente)\n",
    "\n",
    "dfFinal[[\"CONTAGEM_SEMANA\", \"CONTAGEM_FIMSEMANA\"]] = dfFinal[\"DATA\"].apply(contagem5dias)\n",
    "dfFinal['CONTAGEM_FIMSEMANA'] = dfFinal['CONTAGEM_FIMSEMANA'].shift(-1)\n",
    "dfFinal['CONTAGEM_SEMANA'] = dfFinal['CONTAGEM_SEMANA'].shift(-1)\n",
    "\n",
    "\n",
    "dfFinal[\"Balance_Smart\"] = ((\n",
    "    (dfFinal.groupby(['DESC_ARTIGO', \"STORE\"])['SELLOUT_fds_1_Dias_Antes']\\\n",
    "    .transform(lambda x: x.rolling(window=30, min_periods=1).mean())* dfFinal['CONTAGEM_FIMSEMANA'])\n",
    "    +\n",
    "    (dfFinal.groupby(['DESC_ARTIGO', \"STORE\"])['SELLOUT_semana_1_Dias_Antes']\\\n",
    "    .transform(lambda x: x.rolling(window=30, min_periods=1).mean())* dfFinal['CONTAGEM_SEMANA']))\n",
    "     / dfFinal[\"STK\"])\n",
    "\n",
    "dfFinal[\"Balance_Smart\"] = np.where(dfFinal[\"STK\"]<=0, -1, dfFinal[\"Balance_Smart\"])\n",
    "dfFinal[\"Balance_Smart_5_Dias_Antes\"] = dfFinal[\"Balance_Smart\"].shift(4)\n"
   ]
  },
  {
   "cell_type": "markdown",
   "metadata": {},
   "source": [
    "> - Dias para rotura de Stock"
   ]
  },
  {
   "cell_type": "code",
   "execution_count": 190,
   "metadata": {},
   "outputs": [],
   "source": [
    "dfFinal = dfFinal.copy()\n",
    "# Dias para a rotura mas com o Sellout médio (móvel) dos últimos 10 dias \n",
    "dfFinal[\"Dias_para_Rotura_Stock\"] = dfFinal[\"STK_1_Dias_Antes\"] / (dfFinal.groupby(['DESC_ARTIGO', \"STORE\"])['SELLOUT_fds_1_Dias_Antes']\\\n",
    "    .transform(lambda x: x.rolling(window=30, min_periods=1).mean())* dfFinal['CONTAGEM_FIMSEMANA'])+(dfFinal.groupby(['DESC_ARTIGO', \"STORE\"])['SELLOUT_semana_1_Dias_Antes']\\\n",
    "    .transform(lambda x: x.rolling(window=30, min_periods=1).mean())* dfFinal['CONTAGEM_SEMANA'])\n",
    "\n",
    "dfFinal[\"Dias_para_Rotura_Stock_5_Dias_Antes\"] = dfFinal[\"Dias_para_Rotura_Stock\"].shift(4)"
   ]
  },
  {
   "cell_type": "markdown",
   "metadata": {},
   "source": [
    "> - Dias para rotura de Linear"
   ]
  },
  {
   "cell_type": "code",
   "execution_count": 191,
   "metadata": {},
   "outputs": [],
   "source": [
    "# Definir a métrica: Preslinear / med(Sellouts 10 dias)\n",
    "dfFinal['Dias_Duracao_Linear'] = dfFinal[\"PRES_STOCK\"] / (dfFinal.groupby(['DESC_ARTIGO', \"STORE\"])['SELLOUT_fds_1_Dias_Antes']\\\n",
    "    .transform(lambda x: x.rolling(window=30, min_periods=1).mean())* dfFinal['CONTAGEM_FIMSEMANA'])+(dfFinal.groupby(['DESC_ARTIGO', \"STORE\"])['SELLOUT_semana_1_Dias_Antes']\\\n",
    "    .transform(lambda x: x.rolling(window=30, min_periods=1).mean())* dfFinal['CONTAGEM_SEMANA'])\n",
    "\n",
    "dfFinal[\"Dias_Duracao_Linear_5_Dias_Antes\"] = dfFinal[\"Dias_Duracao_Linear\"].shift(4)"
   ]
  },
  {
   "cell_type": "markdown",
   "metadata": {},
   "source": [
    "### Texto"
   ]
  },
  {
   "cell_type": "markdown",
   "metadata": {},
   "source": [
    "> - Desempenho\n",
    "> - Volatilidade de Sellout\n",
    "> - Sensibilidade\n",
    "> - PS Classificação\n",
    "> - Risco de Rotura"
   ]
  },
  {
   "cell_type": "code",
   "execution_count": 192,
   "metadata": {},
   "outputs": [
    {
     "name": "stdout",
     "output_type": "stream",
     "text": [
      "CPU times: total: 4.55 s\n",
      "Wall time: 5.24 s\n"
     ]
    }
   ],
   "source": [
    "%%time\n",
    "dfFinal[\"Desempenho_de_Vendas_60\"] = np.where((dfFinal[\"Percentagem_Dias_Sem_Vendas_60\"]>=0) & (dfFinal[\"Percentagem_Dias_Sem_Vendas_60\"]<=0.151), \"Vendas com desempenho satisfatório\",\n",
    "                                     np.where((dfFinal[\"Percentagem_Dias_Sem_Vendas_60\"]>0.151) & (dfFinal[\"Percentagem_Dias_Sem_Vendas_60\"]<=0.317), \"Vendas com desempenho mediano\",\n",
    "                                     np.where((dfFinal[\"Percentagem_Dias_Sem_Vendas_60\"]>0.317) & (dfFinal[\"Percentagem_Dias_Sem_Vendas_60\"]<=0.433), \"Vendas com desempenho insatisfatório\",\n",
    "                                              \"Vendas com desempenho muito insatisfatório\")))\n",
    "\n",
    "\n",
    "                                     #np.where((dfFinal[\"Percentagem_Dias_Sem_Vendas_60\"]>0.433) & (dfFinal[\"Percentagem_Dias_Sem_Vendas_60\"]<=1), \n",
    "\n",
    "dfFinal[\"Volatilidade_SELLOUT\"] = np.where(dfFinal[\"Percentagem_Volatilidade_60\"] > 1.095, \" e com alta volatilidade de sellout.\",\n",
    "                                  np.where(dfFinal[\"Percentagem_Volatilidade_60\"] > 0.91 , \" e com média volatilidade de sellout.\",\n",
    "                                  np.where(dfFinal[\"Percentagem_Volatilidade_60\"] > 0.76 , \" e com baixa volatilidade de sellout.\",\n",
    "                                                                                           \" e com muito baixa volatilidade de sellout.\")))\n",
    "\n",
    "\n",
    "dfFinal[\"Sensibilidade_Rotura\"] = np.where(dfFinal[\"Percentagem_Roturas_60\"]>0.33, \" Produto com muito elevada propensão para rotura\",\n",
    "                                 np.where(dfFinal[\"Percentagem_Roturas_60\"]>0.166666, \" Produto com elevada propensão para rotura\",\n",
    "                                 np.where(dfFinal[\"Percentagem_Roturas_60\"]>0.017, \" Produto com moderada propensão para rotura\",\n",
    "                                 np.where(dfFinal[\"Percentagem_Roturas_60\"]>0, \" Produto com baixa propensão para rotura\",\n",
    "                                 \" Produto com muito baixa ou nula propensão para rotura\"))))\n",
    "\n",
    "dfFinal[\"Order_Sensibilidade_Rotura\"] = np.where(dfFinal[\"Percentagem_Roturas_60\"]>0.33, 5,\n",
    "                                 np.where(dfFinal[\"Percentagem_Roturas_60\"]>0.166666, 4,\n",
    "                                 np.where(dfFinal[\"Percentagem_Roturas_60\"]>0.017, 3,\n",
    "                                 np.where(dfFinal[\"Percentagem_Roturas_60\"]>0, 2,\n",
    "                                 1))))\n",
    "\n",
    "dfFinal[\"PS_Classificacao_60\"] = np.where((dfFinal[\"Percentagem_Dias_Linear_Incompleto_60\"] > 0.51) & (dfFinal[\"Percentagem_Balance_Raw_Count1_60\"]==1) & (dfFinal[\"Percentagem_Dias_Sem_Vendas_60\"]>0.29), \" e com PS excessivo.\",\n",
    "                                 np.where((dfFinal[\"Percentagem_Dias_Linear_Incompleto_60\"] > 0.51) & (dfFinal[\"Percentagem_Balance_Raw_Count1_60\"]==0) & (dfFinal[\"Percentagem_Dias_Sem_Vendas_60\"]>0.29), \" e com PS excessivo.\",\n",
    "                                 np.where((dfFinal[\"Percentagem_Dias_Linear_Incompleto_60\"] > 0.31) & (dfFinal[\"Percentagem_Balance_Raw_Count1_60\"]==1) & (dfFinal[\"Percentagem_Dias_Sem_Vendas_60\"]>0.29), \" e com PS moderadamente excessivo.\",\n",
    "                                 np.where((dfFinal[\"Percentagem_Dias_Linear_Incompleto_60\"] < 0.07) & (dfFinal[\"Percentagem_Balance_Raw_Count1_60\"]<0.8) & (dfFinal[\"Percentagem_Dias_Sem_Vendas_60\"]<0.07), \" e com PS escasso.\", \n",
    "                                                                                                                                                                                                            \" e com PS equilibrado.\"))))\n",
    "\n",
    "dfFinal[\"RISCO\"] = np.where((dfFinal.Balance_Smart > 2) & (dfFinal.CICLOS_5_Dias_Antes < 0.2) & (dfFinal.Percentagem_Roturas_120 > 5), 1,\n",
    "                   np.where((dfFinal.Balance_Smart > 1) & (dfFinal.Balance_Smart < 2) & (dfFinal.CICLOS_5_Dias_Antes < 0.6) & (dfFinal.Percentagem_Roturas_120 < 3), 2, 3))\n",
    "\n",
    "dfFinal[\"RISCO_ROTURA\"] = np.where((dfFinal.Balance_Smart >= 12.5) | (dfFinal.Balance_Smart < 0), \" O produto apresenta hoje muito elevada probabilidade de rotura a 5 dias caso não haja fornecimento.\", \n",
    "                          np.where((dfFinal.Balance_Smart >= 1.1) & (dfFinal.Balance_Smart < 12.5), \" O produto apresenta hoje elevada probabilidade de rotura a 5 dias caso não haja fornecimento.\",\n",
    "                          np.where((dfFinal.Balance_Smart >= 0.833) & (dfFinal.Balance_Smart < 1.1), \" O produto apresenta hoje média probabilidade de rotura a 5 dias caso não haja fornecimento.\",\n",
    "                          np.where((dfFinal.Balance_Smart >= 0.087) & (dfFinal.Balance_Smart < 0.833), \" O produto apresenta hoje baixa probabilidade de rotura a 5 dias caso não haja fornecimento.\", \n",
    "                                                                                                         \" O produto apresenta hoje muito baixa ou nula probabilidade de rotura a 5 dias caso não haja fornecimento.\"))))         "
   ]
  },
  {
   "cell_type": "markdown",
   "metadata": {},
   "source": [
    "> - Conclusão"
   ]
  },
  {
   "cell_type": "code",
   "execution_count": 193,
   "metadata": {},
   "outputs": [],
   "source": [
    "dfFinal[\"Conclusao1\"] = dfFinal[\"Desempenho_de_Vendas_60\"] + dfFinal[\"Volatilidade_SELLOUT\"] \n",
    "dfFinal[\"Conclusao2\"] = dfFinal[\"Sensibilidade_Rotura\"] + dfFinal[\"PS_Classificacao_60\"] \n",
    "dfFinal[\"Conclusao3\"] = dfFinal[\"RISCO_ROTURA\"]"
   ]
  },
  {
   "cell_type": "markdown",
   "metadata": {},
   "source": [
    "# Ano Homólogo"
   ]
  },
  {
   "cell_type": "code",
   "execution_count": 194,
   "metadata": {},
   "outputs": [
    {
     "name": "stdout",
     "output_type": "stream",
     "text": [
      "CPU times: total: 52 s\n",
      "Wall time: 58.8 s\n"
     ]
    }
   ],
   "source": [
    "%%time\n",
    "#Ler o ficheiro\n",
    "\n",
    "df_2022 = client.query_df('SELECT * FROM Delta_2022')\n",
    "df_2022 = df_2022.sort_values(by = \"DATA\")\n",
    "dfFinal = pd.concat([df_2022,dfFinal])\n",
    "dfFinal.DATA = pd.to_datetime(dfFinal['DATA'], format='%Y-%m-%d') \n",
    "dfFinal = dfFinal.sort_values(by = [\"DATA\", \"STORE\", \"DESC_ARTIGO\"])"
   ]
  },
  {
   "cell_type": "code",
   "execution_count": 195,
   "metadata": {},
   "outputs": [],
   "source": [
    "# Extract year and month from the 'DATA' column\n",
    "dfFinal['Ano'] = dfFinal['DATA'].dt.year\n",
    "dfFinal['Mes'] = dfFinal['DATA'].dt.month\n",
    "\n",
    "# Média para o mês actual e para o mês anterior\n",
    "dfFinal['Media_Sellout_Mensal'] = dfFinal.groupby(['Ano', 'Mes', 'STORE', 'EAN'])['SELLOUT'].transform('mean')\n",
    "dfFinal['Media_Sellout_Mensal_Mes_Anterior'] = dfFinal.groupby(['Ano', 'Mes', 'STORE', 'EAN'])['SELLOUT'].transform('mean').shift(1)\n",
    "\n",
    "# Calculate the monthly mean for the homologous month in the previous year\n",
    "media_2022 = dfFinal[dfFinal['Ano'] == 2022].groupby(['Mes', 'STORE', 'EAN'])['SELLOUT'].mean().reset_index()\n",
    "media_2022.rename(columns={'SELLOUT': 'Media_Sellout_Mensal_Homologo'}, inplace=True)\n",
    "\n",
    "# Voltar a colocar a média homóloga no DataFrame\n",
    "dfFinal = dfFinal.drop(columns=([\"Media_Sellout_Mensal_Homologo\"]))\n",
    "dfFinal = dfFinal.merge(media_2022, on=['Mes', 'STORE', 'EAN'], how='left')"
   ]
  },
  {
   "cell_type": "raw",
   "metadata": {},
   "source": [
    "dfFinal['Media_Sellout_30_Dias'] = dfFinal.groupby(['STORE', 'EAN'])['SELLOUT'].transform(lambda x: x.rolling(window=30, min_periods=1).mean())"
   ]
  },
  {
   "cell_type": "markdown",
   "metadata": {},
   "source": [
    "# B&N"
   ]
  },
  {
   "cell_type": "raw",
   "metadata": {},
   "source": [
    "         np.where(dfFinal.Balance_Smart > 1.1 , \"Perigo de Rotura\", \n",
    "         np.where(\n"
   ]
  },
  {
   "cell_type": "raw",
   "metadata": {},
   "source": [
    "dfEscreverMes.DATA.unique()"
   ]
  },
  {
   "cell_type": "raw",
   "metadata": {},
   "source": [
    "mask = (dfEscreverMes.STORE_NAME==\"MDL VALE DO SOUSA\") & (dfEscreverMes.DESC_ARTIGO==\"AZEITONA RETALHADA 210G QAMPO\")\n",
    "dfEscreverMes[mask][['DATA','DESC_ARTIGO','STORE_NAME', \"SELLOUT\", \"STOCK\", \"FORNECIMENTO\", \"Balance_Smart\"]]"
   ]
  },
  {
   "cell_type": "markdown",
   "metadata": {},
   "source": [
    "# <font color=blue>Escrever"
   ]
  },
  {
   "cell_type": "markdown",
   "metadata": {},
   "source": [
    "- Dias certos"
   ]
  },
  {
   "cell_type": "code",
   "execution_count": 196,
   "metadata": {},
   "outputs": [],
   "source": [
    "dfFinal[\"ROTURA\"] = np.where(dfFinal[\"ROTURA\"]==1, \"ROTURA\", \"PRESENTE\")\n",
    "dfFinal['Subinsignia'] = dfFinal['STORE_NAME'].str.split().str[0]\n",
    "dfFinalEscrever = dfFinal.copy()\n",
    "\n",
    "dfEscrever120 = dfFinalEscrever[dfFinalEscrever.DATA.between(dfFinalEscrever.DATA.unique()[-121],dfFinalEscrever.DATA.unique()[-1])].copy()\n",
    "dfFinalEscrever = dfFinalEscrever.dropna(subset=['SELLOUT'])\n",
    "dfFinalEscrever = dfFinalEscrever.dropna(subset=['SELLOUT_fds_Medio'])\n",
    "\n",
    "\n",
    "# Ficheiro Dia, Mês e 120 dias\n",
    "dfEscreverDia = dfFinalEscrever[dfFinalEscrever.DATA == dfFinalEscrever.DATA.unique()[-1]].copy()\n",
    "\n",
    "dfFinalEscrever = dfFinalEscrever.dropna(subset=['Balance_Smart'])\n",
    "dfEscreverMes = dfFinalEscrever[dfFinalEscrever.DATA.between(dfFinalEscrever.DATA.unique()[-31],dfFinalEscrever.DATA.unique()[-1])].copy()"
   ]
  },
  {
   "cell_type": "raw",
   "metadata": {},
   "source": [
    "dfFinal = dfFinal.copy()\n",
    "# Extract year and month from the 'date' column\n",
    "dfFinal['Ano'] = dfFinal['DATA'].dt.year\n",
    "dfFinal['Ano_Anterior'] = dfFinal['Ano'] + 1\n",
    "dfFinal['Mes'] = dfFinal['DATA'].dt.month\n",
    "\n",
    "# Mês Actual\n",
    "media_mes_actual = dfFinal.groupby(['Ano', 'Mes', \"STORE\", \"EAN\"])['SELLOUT'].mean().reset_index()\n",
    "media_mes_actual = media_mes_actual.rename(columns={'SELLOUT': 'Media_Sellout_Mensal'})\n",
    "\n",
    "# Mês Homólogo\n",
    "media_mes_homologo = dfFinal.groupby(['Ano_Anterior', 'Mes', \"STORE\", \"EAN\"])['SELLOUT'].mean().reset_index()\n",
    "media_mes_homologo = media_mes_homologo.rename(columns={'SELLOUT': 'Media_Sellout_Mensal_Homologo'})\n",
    "\n",
    "# Calculate the monthly mean for the previous month\n",
    "media_mes_anterior = dfFinal.groupby(['Ano', 'Mes', \"STORE\", \"EAN\"])['SELLOUT'].mean().shift(1).reset_index()\n",
    "media_mes_anterior.rename(columns={'SELLOUT': 'Media_Sellout_Mensal_Mes_Anterior'}, inplace=True)\n",
    "\n",
    "# Merge the monthly mean back into the original DataFrame\n",
    "dfFinal = dfFinal.merge(media_mes_actual, on=['Ano', 'Mes', \"STORE\", \"EAN\"], how=\"left\")\n",
    "dfFinal = dfFinal.merge(media_mes_homologo, left_on=['Ano', 'Mes', \"STORE\", \"EAN\"], right_on=['Ano_Anterior', 'Mes', \"STORE\", \"EAN\"], how=\"left\")\n",
    "dfFinal = dfFinal.merge(media_mes_anterior, on=['Ano', 'Mes', \"STORE\", \"EAN\"], how=\"left\")\n",
    "\n",
    "dfFinal = dfFinal.drop(columns = [\"Ano_Anterior_x\", \"Ano_Anterior_y\"])\n"
   ]
  },
  {
   "cell_type": "markdown",
   "metadata": {},
   "source": [
    "# Clickhouse"
   ]
  },
  {
   "cell_type": "code",
   "execution_count": 197,
   "metadata": {},
   "outputs": [],
   "source": [
    "import clickhouse_connect\n",
    "from clickhouse_driver import Client\n",
    "from unidecode import unidecode\n",
    "\n",
    "client = clickhouse_connect.get_client(host='ch.brandsandninjas.com', \n",
    "                                       port=443, \n",
    "                                       username='chninja', \n",
    "                                       password='ku43ueqnB5Q0AYb2C4FsJRTc7qX',\n",
    "                                       database = \"Delta\")\n"
   ]
  },
  {
   "cell_type": "code",
   "execution_count": 198,
   "metadata": {},
   "outputs": [
    {
     "name": "stdout",
     "output_type": "stream",
     "text": [
      "A base Delta_dbd_Dia foi exportada para o clickhouse\n",
      "A base Delta_dbd_Mes foi exportada para o clickhouse\n",
      "A base Delta_dbd_120dias_P foi exportada para o clickhouse\n",
      "CPU times: total: 51.3 s\n",
      "Wall time: 4min 32s\n"
     ]
    }
   ],
   "source": [
    "%%time\n",
    "#Estabelecer a base a ser lida\n",
    "\n",
    "bases = [1, 2, 3]\n",
    "\n",
    "for qualbase in bases:\n",
    "\n",
    "    if qualbase == 1:\n",
    "        baseCH = dfEscreverDia.copy()\n",
    "        tabela = \"Delta_dbd_Dia\" # BaseGoChillDia\n",
    "\n",
    "    elif qualbase == 2:\n",
    "        baseCH = dfEscreverMes.copy()\n",
    "        tabela = \"Delta_dbd_Mes\" # BaseGoChillMes\n",
    "\n",
    "    elif qualbase == 3:\n",
    "        baseCH = dfEscrever120.copy()\n",
    "        tabela = f\"Delta_dbd_120dias_{base_Clickhouse_120_nova}\" # BaseDelta120\n",
    "\n",
    "    elif qualbase == 4:\n",
    "        baseCH = dfNinjas.copy()\n",
    "        tabela = \"Delta_dbd_Audit\" # BaseDeltaNinja\n",
    "\n",
    "    ## Algumas alterações\n",
    "    baseCH['DATA']= pd.to_datetime(baseCH['DATA'], format='%Y-%m-%d')  # Passar a Data para datetime\n",
    "\n",
    "    baseCH.columns = [unidecode(col) for col in baseCH.columns]        # Tirar acentos e afins dos nomes das colunas porque \n",
    "                                                                       # o Clickhouse não gosta\n",
    "\n",
    "\n",
    "    ## Listas para definir os tipos de dados de cada coluna a inserit\n",
    "    data = [\"DATA\"]\n",
    "    texto = [col for col in baseCH.columns if baseCH[col].dtype == 'object' or baseCH[col].dtype == 'string']\n",
    "    inteiros = [col for col in baseCH.columns if baseCH[col].dtype == 'int64' or baseCH[col].dtype == 'int32']\n",
    "    floats = [col for col in baseCH.columns if baseCH[col].dtype == 'float64']\n",
    "\n",
    "\n",
    "    ## Mudar inteiros para floats porque senão não pode haver missing values\n",
    "    for col_name in inteiros:\n",
    "        baseCH[col_name] = baseCH[col_name].astype(float)\n",
    "\n",
    "    ## Missing values em strings também estragam tudo\n",
    "    baseCH[texto] = baseCH[texto].fillna(\"-\")\n",
    "    baseCH[texto] = baseCH[texto].astype(str)\n",
    "\n",
    "    #Função que vai fazer a schema\n",
    "    def schema(lista, tipo):\n",
    "        result_list = [f\"{element} {tipo}\" for element in lista]\n",
    "        return result_list\n",
    "\n",
    "    # Schema a ser feito\n",
    "    data1 = schema(data, \"Date\")\n",
    "    texto1 = schema(texto, \"String\")\n",
    "    inteiros1 = schema(inteiros, \"Float64\")\n",
    "    floats1 = schema(floats, \"Float64\")\n",
    "    total = tuple(data1 + texto1 + inteiros1 + floats1)\n",
    "    schema = ', '.join([column.replace(\"'\", \"\") for column in total])\n",
    "\n",
    "    # Split the input string by commas\n",
    "    parts = schema.split(', ')\n",
    "    # Process each part and wrap the first word in double quotes\n",
    "    output_parts = []\n",
    "    for part in parts:\n",
    "        words = part.split()\n",
    "        if words:\n",
    "            first_word = words[0]\n",
    "            remaining_words = ' '.join(words[1:])\n",
    "            output_part = f'\"{first_word}\" {remaining_words}'\n",
    "            output_parts.append(output_part)\n",
    "    # Join the modified parts back into a string\n",
    "    schema = ', '.join(output_parts)\n",
    "\n",
    "    # Eliminar tabela que possa existir no CH com o mesmo nome\n",
    "    client.command(f'DROP TABLE IF EXISTS {tabela}')\n",
    "\n",
    "    # Criar tabela no CH\n",
    "    client.command(f'''\n",
    "        CREATE TABLE IF NOT EXISTS {tabela} (\n",
    "            {schema}\n",
    "            ) ENGINE = MergeTree\n",
    "            ORDER BY (DATA)\n",
    "    ''')\n",
    "\n",
    "\n",
    "    # Exportar os dados para o clickhouse\n",
    "    client.insert_df(tabela, baseCH, column_names=baseCH.columns.tolist())\n",
    "    print(f\"A base {tabela} foi exportada para o clickhouse\")"
   ]
  },
  {
   "cell_type": "code",
   "execution_count": 199,
   "metadata": {},
   "outputs": [
    {
     "data": {
      "text/html": [
       "\n",
       "                <audio  controls=\"controls\" autoplay=\"autoplay\">\n",
       "                    <source src=\"data:audio/wav;base64,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\" type=\"audio/wav\" />\n",
       "                    Your browser does not support the audio element.\n",
       "                </audio>\n",
       "              "
      ],
      "text/plain": [
       "<IPython.lib.display.Audio object>"
      ]
     },
     "execution_count": 199,
     "metadata": {},
     "output_type": "execute_result"
    }
   ],
   "source": [
    "freq = 440  # Hz\n",
    "duration = 1  # seconds\n",
    "samples = int(duration * 44100)  # 44100 samples per second\n",
    "t = np.linspace(0, duration, samples, False)\n",
    "note = np.sin(freq * t * 2 * np.pi)\n",
    "Audio(note, rate=44100, autoplay=True)"
   ]
  },
  {
   "cell_type": "raw",
   "metadata": {},
   "source": [
    "B&N prevê rotura:\n",
    "\n",
    "Risco de rotura tem de ser diferente de -1 quando stk = 0\n",
    "    "
   ]
  },
  {
   "cell_type": "raw",
   "metadata": {},
   "source": [
    "rotura evitada \n"
   ]
  },
  {
   "cell_type": "markdown",
   "metadata": {},
   "source": [
    "---"
   ]
  },
  {
   "cell_type": "raw",
   "metadata": {},
   "source": [
    "                                 \\                                           /"
   ]
  },
  {
   "cell_type": "raw",
   "metadata": {},
   "source": [
    "                                   \\                                       /"
   ]
  },
  {
   "cell_type": "raw",
   "metadata": {},
   "source": [
    "                                     \\                                   /"
   ]
  },
  {
   "cell_type": "raw",
   "metadata": {},
   "source": [
    "                                       \\                               /                        "
   ]
  },
  {
   "cell_type": "raw",
   "metadata": {},
   "source": [
    "                                        | 26 minutos para correr tudo |"
   ]
  },
  {
   "cell_type": "markdown",
   "metadata": {},
   "source": [
    "---"
   ]
  },
  {
   "cell_type": "markdown",
   "metadata": {},
   "source": [
    "- Passar para csv"
   ]
  },
  {
   "cell_type": "raw",
   "metadata": {},
   "source": [
    "escrever_csv(dfEscreverDia, \"DataBaseDeltaDia\")\n",
    "escrever_csv(dfEscreverMes, \"DataBaseDeltaMes\")\n",
    "escrever_csv(dfEscrever180, \"DataBaseDelta180Dias\")"
   ]
  },
  {
   "cell_type": "markdown",
   "metadata": {},
   "source": [
    "### Ler ficheiro novo se estiver já no Clickhouse"
   ]
  },
  {
   "cell_type": "raw",
   "metadata": {},
   "source": [
    "#Ler o ficheiro\n",
    "\n",
    "dfNovo = client.query_df('SELECT * FROM BaseDeltaSonae')\n",
    "\n",
    "dfNovo = dfNovo[['DATA', 'EAN', 'DESC_ARTIGO', 'STORE', \"STORE_NAME\", \n",
    "                         \"SOH\", \"INTRANSIT\", \"EXPECTED\", \"PRES_STOCK\", \"VND (D-1)\"]]\n",
    "\n",
    "# Renomear colunas e criar as do dia\n",
    "\n",
    "dfNovo = dfNovo.rename(columns={\"VND (D-1)\": \"SELLOUT_1_Dias_Antes\", \n",
    "                                \"SOH\": \"STOCK_1_Dias_Antes\",\n",
    "                                \"INTRANSIT\": \"INTRANSIT_1_Dias_Antes\", \n",
    "                                \"EXPECTED\": \"EXPECTED_1_Dias_Antes\", \n",
    "                                \"PRES_STOCK\": \"PRES_STOCK_1_Dias_Antes\"})\n",
    "\n",
    "dfNovo[\"SELLOUT_1_Dias_Antes\"] = np.where(dfNovo[\"SELLOUT_1_Dias_Antes\"]<0, 0, dfNovo[\"SELLOUT_1_Dias_Antes\"])\n",
    "dfNovo['SELLOUT'] = dfNovo.groupby([\"STORE\",\"EAN\"])['SELLOUT_1_Dias_Antes'].shift(-1)\n",
    "dfNovo['STOCK'] = dfNovo.groupby([\"STORE\",\"EAN\"])['STOCK_1_Dias_Antes'].shift(-1)\n",
    "dfNovo['INTRANSIT'] = dfNovo.groupby([\"STORE\",\"EAN\"])['INTRANSIT_1_Dias_Antes'].shift(-1)\n",
    "dfNovo['EXPECTED'] = dfNovo.groupby([\"STORE\",\"EAN\"])['EXPECTED_1_Dias_Antes'].shift(-1)\n",
    "dfNovo['PRES_STOCK'] = dfNovo.groupby([\"STORE\",\"EAN\"])['PRES_STOCK_1_Dias_Antes'].shift(-1)\n",
    "\n",
    "#DATETIME\n",
    "# se xlsx\n",
    "#dfNovo['DATA'] = pd.to_datetime(dfNovo['DATA'], format='%d-%m-%Y') \n",
    "\n",
    "# se xlsb\n",
    "dfNovo['DATA'] = pd.to_datetime(dfNovo['DATA'], unit='d', origin=datetime.datetime(1899, 12, 30)) "
   ]
  },
  {
   "cell_type": "markdown",
   "metadata": {},
   "source": [
    "- Produtos específicos"
   ]
  },
  {
   "cell_type": "raw",
   "metadata": {
    "scrolled": true
   },
   "source": [
    "# Passar produtos e lojas para listas\n",
    "\n",
    "produtos = dfClick.DESC_ARTIGO.unique().tolist()\n",
    "lojas = dfClick.STORE.unique().tolist()\n",
    "\n",
    "# Alterar o dataframe para apenas incluir os produtos e lojas em causa\n",
    "\n",
    "dfNovo = dfNovo[(dfNovo[\"DESC_ARTIGO\"].isin(produtos)) & (dfNovo[\"STORE\"].isin(lojas))].copy()\n",
    "\n"
   ]
  }
 ],
 "metadata": {
  "kernelspec": {
   "display_name": "Python 3 (ipykernel)",
   "language": "python",
   "name": "python3"
  },
  "language_info": {
   "codemirror_mode": {
    "name": "ipython",
    "version": 3
   },
   "file_extension": ".py",
   "mimetype": "text/x-python",
   "name": "python",
   "nbconvert_exporter": "python",
   "pygments_lexer": "ipython3",
   "version": "3.11.5"
  }
 },
 "nbformat": 4,
 "nbformat_minor": 2
}
