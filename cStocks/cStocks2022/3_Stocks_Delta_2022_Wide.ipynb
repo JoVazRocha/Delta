{
 "cells": [
  {
   "cell_type": "markdown",
   "metadata": {},
   "source": [
    "# Resumo do código\n",
    "\n",
    "### <u>Código que gera os ficheiros para estudo do comportamento da Delta</u>\n",
    "---\n",
    "O objectivo é receber dados da Delta e devolver um conjunto de métricas para prever roturas. Devolve um ficheiro que pode entrar no código 1 para juntar aos dados dos ninjas.\n",
    "\n",
    "---\n",
    "- Inputs\n",
    "\n",
    "> __Dados completos da Delta em pastas de ficheiros__ (de azul a verde)\n",
    "> - Stocks e trânsito, Sellout do dia anterior\n",
    "\n",
    "                    ou\n",
    "\n",
    "> __Ficheiro já completo__ (de vermelho a verde)\n",
    "> - Stocks e trânsito, Sellout do dia anterior\n",
    "\n",
    "- Outputs\n",
    "\n",
    "> __Ficheiro com produtos em causa__ em formato Long\n",
    "\n",
    "> __Métricas novas:__\n",
    "> - Roturas de Stock e Pré-rotura\n",
    "> - Sinal\n",
    "> - Ciclos e Adequação de Stock\n",
    "> - MSA (média de sellouts 10 dias antes)\n",
    "> - STK (Stock disponível + trânsito)\n",
    "> - (Novo) Balanço médio, mediano, liberal e conservador \n",
    "> - (Novo) Dias para a rotura de stock e de prateleira\n"
   ]
  },
  {
   "cell_type": "code",
   "execution_count": 1,
   "metadata": {
    "scrolled": true
   },
   "outputs": [
    {
     "name": "stdout",
     "output_type": "stream",
     "text": [
      "CPU times: total: 344 ms\n",
      "Wall time: 350 ms\n"
     ]
    }
   ],
   "source": [
    "%%time\n",
    "import pandas as pd\n",
    "import os\n",
    "import glob\n",
    "import numpy as np\n",
    "import datetime\n",
    "from IPython.display import Audio\n",
    "\n",
    "def escrever_csv(dfa, nome):\n",
    "    dfa.to_csv(nome+'.csv', index=False)"
   ]
  },
  {
   "cell_type": "markdown",
   "metadata": {},
   "source": [
    "---"
   ]
  },
  {
   "cell_type": "markdown",
   "metadata": {},
   "source": [
    "---"
   ]
  },
  {
   "cell_type": "markdown",
   "metadata": {},
   "source": [
    "#  <span style=\"color:red\"><u>Ler Ficheiro Completo</u> </span>"
   ]
  },
  {
   "cell_type": "code",
   "execution_count": 2,
   "metadata": {},
   "outputs": [
    {
     "name": "stdout",
     "output_type": "stream",
     "text": [
      "CPU times: total: 16.8 s\n",
      "Wall time: 19.5 s\n"
     ]
    }
   ],
   "source": [
    "%%time\n",
    "#Ler o ficheiro\n",
    "\n",
    "df_2022 = pd.read_csv('D:\\\\B&N Dados\\\\Delta\\\\Stocks\\\\Stocks2022\\\\Stocks_Delta_2022_Limpo.csv')"
   ]
  },
  {
   "cell_type": "markdown",
   "metadata": {},
   "source": [
    "---"
   ]
  },
  {
   "cell_type": "markdown",
   "metadata": {},
   "source": [
    "- Produtos específicos"
   ]
  },
  {
   "cell_type": "code",
   "execution_count": 48,
   "metadata": {},
   "outputs": [
    {
     "name": "stdout",
     "output_type": "stream",
     "text": [
      "CPU times: total: 672 ms\n",
      "Wall time: 1.94 s\n"
     ]
    }
   ],
   "source": [
    "%%time\n",
    "# Ler ficheiro dos produtos para dataframe\n",
    "df_produtos = pd.read_csv('D:\\\\B&N Dados\\\\Delta\\\\Piloto\\\\produtos.txt', header=None)\n",
    "\n",
    "# Passar para uma lista\n",
    "produtos = df_produtos[0].tolist()\n",
    "\n",
    "# Alterar o dataframe para apenas incluir os produtos em causa\n",
    "dfInicial = df_2022[df_2022[\"DESC_ARTIGO\"].isin(produtos)].copy()"
   ]
  },
  {
   "cell_type": "code",
   "execution_count": 77,
   "metadata": {},
   "outputs": [],
   "source": [
    "resto = dfInicial.columns.difference([\"DESC_ARTIGO\", \"EAN\",'SELLOUT_1_Dias_Antes' , 'STOCK_1_Dias_Antes','STORE_NAME'])"
   ]
  },
  {
   "cell_type": "code",
   "execution_count": 70,
   "metadata": {},
   "outputs": [],
   "source": [
    "dfNovo = pd.DataFrame(dfInicial[\"DATA\"].unique().tolist(), columns=[\"DATA\"])\n",
    "\n",
    "dfModelo=dfNovo.copy()"
   ]
  },
  {
   "cell_type": "code",
   "execution_count": 72,
   "metadata": {},
   "outputs": [],
   "source": [
    "lojas = dfInicial[\"STORE\"].unique().tolist()\n",
    "\n",
    "# Criar uma lista de dfs, vai ter o número de alturas do dia certo\n",
    "dfs = [dfModelo.assign(STORE=l) for l in lojas]\n",
    "\n",
    "# Juntar tudo no mesmo dataframe\n",
    "df_Mergir = pd.concat(dfs, ignore_index=True)"
   ]
  },
  {
   "cell_type": "code",
   "execution_count": 78,
   "metadata": {},
   "outputs": [],
   "source": [
    "# Dataframe mergido no fim\n",
    "dfMeio=df_Mergir.copy()\n",
    "resto = dfInicial.columns.difference([\"DESC_ARTIGO\", \"EAN\",'SELLOUT_1_Dias_Antes' , 'STOCK_1_Dias_Antes','STORE_NAME'])\n",
    "\n",
    "for coluna in produtos:       \n",
    "    \n",
    "    #Cada dfStocks é um dataframe com o produto específico\n",
    "    dfStocks=dfInicial[dfInicial[\"DESC_ARTIGO\"]==coluna][resto]   #Dados Ninjas, seleccionar colunas do café específico\n",
    " \n",
    "    #Juntar dados de acordo com o dia e a loja\n",
    "    dfMeio=pd.merge(dfMeio, dfStocks, how=\"left\", on = [\"DATA\", \"STORE\"])  \n",
    "    \n",
    "    #Mudar nomes para ser adaptado a cada produto\n",
    "    dfMeio=dfMeio.rename(columns={\"STOCK\": \"STOCK %s\" % coluna, \"PRES_STOCK\":\"PRESLINEAR %s\" % coluna, \"INTRANSIT\":\"INTRANSIT %s\" % coluna, \"EXPECTED\":\"EXPECTED %s\" % coluna, \"SELLOUT\":\"SELLOUT %s\" % coluna})                       #Nomear coluna nova\n",
    "    \n",
    "    "
   ]
  },
  {
   "cell_type": "code",
   "execution_count": 80,
   "metadata": {},
   "outputs": [],
   "source": [
    "dfFinal = dfMeio.copy()"
   ]
  },
  {
   "cell_type": "markdown",
   "metadata": {},
   "source": [
    "# Colunas de métricas interessantes"
   ]
  },
  {
   "cell_type": "markdown",
   "metadata": {},
   "source": [
    "> - ROTURA"
   ]
  },
  {
   "cell_type": "code",
   "execution_count": 82,
   "metadata": {},
   "outputs": [],
   "source": [
    "# Definir coluna de rotura (se stock menor ou igual a 0 e existe Linear)\n",
    "\n",
    "for i in produtos:\n",
    "    rotura  = \"ROTURA %s\" % i\n",
    "    stock  = \"STOCK %s\" % i\n",
    "    preslinear = \"PRESLINEAR %s\" % i\n",
    "    \n",
    "    dfFinal[rotura] = np.where((dfFinal[stock] <= 0) & (dfFinal[preslinear] > 0), 1, 0)\n"
   ]
  },
  {
   "cell_type": "markdown",
   "metadata": {},
   "source": [
    "> - PRÉ_ROTURA"
   ]
  },
  {
   "cell_type": "code",
   "execution_count": 83,
   "metadata": {},
   "outputs": [],
   "source": [
    "# Definir coluna de rotura (se stock menor ou igual a 0)\n",
    "\n",
    "for i in produtos:\n",
    "    stock  = \"STOCK %s\" % i\n",
    "    preslinear = \"PRESLINEAR %s\" % i\n",
    "    pre_rotura= \"PRÉ-ROTURA %s\" % i\n",
    "    \n",
    "    dfFinal[pre_rotura] = (dfFinal[stock] < dfFinal[preslinear]).astype(int)"
   ]
  },
  {
   "cell_type": "markdown",
   "metadata": {},
   "source": [
    "# Métricas até 10 dias antes:\n",
    "\n",
    "- INSTRANSIT\n",
    "- EXPECTED\n",
    "- SELLOUT\n",
    "- CICLOS\n",
    "- Dias para Rotura\n",
    "- Adequação"
   ]
  },
  {
   "cell_type": "code",
   "execution_count": 29,
   "metadata": {},
   "outputs": [],
   "source": [
    "# Quantos dias antes:\n",
    "\n",
    "diaI=1         #dia inicial\n",
    "diaF=10        #dia final"
   ]
  },
  {
   "cell_type": "markdown",
   "metadata": {},
   "source": [
    "> Função"
   ]
  },
  {
   "cell_type": "code",
   "execution_count": 30,
   "metadata": {},
   "outputs": [],
   "source": [
    "# Função para colunas de dias anteriores\n",
    "def dias(df, dia, coluna):         #dia é quantos dias antes\n",
    "    \n",
    "    #\n",
    "    a=int(dia)\n",
    "\n",
    "    valores = df.groupby(['DESC_ARTIGO', 'STORE'])[coluna].transform(lambda x: x.shift(a))\n",
    "    valores[:a] = np.nan\n",
    "    \n",
    "    df.loc[:,'%s_%s_Dias_Antes' % (coluna, a)] = valores"
   ]
  },
  {
   "cell_type": "markdown",
   "metadata": {},
   "source": [
    "> - SELLOUTS"
   ]
  },
  {
   "cell_type": "code",
   "execution_count": 31,
   "metadata": {},
   "outputs": [
    {
     "name": "stdout",
     "output_type": "stream",
     "text": [
      "CPU times: total: 6.39 s\n",
      "Wall time: 6.84 s\n"
     ]
    }
   ],
   "source": [
    "%%time\n",
    "# Usar função para sellouts até 10 dias antes\n",
    "\n",
    "for i in range(diaI+1, diaF+1):\n",
    "    dias(dfFinal, i, \"SELLOUT\")"
   ]
  },
  {
   "cell_type": "markdown",
   "metadata": {},
   "source": [
    "> - STOCKS"
   ]
  },
  {
   "cell_type": "code",
   "execution_count": 32,
   "metadata": {},
   "outputs": [],
   "source": [
    "# Usar função para Stocks até 10 dias antes\n",
    "\n",
    "for i in range(diaI+1, diaF+1):\n",
    "    dias(dfFinal, i, \"STOCK\")"
   ]
  },
  {
   "cell_type": "markdown",
   "metadata": {},
   "source": [
    "> - INTRANSIT e EXPECTED"
   ]
  },
  {
   "cell_type": "code",
   "execution_count": 33,
   "metadata": {},
   "outputs": [],
   "source": [
    "# Usar função para Trânsito até 10 dias antes\n",
    "\n",
    "for i in range(diaI, diaF+1):\n",
    "    dias(dfFinal, i, \"INTRANSIT\")\n",
    "    \n",
    "for i in range(diaI, diaF+1):\n",
    "    dias(dfFinal, i, \"EXPECTED\")"
   ]
  },
  {
   "cell_type": "markdown",
   "metadata": {},
   "source": [
    "> - STK"
   ]
  },
  {
   "cell_type": "code",
   "execution_count": 34,
   "metadata": {},
   "outputs": [],
   "source": [
    "# STK do dia = soma dos stocks em loja com os stocks em trânsito no próprio dia\n",
    "\n",
    "dfFinal[\"STK\"] = dfFinal[\"STOCK\"] + dfFinal[\"INTRANSIT\"] + dfFinal[\"EXPECTED\"]\n",
    "\n",
    "for i in range(diaI, diaF+1):\n",
    "    dias(dfFinal, i, \"STK\")"
   ]
  },
  {
   "cell_type": "markdown",
   "metadata": {},
   "source": [
    "> - MSA"
   ]
  },
  {
   "cell_type": "code",
   "execution_count": 35,
   "metadata": {},
   "outputs": [],
   "source": [
    "# MSA do dia = média dos sellouts dos 10 dias anteriores ao dia em causa\n",
    "\n",
    "dfFinal[\"MSA10\"] = dfFinal.groupby(['DESC_ARTIGO', \"STORE\"])['SELLOUT'].shift(1).transform(lambda x: x.rolling(window=10).mean())\n",
    "dfFinal[\"MSA10Dp\"] = dfFinal.groupby(['DESC_ARTIGO', \"STORE\"])['SELLOUT'].shift(1).transform(lambda x: x.rolling(window=10).std())\n",
    "\n",
    "for i in range(diaI, diaF+1):\n",
    "    dias(dfFinal, i, \"MSA10\")\n",
    "\n",
    "    \n",
    "dfFinal[\"MSA20\"] = dfFinal.groupby(['DESC_ARTIGO', \"STORE\"])['SELLOUT'].shift(1).transform(lambda x: x.rolling(window=20).mean())\n",
    "dfFinal[\"MSA20Dp\"] = dfFinal.groupby(['DESC_ARTIGO', \"STORE\"])['SELLOUT'].shift(1).transform(lambda x: x.rolling(window=20).std())\n",
    "  \n",
    "for i in range(diaI, diaF+1):\n",
    "    dias(dfFinal, i, \"MSA20\")"
   ]
  },
  {
   "cell_type": "markdown",
   "metadata": {},
   "source": [
    "> - CICLOS"
   ]
  },
  {
   "cell_type": "code",
   "execution_count": 36,
   "metadata": {},
   "outputs": [],
   "source": [
    "# Coluna de Ciclos de reposição\n",
    "\n",
    "for i in produtos:\n",
    "    ciclos = \"CICLO %s\" % i\n",
    "    stock  = \"STOCK %s\" % i\n",
    "    linear = \"PRESLINEAR %s\" % i\n",
    "    dfFinal[ciclos]=dfFinal[stock]/dfFinal[linear]"
   ]
  },
  {
   "cell_type": "markdown",
   "metadata": {},
   "source": [
    "> - Dias para rotura de Stock"
   ]
  },
  {
   "cell_type": "code",
   "execution_count": 37,
   "metadata": {},
   "outputs": [],
   "source": [
    "dfFinal = dfFinal.copy()\n",
    "# Dias para a rotura mas com o Sellout médio (móvel) dos últimos 10 dias \n",
    "dfFinal[\"Dias_para_Rotura_Stock\"] = dfFinal[\"STOCK\"] / dfFinal[\"MSA10\"]\n",
    "\n",
    "for i in range(diaI, diaF+1):\n",
    "    dias(dfFinal, i, \"Dias_para_Rotura_Stock\")\n",
    "    \n",
    "for i in produtos:\n",
    "    stock  = \"STOCK %s\" % i\n",
    "    #msa = \"MSA %s\" %i\n",
    "    sellout = \"SELLOUT %s\" % i\n",
    "    dias_rotura = \"Dias_para_Rotura %s\" % i\n",
    "    \n",
    "    dfFinal[dias_rotura] = dfFinal[stock]/dfFinal[sellout]"
   ]
  },
  {
   "cell_type": "markdown",
   "metadata": {},
   "source": [
    "> - Dias para rotura de Linear"
   ]
  },
  {
   "cell_type": "code",
   "execution_count": 38,
   "metadata": {},
   "outputs": [],
   "source": [
    "# Definir a métrica: Preslinear / med(Sellouts 10 dias)\n",
    "dfFinal['Dias_Duração_Linear'] = dfFinal[\"PRES_STOCK\"] / dfFinal[\"MSA10\"]\n",
    "\n",
    "for i in range(diaI, diaF+1):\n",
    "    dias(dfFinal, i, \"Dias_Duração_Linear\")\n",
    "    \n",
    "for i in produtos:\n",
    "    linear = \"PRESLINEAR %s\" % i\n",
    "    #msa = \"MSA %s\" %i\n",
    "    sellout = \"SELLOUT %s\" % i\n",
    "    dias_rotura_prat = \"Dias_para_Rotura_Linear %s\" % i\n",
    "    \n",
    "    dfFinal[dias_rotura_prat] = dfFinal[linear] / dfFinal[sellout]"
   ]
  },
  {
   "cell_type": "markdown",
   "metadata": {},
   "source": [
    "> - Adequação de Stock"
   ]
  },
  {
   "cell_type": "code",
   "execution_count": 39,
   "metadata": {},
   "outputs": [],
   "source": [
    "# Coluna de adequação de stock\n",
    "\n",
    "\n",
    "dfFinal[\"Adequação\"]= np.where(dfFinal[\"CICLOS\"] > 1.1, \"Stock Suficiente\", \n",
    "                      np.where((dfFinal[\"CICLOS\"] <= 1.1) & (dfFinal[\"INTRANSIT\"]+dfFinal[\"EXPECTED\"]+dfFinal[\"STOCK\"]>=dfFinal[\"PRES_STOCK\"]), \"Stock Insuf c Forn Adequado\", \n",
    "                      np.where((dfFinal[\"CICLOS\"] <= 1.1) & (dfFinal[\"INTRANSIT\"]+dfFinal[\"EXPECTED\"]+dfFinal[\"STOCK\"]<dfFinal[\"PRES_STOCK\"]), \"Stock Insuf c Forn Desadequado\", \n",
    "                      \"\")))\n",
    "\n",
    "for i in range(diaI, diaF+1):\n",
    "    dias(dfFinal, i, \"Adequação\")\n",
    "    \n",
    "\n",
    "# Define the mappings of numbers to strings\n",
    "mapping = {1: \"Stock Suficiente\",\n",
    "           2: \"Stock Insuf c Forn Adequado\",\n",
    "           3: \"Stock Insuf c Forn Desadequado\"}\n",
    "\n",
    "for i in produtos:\n",
    "    adequa = \"ADEQUAÇÃO %s\" % i\n",
    "    ciclos = \"CICLO %s\" % i\n",
    "    transito = \"INTRANSIT %s\" % i\n",
    "    esperado = \"EXPECTED %s\" % i\n",
    "    stock  = \"STOCK %s\" % i\n",
    "    linear = \"PRESLINEAR %s\" % i\n",
    "    \n",
    "    dfFinal[adequa] = np.where(dfFinal[ciclos] > 1.1, 1,\n",
    "                      np.where((dfFinal[ciclos] <= 1.1) & (dfFinal[transito] + dfFinal[esperado] + dfFinal[stock] >= dfFinal[linear]), 2,\n",
    "                      np.where((dfFinal[ciclos] <= 1.1) & (dfFinal[transito] + dfFinal[esperado] + dfFinal[stock] < dfFinal[linear]), 3, \n",
    "                      np.nan)))\n",
    "    \n",
    "    # Map the numbers to the corresponding strings\n",
    "    dfFinal[adequa] = dfFinal[adequa].map(mapping)"
   ]
  },
  {
   "cell_type": "markdown",
   "metadata": {},
   "source": [
    ">- Balance: sellout / soma stock disponível mais transito."
   ]
  },
  {
   "cell_type": "code",
   "execution_count": 40,
   "metadata": {},
   "outputs": [],
   "source": [
    "# Colunas de balanço\n",
    "\n",
    "\n",
    "# Balance do dia = razão entre o sellout médio e o stock para o dia actual\n",
    "dfFinal[\"Balance\"] =  dfFinal[\"MSA10\"] / dfFinal[\"STK\"]\n",
    "\n",
    "for i in range(diaI, diaF+1):\n",
    "    \n",
    "    \n",
    "    valores = (i+1) * dfFinal[\"Balance\"].shift(i)\n",
    "    valores[:i] = np.nan\n",
    "    \n",
    "    dfFinal.loc[:,'%s_%s_Dias_Antes' % (\"Balance\", i)] = valores\n",
    "    \n",
    "    \n"
   ]
  },
  {
   "cell_type": "markdown",
   "metadata": {},
   "source": [
    ">- Balance optimizado"
   ]
  },
  {
   "cell_type": "code",
   "execution_count": 41,
   "metadata": {},
   "outputs": [],
   "source": [
    "\n",
    "\n",
    "    \n",
    "dfFinal[\"Balance_Optimized\"] = np.where((dfFinal[\"MSA10Dp\"] / dfFinal[\"MSA10\"]) * 100 > 100, dfFinal[\"MSA20\"] / dfFinal[\"STK\"],\n",
    "                                dfFinal[\"MSA10\"] / dfFinal[\"STK\"])   \n",
    "\n",
    "for i in range(diaI, diaF+1):\n",
    "    \n",
    "    \n",
    "    valores = (i+1) * dfFinal[\"Balance_Optimized\"].shift(i)\n",
    "    valores[:i] = np.nan\n",
    "    \n",
    "    dfFinal.loc[:,'%s_%s_Dias_Antes' % (\"Balance_Optimized\", i)] = valores"
   ]
  },
  {
   "cell_type": "markdown",
   "metadata": {},
   "source": [
    "> - Mediano é com o mínimo dos ultimos 10 dias"
   ]
  },
  {
   "cell_type": "code",
   "execution_count": 42,
   "metadata": {},
   "outputs": [],
   "source": [
    "# Coluna de adequação de stock\n",
    "\n",
    "\n",
    "# MSA_med do dia = mediana dos sellouts dos 10 dias anteriores (exclui o próprio dia)\n",
    "# dfFinal[\"MdSA\"] = dfFinal.groupby(['DESC_ARTIGO', \"STORE\"])['SELLOUT'].shift(1).transform(lambda x: x.rolling(window=10).median())\n",
    "\n",
    "\n",
    "# Balance do dia = razão entre o sellout médio e o stock para o dia actual\n",
    "dfFinal[\"Balance_Mediano\"] =  dfFinal.groupby(['DESC_ARTIGO', \"STORE\"])['SELLOUT'].shift(1).transform(lambda x: x.rolling(window=10).median()) / dfFinal[\"STK\"]\n",
    "\n",
    "for i in range(diaI, diaF+1):\n",
    "    \n",
    "    \n",
    "    valores = (i+1) * dfFinal[\"Balance_Mediano\"].shift(i)\n",
    "    valores[:i] = np.nan\n",
    "    \n",
    "    dfFinal.loc[:,'%s_%s_Dias_Antes' % (\"Balance_Mediano\", i)] = valores\n",
    "\n"
   ]
  },
  {
   "cell_type": "markdown",
   "metadata": {},
   "source": [
    "> - Liberal é com o mínimo dos ultimos 10 dias"
   ]
  },
  {
   "cell_type": "code",
   "execution_count": 43,
   "metadata": {},
   "outputs": [],
   "source": [
    "# Liberal\n",
    "\n",
    "\n",
    "# MSA do dia = média dos stocks dos 10 dias anteriores (exclui o próprio dia)\n",
    "#dfFinal[\"LSA\"] = dfFinal.groupby(['DESC_ARTIGO', \"STORE\"])['SELLOUT'].shift(1).transform(lambda x: x.rolling(window=10).min())\n",
    "\n",
    "\n",
    "# Balance do dia = razão entre o sellout médio e o stock para o dia actual\n",
    "dfFinal[\"Balance_Liberal\"] =  dfFinal.groupby(['DESC_ARTIGO', \"STORE\"])['SELLOUT'].shift(1).transform(lambda x: x.rolling(window=10).min()) / dfFinal[\"STK\"]\n",
    "\n",
    "for i in range(diaI, diaF+1):\n",
    "    \n",
    "    \n",
    "    valores = (i+1) * dfFinal[\"Balance_Liberal\"].shift(i)\n",
    "    valores[:i] = np.nan\n",
    "    \n",
    "    dfFinal.loc[:,'%s_%s_Dias_Antes' % (\"Balance_Liberal\", i)] = valores\n",
    "\n"
   ]
  },
  {
   "cell_type": "markdown",
   "metadata": {},
   "source": [
    "> - Conservador é com o máximo dos ultimos 10 dias"
   ]
  },
  {
   "cell_type": "code",
   "execution_count": 44,
   "metadata": {},
   "outputs": [],
   "source": [
    "# Conservador\n",
    "\n",
    "# MSA_max do dia = máximo dos stocks dos 10 dias anteriores (exclui o próprio dia)\n",
    "#dfFinal[\"CSA\"] = dfFinal.groupby(['DESC_ARTIGO', \"STORE\"])['SELLOUT'].shift(1).transform(lambda x: x.rolling(window=10).max())\n",
    " \n",
    "    \n",
    "# Balance do dia = razão entre o sellout médio e o stock para o dia actual\n",
    "dfFinal[\"Balance_Conservador\"] =  dfFinal.groupby(['DESC_ARTIGO', \"STORE\"])['SELLOUT'].shift(1).transform(lambda x: x.rolling(window=10).max()) / dfFinal[\"STK\"]\n",
    "\n",
    "for i in range(diaI, diaF+1):\n",
    "    \n",
    "    # Multiplicar os balances pelo número de dias+1 antes do dia actual\n",
    "    valores = (i+1) * dfFinal[\"Balance_Conservador\"].shift(i)\n",
    "    valores[:i] = np.nan\n",
    "    \n",
    "    dfFinal.loc[:,'%s_%s_Dias_Antes' % (\"Balance_Conservador\", i)] = valores\n",
    "\n"
   ]
  },
  {
   "cell_type": "code",
   "execution_count": 28,
   "metadata": {
    "collapsed": true
   },
   "outputs": [
    {
     "data": {
      "text/html": [
       "<div>\n",
       "<style scoped>\n",
       "    .dataframe tbody tr th:only-of-type {\n",
       "        vertical-align: middle;\n",
       "    }\n",
       "\n",
       "    .dataframe tbody tr th {\n",
       "        vertical-align: top;\n",
       "    }\n",
       "\n",
       "    .dataframe thead th {\n",
       "        text-align: right;\n",
       "    }\n",
       "</style>\n",
       "<table border=\"1\" class=\"dataframe\">\n",
       "  <thead>\n",
       "    <tr style=\"text-align: right;\">\n",
       "      <th></th>\n",
       "      <th>DATA</th>\n",
       "      <th>STORE</th>\n",
       "      <th>DESC_ARTIGO</th>\n",
       "      <th>STOCK</th>\n",
       "      <th>INTRANSIT</th>\n",
       "      <th>EXPECTED</th>\n",
       "      <th>SELLOUT</th>\n",
       "      <th>Balance</th>\n",
       "      <th>Balance_4_Dias_Antes</th>\n",
       "      <th>Balance_Liberal</th>\n",
       "      <th>Balance_Liberal_4_Dias_Antes</th>\n",
       "      <th>Balance_Mediano_4_Dias_Antes</th>\n",
       "      <th>Balance_Conservador_4_Dias_Antes</th>\n",
       "    </tr>\n",
       "  </thead>\n",
       "  <tbody>\n",
       "    <tr>\n",
       "      <th>11988342</th>\n",
       "      <td>2023-04-21</td>\n",
       "      <td>9665</td>\n",
       "      <td>CEVADA SOLÚVEL DELTA FRASCO 200G</td>\n",
       "      <td>38.0</td>\n",
       "      <td>0</td>\n",
       "      <td>0</td>\n",
       "      <td>5.0</td>\n",
       "      <td>0.128947</td>\n",
       "      <td>0.568627</td>\n",
       "      <td>0.026316</td>\n",
       "      <td>0.098039</td>\n",
       "      <td>0.490196</td>\n",
       "      <td>1.078431</td>\n",
       "    </tr>\n",
       "    <tr>\n",
       "      <th>11988343</th>\n",
       "      <td>2023-04-22</td>\n",
       "      <td>9665</td>\n",
       "      <td>CEVADA SOLÚVEL DELTA FRASCO 200G</td>\n",
       "      <td>33.0</td>\n",
       "      <td>0</td>\n",
       "      <td>0</td>\n",
       "      <td>9.0</td>\n",
       "      <td>0.151515</td>\n",
       "      <td>0.540816</td>\n",
       "      <td>0.030303</td>\n",
       "      <td>0.102041</td>\n",
       "      <td>0.459184</td>\n",
       "      <td>1.122449</td>\n",
       "    </tr>\n",
       "    <tr>\n",
       "      <th>11988344</th>\n",
       "      <td>2023-04-23</td>\n",
       "      <td>9665</td>\n",
       "      <td>CEVADA SOLÚVEL DELTA FRASCO 200G</td>\n",
       "      <td>24.0</td>\n",
       "      <td>0</td>\n",
       "      <td>0</td>\n",
       "      <td>5.0</td>\n",
       "      <td>0.233333</td>\n",
       "      <td>0.600000</td>\n",
       "      <td>0.041667</td>\n",
       "      <td>0.111111</td>\n",
       "      <td>0.500000</td>\n",
       "      <td>1.222222</td>\n",
       "    </tr>\n",
       "    <tr>\n",
       "      <th>11988345</th>\n",
       "      <td>2023-04-24</td>\n",
       "      <td>9665</td>\n",
       "      <td>CEVADA SOLÚVEL DELTA FRASCO 200G</td>\n",
       "      <td>19.0</td>\n",
       "      <td>0</td>\n",
       "      <td>6</td>\n",
       "      <td>2.0</td>\n",
       "      <td>0.224000</td>\n",
       "      <td>0.756410</td>\n",
       "      <td>0.040000</td>\n",
       "      <td>0.256410</td>\n",
       "      <td>0.641026</td>\n",
       "      <td>1.410256</td>\n",
       "    </tr>\n",
       "    <tr>\n",
       "      <th>11988346</th>\n",
       "      <td>2023-04-25</td>\n",
       "      <td>9665</td>\n",
       "      <td>CEVADA SOLÚVEL DELTA FRASCO 200G</td>\n",
       "      <td>17.0</td>\n",
       "      <td>6</td>\n",
       "      <td>6</td>\n",
       "      <td>1.0</td>\n",
       "      <td>0.182759</td>\n",
       "      <td>0.644737</td>\n",
       "      <td>0.034483</td>\n",
       "      <td>0.131579</td>\n",
       "      <td>0.592105</td>\n",
       "      <td>1.315789</td>\n",
       "    </tr>\n",
       "    <tr>\n",
       "      <th>11988347</th>\n",
       "      <td>2023-04-26</td>\n",
       "      <td>9665</td>\n",
       "      <td>CEVADA SOLÚVEL DELTA FRASCO 200G</td>\n",
       "      <td>22.0</td>\n",
       "      <td>6</td>\n",
       "      <td>0</td>\n",
       "      <td>0.0</td>\n",
       "      <td>0.157143</td>\n",
       "      <td>0.757576</td>\n",
       "      <td>0.035714</td>\n",
       "      <td>0.151515</td>\n",
       "      <td>0.757576</td>\n",
       "      <td>1.515152</td>\n",
       "    </tr>\n",
       "    <tr>\n",
       "      <th>11988348</th>\n",
       "      <td>2023-04-27</td>\n",
       "      <td>9665</td>\n",
       "      <td>CEVADA SOLÚVEL DELTA FRASCO 200G</td>\n",
       "      <td>22.0</td>\n",
       "      <td>6</td>\n",
       "      <td>6</td>\n",
       "      <td>0.0</td>\n",
       "      <td>0.102941</td>\n",
       "      <td>1.166667</td>\n",
       "      <td>0.000000</td>\n",
       "      <td>0.208333</td>\n",
       "      <td>1.041667</td>\n",
       "      <td>2.083333</td>\n",
       "    </tr>\n",
       "    <tr>\n",
       "      <th>11988349</th>\n",
       "      <td>2023-04-28</td>\n",
       "      <td>9665</td>\n",
       "      <td>CEVADA SOLÚVEL DELTA FRASCO 200G</td>\n",
       "      <td>28.0</td>\n",
       "      <td>6</td>\n",
       "      <td>18</td>\n",
       "      <td>2.0</td>\n",
       "      <td>0.063462</td>\n",
       "      <td>1.120000</td>\n",
       "      <td>0.000000</td>\n",
       "      <td>0.200000</td>\n",
       "      <td>1.000000</td>\n",
       "      <td>2.000000</td>\n",
       "    </tr>\n",
       "    <tr>\n",
       "      <th>11988350</th>\n",
       "      <td>2023-04-29</td>\n",
       "      <td>9665</td>\n",
       "      <td>CEVADA SOLÚVEL DELTA FRASCO 200G</td>\n",
       "      <td>32.0</td>\n",
       "      <td>0</td>\n",
       "      <td>18</td>\n",
       "      <td>5.0</td>\n",
       "      <td>0.062000</td>\n",
       "      <td>0.913793</td>\n",
       "      <td>0.000000</td>\n",
       "      <td>0.172414</td>\n",
       "      <td>0.862069</td>\n",
       "      <td>1.724138</td>\n",
       "    </tr>\n",
       "    <tr>\n",
       "      <th>11988351</th>\n",
       "      <td>2023-04-30</td>\n",
       "      <td>9665</td>\n",
       "      <td>CEVADA SOLÚVEL DELTA FRASCO 200G</td>\n",
       "      <td>27.0</td>\n",
       "      <td>0</td>\n",
       "      <td>24</td>\n",
       "      <td>14.0</td>\n",
       "      <td>0.058824</td>\n",
       "      <td>0.785714</td>\n",
       "      <td>0.000000</td>\n",
       "      <td>0.178571</td>\n",
       "      <td>0.803571</td>\n",
       "      <td>1.607143</td>\n",
       "    </tr>\n",
       "    <tr>\n",
       "      <th>11988352</th>\n",
       "      <td>2023-05-01</td>\n",
       "      <td>9665</td>\n",
       "      <td>CEVADA SOLÚVEL DELTA FRASCO 200G</td>\n",
       "      <td>13.0</td>\n",
       "      <td>0</td>\n",
       "      <td>24</td>\n",
       "      <td>2.0</td>\n",
       "      <td>0.116216</td>\n",
       "      <td>0.514706</td>\n",
       "      <td>0.000000</td>\n",
       "      <td>0.000000</td>\n",
       "      <td>0.441176</td>\n",
       "      <td>1.323529</td>\n",
       "    </tr>\n",
       "    <tr>\n",
       "      <th>11988353</th>\n",
       "      <td>2023-05-02</td>\n",
       "      <td>9665</td>\n",
       "      <td>CEVADA SOLÚVEL DELTA FRASCO 200G</td>\n",
       "      <td>11.0</td>\n",
       "      <td>18</td>\n",
       "      <td>12</td>\n",
       "      <td>6.0</td>\n",
       "      <td>0.097561</td>\n",
       "      <td>0.317308</td>\n",
       "      <td>0.000000</td>\n",
       "      <td>0.000000</td>\n",
       "      <td>0.288462</td>\n",
       "      <td>0.865385</td>\n",
       "    </tr>\n",
       "    <tr>\n",
       "      <th>11988354</th>\n",
       "      <td>2023-05-03</td>\n",
       "      <td>9665</td>\n",
       "      <td>CEVADA SOLÚVEL DELTA FRASCO 200G</td>\n",
       "      <td>29.0</td>\n",
       "      <td>0</td>\n",
       "      <td>18</td>\n",
       "      <td>17.0</td>\n",
       "      <td>0.078723</td>\n",
       "      <td>0.310000</td>\n",
       "      <td>0.000000</td>\n",
       "      <td>0.000000</td>\n",
       "      <td>0.200000</td>\n",
       "      <td>0.900000</td>\n",
       "    </tr>\n",
       "    <tr>\n",
       "      <th>11988355</th>\n",
       "      <td>2023-05-04</td>\n",
       "      <td>9665</td>\n",
       "      <td>CEVADA SOLÚVEL DELTA FRASCO 200G</td>\n",
       "      <td>12.0</td>\n",
       "      <td>0</td>\n",
       "      <td>42</td>\n",
       "      <td>1.0</td>\n",
       "      <td>0.090741</td>\n",
       "      <td>0.294118</td>\n",
       "      <td>0.000000</td>\n",
       "      <td>0.000000</td>\n",
       "      <td>0.196078</td>\n",
       "      <td>0.882353</td>\n",
       "    </tr>\n",
       "    <tr>\n",
       "      <th>11988356</th>\n",
       "      <td>2023-05-05</td>\n",
       "      <td>9665</td>\n",
       "      <td>CEVADA SOLÚVEL DELTA FRASCO 200G</td>\n",
       "      <td>17.0</td>\n",
       "      <td>12</td>\n",
       "      <td>30</td>\n",
       "      <td>6.0</td>\n",
       "      <td>0.081356</td>\n",
       "      <td>0.581081</td>\n",
       "      <td>0.000000</td>\n",
       "      <td>0.000000</td>\n",
       "      <td>0.472973</td>\n",
       "      <td>1.891892</td>\n",
       "    </tr>\n",
       "    <tr>\n",
       "      <th>11988357</th>\n",
       "      <td>2023-05-06</td>\n",
       "      <td>9665</td>\n",
       "      <td>CEVADA SOLÚVEL DELTA FRASCO 200G</td>\n",
       "      <td>23.0</td>\n",
       "      <td>30</td>\n",
       "      <td>0</td>\n",
       "      <td>7.0</td>\n",
       "      <td>0.100000</td>\n",
       "      <td>0.487805</td>\n",
       "      <td>0.000000</td>\n",
       "      <td>0.000000</td>\n",
       "      <td>0.243902</td>\n",
       "      <td>1.707317</td>\n",
       "    </tr>\n",
       "    <tr>\n",
       "      <th>11988358</th>\n",
       "      <td>2023-05-07</td>\n",
       "      <td>9665</td>\n",
       "      <td>CEVADA SOLÚVEL DELTA FRASCO 200G</td>\n",
       "      <td>46.0</td>\n",
       "      <td>0</td>\n",
       "      <td>0</td>\n",
       "      <td>9.0</td>\n",
       "      <td>0.130435</td>\n",
       "      <td>0.393617</td>\n",
       "      <td>0.000000</td>\n",
       "      <td>0.000000</td>\n",
       "      <td>0.212766</td>\n",
       "      <td>1.489362</td>\n",
       "    </tr>\n",
       "    <tr>\n",
       "      <th>11988359</th>\n",
       "      <td>2023-05-08</td>\n",
       "      <td>9665</td>\n",
       "      <td>CEVADA SOLÚVEL DELTA FRASCO 200G</td>\n",
       "      <td>37.0</td>\n",
       "      <td>0</td>\n",
       "      <td>0</td>\n",
       "      <td>8.0</td>\n",
       "      <td>0.186486</td>\n",
       "      <td>0.453704</td>\n",
       "      <td>0.027027</td>\n",
       "      <td>0.000000</td>\n",
       "      <td>0.185185</td>\n",
       "      <td>1.574074</td>\n",
       "    </tr>\n",
       "    <tr>\n",
       "      <th>11988360</th>\n",
       "      <td>2023-05-09</td>\n",
       "      <td>9665</td>\n",
       "      <td>CEVADA SOLÚVEL DELTA FRASCO 200G</td>\n",
       "      <td>29.0</td>\n",
       "      <td>0</td>\n",
       "      <td>18</td>\n",
       "      <td>3.0</td>\n",
       "      <td>0.159574</td>\n",
       "      <td>0.406780</td>\n",
       "      <td>0.021277</td>\n",
       "      <td>0.000000</td>\n",
       "      <td>0.169492</td>\n",
       "      <td>1.440678</td>\n",
       "    </tr>\n",
       "    <tr>\n",
       "      <th>11988361</th>\n",
       "      <td>2023-05-10</td>\n",
       "      <td>9665</td>\n",
       "      <td>CEVADA SOLÚVEL DELTA FRASCO 200G</td>\n",
       "      <td>26.0</td>\n",
       "      <td>18</td>\n",
       "      <td>6</td>\n",
       "      <td>0.0</td>\n",
       "      <td>0.146000</td>\n",
       "      <td>0.500000</td>\n",
       "      <td>0.020000</td>\n",
       "      <td>0.000000</td>\n",
       "      <td>0.330189</td>\n",
       "      <td>1.603774</td>\n",
       "    </tr>\n",
       "  </tbody>\n",
       "</table>\n",
       "</div>"
      ],
      "text/plain": [
       "                DATA  STORE                       DESC_ARTIGO  STOCK  \\\n",
       "11988342  2023-04-21   9665  CEVADA SOLÚVEL DELTA FRASCO 200G   38.0   \n",
       "11988343  2023-04-22   9665  CEVADA SOLÚVEL DELTA FRASCO 200G   33.0   \n",
       "11988344  2023-04-23   9665  CEVADA SOLÚVEL DELTA FRASCO 200G   24.0   \n",
       "11988345  2023-04-24   9665  CEVADA SOLÚVEL DELTA FRASCO 200G   19.0   \n",
       "11988346  2023-04-25   9665  CEVADA SOLÚVEL DELTA FRASCO 200G   17.0   \n",
       "11988347  2023-04-26   9665  CEVADA SOLÚVEL DELTA FRASCO 200G   22.0   \n",
       "11988348  2023-04-27   9665  CEVADA SOLÚVEL DELTA FRASCO 200G   22.0   \n",
       "11988349  2023-04-28   9665  CEVADA SOLÚVEL DELTA FRASCO 200G   28.0   \n",
       "11988350  2023-04-29   9665  CEVADA SOLÚVEL DELTA FRASCO 200G   32.0   \n",
       "11988351  2023-04-30   9665  CEVADA SOLÚVEL DELTA FRASCO 200G   27.0   \n",
       "11988352  2023-05-01   9665  CEVADA SOLÚVEL DELTA FRASCO 200G   13.0   \n",
       "11988353  2023-05-02   9665  CEVADA SOLÚVEL DELTA FRASCO 200G   11.0   \n",
       "11988354  2023-05-03   9665  CEVADA SOLÚVEL DELTA FRASCO 200G   29.0   \n",
       "11988355  2023-05-04   9665  CEVADA SOLÚVEL DELTA FRASCO 200G   12.0   \n",
       "11988356  2023-05-05   9665  CEVADA SOLÚVEL DELTA FRASCO 200G   17.0   \n",
       "11988357  2023-05-06   9665  CEVADA SOLÚVEL DELTA FRASCO 200G   23.0   \n",
       "11988358  2023-05-07   9665  CEVADA SOLÚVEL DELTA FRASCO 200G   46.0   \n",
       "11988359  2023-05-08   9665  CEVADA SOLÚVEL DELTA FRASCO 200G   37.0   \n",
       "11988360  2023-05-09   9665  CEVADA SOLÚVEL DELTA FRASCO 200G   29.0   \n",
       "11988361  2023-05-10   9665  CEVADA SOLÚVEL DELTA FRASCO 200G   26.0   \n",
       "\n",
       "          INTRANSIT  EXPECTED  SELLOUT   Balance  Balance_4_Dias_Antes  \\\n",
       "11988342          0         0      5.0  0.128947              0.568627   \n",
       "11988343          0         0      9.0  0.151515              0.540816   \n",
       "11988344          0         0      5.0  0.233333              0.600000   \n",
       "11988345          0         6      2.0  0.224000              0.756410   \n",
       "11988346          6         6      1.0  0.182759              0.644737   \n",
       "11988347          6         0      0.0  0.157143              0.757576   \n",
       "11988348          6         6      0.0  0.102941              1.166667   \n",
       "11988349          6        18      2.0  0.063462              1.120000   \n",
       "11988350          0        18      5.0  0.062000              0.913793   \n",
       "11988351          0        24     14.0  0.058824              0.785714   \n",
       "11988352          0        24      2.0  0.116216              0.514706   \n",
       "11988353         18        12      6.0  0.097561              0.317308   \n",
       "11988354          0        18     17.0  0.078723              0.310000   \n",
       "11988355          0        42      1.0  0.090741              0.294118   \n",
       "11988356         12        30      6.0  0.081356              0.581081   \n",
       "11988357         30         0      7.0  0.100000              0.487805   \n",
       "11988358          0         0      9.0  0.130435              0.393617   \n",
       "11988359          0         0      8.0  0.186486              0.453704   \n",
       "11988360          0        18      3.0  0.159574              0.406780   \n",
       "11988361         18         6      0.0  0.146000              0.500000   \n",
       "\n",
       "          Balance_Liberal  Balance_Liberal_4_Dias_Antes  \\\n",
       "11988342         0.026316                      0.098039   \n",
       "11988343         0.030303                      0.102041   \n",
       "11988344         0.041667                      0.111111   \n",
       "11988345         0.040000                      0.256410   \n",
       "11988346         0.034483                      0.131579   \n",
       "11988347         0.035714                      0.151515   \n",
       "11988348         0.000000                      0.208333   \n",
       "11988349         0.000000                      0.200000   \n",
       "11988350         0.000000                      0.172414   \n",
       "11988351         0.000000                      0.178571   \n",
       "11988352         0.000000                      0.000000   \n",
       "11988353         0.000000                      0.000000   \n",
       "11988354         0.000000                      0.000000   \n",
       "11988355         0.000000                      0.000000   \n",
       "11988356         0.000000                      0.000000   \n",
       "11988357         0.000000                      0.000000   \n",
       "11988358         0.000000                      0.000000   \n",
       "11988359         0.027027                      0.000000   \n",
       "11988360         0.021277                      0.000000   \n",
       "11988361         0.020000                      0.000000   \n",
       "\n",
       "          Balance_Mediano_4_Dias_Antes  Balance_Conservador_4_Dias_Antes  \n",
       "11988342                      0.490196                          1.078431  \n",
       "11988343                      0.459184                          1.122449  \n",
       "11988344                      0.500000                          1.222222  \n",
       "11988345                      0.641026                          1.410256  \n",
       "11988346                      0.592105                          1.315789  \n",
       "11988347                      0.757576                          1.515152  \n",
       "11988348                      1.041667                          2.083333  \n",
       "11988349                      1.000000                          2.000000  \n",
       "11988350                      0.862069                          1.724138  \n",
       "11988351                      0.803571                          1.607143  \n",
       "11988352                      0.441176                          1.323529  \n",
       "11988353                      0.288462                          0.865385  \n",
       "11988354                      0.200000                          0.900000  \n",
       "11988355                      0.196078                          0.882353  \n",
       "11988356                      0.472973                          1.891892  \n",
       "11988357                      0.243902                          1.707317  \n",
       "11988358                      0.212766                          1.489362  \n",
       "11988359                      0.185185                          1.574074  \n",
       "11988360                      0.169492                          1.440678  \n",
       "11988361                      0.330189                          1.603774  "
      ]
     },
     "execution_count": 28,
     "metadata": {},
     "output_type": "execute_result"
    }
   ],
   "source": [
    "dfFinal[[\"DATA\",\"STORE\",\"DESC_ARTIGO\",\"STOCK\",\"INTRANSIT\",\"EXPECTED\",\"SELLOUT\",\"Balance\",\"Balance_4_Dias_Antes\",\"Balance_Liberal\",\"Balance_Liberal_4_Dias_Antes\",\"Balance_Mediano_4_Dias_Antes\",\"Balance_Conservador_4_Dias_Antes\"]].tail(20)"
   ]
  },
  {
   "cell_type": "markdown",
   "metadata": {},
   "source": [
    "# Escrever"
   ]
  },
  {
   "cell_type": "markdown",
   "metadata": {},
   "source": [
    "- 0's e 1's"
   ]
  },
  {
   "cell_type": "code",
   "execution_count": 45,
   "metadata": {},
   "outputs": [],
   "source": [
    "# Novo dataframe que apenas inclui dias em que existe a 1ª rotura e o dia anterior a essa rotura\n",
    "\n",
    "# Tirar 1's depois do primeiro\n",
    "dfFinalLimitado = dfFinal[~((dfFinal[\"ROTURA\"] == 1) & (dfFinal[\"ROTURA\"].shift(1) == 1))].copy()\n",
    "\n",
    "# Apenas incluir primeira rotura\n",
    "dfFinalLimitadoRoturas = dfFinal[((dfFinal[\"ROTURA\"] == 1) & (dfFinal[\"ROTURA\"].shift(1) == 0))].copy() #| ((dfFinal[\"ROTURA\"] == 0) & (dfFinal[\"ROTURA\"].shift(-1) == 1))]"
   ]
  },
  {
   "cell_type": "markdown",
   "metadata": {},
   "source": [
    "- Dias certos"
   ]
  },
  {
   "cell_type": "markdown",
   "metadata": {},
   "source": [
    "dfFinal = dfFinal.loc[(dfFinal['DATA'] >= '2023-01-01') ].copy()\n",
    "df_DiasCertos = dfFinalLimitado.loc[(dfFinalLimitado['DATA'] >= '2023-01-01') ].copy()\n",
    "df_RoturasDiasCertos = dfFinalLimitadoRoturas.loc[(dfFinalLimitadoRoturas['DATA'] >= '2023-01-01') ].copy()"
   ]
  },
  {
   "cell_type": "markdown",
   "metadata": {},
   "source": [
    "- Passar para csv"
   ]
  },
  {
   "cell_type": "code",
   "execution_count": 46,
   "metadata": {},
   "outputs": [
    {
     "name": "stdout",
     "output_type": "stream",
     "text": [
      "CPU times: total: 4min 24s\n",
      "Wall time: 5min 20s\n"
     ]
    }
   ],
   "source": [
    "%%time\n",
    "\n",
    "escrever_csv(dfFinal, \"Stocks_Delta_2022_10prod_Métricas\")\n",
    "escrever_csv(dfFinalLimitado, \"Stocks_Delta_2022_10prod_Métricas_Limpo\")\n",
    "escrever_csv(dfFinalLimitadoRoturas, \"Stocks_Delta_2022_10prod_Métricas_SóRoturas\")"
   ]
  }
 ],
 "metadata": {
  "kernelspec": {
   "display_name": "Python 3 (ipykernel)",
   "language": "python",
   "name": "python3"
  },
  "language_info": {
   "codemirror_mode": {
    "name": "ipython",
    "version": 3
   },
   "file_extension": ".py",
   "mimetype": "text/x-python",
   "name": "python",
   "nbconvert_exporter": "python",
   "pygments_lexer": "ipython3",
   "version": "3.10.9"
  }
 },
 "nbformat": 4,
 "nbformat_minor": 2
}
