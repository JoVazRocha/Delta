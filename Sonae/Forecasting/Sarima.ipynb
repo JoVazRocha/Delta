{
 "cells": [
  {
   "cell_type": "code",
   "execution_count": 1,
   "id": "dc0985a3",
   "metadata": {
    "collapsed": true
   },
   "outputs": [
    {
     "name": "stdout",
     "output_type": "stream",
     "text": [
      "Collecting pmdarima\n",
      "  Downloading pmdarima-2.0.3-cp310-cp310-win_amd64.whl (569 kB)\n",
      "     ---------------------------------------- 0.0/569.7 kB ? eta -:--:--\n",
      "     ----------------- -------------------- 266.2/569.7 kB 5.4 MB/s eta 0:00:01\n",
      "     -------------------------------------  563.2/569.7 kB 7.1 MB/s eta 0:00:01\n",
      "     -------------------------------------- 569.7/569.7 kB 6.0 MB/s eta 0:00:00\n",
      "Requirement already satisfied: statsmodels>=0.13.2 in c:\\users\\joao_\\anaconda3_recent\\lib\\site-packages (from pmdarima) (0.13.5)\n",
      "Requirement already satisfied: setuptools!=50.0.0,>=38.6.0 in c:\\users\\joao_\\anaconda3_recent\\lib\\site-packages (from pmdarima) (65.6.3)\n",
      "Requirement already satisfied: Cython!=0.29.18,!=0.29.31,>=0.29 in c:\\users\\joao_\\anaconda3_recent\\lib\\site-packages (from pmdarima) (0.29.35)\n",
      "Requirement already satisfied: pandas>=0.19 in c:\\users\\joao_\\anaconda3_recent\\lib\\site-packages (from pmdarima) (1.5.3)\n",
      "Requirement already satisfied: scikit-learn>=0.22 in c:\\users\\joao_\\anaconda3_recent\\lib\\site-packages (from pmdarima) (1.2.1)\n",
      "Requirement already satisfied: joblib>=0.11 in c:\\users\\joao_\\anaconda3_recent\\lib\\site-packages (from pmdarima) (1.1.1)\n",
      "Requirement already satisfied: urllib3 in c:\\users\\joao_\\anaconda3_recent\\lib\\site-packages (from pmdarima) (1.26.14)\n",
      "Requirement already satisfied: scipy>=1.3.2 in c:\\users\\joao_\\anaconda3_recent\\lib\\site-packages (from pmdarima) (1.10.0)\n",
      "Requirement already satisfied: numpy>=1.21.2 in c:\\users\\joao_\\anaconda3_recent\\lib\\site-packages (from pmdarima) (1.23.5)\n",
      "Requirement already satisfied: pytz>=2020.1 in c:\\users\\joao_\\anaconda3_recent\\lib\\site-packages (from pandas>=0.19->pmdarima) (2022.7)\n",
      "Requirement already satisfied: python-dateutil>=2.8.1 in c:\\users\\joao_\\anaconda3_recent\\lib\\site-packages (from pandas>=0.19->pmdarima) (2.8.2)\n",
      "Requirement already satisfied: threadpoolctl>=2.0.0 in c:\\users\\joao_\\anaconda3_recent\\lib\\site-packages (from scikit-learn>=0.22->pmdarima) (2.2.0)\n",
      "Requirement already satisfied: patsy>=0.5.2 in c:\\users\\joao_\\anaconda3_recent\\lib\\site-packages (from statsmodels>=0.13.2->pmdarima) (0.5.3)\n",
      "Requirement already satisfied: packaging>=21.3 in c:\\users\\joao_\\anaconda3_recent\\lib\\site-packages (from statsmodels>=0.13.2->pmdarima) (22.0)\n",
      "Requirement already satisfied: six in c:\\users\\joao_\\anaconda3_recent\\lib\\site-packages (from patsy>=0.5.2->statsmodels>=0.13.2->pmdarima) (1.16.0)\n",
      "Installing collected packages: pmdarima\n",
      "Successfully installed pmdarima-2.0.3\n"
     ]
    }
   ],
   "source": [
    "!pip install pmdarima"
   ]
  },
  {
   "cell_type": "code",
   "execution_count": 2,
   "id": "d1de5cfb",
   "metadata": {},
   "outputs": [],
   "source": [
    "import pandas as pd\n",
    "from pmdarima import auto_arima"
   ]
  },
  {
   "cell_type": "markdown",
   "id": "be5ab8dc",
   "metadata": {},
   "source": [
    "# Ler"
   ]
  },
  {
   "cell_type": "code",
   "execution_count": 3,
   "id": "3bfc48c2",
   "metadata": {},
   "outputs": [
    {
     "name": "stdout",
     "output_type": "stream",
     "text": [
      "CPU times: total: 18 s\n",
      "Wall time: 19.1 s\n"
     ]
    }
   ],
   "source": [
    "%%time\n",
    "original1 = pd.read_csv(\"D:\\\\B&N Dados\\\\Delta\\\\Stocks\\\\Stocks2022\\\\Stocks_Delta_2022_Limpo.csv\")\n",
    "original2 = pd.read_csv(\"D:\\\\B&N Dados\\\\Delta\\\\Stocks\\\\Stocks2023\\\\Stocks_Delta_2023_Limpo.csv\")"
   ]
  },
  {
   "cell_type": "code",
   "execution_count": 4,
   "id": "0fa24c12",
   "metadata": {},
   "outputs": [
    {
     "name": "stdout",
     "output_type": "stream",
     "text": [
      "CPU times: total: 2.62 s\n",
      "Wall time: 2.64 s\n"
     ]
    }
   ],
   "source": [
    "%%time\n",
    "original = pd.concat([original1,original2], ignore_index=True)\n",
    "original[\"DATA\"] = pd.to_datetime(original[\"DATA\"])\n"
   ]
  },
  {
   "cell_type": "code",
   "execution_count": 5,
   "id": "1eb9300c",
   "metadata": {},
   "outputs": [
    {
     "name": "stdout",
     "output_type": "stream",
     "text": [
      "CPU times: total: 5.53 s\n",
      "Wall time: 11.8 s\n"
     ]
    }
   ],
   "source": [
    "%%time\n",
    "base_original = original.copy()\n",
    "base_original[\"DATA\"] = pd.to_datetime(base_original[\"DATA\"])\n",
    "base_original = base_original.set_index(\"DATA\")"
   ]
  },
  {
   "cell_type": "markdown",
   "id": "1074c666",
   "metadata": {},
   "source": [
    "> Produtos e lojas alvo"
   ]
  },
  {
   "cell_type": "code",
   "execution_count": 8,
   "id": "5cb79cf7",
   "metadata": {},
   "outputs": [],
   "source": [
    "# Ler ficheiro para dataframe\n",
    "df_produtos = pd.read_csv('D:\\\\B&N Dados\\\\Delta\\\\Piloto\\\\produtos.txt', header=None)\n",
    "df_lojas = pd.read_csv('D:\\\\B&N Dados\\\\Delta\\\\Piloto\\\\lojas.txt', header=None)\n",
    "\n",
    "# Passar para uma lista\n",
    "produtos = df_produtos[0].tolist()\n",
    "lojas = df_lojas[0].tolist()#base_original[\"STORE\"].unique().tolist()"
   ]
  },
  {
   "cell_type": "markdown",
   "id": "69990d1e",
   "metadata": {},
   "source": [
    "# Treino e teste"
   ]
  },
  {
   "cell_type": "code",
   "execution_count": null,
   "id": "45cb1e69",
   "metadata": {},
   "outputs": [],
   "source": [
    "train = df.loc[df.index < '01-01-2023'].copy()\n",
    "test = df.loc[df.index >= '01-01-2023'].copy()"
   ]
  }
 ],
 "metadata": {
  "kernelspec": {
   "display_name": "Python 3 (ipykernel)",
   "language": "python",
   "name": "python3"
  },
  "language_info": {
   "codemirror_mode": {
    "name": "ipython",
    "version": 3
   },
   "file_extension": ".py",
   "mimetype": "text/x-python",
   "name": "python",
   "nbconvert_exporter": "python",
   "pygments_lexer": "ipython3",
   "version": "3.10.9"
  }
 },
 "nbformat": 4,
 "nbformat_minor": 5
}
