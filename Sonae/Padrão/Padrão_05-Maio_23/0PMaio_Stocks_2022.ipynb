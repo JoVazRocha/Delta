{
 "cells": [
  {
   "cell_type": "markdown",
   "metadata": {},
   "source": [
    "# Resumo do código\n",
    "\n",
    ">### Entra: StocksDelta2022  \n",
    ">### Sai: 2_Delta_2022Id\n",
    "---\n",
    "O objectivo é receber dados dos ficheiros totais da Delta e devolver um ficheiro com os dados dos produtos e das lojas relevantes para o estudo da evolução do padrão de vendas (dias homólogos do ano anterior). \n",
    "\n",
    "Devolve um ficheiro que pode entrar no código 2 para juntar aos dados dos ninjas.\n",
    "\n",
    "---\n",
    "- Inputs\n",
    "\n",
    "> __Dados da Delta Todos__: Lojas e produtos todos\n",
    "> - Todas as métricas possíveis de retirar só dos dados Delta\n",
    "\n",
    "\n",
    "- Outputs\n",
    "\n",
    "> **2_Delta_2022Id**:\n",
    "> - Ficheiro com todas as métricas nas datas homólogas correspondentes aos dias em que ocorreram as missões\n"
   ]
  },
  {
   "cell_type": "code",
   "execution_count": 36,
   "metadata": {},
   "outputs": [],
   "source": [
    "import pandas as pd\n",
    "import numpy as np\n",
    "\n",
    "def escrever_excel(dfa, nome):\n",
    "    dfa.to_excel('%s.xlsx' %nome, index=False)\n",
    "    \n",
    "def escrever_csv(dfa, nome):\n",
    "    dfa.to_csv(nome+'.csv', index=False)"
   ]
  },
  {
   "cell_type": "markdown",
   "metadata": {},
   "source": [
    "# Ler ficheiro com tudo e os específicos"
   ]
  },
  {
   "cell_type": "markdown",
   "metadata": {},
   "source": [
    "- Tudo"
   ]
  },
  {
   "cell_type": "code",
   "execution_count": 41,
   "metadata": {},
   "outputs": [
    {
     "name": "stdout",
     "output_type": "stream",
     "text": [
      "CPU times: total: 14.2 s\n",
      "Wall time: 21.1 s\n"
     ]
    }
   ],
   "source": [
    "%%time\n",
    "dfTudo=pd.read_csv('D:\\\\B&N Dados\\\\Delta\\\\Stocks2022\\\\StocksDelta2022.csv')"
   ]
  },
  {
   "cell_type": "markdown",
   "metadata": {},
   "source": [
    "> Passar para datetime"
   ]
  },
  {
   "cell_type": "code",
   "execution_count": 42,
   "metadata": {},
   "outputs": [],
   "source": [
    "dfTudo = dfTudo.rename(columns={'Dia_Actual': 'SELLOUT', \"1_Dia_Antes\":\"SELLOUT_1_Dias_Antes\"})\n",
    "dfTudo['DATA']= pd.to_datetime(dfTudo['DATA'], format='%Y-%m-%d')"
   ]
  },
  {
   "cell_type": "markdown",
   "metadata": {},
   "source": [
    "# Encontrar os nomes no dataFrame de tudo"
   ]
  },
  {
   "cell_type": "code",
   "execution_count": 43,
   "metadata": {},
   "outputs": [],
   "source": [
    "#dfTudo['DESC_ARTIGO'].sort_values().unique()\n",
    "\n",
    "\n",
    "#Lojas:\n",
    "                  #Reposição=Sim\n",
    "#CNT AMADORA\n",
    "#CNT BRAGA\n",
    "#CNT CASCAIS\n",
    "#CNT COIMBRASHOPPING\n",
    "#CNT MATOSINHOS\n",
    "                  #Reposição=Não\n",
    "#CNT LEIRIA\n",
    "#CNT SANTAREM\n",
    "#CNT VIANA\n",
    "#MDL T. VEDRAS                                              \n",
    "#CNT PORTIMÃO\n",
    "\n",
    "#CAFÉ DELTA Q QALIDUS 80CAP\n",
    "#CAFÉ DELTA Q MYTHIQ 80CAP\n",
    "#CAFÉ DELTA Q QALIDUS 10CAP\n",
    "#CAFÉ MOÍDO MÁQUINA CHÁVENA DELTA 250G\n",
    "#CAFÉ BELLISSIMO INTENSO 200GR\n",
    "#CAFÉ DELTA RITUAL MU 220G\n",
    "#CAFÉ SOLÚVEL DELTA FRASCO 200G\n",
    "#CAFÉ SOLÚVEL DELTA FRASCO 100G\n",
    "#CEVADA SOLÚVEL DELTA FRASCO 200G\n",
    "\n",
    "#Produto novo"
   ]
  },
  {
   "cell_type": "markdown",
   "metadata": {},
   "source": [
    "# Fazer subsets da dataFrame total"
   ]
  },
  {
   "cell_type": "markdown",
   "metadata": {},
   "source": [
    "> - Por loja e produto"
   ]
  },
  {
   "cell_type": "code",
   "execution_count": 44,
   "metadata": {},
   "outputs": [],
   "source": [
    "# Ler ficheiro para dataframe\n",
    "df_produtos = pd.read_csv('D:\\\\B&N Dados\\\\Delta\\\\Padrão_05_2023\\\\produtos.txt', header=None)\n",
    "df_lojas = pd.read_csv('D:\\\\B&N Dados\\\\Delta\\\\Padrão_05_2023\\\\lojas.csv', header=None)\n",
    "\n",
    "# Passar para uma lista\n",
    "produtos = df_produtos[0].tolist()\n",
    "lojas = df_lojas[0].tolist()\n",
    "\n",
    "# Definir o dataframe final apenas tendo em conta as lojas e os produtos requeridos\n",
    "dfFinal = dfTudo[dfTudo['STORE'].isin(lojas) & dfTudo['DESC_ARTIGO'].isin(produtos)].copy()"
   ]
  },
  {
   "cell_type": "markdown",
   "metadata": {},
   "source": [
    "> - Datas homólogas"
   ]
  },
  {
   "cell_type": "code",
   "execution_count": 46,
   "metadata": {},
   "outputs": [],
   "source": [
    "dfFinal=dfFinal.loc[(dfFinal['DATA'] >= '2022-04-27') & (dfFinal['DATA'] <= '2022-04-29')].copy()"
   ]
  },
  {
   "cell_type": "markdown",
   "metadata": {},
   "source": [
    "# Temos\n",
    "- dfFinal com dados Delta nos dias específicos\n",
    "\n",
    "# Queremos\n",
    "- id"
   ]
  },
  {
   "cell_type": "markdown",
   "metadata": {},
   "source": [
    " - Criar um **índice** para cada dia"
   ]
  },
  {
   "cell_type": "code",
   "execution_count": 48,
   "metadata": {},
   "outputs": [],
   "source": [
    "df=dfFinal.copy()\n",
    "\n",
    "# Extract the day and month components from the 'datetime' column\n",
    "df['day'] = pd.to_datetime(df['DATA']).dt.day\n",
    "df['month'] = pd.to_datetime(df['DATA']).dt.month\n",
    "\n",
    "# Create a new column combining day and month\n",
    "df['day_month'] = df['day'].astype(str) + '-' + df['month'].astype(str)\n",
    "\n",
    "# Assign unique IDs to each unique day-month combination\n",
    "df['id'], _ = pd.factorize(df['day_month'])\n",
    "\n",
    "df = df.drop(columns=['day', 'month', 'day_month'])"
   ]
  },
  {
   "cell_type": "markdown",
   "metadata": {},
   "source": [
    "# Temos:\n",
    "- Uma base apenas com os fins de semana em causa com todas as métricas que estavam até agora mais a **Semana**, o **Dia** e o **Id** para poder ser mergido."
   ]
  },
  {
   "cell_type": "markdown",
   "metadata": {},
   "source": [
    "# Escrever"
   ]
  },
  {
   "cell_type": "code",
   "execution_count": 50,
   "metadata": {},
   "outputs": [],
   "source": [
    "escrever_excel(df, \"2_Delta_2022Id\")"
   ]
  },
  {
   "cell_type": "markdown",
   "metadata": {},
   "source": [
    "# Média de Stock por loja e produto"
   ]
  },
  {
   "cell_type": "code",
   "execution_count": 19,
   "metadata": {},
   "outputs": [],
   "source": [
    "file1MedSto = dfFdsPiloto.groupby(['STORE_NAME', 'DESC_ARTIGO'])['SOH'].mean().reset_index()\n",
    "file1StdSto = dfFdsPiloto.groupby(['STORE_NAME', 'DESC_ARTIGO'])['SOH'].std().reset_index()\n",
    "\n",
    "stocks1 = pd.merge(file1MedSto, file1StdSto[['STORE_NAME', 'DESC_ARTIGO', 'SOH']], on=['STORE_NAME', 'DESC_ARTIGO'])\n",
    "stocks1 = stocks1.rename(columns={'SOH_x': 'Stock_médio_Fds', 'SOH_y': 'sdSto'})"
   ]
  }
 ],
 "metadata": {
  "kernelspec": {
   "display_name": "Python 3 (ipykernel)",
   "language": "python",
   "name": "python3"
  },
  "language_info": {
   "codemirror_mode": {
    "name": "ipython",
    "version": 3
   },
   "file_extension": ".py",
   "mimetype": "text/x-python",
   "name": "python",
   "nbconvert_exporter": "python",
   "pygments_lexer": "ipython3",
   "version": "3.10.9"
  }
 },
 "nbformat": 4,
 "nbformat_minor": 2
}
