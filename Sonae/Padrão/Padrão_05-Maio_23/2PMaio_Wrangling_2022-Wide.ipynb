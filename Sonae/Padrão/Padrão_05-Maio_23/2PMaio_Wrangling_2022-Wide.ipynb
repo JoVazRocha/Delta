{
 "cells": [
  {
   "cell_type": "markdown",
   "metadata": {},
   "source": [
    "# Resumo do código\n",
    "\n",
    "\n",
    ">### Entra: 1_Ninjas e 2_Delta  \n",
    ">### Sai: OUT_2_DataFusion_2022\n",
    "---\n",
    "O objectivo é receber dados dos Ninjas e da Delta e devolver um ficheiro Wide que permita verificar o comportamento de vários produtos em diversas lojas através de representações gráficas. \n",
    "\n",
    "Devolve um ficheiro que entra no R para os dados de 2022\n",
    "\n",
    "---\n",
    "> Input\n",
    "> - Única diferença é coluna Id que deve corresponder à ordem dos dias (porque os dias homólogos não coincidem no número)\n",
    "\n",
    "> Output\n",
    "> - O mesmo de 2PilotoWide, embora nem todas as métricas sejam necessárias"
   ]
  },
  {
   "cell_type": "code",
   "execution_count": 41,
   "metadata": {},
   "outputs": [],
   "source": [
    "import pandas as pd\n",
    "import numpy as np\n",
    "\n",
    "def escrever_excel(dfa, nome):\n",
    "    dfa.to_excel('%s.xlsx' %nome, index=False)\n",
    "    \n",
    "def escrever_csv(dfa, nome):\n",
    "    dfa.to_csv(nome+'.csv', index=False)"
   ]
  },
  {
   "cell_type": "markdown",
   "metadata": {},
   "source": [
    "# Ler"
   ]
  },
  {
   "cell_type": "markdown",
   "metadata": {},
   "source": [
    "- # `Ninjas (sinal)`"
   ]
  },
  {
   "cell_type": "code",
   "execution_count": 42,
   "metadata": {},
   "outputs": [],
   "source": [
    "#Info Ninja\n",
    "dfNinjas=pd.read_excel(\"D:\\\\B&N Dados\\\\Delta\\\\Padrão_05_2023\\\\1Ninjas_Limpo.xlsx\")"
   ]
  },
  {
   "cell_type": "markdown",
   "metadata": {},
   "source": [
    "> Definir variáveis importantes\n",
    "> - Se houver um ficheiro com os produtos"
   ]
  },
  {
   "cell_type": "code",
   "execution_count": 43,
   "metadata": {},
   "outputs": [],
   "source": [
    "# Ler ficheiro para dataframe\n",
    "df_produtos = pd.read_csv('D:\\\\B&N Dados\\\\Delta\\\\Padrão_05_2023\\\\produtos.txt', header=None)\n",
    "\n",
    "# Passar para uma lista\n",
    "produtos = df_produtos[0].tolist()\n",
    "resto = dfNinjas.columns.difference(produtos)"
   ]
  },
  {
   "cell_type": "markdown",
   "metadata": {},
   "source": [
    "> - Se se quiser usar o primeiro e o último produtos"
   ]
  },
  {
   "cell_type": "markdown",
   "metadata": {
    "scrolled": true
   },
   "source": [
    "# Nomes de entrada\n",
    "x= input(\"Primeiro produto: \")                # CAFÉ DELTA Q MYTHIQ 80CAP\n",
    "y= input(\"Último produto: \")                  # BEBIDA CEREAIS DELTA C/20%CAFE FR 200G\n",
    "\n",
    "# Passar para uma lista\n",
    "produtos = dfNinjas.columns[dfNinjas.columns.get_loc(x): dfNinjas.columns.get_loc(y)+1].tolist()\n",
    "resto = dfNinjas.columns.difference(produtos)"
   ]
  },
  {
   "cell_type": "markdown",
   "metadata": {},
   "source": [
    "> - Semana"
   ]
  },
  {
   "cell_type": "markdown",
   "metadata": {},
   "source": [
    "dfNinjas['Semana'] = dfNinjas['DATA'].dt.isocalendar().week\n",
    "\n",
    "dfNinjas['Semana'] = dfNinjas.groupby('Semana').ngroup() + 1"
   ]
  },
  {
   "cell_type": "markdown",
   "metadata": {},
   "source": [
    "> - Id"
   ]
  },
  {
   "cell_type": "code",
   "execution_count": 44,
   "metadata": {},
   "outputs": [],
   "source": [
    "# Extract the day and month components from the 'datetime' column\n",
    "dfNinjas['day'] = pd.to_datetime(dfNinjas['DATA']).dt.day\n",
    "dfNinjas['month'] = pd.to_datetime(dfNinjas['DATA']).dt.month\n",
    "\n",
    "# Create a new column combining day and month\n",
    "dfNinjas['day_month'] = dfNinjas['day'].astype(str) + '-' + dfNinjas['month'].astype(str)\n",
    "\n",
    "# Assign unique IDs to each unique day-month combination\n",
    "dfNinjas['id'], _ = pd.factorize(dfNinjas['day_month'])\n",
    "\n",
    "dfNinjas = dfNinjas.drop(columns=['day', 'month', 'day_month'])"
   ]
  },
  {
   "cell_type": "markdown",
   "metadata": {},
   "source": [
    "- #  `Delta (stocks, reposição e sellouts)`"
   ]
  },
  {
   "cell_type": "markdown",
   "metadata": {},
   "source": [
    "> Stocks"
   ]
  },
  {
   "cell_type": "code",
   "execution_count": 46,
   "metadata": {},
   "outputs": [],
   "source": [
    "# Ler o ficheiro long com Stocks e Fornecimento\n",
    "dfDelta=pd.read_excel(\"D:\\\\B&N Dados\\\\Delta\\\\Padrão_05_2023\\\\2_Delta_2022Id.xlsx\", sheet_name=\"Sheet1\")"
   ]
  },
  {
   "cell_type": "markdown",
   "metadata": {},
   "source": [
    "# VER"
   ]
  },
  {
   "cell_type": "code",
   "execution_count": 47,
   "metadata": {
    "jupyter": {
     "outputs_hidden": true
    }
   },
   "outputs": [],
   "source": [
    "#dfNinjas.head()\n",
    "#dfDelta.info()"
   ]
  },
  {
   "cell_type": "markdown",
   "metadata": {},
   "source": [
    "# <font color=green>Mergir</font>"
   ]
  },
  {
   "cell_type": "code",
   "execution_count": 37,
   "metadata": {},
   "outputs": [],
   "source": [
    "# Dataframe mergido no fim\n",
    "dfMeio=dfNinjas.copy()\n",
    "\n",
    "\n",
    "for coluna in produtos:       \n",
    "    \n",
    "    #Cada dfStocks é um dataframe com o produto específico\n",
    "    dfStocks=dfDelta[dfDelta[\"DESC_ARTIGO\"]==coluna][[\"id\", \"STORE\", \"SOH\", \"PRES_STOCK\", \"INTRANSIT\", \"EXPECTED\", \"SELLOUT\"]]   #Dados Ninjas, seleccionar colunas do café específico\n",
    "    \n",
    "    #Juntar dados de acordo com o dia e a loja\n",
    "    dfMeio=pd.merge(dfMeio, dfStocks, how=\"left\", on = [\"id\",\"STORE\"])  \n",
    "    \n",
    "    #Mudar nomes para ser adaptado a cada produto\n",
    "    dfMeio=dfMeio.rename(columns={\"SOH\": \"STOCK_1_Dias_Antes %s\" % coluna, \"PRES_STOCK\":\"PRESLINEAR %s\" % coluna, \"INTRANSIT\":\"INTRANSIT %s\" % coluna, \"EXPECTED\":\"EXPECTED %s\" % coluna, \"SELLOUT\":\"SELLOUT %s\" % coluna})                       #Nomear coluna nova\n",
    "    \n",
    "    "
   ]
  },
  {
   "cell_type": "code",
   "execution_count": 39,
   "metadata": {},
   "outputs": [],
   "source": [
    "dfFinal=dfMeio.copy()"
   ]
  },
  {
   "cell_type": "markdown",
   "metadata": {},
   "source": [
    "### <font color=green>Fim</font>"
   ]
  },
  {
   "cell_type": "markdown",
   "metadata": {},
   "source": [
    "# Já temos DataFrame com:\n",
    "- Informação Ninjas\n",
    "- Informação Stocks, Linear, Intransit e Expected\n",
    "- Informação Sellouts, Vendedor, Reposição\n",
    "\n",
    "## Fazer:\n",
    "\n",
    "- Rotura\n",
    "- Sinal -> Avaliação da informação ninja vs stock\n",
    "- Ciclos\n",
    "- Adequação de Stock"
   ]
  },
  {
   "cell_type": "markdown",
   "metadata": {},
   "source": [
    "> Rotura"
   ]
  },
  {
   "cell_type": "code",
   "execution_count": 165,
   "metadata": {},
   "outputs": [],
   "source": [
    "for i in produtos:\n",
    "    rotura  = \"ROTURA %s\" % i\n",
    "    stock  = \"STOCK %s\" % i\n",
    "    preslinear = \"PRESLINEAR %s\" % i\n",
    "    \n",
    "    dfFinal[rotura] = np.where((dfFinal[stock] > 0) & ~(dfFinal[i].isna()), 0, \n",
    "                      np.where((dfFinal[stock] <= 0) & (dfFinal[preslinear] > 0) & ~(dfFinal[i].isna()), 1, \n",
    "                      np.nan))\n"
   ]
  },
  {
   "cell_type": "markdown",
   "metadata": {},
   "source": [
    "> Pré-Rotura"
   ]
  },
  {
   "cell_type": "code",
   "execution_count": 166,
   "metadata": {},
   "outputs": [],
   "source": [
    "for i in produtos:\n",
    "    stock  = \"STOCK %s\" % i\n",
    "    preslinear = \"PRESLINEAR %s\" % i\n",
    "    pre_rotura= \"PRÉ-ROTURA %s\" % i\n",
    "    \n",
    "    dfFinal[pre_rotura] = (dfFinal[stock] < dfFinal[preslinear]).astype(int)"
   ]
  },
  {
   "cell_type": "markdown",
   "metadata": {},
   "source": [
    ">Sinal"
   ]
  },
  {
   "cell_type": "code",
   "execution_count": 167,
   "metadata": {},
   "outputs": [],
   "source": [
    "#dfFinal[\"Sinal\"]= pd.Series(dtype='int')\n",
    "\n",
    "# Define the mappings of numbers to strings\n",
    "mapping = {1: \"Verdadeiramente Correcto\",\n",
    "           2: \"Falso Positivo\",\n",
    "           3: \"Falso Negativo\",\n",
    "           4: \"Rejeição Correcta\"}\n",
    "\n",
    "for i in produtos:\n",
    "    sinal = \"SINAL %s\" % i\n",
    "    stock  = \"STOCK %s\" % i\n",
    "    \n",
    "    dfFinal[sinal] = np.where((dfFinal[stock] > 0) & (dfFinal[i] == 1), \"Verdadeiramente Correcto\",\n",
    "                     np.where((dfFinal[stock] > 0) & (dfFinal[i] == 0), \"Falso Positivo\",\n",
    "                     np.where((dfFinal[stock] <= 0) & (dfFinal[i] == 1), \"Falso Negativo\",\n",
    "                     np.where((dfFinal[stock] <= 0) & (dfFinal[i] == 0), \"Rejeição Correcta\", np.nan))))\n",
    "\n",
    "    # Map the numbers to the corresponding strings\n",
    "    dfFinal[sinal] = dfFinal[sinal].map(mapping)\n",
    "    \n",
    "    \n",
    "\n",
    "# 1: Há Stock e Sinal Positivo Ninja\n",
    "# 2: Há Stock e Sinal Negativo Ninja\n",
    "# 3: Não há Stock e Sinal Positivo Ninja\n",
    "# 4: Não há Stock e Sinal Negativo Ninja"
   ]
  },
  {
   "cell_type": "markdown",
   "metadata": {},
   "source": [
    "> Ciclos"
   ]
  },
  {
   "cell_type": "code",
   "execution_count": 168,
   "metadata": {},
   "outputs": [],
   "source": [
    "for i in produtos:\n",
    "    ciclos = \"CICLO %s\" % i\n",
    "    stock  = \"STOCK %s\" % i\n",
    "    linear = \"PRESLINEAR %s\" % i\n",
    "    dfFinal[ciclos]=dfFinal[stock]/dfFinal[linear]"
   ]
  },
  {
   "cell_type": "markdown",
   "metadata": {},
   "source": [
    "> Adequação"
   ]
  },
  {
   "cell_type": "code",
   "execution_count": 169,
   "metadata": {},
   "outputs": [],
   "source": [
    "# Define the mappings of numbers to strings\n",
    "mapping = {1: \"Stock Suficiente\",\n",
    "           2: \"Stock Insuf c Forn Adequado\",\n",
    "           3: \"Stock Insuf c Forn Desadequado\"}\n",
    "\n",
    "for i in produtos:\n",
    "    adequa = \"ADEQUAÇÃO %s\" % i\n",
    "    ciclos = \"CICLO %s\" % i\n",
    "    transito = \"INTRANSIT %s\" % i\n",
    "    esperado = \"EXPECTED %s\" % i\n",
    "    stock  = \"STOCK %s\" % i\n",
    "    linear = \"PRESLINEAR %s\" % i\n",
    "    \n",
    "    dfFinal[adequa] = np.where(dfFinal[ciclos] > 1.1, \"Stock Suficiente\",\n",
    "                      np.where((dfFinal[ciclos] <= 1.1) & (dfFinal[transito] + dfFinal[esperado] + dfFinal[stock] >= dfFinal[linear]), \"Stock Insuf c Forn Adequado\",\n",
    "                      np.where((dfFinal[ciclos] <= 1.1) & (dfFinal[transito] + dfFinal[esperado] + dfFinal[stock] < dfFinal[linear]), \"Stock Insuf c Forn Desadequado\", \n",
    "                      np.nan)))\n",
    "    \n",
    "    # Map the numbers to the corresponding strings\n",
    "    dfFinal[adequa] = dfFinal[adequa].map(mapping)"
   ]
  },
  {
   "cell_type": "markdown",
   "metadata": {},
   "source": [
    "- Dias para a rotura"
   ]
  },
  {
   "cell_type": "code",
   "execution_count": 170,
   "metadata": {},
   "outputs": [],
   "source": [
    "for i in produtos:\n",
    "    stock  = \"STOCK %s\" % i\n",
    "    sellout = \"SELLOUT %s\" % i\n",
    "    dias_rotura = \"Dias_para_Rotura %s\" % i\n",
    "    \n",
    "    dfFinal[dias_rotura]=dfFinal[stock]/dfFinal[sellout]"
   ]
  },
  {
   "cell_type": "markdown",
   "metadata": {},
   "source": [
    "- Dias para a rotura de prateleira"
   ]
  },
  {
   "cell_type": "code",
   "execution_count": 171,
   "metadata": {},
   "outputs": [],
   "source": [
    "for i in produtos:\n",
    "    linear = \"PRESLINEAR %s\" % i\n",
    "    sellout = \"SELLOUT %s\" % i\n",
    "    dias_rotura_prat = \"Dias_para_Rotura_Linear %s\" % i\n",
    "    \n",
    "    dfFinal[dias_rotura] = dfFinal[linear] / dfFinal[sellout]"
   ]
  },
  {
   "cell_type": "markdown",
   "metadata": {},
   "source": [
    "- Balanço"
   ]
  },
  {
   "cell_type": "code",
   "execution_count": 172,
   "metadata": {},
   "outputs": [],
   "source": [
    "for i in produtos:\n",
    "    balanço = \"BALANCE %s\" % i\n",
    "    stock  = \"STOCK %s\" % i\n",
    "    sellout = \"SELLOUT %s\" % i\n",
    "    transito = \"INTRANSIT %s\" % i\n",
    "    esperado = \"EXPECTED %s\" % i\n",
    "    \n",
    "    dfFinal[balanço] = dfFinal[sellout] / (dfFinal[stock] + dfFinal[transito] + dfFinal[esperado])"
   ]
  },
  {
   "cell_type": "markdown",
   "metadata": {},
   "source": [
    "# Acabamos com:\n",
    "- Informação Ninjas\n",
    "- Informação Stocks, Linear, Intransit e Expected\n",
    "- Informação Sellouts, Vendedor, Reposição\n",
    "- Rotura\n",
    "- Pré-Rotura\n",
    "- Sinal \n",
    "- Ciclos\n",
    "- Adequação de Stock\n",
    "- Dias para a rotura normal\n",
    "- Dias para a rotura móvel XXXXXXXXXXX\n",
    "- Dias para a rotura de prateleira\n",
    "- Balanço"
   ]
  },
  {
   "cell_type": "markdown",
   "metadata": {},
   "source": [
    "# Escrever"
   ]
  },
  {
   "cell_type": "code",
   "execution_count": 40,
   "metadata": {},
   "outputs": [],
   "source": [
    "escrever_excel(dfFinal, \"OUT_2_DataFusion_2022\")\n",
    "#dfFinalCorr.to_csv('ficheiro_NSS.csv', index=False)"
   ]
  }
 ],
 "metadata": {
  "kernelspec": {
   "display_name": "Python 3 (ipykernel)",
   "language": "python",
   "name": "python3"
  },
  "language_info": {
   "codemirror_mode": {
    "name": "ipython",
    "version": 3
   },
   "file_extension": ".py",
   "mimetype": "text/x-python",
   "name": "python",
   "nbconvert_exporter": "python",
   "pygments_lexer": "ipython3",
   "version": "3.10.9"
  }
 },
 "nbformat": 4,
 "nbformat_minor": 4
}
