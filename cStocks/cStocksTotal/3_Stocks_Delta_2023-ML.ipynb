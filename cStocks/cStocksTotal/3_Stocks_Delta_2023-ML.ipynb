{
 "cells": [
  {
   "cell_type": "markdown",
   "metadata": {},
   "source": [
    "# Resumo do código\n",
    "\n",
    "### <u>Código que gera os ficheiros para estudo do comportamento da Delta</u>\n",
    "---\n",
    "O objectivo é receber dados da Delta e devolver um conjunto de métricas para prever roturas. Devolve um ficheiro que pode entrar no código 1 para juntar aos dados dos ninjas.\n",
    "\n",
    "---\n",
    "- Inputs\n",
    "\n",
    "> __Dados completos da Delta em pastas de ficheiros__ (de azul a verde)\n",
    "> - Stocks e trânsito, Sellout do dia anterior\n",
    "\n",
    "                    ou\n",
    "\n",
    "> __Ficheiro já completo__ (de vermelho a verde)\n",
    "> - Stocks e trânsito, Sellout do dia anterior\n",
    "\n",
    "- Outputs\n",
    "\n",
    "> __Ficheiro com produtos em causa__ em formato Long\n",
    "\n",
    "> __Métricas novas:__\n",
    "> - Roturas de Stock e Pré-rotura\n",
    "> - Sinal\n",
    "> - Ciclos e Adequação de Stock\n",
    "> - MSA (média de sellouts 10 dias antes)\n",
    "> - STK (Stock disponível + trânsito)\n",
    "> - (Novo) Balanço médio, mediano, liberal e conservador \n",
    "> - (Novo) Dias para a rotura de stock e de prateleira\n"
   ]
  },
  {
   "cell_type": "code",
   "execution_count": 86,
   "metadata": {
    "scrolled": true
   },
   "outputs": [
    {
     "name": "stdout",
     "output_type": "stream",
     "text": [
      "CPU times: total: 0 ns\n",
      "Wall time: 0 ns\n"
     ]
    }
   ],
   "source": [
    "%%time\n",
    "import pandas as pd\n",
    "import numpy as np\n",
    "import datetime\n",
    "\n",
    "\n",
    "def escrever_csv(dfa, nome): \n",
    "    dfa.to_csv('D:\\\\B&N Dados\\\\Delta\\\\Piloto\\\\%s.csv' %nome, index=False)"
   ]
  },
  {
   "cell_type": "code",
   "execution_count": 89,
   "metadata": {},
   "outputs": [],
   "source": [
    "oi=pd.read_csv('D:\\\\B&N Dados\\\\Delta\\\\Piloto\\\\Métricas3060120_Piloto.csv')"
   ]
  },
  {
   "cell_type": "code",
   "execution_count": 90,
   "metadata": {},
   "outputs": [
    {
     "data": {
      "text/html": [
       "<div>\n",
       "<style scoped>\n",
       "    .dataframe tbody tr th:only-of-type {\n",
       "        vertical-align: middle;\n",
       "    }\n",
       "\n",
       "    .dataframe tbody tr th {\n",
       "        vertical-align: top;\n",
       "    }\n",
       "\n",
       "    .dataframe thead th {\n",
       "        text-align: right;\n",
       "    }\n",
       "</style>\n",
       "<table border=\"1\" class=\"dataframe\">\n",
       "  <thead>\n",
       "    <tr style=\"text-align: right;\">\n",
       "      <th></th>\n",
       "      <th>DATA</th>\n",
       "      <th>EAN</th>\n",
       "      <th>DESC_ARTIGO</th>\n",
       "      <th>STORE</th>\n",
       "      <th>STORE_NAME</th>\n",
       "      <th>INTRANSIT</th>\n",
       "      <th>EXPECTED</th>\n",
       "      <th>PRES_STOCK</th>\n",
       "      <th>STOCK</th>\n",
       "      <th>STOCK_1_Dias_Antes</th>\n",
       "      <th>...</th>\n",
       "      <th>Balance_Conservador_1_Dias_Antes</th>\n",
       "      <th>Balance_Conservador_2_Dias_Antes</th>\n",
       "      <th>Balance_Conservador_3_Dias_Antes</th>\n",
       "      <th>Balance_Conservador_4_Dias_Antes</th>\n",
       "      <th>Balance_Conservador_5_Dias_Antes</th>\n",
       "      <th>Balance_Conservador_6_Dias_Antes</th>\n",
       "      <th>Balance_Conservador_7_Dias_Antes</th>\n",
       "      <th>Balance_Conservador_8_Dias_Antes</th>\n",
       "      <th>Balance_Conservador_9_Dias_Antes</th>\n",
       "      <th>Balance_Conservador_10_Dias_Antes</th>\n",
       "    </tr>\n",
       "  </thead>\n",
       "  <tbody>\n",
       "    <tr>\n",
       "      <th>0</th>\n",
       "      <td>2023-04-14</td>\n",
       "      <td>5609060007087</td>\n",
       "      <td>BEBIDA CEREAIS DELTA C/20%CAFE FR 200G</td>\n",
       "      <td>1</td>\n",
       "      <td>CNT MATOSINHOS</td>\n",
       "      <td>0</td>\n",
       "      <td>0</td>\n",
       "      <td>56</td>\n",
       "      <td>74.0</td>\n",
       "      <td>80.0</td>\n",
       "      <td>...</td>\n",
       "      <td>0.400000</td>\n",
       "      <td>0.545455</td>\n",
       "      <td>0.633663</td>\n",
       "      <td>0.761905</td>\n",
       "      <td>0.897196</td>\n",
       "      <td>0.770642</td>\n",
       "      <td>0.512000</td>\n",
       "      <td>0.517986</td>\n",
       "      <td>0.347222</td>\n",
       "      <td>0.320388</td>\n",
       "    </tr>\n",
       "    <tr>\n",
       "      <th>1</th>\n",
       "      <td>2023-04-15</td>\n",
       "      <td>5609060007087</td>\n",
       "      <td>BEBIDA CEREAIS DELTA C/20%CAFE FR 200G</td>\n",
       "      <td>1</td>\n",
       "      <td>CNT MATOSINHOS</td>\n",
       "      <td>0</td>\n",
       "      <td>0</td>\n",
       "      <td>56</td>\n",
       "      <td>59.0</td>\n",
       "      <td>74.0</td>\n",
       "      <td>...</td>\n",
       "      <td>0.432432</td>\n",
       "      <td>0.600000</td>\n",
       "      <td>0.727273</td>\n",
       "      <td>0.792079</td>\n",
       "      <td>0.914286</td>\n",
       "      <td>1.046729</td>\n",
       "      <td>0.880734</td>\n",
       "      <td>0.576000</td>\n",
       "      <td>0.575540</td>\n",
       "      <td>0.381944</td>\n",
       "    </tr>\n",
       "    <tr>\n",
       "      <th>2</th>\n",
       "      <td>2023-04-16</td>\n",
       "      <td>5609060007087</td>\n",
       "      <td>BEBIDA CEREAIS DELTA C/20%CAFE FR 200G</td>\n",
       "      <td>1</td>\n",
       "      <td>CNT MATOSINHOS</td>\n",
       "      <td>0</td>\n",
       "      <td>0</td>\n",
       "      <td>56</td>\n",
       "      <td>46.0</td>\n",
       "      <td>59.0</td>\n",
       "      <td>...</td>\n",
       "      <td>0.542373</td>\n",
       "      <td>0.648649</td>\n",
       "      <td>0.800000</td>\n",
       "      <td>0.909091</td>\n",
       "      <td>0.950495</td>\n",
       "      <td>1.066667</td>\n",
       "      <td>1.196262</td>\n",
       "      <td>0.990826</td>\n",
       "      <td>0.640000</td>\n",
       "      <td>0.633094</td>\n",
       "    </tr>\n",
       "    <tr>\n",
       "      <th>3</th>\n",
       "      <td>2023-04-21</td>\n",
       "      <td>5609060007087</td>\n",
       "      <td>BEBIDA CEREAIS DELTA C/20%CAFE FR 200G</td>\n",
       "      <td>1</td>\n",
       "      <td>CNT MATOSINHOS</td>\n",
       "      <td>0</td>\n",
       "      <td>84</td>\n",
       "      <td>56</td>\n",
       "      <td>143.0</td>\n",
       "      <td>65.0</td>\n",
       "      <td>...</td>\n",
       "      <td>0.461538</td>\n",
       "      <td>0.483871</td>\n",
       "      <td>1.185185</td>\n",
       "      <td>1.600000</td>\n",
       "      <td>2.086957</td>\n",
       "      <td>1.898305</td>\n",
       "      <td>1.729730</td>\n",
       "      <td>1.800000</td>\n",
       "      <td>1.818182</td>\n",
       "      <td>1.742574</td>\n",
       "    </tr>\n",
       "    <tr>\n",
       "      <th>4</th>\n",
       "      <td>2023-04-22</td>\n",
       "      <td>5609060007087</td>\n",
       "      <td>BEBIDA CEREAIS DELTA C/20%CAFE FR 200G</td>\n",
       "      <td>1</td>\n",
       "      <td>CNT MATOSINHOS</td>\n",
       "      <td>0</td>\n",
       "      <td>0</td>\n",
       "      <td>56</td>\n",
       "      <td>135.0</td>\n",
       "      <td>143.0</td>\n",
       "      <td>...</td>\n",
       "      <td>0.132159</td>\n",
       "      <td>0.692308</td>\n",
       "      <td>0.645161</td>\n",
       "      <td>1.481481</td>\n",
       "      <td>1.920000</td>\n",
       "      <td>2.434783</td>\n",
       "      <td>2.169492</td>\n",
       "      <td>1.945946</td>\n",
       "      <td>2.000000</td>\n",
       "      <td>2.000000</td>\n",
       "    </tr>\n",
       "    <tr>\n",
       "      <th>...</th>\n",
       "      <td>...</td>\n",
       "      <td>...</td>\n",
       "      <td>...</td>\n",
       "      <td>...</td>\n",
       "      <td>...</td>\n",
       "      <td>...</td>\n",
       "      <td>...</td>\n",
       "      <td>...</td>\n",
       "      <td>...</td>\n",
       "      <td>...</td>\n",
       "      <td>...</td>\n",
       "      <td>...</td>\n",
       "      <td>...</td>\n",
       "      <td>...</td>\n",
       "      <td>...</td>\n",
       "      <td>...</td>\n",
       "      <td>...</td>\n",
       "      <td>...</td>\n",
       "      <td>...</td>\n",
       "      <td>...</td>\n",
       "      <td>...</td>\n",
       "    </tr>\n",
       "    <tr>\n",
       "      <th>1195</th>\n",
       "      <td>2023-04-29</td>\n",
       "      <td>5609060007070</td>\n",
       "      <td>CEVADA SOLÚVEL DELTA FRASCO 200G</td>\n",
       "      <td>459</td>\n",
       "      <td>CNT BRAGA</td>\n",
       "      <td>0</td>\n",
       "      <td>0</td>\n",
       "      <td>64</td>\n",
       "      <td>582.0</td>\n",
       "      <td>610.0</td>\n",
       "      <td>...</td>\n",
       "      <td>0.055300</td>\n",
       "      <td>0.115016</td>\n",
       "      <td>0.222576</td>\n",
       "      <td>0.683646</td>\n",
       "      <td>0.796875</td>\n",
       "      <td>2.462069</td>\n",
       "      <td>2.472727</td>\n",
       "      <td>2.428571</td>\n",
       "      <td>2.405660</td>\n",
       "      <td>2.407725</td>\n",
       "    </tr>\n",
       "    <tr>\n",
       "      <th>1196</th>\n",
       "      <td>2023-04-30</td>\n",
       "      <td>5609060007070</td>\n",
       "      <td>CEVADA SOLÚVEL DELTA FRASCO 200G</td>\n",
       "      <td>459</td>\n",
       "      <td>CNT BRAGA</td>\n",
       "      <td>0</td>\n",
       "      <td>0</td>\n",
       "      <td>64</td>\n",
       "      <td>566.0</td>\n",
       "      <td>582.0</td>\n",
       "      <td>...</td>\n",
       "      <td>0.082474</td>\n",
       "      <td>0.082949</td>\n",
       "      <td>0.153355</td>\n",
       "      <td>0.278219</td>\n",
       "      <td>0.820375</td>\n",
       "      <td>0.929688</td>\n",
       "      <td>2.813793</td>\n",
       "      <td>2.781818</td>\n",
       "      <td>2.698413</td>\n",
       "      <td>2.646226</td>\n",
       "    </tr>\n",
       "    <tr>\n",
       "      <th>1197</th>\n",
       "      <td>2023-05-05</td>\n",
       "      <td>5609060007070</td>\n",
       "      <td>CEVADA SOLÚVEL DELTA FRASCO 200G</td>\n",
       "      <td>459</td>\n",
       "      <td>CNT BRAGA</td>\n",
       "      <td>0</td>\n",
       "      <td>276</td>\n",
       "      <td>64</td>\n",
       "      <td>243.0</td>\n",
       "      <td>221.0</td>\n",
       "      <td>...</td>\n",
       "      <td>0.547284</td>\n",
       "      <td>0.620438</td>\n",
       "      <td>0.266075</td>\n",
       "      <td>0.261194</td>\n",
       "      <td>0.296820</td>\n",
       "      <td>0.288660</td>\n",
       "      <td>0.221198</td>\n",
       "      <td>0.345048</td>\n",
       "      <td>0.556439</td>\n",
       "      <td>1.504021</td>\n",
       "    </tr>\n",
       "    <tr>\n",
       "      <th>1198</th>\n",
       "      <td>2023-05-06</td>\n",
       "      <td>5609060007070</td>\n",
       "      <td>CEVADA SOLÚVEL DELTA FRASCO 200G</td>\n",
       "      <td>459</td>\n",
       "      <td>CNT BRAGA</td>\n",
       "      <td>0</td>\n",
       "      <td>252</td>\n",
       "      <td>64</td>\n",
       "      <td>328.0</td>\n",
       "      <td>243.0</td>\n",
       "      <td>...</td>\n",
       "      <td>0.524085</td>\n",
       "      <td>0.820926</td>\n",
       "      <td>0.827251</td>\n",
       "      <td>0.332594</td>\n",
       "      <td>0.313433</td>\n",
       "      <td>0.346290</td>\n",
       "      <td>0.329897</td>\n",
       "      <td>0.248848</td>\n",
       "      <td>0.383387</td>\n",
       "      <td>0.612083</td>\n",
       "    </tr>\n",
       "    <tr>\n",
       "      <th>1199</th>\n",
       "      <td>2023-05-07</td>\n",
       "      <td>5609060007070</td>\n",
       "      <td>CEVADA SOLÚVEL DELTA FRASCO 200G</td>\n",
       "      <td>459</td>\n",
       "      <td>CNT BRAGA</td>\n",
       "      <td>0</td>\n",
       "      <td>72</td>\n",
       "      <td>64</td>\n",
       "      <td>246.0</td>\n",
       "      <td>328.0</td>\n",
       "      <td>...</td>\n",
       "      <td>0.468966</td>\n",
       "      <td>0.786127</td>\n",
       "      <td>1.094567</td>\n",
       "      <td>1.034063</td>\n",
       "      <td>0.399113</td>\n",
       "      <td>0.365672</td>\n",
       "      <td>0.395760</td>\n",
       "      <td>0.371134</td>\n",
       "      <td>0.276498</td>\n",
       "      <td>0.421725</td>\n",
       "    </tr>\n",
       "  </tbody>\n",
       "</table>\n",
       "<p>1200 rows × 238 columns</p>\n",
       "</div>"
      ],
      "text/plain": [
       "            DATA            EAN                             DESC_ARTIGO  \\\n",
       "0     2023-04-14  5609060007087  BEBIDA CEREAIS DELTA C/20%CAFE FR 200G   \n",
       "1     2023-04-15  5609060007087  BEBIDA CEREAIS DELTA C/20%CAFE FR 200G   \n",
       "2     2023-04-16  5609060007087  BEBIDA CEREAIS DELTA C/20%CAFE FR 200G   \n",
       "3     2023-04-21  5609060007087  BEBIDA CEREAIS DELTA C/20%CAFE FR 200G   \n",
       "4     2023-04-22  5609060007087  BEBIDA CEREAIS DELTA C/20%CAFE FR 200G   \n",
       "...          ...            ...                                     ...   \n",
       "1195  2023-04-29  5609060007070        CEVADA SOLÚVEL DELTA FRASCO 200G   \n",
       "1196  2023-04-30  5609060007070        CEVADA SOLÚVEL DELTA FRASCO 200G   \n",
       "1197  2023-05-05  5609060007070        CEVADA SOLÚVEL DELTA FRASCO 200G   \n",
       "1198  2023-05-06  5609060007070        CEVADA SOLÚVEL DELTA FRASCO 200G   \n",
       "1199  2023-05-07  5609060007070        CEVADA SOLÚVEL DELTA FRASCO 200G   \n",
       "\n",
       "      STORE      STORE_NAME  INTRANSIT  EXPECTED  PRES_STOCK  STOCK  \\\n",
       "0         1  CNT MATOSINHOS          0         0          56   74.0   \n",
       "1         1  CNT MATOSINHOS          0         0          56   59.0   \n",
       "2         1  CNT MATOSINHOS          0         0          56   46.0   \n",
       "3         1  CNT MATOSINHOS          0        84          56  143.0   \n",
       "4         1  CNT MATOSINHOS          0         0          56  135.0   \n",
       "...     ...             ...        ...       ...         ...    ...   \n",
       "1195    459       CNT BRAGA          0         0          64  582.0   \n",
       "1196    459       CNT BRAGA          0         0          64  566.0   \n",
       "1197    459       CNT BRAGA          0       276          64  243.0   \n",
       "1198    459       CNT BRAGA          0       252          64  328.0   \n",
       "1199    459       CNT BRAGA          0        72          64  246.0   \n",
       "\n",
       "      STOCK_1_Dias_Antes  ...  Balance_Conservador_1_Dias_Antes  \\\n",
       "0                   80.0  ...                          0.400000   \n",
       "1                   74.0  ...                          0.432432   \n",
       "2                   59.0  ...                          0.542373   \n",
       "3                   65.0  ...                          0.461538   \n",
       "4                  143.0  ...                          0.132159   \n",
       "...                  ...  ...                               ...   \n",
       "1195               610.0  ...                          0.055300   \n",
       "1196               582.0  ...                          0.082474   \n",
       "1197               221.0  ...                          0.547284   \n",
       "1198               243.0  ...                          0.524085   \n",
       "1199               328.0  ...                          0.468966   \n",
       "\n",
       "      Balance_Conservador_2_Dias_Antes  Balance_Conservador_3_Dias_Antes  \\\n",
       "0                             0.545455                          0.633663   \n",
       "1                             0.600000                          0.727273   \n",
       "2                             0.648649                          0.800000   \n",
       "3                             0.483871                          1.185185   \n",
       "4                             0.692308                          0.645161   \n",
       "...                                ...                               ...   \n",
       "1195                          0.115016                          0.222576   \n",
       "1196                          0.082949                          0.153355   \n",
       "1197                          0.620438                          0.266075   \n",
       "1198                          0.820926                          0.827251   \n",
       "1199                          0.786127                          1.094567   \n",
       "\n",
       "      Balance_Conservador_4_Dias_Antes  Balance_Conservador_5_Dias_Antes  \\\n",
       "0                             0.761905                          0.897196   \n",
       "1                             0.792079                          0.914286   \n",
       "2                             0.909091                          0.950495   \n",
       "3                             1.600000                          2.086957   \n",
       "4                             1.481481                          1.920000   \n",
       "...                                ...                               ...   \n",
       "1195                          0.683646                          0.796875   \n",
       "1196                          0.278219                          0.820375   \n",
       "1197                          0.261194                          0.296820   \n",
       "1198                          0.332594                          0.313433   \n",
       "1199                          1.034063                          0.399113   \n",
       "\n",
       "      Balance_Conservador_6_Dias_Antes  Balance_Conservador_7_Dias_Antes  \\\n",
       "0                             0.770642                          0.512000   \n",
       "1                             1.046729                          0.880734   \n",
       "2                             1.066667                          1.196262   \n",
       "3                             1.898305                          1.729730   \n",
       "4                             2.434783                          2.169492   \n",
       "...                                ...                               ...   \n",
       "1195                          2.462069                          2.472727   \n",
       "1196                          0.929688                          2.813793   \n",
       "1197                          0.288660                          0.221198   \n",
       "1198                          0.346290                          0.329897   \n",
       "1199                          0.365672                          0.395760   \n",
       "\n",
       "      Balance_Conservador_8_Dias_Antes  Balance_Conservador_9_Dias_Antes  \\\n",
       "0                             0.517986                          0.347222   \n",
       "1                             0.576000                          0.575540   \n",
       "2                             0.990826                          0.640000   \n",
       "3                             1.800000                          1.818182   \n",
       "4                             1.945946                          2.000000   \n",
       "...                                ...                               ...   \n",
       "1195                          2.428571                          2.405660   \n",
       "1196                          2.781818                          2.698413   \n",
       "1197                          0.345048                          0.556439   \n",
       "1198                          0.248848                          0.383387   \n",
       "1199                          0.371134                          0.276498   \n",
       "\n",
       "      Balance_Conservador_10_Dias_Antes  \n",
       "0                              0.320388  \n",
       "1                              0.381944  \n",
       "2                              0.633094  \n",
       "3                              1.742574  \n",
       "4                              2.000000  \n",
       "...                                 ...  \n",
       "1195                           2.407725  \n",
       "1196                           2.646226  \n",
       "1197                           1.504021  \n",
       "1198                           0.612083  \n",
       "1199                           0.421725  \n",
       "\n",
       "[1200 rows x 238 columns]"
      ]
     },
     "execution_count": 90,
     "metadata": {},
     "output_type": "execute_result"
    }
   ],
   "source": [
    "oi"
   ]
  },
  {
   "cell_type": "markdown",
   "metadata": {},
   "source": [
    "---"
   ]
  },
  {
   "cell_type": "markdown",
   "metadata": {},
   "source": [
    "#  <span style=\"color:red\"><u>Ler Ficheiro Completo</u> </span>"
   ]
  },
  {
   "cell_type": "code",
   "execution_count": 2,
   "metadata": {},
   "outputs": [
    {
     "name": "stdout",
     "output_type": "stream",
     "text": [
      "CPU times: total: 26.6 s\n",
      "Wall time: 34.2 s\n"
     ]
    }
   ],
   "source": [
    "%%time\n",
    "\n",
    "#Ler os ficheiros\n",
    "df_2022 = pd.read_csv('D:\\\\B&N Dados\\\\Delta\\\\Stocks\\\\Stocks2022\\\\Stocks_Delta_2022_Limpo.csv')\n",
    "df_2023 = pd.read_csv('D:\\\\B&N Dados\\\\Delta\\\\Stocks\\\\Stocks2023\\\\Stocks_Delta_2023_Limpo.csv')\n",
    "\n",
    "# Juntar as bases\n",
    "dataframes = [df_2022, df_2023]\n",
    "df_Fusão = pd.concat(dataframes, ignore_index=True)\n",
    "df_Fusão['DATA']= pd.to_datetime(df_Fusão['DATA'], format='%Y-%m-%d')\n",
    "\n",
    "# Ficheiro de previsão\n",
    "df_Prophet = pd.read_csv('D:\\\\B&N Dados\\\\Delta\\\\Forecast\\\\Prophet.csv')\n",
    "df_Prophet['DATA']= pd.to_datetime(df_Prophet['DATA'], format='%Y-%m-%d')\n",
    "\n",
    "df_XGBoost = pd.read_csv('D:\\\\B&N Dados\\\\Delta\\\\Forecast\\\\XGBoost.csv')\n",
    "df_XGBoost['DATA']= pd.to_datetime(df_XGBoost['DATA'], format='%Y-%m-%d')"
   ]
  },
  {
   "cell_type": "markdown",
   "metadata": {},
   "source": [
    "# <font color=red>Opcional:</font> Definir produtos em causa"
   ]
  },
  {
   "cell_type": "markdown",
   "metadata": {},
   "source": [
    "- Produtos específicos"
   ]
  },
  {
   "cell_type": "code",
   "execution_count": 79,
   "metadata": {
    "scrolled": true
   },
   "outputs": [
    {
     "name": "stdout",
     "output_type": "stream",
     "text": [
      "CPU times: total: 875 ms\n",
      "Wall time: 869 ms\n"
     ]
    }
   ],
   "source": [
    "%%time\n",
    "# Ler ficheiro dos produtos e lojas para dataframe\n",
    "df_produtos = pd.read_csv('D:\\\\B&N Dados\\\\Delta\\\\Piloto\\\\produtos.txt', header=None)\n",
    "df_lojas = pd.read_csv('D:\\\\B&N Dados\\\\Delta\\\\Piloto\\\\lojas.txt', header=None)\n",
    "\n",
    "# Passar para uma lista\n",
    "produtos = df_produtos[0].tolist()\n",
    "lojas = df_lojas[0].tolist()\n",
    "\n",
    "# Alterar o dataframe para apenas incluir os produtos e lojas em causa\n",
    "dfFinal = df_Fusão[(df_Fusão[\"DESC_ARTIGO\"].isin(produtos)) & (df_Fusão[\"STORE_NAME\"].isin(lojas))].copy()"
   ]
  },
  {
   "cell_type": "code",
   "execution_count": 27,
   "metadata": {},
   "outputs": [],
   "source": [
    "dfFinal['SELLOUT'] = dfFinal.groupby([\"STORE\",\"EAN\"])['SELLOUT_1_Dias_Antes'].shift(-1)\n",
    "dfFinal['STOCK'] = dfFinal.groupby([\"STORE\",\"EAN\"])['STOCK_1_Dias_Antes'].shift(-1)"
   ]
  },
  {
   "cell_type": "code",
   "execution_count": 28,
   "metadata": {},
   "outputs": [
    {
     "data": {
      "text/html": [
       "<div>\n",
       "<style scoped>\n",
       "    .dataframe tbody tr th:only-of-type {\n",
       "        vertical-align: middle;\n",
       "    }\n",
       "\n",
       "    .dataframe tbody tr th {\n",
       "        vertical-align: top;\n",
       "    }\n",
       "\n",
       "    .dataframe thead th {\n",
       "        text-align: right;\n",
       "    }\n",
       "</style>\n",
       "<table border=\"1\" class=\"dataframe\">\n",
       "  <thead>\n",
       "    <tr style=\"text-align: right;\">\n",
       "      <th></th>\n",
       "      <th>DATA</th>\n",
       "      <th>EAN</th>\n",
       "      <th>DESC_ARTIGO</th>\n",
       "      <th>STORE</th>\n",
       "      <th>STORE_NAME</th>\n",
       "      <th>INTRANSIT</th>\n",
       "      <th>EXPECTED</th>\n",
       "      <th>PRES_STOCK</th>\n",
       "      <th>STOCK</th>\n",
       "      <th>STOCK_1_Dias_Antes</th>\n",
       "      <th>SELLOUT</th>\n",
       "      <th>SELLOUT_1_Dias_Antes</th>\n",
       "    </tr>\n",
       "  </thead>\n",
       "  <tbody>\n",
       "    <tr>\n",
       "      <th>60608</th>\n",
       "      <td>2022-01-01</td>\n",
       "      <td>5609060007087</td>\n",
       "      <td>BEBIDA CEREAIS DELTA C/20%CAFE FR 200G</td>\n",
       "      <td>1</td>\n",
       "      <td>CNT MATOSINHOS</td>\n",
       "      <td>0</td>\n",
       "      <td>48</td>\n",
       "      <td>120</td>\n",
       "      <td>151.0</td>\n",
       "      <td>151.0</td>\n",
       "      <td>0.0</td>\n",
       "      <td>11.0</td>\n",
       "    </tr>\n",
       "    <tr>\n",
       "      <th>60609</th>\n",
       "      <td>2022-01-02</td>\n",
       "      <td>5609060007087</td>\n",
       "      <td>BEBIDA CEREAIS DELTA C/20%CAFE FR 200G</td>\n",
       "      <td>1</td>\n",
       "      <td>CNT MATOSINHOS</td>\n",
       "      <td>0</td>\n",
       "      <td>48</td>\n",
       "      <td>120</td>\n",
       "      <td>137.0</td>\n",
       "      <td>151.0</td>\n",
       "      <td>14.0</td>\n",
       "      <td>0.0</td>\n",
       "    </tr>\n",
       "    <tr>\n",
       "      <th>60610</th>\n",
       "      <td>2022-01-03</td>\n",
       "      <td>5609060007087</td>\n",
       "      <td>BEBIDA CEREAIS DELTA C/20%CAFE FR 200G</td>\n",
       "      <td>1</td>\n",
       "      <td>CNT MATOSINHOS</td>\n",
       "      <td>48</td>\n",
       "      <td>0</td>\n",
       "      <td>120</td>\n",
       "      <td>175.0</td>\n",
       "      <td>137.0</td>\n",
       "      <td>10.0</td>\n",
       "      <td>14.0</td>\n",
       "    </tr>\n",
       "    <tr>\n",
       "      <th>60611</th>\n",
       "      <td>2022-01-04</td>\n",
       "      <td>5609060007087</td>\n",
       "      <td>BEBIDA CEREAIS DELTA C/20%CAFE FR 200G</td>\n",
       "      <td>1</td>\n",
       "      <td>CNT MATOSINHOS</td>\n",
       "      <td>0</td>\n",
       "      <td>0</td>\n",
       "      <td>120</td>\n",
       "      <td>162.0</td>\n",
       "      <td>175.0</td>\n",
       "      <td>13.0</td>\n",
       "      <td>10.0</td>\n",
       "    </tr>\n",
       "    <tr>\n",
       "      <th>60612</th>\n",
       "      <td>2022-01-05</td>\n",
       "      <td>5609060007087</td>\n",
       "      <td>BEBIDA CEREAIS DELTA C/20%CAFE FR 200G</td>\n",
       "      <td>1</td>\n",
       "      <td>CNT MATOSINHOS</td>\n",
       "      <td>0</td>\n",
       "      <td>48</td>\n",
       "      <td>120</td>\n",
       "      <td>195.0</td>\n",
       "      <td>162.0</td>\n",
       "      <td>15.0</td>\n",
       "      <td>13.0</td>\n",
       "    </tr>\n",
       "  </tbody>\n",
       "</table>\n",
       "</div>"
      ],
      "text/plain": [
       "            DATA            EAN                             DESC_ARTIGO  \\\n",
       "60608 2022-01-01  5609060007087  BEBIDA CEREAIS DELTA C/20%CAFE FR 200G   \n",
       "60609 2022-01-02  5609060007087  BEBIDA CEREAIS DELTA C/20%CAFE FR 200G   \n",
       "60610 2022-01-03  5609060007087  BEBIDA CEREAIS DELTA C/20%CAFE FR 200G   \n",
       "60611 2022-01-04  5609060007087  BEBIDA CEREAIS DELTA C/20%CAFE FR 200G   \n",
       "60612 2022-01-05  5609060007087  BEBIDA CEREAIS DELTA C/20%CAFE FR 200G   \n",
       "\n",
       "       STORE      STORE_NAME  INTRANSIT  EXPECTED  PRES_STOCK  STOCK  \\\n",
       "60608      1  CNT MATOSINHOS          0        48         120  151.0   \n",
       "60609      1  CNT MATOSINHOS          0        48         120  137.0   \n",
       "60610      1  CNT MATOSINHOS         48         0         120  175.0   \n",
       "60611      1  CNT MATOSINHOS          0         0         120  162.0   \n",
       "60612      1  CNT MATOSINHOS          0        48         120  195.0   \n",
       "\n",
       "       STOCK_1_Dias_Antes  SELLOUT  SELLOUT_1_Dias_Antes  \n",
       "60608               151.0      0.0                  11.0  \n",
       "60609               151.0     14.0                   0.0  \n",
       "60610               137.0     10.0                  14.0  \n",
       "60611               175.0     13.0                  10.0  \n",
       "60612               162.0     15.0                  13.0  "
      ]
     },
     "execution_count": 28,
     "metadata": {},
     "output_type": "execute_result"
    }
   ],
   "source": [
    "dfFinal.head()"
   ]
  },
  {
   "cell_type": "markdown",
   "metadata": {},
   "source": [
    "## <font color=red>Fim</font> "
   ]
  },
  {
   "cell_type": "markdown",
   "metadata": {},
   "source": [
    "- Fundir o Ficheiro da Delta com a previsão"
   ]
  },
  {
   "cell_type": "code",
   "execution_count": 29,
   "metadata": {},
   "outputs": [
    {
     "name": "stdout",
     "output_type": "stream",
     "text": [
      "CPU times: total: 562 ms\n",
      "Wall time: 557 ms\n"
     ]
    }
   ],
   "source": [
    "%%time\n",
    "# Prophet\n",
    "dfFinal = pd.merge(dfFinal, df_Prophet[['DATA', 'STORE', 'DESC_ARTIGO', 'Prophet']], how=\"left\", on=['DATA', 'STORE', 'DESC_ARTIGO',] )\n",
    "# XGBoost\n",
    "dfFinal = pd.merge(dfFinal, df_XGBoost[['DATA', 'STORE', 'DESC_ARTIGO', 'XGBoost']], how=\"left\", on=['DATA', 'STORE', 'DESC_ARTIGO',] )"
   ]
  },
  {
   "cell_type": "markdown",
   "metadata": {},
   "source": [
    "# <font color=green>Ficheiro Lido<font>"
   ]
  },
  {
   "cell_type": "markdown",
   "metadata": {},
   "source": [
    "---"
   ]
  },
  {
   "cell_type": "raw",
   "metadata": {},
   "source": [
    "def historico(titulo, alvo, function):\n",
    "    dfFinal[\"%s_30\" %titulo] = dfFinal.groupby(['DESC_ARTIGO', \"STORE\"])['%s' %alvo].shift(1).transform(lambda x: x.rolling(window=30).apply(function))\n",
    "    dfFinal[\"%s_60\" %titulo] = dfFinal.groupby(['DESC_ARTIGO', \"STORE\"])['%s' %alvo].shift(1).transform(lambda x: x.rolling(window=60).apply(function))\n",
    "    dfFinal[\"%s_120\" %titulo] = dfFinal.groupby(['DESC_ARTIGO', \"STORE\"])['%s' %alvo].shift(1).transform(lambda x: x.rolling(window=120).apply(function))\n",
    "    dfFinal[\"%s_180\" %titulo] = dfFinal.groupby(['DESC_ARTIGO', \"STORE\"])['%s' %alvo].shift(1).transform(lambda x: x.rolling(window=160).apply(function))\n",
    "  "
   ]
  },
  {
   "cell_type": "markdown",
   "metadata": {},
   "source": [
    "# Colunas de métricas interessantes"
   ]
  },
  {
   "cell_type": "markdown",
   "metadata": {},
   "source": [
    "> - ROTURA"
   ]
  },
  {
   "cell_type": "code",
   "execution_count": 30,
   "metadata": {},
   "outputs": [],
   "source": [
    "# Definir coluna de rotura (se stock menor ou igual a 0 e existe Linear)\n",
    "\n",
    "dfFinal[\"ROTURA\"] = np.where((dfFinal[\"STOCK\"] <= 0) & (dfFinal[\"PRES_STOCK\"] > 0), 1, 0)"
   ]
  },
  {
   "cell_type": "markdown",
   "metadata": {},
   "source": [
    "> - PRÉ_ROTURA"
   ]
  },
  {
   "cell_type": "code",
   "execution_count": 31,
   "metadata": {},
   "outputs": [],
   "source": [
    "# Definir coluna de rotura (se stock menor ou igual a 0)\n",
    "\n",
    "dfFinal[\"PRE_ROTURA\"] = (dfFinal[\"STOCK\"] < dfFinal[\"PRES_STOCK\"]).astype(int)"
   ]
  },
  {
   "cell_type": "markdown",
   "metadata": {},
   "source": [
    "# Colunas de métricas 30, 60, 120 e 180 dias antes"
   ]
  },
  {
   "cell_type": "markdown",
   "metadata": {},
   "source": [
    "> - Volatilidade de Procura: <br>\n",
    "coeficiente de variação"
   ]
  },
  {
   "cell_type": "code",
   "execution_count": 32,
   "metadata": {},
   "outputs": [],
   "source": [
    "dfFinal[\"Volatilidade_30\"] = (dfFinal.groupby(['DESC_ARTIGO', \"STORE\"])['SELLOUT'].shift(1).transform(lambda x: x.rolling(window=30, min_periods=1).std())/\n",
    "                             dfFinal.groupby(['DESC_ARTIGO', \"STORE\"])['SELLOUT'].shift(1).transform(lambda x: x.rolling(window=30, min_periods=1).mean()))\n",
    "\n",
    "dfFinal[\"Volatilidade_60\"] = (dfFinal.groupby(['DESC_ARTIGO', \"STORE\"])['SELLOUT'].shift(1).transform(lambda x: x.rolling(window=60, min_periods=1).std())/\n",
    "                             dfFinal.groupby(['DESC_ARTIGO', \"STORE\"])['SELLOUT'].shift(1).transform(lambda x: x.rolling(window=60, min_periods=1).mean()))\n",
    "\n",
    "dfFinal[\"Volatilidade_120\"] = (dfFinal.groupby(['DESC_ARTIGO', \"STORE\"])['SELLOUT'].shift(1).transform(lambda x: x.rolling(window=120, min_periods=1).std())/\n",
    "                              dfFinal.groupby(['DESC_ARTIGO', \"STORE\"])['SELLOUT'].shift(1).transform(lambda x: x.rolling(window=120, min_periods=1).mean()))\n",
    "\n",
    "dfFinal[\"Volatilidade_180\"] = (dfFinal.groupby(['DESC_ARTIGO', \"STORE\"])['SELLOUT'].shift(1).transform(lambda x: x.rolling(window=180, min_periods=1).std())/\n",
    "                              dfFinal.groupby(['DESC_ARTIGO', \"STORE\"])['SELLOUT'].shift(1).transform(lambda x: x.rolling(window=180, min_periods=1).mean()))\n",
    "\n"
   ]
  },
  {
   "cell_type": "markdown",
   "metadata": {},
   "source": [
    "> - Percentagem de Rotura: <br>\n",
    "média de roturas $* 100$"
   ]
  },
  {
   "cell_type": "code",
   "execution_count": 33,
   "metadata": {},
   "outputs": [],
   "source": [
    "#historico(\"Percentagem_Roturas\", \"ROTURA\", pd.Series.mean)\n",
    "\n",
    "dfFinal[\"Percentagem_Roturas_30\"] = (dfFinal.groupby(['DESC_ARTIGO', \"STORE\"])['ROTURA'].shift(1).transform(lambda x: x.rolling(window=30, min_periods=1).mean()))*100\n",
    "\n",
    "dfFinal[\"Percentagem_Roturas_60\"] = (dfFinal.groupby(['DESC_ARTIGO', \"STORE\"])['ROTURA'].shift(1).transform(lambda x: x.rolling(window=60, min_periods=1).mean()))*100\n",
    "\n",
    "dfFinal[\"Percentagem_Roturas_120\"] = (dfFinal.groupby(['DESC_ARTIGO', \"STORE\"])['ROTURA'].shift(1).transform(lambda x: x.rolling(window=120, min_periods=1).mean()))*100\n",
    "\n",
    "dfFinal[\"Percentagem_Roturas_180\"] = (dfFinal.groupby(['DESC_ARTIGO', \"STORE\"])['ROTURA'].shift(1).transform(lambda x: x.rolling(window=180, min_periods=1).mean()))*100\n"
   ]
  },
  {
   "cell_type": "markdown",
   "metadata": {},
   "source": [
    "> - Percentagem de Supply:<br>\n",
    "média de vezes que foi pedido stock $*100$"
   ]
  },
  {
   "cell_type": "code",
   "execution_count": 34,
   "metadata": {},
   "outputs": [],
   "source": [
    "dfFinal[\"New_Supply\"] = np.where((dfFinal[\"EXPECTED\"].shift(1)==0) & (dfFinal[\"EXPECTED\"]>0), 1, 0)"
   ]
  },
  {
   "cell_type": "code",
   "execution_count": 35,
   "metadata": {},
   "outputs": [],
   "source": [
    "#historico(\"Percentagem_Supply\", \"New_Supply\", pd.Series.mean)\n",
    "\n",
    "dfFinal[\"Percentagem_Supply_30\"] = (dfFinal.groupby(['DESC_ARTIGO', \"STORE\"])['New_Supply'].shift(1).transform(lambda x: x.rolling(window=30, min_periods=1).sum())/30)*100\n",
    "\n",
    "dfFinal[\"Percentagem_Supply_60\"] = (dfFinal.groupby(['DESC_ARTIGO', \"STORE\"])['New_Supply'].shift(1).transform(lambda x: x.rolling(window=60, min_periods=1).sum())/60)*100\n",
    "\n",
    "dfFinal[\"Percentagem_Supply_120\"] = (dfFinal.groupby(['DESC_ARTIGO', \"STORE\"])['New_Supply'].shift(1).transform(lambda x: x.rolling(window=120, min_periods=1).sum())/120)*100\n",
    "\n",
    "dfFinal[\"Percentagem_Supply_180\"] = (dfFinal.groupby(['DESC_ARTIGO', \"STORE\"])['New_Supply'].shift(1).transform(lambda x: x.rolling(window=180, min_periods=1).sum())/180)*100\n"
   ]
  },
  {
   "cell_type": "markdown",
   "metadata": {},
   "source": [
    "> - Efeito fim de semana"
   ]
  },
  {
   "cell_type": "code",
   "execution_count": 36,
   "metadata": {},
   "outputs": [],
   "source": [
    "dfFinal['SELLOUT_fds'] = dfFinal[dfFinal['DATA'].dt.weekday.isin([4,5,6])][\"SELLOUT\"].copy()\n",
    "dfFinal['SELLOUT_semana'] = dfFinal[dfFinal['DATA'].dt.weekday.isin([0,1,2,3])][\"SELLOUT\"].copy()"
   ]
  },
  {
   "cell_type": "code",
   "execution_count": 37,
   "metadata": {},
   "outputs": [],
   "source": [
    "dfFinal[\"Efeito_Fds_30\"] = (dfFinal.groupby(['DESC_ARTIGO', \"STORE\"])['SELLOUT_fds'].shift(1).transform(lambda x: x.rolling(window=30, min_periods=1).median())/\n",
    "                            (dfFinal.groupby(['DESC_ARTIGO', \"STORE\"])['SELLOUT_semana'].shift(1).transform(lambda x: x.rolling(window=30, min_periods=1).median())))-1\n",
    "\n",
    "dfFinal[\"Efeito_Fds_60\"] = (dfFinal.groupby(['DESC_ARTIGO', \"STORE\"])['SELLOUT_fds'].shift(1).transform(lambda x: x.rolling(window=60, min_periods=1).median())/\n",
    "                            (dfFinal.groupby(['DESC_ARTIGO', \"STORE\"])['SELLOUT_semana'].shift(1).transform(lambda x: x.rolling(window=60, min_periods=1).median())))-1\n",
    "\n",
    "dfFinal[\"Efeito_Fds_120\"] = (dfFinal.groupby(['DESC_ARTIGO', \"STORE\"])['SELLOUT_fds'].shift(1).transform(lambda x: x.rolling(window=120, min_periods=1).median())/\n",
    "                            (dfFinal.groupby(['DESC_ARTIGO', \"STORE\"])['SELLOUT_semana'].shift(1).transform(lambda x: x.rolling(window=120, min_periods=1).median())))-1\n",
    "\n",
    "dfFinal[\"Efeito_Fds_180\"] = (dfFinal.groupby(['DESC_ARTIGO', \"STORE\"])['SELLOUT_fds'].shift(1).transform(lambda x: x.rolling(window=180, min_periods=1).median())/\n",
    "                            (dfFinal.groupby(['DESC_ARTIGO', \"STORE\"])['SELLOUT_semana'].shift(1).transform(lambda x: x.rolling(window=180, min_periods=1).median())))-1"
   ]
  },
  {
   "cell_type": "markdown",
   "metadata": {},
   "source": [
    "> - Tempo médio inter-supply"
   ]
  },
  {
   "cell_type": "code",
   "execution_count": 38,
   "metadata": {},
   "outputs": [],
   "source": [
    "dfFinal[\"InterSupply\"] = np.where(dfFinal[\"EXPECTED\"]==0, 1, 0)\n",
    "\n",
    "groups = (dfFinal['InterSupply'] != dfFinal['InterSupply'].shift()).cumsum()\n",
    "result = dfFinal.groupby(groups).agg({'DATA': 'first', 'DESC_ARTIGO': 'first', 'STORE': 'first', 'InterSupply': 'sum'}).reset_index(drop=True)\n",
    "result = result[result['InterSupply'] > 0]\n",
    "\n",
    "dfFinal = dfFinal.drop(columns=['InterSupply'])\n",
    "\n",
    "dfFinal = pd.merge(dfFinal, result, how=\"left\", on=[\"DATA\",\"DESC_ARTIGO\", \"STORE\"])"
   ]
  },
  {
   "cell_type": "code",
   "execution_count": 39,
   "metadata": {},
   "outputs": [],
   "source": [
    "#historico(\"InterSupplyMed\", \"InterSupply\", pd.Series.mean)\n",
    "\n",
    "dfFinal[\"InterSupplyMed_30\"] = (dfFinal.groupby(['DESC_ARTIGO', \"STORE\"])['InterSupply'].transform(lambda x: x.rolling(window=30, min_periods=1).mean()))*100\n",
    "\n",
    "dfFinal[\"InterSupplyMed_60\"] = (dfFinal.groupby(['DESC_ARTIGO', \"STORE\"])['InterSupply'].transform(lambda x: x.rolling(window=60, min_periods=1).mean()))*100\n",
    "\n",
    "dfFinal[\"InterSupplyMed_120\"] = (dfFinal.groupby(['DESC_ARTIGO', \"STORE\"])['InterSupply'].transform(lambda x: x.rolling(window=120, min_periods=1).mean()))*100\n",
    "\n",
    "dfFinal[\"InterSupplyMed_180\"] = (dfFinal.groupby(['DESC_ARTIGO', \"STORE\"])['InterSupply'].transform(lambda x: x.rolling(window=180, min_periods=1).mean()))*100\n"
   ]
  },
  {
   "cell_type": "markdown",
   "metadata": {},
   "source": [
    "> - Tempo indisponível"
   ]
  },
  {
   "cell_type": "code",
   "execution_count": 41,
   "metadata": {},
   "outputs": [],
   "source": [
    "'''O que vai acontecer é: no primeiro dia em que há rotura vai aparecer a soma de todos os dias com rotura a seguir a esse!\n",
    "Todos os outros valores serão NaN para não serem considerados quando for feita a média. Assim a média corresponderá ao\n",
    "número médio de dias em que se deixa um produto em rotura.'''\n",
    "\n",
    "dfFinal[\"Tempo_Indisponível\"] = np.where(dfFinal[\"ROTURA\"]==1, 1, 0)\n",
    "\n",
    "groups = (dfFinal['Tempo_Indisponível'] != dfFinal['Tempo_Indisponível'].shift()).cumsum()\n",
    "result = dfFinal.groupby(groups).agg({'DATA': 'first', 'DESC_ARTIGO': 'first', 'STORE': 'first', 'Tempo_Indisponível': 'sum'}).reset_index(drop=True)\n",
    "result = result[result['Tempo_Indisponível'] > 0]\n",
    "\n",
    "dfFinal = dfFinal.drop(columns=['Tempo_Indisponível'])\n",
    "\n",
    "dfFinal = pd.merge(dfFinal, result, how=\"left\", on=[\"DATA\",\"DESC_ARTIGO\", \"STORE\"])"
   ]
  },
  {
   "cell_type": "code",
   "execution_count": 42,
   "metadata": {},
   "outputs": [],
   "source": [
    "#historico(\"Percentagem_Supply\", \"New_Supply\", pd.Series.mean)\n",
    "\n",
    "dfFinal[\"Tempo_Indisponível_30\"] = (dfFinal.groupby(['DESC_ARTIGO', \"STORE\"])['Tempo_Indisponível'].shift(1).transform(lambda x: x.rolling(window=30, min_periods=1).mean()))\n",
    "\n",
    "dfFinal[\"Tempo_Indisponível_60\"] = (dfFinal.groupby(['DESC_ARTIGO', \"STORE\"])['Tempo_Indisponível'].shift(1).transform(lambda x: x.rolling(window=60, min_periods=1).mean()))\n",
    "\n",
    "dfFinal[\"Tempo_Indisponível_120\"] = (dfFinal.groupby(['DESC_ARTIGO', \"STORE\"])['Tempo_Indisponível'].shift(1).transform(lambda x: x.rolling(window=120, min_periods=1).mean()))\n",
    "\n",
    "dfFinal[\"Tempo_Indisponível_180\"] = (dfFinal.groupby(['DESC_ARTIGO', \"STORE\"])['Tempo_Indisponível'].shift(1).transform(lambda x: x.rolling(window=180, min_periods=1).mean()))\n"
   ]
  },
  {
   "cell_type": "markdown",
   "metadata": {},
   "source": [
    "> - Percentagem de dias em Stock Borderline"
   ]
  },
  {
   "cell_type": "code",
   "execution_count": 43,
   "metadata": {},
   "outputs": [],
   "source": [
    "dfFinal[\"Stock_Borderline\"] = np.where(dfFinal[\"STOCK\"]<0.2*dfFinal[\"PRES_STOCK\"], 1, 0)"
   ]
  },
  {
   "cell_type": "code",
   "execution_count": 44,
   "metadata": {},
   "outputs": [],
   "source": [
    "dfFinal[\"Tempo_Stock_Borderline_30\"] = (dfFinal.groupby(['DESC_ARTIGO', \"STORE\"])['Stock_Borderline'].shift(1).transform(lambda x: x.rolling(window=30, min_periods=1).mean()))*100\n",
    "\n",
    "dfFinal[\"Tempo_Stock_Borderline_60\"] = (dfFinal.groupby(['DESC_ARTIGO', \"STORE\"])['Stock_Borderline'].shift(1).transform(lambda x: x.rolling(window=60, min_periods=1).mean()))*100\n",
    "\n",
    "dfFinal[\"Tempo_Stock_Borderline_120\"] = (dfFinal.groupby(['DESC_ARTIGO', \"STORE\"])['Stock_Borderline'].shift(1).transform(lambda x: x.rolling(window=120, min_periods=1).mean()))*100\n",
    "\n",
    "dfFinal[\"Tempo_Stock_Borderline_180\"] = (dfFinal.groupby(['DESC_ARTIGO', \"STORE\"])['Stock_Borderline'].shift(1).transform(lambda x: x.rolling(window=180, min_periods=1).mean()))*100\n"
   ]
  },
  {
   "cell_type": "markdown",
   "metadata": {},
   "source": [
    "> - Percentagem de dias de Linear Incompleto"
   ]
  },
  {
   "cell_type": "code",
   "execution_count": 45,
   "metadata": {},
   "outputs": [],
   "source": [
    "dfFinal[\"Linear_Incompleto\"] = np.where(dfFinal[\"STOCK\"]<dfFinal[\"PRES_STOCK\"], 1, 0)"
   ]
  },
  {
   "cell_type": "code",
   "execution_count": 46,
   "metadata": {},
   "outputs": [],
   "source": [
    "dfFinal[\"Tempo_Linear_Incompleto_30\"] = (dfFinal.groupby(['DESC_ARTIGO', \"STORE\"])['Linear_Incompleto'].shift(1).transform(lambda x: x.rolling(window=30, min_periods=1).mean()))*100\n",
    "\n",
    "dfFinal[\"Tempo_Linear_Incompleto_60\"] = (dfFinal.groupby(['DESC_ARTIGO', \"STORE\"])['Linear_Incompleto'].shift(1).transform(lambda x: x.rolling(window=60, min_periods=1).mean()))*100\n",
    "\n",
    "dfFinal[\"Tempo_Linear_Incompleto_120\"] = (dfFinal.groupby(['DESC_ARTIGO', \"STORE\"])['Linear_Incompleto'].shift(1).transform(lambda x: x.rolling(window=120, min_periods=1).mean()))*100\n",
    "\n",
    "dfFinal[\"Tempo_Linear_Incompleto_180\"] = (dfFinal.groupby(['DESC_ARTIGO', \"STORE\"])['Linear_Incompleto'].shift(1).transform(lambda x: x.rolling(window=180, min_periods=1).mean()))*100\n"
   ]
  },
  {
   "cell_type": "markdown",
   "metadata": {},
   "source": [
    "> - Percentagem de dias sem vendas"
   ]
  },
  {
   "cell_type": "code",
   "execution_count": 50,
   "metadata": {},
   "outputs": [],
   "source": [
    "dfFinal[\"Sem_Vendas\"] = np.where(dfFinal[\"SELLOUT\"] == 0, 1, 0)"
   ]
  },
  {
   "cell_type": "code",
   "execution_count": 51,
   "metadata": {},
   "outputs": [],
   "source": [
    "#historico(\"Sem_Vendas\", \"Sem_Vendas\", pd.Series.mean)\n",
    "\n",
    "dfFinal[\"Sem_Vendas_30\"] = (dfFinal.groupby(['DESC_ARTIGO', \"STORE\"])['Sem_Vendas'].shift(1).transform(lambda x: x.rolling(window=30, min_periods=1).mean()))*100\n",
    "\n",
    "dfFinal[\"Sem_Vendas_60\"] = (dfFinal.groupby(['DESC_ARTIGO', \"STORE\"])['Sem_Vendas'].shift(1).transform(lambda x: x.rolling(window=60, min_periods=1).mean()))*100\n",
    "\n",
    "dfFinal[\"Sem_Vendas_120\"] = (dfFinal.groupby(['DESC_ARTIGO', \"STORE\"])['Sem_Vendas'].shift(1).transform(lambda x: x.rolling(window=120, min_periods=1).mean()))*100\n",
    "\n",
    "dfFinal[\"Sem_Vendas_180\"] = (dfFinal.groupby(['DESC_ARTIGO', \"STORE\"])['Sem_Vendas'].shift(1).transform(lambda x: x.rolling(window=180, min_periods=1).mean()))*100\n"
   ]
  },
  {
   "cell_type": "markdown",
   "metadata": {},
   "source": [
    "> - Vendas perdidas"
   ]
  },
  {
   "cell_type": "code",
   "execution_count": 52,
   "metadata": {},
   "outputs": [],
   "source": [
    "dfFinal['ROTURA_fds'] = dfFinal[dfFinal['DATA'].dt.weekday.isin([4,5,6])][\"ROTURA\"].copy()\n",
    "dfFinal['ROTURA_semana'] = dfFinal[dfFinal['DATA'].dt.weekday.isin([0,1,2,3])][\"ROTURA\"].copy()"
   ]
  },
  {
   "cell_type": "code",
   "execution_count": 53,
   "metadata": {},
   "outputs": [],
   "source": [
    "'''Mediana de fins de semana e mediana de semana a multiplicar pelo nº de dias em que há rotura, soma dos valores para\n",
    "ter as perdas de vendas estimadas'''\n",
    "\n",
    "#mediana fds*roturas fds + mediana semana*roturas semana\n",
    "\n",
    "dfFinal[\"Vendas_Perdidas_30\"] = ((dfFinal.groupby(['DESC_ARTIGO', \"STORE\"])['ROTURA_fds'].shift(1).transform(lambda x: x.rolling(window=30, min_periods=1).sum()) * dfFinal.groupby(['DESC_ARTIGO', \"STORE\"])['SELLOUT_fds'].shift(1).transform(lambda x: x.rolling(window=30, min_periods=1).median())) + \n",
    "                                (dfFinal.groupby(['DESC_ARTIGO', \"STORE\"])['ROTURA_semana'].shift(1).transform(lambda x: x.rolling(window=30, min_periods=1).sum()) * dfFinal.groupby(['DESC_ARTIGO', \"STORE\"])['SELLOUT_semana'].shift(1).transform(lambda x: x.rolling(window=30, min_periods=1).median()))\n",
    ")\n",
    "dfFinal[\"Vendas_Perdidas_60\"] = ((dfFinal.groupby(['DESC_ARTIGO', \"STORE\"])['ROTURA_fds'].shift(1).transform(lambda x: x.rolling(window=60, min_periods=1).sum()) * dfFinal.groupby(['DESC_ARTIGO', \"STORE\"])['SELLOUT_fds'].shift(1).transform(lambda x: x.rolling(window=60, min_periods=1).median())) + \n",
    "                                (dfFinal.groupby(['DESC_ARTIGO', \"STORE\"])['ROTURA_semana'].shift(1).transform(lambda x: x.rolling(window=60, min_periods=1).sum()) * dfFinal.groupby(['DESC_ARTIGO', \"STORE\"])['SELLOUT_semana'].shift(1).transform(lambda x: x.rolling(window=60, min_periods=1).median()))\n",
    ")\n",
    "dfFinal[\"Vendas_Perdidas_120\"] = ((dfFinal.groupby(['DESC_ARTIGO', \"STORE\"])['ROTURA_fds'].shift(1).transform(lambda x: x.rolling(window=120, min_periods=1).sum()) * dfFinal.groupby(['DESC_ARTIGO', \"STORE\"])['SELLOUT_fds'].shift(1).transform(lambda x: x.rolling(window=120, min_periods=1).median())) + \n",
    "                                 (dfFinal.groupby(['DESC_ARTIGO', \"STORE\"])['ROTURA_semana'].shift(1).transform(lambda x: x.rolling(window=120, min_periods=1).sum()) * dfFinal.groupby(['DESC_ARTIGO', \"STORE\"])['SELLOUT_semana'].shift(1).transform(lambda x: x.rolling(window=120, min_periods=1).median()))\n",
    ")\n",
    "dfFinal[\"Vendas_Perdidas_180\"] = ((dfFinal.groupby(['DESC_ARTIGO', \"STORE\"])['ROTURA_fds'].shift(1).transform(lambda x: x.rolling(window=180, min_periods=1).sum()) * dfFinal.groupby(['DESC_ARTIGO', \"STORE\"])['SELLOUT_fds'].shift(1).transform(lambda x: x.rolling(window=180, min_periods=1).median())) + \n",
    "                                 (dfFinal.groupby(['DESC_ARTIGO', \"STORE\"])['ROTURA_semana'].shift(1).transform(lambda x: x.rolling(window=180, min_periods=1).sum()) * dfFinal.groupby(['DESC_ARTIGO', \"STORE\"])['SELLOUT_semana'].shift(1).transform(lambda x: x.rolling(window=180, min_periods=1).median()))\n",
    ")"
   ]
  },
  {
   "cell_type": "markdown",
   "metadata": {},
   "source": [
    "# Métricas até 10 dias antes:\n",
    "\n",
    "- INSTRANSIT\n",
    "- EXPECTED\n",
    "- SELLOUT\n",
    "- CICLOS\n",
    "- Dias para Rotura\n",
    "- Adequação"
   ]
  },
  {
   "cell_type": "code",
   "execution_count": 55,
   "metadata": {},
   "outputs": [],
   "source": [
    "# Quantos dias antes:\n",
    "\n",
    "diaI=1         #dia inicial\n",
    "diaF=10        #dia final"
   ]
  },
  {
   "cell_type": "markdown",
   "metadata": {},
   "source": [
    "> Função"
   ]
  },
  {
   "cell_type": "code",
   "execution_count": 56,
   "metadata": {},
   "outputs": [],
   "source": [
    "# Função para colunas de dias anteriores\n",
    "def dias(df, dia, coluna):         #dia é quantos dias antes\n",
    "    a=int(dia)\n",
    "\n",
    "    valores = df.groupby(['DESC_ARTIGO', 'STORE'])[coluna].transform(lambda x: x.shift(a))\n",
    "    valores[:a] = np.nan\n",
    "    \n",
    "    df.loc[:,'%s_%s_Dias_Antes' % (coluna, a)] = valores"
   ]
  },
  {
   "cell_type": "markdown",
   "metadata": {},
   "source": [
    "> - SELLOUTS"
   ]
  },
  {
   "cell_type": "code",
   "execution_count": 57,
   "metadata": {},
   "outputs": [
    {
     "name": "stdout",
     "output_type": "stream",
     "text": [
      "CPU times: total: 328 ms\n",
      "Wall time: 348 ms\n"
     ]
    }
   ],
   "source": [
    "%%time\n",
    "# Usar função para sellouts até 10 dias antes\n",
    "\n",
    "for i in range(diaI+1, diaF+1):\n",
    "    dias(dfFinal, i, \"SELLOUT\")"
   ]
  },
  {
   "cell_type": "markdown",
   "metadata": {},
   "source": [
    "> - STOCKS"
   ]
  },
  {
   "cell_type": "code",
   "execution_count": 58,
   "metadata": {},
   "outputs": [],
   "source": [
    "# Usar função para Stocks até 10 dias antes\n",
    "\n",
    "for i in range(diaI, diaF+1):\n",
    "    dias(dfFinal, i, \"STOCK\")"
   ]
  },
  {
   "cell_type": "markdown",
   "metadata": {},
   "source": [
    "> > - Ordenar"
   ]
  },
  {
   "cell_type": "raw",
   "metadata": {},
   "source": [
    "previsões = 2\n",
    "dfOrg = dfFinal.iloc[:, np.r_[:9, 10, 12, 13, 12+previsões, 13+previsões, 9, \n",
    "                                (23+previsões):(32+previsões), 11, (14+previsões):(23+previsões)]]"
   ]
  },
  {
   "cell_type": "raw",
   "metadata": {
    "collapsed": true
   },
   "source": [
    "df_columns = dfOrg.columns.tolist()\n",
    "indexed_columns = [f\"{index}: {column}\" for index, column in enumerate(df_columns)]\n",
    "indexed_columns"
   ]
  },
  {
   "cell_type": "raw",
   "metadata": {},
   "source": [
    "dfFinal = dfFinal.iloc[:, np.r_[:9, 10, 12, 13, 12+previsões, 13+previsões, 9, \n",
    "                                (23+previsões):(32+previsões), 11, (14+previsões):(23+previsões)]]"
   ]
  },
  {
   "cell_type": "markdown",
   "metadata": {},
   "source": [
    "> - INTRANSIT e EXPECTED"
   ]
  },
  {
   "cell_type": "code",
   "execution_count": 59,
   "metadata": {},
   "outputs": [],
   "source": [
    "# Usar função para Trânsito até 10 dias antes\n",
    "\n",
    "\n",
    "for i in range(diaI, diaF+1):\n",
    "    dias(dfFinal, i, \"INTRANSIT\")\n",
    "    \n",
    "for i in range(diaI, diaF+1):\n",
    "    dias(dfFinal, i, \"EXPECTED\")"
   ]
  },
  {
   "cell_type": "markdown",
   "metadata": {},
   "source": [
    "> - STK"
   ]
  },
  {
   "cell_type": "code",
   "execution_count": 60,
   "metadata": {},
   "outputs": [],
   "source": [
    "# STK do dia = soma dos stocks em loja com os stocks em trânsito no próprio dia\n",
    "\n",
    "dfFinal[\"STK\"] = dfFinal[\"STOCK\"] + dfFinal[\"INTRANSIT\"] + dfFinal[\"EXPECTED\"]\n",
    "\n",
    "for i in range(diaI, diaF+1):\n",
    "    dias(dfFinal, i, \"STK\")"
   ]
  },
  {
   "cell_type": "markdown",
   "metadata": {},
   "source": [
    "> - MSA"
   ]
  },
  {
   "cell_type": "code",
   "execution_count": 61,
   "metadata": {},
   "outputs": [],
   "source": [
    "# MSA do dia = média dos sellouts dos 10 dias anteriores ao dia em causa\n",
    "\n",
    "dfFinal[\"MSA10\"] = dfFinal.groupby(['DESC_ARTIGO', \"STORE\"])['SELLOUT'].shift(1).transform(lambda x: x.rolling(window=10).mean())\n",
    "dfFinal[\"MSA10Dp\"] = dfFinal.groupby(['DESC_ARTIGO', \"STORE\"])['SELLOUT'].shift(1).transform(lambda x: x.rolling(window=10).std())\n",
    "\n",
    "for i in range(diaI, diaF+1):\n",
    "    dias(dfFinal, i, \"MSA10\")\n",
    "\n",
    "    \n",
    "dfFinal[\"MSA20\"] = dfFinal.groupby(['DESC_ARTIGO', \"STORE\"])['SELLOUT'].shift(1).transform(lambda x: x.rolling(window=20).mean())\n",
    "dfFinal[\"MSA20Dp\"] = dfFinal.groupby(['DESC_ARTIGO', \"STORE\"])['SELLOUT'].shift(1).transform(lambda x: x.rolling(window=20).std())\n",
    "  \n",
    "for i in range(diaI, diaF+1):\n",
    "    dias(dfFinal, i, \"MSA20\")"
   ]
  },
  {
   "cell_type": "markdown",
   "metadata": {},
   "source": [
    "> - CICLOS"
   ]
  },
  {
   "cell_type": "code",
   "execution_count": 62,
   "metadata": {},
   "outputs": [],
   "source": [
    "# Coluna de Ciclos de reposição\n",
    "\n",
    "dfFinal[\"CICLOS\"] = dfFinal[\"STOCK\"]/dfFinal[\"PRES_STOCK\"]\n",
    "\n",
    "for i in range(diaI, diaF+1):\n",
    "    dias(dfFinal, i, \"CICLOS\")"
   ]
  },
  {
   "cell_type": "markdown",
   "metadata": {},
   "source": [
    "> - Dias para rotura de Stock"
   ]
  },
  {
   "cell_type": "code",
   "execution_count": 63,
   "metadata": {},
   "outputs": [],
   "source": [
    "dfFinal = dfFinal.copy()\n",
    "# Dias para a rotura mas com o Sellout médio (móvel) dos últimos 10 dias \n",
    "dfFinal[\"Dias_para_Rotura_Stock\"] = dfFinal[\"STOCK\"] / dfFinal[\"MSA10\"]\n",
    "\n",
    "for i in range(diaI, diaF+1):\n",
    "    dias(dfFinal, i, \"Dias_para_Rotura_Stock\")"
   ]
  },
  {
   "cell_type": "markdown",
   "metadata": {},
   "source": [
    "> - Dias para rotura de Linear"
   ]
  },
  {
   "cell_type": "code",
   "execution_count": 64,
   "metadata": {},
   "outputs": [],
   "source": [
    "# Definir a métrica: Preslinear / med(Sellouts 10 dias)\n",
    "dfFinal['Dias_Duração_Linear'] = dfFinal[\"PRES_STOCK\"] / dfFinal[\"MSA10\"]\n",
    "\n",
    "for i in range(diaI, diaF+1):\n",
    "    dias(dfFinal, i, \"Dias_Duração_Linear\")"
   ]
  },
  {
   "cell_type": "markdown",
   "metadata": {},
   "source": [
    "> - Adequação de Stock"
   ]
  },
  {
   "cell_type": "code",
   "execution_count": 65,
   "metadata": {},
   "outputs": [],
   "source": [
    "# Coluna de adequação de stock\n",
    "\n",
    "\n",
    "dfFinal[\"Adequação\"]= np.where(dfFinal[\"CICLOS\"] > 1.1, \"Stock Suficiente\", \n",
    "                      np.where((dfFinal[\"CICLOS\"] <= 1.1) & (dfFinal[\"INTRANSIT\"]+dfFinal[\"EXPECTED\"]+dfFinal[\"STOCK\"]>=dfFinal[\"PRES_STOCK\"]), \"Stock Insuf c Forn Adequado\", \n",
    "                      np.where((dfFinal[\"CICLOS\"] <= 1.1) & (dfFinal[\"INTRANSIT\"]+dfFinal[\"EXPECTED\"]+dfFinal[\"STOCK\"]<dfFinal[\"PRES_STOCK\"]), \"Stock Insuf c Forn Desadequado\", \n",
    "                      \"\")))\n",
    "\n",
    "for i in range(diaI, diaF+1):\n",
    "    dias(dfFinal, i, \"Adequação\")"
   ]
  },
  {
   "cell_type": "markdown",
   "metadata": {},
   "source": [
    ">- Balance: sellout / soma stock disponível mais transito."
   ]
  },
  {
   "cell_type": "code",
   "execution_count": 66,
   "metadata": {},
   "outputs": [],
   "source": [
    "# Colunas de balanço\n",
    "\n",
    "\n",
    "# Balance do dia = razão entre o sellout médio e o stock para o dia actual\n",
    "dfFinal[\"Balance\"] =  dfFinal[\"MSA10\"] / dfFinal[\"STK\"]\n",
    "\n",
    "for i in range(diaI, diaF+1):\n",
    "    \n",
    "    \n",
    "    valores = (i+1) * dfFinal[\"Balance\"].shift(i)\n",
    "    valores[:i] = np.nan\n",
    "    \n",
    "    dfFinal.loc[:,'%s_%s_Dias_Antes' % (\"Balance\", i)] = valores\n",
    "    \n",
    "    \n"
   ]
  },
  {
   "cell_type": "markdown",
   "metadata": {},
   "source": [
    ">- Balance optimizado"
   ]
  },
  {
   "cell_type": "code",
   "execution_count": 67,
   "metadata": {},
   "outputs": [],
   "source": [
    "\n",
    "\n",
    "    \n",
    "dfFinal[\"Balance_Optimized\"] = np.where((dfFinal[\"MSA10Dp\"] / dfFinal[\"MSA10\"]) * 100 > 100, dfFinal[\"MSA20\"] / dfFinal[\"STK\"],\n",
    "                                dfFinal[\"MSA10\"] / dfFinal[\"STK\"])   \n",
    "\n",
    "for i in range(diaI, diaF+1):\n",
    "    \n",
    "    \n",
    "    valores = (i+1) * dfFinal[\"Balance_Optimized\"].shift(i)\n",
    "    valores[:i] = np.nan\n",
    "    \n",
    "    dfFinal.loc[:,'%s_%s_Dias_Antes' % (\"Balance_Optimized\", i)] = valores"
   ]
  },
  {
   "cell_type": "markdown",
   "metadata": {},
   "source": [
    "> - Mediano é com o mínimo dos ultimos 10 dias"
   ]
  },
  {
   "cell_type": "code",
   "execution_count": 68,
   "metadata": {},
   "outputs": [],
   "source": [
    "# Coluna de adequação de stock\n",
    "\n",
    "\n",
    "# MSA_med do dia = mediana dos sellouts dos 10 dias anteriores (exclui o próprio dia)\n",
    "# dfFinal[\"MdSA\"] = dfFinal.groupby(['DESC_ARTIGO', \"STORE\"])['SELLOUT'].shift(1).transform(lambda x: x.rolling(window=10).median())\n",
    "\n",
    "\n",
    "# Balance do dia = razão entre o sellout médio e o stock para o dia actual\n",
    "dfFinal[\"Balance_Mediano\"] =  dfFinal.groupby(['DESC_ARTIGO', \"STORE\"])['SELLOUT'].shift(1).transform(lambda x: x.rolling(window=10).median()) / dfFinal[\"STK\"]\n",
    "\n",
    "for i in range(diaI, diaF+1):\n",
    "    \n",
    "    \n",
    "    valores = (i+1) * dfFinal[\"Balance_Mediano\"].shift(i)\n",
    "    valores[:i] = np.nan\n",
    "    \n",
    "    dfFinal.loc[:,'%s_%s_Dias_Antes' % (\"Balance_Mediano\", i)] = valores\n",
    "\n"
   ]
  },
  {
   "cell_type": "markdown",
   "metadata": {},
   "source": [
    "> - Liberal é com o mínimo dos ultimos 10 dias"
   ]
  },
  {
   "cell_type": "code",
   "execution_count": 69,
   "metadata": {},
   "outputs": [],
   "source": [
    "# Liberal\n",
    "\n",
    "\n",
    "# MSA do dia = média dos stocks dos 10 dias anteriores (exclui o próprio dia)\n",
    "#dfFinal[\"LSA\"] = dfFinal.groupby(['DESC_ARTIGO', \"STORE\"])['SELLOUT'].shift(1).transform(lambda x: x.rolling(window=10).min())\n",
    "\n",
    "\n",
    "# Balance do dia = razão entre o sellout médio e o stock para o dia actual\n",
    "dfFinal[\"Balance_Liberal\"] =  dfFinal.groupby(['DESC_ARTIGO', \"STORE\"])['SELLOUT'].shift(1).transform(lambda x: x.rolling(window=10).min()) / dfFinal[\"STK\"]\n",
    "\n",
    "for i in range(diaI, diaF+1):\n",
    "    \n",
    "    \n",
    "    valores = (i+1) * dfFinal[\"Balance_Liberal\"].shift(i)\n",
    "    valores[:i] = np.nan\n",
    "    \n",
    "    dfFinal.loc[:,'%s_%s_Dias_Antes' % (\"Balance_Liberal\", i)] = valores\n",
    "\n"
   ]
  },
  {
   "cell_type": "markdown",
   "metadata": {},
   "source": [
    "> - Conservador é com o máximo dos ultimos 10 dias"
   ]
  },
  {
   "cell_type": "code",
   "execution_count": 70,
   "metadata": {},
   "outputs": [],
   "source": [
    "# Conservador\n",
    "\n",
    "# MSA_max do dia = máximo dos stocks dos 10 dias anteriores (exclui o próprio dia)\n",
    "#dfFinal[\"CSA\"] = dfFinal.groupby(['DESC_ARTIGO', \"STORE\"])['SELLOUT'].shift(1).transform(lambda x: x.rolling(window=10).max())\n",
    " \n",
    "    \n",
    "# Balance do dia = razão entre o sellout médio e o stock para o dia actual\n",
    "dfFinal[\"Balance_Conservador\"] =  dfFinal.groupby(['DESC_ARTIGO', \"STORE\"])['SELLOUT'].shift(1).transform(lambda x: x.rolling(window=10).max()) / dfFinal[\"STK\"]\n",
    "\n",
    "for i in range(diaI, diaF+1):\n",
    "    \n",
    "    # Multiplicar os balances pelo número de dias+1 antes do dia actual\n",
    "    valores = (i+1) * dfFinal[\"Balance_Conservador\"].shift(i)\n",
    "    valores[:i] = np.nan\n",
    "    \n",
    "    dfFinal.loc[:,'%s_%s_Dias_Antes' % (\"Balance_Conservador\", i)] = valores\n",
    "\n"
   ]
  },
  {
   "cell_type": "raw",
   "metadata": {},
   "source": [
    "> - Smart é com semana e fim de semana"
   ]
  },
  {
   "cell_type": "raw",
   "metadata": {},
   "source": [
    "# Real\n",
    "\n",
    "\n",
    "    \n",
    "dfFinal[\"Balance_Optimized\"] = np.where((dfFinal[\"MSA10Dp\"] / dfFinal[\"MSA10\"]) * 100 > 100, dfFinal[\"MSA20\"] / dfFinal[\"STK\"],\n",
    "                                dfFinal[\"MSA10\"] / dfFinal[\"STK\"])   \n",
    "\n",
    "for i in range(diaI, diaF+1):\n",
    "    \n",
    "    \n",
    "    valores = (i+1) * dfFinal[\"Balance_Optimized\"].shift(i)\n",
    "    valores[:i] = np.nan\n",
    "    \n",
    "    dfFinal.loc[:,'%s_%s_Dias_Antes' % (\"Balance_Optimized\", i)] = valores\n"
   ]
  },
  {
   "cell_type": "raw",
   "metadata": {
    "scrolled": true
   },
   "source": [
    "dfFinal[[\"DATA\",\"STORE\",\"DESC_ARTIGO\",\"STOCK\",\"INTRANSIT\",\"EXPECTED\",\"SELLOUT\",\"Balance\",\"Balance_4_Dias_Antes\",\"Balance_Liberal\",\"Balance_Liberal_4_Dias_Antes\",\"Balance_Mediano_4_Dias_Antes\",\"Balance_Conservador_4_Dias_Antes\"]].tail(20)"
   ]
  },
  {
   "cell_type": "markdown",
   "metadata": {},
   "source": [
    "# Escrever"
   ]
  },
  {
   "cell_type": "markdown",
   "metadata": {},
   "source": [
    "- 0's e 1's"
   ]
  },
  {
   "cell_type": "code",
   "execution_count": 72,
   "metadata": {},
   "outputs": [],
   "source": [
    "# Novo dataframe que apenas inclui dias em que existe a 1ª rotura e o dia anterior a essa rotura\n",
    "\n",
    "# Tirar 1's depois do primeiro\n",
    "dfFinalLimitado = dfFinal[~((dfFinal[\"ROTURA\"] == 1) & (dfFinal[\"ROTURA\"].shift(1) == 1))].copy()\n",
    "\n",
    "# Apenas incluir primeira rotura\n",
    "dfFinalLimitadoRoturas = dfFinal[((dfFinal[\"ROTURA\"] == 1) & (dfFinal[\"ROTURA\"].shift(1) == 0))].copy() #| ((dfFinal[\"ROTURA\"] == 0) & (dfFinal[\"ROTURA\"].shift(-1) == 1))]"
   ]
  },
  {
   "cell_type": "markdown",
   "metadata": {},
   "source": [
    "- Dias certos"
   ]
  },
  {
   "cell_type": "code",
   "execution_count": 73,
   "metadata": {},
   "outputs": [],
   "source": [
    "dfFinal2 = dfFinal.loc[(dfFinal['DATA'] >= '2023-01-01') ].copy()\n",
    "#df_DiasCertos = dfFinalLimitado.loc[(dfFinalLimitado['DATA'] >= '2023-01-01') ].copy()\n",
    "#df_RoturasDiasCertos = dfFinalLimitadoRoturas.loc[(dfFinalLimitadoRoturas['DATA'] >= '2023-01-01') ].copy()"
   ]
  },
  {
   "cell_type": "code",
   "execution_count": 76,
   "metadata": {
    "collapsed": true
   },
   "outputs": [
    {
     "data": {
      "text/plain": [
       "array(['2023-01-01T00:00:00.000000000', '2023-01-02T00:00:00.000000000',\n",
       "       '2023-01-03T00:00:00.000000000', '2023-01-04T00:00:00.000000000',\n",
       "       '2023-01-05T00:00:00.000000000', '2023-01-06T00:00:00.000000000',\n",
       "       '2023-01-07T00:00:00.000000000', '2023-01-08T00:00:00.000000000',\n",
       "       '2023-01-09T00:00:00.000000000', '2023-01-10T00:00:00.000000000',\n",
       "       '2023-01-11T00:00:00.000000000', '2023-01-12T00:00:00.000000000',\n",
       "       '2023-01-13T00:00:00.000000000', '2023-01-14T00:00:00.000000000',\n",
       "       '2023-01-15T00:00:00.000000000', '2023-01-16T00:00:00.000000000',\n",
       "       '2023-01-17T00:00:00.000000000', '2023-01-18T00:00:00.000000000',\n",
       "       '2023-01-19T00:00:00.000000000', '2023-01-20T00:00:00.000000000',\n",
       "       '2023-01-21T00:00:00.000000000', '2023-01-22T00:00:00.000000000',\n",
       "       '2023-01-23T00:00:00.000000000', '2023-01-24T00:00:00.000000000',\n",
       "       '2023-01-25T00:00:00.000000000', '2023-01-26T00:00:00.000000000',\n",
       "       '2023-01-27T00:00:00.000000000', '2023-01-28T00:00:00.000000000',\n",
       "       '2023-01-29T00:00:00.000000000', '2023-01-30T00:00:00.000000000',\n",
       "       '2023-01-31T00:00:00.000000000', '2023-02-01T00:00:00.000000000',\n",
       "       '2023-02-02T00:00:00.000000000', '2023-02-03T00:00:00.000000000',\n",
       "       '2023-02-04T00:00:00.000000000', '2023-02-05T00:00:00.000000000',\n",
       "       '2023-02-07T00:00:00.000000000', '2023-02-08T00:00:00.000000000',\n",
       "       '2023-02-09T00:00:00.000000000', '2023-02-10T00:00:00.000000000',\n",
       "       '2023-02-11T00:00:00.000000000', '2023-02-12T00:00:00.000000000',\n",
       "       '2023-02-13T00:00:00.000000000', '2023-02-14T00:00:00.000000000',\n",
       "       '2023-02-15T00:00:00.000000000', '2023-02-16T00:00:00.000000000',\n",
       "       '2023-02-17T00:00:00.000000000', '2023-02-18T00:00:00.000000000',\n",
       "       '2023-02-19T00:00:00.000000000', '2023-02-20T00:00:00.000000000',\n",
       "       '2023-02-21T00:00:00.000000000', '2023-02-22T00:00:00.000000000',\n",
       "       '2023-02-24T00:00:00.000000000', '2023-02-25T00:00:00.000000000',\n",
       "       '2023-02-26T00:00:00.000000000', '2023-02-27T00:00:00.000000000',\n",
       "       '2023-02-28T00:00:00.000000000', '2023-03-01T00:00:00.000000000',\n",
       "       '2023-03-02T00:00:00.000000000', '2023-03-03T00:00:00.000000000',\n",
       "       '2023-03-04T00:00:00.000000000', '2023-03-05T00:00:00.000000000',\n",
       "       '2023-03-06T00:00:00.000000000', '2023-03-07T00:00:00.000000000',\n",
       "       '2023-03-08T00:00:00.000000000', '2023-03-09T00:00:00.000000000',\n",
       "       '2023-03-10T00:00:00.000000000', '2023-03-11T00:00:00.000000000',\n",
       "       '2023-03-12T00:00:00.000000000', '2023-03-13T00:00:00.000000000',\n",
       "       '2023-03-14T00:00:00.000000000', '2023-03-15T00:00:00.000000000',\n",
       "       '2023-03-16T00:00:00.000000000', '2023-03-17T00:00:00.000000000',\n",
       "       '2023-03-18T00:00:00.000000000', '2023-03-19T00:00:00.000000000',\n",
       "       '2023-03-20T00:00:00.000000000', '2023-03-21T00:00:00.000000000',\n",
       "       '2023-03-22T00:00:00.000000000', '2023-03-23T00:00:00.000000000',\n",
       "       '2023-03-24T00:00:00.000000000', '2023-03-25T00:00:00.000000000',\n",
       "       '2023-03-26T00:00:00.000000000', '2023-03-27T00:00:00.000000000',\n",
       "       '2023-03-28T00:00:00.000000000', '2023-03-29T00:00:00.000000000',\n",
       "       '2023-03-30T00:00:00.000000000', '2023-03-31T00:00:00.000000000',\n",
       "       '2023-04-01T00:00:00.000000000', '2023-04-02T00:00:00.000000000',\n",
       "       '2023-04-03T00:00:00.000000000', '2023-04-04T00:00:00.000000000',\n",
       "       '2023-04-05T00:00:00.000000000', '2023-04-06T00:00:00.000000000',\n",
       "       '2023-04-07T00:00:00.000000000', '2023-04-08T00:00:00.000000000',\n",
       "       '2023-04-09T00:00:00.000000000', '2023-04-10T00:00:00.000000000',\n",
       "       '2023-04-11T00:00:00.000000000', '2023-04-12T00:00:00.000000000',\n",
       "       '2023-04-13T00:00:00.000000000', '2023-04-14T00:00:00.000000000',\n",
       "       '2023-04-15T00:00:00.000000000', '2023-04-16T00:00:00.000000000',\n",
       "       '2023-04-17T00:00:00.000000000', '2023-04-18T00:00:00.000000000',\n",
       "       '2023-04-19T00:00:00.000000000', '2023-04-20T00:00:00.000000000',\n",
       "       '2023-04-21T00:00:00.000000000', '2023-04-22T00:00:00.000000000',\n",
       "       '2023-04-23T00:00:00.000000000', '2023-04-24T00:00:00.000000000',\n",
       "       '2023-04-25T00:00:00.000000000', '2023-04-26T00:00:00.000000000',\n",
       "       '2023-04-27T00:00:00.000000000', '2023-04-28T00:00:00.000000000',\n",
       "       '2023-04-29T00:00:00.000000000', '2023-04-30T00:00:00.000000000',\n",
       "       '2023-05-01T00:00:00.000000000', '2023-05-02T00:00:00.000000000',\n",
       "       '2023-05-03T00:00:00.000000000', '2023-05-04T00:00:00.000000000',\n",
       "       '2023-05-05T00:00:00.000000000', '2023-05-06T00:00:00.000000000',\n",
       "       '2023-05-07T00:00:00.000000000', '2023-05-08T00:00:00.000000000',\n",
       "       '2023-05-09T00:00:00.000000000', '2023-05-10T00:00:00.000000000'],\n",
       "      dtype='datetime64[ns]')"
      ]
     },
     "execution_count": 76,
     "metadata": {},
     "output_type": "execute_result"
    }
   ],
   "source": [
    "dfFinal2.DATA.unique()"
   ]
  },
  {
   "cell_type": "markdown",
   "metadata": {},
   "source": [
    "- Passar para csv"
   ]
  },
  {
   "cell_type": "code",
   "execution_count": 88,
   "metadata": {},
   "outputs": [
    {
     "name": "stdout",
     "output_type": "stream",
     "text": [
      "CPU times: total: 219 ms\n",
      "Wall time: 524 ms\n"
     ]
    }
   ],
   "source": [
    "%%time\n",
    "\n",
    "escrever_csv(filtered_oi, \"Métricas3060120_Piloto\")"
   ]
  },
  {
   "cell_type": "code",
   "execution_count": null,
   "metadata": {},
   "outputs": [],
   "source": []
  },
  {
   "cell_type": "code",
   "execution_count": 55,
   "metadata": {},
   "outputs": [],
   "source": [
    "escrever_csv(dfFinal2, \"Mil_MétricasCerto07\")\n",
    "#escrever_csv(df_DiasCertos, \"StocksDelta_2023_10prod_Limpo\")\n",
    "#escrever_csv(df_RoturasDiasCertos, \"StocksDelta_2023_10prod_Roturas\")"
   ]
  },
  {
   "cell_type": "code",
   "execution_count": 4,
   "metadata": {},
   "outputs": [],
   "source": [
    "def escrever_excel(dataFrame, nomeFicheiro):\n",
    "    dataFrame.to_excel('D:\\\\B&N Dados\\\\Delta\\\\Piloto\\\\%s.xlsx' %nomeFicheiro, index=False)\n",
    "    "
   ]
  },
  {
   "cell_type": "code",
   "execution_count": 5,
   "metadata": {},
   "outputs": [],
   "source": [
    "escrever_excel(oi, \"ParaTestarCoisas\")"
   ]
  },
  {
   "cell_type": "code",
   "execution_count": 4,
   "metadata": {
    "collapsed": true
   },
   "outputs": [
    {
     "ename": "ValueError",
     "evalue": "The truth value of a Series is ambiguous. Use a.empty, a.bool(), a.item(), a.any() or a.all().",
     "output_type": "error",
     "traceback": [
      "\u001b[1;31m---------------------------------------------------------------------------\u001b[0m",
      "\u001b[1;31mValueError\u001b[0m                                Traceback (most recent call last)",
      "Cell \u001b[1;32mIn[4], line 1\u001b[0m\n\u001b[1;32m----> 1\u001b[0m oiEscrever \u001b[38;5;241m=\u001b[39m oi[(\u001b[38;5;124m\"\u001b[39m\u001b[38;5;124m2023-04-14\u001b[39m\u001b[38;5;124m\"\u001b[39m\u001b[38;5;241m<\u001b[39m\u001b[38;5;241m=\u001b[39moi[\u001b[38;5;124m\"\u001b[39m\u001b[38;5;124mDATA\u001b[39m\u001b[38;5;124m\"\u001b[39m]\u001b[38;5;241m<\u001b[39m\u001b[38;5;241m=\u001b[39m\u001b[38;5;124m\"\u001b[39m\u001b[38;5;124m2023-04-16\u001b[39m\u001b[38;5;124m\"\u001b[39m) \u001b[38;5;129;01mor\u001b[39;00m (\u001b[38;5;124m\"\u001b[39m\u001b[38;5;124m2023-04-21\u001b[39m\u001b[38;5;124m\"\u001b[39m\u001b[38;5;241m<\u001b[39m\u001b[38;5;241m=\u001b[39moi[\u001b[38;5;124m\"\u001b[39m\u001b[38;5;124mDATA\u001b[39m\u001b[38;5;124m\"\u001b[39m]\u001b[38;5;241m<\u001b[39m\u001b[38;5;241m=\u001b[39m\u001b[38;5;124m\"\u001b[39m\u001b[38;5;124m2023-04-23\u001b[39m\u001b[38;5;124m\"\u001b[39m) \u001b[38;5;129;01mor\u001b[39;00m (\u001b[38;5;124m\"\u001b[39m\u001b[38;5;124m2023-04-28\u001b[39m\u001b[38;5;124m\"\u001b[39m\u001b[38;5;241m<\u001b[39m\u001b[38;5;241m=\u001b[39moi[\u001b[38;5;124m\"\u001b[39m\u001b[38;5;124mDATA\u001b[39m\u001b[38;5;124m\"\u001b[39m]\u001b[38;5;241m<\u001b[39m\u001b[38;5;241m=\u001b[39m\u001b[38;5;124m\"\u001b[39m\u001b[38;5;124m2023-04-30\u001b[39m\u001b[38;5;124m\"\u001b[39m) \u001b[38;5;129;01mor\u001b[39;00m (\u001b[38;5;124m\"\u001b[39m\u001b[38;5;124m2023-05-05\u001b[39m\u001b[38;5;124m\"\u001b[39m\u001b[38;5;241m<\u001b[39m\u001b[38;5;241m=\u001b[39moi[\u001b[38;5;124m\"\u001b[39m\u001b[38;5;124mDATA\u001b[39m\u001b[38;5;124m\"\u001b[39m]\u001b[38;5;241m<\u001b[39m\u001b[38;5;241m=\u001b[39m\u001b[38;5;124m\"\u001b[39m\u001b[38;5;124m2023-05-07\u001b[39m\u001b[38;5;124m\"\u001b[39m)]\n",
      "File \u001b[1;32m~\\anaconda3_recent\\lib\\site-packages\\pandas\\core\\generic.py:1527\u001b[0m, in \u001b[0;36mNDFrame.__nonzero__\u001b[1;34m(self)\u001b[0m\n\u001b[0;32m   1525\u001b[0m \u001b[38;5;129m@final\u001b[39m\n\u001b[0;32m   1526\u001b[0m \u001b[38;5;28;01mdef\u001b[39;00m \u001b[38;5;21m__nonzero__\u001b[39m(\u001b[38;5;28mself\u001b[39m) \u001b[38;5;241m-\u001b[39m\u001b[38;5;241m>\u001b[39m NoReturn:\n\u001b[1;32m-> 1527\u001b[0m     \u001b[38;5;28;01mraise\u001b[39;00m \u001b[38;5;167;01mValueError\u001b[39;00m(\n\u001b[0;32m   1528\u001b[0m         \u001b[38;5;124mf\u001b[39m\u001b[38;5;124m\"\u001b[39m\u001b[38;5;124mThe truth value of a \u001b[39m\u001b[38;5;132;01m{\u001b[39;00m\u001b[38;5;28mtype\u001b[39m(\u001b[38;5;28mself\u001b[39m)\u001b[38;5;241m.\u001b[39m\u001b[38;5;18m__name__\u001b[39m\u001b[38;5;132;01m}\u001b[39;00m\u001b[38;5;124m is ambiguous. \u001b[39m\u001b[38;5;124m\"\u001b[39m\n\u001b[0;32m   1529\u001b[0m         \u001b[38;5;124m\"\u001b[39m\u001b[38;5;124mUse a.empty, a.bool(), a.item(), a.any() or a.all().\u001b[39m\u001b[38;5;124m\"\u001b[39m\n\u001b[0;32m   1530\u001b[0m     )\n",
      "\u001b[1;31mValueError\u001b[0m: The truth value of a Series is ambiguous. Use a.empty, a.bool(), a.item(), a.any() or a.all()."
     ]
    }
   ],
   "source": [
    "oiEscrever = oi[(\"2023-04-14\"<=oi[\"DATA\"]<=\"2023-04-16\") or (\"2023-04-21\"<=oi[\"DATA\"]<=\"2023-04-23\") or (\"2023-04-28\"<=oi[\"DATA\"]<=\"2023-04-30\") or (\"2023-05-05\"<=oi[\"DATA\"]<=\"2023-05-07\")]"
   ]
  },
  {
   "cell_type": "code",
   "execution_count": 87,
   "metadata": {},
   "outputs": [],
   "source": [
    "filtered_oi = oi[oi[\"DATA\"].between(\"2023-04-14\", \"2023-04-16\") |\n",
    "                  oi[\"DATA\"].between(\"2023-04-21\", \"2023-04-23\") |\n",
    "                  oi[\"DATA\"].between(\"2023-04-28\", \"2023-04-30\") |\n",
    "                  oi[\"DATA\"].between(\"2023-05-05\", \"2023-05-07\")]"
   ]
  }
 ],
 "metadata": {
  "kernelspec": {
   "display_name": "Python 3 (ipykernel)",
   "language": "python",
   "name": "python3"
  },
  "language_info": {
   "codemirror_mode": {
    "name": "ipython",
    "version": 3
   },
   "file_extension": ".py",
   "mimetype": "text/x-python",
   "name": "python",
   "nbconvert_exporter": "python",
   "pygments_lexer": "ipython3",
   "version": "3.10.9"
  }
 },
 "nbformat": 4,
 "nbformat_minor": 2
}
