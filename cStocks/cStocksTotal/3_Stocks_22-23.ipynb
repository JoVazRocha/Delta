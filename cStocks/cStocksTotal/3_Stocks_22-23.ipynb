{
 "cells": [
  {
   "cell_type": "code",
   "execution_count": 1,
   "id": "24461ab3",
   "metadata": {},
   "outputs": [],
   "source": [
    "import pandas as pd\n",
    "import numpy as np\n",
    "\n",
    "def escrever_excel(dfa, nome):\n",
    "    dfa.to_excel('%s.xlsx' %nome, index=False)\n",
    "    \n",
    "def escrever_csv(dfa, nome):\n",
    "    dfa.to_csv(nome+'.csv', index=False)"
   ]
  },
  {
   "cell_type": "markdown",
   "id": "c1dd77cb",
   "metadata": {},
   "source": [
    "# Importar as bases"
   ]
  },
  {
   "cell_type": "code",
   "execution_count": 2,
   "id": "8b9d5df3",
   "metadata": {},
   "outputs": [
    {
     "name": "stdout",
     "output_type": "stream",
     "text": [
      "CPU times: total: 17.4 s\n",
      "Wall time: 19.1 s\n"
     ]
    }
   ],
   "source": [
    "%%time\n",
    "#Ler os ficheiros\n",
    "\n",
    "df_2022 = pd.read_csv('D:\\\\B&N Dados\\\\Delta\\\\Stocks\\\\Stocks2022\\\\Stocks_Delta_2022_Limpo.csv')\n",
    "df_2023 = pd.read_csv('D:\\\\B&N Dados\\\\Delta\\\\Stocks\\\\Stocks2023\\\\Stocks_Delta_2023_Limpo.csv')\n",
    "\n",
    "df_Prophet = pd.read_csv('C:\\\\Users\\\\joao_\\\\OneDrive\\\\Ambiente de Trabalho\\\\B&N Código\\\\Delta\\\\Forecasting\\\\Prophet.csv')"
   ]
  },
  {
   "cell_type": "code",
   "execution_count": 22,
   "id": "2bb8d331",
   "metadata": {},
   "outputs": [],
   "source": [
    "dataframes = [df_2022, df_2023]\n",
    "df_Fusão = pd.concat(dataframes, ignore_index=True)\n",
    "\n",
    "df_Fusão = pd.merge(df_Fusão, df_Prophet[['DATA', 'STORE', 'DESC_ARTIGO', 'Prophet']], how=\"left\", on=['DATA', 'STORE', 'DESC_ARTIGO',] )\n",
    "#dfCopia=df_Fusão.loc[(df_Fusão['DATA'] >= '2022-12-10') ].copy()\n",
    "dfCopia = df_Fusão.copy()"
   ]
  },
  {
   "cell_type": "markdown",
   "id": "161708bd",
   "metadata": {},
   "source": [
    "# <font color=red>Opcional:</font> Definir produtos em causa"
   ]
  },
  {
   "cell_type": "code",
   "execution_count": null,
   "id": "3c93abe4",
   "metadata": {},
   "outputs": [],
   "source": [
    "%%time\n",
    "# Ler ficheiro dos produtos para dataframe\n",
    "df_produtos = pd.read_csv('D:\\\\B&N Dados\\\\Delta\\\\Piloto\\\\produtos.txt', header=None)\n",
    "\n",
    "# Passar para uma lista\n",
    "produtos = df_produtos[0].tolist()\n",
    "\n",
    "# Alterar o dataframe para apenas incluir os produtos em causa\n",
    "dfFinal = dfCopia[dfCopia[\"DESC_ARTIGO\"].isin(produtos)].copy()"
   ]
  },
  {
   "cell_type": "markdown",
   "id": "7e638ba9",
   "metadata": {},
   "source": [
    "## <font color=red>Fim</font> "
   ]
  },
  {
   "cell_type": "markdown",
   "id": "344792fb",
   "metadata": {},
   "source": [
    "> STK"
   ]
  },
  {
   "cell_type": "code",
   "execution_count": 24,
   "id": "fe7de9c1",
   "metadata": {},
   "outputs": [],
   "source": [
    "df_Total[\"STK\"] = df_Total[\"SOH\"] + df_Total[\"INTRANSIT\"] + df_Total[\"EXPECTED\"]"
   ]
  },
  {
   "cell_type": "markdown",
   "id": "3f474463",
   "metadata": {},
   "source": [
    "> MSA"
   ]
  },
  {
   "cell_type": "code",
   "execution_count": 25,
   "id": "2b5077a3",
   "metadata": {},
   "outputs": [
    {
     "name": "stdout",
     "output_type": "stream",
     "text": [
      "CPU times: total: 15.2 s\n",
      "Wall time: 16.6 s\n"
     ]
    }
   ],
   "source": [
    "%%time\n",
    "df_Total[\"MSA\"] = df_Total.groupby(['DESC_ARTIGO', \"STORE\"])[\"1_Dia_Antes\"].transform(lambda x: x.rolling(window=10).mean())"
   ]
  },
  {
   "cell_type": "markdown",
   "id": "0cfe43e9",
   "metadata": {},
   "source": [
    "> Balance"
   ]
  },
  {
   "cell_type": "code",
   "execution_count": 27,
   "id": "9eaf6fb8",
   "metadata": {},
   "outputs": [],
   "source": [
    "df_Total[\"BALANCE\"] = df_Total[\"MSA\"] / df_Total[\"STK\"]"
   ]
  },
  {
   "cell_type": "markdown",
   "id": "f1c35ed7",
   "metadata": {},
   "source": [
    "# Escrever"
   ]
  },
  {
   "cell_type": "code",
   "execution_count": null,
   "id": "8f5aca20",
   "metadata": {},
   "outputs": [],
   "source": [
    "%%time\n",
    "escrever_csv(df_Total, \"StocksDeltaTodos\")"
   ]
  }
 ],
 "metadata": {
  "kernelspec": {
   "display_name": "Python 3 (ipykernel)",
   "language": "python",
   "name": "python3"
  },
  "language_info": {
   "codemirror_mode": {
    "name": "ipython",
    "version": 3
   },
   "file_extension": ".py",
   "mimetype": "text/x-python",
   "name": "python",
   "nbconvert_exporter": "python",
   "pygments_lexer": "ipython3",
   "version": "3.10.9"
  }
 },
 "nbformat": 4,
 "nbformat_minor": 5
}
