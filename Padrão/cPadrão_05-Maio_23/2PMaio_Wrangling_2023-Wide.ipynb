{
 "cells": [
  {
   "cell_type": "markdown",
   "metadata": {},
   "source": [
    "# Resumo do código\n",
    "\n",
    ">### Entra: 1_Ninjas e 2_Delta  \n",
    ">### Sai: OUT_2_DataFusion_2022\n",
    "---\n",
    "O objectivo é receber dados dos Ninjas e da Delta e devolver um ficheiro Wide que permita verificar o comportamento de vários produtos em diversas lojas através de representações gráficas. \n",
    "\n",
    "Devolve um ficheiro que entra no R para gerar o Dashboard.\n",
    "\n",
    "---\n",
    "- Inputs\n",
    "\n",
    "> __Dados dos ninjas__ em formato Wide\n",
    "> - 1's e 0's consoante a presença e ausência do produto, Data e Loja\n",
    "\n",
    "> __Dados da Delta__ em formato Wide\n",
    "> - Stocks e trânsito, Sellout dia anterior\n",
    "\n",
    "- Outputs\n",
    "\n",
    "> __Ficheiro Wide__ \n",
    "\n",
    "> __Métricas novas:__\n",
    "> - Roturas de Stock, Pré-rotura\n",
    "> - Sinal\n",
    "> - Ciclos e Adequação de Stock\n",
    "> - STK\n",
    "> - (Novo) Balanço\n",
    "> - (Novo) Dias para a rotura de stock e de prateleira\n"
   ]
  },
  {
   "cell_type": "code",
   "execution_count": 1,
   "metadata": {},
   "outputs": [],
   "source": [
    "import pandas as pd\n",
    "import numpy as np\n",
    "\n",
    "def escrever_excel(dfa, nome):\n",
    "    dfa.to_excel('%s.xlsx' %nome, index=False)"
   ]
  },
  {
   "cell_type": "markdown",
   "metadata": {},
   "source": [
    "- # `Ninjas`"
   ]
  },
  {
   "cell_type": "code",
   "execution_count": 2,
   "metadata": {
    "scrolled": true
   },
   "outputs": [],
   "source": [
    "#Info Ninja\n",
    "dfNinjas=pd.read_excel(\"D:\\\\B&N Dados\\\\Delta\\\\Padrão_05_2023\\\\1Ninjas_Limpo.xlsx\")"
   ]
  },
  {
   "cell_type": "markdown",
   "metadata": {},
   "source": [
    "> Definir variáveis importantes\n",
    "> - Se houver um ficheiro com os produtos"
   ]
  },
  {
   "cell_type": "code",
   "execution_count": 3,
   "metadata": {},
   "outputs": [],
   "source": [
    "# Ler ficheiro para dataframe\n",
    "df_produtos = pd.read_csv('D:\\\\B&N Dados\\\\Delta\\\\Padrão_05_2023\\\\produtos.txt', header=None)\n",
    "\n",
    "# Passar para uma lista\n",
    "produtos = df_produtos[0].tolist()\n",
    "resto = dfNinjas.columns.difference(produtos)"
   ]
  },
  {
   "cell_type": "markdown",
   "metadata": {},
   "source": [
    "> - Se se quiser usar o primeiro e o último produtos"
   ]
  },
  {
   "cell_type": "code",
   "execution_count": 4,
   "metadata": {},
   "outputs": [],
   "source": [
    "# Nomes de entrada\n",
    "#x= input(\"Primeiro produto: \")                # CAFÉ DELTA Q MYTHIQ 80CAP\n",
    "#y= input(\"Último produto: \")                  # BEBIDA CEREAIS DELTA C/20%CAFE FR 200G\n",
    "\n",
    "# Passar para uma lista\n",
    "#produtos = dfNinjas.columns[dfNinjas.columns.get_loc(x): dfNinjas.columns.get_loc(y)+1].tolist()\n",
    "#resto = dfNinjas.columns.difference(produtos)"
   ]
  },
  {
   "cell_type": "markdown",
   "metadata": {},
   "source": [
    "> - Número de produtos presentes"
   ]
  },
  {
   "cell_type": "code",
   "execution_count": 5,
   "metadata": {},
   "outputs": [],
   "source": [
    "# Criar coluna com o número dos produtos em causa presentes no instante\n",
    "\n",
    "dfNinjas[\"Num_Produtos\"] = dfNinjas[produtos].sum(axis=1)\n",
    "\n",
    "dfNinjas.loc[(dfNinjas[\"Num_Produtos\"] == 0) & (dfNinjas[produtos[1]].isna()), \"Num_Produtos\"] = np.nan"
   ]
  },
  {
   "cell_type": "markdown",
   "metadata": {},
   "source": [
    "> - Reposição"
   ]
  },
  {
   "cell_type": "code",
   "execution_count": 52,
   "metadata": {},
   "outputs": [],
   "source": [
    "# Ler ficheiro\n",
    "dfRepos=pd.read_excel(\"D:\\\\B&N Dados\\\\Delta\\\\Reposição_Sonae_Código.xlsx\")\n",
    "\n",
    "# Criar coluna de reposição\n",
    "dfNinjas['Reposição'] = [1 if val in dfRepos['STORE'].values else 0 for val in dfNinjas['STORE']]"
   ]
  },
  {
   "cell_type": "markdown",
   "metadata": {},
   "source": [
    "> - Id"
   ]
  },
  {
   "cell_type": "code",
   "execution_count": null,
   "metadata": {},
   "outputs": [],
   "source": [
    "# Extract the day and month components from the 'datetime' column\n",
    "dfNinjas['day'] = pd.to_datetime(dfNinjas['DATA']).dt.day\n",
    "dfNinjas['month'] = pd.to_datetime(dfNinjas['DATA']).dt.month\n",
    "\n",
    "# Create a new column combining day and month\n",
    "dfNinjas['day_month'] = dfNinjas['day'].astype(str) + '-' + dfNinjas['month'].astype(str)\n",
    "\n",
    "# Assign unique IDs to each unique day-month combination\n",
    "dfNinjas['id'], _ = pd.factorize(dfNinjas['day_month'])\n",
    "\n",
    "dfNinjas = dfNinjas.drop(columns=['day', 'month', 'day_month'])"
   ]
  },
  {
   "cell_type": "markdown",
   "metadata": {},
   "source": [
    "# <font color=red>Gráficos!!</font>"
   ]
  },
  {
   "cell_type": "code",
   "execution_count": 57,
   "metadata": {},
   "outputs": [],
   "source": [
    "#escrever_excel(dfNinjas, \"IN_5_Gráficos\")"
   ]
  },
  {
   "cell_type": "markdown",
   "metadata": {},
   "source": [
    "# <font color=red>Fim</font>"
   ]
  },
  {
   "cell_type": "markdown",
   "metadata": {},
   "source": [
    "> Vendedor"
   ]
  },
  {
   "cell_type": "code",
   "execution_count": 33,
   "metadata": {},
   "outputs": [],
   "source": [
    "# Ler ficheiro\n",
    "dfVendedor=pd.read_excel(\"D:\\B&N Dados\\Delta\\Padrão_05_2023\\\\Vendedor.xlsx\", sheet_name = \"Lista Lojas Sonae\")\n",
    "dfVendedor = dfVendedor.rename(columns={\"Cód. Loja\":\"STORE\"})\n",
    "\n",
    "# Criar coluna de reposição\n",
    "dfNinjas = pd.merge(dfNinjas, dfVendedor[[\"STORE\",\"Vendedor\"]], how=\"left\", on = \"STORE\")"
   ]
  },
  {
   "cell_type": "markdown",
   "metadata": {},
   "source": [
    "- #  `Delta (stocks, reposição e sellouts)`"
   ]
  },
  {
   "cell_type": "code",
   "execution_count": 34,
   "metadata": {},
   "outputs": [],
   "source": [
    "# Ler o ficheiro long com Stocks e Fornecimento\n",
    "\n",
    "dfDelta=pd.read_excel(\"D:\\\\B&N Dados\\\\Delta\\\\Padrão_05_2023\\\\2Delta_Limpo.xlsx\", sheet_name=\"Sheet1\")"
   ]
  },
  {
   "cell_type": "markdown",
   "metadata": {},
   "source": [
    "# <font color=green>Mergir</font>"
   ]
  },
  {
   "cell_type": "code",
   "execution_count": 35,
   "metadata": {},
   "outputs": [],
   "source": [
    "# Dataframe mergido no fim\n",
    "dfMergir=dfNinjas.copy()\n",
    "\n",
    "\n",
    "for coluna in produtos:       \n",
    "    \n",
    "    #Cada dfStocks é um dataframe com o produto específico\n",
    "    dfStocks=dfDelta[dfDelta[\"DESC_ARTIGO\"]==coluna][[\"DATA\", \"STORE\", \"STOCK\", \"PRES_STOCK\", \"INTRANSIT\", \"EXPECTED\", \"SELLOUT\"]]   #Dados Ninjas, seleccionar colunas do café específico\n",
    "    \n",
    "    #Juntar dados de acordo com o dia e a loja\n",
    "    dfMergir=pd.merge(dfMergir, dfStocks, how=\"left\", on = [\"DATA\",\"STORE\"])  \n",
    "    \n",
    "    #Mudar nomes para ser adaptado a cada produto\n",
    "    dfMergir=dfMergir.rename(columns={\"STOCK\": \"STOCK %s\" % coluna, \"PRES_STOCK\":\"PRESLINEAR %s\" % coluna, \"INTRANSIT\":\"INTRANSIT %s\" % coluna, \"EXPECTED\":\"EXPECTED %s\" % coluna, \"SELLOUT\":\"SELLOUT %s\" % coluna})                       #Nomear coluna nova\n",
    "    \n",
    "    "
   ]
  },
  {
   "cell_type": "code",
   "execution_count": 54,
   "metadata": {},
   "outputs": [],
   "source": [
    "dfFinal=dfMergir.copy()"
   ]
  },
  {
   "cell_type": "markdown",
   "metadata": {},
   "source": [
    "### <font color=green>Fim</font>"
   ]
  },
  {
   "cell_type": "markdown",
   "metadata": {},
   "source": [
    "# Já temos DataFrame com:\n",
    "- Informação Ninjas\n",
    "- Informação Stocks, Linear, Intransit, Expected e Sellout\n",
    "\n",
    "\n",
    "## Fazer:\n",
    "\n",
    "- STK \n",
    "- Balanço\n",
    "- Rotura \n",
    "- Pré-rotura\n",
    "- Sinal\n",
    "- Ciclos\n",
    "- Adequação de Stock\n",
    "- Dias para a rotura de stock\n",
    "- Dias para a rotura de prateleira"
   ]
  },
  {
   "cell_type": "markdown",
   "metadata": {},
   "source": [
    "> STK"
   ]
  },
  {
   "cell_type": "code",
   "execution_count": 37,
   "metadata": {},
   "outputs": [],
   "source": [
    "for i in produtos:\n",
    "\n",
    "    transito = \"INTRANSIT %s\" % i\n",
    "    esperado = \"EXPECTED %s\" % i\n",
    "    stock  = \"STOCK %s\" % i\n",
    "    \n",
    "    stk = \"STK %s\" %i\n",
    "      \n",
    "    dfFinal[stk] = dfFinal[stock] + dfFinal[esperado] + dfFinal[transito]"
   ]
  },
  {
   "cell_type": "markdown",
   "metadata": {},
   "source": [
    "> Balanço"
   ]
  },
  {
   "cell_type": "code",
   "execution_count": 38,
   "metadata": {},
   "outputs": [],
   "source": [
    "for i in produtos:\n",
    "    stk = \"STK %s\" %i\n",
    "    #msa = \"MSA %s\" %i\n",
    "    sellout = \"SELLOUT %s\" %i\n",
    "    \n",
    "    balance = \"BALANCE %s\" %i\n",
    "    \n",
    "    dfFinal[balance] = dfFinal[sellout] / dfFinal[stk]\n",
    "    \n",
    "    "
   ]
  },
  {
   "cell_type": "markdown",
   "metadata": {},
   "source": [
    "> Rotura"
   ]
  },
  {
   "cell_type": "code",
   "execution_count": 39,
   "metadata": {},
   "outputs": [],
   "source": [
    "for i in produtos:\n",
    "    rotura  = \"ROTURA %s\" % i\n",
    "    stock  = \"STOCK %s\" % i\n",
    "    preslinear = \"PRESLINEAR %s\" % i\n",
    "    \n",
    "    dfFinal[rotura] = np.where((dfFinal[stock] > 0) & ~(dfFinal[i].isna()), 0, \n",
    "                      np.where((dfFinal[stock] <= 0) & (dfFinal[preslinear] > 0) & ~(dfFinal[i].isna()), 1, \n",
    "                      np.nan))\n"
   ]
  },
  {
   "cell_type": "markdown",
   "metadata": {},
   "source": [
    "> Pré-Rotura"
   ]
  },
  {
   "cell_type": "code",
   "execution_count": 40,
   "metadata": {},
   "outputs": [],
   "source": [
    "for i in produtos:\n",
    "    stock  = \"STOCK %s\" % i\n",
    "    preslinear = \"PRESLINEAR %s\" % i\n",
    "    pre_rotura= \"PRÉ-ROTURA %s\" % i\n",
    "    \n",
    "    dfFinal[pre_rotura] = (dfFinal[stock] < dfFinal[preslinear]).astype(int)"
   ]
  },
  {
   "cell_type": "markdown",
   "metadata": {},
   "source": [
    ">Sinal"
   ]
  },
  {
   "cell_type": "code",
   "execution_count": 41,
   "metadata": {},
   "outputs": [],
   "source": [
    "#dfFinal[\"Sinal\"]= pd.Series(dtype='int')\n",
    "\n",
    "# Define the mappings of numbers to strings\n",
    "mapping = {1: \"Verdadeiramente Correcto\",\n",
    "           2: \"Falso Positivo\",\n",
    "           3: \"Falso Negativo\",\n",
    "           4: \"Rejeição Correcta\"}\n",
    "\n",
    "for i in produtos:\n",
    "    sinal = \"SINAL %s\" % i\n",
    "    stock  = \"STOCK %s\" % i\n",
    "    \n",
    "    dfFinal[sinal] = np.where((dfFinal[stock] > 0) & (dfFinal[i] == 1), 1,\n",
    "                     np.where((dfFinal[stock] > 0) & (dfFinal[i] == 0), 2,\n",
    "                     np.where((dfFinal[stock] <= 0) & (dfFinal[i] == 1), 3,\n",
    "                     np.where((dfFinal[stock] <= 0) & (dfFinal[i] == 0), 4, \n",
    "                     np.nan))))\n",
    "\n",
    "\n",
    "    # Map the numbers to the corresponding strings\n",
    "    dfFinal[sinal] = dfFinal[sinal].map(mapping)\n",
    "    \n",
    "\n",
    "# 1: Há Stock e Sinal Positivo Ninja \"Verdadeiramente Correcto\"\n",
    "# 2: Há Stock e Sinal Negativo Ninja \"Falso Positivo\"\n",
    "# 3: Não há Stock e Sinal Positivo Ninja \"Falso Negativo\"\n",
    "# 4: Não há Stock e Sinal Negativo Ninja \"Rejeição Correcta\""
   ]
  },
  {
   "cell_type": "markdown",
   "metadata": {},
   "source": [
    "> Ciclos"
   ]
  },
  {
   "cell_type": "code",
   "execution_count": 42,
   "metadata": {},
   "outputs": [],
   "source": [
    "for i in produtos:\n",
    "    ciclos = \"CICLO %s\" % i\n",
    "    stock  = \"STOCK %s\" % i\n",
    "    linear = \"PRESLINEAR %s\" % i\n",
    "    dfFinal[ciclos]=dfFinal[stock]/dfFinal[linear]"
   ]
  },
  {
   "cell_type": "markdown",
   "metadata": {},
   "source": [
    "> Adequação"
   ]
  },
  {
   "cell_type": "code",
   "execution_count": 43,
   "metadata": {},
   "outputs": [],
   "source": [
    "# Define the mappings of numbers to strings\n",
    "mapping = {1: \"Stock Suficiente\",\n",
    "           2: \"Stock Insuf c Forn Adequado\",\n",
    "           3: \"Stock Insuf c Forn Desadequado\"}\n",
    "\n",
    "for i in produtos:\n",
    "    adequa = \"ADEQUAÇÃO %s\" % i\n",
    "    ciclos = \"CICLO %s\" % i\n",
    "    transito = \"INTRANSIT %s\" % i\n",
    "    esperado = \"EXPECTED %s\" % i\n",
    "    stock  = \"STOCK %s\" % i\n",
    "    linear = \"PRESLINEAR %s\" % i\n",
    "    \n",
    "    dfFinal[adequa] = np.where(dfFinal[ciclos] > 1.1, 1,\n",
    "                      np.where((dfFinal[ciclos] <= 1.1) & (dfFinal[transito] + dfFinal[esperado] + dfFinal[stock] >= dfFinal[linear]), 2,\n",
    "                      np.where((dfFinal[ciclos] <= 1.1) & (dfFinal[transito] + dfFinal[esperado] + dfFinal[stock] < dfFinal[linear]), 3, \n",
    "                      np.nan)))\n",
    "    \n",
    "    # Map the numbers to the corresponding strings\n",
    "    dfFinal[adequa] = dfFinal[adequa].map(mapping)"
   ]
  },
  {
   "cell_type": "markdown",
   "metadata": {},
   "source": [
    "- Dias para a rotura"
   ]
  },
  {
   "cell_type": "code",
   "execution_count": 44,
   "metadata": {},
   "outputs": [],
   "source": [
    "for i in produtos:\n",
    "    stock  = \"STOCK %s\" % i\n",
    "    #msa = \"MSA %s\" %i\n",
    "    sellout = \"SELLOUT %s\" % i\n",
    "    dias_rotura = \"Dias_para_Rotura %s\" % i\n",
    "    \n",
    "    dfFinal[dias_rotura] = dfFinal[stock]/dfFinal[sellout]"
   ]
  },
  {
   "cell_type": "markdown",
   "metadata": {},
   "source": [
    "- Dias para a rotura de prateleira"
   ]
  },
  {
   "cell_type": "code",
   "execution_count": 45,
   "metadata": {},
   "outputs": [],
   "source": [
    "dfFinal2=dfFinal.copy()\n",
    "\n",
    "for i in produtos:\n",
    "    linear = \"PRESLINEAR %s\" % i\n",
    "    #msa = \"MSA %s\" %i\n",
    "    sellout = \"SELLOUT %s\" % i\n",
    "    dias_rotura_prat = \"Dias_para_Rotura_Linear %s\" % i\n",
    "    \n",
    "    dfFinal2[dias_rotura_prat] = dfFinal2[linear] / dfFinal2[sellout]"
   ]
  },
  {
   "cell_type": "markdown",
   "metadata": {},
   "source": [
    "# Acabamos com:\n",
    "- Informação Ninjas\n",
    "- Informação Stocks, Linear, Intransit e Expected\n",
    "- Informação Sellouts, Vendedor, Reposição\n",
    "\n",
    "- STK \n",
    "- Balanço\n",
    "- Rotura\n",
    "- Pré-Rotura\n",
    "- Sinal \n",
    "- Ciclos\n",
    "- Adequação de Stock\n",
    "- Dias para a rotura de stock\n",
    "- Dias para a rotura de prateleira\n",
    "- Balanço"
   ]
  },
  {
   "cell_type": "markdown",
   "metadata": {},
   "source": [
    "# Escrever"
   ]
  },
  {
   "cell_type": "code",
   "execution_count": 46,
   "metadata": {},
   "outputs": [],
   "source": [
    "escrever_excel(dfFinal2, \"OUT_2_DataFusion\")\n",
    "#dfFinalCorr.to_csv('ficheiro_NSS.csv', index=False)"
   ]
  },
  {
   "cell_type": "markdown",
   "metadata": {},
   "source": [
    "---"
   ]
  },
  {
   "cell_type": "markdown",
   "metadata": {},
   "source": [
    "# 2022"
   ]
  },
  {
   "cell_type": "markdown",
   "metadata": {},
   "source": [
    "## Ler ficheiro"
   ]
  },
  {
   "cell_type": "code",
   "execution_count": null,
   "metadata": {},
   "outputs": [],
   "source": [
    "# Ler o ficheiro long com Stocks e Fornecimento\n",
    "dfDelta_2022=pd.read_excel(\"D:\\\\B&N Dados\\\\Delta\\\\cPadrão\\\\2Delta2022Id.xlsx\", sheet_name=\"Sheet1\")"
   ]
  },
  {
   "cell_type": "markdown",
   "metadata": {},
   "source": [
    "## Mergir"
   ]
  },
  {
   "cell_type": "code",
   "execution_count": null,
   "metadata": {},
   "outputs": [],
   "source": [
    "# Dataframe mergido no fim\n",
    "df_2022=dfNinjas.copy()\n",
    "\n",
    "\n",
    "for coluna in produtos:       \n",
    "    \n",
    "    #Cada dfStocks é um dataframe com o produto específico\n",
    "    dfStocks=dfDelta_2022[dfDelta_2022[\"DESC_ARTIGO\"]==coluna][[\"id\", \"Semana\", \"STORE\", \"SOH\", \"PRES_STOCK\", \"INTRANSIT\", \"EXPECTED\", \"Dia_Actual\"]]   #Dados Ninjas, seleccionar colunas do café específico\n",
    "    \n",
    "    #Juntar dados de acordo com o dia e a loja\n",
    "    df_2022=pd.merge(df_2022, dfStocks, how=\"left\", on = [\"id\",\"STORE\", \"Semana\"])  \n",
    "    \n",
    "    #Mudar nomes para ser adaptado a cada produto\n",
    "    df_2022=df_2022.rename(columns={\"SOH\": \"STOCK %s\" % coluna, \"PRES_STOCK\":\"PRESLINEAR %s\" % coluna, \"INTRANSIT\":\"INTRANSIT %s\" % coluna, \"EXPECTED\":\"EXPECTED %s\" % coluna, \"Dia_Actual\":\"SELLOUT %s\" % coluna})                       #Nomear coluna nova\n",
    "    "
   ]
  },
  {
   "cell_type": "markdown",
   "metadata": {},
   "source": [
    "## Escrever"
   ]
  },
  {
   "cell_type": "code",
   "execution_count": null,
   "metadata": {},
   "outputs": [],
   "source": [
    "escrever_excel(df_2022, \"OUT2DataFusion2022\")"
   ]
  }
 ],
 "metadata": {
  "kernelspec": {
   "display_name": "Python 3 (ipykernel)",
   "language": "python",
   "name": "python3"
  },
  "language_info": {
   "codemirror_mode": {
    "name": "ipython",
    "version": 3
   },
   "file_extension": ".py",
   "mimetype": "text/x-python",
   "name": "python",
   "nbconvert_exporter": "python",
   "pygments_lexer": "ipython3",
   "version": "3.10.9"
  }
 },
 "nbformat": 4,
 "nbformat_minor": 4
}
