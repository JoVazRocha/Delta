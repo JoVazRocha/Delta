{
 "cells": [
  {
   "cell_type": "code",
   "execution_count": 23,
   "metadata": {},
   "outputs": [],
   "source": [
    "import pandas as pd\n",
    "import numpy as np\n",
    "\n",
    "def escrever_excel(dfa, nome):\n",
    "    dfa.to_excel('%s.xlsx' %nome, index=False)\n",
    "    \n",
    "def escrever_txt(dfa, nome):\n",
    "    dfa.to_csv('%s.txt' %nome, sep='\\t', index=False, header=False)\n",
    "    \n",
    "def escrever_csv(dfa, nome):\n",
    "    dfa.to_csv(nome+'.csv', index=False)\n",
    "    "
   ]
  },
  {
   "cell_type": "markdown",
   "metadata": {},
   "source": [
    "# Ler ficheiros"
   ]
  },
  {
   "cell_type": "code",
   "execution_count": 12,
   "metadata": {},
   "outputs": [],
   "source": [
    "# Total\n",
    "df_Ficheiro=pd.read_excel(\"D:\\\\\\B&N Dados\\\\Delta\\\\Padrão_05_2023\\\\Fundido.xlsx\")\n",
    "\n",
    "# Produtos\n",
    "df_produtos = pd.read_csv('D:\\\\B&N Dados\\\\Delta\\\\Padrão_05_2023\\\\produtos.txt', header=None)\n",
    "# Passar para uma lista\n",
    "produtos = df_produtos[0].tolist()"
   ]
  },
  {
   "cell_type": "code",
   "execution_count": 22,
   "metadata": {},
   "outputs": [
    {
     "data": {
      "text/plain": [
       "['0: Vendedor',\n",
       " '1: Hora',\n",
       " '2: DATA',\n",
       " '3: Loja',\n",
       " '4: STORE',\n",
       " '5: CAFÉ DELTA Q QALIDUS 10CAP',\n",
       " '6: CAFÉ DELTA Q MYTHIQ 10CAP',\n",
       " '7: CAFÉ DELTA Q QHARACTER 10CAP',\n",
       " '8: CAFÉ GINGA 10CAP',\n",
       " '9: CAFÉ MOÍDO MÁQUINA CHÁVENA DELTA 250G',\n",
       " '10: CAFÉ DELTA RITUAL MU 220G',\n",
       " '11: CAFÉ TORRADO RITUAL DELTA GRÃO  500G',\n",
       " '12: CAFÉ DELTA MOAGEM UNIVERSAL BRASIL 220G',\n",
       " '13: CAFÉ DELTA MOAGEM UNIVERSAL ANGOLA 220G',\n",
       " '14: CAFÉ SOLÚVEL DELTA FRASCO 200G',\n",
       " '15: BEBIDA CEREAIS DELTA C/20%CAFE FR 200G',\n",
       " '16: Num_Produtos',\n",
       " '17: Reposição',\n",
       " '18: STOCK CAFÉ DELTA Q QALIDUS 10CAP',\n",
       " '19: PRESLINEAR CAFÉ DELTA Q QALIDUS 10CAP',\n",
       " '20: INTRANSIT CAFÉ DELTA Q QALIDUS 10CAP',\n",
       " '21: EXPECTED CAFÉ DELTA Q QALIDUS 10CAP',\n",
       " '22: SELLOUT CAFÉ DELTA Q QALIDUS 10CAP',\n",
       " '23: STOCK CAFÉ DELTA Q MYTHIQ 10CAP',\n",
       " '24: PRESLINEAR CAFÉ DELTA Q MYTHIQ 10CAP',\n",
       " '25: INTRANSIT CAFÉ DELTA Q MYTHIQ 10CAP',\n",
       " '26: EXPECTED CAFÉ DELTA Q MYTHIQ 10CAP',\n",
       " '27: SELLOUT CAFÉ DELTA Q MYTHIQ 10CAP',\n",
       " '28: STOCK CAFÉ DELTA Q QHARACTER 10CAP',\n",
       " '29: PRESLINEAR CAFÉ DELTA Q QHARACTER 10CAP',\n",
       " '30: INTRANSIT CAFÉ DELTA Q QHARACTER 10CAP',\n",
       " '31: EXPECTED CAFÉ DELTA Q QHARACTER 10CAP',\n",
       " '32: SELLOUT CAFÉ DELTA Q QHARACTER 10CAP',\n",
       " '33: STOCK CAFÉ GINGA 10CAP',\n",
       " '34: PRESLINEAR CAFÉ GINGA 10CAP',\n",
       " '35: INTRANSIT CAFÉ GINGA 10CAP',\n",
       " '36: EXPECTED CAFÉ GINGA 10CAP',\n",
       " '37: SELLOUT CAFÉ GINGA 10CAP',\n",
       " '38: STOCK CAFÉ MOÍDO MÁQUINA CHÁVENA DELTA 250G',\n",
       " '39: PRESLINEAR CAFÉ MOÍDO MÁQUINA CHÁVENA DELTA 250G',\n",
       " '40: INTRANSIT CAFÉ MOÍDO MÁQUINA CHÁVENA DELTA 250G',\n",
       " '41: EXPECTED CAFÉ MOÍDO MÁQUINA CHÁVENA DELTA 250G',\n",
       " '42: SELLOUT CAFÉ MOÍDO MÁQUINA CHÁVENA DELTA 250G',\n",
       " '43: STOCK CAFÉ DELTA RITUAL MU 220G',\n",
       " '44: PRESLINEAR CAFÉ DELTA RITUAL MU 220G',\n",
       " '45: INTRANSIT CAFÉ DELTA RITUAL MU 220G',\n",
       " '46: EXPECTED CAFÉ DELTA RITUAL MU 220G',\n",
       " '47: SELLOUT CAFÉ DELTA RITUAL MU 220G',\n",
       " '48: STOCK CAFÉ TORRADO RITUAL DELTA GRÃO  500G',\n",
       " '49: PRESLINEAR CAFÉ TORRADO RITUAL DELTA GRÃO  500G',\n",
       " '50: INTRANSIT CAFÉ TORRADO RITUAL DELTA GRÃO  500G',\n",
       " '51: EXPECTED CAFÉ TORRADO RITUAL DELTA GRÃO  500G',\n",
       " '52: SELLOUT CAFÉ TORRADO RITUAL DELTA GRÃO  500G',\n",
       " '53: STOCK CAFÉ DELTA MOAGEM UNIVERSAL BRASIL 220G',\n",
       " '54: PRESLINEAR CAFÉ DELTA MOAGEM UNIVERSAL BRASIL 220G',\n",
       " '55: INTRANSIT CAFÉ DELTA MOAGEM UNIVERSAL BRASIL 220G',\n",
       " '56: EXPECTED CAFÉ DELTA MOAGEM UNIVERSAL BRASIL 220G',\n",
       " '57: SELLOUT CAFÉ DELTA MOAGEM UNIVERSAL BRASIL 220G',\n",
       " '58: STOCK CAFÉ DELTA MOAGEM UNIVERSAL ANGOLA 220G',\n",
       " '59: PRESLINEAR CAFÉ DELTA MOAGEM UNIVERSAL ANGOLA 220G',\n",
       " '60: INTRANSIT CAFÉ DELTA MOAGEM UNIVERSAL ANGOLA 220G',\n",
       " '61: EXPECTED CAFÉ DELTA MOAGEM UNIVERSAL ANGOLA 220G',\n",
       " '62: SELLOUT CAFÉ DELTA MOAGEM UNIVERSAL ANGOLA 220G',\n",
       " '63: STOCK CAFÉ SOLÚVEL DELTA FRASCO 200G',\n",
       " '64: PRESLINEAR CAFÉ SOLÚVEL DELTA FRASCO 200G',\n",
       " '65: INTRANSIT CAFÉ SOLÚVEL DELTA FRASCO 200G',\n",
       " '66: EXPECTED CAFÉ SOLÚVEL DELTA FRASCO 200G',\n",
       " '67: SELLOUT CAFÉ SOLÚVEL DELTA FRASCO 200G',\n",
       " '68: STOCK BEBIDA CEREAIS DELTA C/20%CAFE FR 200G',\n",
       " '69: PRESLINEAR BEBIDA CEREAIS DELTA C/20%CAFE FR 200G',\n",
       " '70: INTRANSIT BEBIDA CEREAIS DELTA C/20%CAFE FR 200G',\n",
       " '71: EXPECTED BEBIDA CEREAIS DELTA C/20%CAFE FR 200G',\n",
       " '72: SELLOUT BEBIDA CEREAIS DELTA C/20%CAFE FR 200G',\n",
       " '73: STK CAFÉ DELTA Q QALIDUS 10CAP',\n",
       " '74: STK CAFÉ DELTA Q MYTHIQ 10CAP',\n",
       " '75: STK CAFÉ DELTA Q QHARACTER 10CAP',\n",
       " '76: STK CAFÉ GINGA 10CAP',\n",
       " '77: STK CAFÉ MOÍDO MÁQUINA CHÁVENA DELTA 250G',\n",
       " '78: STK CAFÉ DELTA RITUAL MU 220G',\n",
       " '79: STK CAFÉ TORRADO RITUAL DELTA GRÃO  500G',\n",
       " '80: STK CAFÉ DELTA MOAGEM UNIVERSAL BRASIL 220G',\n",
       " '81: STK CAFÉ DELTA MOAGEM UNIVERSAL ANGOLA 220G',\n",
       " '82: STK CAFÉ SOLÚVEL DELTA FRASCO 200G',\n",
       " '83: STK BEBIDA CEREAIS DELTA C/20%CAFE FR 200G',\n",
       " '84: BALANCE CAFÉ DELTA Q QALIDUS 10CAP',\n",
       " '85: BALANCE CAFÉ DELTA Q MYTHIQ 10CAP',\n",
       " '86: BALANCE CAFÉ DELTA Q QHARACTER 10CAP',\n",
       " '87: BALANCE CAFÉ GINGA 10CAP',\n",
       " '88: BALANCE CAFÉ MOÍDO MÁQUINA CHÁVENA DELTA 250G',\n",
       " '89: BALANCE CAFÉ DELTA RITUAL MU 220G',\n",
       " '90: BALANCE CAFÉ TORRADO RITUAL DELTA GRÃO  500G',\n",
       " '91: BALANCE CAFÉ DELTA MOAGEM UNIVERSAL BRASIL 220G',\n",
       " '92: BALANCE CAFÉ DELTA MOAGEM UNIVERSAL ANGOLA 220G',\n",
       " '93: BALANCE CAFÉ SOLÚVEL DELTA FRASCO 200G',\n",
       " '94: BALANCE BEBIDA CEREAIS DELTA C/20%CAFE FR 200G',\n",
       " '95: ROTURA CAFÉ DELTA Q QALIDUS 10CAP',\n",
       " '96: ROTURA CAFÉ DELTA Q MYTHIQ 10CAP',\n",
       " '97: ROTURA CAFÉ DELTA Q QHARACTER 10CAP',\n",
       " '98: ROTURA CAFÉ GINGA 10CAP',\n",
       " '99: ROTURA CAFÉ MOÍDO MÁQUINA CHÁVENA DELTA 250G',\n",
       " '100: ROTURA CAFÉ DELTA RITUAL MU 220G',\n",
       " '101: ROTURA CAFÉ TORRADO RITUAL DELTA GRÃO  500G',\n",
       " '102: ROTURA CAFÉ DELTA MOAGEM UNIVERSAL BRASIL 220G',\n",
       " '103: ROTURA CAFÉ DELTA MOAGEM UNIVERSAL ANGOLA 220G',\n",
       " '104: ROTURA CAFÉ SOLÚVEL DELTA FRASCO 200G',\n",
       " '105: ROTURA BEBIDA CEREAIS DELTA C/20%CAFE FR 200G',\n",
       " '106: PRÉ-ROTURA CAFÉ DELTA Q QALIDUS 10CAP',\n",
       " '107: PRÉ-ROTURA CAFÉ DELTA Q MYTHIQ 10CAP',\n",
       " '108: PRÉ-ROTURA CAFÉ DELTA Q QHARACTER 10CAP',\n",
       " '109: PRÉ-ROTURA CAFÉ GINGA 10CAP',\n",
       " '110: PRÉ-ROTURA CAFÉ MOÍDO MÁQUINA CHÁVENA DELTA 250G',\n",
       " '111: PRÉ-ROTURA CAFÉ DELTA RITUAL MU 220G',\n",
       " '112: PRÉ-ROTURA CAFÉ TORRADO RITUAL DELTA GRÃO  500G',\n",
       " '113: PRÉ-ROTURA CAFÉ DELTA MOAGEM UNIVERSAL BRASIL 220G',\n",
       " '114: PRÉ-ROTURA CAFÉ DELTA MOAGEM UNIVERSAL ANGOLA 220G',\n",
       " '115: PRÉ-ROTURA CAFÉ SOLÚVEL DELTA FRASCO 200G',\n",
       " '116: PRÉ-ROTURA BEBIDA CEREAIS DELTA C/20%CAFE FR 200G',\n",
       " '117: SINAL CAFÉ DELTA Q QALIDUS 10CAP',\n",
       " '118: SINAL CAFÉ DELTA Q MYTHIQ 10CAP',\n",
       " '119: SINAL CAFÉ DELTA Q QHARACTER 10CAP',\n",
       " '120: SINAL CAFÉ GINGA 10CAP',\n",
       " '121: SINAL CAFÉ MOÍDO MÁQUINA CHÁVENA DELTA 250G',\n",
       " '122: SINAL CAFÉ DELTA RITUAL MU 220G',\n",
       " '123: SINAL CAFÉ TORRADO RITUAL DELTA GRÃO  500G',\n",
       " '124: SINAL CAFÉ DELTA MOAGEM UNIVERSAL BRASIL 220G',\n",
       " '125: SINAL CAFÉ DELTA MOAGEM UNIVERSAL ANGOLA 220G',\n",
       " '126: SINAL CAFÉ SOLÚVEL DELTA FRASCO 200G',\n",
       " '127: SINAL BEBIDA CEREAIS DELTA C/20%CAFE FR 200G',\n",
       " '128: CICLO CAFÉ DELTA Q QALIDUS 10CAP',\n",
       " '129: CICLO CAFÉ DELTA Q MYTHIQ 10CAP',\n",
       " '130: CICLO CAFÉ DELTA Q QHARACTER 10CAP',\n",
       " '131: CICLO CAFÉ GINGA 10CAP',\n",
       " '132: CICLO CAFÉ MOÍDO MÁQUINA CHÁVENA DELTA 250G',\n",
       " '133: CICLO CAFÉ DELTA RITUAL MU 220G',\n",
       " '134: CICLO CAFÉ TORRADO RITUAL DELTA GRÃO  500G',\n",
       " '135: CICLO CAFÉ DELTA MOAGEM UNIVERSAL BRASIL 220G',\n",
       " '136: CICLO CAFÉ DELTA MOAGEM UNIVERSAL ANGOLA 220G',\n",
       " '137: CICLO CAFÉ SOLÚVEL DELTA FRASCO 200G',\n",
       " '138: CICLO BEBIDA CEREAIS DELTA C/20%CAFE FR 200G',\n",
       " '139: ADEQUAÇÃO CAFÉ DELTA Q QALIDUS 10CAP',\n",
       " '140: ADEQUAÇÃO CAFÉ DELTA Q MYTHIQ 10CAP',\n",
       " '141: ADEQUAÇÃO CAFÉ DELTA Q QHARACTER 10CAP',\n",
       " '142: ADEQUAÇÃO CAFÉ GINGA 10CAP',\n",
       " '143: ADEQUAÇÃO CAFÉ MOÍDO MÁQUINA CHÁVENA DELTA 250G',\n",
       " '144: ADEQUAÇÃO CAFÉ DELTA RITUAL MU 220G',\n",
       " '145: ADEQUAÇÃO CAFÉ TORRADO RITUAL DELTA GRÃO  500G',\n",
       " '146: ADEQUAÇÃO CAFÉ DELTA MOAGEM UNIVERSAL BRASIL 220G',\n",
       " '147: ADEQUAÇÃO CAFÉ DELTA MOAGEM UNIVERSAL ANGOLA 220G',\n",
       " '148: ADEQUAÇÃO CAFÉ SOLÚVEL DELTA FRASCO 200G',\n",
       " '149: ADEQUAÇÃO BEBIDA CEREAIS DELTA C/20%CAFE FR 200G',\n",
       " '150: Dias_para_Rotura CAFÉ DELTA Q QALIDUS 10CAP',\n",
       " '151: Dias_para_Rotura CAFÉ DELTA Q MYTHIQ 10CAP',\n",
       " '152: Dias_para_Rotura CAFÉ DELTA Q QHARACTER 10CAP',\n",
       " '153: Dias_para_Rotura CAFÉ GINGA 10CAP',\n",
       " '154: Dias_para_Rotura CAFÉ MOÍDO MÁQUINA CHÁVENA DELTA 250G',\n",
       " '155: Dias_para_Rotura CAFÉ DELTA RITUAL MU 220G',\n",
       " '156: Dias_para_Rotura CAFÉ TORRADO RITUAL DELTA GRÃO  500G',\n",
       " '157: Dias_para_Rotura CAFÉ DELTA MOAGEM UNIVERSAL BRASIL 220G',\n",
       " '158: Dias_para_Rotura CAFÉ DELTA MOAGEM UNIVERSAL ANGOLA 220G',\n",
       " '159: Dias_para_Rotura CAFÉ SOLÚVEL DELTA FRASCO 200G',\n",
       " '160: Dias_para_Rotura BEBIDA CEREAIS DELTA C/20%CAFE FR 200G',\n",
       " '161: Dias_para_Rotura_Linear CAFÉ DELTA Q QALIDUS 10CAP',\n",
       " '162: Dias_para_Rotura_Linear CAFÉ DELTA Q MYTHIQ 10CAP',\n",
       " '163: Dias_para_Rotura_Linear CAFÉ DELTA Q QHARACTER 10CAP',\n",
       " '164: Dias_para_Rotura_Linear CAFÉ GINGA 10CAP',\n",
       " '165: Dias_para_Rotura_Linear CAFÉ MOÍDO MÁQUINA CHÁVENA DELTA 250G',\n",
       " '166: Dias_para_Rotura_Linear CAFÉ DELTA RITUAL MU 220G',\n",
       " '167: Dias_para_Rotura_Linear CAFÉ TORRADO RITUAL DELTA GRÃO  500G',\n",
       " '168: Dias_para_Rotura_Linear CAFÉ DELTA MOAGEM UNIVERSAL BRASIL 220G',\n",
       " '169: Dias_para_Rotura_Linear CAFÉ DELTA MOAGEM UNIVERSAL ANGOLA 220G',\n",
       " '170: Dias_para_Rotura_Linear CAFÉ SOLÚVEL DELTA FRASCO 200G',\n",
       " '171: Dias_para_Rotura_Linear BEBIDA CEREAIS DELTA C/20%CAFE FR 200G',\n",
       " '172: Num_Produtos_Expostos',\n",
       " '173: Ritual',\n",
       " '174: Ginga']"
      ]
     },
     "execution_count": 22,
     "metadata": {},
     "output_type": "execute_result"
    }
   ],
   "source": [
    "df_columns = df_Ficheiro.columns.tolist()\n",
    "indexed_columns = [f\"{index}: {column}\" for index, column in enumerate(df_columns)]\n",
    "indexed_columns"
   ]
  },
  {
   "cell_type": "code",
   "execution_count": 21,
   "metadata": {},
   "outputs": [],
   "source": [
    "escrever_excel(df_Ficheiro, \"FundidoFinal\")"
   ]
  },
  {
   "cell_type": "markdown",
   "metadata": {},
   "source": [
    "# Tabelas"
   ]
  },
  {
   "cell_type": "markdown",
   "metadata": {},
   "source": [
    "# Tirar produtos não contratados"
   ]
  },
  {
   "cell_type": "code",
   "execution_count": 14,
   "metadata": {
    "scrolled": true
   },
   "outputs": [],
   "source": [
    "df_Ficheiro[\"CAFÉ GINGA 10CAP\"] = np.where(df_Ficheiro[\"Ginga\"]==0, np.nan, df_Ficheiro[\"CAFÉ GINGA 10CAP\"])\n",
    "df_Ficheiro[\"CAFÉ TORRADO RITUAL DELTA GRÃO  500G\"] = np.where(df_Ficheiro[\"Ritual\"]==0, np.nan, df_Ficheiro[\"CAFÉ TORRADO RITUAL DELTA GRÃO  500G\"])"
   ]
  },
  {
   "cell_type": "code",
   "execution_count": 167,
   "metadata": {
    "scrolled": true
   },
   "outputs": [
    {
     "data": {
      "text/plain": [
       "19    NaN\n",
       "30    NaN\n",
       "32    NaN\n",
       "35    NaN\n",
       "37    NaN\n",
       "38    NaN\n",
       "39    NaN\n",
       "40    NaN\n",
       "41    NaN\n",
       "42    NaN\n",
       "43    NaN\n",
       "44    NaN\n",
       "45    NaN\n",
       "46    NaN\n",
       "48    NaN\n",
       "50    NaN\n",
       "51    NaN\n",
       "52    NaN\n",
       "53    NaN\n",
       "54    NaN\n",
       "55    NaN\n",
       "60    NaN\n",
       "62    NaN\n",
       "64    NaN\n",
       "67    NaN\n",
       "71    NaN\n",
       "72    NaN\n",
       "73    NaN\n",
       "74    NaN\n",
       "77    NaN\n",
       "80    NaN\n",
       "82    NaN\n",
       "83    NaN\n",
       "85    NaN\n",
       "86    NaN\n",
       "89    NaN\n",
       "91    NaN\n",
       "92    NaN\n",
       "93    NaN\n",
       "95    NaN\n",
       "96    NaN\n",
       "98    NaN\n",
       "99    NaN\n",
       "107   NaN\n",
       "109   NaN\n",
       "112   NaN\n",
       "115   NaN\n",
       "117   NaN\n",
       "119   NaN\n",
       "124   NaN\n",
       "Name: CAFÉ TORRADO RITUAL DELTA GRÃO  500G, dtype: float64"
      ]
     },
     "execution_count": 167,
     "metadata": {},
     "output_type": "execute_result"
    }
   ],
   "source": [
    "#df_Ficheiro[[\"CAFÉ TORRADO RITUAL DELTA GRÃO  500G\",\"STOCK CAFÉ TORRADO RITUAL DELTA GRÃO  500G\",\"CAFÉ GINGA 10CAP\",\"STOCK CAFÉ GINGA 10CAP\"]][df_Ficheiro[\"CAFÉ TORRADO RITUAL DELTA GRÃO  500G\"].isna()]\n",
    "\n"
   ]
  },
  {
   "cell_type": "markdown",
   "metadata": {},
   "source": [
    "# - <span style=\"color:green\">Classic:</span>  Proporção de presença por produto"
   ]
  },
  {
   "cell_type": "code",
   "execution_count": 6,
   "metadata": {},
   "outputs": [],
   "source": [
    "# Média tirando os missing values\n",
    "df_Med = df_Ficheiro[produtos].mean(numeric_only=True)#.groupby('Altura_do_Dia').mean()\n",
    "\n",
    "# Passar para dataframe\n",
    "df_Classic = df_Med.to_frame()\n",
    "\n",
    "# Mudanças para ficar legível\n",
    "df_Classic = df_Classic.reset_index()\n",
    "df_Classic = df_Classic.rename(columns={'index': 'Produto', 0: 'Frequência'})"
   ]
  },
  {
   "cell_type": "code",
   "execution_count": 7,
   "metadata": {},
   "outputs": [
    {
     "name": "stdout",
     "output_type": "stream",
     "text": [
      "88.0\n",
      "97\n",
      "0.9072164948453608\n",
      "0.9072164948453608\n"
     ]
    }
   ],
   "source": [
    "#Ginga\n",
    "print(df_Ficheiro[\"CAFÉ GINGA 10CAP\"].sum())\n",
    "print(df_Ficheiro[\"CAFÉ GINGA 10CAP\"].count())\n",
    "print(88/97)\n",
    "print(df_Ficheiro[\"CAFÉ GINGA 10CAP\"].mean(numeric_only=True))"
   ]
  },
  {
   "cell_type": "code",
   "execution_count": 8,
   "metadata": {},
   "outputs": [
    {
     "name": "stdout",
     "output_type": "stream",
     "text": [
      "68.0\n",
      "77\n",
      "0.8831168831168831\n"
     ]
    }
   ],
   "source": [
    "#Ritual\n",
    "print(df_Ficheiro[\"CAFÉ TORRADO RITUAL DELTA GRÃO  500G\"].sum())\n",
    "print(df_Ficheiro[\"CAFÉ TORRADO RITUAL DELTA GRÃO  500G\"].count())\n",
    "print(68/77)"
   ]
  },
  {
   "cell_type": "code",
   "execution_count": 9,
   "metadata": {},
   "outputs": [
    {
     "data": {
      "text/html": [
       "<div>\n",
       "<style scoped>\n",
       "    .dataframe tbody tr th:only-of-type {\n",
       "        vertical-align: middle;\n",
       "    }\n",
       "\n",
       "    .dataframe tbody tr th {\n",
       "        vertical-align: top;\n",
       "    }\n",
       "\n",
       "    .dataframe thead th {\n",
       "        text-align: right;\n",
       "    }\n",
       "</style>\n",
       "<table border=\"1\" class=\"dataframe\">\n",
       "  <thead>\n",
       "    <tr style=\"text-align: right;\">\n",
       "      <th></th>\n",
       "      <th>Produto</th>\n",
       "      <th>Frequência</th>\n",
       "    </tr>\n",
       "  </thead>\n",
       "  <tbody>\n",
       "    <tr>\n",
       "      <th>0</th>\n",
       "      <td>CAFÉ DELTA Q QALIDUS 10CAP</td>\n",
       "      <td>0.944882</td>\n",
       "    </tr>\n",
       "    <tr>\n",
       "      <th>1</th>\n",
       "      <td>CAFÉ DELTA Q MYTHIQ 10CAP</td>\n",
       "      <td>0.921260</td>\n",
       "    </tr>\n",
       "    <tr>\n",
       "      <th>2</th>\n",
       "      <td>CAFÉ DELTA Q QHARACTER 10CAP</td>\n",
       "      <td>0.976378</td>\n",
       "    </tr>\n",
       "    <tr>\n",
       "      <th>3</th>\n",
       "      <td>CAFÉ GINGA 10CAP</td>\n",
       "      <td>0.907216</td>\n",
       "    </tr>\n",
       "    <tr>\n",
       "      <th>4</th>\n",
       "      <td>CAFÉ MOÍDO MÁQUINA CHÁVENA DELTA 250G</td>\n",
       "      <td>0.960630</td>\n",
       "    </tr>\n",
       "    <tr>\n",
       "      <th>5</th>\n",
       "      <td>CAFÉ DELTA RITUAL MU 220G</td>\n",
       "      <td>0.850394</td>\n",
       "    </tr>\n",
       "    <tr>\n",
       "      <th>6</th>\n",
       "      <td>CAFÉ TORRADO RITUAL DELTA GRÃO  500G</td>\n",
       "      <td>0.883117</td>\n",
       "    </tr>\n",
       "    <tr>\n",
       "      <th>7</th>\n",
       "      <td>CAFÉ DELTA MOAGEM UNIVERSAL BRASIL 220G</td>\n",
       "      <td>0.952756</td>\n",
       "    </tr>\n",
       "    <tr>\n",
       "      <th>8</th>\n",
       "      <td>CAFÉ DELTA MOAGEM UNIVERSAL ANGOLA 220G</td>\n",
       "      <td>0.968504</td>\n",
       "    </tr>\n",
       "    <tr>\n",
       "      <th>9</th>\n",
       "      <td>CAFÉ SOLÚVEL DELTA FRASCO 200G</td>\n",
       "      <td>0.968504</td>\n",
       "    </tr>\n",
       "    <tr>\n",
       "      <th>10</th>\n",
       "      <td>BEBIDA CEREAIS DELTA C/20%CAFE FR 200G</td>\n",
       "      <td>0.968504</td>\n",
       "    </tr>\n",
       "  </tbody>\n",
       "</table>\n",
       "</div>"
      ],
      "text/plain": [
       "                                    Produto  Frequência\n",
       "0                CAFÉ DELTA Q QALIDUS 10CAP    0.944882\n",
       "1                 CAFÉ DELTA Q MYTHIQ 10CAP    0.921260\n",
       "2              CAFÉ DELTA Q QHARACTER 10CAP    0.976378\n",
       "3                          CAFÉ GINGA 10CAP    0.907216\n",
       "4     CAFÉ MOÍDO MÁQUINA CHÁVENA DELTA 250G    0.960630\n",
       "5                 CAFÉ DELTA RITUAL MU 220G    0.850394\n",
       "6      CAFÉ TORRADO RITUAL DELTA GRÃO  500G    0.883117\n",
       "7   CAFÉ DELTA MOAGEM UNIVERSAL BRASIL 220G    0.952756\n",
       "8   CAFÉ DELTA MOAGEM UNIVERSAL ANGOLA 220G    0.968504\n",
       "9            CAFÉ SOLÚVEL DELTA FRASCO 200G    0.968504\n",
       "10   BEBIDA CEREAIS DELTA C/20%CAFE FR 200G    0.968504"
      ]
     },
     "execution_count": 9,
     "metadata": {},
     "output_type": "execute_result"
    }
   ],
   "source": [
    "df_Classic"
   ]
  },
  {
   "cell_type": "markdown",
   "metadata": {},
   "source": [
    "- ###  <span style=\"color:BLUE\">Com e sem Reposição</span>"
   ]
  },
  {
   "cell_type": "code",
   "execution_count": 120,
   "metadata": {},
   "outputs": [],
   "source": [
    "# Definir se os produtos têm reposição\n",
    "\n",
    "# Sim\n",
    "df_ComRep = df_Ficheiro[df_Ficheiro[\"Reposição\"] == 1]\n",
    "\n",
    "# Não\n",
    "df_SemRep = df_Ficheiro[df_Ficheiro[\"Reposição\"] == 0]"
   ]
  },
  {
   "cell_type": "markdown",
   "metadata": {},
   "source": [
    ">> <font color=blue>Com</font>"
   ]
  },
  {
   "cell_type": "code",
   "execution_count": 121,
   "metadata": {},
   "outputs": [],
   "source": [
    "# Proporção\n",
    "serie_MedRep = df_ComRep[produtos].mean(numeric_only=True)\n",
    "\n",
    "# Para df\n",
    "df_Classic_ComRepo = serie_MedRep.to_frame()\n",
    "\n",
    "# Mudanças para ficar legível\n",
    "df_Classic_ComRepo = df_Classic_ComRepo.reset_index()\n",
    "df_Classic_ComRepo = df_Classic_ComRepo.rename(columns={'index': 'Produto', 0: 'Frequência'})"
   ]
  },
  {
   "cell_type": "markdown",
   "metadata": {},
   "source": [
    ">> <font color=blue>Sem</font>"
   ]
  },
  {
   "cell_type": "code",
   "execution_count": 122,
   "metadata": {},
   "outputs": [],
   "source": [
    "# Proporção\n",
    "serie_MedSemRep = df_SemRep[produtos].mean(numeric_only=True)\n",
    "\n",
    "# Proporção\n",
    "df_Classic_SemRepo = serie_MedSemRep.to_frame()\n",
    "\n",
    "# Mudanças para ficar legível\n",
    "df_Classic_SemRepo = df_Classic_SemRepo.reset_index()\n",
    "df_Classic_SemRepo = df_Classic_SemRepo.rename(columns={'index': 'Produto', 0: 'Frequência'})"
   ]
  },
  {
   "cell_type": "markdown",
   "metadata": {},
   "source": [
    "# - <font color=green> Final</font>: Proporção de presença por loja"
   ]
  },
  {
   "cell_type": "code",
   "execution_count": 123,
   "metadata": {},
   "outputs": [],
   "source": [
    "# Criar coluna com o número dos produtos em causa presentes no instante\n",
    "\n",
    "df_Ficheiro[\"Num_Produtos\"] = df_Ficheiro[produtos].sum(axis=1)\n",
    "\n",
    "#df_Ficheiro.loc[(df_Ficheiro[\"Num_Produtos\"] == 0) & (df_Ficheiro[produtos[1]].isna()), \"Num_Produtos\"] = np.nan"
   ]
  },
  {
   "cell_type": "code",
   "execution_count": 124,
   "metadata": {},
   "outputs": [],
   "source": [
    "df_Ficheiro[\"Num_Produtos\"].unique()\n",
    "df_Ficheiro[\"Produtos_Contrato\"] = df_Ficheiro[produtos].count(axis=1)"
   ]
  },
  {
   "cell_type": "code",
   "execution_count": 125,
   "metadata": {},
   "outputs": [
    {
     "data": {
      "text/plain": [
       "array([11, 10,  9], dtype=int64)"
      ]
     },
     "execution_count": 125,
     "metadata": {},
     "output_type": "execute_result"
    }
   ],
   "source": [
    "df_Ficheiro[\"Produtos_Contrato\"].unique()"
   ]
  },
  {
   "cell_type": "code",
   "execution_count": 126,
   "metadata": {},
   "outputs": [],
   "source": [
    "#com reposição\n",
    "df_Ficheiro[\"Num_ProdutosRep\"] = np.nan\n",
    "df_Ficheiro.loc[df_Ficheiro['Reposição'] == 1, 'Num_ProdutosRep'] = df_Ficheiro[\"Num_Produtos\"]\n",
    "\n",
    "\n",
    "#sem reposição\n",
    "df_Ficheiro[\"Num_ProdutosNRep\"] = np.nan\n",
    "df_Ficheiro.loc[df_Ficheiro['Reposição'] == 0, 'Num_ProdutosNRep'] = df_Ficheiro[\"Num_Produtos\"]"
   ]
  },
  {
   "cell_type": "code",
   "execution_count": 127,
   "metadata": {},
   "outputs": [],
   "source": [
    "df_NumProd=df_Ficheiro[[\"Loja\",\"Num_Produtos\",\"Num_ProdutosRep\",\"Num_ProdutosNRep\"]].copy()\n",
    "df_NumProd[\"Num_Produtos\"] = (df_NumProd[\"Num_Produtos\"] / df_Ficheiro[\"Produtos_Contrato\"])*100\n",
    "df_NumProd[\"Num_ProdutosRep\"] = (df_NumProd[\"Num_ProdutosRep\"] / df_Ficheiro[\"Produtos_Contrato\"])*100\n",
    "df_NumProd[\"Num_ProdutosNRep\"] = (df_NumProd[\"Num_ProdutosNRep\"] / df_Ficheiro[\"Produtos_Contrato\"])*100"
   ]
  },
  {
   "cell_type": "code",
   "execution_count": 178,
   "metadata": {},
   "outputs": [
    {
     "data": {
      "text/plain": [
       "Loja                72\n",
       "Num_Produtos        72\n",
       "Num_ProdutosRep     12\n",
       "Num_ProdutosNRep    60\n",
       "dtype: int64"
      ]
     },
     "execution_count": 178,
     "metadata": {},
     "output_type": "execute_result"
    }
   ],
   "source": [
    "df_NumProd[df_NumProd[\"Num_Produtos\"]==100].count()"
   ]
  },
  {
   "cell_type": "code",
   "execution_count": 179,
   "metadata": {},
   "outputs": [
    {
     "data": {
      "text/plain": [
       "0.5669291338582677"
      ]
     },
     "execution_count": 179,
     "metadata": {},
     "output_type": "execute_result"
    }
   ],
   "source": [
    "72/127"
   ]
  },
  {
   "cell_type": "markdown",
   "metadata": {},
   "source": [
    "# - <font color=green> Roturas</font>: Proporção de roturas por produto"
   ]
  },
  {
   "cell_type": "code",
   "execution_count": 130,
   "metadata": {},
   "outputs": [],
   "source": [
    "df_RotMed = df_Ficheiro[[\"ROTURA %s\" % produto for produto in produtos]].mean(numeric_only=True)\n",
    "\n",
    "# Passar para dataframe\n",
    "df_Rot = df_RotMed.to_frame()\n",
    "df_Rot = df_Rot.reset_index()\n",
    "df_Rot = df_Rot.rename(columns={'index': 'Produto', 0: 'Frequência'})\n",
    "df_Rot[\"Frequência\"] = df_Rot[\"Frequência\"]*100"
   ]
  },
  {
   "cell_type": "markdown",
   "metadata": {},
   "source": [
    "# Escrever"
   ]
  },
  {
   "cell_type": "markdown",
   "metadata": {},
   "source": [
    "- Classic"
   ]
  },
  {
   "cell_type": "code",
   "execution_count": 171,
   "metadata": {},
   "outputs": [],
   "source": [
    "# Normal\n",
    "escrever_excel(df_Classic, \"OUT_5_med1\", False)\n",
    "\n",
    "# Com Reposição\n",
    "escrever_excel(df_Classic_ComRepo, \"OUT_5_med_reposto1\", False)\n",
    "\n",
    "# Sem Reposição\n",
    "escrever_excel(df_Classic_SemRepo, \"OUT_5_med_naoreposto1\", False)"
   ]
  },
  {
   "cell_type": "markdown",
   "metadata": {},
   "source": [
    "- Roturas"
   ]
  },
  {
   "cell_type": "code",
   "execution_count": 172,
   "metadata": {},
   "outputs": [],
   "source": [
    "escrever_excel(df_Rot, \"OUT_5_Rotura1\", False)"
   ]
  },
  {
   "cell_type": "markdown",
   "metadata": {},
   "source": [
    "- Número de produtos"
   ]
  },
  {
   "cell_type": "code",
   "execution_count": 173,
   "metadata": {},
   "outputs": [],
   "source": [
    "escrever_excel(df_NumProd, \"OUT_5_NumProdutos1\", False)"
   ]
  }
 ],
 "metadata": {
  "kernelspec": {
   "display_name": "Python 3 (ipykernel)",
   "language": "python",
   "name": "python3"
  },
  "language_info": {
   "codemirror_mode": {
    "name": "ipython",
    "version": 3
   },
   "file_extension": ".py",
   "mimetype": "text/x-python",
   "name": "python",
   "nbconvert_exporter": "python",
   "pygments_lexer": "ipython3",
   "version": "3.10.9"
  }
 },
 "nbformat": 4,
 "nbformat_minor": 2
}
